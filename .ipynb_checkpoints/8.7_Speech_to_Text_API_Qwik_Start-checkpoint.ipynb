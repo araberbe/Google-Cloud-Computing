{
  "cells": [
    {
      "cell_type": "markdown",
      "metadata": {},
      "source": [
        "# 🎙️ Laboratorio: Inicio Rápido con la API Speech-to-Text\n",
        "\n",
        "**Google Cloud Speech-to-Text API** es un servicio que convierte audio en texto mediante técnicas avanzadas de reconocimiento de voz. Este laboratorio te guiará a través de la creación de una clave de API y el uso de la API para transcribir un archivo de audio alojado en **Cloud Storage**.\n",
        "\n",
        "💡 **Beneficio empresarial**: La **Speech-to-Text API** permite a las empresas transcribir automáticamente grabaciones de reuniones, entrevistas o comunicaciones con clientes, agilizando procesos como auditorías, análisis de interacciones o documentación, lo que reduce costos y mejora la eficiencia.\n",
        "\n",
        "Para más información, consulta la [Documentación de Google Cloud Speech-to-Text](https://cloud.google.com/speech-to-text/docs).\n",
        "\n",
        "## 📚 Objetivos\n",
        "- ✔️ Crear una clave de API.\n",
        "- ✔️ Hacer una solicitud a la **Speech-to-Text API**.\n",
        "- ✔️ Obtener y analizar el resultado de la transcripción."
      ]
    },
    {
      "cell_type": "markdown",
      "metadata": {},
      "source": [
        "## 🛠️ Tarea 1: Crear una clave de API\n",
        "\n",
        "En esta tarea, generarás una clave de API para autenticar solicitudes a la **Speech-to-Text API** y te conectarás a una máquina virtual mediante SSH.\n",
        "\n",
        "### Paso 1.1: Crear la clave de API\n",
        "\n",
        "1. Ve a **Navigation menu** ☰ > **APIs & Services** > **Credentials**.\n",
        "2. Haz clic en **Create Credentials** > selecciona **API Key**.\n",
        "3. Copia la clave generada.\n",
        "\n",
        "**Explicación**:\n",
        "- La clave de API permite autenticar solicitudes a la **Speech-to-Text API**.\n",
        "\n",
        "💡 **Contexto empresarial**: Crear una clave es como generar una contraseña para acceder a un sistema contable que procesa grabaciones financieras."
      ]
    },
    {
      "cell_type": "markdown",
      "metadata": {},
      "source": [
        "### Paso 1.2: Conectarse por SSH\n",
        "\n",
        "1. Ve a **Navigation menu** ☰ > **Compute Engine** > **VM Instances**.\n",
        "2. Haz clic en **SSH** junto a la instancia para abrir una terminal interactiva.\n",
        "\n",
        "**Explicación**:\n",
        "- La conexión SSH te permite ejecutar comandos en una máquina virtual en la nube.\n",
        "\n",
        "💡 **Contexto empresarial**: Esto es como acceder a un servidor remoto para procesar documentos o grabaciones."
      ]
    },
    {
      "cell_type": "markdown",
      "metadata": {},
      "source": [
        "### Paso 1.3: Guardar la clave como variable de entorno\n",
        "\n",
        "1. En la terminal SSH, ejecuta:"
      ]
    },
    {
      "cell_type": "code",
      "metadata": {},
      "source": [
        "export API_KEY=<TU_API_KEY>"
      ],
      "execution_count": null,
      "outputs": []
    },
    {
      "cell_type": "markdown",
      "metadata": {},
      "source": [
        "**Desglose del comando**:\n",
        "- `export`: Crea una variable de entorno temporal.\n",
        "- `API_KEY`: Nombre de la variable.\n",
        "- `<TU_API_KEY>`: Reemplaza con la clave de API copiada.\n",
        "\n",
        "**Explicación**:\n",
        "- Almacena la clave para usarla en solicitudes posteriores sin necesidad de pegarla manualmente.\n",
        "\n",
        "💡 **Contexto empresarial**: Esto es como guardar las credenciales de un sistema contable para un acceso rápido y seguro."
      ]
    },
    {
      "cell_type": "markdown",
      "metadata": {},
      "source": [
        "## 🛠️ Tarea 2: Crear la solicitud a la API\n",
        "\n",
        "En esta tarea, crearás un archivo JSON con la configuración para enviar un archivo de audio a la **Speech-to-Text API**.\n",
        "\n",
        "### Paso 2.1: Crear el archivo de solicitud\n",
        "\n",
        "1. En la terminal SSH, crea el archivo:"
      ]
    },
    {
      "cell_type": "code",
      "metadata": {},
      "source": [
        "touch request.json"
      ],
      "execution_count": null,
      "outputs": []
    },
    {
      "cell_type": "markdown",
      "metadata": {},
      "source": [
        "2. Abre el archivo para editar:"
      ]
    },
    {
      "cell_type": "code",
      "metadata": {},
      "source": [
        "nano request.json"
      ],
      "execution_count": null,
      "outputs": []
    },
    {
      "cell_type": "markdown",
      "metadata": {},
      "source": [
        "3. Pega el siguiente contenido:"
      ]
    },
    {
      "cell_type": "code",
      "metadata": {},
      "source": [
        "{\n",
        "  \"config\": {\n",
        "    \"encoding\": \"FLAC\",\n",
        "    \"languageCode\": \"en-US\"\n",
        "  },\n",
        "  \"audio\": {\n",
        "    \"uri\": \"gs://cloud-samples-tests/speech/brooklyn.flac\"\n",
        "  }\n",
        "}"
      ],
      "execution_count": null,
      "outputs": []
    },
    {
      "cell_type": "markdown",
      "metadata": {},
      "source": [
        "4. Guarda el archivo:\n",
        "   - Presiona **Ctrl + X**, luego **Y**, y finalmente **Enter**.\n",
        "\n",
        "**Desglose del archivo JSON**:\n",
        "| **Objeto** | **Descripción** |\n",
        "|------------|-----------------|\n",
        "| `config` | Configuración para interpretar el audio: <br> - `encoding`: Tipo de compresión del audio (`FLAC`). <br> - `languageCode`: Idioma hablado (`en-US` para inglés estadounidense). |\n",
        "| `audio` | URL del archivo de audio en **Cloud Storage** (`gs://cloud-samples-tests/speech/brooklyn.flac`). |\n",
        "\n",
        "**Explicación**:\n",
        "- El archivo `request.json` define cómo la API debe procesar el audio y la ubicación del archivo a transcribir.\n",
        "\n",
        "💡 **Contexto empresarial**: Esto es como preparar un formulario con instrucciones para transcribir una grabación de una reunión financiera."
      ]
    },
    {
      "cell_type": "markdown",
      "metadata": {},
      "source": [
        "## 🛠️ Tarea 3: Llamar a la API de Speech-to-Text\n",
        "\n",
        "En esta tarea, enviarás la solicitud a la API y guardarás la transcripción.\n",
        "\n",
        "### Paso 3.1: Ejecutar la solicitud\n",
        "\n",
        "1. En la terminal SSH, ejecuta:"
      ]
    },
    {
      "cell_type": "code",
      "metadata": {},
      "source": [
        "curl -s -X POST -H \"Content-Type: application/json\" --data-binary @request.json \\\n",
        "\"https://speech.googleapis.com/v1/speech:recognize?key=${API_KEY}\""
      ],
      "execution_count": null,
      "outputs": []
    },
    {
      "cell_type": "markdown",
      "metadata": {},
      "source": [
        "**Desglose del comando**:\n",
        "| **Componente** | **Significado** |\n",
        "|---------------|-----------------|\n",
        "| `curl` | Herramienta para hacer solicitudes a URLs desde la terminal. |\n",
        "| `-s` | Ejecuta en modo silencioso (sin mostrar progreso). |\n",
        "| `-X POST` | Indica una solicitud de tipo POST. |\n",
        "| `-H \"Content-Type: application/json\"` | Especifica que el contenido es JSON. |\n",
        "| `--data-binary @request.json` | Envía el contenido del archivo `request.json`. |\n",
        "| `\"https://speech.googleapis.com/v1/speech:recognize?key=${API_KEY}\"` | Endpoint de la API con la clave de autenticación. |\n",
        "\n",
        "**Explicación**:\n",
        "- Envía el archivo de audio a la API para su transcripción.\n",
        "\n",
        "**Resultado esperado**:\n",
        "```json\n",
        "{\n",
        "  \"results\": [\n",
        "    {\n",
        "      \"alternatives\": [\n",
        "        {\n",
        "          \"transcript\": \"how old is the Brooklyn Bridge\",\n",
        "          \"confidence\": 0.98267895\n",
        "        }\n",
        "      ]\n",
        "    }\n",
        "  ]\n",
        "}\n",
        "```\n",
        "\n",
        "**Desglose del resultado**:\n",
        "| **Campo** | **Significado** |\n",
        "|-----------|-----------------|\n",
        "| `transcript` | Transcripción en texto del audio. |\n",
        "| `confidence` | Nivel de confianza (0 a 1) de la precisión de la transcripción. |\n",
        "\n",
        "💡 **Contexto empresarial**: Esto es como recibir un informe que transcribe una grabación de una reunión financiera, con un indicador de precisión."
      ]
    },
    {
      "cell_type": "markdown",
      "metadata": {},
      "source": [
        "### Paso 3.2: Guardar la respuesta en un archivo\n",
        "\n",
        "1. Ejecuta:"
      ]
    },
    {
      "cell_type": "code",
      "metadata": {},
      "source": [
        "curl -s -X POST -H \"Content-Type: application/json\" --data-binary @request.json \\\n",
        "\"https://speech.googleapis.com/v1/speech:recognize?key=${API_KEY}\" > result.json"
      ],
      "execution_count": null,
      "outputs": []
    },
    {
      "cell_type": "markdown",
      "metadata": {},
      "source": [
        "**Explicación**:\n",
        "- Guarda la respuesta de la API en un archivo `result.json` para su posterior análisis.\n",
        "\n",
        "💡 **Contexto empresarial**: Esto es como archivar un informe financiero transcrito para auditorías o revisiones futuras."
      ]
    },
    {
      "cell_type": "markdown",
      "metadata": {},
      "source": [
        "## 🚀 Resumen\n",
        "\n",
        "| **Concepto** | **Explicación contable simplificada** |\n",
        "|--------------|--------------------------------------|\n",
        "| **Speech-to-Text API** | Herramienta que convierte grabaciones de reuniones o entrevistas en texto, facilitando la documentación. |\n",
        "| **Clave de API** | Credencial para acceder de forma segura al sistema de transcripción. |\n",
        "| **Transcripción** | Proceso que transforma audio en texto, como convertir una reunión financiera en un informe escrito. |\n",
        "| **Cloud Storage** | Almacén digital para guardar archivos de audio o resultados de transcripciones. |\n",
        "\n",
        "💡 **Conclusión empresarial**: La **Speech-to-Text API** automatiza la transcripción de grabaciones, como reuniones financieras o interacciones con clientes, reduciendo el tiempo de documentación manual, mejorando la precisión y optimizando costos operativos.\n",
        "\n",
        "Para más información, consulta la [Documentación de Google Cloud Speech-to-Text](https://cloud.google.com/speech-to-text/docs)."
      ]
    }
  ],
  "metadata": {
    "kernelspec": {
      "display_name": "Bash",
      "language": "bash",
      "name": "bash"
    },
    "language_info": {
      "name": "bash"
    }
  },
  "nbformat": 4,
  "nbformat_minor": 5
}