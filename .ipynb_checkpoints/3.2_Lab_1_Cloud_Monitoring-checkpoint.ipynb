{
 "cells": [
  {
   "cell_type": "markdown",
   "id": "b87f652b",
   "metadata": {},
   "source": [
    "# 📌 Cloud Monitoring: Qwik Start\n",
    "\n",
    "## 🌐 Introducción General\n",
    "**Cloud Monitoring** es una herramienta clave de **Google Cloud** que proporciona visibilidad sobre el rendimiento, disponibilidad y estado de aplicaciones en la nube. Recopila métricas, eventos y metadatos de servicios como **Google Cloud**, **AWS**, sondas de tiempo de actividad (**uptime checks**), y aplicaciones de terceros (Cassandra, Nginx, Apache, Elasticsearch). Los datos se visualizan en **dashboards**, gráficos y alertas, con integraciones a herramientas colaborativas como **Slack** o **PagerDuty**.\n",
    "\n",
    "💡 **Contexto empresarial**: Similar a auditar en tiempo real un sistema contable para detectar errores, garantizar disponibilidad y optimizar procesos financieros.\n",
    "\n",
    "Este laboratorio te permite:\n",
    "- Monitorear una máquina virtual (**VM**) en **Compute Engine**.\n",
    "- Instalar agentes de monitoreo y registro (**logging**).\n",
    "- Configurar verificaciones de tiempo de actividad (**uptime checks**).\n",
    "- Crear políticas de alertas.\n",
    "- Visualizar datos en **dashboards** y analizar **logs**.\n",
    "\n",
    "Para más información, consulta la [Documentación de Cloud Monitoring](https://cloud.google.com/monitoring/docs) y [Documentación de Cloud Logging](https://cloud.google.com/logging/docs)."
   ]
  },
  {
   "cell_type": "markdown",
   "id": "e697a06b",
   "metadata": {},
   "source": [
    "## 🎯 Objetivos del Laboratorio\n",
    "- Monitorear una instancia de **Compute Engine**.\n",
    "- Instalar agentes de **Cloud Monitoring** y **Cloud Logging**.\n",
    "- Crear una verificación de tiempo de actividad (**uptime check**).\n",
    "- Configurar alertas para métricas específicas.\n",
    "- Crear un **dashboard** personalizado y analizar **logs**.\n",
    "\n",
    "💡 **Beneficio empresarial**: Garantizar la disponibilidad de sistemas contables y detectar anomalías (ej. picos de tráfico que afecten el rendimiento de un ERP)."
   ]
  },
  {
   "cell_type": "markdown",
   "id": "f8960280",
   "metadata": {},
   "source": [
    "## 🔧 Requisitos Previos y Configuración\n",
    "\n",
    "### Requisitos\n",
    "- Usa un navegador web (preferentemente **Chrome** en modo incógnito).\n",
    "- Utiliza una cuenta temporal de **Google Cloud** (evita cuentas personales para no incurrir en costos).\n",
    "\n",
    "### Pasos Iniciales\n",
    "1. Haz clic en **Start Lab** en la plataforma del laboratorio.\n",
    "2. Inicia sesión en la consola de **Google Cloud** con las credenciales temporales.\n",
    "3. Acepta los términos sin configurar opciones de recuperación.\n",
    "\n",
    "### Activación de Cloud Shell\n",
    "**Cloud Shell** es una máquina virtual con herramientas de desarrollo y 5 GB de almacenamiento, accesible vía línea de comandos.\n",
    "\n",
    "#### Pasos\n",
    "- Haz clic en **Activate Cloud Shell** en la consola.\n",
    "- Autoriza el uso de credenciales.\n",
    "\n",
    "#### Comandos para Configuración\n",
    "Verifica la cuenta activa y el ID del proyecto:"
   ]
  },
  {
   "cell_type": "code",
   "execution_count": null,
   "id": "890ee56f",
   "metadata": {},
   "outputs": [],
   "source": [
    "gcloud auth list\n",
    "gcloud config list project"
   ]
  },
  {
   "cell_type": "markdown",
   "id": "0a902f51",
   "metadata": {},
   "source": [
    "💡 **Propósito**: Confirma que estás usando la cuenta y proyecto correctos, similar a verificar el libro contable antes de registrar transacciones.\n",
    "\n",
    "#### Configurar Zona y Región\n",
    "Establece la zona y región asignadas por el laboratorio (reemplaza `ZONE` y `REGION` con los valores específicos, ej. `us-central1-a`, `us-central1`):"
   ]
  },
  {
   "cell_type": "code",
   "execution_count": null,
   "id": "86c97bd0",
   "metadata": {},
   "outputs": [],
   "source": [
    "gcloud config set compute/zone \"ZONE\"\n",
    "export ZONE=$(gcloud config get compute/zone)\n",
    "gcloud config set compute/region \"REGION\"\n",
    "export REGION=$(gcloud config get compute/region)"
   ]
  },
  {
   "cell_type": "markdown",
   "id": "25f2e76d",
   "metadata": {},
   "source": [
    "💡 **Beneficio empresarial**: Configurar la región correcta reduce latencia, como elegir una sucursal cercana para procesar transacciones rápidamente.\n",
    "\n",
    "Para más información, consulta la [Documentación de Cloud Shell](https://cloud.google.com/shell/docs)."
   ]
  },
  {
   "cell_type": "markdown",
   "id": "c509a31d",
   "metadata": {},
   "source": [
    "## 🚀 Tarea 1: Crear una Instancia de Compute Engine\n",
    "\n",
    "### Pasos\n",
    "1. Ve a **Compute Engine > VM Instances > Create Instance**.\n",
    "2. Configura la instancia con:\n",
    "   - **Name**: `lamp-1-vm`\n",
    "   - **Region/Zone**: Asignadas por el laboratorio\n",
    "   - **Series**: E2\n",
    "   - **Machine type**: `e2-medium`\n",
    "   - **Boot disk**: Debian GNU/Linux 12 (bookworm)\n",
    "   - **Firewall**: Allow HTTP traffic\n",
    "\n",
    "💡 **Contexto empresarial**: Crear una VM es como configurar un servidor para un sistema contable, asegurando que esté listo para procesar datos financieros."
   ]
  },
  {
   "cell_type": "markdown",
   "id": "d7e8db5e",
   "metadata": {},
   "source": [
    "## 🛠️ Tarea 2: Instalar Apache2 HTTP Server\n",
    "\n",
    "### Pasos\n",
    "1. Desde la VM, haz clic en el botón **SSH**.\n",
    "2. Actualiza los paquetes e instala **Apache2** y **PHP**:\n"
   ]
  },
  {
   "cell_type": "code",
   "execution_count": null,
   "id": "4ecfe120",
   "metadata": {},
   "outputs": [],
   "source": [
    "sudo apt-get update\n",
    "sudo apt-get install apache2 php7.0\n",
    "sudo service apache2 restart"
   ]
  },
  {
   "cell_type": "markdown",
   "id": "91a4b24a",
   "metadata": {},
   "source": [
    "**Nota**: Si `php7.0` falla, usa `php5` como alternativa.\n",
    "\n",
    "3. Accede a la página web de la VM usando su **IP externa** en el navegador.\n",
    "\n",
    "💡 **Propósito**: Instalar **Apache2** simula configurar un servidor web para una aplicación contable en línea, como un portal de facturación.\n",
    "\n",
    "### Crear Scope de Métricas\n",
    "1. Ve a **Navigation Menu > Observability > Monitoring**.\n",
    "2. Se genera automáticamente un **metrics scope** gratuito para el proyecto.\n",
    "\n",
    "💡 **Beneficio empresarial**: El scope de métricas es como un sistema de auditoría que centraliza la supervisión de tus recursos financieros.\n",
    "\n",
    "### Instalar Agentes de Monitoreo y Logging\n",
    "En la terminal **SSH** de la VM, instala el agente de **Cloud Monitoring**:\n"
   ]
  },
  {
   "cell_type": "code",
   "execution_count": null,
   "id": "44c7143d",
   "metadata": {},
   "outputs": [],
   "source": [
    "curl -sSO https://dl.google.com/cloudagents/add-google-cloud-ops-agent-repo.sh\n",
    "sudo bash add-google-cloud-ops-agent-repo.sh --also-install"
   ]
  },
  {
   "cell_type": "markdown",
   "id": "5f957170",
   "metadata": {},
   "source": [
    "Verifica el estado del agente:\n"
   ]
  },
  {
   "cell_type": "code",
   "execution_count": null,
   "id": "ea1d294f",
   "metadata": {},
   "outputs": [],
   "source": [
    "sudo systemctl status google-cloud-ops-agent\"*\""
   ]
  },
  {
   "cell_type": "markdown",
   "id": "5fb871ab",
   "metadata": {},
   "source": [
    "**Nota**: Presiona `q` para salir del visor de estado.\n",
    "\n",
    "Actualiza los paquetes:\n"
   ]
  },
  {
   "cell_type": "code",
   "execution_count": null,
   "id": "c259e57d",
   "metadata": {},
   "outputs": [],
   "source": [
    "sudo apt-get update"
   ]
  },
  {
   "cell_type": "markdown",
   "id": "7b815340",
   "metadata": {},
   "source": [
    "💡 **Contexto empresarial**: Los agentes son como auditores automáticos que recopilan datos del sistema contable para garantizar su correcto funcionamiento.\n",
    "\n",
    "Para más información, consulta la [Documentación de Cloud Monitoring](https://cloud.google.com/monitoring/docs)."
   ]
  },
  {
   "cell_type": "markdown",
   "id": "524ec05a",
   "metadata": {},
   "source": [
    "## 🔍 Tarea 3: Crear Verificación de Tiempo de Actividad (Uptime Check)\n",
    "\n",
    "### Pasos\n",
    "1. Ve a **Monitoring > Uptime Checks > Create Uptime Check**.\n",
    "2. Configura:\n",
    "   - **Protocol**: HTTP\n",
    "   - **Resource Type**: Instance\n",
    "   - **Instance**: `lamp-1-vm`\n",
    "   - **Check Frequency**: 1 minuto\n",
    "   - **Title**: `Lamp Uptime Check`\n",
    "\n",
    "💡 **Beneficio empresarial**: Un **uptime check** asegura que tu sistema contable en línea esté siempre disponible, como garantizar que un portal de facturación no caiga durante el cierre mensual."
   ]
  },
  {
   "cell_type": "markdown",
   "id": "eb14e7bc",
   "metadata": {},
   "source": [
    "## 🔔 Tarea 4: Crear una Política de Alertas\n",
    "\n",
    "### Pasos\n",
    "1. Ve a **Monitoring > Alerting > +Create Policy**.\n",
    "2. Configura la métrica:\n",
    "   - **Métrica**: Network traffic (VM instance > Interface)\n",
    "   - **Threshold**: Above 500\n",
    "   - **Retest**: 1 minuto\n",
    "3. Configura el canal de notificación:\n",
    "   - Selecciona **Email** y crea un canal.\n",
    "4. Nombra la alerta: `Inbound Traffic Alert`.\n",
    "\n",
    "💡 **Contexto empresarial**: Las alertas son como notificaciones automáticas que te avisan si hay un volumen inusual de transacciones, permitiendo actuar rápidamente para evitar errores."
   ]
  },
  {
   "cell_type": "markdown",
   "id": "d9981af5",
   "metadata": {},
   "source": [
    "## 📊 Tarea 5: Crear Dashboard y Gráficos\n",
    "\n",
    "### Pasos\n",
    "1. Ve a **Monitoring > Dashboards > +Create Custom Dashboard**.\n",
    "2. Nombre: `Cloud Monitoring LAMP Qwik Start Dashboard`.\n",
    "3. Agrega widgets:\n",
    "   - **Widget 1: CPU Load**\n",
    "     - Tipo: Line\n",
    "     - Métrica: CPU load (1m)\n",
    "   - **Widget 2: Received Packets**\n",
    "     - Tipo: Line\n",
    "     - Métrica: Received packets\n",
    "\n",
    "💡 **Beneficio empresarial**: Un **dashboard** es como un panel de control contable que muestra en tiempo real el rendimiento del sistema, ayudando a identificar cuellos de botella."
   ]
  },
  {
   "cell_type": "markdown",
   "id": "ab651642",
   "metadata": {},
   "source": [
    "## 📜 Tarea 6: Visualizar Logs\n",
    "\n",
    "### Pasos\n",
    "1. Ve a **Logging > Logs Explorer**.\n",
    "2. Selecciona **Resource**: VM Instance > `lamp-1-vm`.\n",
    "3. Detén y reinicia la instancia desde **Compute Engine**.\n",
    "4. Observa los logs generados en tiempo real.\n",
    "\n",
    "**Tip**: Usa dos ventanas paralelas (Compute Engine y Logs Explorer) para ver los efectos simultáneamente.\n",
    "\n",
    "💡 **Contexto empresarial**: Los logs son como un registro contable detallado que documenta cada acción del sistema, útil para auditorías o análisis de fallos."
   ]
  },
  {
   "cell_type": "markdown",
   "id": "ac333cb7",
   "metadata": {},
   "source": [
    "## ✅ Tarea 7: Verificar Resultados de Uptime y Alertas\n",
    "\n",
    "### Pasos\n",
    "1. Ve a **Monitoring > Uptime Checks** y revisa el estado.\n",
    "2. Ve a **Monitoring > Alerting** para ver alertas activadas.\n",
    "3. Revisa tu email para notificaciones de alertas.\n",
    "4. Desactiva las notificaciones por email para evitar mensajes tras finalizar el laboratorio.\n",
    "\n",
    "💡 **Beneficio empresarial**: Verificar alertas es como revisar un informe de auditoría para confirmar que el sistema contable opera sin problemas."
   ]
  },
  {
   "cell_type": "markdown",
   "id": "6b184fe1",
   "metadata": {},
   "source": [
    "## 📋 Cuadro Resumen Final\n",
    "\n",
    "| Sección | Descripción |\n",
    "|---------|-------------|\n",
    "| **Herramienta Principal** | **Cloud Monitoring** y **Cloud Logging** |\n",
    "| **Recursos Usados** | **Compute Engine** VM, **Cloud Shell**, **Apache2**, agentes de monitoreo y logging |\n",
    "| **Acciones Realizadas** | Crear VM, instalar **Apache2**, configurar **uptime checks**, alertas |\n",
    "| **Métricas Monitoreadas** | CPU Load, Network Traffic, Received Packets |\n",
    "| **Visualización** | **Dashboard** personalizado con gráficos |\n",
    "| **Logs** | Logs generados al iniciar/detener VM |\n",
    "| **Integraciones** | Alertas por email, compatibilidad con **Slack**, **PagerDuty** |\n",
    "\n",
    "💡 **Conclusión empresarial**: Este laboratorio te permite implementar un sistema de monitoreo para garantizar la disponibilidad y rendimiento de aplicaciones contables, con alertas automáticas para prevenir fallos."
   ]
  },
  {
   "cell_type": "markdown",
   "id": "470dcb6f",
   "metadata": {},
   "source": [
    "## 🚀 Conclusión\n",
    "\n",
    "Este laboratorio te permitió:\n",
    "1. Configurar una VM en **Compute Engine** y monitorearla con **Cloud Monitoring**.\n",
    "2. Instalar agentes para recopilar métricas y logs.\n",
    "3. Crear verificaciones de tiempo de actividad (**uptime checks**) y alertas.\n",
    "4. Visualizar datos en **dashboards** y analizar **logs** en tiempo real.\n",
    "\n",
    "💡 **Beneficio empresarial**: Como auditar un sistema contable en tiempo real, garantizando disponibilidad, detectando problemas y optimizando procesos financieros.\n",
    "\n",
    "Para más información, consulta la [Documentación de Cloud Monitoring](https://cloud.google.com/monitoring/docs) y [Documentación de Cloud Logging](https://cloud.google.com/logging/docs)."
   ]
  }
 ],
 "metadata": {
  "kernelspec": {
   "display_name": "Python 3 (ipykernel)",
   "language": "python",
   "name": "python3"
  },
  "language_info": {
   "codemirror_mode": {
    "name": "ipython",
    "version": 3
   },
   "file_extension": ".py",
   "mimetype": "text/x-python",
   "name": "python",
   "nbconvert_exporter": "python",
   "pygments_lexer": "ipython3",
   "version": "3.9.21"
  }
 },
 "nbformat": 4,
 "nbformat_minor": 5
}
