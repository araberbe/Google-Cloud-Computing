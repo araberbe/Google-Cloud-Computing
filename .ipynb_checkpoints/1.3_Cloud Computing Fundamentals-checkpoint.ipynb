{
 "cells": [
  {
   "cell_type": "markdown",
   "metadata": {},
   "source": [
    "# 🎓 Bienvenida al Módulo 3\n",
    "**Curso: Google Cloud Computing Foundations – Use Google Cloud to Build Your Apps**\n\n",
    "¡Bienvenido/a al Módulo 3! En este módulo aprenderás a compilar aplicaciones directamente en Google Cloud, explorando las diferentes opciones de procesamiento en la nube. Este contenido está diseñado para un contexto empresarial, con ejemplos prácticos que conectan los conceptos con aplicaciones en contabilidad y gestión. 🚀\n\n",
    "## 🧠 ¿Qué aprenderás en este módulo?\n",
    "En este módulo, adquirirás conocimientos clave para construir aplicaciones escalables y eficientes en Google Cloud. Los objetivos principales son:\n",
    "- 💻 **Máquinas virtuales**: Aprenderás a compilar y administrar máquinas virtuales en la nube.\n",
    "- 📈 **Aplicaciones elásticas**: Descubrirás cómo crear aplicaciones elásticas mediante el ajuste de escala automático (autoscaling).\n",
    "- ☁️ **Plataforma como Servicio (PaaS)**: Conocerás cómo aprovechar **App Engine** para implementar soluciones con enfoque PaaS.\n",
    "- ⚙️ **Servicios controlados por eventos**: Examinarás la creación de servicios controlados por eventos utilizando **Cloud Functions**.\n",
    "- 📦 **Contenedores y orquestación**: Identificarás cómo alojar aplicaciones en contenedores y organizarlas con **Google Kubernetes Engine (GKE)**.\n",
    "- 🚀 **Despliegue escalable**: Verás cómo desarrollar e implementar aplicaciones alojadas en contenedores escalables usando **Cloud Run**.\n\n",
    "## 🛠️ Metodología práctica\n",
    "El módulo incluye:\n",
    "- Cinco laboratorios prácticos para aplicar lo aprendido.\n",
    "- Un cuestionario corto al final para evaluar tus conocimientos.\n",
    "- Un resumen final de los temas abordados.\n\n",
    "[📚 Documentación oficial de Google Cloud](https://cloud.google.com/docs)"
   ]
  },
  {
   "cell_type": "markdown",
   "metadata": {},
   "source": [
    "## ☁️ Opciones de procesamiento en la nube\n",
    "Google Cloud ofrece una variedad de servicios de procesamiento diseñados para adaptarse a diferentes necesidades y estilos de implementación. Estas opciones permiten elegir el nivel adecuado de control, escalabilidad y automatización según el tipo de aplicación o carga de trabajo, lo que es especialmente útil para empresas que buscan optimizar procesos contables o de gestión.\n\n",
    "[📚 Documentación oficial de Google Cloud](https://cloud.google.com/docs)"
   ]
  },
  {
   "cell_type": "markdown",
   "metadata": {},
   "source": [
    "### 🖥️ Compute Engine: Infraestructura como Servicio (IaaS)\n",
    "**¿Qué es Compute Engine?**\n",
    "Con **Compute Engine**, los usuarios pueden crear y ejecutar máquinas virtuales (VMs) en los innovadores centros de datos de Google y en su red global de fibra óptica. No se requieren inversiones iniciales, y miles de CPUs virtuales pueden ejecutarse en un sistema diseñado para ser rápido y ofrecer un rendimiento consistente. Cada máquina virtual contiene el poder y la funcionalidad de un sistema operativo completo, lo que permite configurarla como un servidor físico: especificando la cantidad de potencia de CPU y memoria necesarias, la cantidad y tipo de almacenamiento requerido, y el sistema operativo.\n\n",
    "**Beneficios empresariales**:\n",
    "- Ideal para aplicaciones contables que requieren servidores dedicados, como sistemas de nómina, ERPs o bases de datos financieras.\n",
    "- Flexibilidad para ajustar recursos según la carga de trabajo, como procesar grandes volúmenes de transacciones.\n",
    "- Ejemplo: Una empresa puede usar Compute Engine para alojar un software contable que procese facturas y genere reportes financieros.\n\n",
    "**Casos de uso**:\n",
    "- Alojamiento de servidores web.\n",
    "- Alojamiento de aplicaciones o backends de aplicaciones.\n",
    "- Procesamiento de datos contables complejos.\n\n",
    "**Métodos para crear instancias**:\n",
    "- **Consola de Google Cloud**: Herramienta web para gestionar proyectos y recursos.\n",
    "- **Línea de comandos gcloud**: Usando la **gcloud CLI** para crear y configurar VMs.\n",
    "- Las instancias pueden ejecutar imágenes de Linux y Windows Server proporcionadas por Google, o versiones personalizadas. También se pueden usar otros sistemas operativos.\n\n",
    "**Estructura de precios y facturación**:\n",
    "- Facturación por segundo, con un mínimo de un minuto.\n",
    "- **Descuentos por uso sostenido**: Aplicados automáticamente si las VMs se ejecutan más del 25% del mes.\n",
    "- **Descuentos por uso comprometido**: Hasta un 57% de descuento para cargas estables a 1 o 3 años.\n",
    "- **VMs preemtibles**: Ahorros de hasta un 90% para tareas no críticas, como análisis de datos por lotes (por ejemplo, procesar reportes financieros históricos). Estas VMs pueden ser terminadas por Google si se necesitan los recursos, por lo que son ideales para trabajos que pueden detenerse y reiniciarse.\n\n",
    "**Herramienta para estimar costos**:\n",
    "Utiliza la [Calculadora de precios de Google Cloud](https://cloud.google.com/products/calculator) para estimar costos según las configuraciones.\n\n",
    "[📚 Documentación oficial de Compute Engine](https://cloud.google.com/compute/docs)"
   ]
  },
  {
   "cell_type": "code",
   "metadata": {},
   "source": [
    "# Ejemplo: Crear una máquina virtual con gcloud\n",
    "gcloud compute instances create mi-vm \\\n",
    "    --machine-type=e2-standard-2 \\\n",
    "    --zone=us-central1-a \\\n",
    "    --image-family=debian-10 \\\n",
    "    --image-project=debian-cloud\n",
    "# Explicación: Este comando crea una máquina virtual con 2 vCPUs y 8 GB de RAM, usando Debian 10, en la región us-central1-a. Ideal para alojar un software contable con requisitos específicos."
   ],
   "execution_count": null,
   "outputs": []
  },
  {
   "cell_type": "markdown",
   "metadata": {},
   "source": [
    "**Laboratorio: Create a Virtual Machine**\n",
    "En este laboratorio práctico, aprenderás a crear y configurar una máquina virtual en Compute Engine, aplicando los conceptos aprendidos.\n\n",
    "[📚 Documentación oficial de Compute Engine](https://cloud.google.com/compute/docs)"
   ]
  },
  {
   "cell_type": "markdown",
   "metadata": {},
   "source": [
    "### 🚀 Autoscaling en Elastic\n",
    "**¿Qué es el autoscaling en Elastic?**\n",
    "El autoscaling en Elastic ajusta automáticamente los recursos de tus aplicaciones y modelos entrenados en función de la carga de trabajo. Esto es especialmente útil en entornos en la nube como **Elastic Cloud Hosted**, **Elastic Cloud Enterprise (ECE)**, **Elastic Cloud on Kubernetes (ECK)** y **Serverless**. En estos entornos, el autoscaling puede:\n",
    "- Escalar nodos de datos según el uso de almacenamiento.\n",
    "- Escalar nodos de machine learning según la carga de procesamiento.\n",
    "- Ajustar recursos para despliegues de modelos entrenados mediante asignaciones adaptativas.\n\n",
    "**Limitación**: En entornos autogestionados, el autoscaling no es aplicable debido a la naturaleza estática de los recursos.\n\n",
    "**Beneficios empresariales**:\n",
    "- Optimiza costos al asignar recursos solo cuando son necesarios, ideal para cierres fiscales o análisis masivos de datos.\n",
    "- Ejemplo: Una empresa contable puede usar autoscaling para procesar grandes volúmenes de transacciones durante el cierre de mes, ajustando recursos dinámicamente.\n\n",
    "**Configuración del autoscaling**:\n",
    "1. **Definir políticas de autoscaling**: Aplica políticas a NodeSets con roles específicos en Elasticsearch.\n",
    "2. **Habilitar asignaciones adaptativas**:\n",
    "   - Usa la API `create inference endpoint` para modelos como ELSER y E5.\n",
    "   - Usa las APIs `start trained model deployment` o `update trained model deployment` para modelos en nodos de machine learning.\n",
    "3. **Habilitar recursos adaptativos**: Ajusta recursos dinámicamente según la carga de trabajo para optimizar rendimiento y costos.\n\n",
    "[📚 Documentación oficial de Elastic](https://www.elastic.co/guide/en/elasticsearch/reference/current/autoscaling.html)"
   ]
  },
  {
   "cell_type": "markdown",
   "metadata": {},
   "source": [
    "### 🌐 Introducción a App Engine\n",
    "**¿Qué es App Engine?**\n",
    "App Engine es una plataforma completamente gestionada que permite crear aplicaciones altamente escalables sin preocuparte por la infraestructura. Es ideal si el tiempo de salida al mercado es crítico y quieres concentrarte en escribir código sin gestionar servidores, clústeres o infraestructura.\n\n",
    "**Beneficios empresariales**:\n",
    "- Perfecto para aplicaciones contables accesibles por web, como herramientas de facturación o reportes financieros en tiempo real.\n",
    "- Reduce costos operativos al eliminar la gestión de servidores.\n",
    "- Ejemplo: Una app que permite a clientes subir facturas y recibir análisis automáticos, sin preocupaciones por infraestructura.\n\n",
    "**¿Cómo funciona App Engine?**\n",
    "- Soporta lenguajes populares (Java, Python, PHP, Go, Node.js, Ruby) y frameworks como Eclipse, IntelliJ, Maven, Git, Jenkins y PyCharm.\n",
    "- Escala instancias automáticamente según la demanda.\n",
    "- Ofrece servicios integrados como bases de datos NoSQL, Memcache, balanceo de carga, verificaciones de estado, registro de aplicaciones y APIs de autenticación.\n\n",
    "**SDK de App Engine**:\n",
    "- Incluye APIs y bibliotecas de App Engine.\n",
    "- Proporciona un entorno simulado para desarrollo local.\n",
    "- Ofrece herramientas para implementar y gestionar versiones.\n\n",
    "**Funcionalidades de la consola de Google Cloud**:\n",
    "- Crear nuevas aplicaciones.\n",
    "- Configurar nombres de dominio.\n",
    "- Cambiar versiones activas.\n",
    "- Examinar registros de acceso y errores.\n\n",
    "**Tipos de entornos en App Engine**:\n",
    "- **Standard Environment**:\n",
    "  - Usa contenedores preconfigurados con lenguajes y versiones específicas.\n",
    "  - Características:\n",
    "    - Almacenamiento persistente con consultas, ordenamiento y transacciones.\n",
    "    - Escalado automático y balanceo de carga.\n",
    "    - Colas de tareas asíncronas.\n",
    "    - Tareas programadas.\n",
    "    - Integración con servicios de Google Cloud.\n",
    "  - **Requisitos**:\n",
    "    - Usar versiones específicas de lenguajes.\n",
    "    - Cumplir con restricciones del sandbox (entorno aislado).\n",
    "  - **Flujo de trabajo**:\n",
    "    1. Desarrollar y probar localmente.\n",
    "    2. Implementar con el SDK.\n",
    "    3. App Engine escala y da servicio.\n",
    "- **Flexible Environment**:\n",
    "  - Usa contenedores Docker en VMs de Compute Engine.\n",
    "  - Beneficios:\n",
    "    - Verificación y reparación automática de instancias.\n",
    "    - Actualizaciones automáticas del sistema operativo.\n",
    "    - Ubicación optimizada de VMs por región.\n",
    "    - Reinicios semanales con actualizaciones de seguridad.\n",
    "  - Características compatibles:\n",
    "    - Microservicios, autorización, bases de datos SQL/NoSQL, división de tráfico, registro, búsqueda, versionado, escaneo de seguridad, Memcache, CDN.\n",
    "  - Permite personalizar entornos con Dockerfiles.\n\n",
    "**Comparación de entornos**:\n",
    "| Característica | Standard | Flexible |\n",
    "|---------------|----------|----------|\n",
    "| 🔧 Configuración | Limitada, Google la gestiona | Más control, configurable |\n",
    "| ⚙️ Entorno | Sandboxed (seguro y aislado) | Docker en VMs de Compute Engine |\n",
    "| 🐢 Tiempo de inicio | Muy rápido (segundos) | Más lento (minutos) |\n",
    "| 🖥️ Acceso a la VM | ❌ No (sin SSH) | ✅ Sí (con SSH) |\n",
    "| 💽 Uso de disco local | ❌ No | ✅ Sí |\n",
    "| 🧩 Terceros / Binarios | Limitado | Puedes instalar lo que quieras |\n",
    "| 🔁 Escalado | Automático | Automático |\n",
    "| 💰 Precio | Por clase de instancia (con apagado automático) | Por hora (sin apagado automático) |\n\n",
    "**App Engine vs. GKE**:\n",
    "- **Standard Environment**: Máximo control por parte de Google, ideal para despliegues simples.\n",
    "- **Flexible Environment**: Punto intermedio entre Standard y GKE.\n",
    "- **GKE**: Máxima flexibilidad con Kubernetes para aplicaciones complejas.\n\n",
    "[📚 Documentación oficial de App Engine](https://cloud.google.com/appengine/docs)"
   ]
  },
  {
   "cell_type": "code",
   "metadata": {},
   "source": [
    "# Ejemplo: Desplegar una aplicación en App Engine\n",
    "gcloud app deploy app.yaml\n",
    "# Explicación: Este comando sube tu aplicación a App Engine usando un archivo de configuración (app.yaml) que define el entorno, los recursos y las dependencias. Ideal para aplicaciones contables accesibles por web."
   ],
   "execution_count": null,
   "outputs": []
  },
  {
   "cell_type": "markdown",
   "metadata": {},
   "source": [
    "**Laboratorio: App Engine: Qwik Start - Python**\n",
    "En este laboratorio, aprenderás a desplegar una aplicación Python en App Engine, aplicando los conceptos de PaaS.\n\n",
    "[📚 Documentación oficial de App Engine](https://cloud.google.com/appengine/docs)"
   ]
  },
  {
   "cell_type": "markdown",
   "metadata": {},
   "source": [
    "### ⚡ Cloud Functions: Funciones sin servidor (FaaS)\n",
    "**¿Qué son los programas orientados a eventos?**\n",
    "Los programas orientados a eventos responden automáticamente cuando ocurre un evento específico, como la subida de un archivo, un mensaje en una cola, o un cambio en una base de datos. En lugar de ejecutarse continuamente, estas aplicaciones \"esperan\" a que ocurra algo y luego se activan.\n\n",
    "**¿Cómo funciona con Google Cloud Functions?**\n",
    "Google Cloud Functions es un servicio serverless que permite ejecutar código en respuesta a eventos sin gestionar servidores. El flujo básico es:\n",
    "1. **Definir el evento de activación**:\n",
    "   - Subida de un archivo a Cloud Storage.\n",
    "   - Mensaje nuevo en Pub/Sub.\n",
    "   - Cambio en Firestore o Realtime Database.\n",
    "   - Solicitud HTTP.\n",
    "2. **Escribir la función**: Código en Node.js, Python, Go, etc., con la lógica a ejecutar.\n",
    "3. **Desplegar la función**: Usa `gcloud functions deploy` para subirla y asociarla a un evento.\n",
    "4. **Ejecución automática**: La función se activa cuando ocurre el evento.\n\n",
    "**Beneficios empresariales**:\n",
    "- Automatiza tareas contables, como procesar facturas subidas a Cloud Storage.\n",
    "- Pago solo por uso, ideal para empresas con presupuestos ajustados.\n",
    "- Ejemplo: Una función que genera reportes financieros automáticos al detectar nuevos datos en una base de datos.\n\n",
    "**Ventajas**:\n",
    "- Escalabilidad automática.\n",
    "- Pago por uso.\n",
    "- Desarrollo rápido.\n",
    "- Integración con otros servicios de Google Cloud.\n\n",
    "[📚 Documentación oficial de Cloud Functions](https://cloud.google.com/functions/docs)"
   ]
  },
  {
   "cell_type": "code",
   "metadata": {},
   "source": [
    "# Ejemplo: Desplegar una función en Cloud Functions\n",
    "gcloud functions deploy mi-funcion \\\n",
    "    --runtime python39 \\\n",
    "    --trigger-http \\\n",
    "    --allow-unauthenticated\n",
    "# Explicación: Despliega una función HTTP en Python 3.9, accesible sin autenticación. Útil para automatizar tareas contables, como procesar solicitudes web."
   ],
   "execution_count": null,
   "outputs": []
  },
  {
   "cell_type": "markdown",
   "metadata": {},
   "source": [
    "**Laboratorio: Cloud Run Functions: Qwik Start - Command Line**\n",
    "En este laboratorio, aprenderás a desplegar una función en Cloud Functions usando la línea de comandos, aplicando los conceptos de computación sin servidor.\n\n",
    "[📚 Documentación oficial de Cloud Functions](https://cloud.google.com/functions/docs)"
   ]
  },
  {
   "cell_type": "markdown",
   "metadata": {},
   "source": [
    "### 📦 Google Kubernetes Engine (GKE): Orquestación de contenedores\n",
    "**¿Para qué sirve containerizing y orchestrating?**\n",
    "- **Containerizing**: Empaquetar una aplicación con sus dependencias (librerías, configuraciones) en un contenedor (como Docker) para que sea portátil y consistente.\n",
    "- **Orchestrating**: Gestionar múltiples contenedores para escalarlos, actualizarlos y mantener su disponibilidad.\n\n",
    "**¿Qué es GKE?**\n",
    "Google Kubernetes Engine (GKE) es un servicio gestionado de Kubernetes que permite desplegar, administrar y escalar aplicaciones en contenedores. Es ideal para aplicaciones modernas basadas en microservicios que requieren alta disponibilidad.\n\n",
    "**Función principal de GKE**:\n",
    "- Automatizar la gestión de contenedores en producción: despliegue, escalado automático, balanceo de carga, actualizaciones sin interrupciones.\n",
    "- Facilitar alta disponibilidad y tolerancia a fallos.\n",
    "- Controlar el ciclo de vida de aplicaciones en entornos distribuidos.\n\n",
    "**¿Cómo funciona?**\n",
    "1. Containeriza la app: Crea una imagen Docker.\n",
    "2. Sube la imagen a Google Container Registry.\n",
    "3. Crea un clúster en GKE (conjunto de máquinas virtuales).\n",
    "4. Despliega contenedores usando manifiestos YAML (pods, servicios, deployments).\n",
    "5. Kubernetes gestiona escalado, reinicios y balanceo de carga.\n\n",
    "**Ejemplo contable**:\n",
    "Imagina una aplicación contable que:\n",
    "- Procesa facturas diarias.\n",
    "- Calcula impuestos automáticamente.\n",
    "- Genera reportes financieros en tiempo real.\n",
    "Con GKE:\n",
    "- Containerizas la app (API contable).\n",
    "- Despliegas en GKE para ejecutar en múltiples contenedores.\n",
    "- Kubernetes escala según la cantidad de facturas.\n",
    "- Reemplaza contenedores caídos sin interrumpir el servicio.\n",
    "- Actualiza la app sin downtime.\n\n",
    "**Resumen ejemplo**:\n",
    "| Antes | Después con GKE |\n",
    "|-------|----------------|\n",
    "| App en un solo servidor, riesgo de caída y baja escalabilidad | App distribuida en contenedores, alta disponibilidad y escalabilidad automática |\n",
    "| Actualización manual con posibles caídas | Actualización continua sin downtime |\n",
    "| Procesamiento limitado a la capacidad del servidor | Escala dinámico según demanda |\n\n",
    "[📚 Documentación oficial de GKE](https://cloud.google.com/kubernetes-engine/docs)"
   ]
  },
  {
   "cell_type": "code",
   "metadata": {},
   "source": [
    "# Ejemplo: Crear un clúster en GKE\n",
    "gcloud container clusters create mi-cluster \\\n",
    "    --num-nodes=3 \\\n",
    "    --region=us-central1\n",
    "# Explicación: Crea un clúster de Kubernetes con 3 nodos en la región us-central1, ideal para aplicaciones contables escalables."
   ],
   "execution_count": null,
   "outputs": []
  },
  {
   "cell_type": "markdown",
   "metadata": {},
   "source": [
    "**Laboratorio: Google Kubernetes Engine: Qwik Start**\n",
    "En este laboratorio, aprenderás a crear y gestionar un clúster en GKE, aplicando los conceptos de orquestación de contenedores.\n\n",
    "[📚 Documentación oficial de GKE](https://cloud.google.com/kubernetes-engine/docs)"
   ]
  },
  {
   "cell_type": "markdown",
   "metadata": {},
   "source": [
    "### 🔄 Introducción a Cloud Run\n",
    "**¿Qué es Cloud Run?**\n",
    "Cloud Run es un servicio administrado de Google Cloud que permite ejecutar aplicaciones contenedorizadas sin gestionar servidores. Es una plataforma **serverless** que escala automáticamente y factura solo por uso.\n\n",
    "**¿Qué es la computación serverless?**\n",
    "Serverless no significa que no haya servidores, sino que no los gestionas. La plataforma (Cloud Run) se encarga de:\n",
    "- Ejecutar tu app cuando llega una solicitud.\n",
    "- Escalar de 0 a millones de usuarios.\n",
    "- Facturar solo por el uso efectivo (segundo por segundo).\n\n",
    "**Características principales**:\n",
    "- **Administrado**: No configuras servidores ni clústeres.\n",
    "- **Escala automáticamente**: Responde según la demanda.\n",
    "- **Pago por uso**: Solo pagas por el tiempo de ejecución.\n",
    "- **Portabilidad**: Usa contenedores estándar, movibles a otras plataformas.\n\n",
    "**¿Cómo funciona Cloud Run?**\n",
    "1. Desarrolla una app web.\n",
    "2. Empaquétala en un contenedor con Docker.\n",
    "3. Súbela a Cloud Run.\n",
    "4. Obtén una URL pública.\n",
    "5. Escala automáticamente, incluso a 0 cuando no hay uso.\n\n",
    "**Pasos básicos para usar Cloud Run**:\n",
    "1. Crear un contenedor:\n",
    "   ```bash\n",
    "   docker build -t gcr.io/PROJECT-ID/my-app .\n",
    "   ```\n",
    "2. Subir al Container Registry:\n",
    "   ```bash\n",
    "   docker push gcr.io/PROJECT-ID/my-app\n",
    "   ```\n",
    "3. Desplegar en Cloud Run:\n",
    "   ```bash\n",
    "   gcloud run deploy --image gcr.io/PROJECT-ID/my-app --platform managed\n",
    "   ```\n",
    "4. Elegir región y configurar acceso (autenticado o no).\n",
    "5. Recibir una URL pública.\n\n",
    "**Ventajas**:\n",
    "- ✅ Sin necesidad de administrar servidores.\n",
    "- ✅ Escalado automático (de 0 a N).\n",
    "- ✅ Compatible con cualquier lenguaje o framework.\n",
    "- ✅ Integración sencilla con Google Cloud.\n",
    "- ✅ Pago solo por uso real.\n\n",
    "**Comparación con otras tecnologías**:\n",
    "| Tecnología | ¿Administra servidores? | ¿Escala automáticamente? | ¿Pago por uso real? | ¿Portabilidad? |\n",
    "|------------|-------------------------|--------------------------|---------------------|----------------|\n",
    "| Google Compute Engine | ❌ | Manual | ❌ | ✅ |\n",
    "| Google App Engine | ✅ | ✅ | ✅ | ❌ |\n",
    "| Cloud Run | ✅ | ✅ | ✅ | ✅ |\n\n",
    "**Ejemplo didáctico para contabilidad**:\n",
    "Supongamos que tienes un sistema que genera reportes contables mensuales, y necesitas una herramienta online donde los clientes suban sus libros de IVA y obtengan análisis automáticos. Con Cloud Run:\n",
    "1. Creas una app en Python que procesa archivos y genera resúmenes.\n",
    "2. La empaquetas en un contenedor.\n",
    "3. La subes a Cloud Run.\n",
    "4. Obtienes una URL pública (ejemplo: https://reportesiva123.run.app).\n",
    "5. La app solo se ejecuta cuando los clientes la usan, sin costos fijos.\n\n",
    "**Cuadro resumen**:\n",
    "| Concepto | Descripción |\n",
    "|----------|-------------|\n",
    "| Cloud Run | Servicio para ejecutar apps contenedorizadas sin servidores. |\n",
    "| Serverless | Modelo donde la plataforma gestiona los servidores. |\n",
    "| Contenedores | \"Cajas\" con tu app y sus dependencias. |\n",
    "| Escalado automático | Aumenta/reduce capacidad según demanda. |\n",
    "| Pago por uso | Pagas solo cuando la app se ejecuta. |\n",
    "| Ideal para | Apps web, APIs, procesamiento de datos, herramientas internas. |\n",
    "| Ejemplo contable | App para analizar libros de IVA, accesible online, escalable y sin mantenimiento. |\n\n",
    "[📚 Documentación oficial de Cloud Run](https://cloud.google.com/run/docs)"
   ]
  },
  {
   "cell_type": "code",
   "metadata": {},
   "source": [
    "# Ejemplo: Desplegar una app en Cloud Run\n",
    "gcloud run deploy mi-app \\\n",
    "    --image gcr.io/PROJECT-ID/mi-app \\\n",
    "    --platform managed \\\n",
    "    --region us-central1 \\\n",
    "    --allow-unauthenticated\n",
    "# Explicación: Despliega un contenedor en Cloud Run, accesible sin autenticación, en la región us-central1. Ideal para herramientas contables online."
   ],
   "execution_count": null,
   "outputs": []
  },
  {
   "cell_type": "markdown",
   "metadata": {},
   "source": [
    "## 📚 Resumen y próximos pasos\n",
    "Este módulo te ha introducido a las opciones de procesamiento en Google Cloud: **Compute Engine**, **App Engine**, **Cloud Functions**, **GKE** y **Cloud Run**, además del autoscaling en Elastic. Cada servicio ofrece soluciones para aplicaciones empresariales, como procesamiento de facturas, generación de reportes financieros o herramientas contables escalables. Continúa con los cinco laboratorios prácticos y el cuestionario para consolidar tu aprendizaje.\n\n",
    "[📚 Documentación oficial de Google Cloud](https://cloud.google.com/docs)"
   ]
  }
 ],
 "metadata": {
  "kernelspec": {
   "display_name": "Python 3",
   "language": "python",
   "name": "python3"
  },
  "language_info": {
   "codemirror_mode": {
    "name": "ipython",
    "version": 3
   },
   "file_extension": ".py",
   "mimetype": "text/x-python",
   "name": "python",
   "nbconvert_exporter": "python",
   "pygments_lexer": "ipython3",
   "version": "3.9.0"
  }
 },
 "nbformat": 4,
 "nbformat_minor": 4
}