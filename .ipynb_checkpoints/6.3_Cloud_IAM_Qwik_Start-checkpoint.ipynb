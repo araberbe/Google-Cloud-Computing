{
 "cells": [
  {
   "cell_type": "markdown",
   "id": "intro",
   "metadata": {},
   "source": [
    "# 📌 Introducción a Cloud IAM\n",
    "\n",
    "## ¿Qué es Cloud IAM?\n",
    "\n",
    "**Google Cloud Identity and Access Management (IAM)** es un sistema que permite crear y administrar permisos para recursos en **Google Cloud**. Proporciona un control unificado de acceso, asegurando que los usuarios y servicios tengan los permisos adecuados para realizar tareas específicas. En este laboratorio, trabajarás con dos cuentas de usuario para explorar cómo los roles (**Project Owner** y **Viewer**) determinan el acceso a recursos como **Cloud Storage**.\n",
    "\n",
    "💡 **Beneficio empresarial**: **Cloud IAM** permite a las empresas implementar políticas de seguridad robustas, controlando quién puede acceder a datos sensibles, como registros financieros, y garantizando cumplimiento normativo.\n",
    "\n",
    "Para más información, consulta la [Documentación oficial de Cloud IAM](https://cloud.google.com/iam/docs)."
   ]
  },
  {
   "cell_type": "markdown",
   "id": "objetivos",
   "metadata": {},
   "source": [
    "## 🚀 Objetivos del laboratorio\n",
    "\n",
    "- Explorar la consola de **IAM** y los roles a nivel de proyecto.\n",
    "- Crear un **bucket** en **Cloud Storage** y probar permisos de acceso.\n",
    "- Revocar el acceso de un usuario al proyecto.\n",
    "- Conceder acceso específico a **Cloud Storage** para un usuario.\n",
    "\n",
    "💡 **Contexto empresarial**: Gestionar permisos con **IAM** asegura que solo el personal autorizado acceda a recursos críticos, como sistemas de contabilidad, minimizando riesgos de seguridad."
   ]
  },
  {
   "cell_type": "markdown",
   "id": "setup",
   "metadata": {},
   "source": [
    "## 🚀 Configuración Inicial del Laboratorio\n",
    "\n",
    "El laboratorio utiliza dos usuarios (**Username 1** como **Project Owner** y **Username 2** como **Viewer**) para simular configuraciones de permisos.\n",
    "\n",
    "### Pasos para iniciar sesión\n",
    "1. Abre la **Consola de Google Cloud** en un navegador (preferiblemente en modo incógnito).  \n",
    "2. Inicia sesión con **Username 1** (Project Owner) y acepta los términos.  \n",
    "3. Repite el proceso con **Username 2** (Viewer) en otra pestaña.  \n",
    "4. Verifica el usuario activo pasando el cursor por el avatar en la esquina superior derecha.  \n",
    "5. Para cambiar de usuario, cierra sesión desde el avatar y vuelve a iniciar desde el panel de conexión del laboratorio.\n",
    "\n",
    "💡 **Contexto empresarial**: Usar múltiples cuentas con roles específicos ayuda a simular entornos reales donde diferentes empleados tienen distintos niveles de acceso."
   ]
  },
  {
   "cell_type": "markdown",
   "id": "task1_explore_iam",
   "metadata": {},
   "source": [
    "## 🚀 Tarea 1: Explorar la Consola de IAM y los Roles a Nivel de Proyecto\n",
    "\n",
    "### Desde Username 1 (Project Owner)\n",
    "1. Navega a **Menu > IAM & Admin > IAM**.  \n",
    "2. Haz clic en **+ GRANT ACCESS**.  \n",
    "3. Observa los roles básicos disponibles:  \n",
    "   - **Viewer**: Acceso de solo lectura a los recursos.  \n",
    "   - **Editor**: Permite lectura y modificación de recursos.  \n",
    "   - **Owner**: Incluye permisos de Editor más gestión de roles y facturación.\n",
    "\n",
    "### Desde Username 2 (Viewer)\n",
    "1. Navega a la misma sección (**IAM & Admin > IAM**).  \n",
    "2. Nota que el botón **+GRANT ACCESS** está deshabilitado.  \n",
    "3. Si intentas usarlo, aparecerá el error:  \n",
    "   *\"You need permissions for this action. Required permission(s): resourcemanager.projects.setIamPolicy\"*.  \n",
    "\n",
    "**Resultado esperado**: Esta diferencia demuestra cómo los roles determinan las acciones permitidas.\n",
    "\n",
    "💡 **Contexto empresarial**: Los roles de **IAM** permiten limitar el acceso a funciones críticas, como la gestión de facturación, solo a usuarios autorizados, protegiendo los recursos financieros.\n",
    "\n",
    "Para más información, consulta la [Documentación de roles en IAM](https://cloud.google.com/iam/docs/understanding-roles)."
   ]
  },
  {
   "cell_type": "markdown",
   "id": "task2_create_bucket",
   "metadata": {},
   "source": [
    "## 🚀 Tarea 2: Crear un Bucket y Probar Acceso\n",
    "\n",
    "### Desde Username 1 (Project Owner)\n",
    "1. Navega a **Menu > Cloud Storage > Buckets**.  \n",
    "2. Crea un nuevo bucket con las siguientes configuraciones:  \n",
    "   - **Nombre**: Único a nivel global (usa el ID del proyecto si se indica).  \n",
    "   - **Ubicación**: **Multi-Region** (selecciona la región indicada en el laboratorio).  \n",
    "   - **Clase de almacenamiento**: **Standard**.  \n",
    "   - **Control de acceso**: **Uniform**.  \n",
    "3. Sube un archivo de ejemplo (ej., .txt o .html) desde tu PC.  \n",
    "4. Renómbralo como `sample.txt` usando el ícono de tres puntos en la consola.\n",
    "\n",
    "### Desde Username 2 (Viewer)\n",
    "1. Navega a **Cloud Storage > Buckets**.  \n",
    "2. Verifica que puedes ver el bucket y el archivo `sample.txt`, pero no puedes modificarlo.\n",
    "\n",
    "**Resultado esperado**: **Username 2** solo tiene acceso de lectura, validando su rol de **Viewer**.\n",
    "\n",
    "💡 **Contexto empresarial**: Crear buckets y limitar accesos permite gestionar documentos empresariales, como reportes contables, asegurando que solo usuarios autorizados realicen cambios.\n",
    "\n",
    "Para más información, consulta la [Documentación de Cloud Storage](https://cloud.google.com/storage/docs)."
   ]
  },
  {
   "cell_type": "markdown",
   "id": "task3_revoke_access",
   "metadata": {},
   "source": [
    "## 🚀 Tarea 3: Revocar el Acceso al Proyecto\n",
    "\n",
    "### Desde Username 1 (Project Owner)\n",
    "1. Navega a **IAM & Admin > IAM**.  \n",
    "2. Busca **Username 2** en la lista de usuarios.  \n",
    "3. Haz clic en el ícono de basurero para eliminar el rol **Viewer**.  \n",
    "4. Guarda los cambios.\n",
    "\n",
    "### Desde Username 2 (Viewer)\n",
    "1. Intenta acceder a **Cloud Storage > Buckets**.  \n",
    "2. Deberías recibir un error de permisos.  \n",
    "3. Si no aparece, espera 1-2 minutos y refresca la página.\n",
    "\n",
    "**Resultado esperado**: **Username 2** pierde acceso al proyecto.\n",
    "\n",
    "💡 **Contexto empresarial**: Revocar accesos es crucial para proteger datos sensibles cuando un empleado cambia de rol o deja la empresa, asegurando cumplimiento normativo.\n",
    "\n",
    "Para más información, consulta la [Documentación de gestión de accesos en IAM](https://cloud.google.com/iam/docs/granting-changing-revoking-access)."
   ]
  },
  {
   "cell_type": "markdown",
   "id": "task4_grant_storage_access",
   "metadata": {},
   "source": [
    "## 🚀 Tarea 4: Conceder Acceso Específico a Cloud Storage\n",
    "\n",
    "### Desde Username 1 (Project Owner)\n",
    "1. Navega a **IAM & Admin > IAM**.  \n",
    "2. Haz clic en **+GRANT ACCESS**.  \n",
    "3. Agrega **Username 2** como principal.  \n",
    "4. Asigna el rol **Cloud Storage > Storage Object Viewer**.  \n",
    "5. Guarda los cambios.\n",
    "\n",
    "### Desde Username 2\n",
    "1. Abre **Cloud Shell**.  \n",
    "2. Ejecuta el siguiente comando para listar el contenido del bucket:"
   ]
  },
  {
   "cell_type": "code",
   "execution_count": null,
   "id": "list_bucket",
   "metadata": {},
   "outputs": [],
   "source": [
    "gsutil ls gs://YOUR_BUCKET_NAME"
   ]
  },
  {
   "cell_type": "markdown",
   "id": "list_bucket_explain",
   "metadata": {},
   "source": [
    "**Explicación del comando**:  \n",
    "- `gsutil`: Herramienta de línea de comandos para gestionar **Cloud Storage**.  \n",
    "- `ls`: Lista los archivos en el bucket.  \n",
    "- `gs://YOUR_BUCKET_NAME`: Ruta del bucket (reemplaza `YOUR_BUCKET_NAME` con el nombre real).  \n",
    "\n",
    "**Resultado esperado**: El comando muestra:  \n",
    "```bash\n",
    "gs://YOUR_BUCKET_NAME/sample.txt\n",
    "```\n",
    "Esto confirma que **Username 2** tiene acceso de solo lectura a **Cloud Storage**, pero no a otros recursos del proyecto.\n",
    "\n",
    "💡 **Contexto empresarial**: Asignar roles específicos permite a los empleados acceder solo a los datos necesarios (ej., reportes en **Cloud Storage**) sin comprometer otros recursos.\n",
    "\n",
    "Para más información, consulta la [Documentación de roles de Cloud Storage](https://cloud.google.com/storage/docs/access-control/iam-roles)."
   ]
  },
  {
   "cell_type": "markdown",
   "id": "summary",
   "metadata": {},
   "source": [
    "## 🚀 Cuadro Resumen\n",
    "\n",
    "| **Tarea** | **Descripción** | **Usuario Principal** | **Resultado Esperado** |\n",
    "|-----------|-----------------|-----------------------|-----------------------|\n",
    "| **Tarea 1** | Explorar IAM y roles | Username 1 y 2 | Visualización de diferencias de permisos según rol |\n",
    "| **Tarea 2** | Crear bucket y subir archivo | Username 1 | Bucket creado y archivo `sample.txt` visible |\n",
    "| **Tarea 3** | Eliminar acceso al proyecto | Username 1 | Username 2 ya no puede ver recursos del proyecto |\n",
    "| **Tarea 4** | Conceder acceso solo a Cloud Storage | Username 1 | Username 2 puede listar contenido del bucket en Cloud Shell |\n",
    "\n",
    "💡 **Contexto empresarial**: Este resumen destaca cómo **IAM** permite gestionar permisos de manera granular, optimizando la seguridad y el control de acceso en entornos empresariales."
   ]
  },
  {
   "cell_type": "markdown",
   "id": "conclusion",
   "metadata": {},
   "source": [
    "## 🚀 Conclusión\n",
    "\n",
    "Este laboratorio te ha permitido explorar **Cloud IAM** al asignar, revocar y gestionar permisos para dos usuarios con roles distintos (**Project Owner** y **Viewer**). Has aprendido a crear un **bucket** en **Cloud Storage**, probar accesos y asignar permisos específicos mediante comandos en **Cloud Shell**. Estas habilidades son esenciales para garantizar la seguridad y el control de acceso en entornos empresariales.\n",
    "\n",
    "💡 **Beneficio empresarial**: **Cloud IAM** permite a las empresas proteger datos sensibles, como registros contables, asignando permisos precisos y minimizando riesgos de accesos no autorizados.\n",
    "\n",
    "🔸 **Consejo final**: Comprender los roles y sus límites en **IAM** es clave para mantener la seguridad en la nube y prevenir vulnerabilidades en entornos colaborativos."
   ]
  }
 ],
 "metadata": {
  "kernelspec": {
   "display_name": "Python 3 (ipykernel)",
   "language": "python",
   "name": "python3"
  },
  "language_info": {
   "codemirror_mode": {
    "name": "ipython",
    "version": 3
   },
   "file_extension": ".py",
   "mimetype": "text/x-python",
   "name": "python",
   "nbconvert_exporter": "python",
   "pygments_lexer": "ipython3",
   "version": "3.9.21"
  }
 },
 "nbformat": 4,
 "nbformat_minor": 5
}
