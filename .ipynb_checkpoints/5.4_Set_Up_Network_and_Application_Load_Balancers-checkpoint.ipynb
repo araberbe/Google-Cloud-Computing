{
 "cells": [
  {
   "cell_type": "markdown",
   "id": "intro",
   "metadata": {},
   "source": [
    "# 📌 Configurar Instancias y Balanceo de Carga en Google Cloud\n",
    "\n",
    "## Introducción\n",
    "\n",
    "Este laboratorio te guiará en la creación y configuración de múltiples máquinas virtuales (VM) en **Google Cloud**, instalando servidores web **Apache**, configurando reglas de firewall, y estableciendo un **Load Balancer** (balanceador de carga) para distribuir tráfico entre las instancias. Aprenderás a implementar un **Network Load Balancer** (capa 4) y un **Application Load Balancer** (capa 7), asegurando alta disponibilidad y escalabilidad para aplicaciones web. Este enfoque es ideal para empresas que necesitan garantizar que sus aplicaciones, como sistemas de contabilidad o portales de clientes, sean accesibles y eficientes.\n",
    "\n",
    "💡 **Beneficio empresarial**: Los balanceadores de carga optimizan el rendimiento de las aplicaciones al distribuir el tráfico, reduciendo tiempos de inactividad y mejorando la experiencia del usuario, lo que es crítico para procesos empresariales como la gestión de transacciones o servicios al cliente.\n",
    "\n",
    "Para más información, consulta la [Documentación oficial de Google Cloud Load Balancing](https://cloud.google.com/load-balancing/docs)."
   ]
  },
  {
   "cell_type": "markdown",
   "id": "objetivos",
   "metadata": {},
   "source": [
    "## 🚀 Objetivos del laboratorio\n",
    "\n",
    "- Configurar regiones y zonas por defecto para gestionar recursos en **Google Cloud**.\n",
    "- Crear múltiples máquinas virtuales con servidores web **Apache**.\n",
    "- Establecer reglas de firewall para permitir tráfico HTTP.\n",
    "- Configurar un **Network Load Balancer** para distribuir tráfico entre instancias.\n",
    "- Implementar un **Application Load Balancer** para enrutamiento avanzado a nivel HTTP.\n",
    "- Probar la distribución de tráfico para verificar alta disponibilidad.\n",
    "\n",
    "💡 **Contexto empresarial**: Estas habilidades permiten a las empresas implementar aplicaciones escalables y confiables, como sistemas de facturación en línea, garantizando continuidad del negocio y satisfacción del cliente."
   ]
  },
  {
   "cell_type": "markdown",
   "id": "task1_region_zone",
   "metadata": {},
   "source": [
    "## 🚀 Tarea 1: Configurar la Región y Zona por Defecto\n",
    "\n",
    "**Google Cloud** organiza sus recursos en **regiones** (ubicaciones geográficas) y **zonas** (subdivisiones dentro de una región). Configurar valores predeterminados simplifica la gestión de recursos.\n",
    "\n",
    "### Establecer la región"
   ]
  },
  {
   "cell_type": "code",
   "execution_count": null,
   "id": "set_region",
   "metadata": {},
   "outputs": [],
   "source": [
    "gcloud config set compute/region us-east1"
   ]
  },
  {
   "cell_type": "markdown",
   "id": "set_region_explain",
   "metadata": {},
   "source": [
    "**Explicación del comando**:  \n",
    "- `gcloud config set compute/region`: Define la región predeterminada.  \n",
    "- `us-east1`: Ejemplo de región; cámbialo según las instrucciones del laboratorio.  \n",
    "💡 **Contexto empresarial**: Elegir una región cercana a los usuarios reduce la latencia, mejorando el acceso a aplicaciones como sistemas de gestión financiera.\n",
    "\n",
    "### Establecer la zona"
   ]
  },
  {
   "cell_type": "code",
   "execution_count": null,
   "id": "set_zone",
   "metadata": {},
   "outputs": [],
   "source": [
    "gcloud config set compute/zone us-east1-b"
   ]
  },
  {
   "cell_type": "markdown",
   "id": "set_zone_explain",
   "metadata": {},
   "source": [
    "**Explicación del comando**:  \n",
    "- `gcloud config set compute/zone`: Define la zona predeterminada.  \n",
    "- `us-east1-b`: Ejemplo de zona; cámbialo según las instrucciones.  \n",
    "💡 **Contexto empresarial**: Configurar una zona asegura que los recursos, como servidores para aplicaciones contables, estén organizados y optimizados.\n",
    "\n",
    "Para más información, consulta la [Documentación de regiones y zonas](https://cloud.google.com/compute/docs/regions-zones)."
   ]
  },
  {
   "cell_type": "markdown",
   "id": "task2_create_vms",
   "metadata": {},
   "source": [
    "## 🚀 Tarea 2: Crear Múltiples Instancias de Servidores Web\n",
    "\n",
    "Crearás tres máquinas virtuales (`www1`, `www2`, `www3`) con **Apache** instalado y una página web sencilla para identificar cada instancia. También configurarás una regla de firewall para permitir tráfico HTTP.\n",
    "\n",
    "### Crear la primera VM (`www1`)"
   ]
  },
  {
   "cell_type": "code",
   "execution_count": null,
   "id": "create_vm_www1",
   "metadata": {},
   "outputs": [],
   "source": [
    "gcloud compute instances create www1 \\\n",
    "  --zone=us-east1-b \\\n",
    "  --tags=network-lb-tag \\\n",
    "  --machine-type=e2-small \\\n",
    "  --image-family=debian-11 \\\n",
    "  --image-project=debian-cloud \\\n",
    "  --metadata=startup-script='#!/bin/bash\n",
    "    apt-get update\n",
    "    apt-get install apache2 -y\n",
    "    service apache2 restart\n",
    "    echo \"<h3>Web Server: www1</h3>\" | tee /var/www/html/index.html'"
   ]
  },
  {
   "cell_type": "markdown",
   "id": "create_vm_www1_explain",
   "metadata": {},
   "source": [
    "**Explicación del comando**:  \n",
    "- `gcloud compute instances create www1`: Crea una VM llamada `www1`.  \n",
    "- `--zone=us-east1-b`: Especifica la zona.  \n",
    "- `--tags=network-lb-tag`: Etiqueta la VM para aplicar reglas de firewall.  \n",
    "- `--machine-type=e2-small`: Define un tipo de máquina con recursos moderados.  \n",
    "- `--image-family=debian-11 --image-project=debian-cloud`: Usa Debian 11 como sistema operativo.  \n",
    "- `--metadata=startup-script`: Ejecuta un script al iniciar la VM para instalar **Apache** y crear una página web con el texto \"Web Server: www1\".  \n",
    "\n",
    "### Crear la segunda VM (`www2`)"
   ]
  },
  {
   "cell_type": "code",
   "execution_count": null,
   "id": "create_vm_www2",
   "metadata": {},
   "outputs": [],
   "source": [
    "gcloud compute instances create www2 \\\n",
    "  --zone=us-east1-b \\\n",
    "  --tags=network-lb-tag \\\n",
    "  --machine-type=e2-small \\\n",
    "  --image-family=debian-11 \\\n",
    "  --image-project=debian-cloud \\\n",
    "  --metadata=startup-script='#!/bin/bash\n",
    "    apt-get update\n",
    "    apt-get install apache2 -y\n",
    "    service apache2 restart\n",
    "    echo \"<h3>Web Server: www2</h3>\" | tee /var/www/html/index.html'"
   ]
  },
  {
   "cell_type": "markdown",
   "id": "create_vm_www2_explain",
   "metadata": {},
   "source": [
    "**Explicación del comando**: Similar al anterior, pero crea una VM llamada `www2` con una página que muestra \"Web Server: www2\".  \n",
    "\n",
    "### Crear la tercera VM (`www3`)"
   ]
  },
  {
   "cell_type": "code",
   "execution_count": null,
   "id": "create_vm_www3",
   "metadata": {},
   "outputs": [],
   "source": [
    "gcloud compute instances create www3 \\\n",
    "  --zone=us-east1-b \\\n",
    "  --tags=network-lb-tag \\\n",
    "  --machine-type=e2-small \\\n",
    "  --image-family=debian-11 \\\n",
    "  --image-project=debian-cloud \\\n",
    "  --metadata=startup-script='#!/bin/bash\n",
    "    apt-get update\n",
    "    apt-get install apache2 -y\n",
    "    service apache2 restart\n",
    "    echo \"<h3>Web Server: www3</h3>\" | tee /var/www/html/index.html'"
   ]
  },
  {
   "cell_type": "markdown",
   "id": "create_vm_www3_explain",
   "metadata": {},
   "source": [
    "**Explicación del comando**: Crea una VM llamada `www3` con una página que muestra \"Web Server: www3\".  \n",
    "💡 **Contexto empresarial**: Múltiples VMs con servidores web aseguran redundancia, ideal para aplicaciones empresariales críticas, como portales de clientes.\n",
    "\n",
    "### Crear regla de firewall para tráfico HTTP"
   ]
  },
  {
   "cell_type": "code",
   "execution_count": null,
   "id": "create_firewall",
   "metadata": {},
   "outputs": [],
   "source": [
    "gcloud compute firewall-rules create www-firewall-network-lb \\\n",
    "  --target-tags network-lb-tag \\\n",
    "  --allow tcp:80"
   ]
  },
  {
   "cell_type": "markdown",
   "id": "create_firewall_explain",
   "metadata": {},
   "source": [
    "**Explicación del comando**:  \n",
    "- `gcloud compute firewall-rules create`: Crea una regla de firewall.  \n",
    "- `www-firewall-network-lb`: Nombre de la regla.  \n",
    "- `--target-tags network-lb-tag`: Aplica la regla a VMs con la etiqueta `network-lb-tag`.  \n",
    "- `--allow tcp:80`: Permite tráfico HTTP en el puerto 80.  \n",
    "\n",
    "### Verificar las instancias"
   ]
  },
  {
   "cell_type": "code",
   "execution_count": null,
   "id": "list_instances",
   "metadata": {},
   "outputs": [],
   "source": [
    "gcloud compute instances list"
   ]
  },
  {
   "cell_type": "markdown",
   "id": "list_instances_explain",
   "metadata": {},
   "source": [
    "**Explicación del comando**:  \n",
    "- `gcloud compute instances list`: Lista las VMs creadas, mostrando sus IPs externas.  \n",
    "\n",
    "### Probar las instancias"
   ]
  },
  {
   "cell_type": "code",
   "execution_count": null,
   "id": "curl_test",
   "metadata": {},
   "outputs": [],
   "source": [
    "curl http://[IP_ADDRESS]"
   ]
  },
  {
   "cell_type": "markdown",
   "id": "curl_test_explain",
   "metadata": {},
   "source": [
    "**Explicación del comando**:  \n",
    "- `curl http://[IP_ADDRESS]`: Prueba cada VM reemplazando `[IP_ADDRESS]` con la IP externa de `www1`, `www2` o `www3`. Debería mostrar el contenido de la página web (ej., \"Web Server: www1\").  \n",
    "💡 **Contexto empresarial**: Verificar las instancias asegura que los servidores web estén listos para servir aplicaciones, como sistemas de facturación en línea.\n",
    "\n",
    "Para más información, consulta la [Documentación de Compute Engine](https://cloud.google.com/compute/docs)."
   ]
  },
  {
   "cell_type": "markdown",
   "id": "task3_network_lb",
   "metadata": {},
   "source": [
    "## 🚀 Tarea 3: Configurar un Network Load Balancer\n",
    "\n",
    "Un **Network Load Balancer** (capa 4) distribuye el tráfico entre varias VMs para evitar saturación y mejorar la disponibilidad.\n",
    "\n",
    "### Crear una dirección IP estática"
   ]
  },
  {
   "cell_type": "code",
   "execution_count": null,
   "id": "create_ip",
   "metadata": {},
   "outputs": [],
   "source": [
    "gcloud compute addresses create network-lb-ip-1 \\\n",
    "  --region us-east1"
   ]
  },
  {
   "cell_type": "markdown",
   "id": "create_ip_explain",
   "metadata": {},
   "source": [
    "**Explicación del comando**:  \n",
    "- `gcloud compute addresses create`: Reserva una IP estática para el balanceador.  \n",
    "- `--region us-east1`: Define la región.  \n",
    "\n",
    "### Crear un chequeo de salud"
   ]
  },
  {
   "cell_type": "code",
   "execution_count": null,
   "id": "create_health_check",
   "metadata": {},
   "outputs": [],
   "source": [
    "gcloud compute http-health-checks create basic-check"
   ]
  },
  {
   "cell_type": "markdown",
   "id": "create_health_check_explain",
   "metadata": {},
   "source": [
    "**Explicación del comando**:  \n",
    "- `gcloud compute http-health-checks create`: Crea un chequeo de salud para verificar que las VMs estén funcionando.  \n",
    "\n",
    "### Crear un grupo de destino"
   ]
  },
  {
   "cell_type": "code",
   "execution_count": null,
   "id": "create_target_pool",
   "metadata": {},
   "outputs": [],
   "source": [
    "gcloud compute target-pools create www-pool \\\n",
    "  --region us-east1 \\\n",
    "  --http-health-check basic-check"
   ]
  },
  {
   "cell_type": "markdown",
   "id": "create_target_pool_explain",
   "metadata": {},
   "source": [
    "**Explicación del comando**:  \n",
    "- `gcloud compute target-pools create`: Crea un grupo de destino para las VMs.  \n",
    "- `--http-health-check basic-check`: Asocia el chequeo de salud.  \n",
    "\n",
    "### Añadir instancias al grupo"
   ]
  },
  {
   "cell_type": "code",
   "execution_count": null,
   "id": "add_instances_pool",
   "metadata": {},
   "outputs": [],
   "source": [
    "gcloud compute target-pools add-instances www-pool \\\n",
    "  --instances www1,www2,www3"
   ]
  },
  {
   "cell_type": "markdown",
   "id": "add_instances_pool_explain",
   "metadata": {},
   "source": [
    "**Explicación del comando**:  \n",
    "- `gcloud compute target-pools add-instances`: Añade las VMs `www1`, `www2` y `www3` al grupo.  \n",
    "\n",
    "### Crear una regla de reenvío"
   ]
  },
  {
   "cell_type": "code",
   "execution_count": null,
   "id": "create_forwarding_rule",
   "metadata": {},
   "outputs": [],
   "source": [
    "gcloud compute forwarding-rules create www-rule \\\n",
    "  --region us-east1 \\\n",
    "  --ports 80 \\\n",
    "  --address network-lb-ip-1 \\\n",
    "  --target-pool www-pool"
   ]
  },
  {
   "cell_type": "markdown",
   "id": "create_forwarding_rule_explain",
   "metadata": {},
   "source": [
    "**Explicación del comando**:  \n",
    "- `gcloud compute forwarding-rules create`: Crea una regla para dirigir el tráfico a la IP estática en el puerto 80 al grupo de destino.  \n",
    "💡 **Contexto empresarial**: Un **Network Load Balancer** garantiza que las aplicaciones empresariales, como portales web, estén disponibles incluso durante picos de tráfico.\n",
    "\n",
    "Para más información, consulta la [Documentación de Network Load Balancing](https://cloud.google.com/load-balancing/docs/network)."
   ]
  },
  {
   "cell_type": "markdown",
   "id": "task4_test_network_lb",
   "metadata": {},
   "source": [
    "## 🚀 Tarea 4: Enviar Tráfico al Network Load Balancer\n",
    "\n",
    "Probarás cómo el balanceador distribuye el tráfico entre las VMs.\n",
    "\n",
    "### Obtener la IP del balanceador"
   ]
  },
  {
   "cell_type": "code",
   "execution_count": null,
   "id": "get_ip_address",
   "metadata": {},
   "outputs": [],
   "source": [
    "gcloud compute forwarding-rules describe www-rule --region us-east1"
   ]
  },
  {
   "cell_type": "markdown",
   "id": "get_ip_address_explain",
   "metadata": {},
   "source": [
    "**Explicación del comando**:  \n",
    "- `gcloud compute forwarding-rules describe`: Muestra detalles de la regla de reenvío, incluyendo la IP estática.  \n",
    "\n",
    "### Guardar la IP en una variable"
   ]
  },
  {
   "cell_type": "code",
   "execution_count": null,
   "id": "set_ip_variable",
   "metadata": {},
   "outputs": [],
   "source": [
    "IPADDRESS=$(gcloud compute forwarding-rules describe www-rule --region us-east1 --format=\"json\" | jq -r .IPAddress)"
   ]
  },
  {
   "cell_type": "markdown",
   "id": "set_ip_variable_explain",
   "metadata": {},
   "source": [
    "**Explicación del comando**:  \n",
    "- `IPADDRESS=$(...)`: Almacena la IP del balanceador en una variable.  \n",
    "- `jq -r .IPAddress`: Extrae la IP del resultado JSON.  \n",
    "\n",
    "### Mostrar la IP"
   ]
  },
  {
   "cell_type": "code",
   "execution_count": null,
   "id": "echo_ip",
   "metadata": {},
   "outputs": [],
   "source": [
    "echo $IPADDRESS"
   ]
  },
  {
   "cell_type": "markdown",
   "id": "echo_ip_explain",
   "metadata": {},
   "source": [
    "**Explicación del comando**:  \n",
    "- `echo $IPADDRESS`: Muestra la IP almacenada.  \n",
    "\n",
    "### Probar el balanceador"
   ]
  },
  {
   "cell_type": "code",
   "execution_count": null,
   "id": "test_load_balancer",
   "metadata": {},
   "outputs": [],
   "source": [
    "while true; do curl -m1 $IPADDRESS; done"
   ]
  },
  {
   "cell_type": "markdown",
   "id": "test_load_balancer_explain",
   "metadata": {},
   "source": [
    "**Explicación del comando**:  \n",
    "- `while true; do curl -m1 $IPADDRESS; done`: Envía solicitudes repetidas al balanceador, mostrando páginas alternadas de `www1`, `www2` o `www3`.  \n",
    "- Presiona **Ctrl + C** para detener.  \n",
    "💡 **Contexto empresarial**: Probar el balanceador asegura que el tráfico se distribuya correctamente, manteniendo la disponibilidad de aplicaciones críticas.\n",
    "\n",
    "Para más información, consulta la [Documentación de Network Load Balancing](https://cloud.google.com/load-balancing/docs/network)."
   ]
  },
  {
   "cell_type": "markdown",
   "id": "task5_app_lb",
   "metadata": {},
   "source": [
    "## 🚀 Tarea 5: Crear un Application Load Balancer\n",
    "\n",
    "Un **Application Load Balancer** (capa 7) permite enrutamiento avanzado basado en HTTP/HTTPS, ideal para aplicaciones web complejas.\n",
    "\n",
    "### Crear una plantilla de instancias"
   ]
  },
  {
   "cell_type": "code",
   "execution_count": null,
   "id": "create_instance_template",
   "metadata": {},
   "outputs": [],
   "source": [
    "gcloud compute instance-templates create lb-backend-template \\\n",
    "  --region=us-east1 \\\n",
    "  --network=default \\\n",
    "  --subnet=default \\\n",
    "  --tags=allow-health-check \\\n",
    "  --machine-type=e2-medium \\\n",
    "  --image-family=debian-11 \\\n",
    "  --image-project=debian-cloud \\\n",
    "  --metadata=startup-script='#!/bin/bash\n",
    "    apt-get update\n",
    "    apt-get install apache2 -y\n",
    "    a2ensite default-ssl\n",
    "    a2enmod ssl\n",
    "    vm_hostname=\"$(curl -H \"Metadata-Flavor:Google\" \\\n",
    "    http://169.254.169.254/computeMetadata/v1/instance/name)\"\n",
    "    echo \"Page served from: $vm_hostname\" | \\\n",
    "    tee /var/www/html/index.html\n",
    "    systemctl restart apache2'"
   ]
  },
  {
   "cell_type": "markdown",
   "id": "create_instance_template_explain",
   "metadata": {},
   "source": [
    "**Explicación del comando**:  \n",
    "- `gcloud compute instance-templates create`: Crea una plantilla para VMs con **Apache** configurado.  \n",
    "- `--tags=allow-health-check`: Etiqueta para chequeos de salud.  \n",
    "- `--metadata=startup-script`: Instala **Apache**, habilita SSL y muestra el nombre de la instancia en la página web.  \n",
    "\n",
    "### Crear un grupo de instancias gestionado"
   ]
  },
  {
   "cell_type": "code",
   "execution_count": null,
   "id": "create_instance_group",
   "metadata": {},
   "outputs": [],
   "source": [
    "gcloud compute instance-groups managed create lb-backend-group \\\n",
    "  --template=lb-backend-template \\\n",
    "  --size=2 \\\n",
    "  --zone=us-east1-b"
   ]
  },
  {
   "cell_type": "markdown",
   "id": "create_instance_group_explain",
   "metadata": {},
   "source": [
    "**Explicación del comando**:  \n",
    "- `gcloud compute instance-groups managed create`: Crea un grupo gestionado con 2 instancias basadas en la plantilla.  \n",
    "- `--size=2`: Define el número inicial de instancias.  \n",
    "\n",
    "### Crear regla de firewall para chequeos de salud"
   ]
  },
  {
   "cell_type": "code",
   "execution_count": null,
   "id": "create_health_check_firewall",
   "metadata": {},
   "outputs": [],
   "source": [
    "gcloud compute firewall-rules create fw-allow-health-check \\\n",
    "  --network=default \\\n",
    "  --action=allow \\\n",
    "  --direction=ingress \\\n",
    "  --source-ranges=130.211.0.0/22,35.191.0.0/16 \\\n",
    "  --target-tags=allow-health-check \\\n",
    "  --rules=tcp:80"
   ]
  },
  {
   "cell_type": "markdown",
   "id": "create_health_check_firewall_explain",
   "metadata": {},
   "source": [
    "**Explicación del comando**:  \n",
    "- `gcloud compute firewall-rules create`: Crea una regla para permitir chequeos de salud desde las IPs de Google Cloud (`130.211.0.0/22`, `35.191.0.0/16`).  \n",
    "\n",
    "### Crear chequeo de salud HTTP"
   ]
  },
  {
   "cell_type": "code",
   "execution_count": null,
   "id": "create_http_health_check",
   "metadata": {},
   "outputs": [],
   "source": [
    "gcloud compute health-checks create http http-basic-check \\\n",
    "  --port 80"
   ]
  },
  {
   "cell_type": "markdown",
   "id": "create_http_health_check_explain",
   "metadata": {},
   "source": [
    "**Explicación del comando**:  \n",
    "- `gcloud compute health-checks create http`: Crea un chequeo de salud para tráfico HTTP en el puerto 80.  \n",
    "\n",
    "### Crear un servicio backend"
   ]
  },
  {
   "cell_type": "code",
   "execution_count": null,
   "id": "create_backend_service",
   "metadata": {},
   "outputs": [],
   "source": [
    "gcloud compute backend-services create web-backend-service \\\n",
    "  --protocol=HTTP \\\n",
    "  --port-name=http \\\n",
    "  --health-checks=http-basic-check \\\n",
    "  --global"
   ]
  },
  {
   "cell_type": "markdown",
   "id": "create_backend_service_explain",
   "metadata": {},
   "source": [
    "**Explicación del comando**:  \n",
    "- `gcloud compute backend-services create`: Crea un servicio backend para el balanceador.  \n",
    "- `--protocol=HTTP`: Especifica el protocolo HTTP.  \n",
    "\n",
    "### Añadir el grupo gestionado al servicio backend"
   ]
  },
  {
   "cell_type": "code",
   "execution_count": null,
   "id": "add_backend",
   "metadata": {},
   "outputs": [],
   "source": [
    "gcloud compute backend-services add-backend web-backend-service \\\n",
    "  --instance-group=lb-backend-group \\\n",
    "  --instance-group-zone=us-east1-b \\\n",
    "  --global"
   ]
  },
  {
   "cell_type": "markdown",
   "id": "add_backend_explain",
   "metadata": {},
   "source": [
    "**Explicación del comando**:  \n",
    "- `gcloud compute backend-services add-backend`: Añade el grupo gestionado al servicio backend.  \n",
    "\n",
    "### Crear un mapa de URL"
   ]
  },
  {
   "cell_type": "code",
   "execution_count": null,
   "id": "create_url_map",
   "metadata": {},
   "outputs": [],
   "source": [
    "gcloud compute url-maps create web-map-http \\\n",
    "  --default-service web-backend-service"
   ]
  },
  {
   "cell_type": "markdown",
   "id": "create_url_map_explain",
   "metadata": {},
   "source": [
    "**Explicación del comando**:  \n",
    "- `gcloud compute url-maps create`: Crea un mapa de URL para enrutar tráfico al servicio backend.  \n",
    "\n",
    "### Crear un proxy HTTP"
   ]
  },
  {
   "cell_type": "code",
   "execution_count": null,
   "id": "create_http_proxy",
   "metadata": {},
   "outputs": [],
   "source": [
    "gcloud compute target-http-proxies create http-lb-proxy \\\n",
    "  --url-map web-map-http"
   ]
  },
  {
   "cell_type": "markdown",
   "id": "create_http_proxy_explain",
   "metadata": {},
   "source": [
    "**Explicación del comando**:  \n",
    "- `gcloud compute target-http-proxies create`: Crea un proxy para manejar tráfico HTTP.  \n",
    "\n",
    "### Crear una regla de reenvío global"
   ]
  },
  {
   "cell_type": "code",
   "execution_count": null,
   "id": "create_global_forwarding_rule",
   "metadata": {},
   "outputs": [],
   "source": [
    "gcloud compute forwarding-rules create http-content-rule \\\n",
    "  --address=lb-ipv4-1 \\\n",
    "  --global \\\n",
    "  --target-http-proxy=http-lb-proxy \\\n",
    "  --ports=80"
   ]
  },
  {
   "cell_type": "markdown",
   "id": "create_global_forwarding_rule_explain",
   "metadata": {},
   "source": [
    "**Explicación del comando**:  \n",
    "- `gcloud compute forwarding-rules create`: Dirige el tráfico a la IP estática global al proxy HTTP.  \n",
    "💡 **Contexto empresarial**: Un **Application Load Balancer** permite enrutamiento avanzado, ideal para aplicaciones globales como portales de comercio electrónico.\n",
    "\n",
    "Para más información, consulta la [Documentación de HTTP Load Balancing](https://cloud.google.com/load-balancing/docs/https)."
   ]
  },
  {
   "cell_type": "markdown",
   "id": "task6_test_app_lb",
   "metadata": {},
   "source": [
    "## 🚀 Tarea 6: Probar el Application Load Balancer\n",
    "\n",
    "Verificarás que el balanceador de aplicaciones distribuye el tráfico correctamente.\n",
    "\n",
    "### Pasos\n",
    "1. En **Google Cloud Console**, ve a **Load balancing** y selecciona el balanceador `web-map-http`.  \n",
    "2. En la sección **Backend**, verifica que las instancias estén marcadas como **Healthy**.  \n",
    "3. Accede a la IP del balanceador en un navegador con `http://[IP_ADDRESS]/`.  \n",
    "4. Deberías ver una página con el texto \"Page served from: [vm_hostname]\", mostrando el nombre de la instancia que respondió.  \n",
    "\n",
    "💡 **Contexto empresarial**: Probar el balanceador asegura que las aplicaciones empresariales, como sistemas de gestión de clientes, sean accesibles globalmente con alta disponibilidad.\n",
    "\n",
    "Para más información, consulta la [Documentación de HTTP Load Balancing](https://cloud.google.com/load-balancing/docs/https)."
   ]
  },
  {
   "cell_type": "markdown",
   "id": "summary",
   "metadata": {},
   "source": [
    "## 🚀 Cuadro Resumen\n",
    "\n",
    "| **Tarea** | **Descripción** | **Comandos Clave** |\n",
    "|-----------|-----------------|-------------------|\n",
    "| **1. Configurar región y zona** | Define región y zona por defecto para gestionar recursos. | `gcloud config set compute/region us-east1`<br>`gcloud config set compute/zone us-east1-b` |\n",
    "| **2. Crear VMs con Apache** | Crea tres VMs con **Apache** y reglas de firewall para tráfico HTTP. | `gcloud compute instances create www1 ...`<br>`gcloud compute firewall-rules create ...` |\n",
    "| **3. Configurar Network Load Balancer** | Reserva IP estática, crea grupo de destino y reglas para distribuir tráfico. | `gcloud compute addresses create ...`<br>`gcloud compute target-pools create ...` |\n",
    "| **4. Enviar tráfico a Network Load Balancer** | Prueba la distribución de tráfico con `curl`. | `gcloud compute forwarding-rules describe ...`<br>`curl http://$IPADDRESS` |\n",
    "| **5. Crear Application Load Balancer** | Configura balanceo avanzado con grupos gestionados, chequeos de salud y mapas de URL. | `gcloud compute instance-templates create ...`<br>`gcloud compute backend-services create ...` |\n",
    "| **6. Probar Application Load Balancer** | Verifica que las VMs estén saludables y accede a la IP en un navegador. | |\n",
    "\n",
    "💡 **Contexto empresarial**: Este resumen proporciona una guía clara para implementar balanceadores de carga, optimizando la disponibilidad y escalabilidad de aplicaciones empresariales."
   ]
  },
  {
   "cell_type": "markdown",
   "id": "conclusion",
   "metadata": {},
   "source": [
    "## 🚀 Conclusión\n",
    "\n",
    "Este laboratorio te ha permitido configurar múltiples máquinas virtuales con **Apache**, establecer reglas de firewall, y crear un **Network Load Balancer** y un **Application Load Balancer** en **Google Cloud**. Estas habilidades son esenciales para garantizar que las aplicaciones empresariales, como portales de clientes o sistemas de contabilidad, sean escalables, confiables y accesibles globalmente.\n",
    "\n",
    "💡 **Beneficio empresarial**: Los balanceadores de carga reducen tiempos de inactividad, optimizan el uso de recursos y mejoran la experiencia del usuario, lo que es crítico para mantener la continuidad de negocio en entornos empresariales."
   ]
  }
 ],
 "metadata": {
  "kernelspec": {
   "display_name": "Python 3 (ipykernel)",
   "language": "python",
   "name": "python3"
  },
  "language_info": {
   "codemirror_mode": {
    "name": "ipython",
    "version": 3
   },
   "file_extension": ".py",
   "mimetype": "text/x-python",
   "name": "python",
   "nbconvert_exporter": "python",
   "pygments_lexer": "ipython3",
   "version": "3.9.21"
  }
 },
 "nbformat": 4,
 "nbformat_minor": 5
}
