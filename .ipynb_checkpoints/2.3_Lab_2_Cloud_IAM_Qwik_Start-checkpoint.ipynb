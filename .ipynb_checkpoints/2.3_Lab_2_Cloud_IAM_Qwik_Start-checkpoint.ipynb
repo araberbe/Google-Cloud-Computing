{
 "cells": [
  {
   "cell_type": "markdown",
   "id": "60fe5fdd",
   "metadata": {},
   "source": [
    "# 📌 Guía del Laboratorio: Cloud IAM - Qwik Start\n",
    "\n",
    "## 1. Introducción a Cloud IAM\n",
    "\n",
    "### 1.1 ¿Qué es Cloud IAM?\n",
    "**Google Cloud Identity and Access Management (IAM)** es un servicio que permite administrar permisos y controlar el acceso a recursos en **Google Cloud**. Proporciona un sistema unificado para definir quién puede realizar qué acciones sobre qué recursos, garantizando seguridad y cumplimiento normativo en entornos empresariales.\n",
    "\n",
    "💡 **Contexto empresarial**: **IAM** es como un panel de control en un sistema contable, donde se define quién puede acceder a módulos como facturación, nóminas o reportes financieros, asegurando que solo personal autorizado manipule datos sensibles.\n",
    "\n",
    "Para más información, consulta la [Documentación de Google Cloud IAM](https://cloud.google.com/iam/docs)."
   ]
  },
  {
   "cell_type": "markdown",
   "id": "a9619591",
   "metadata": {},
   "source": [
    "### 1.2 Objetivos del Laboratorio\n",
    "\n",
    "- Asignar roles a diferentes usuarios.\n",
    "- Experimentar cómo funcionan los permisos en la práctica.\n",
    "- Aprender a revocar accesos.\n",
    "- Entender la diferencia entre roles primitivos y permisos específicos.\n",
    "\n",
    "💡 **Contexto empresarial**: Estos objetivos te permiten configurar accesos seguros en sistemas financieros, asegurando que los contadores o auditores tengan permisos adecuados y que los accesos no autorizados se eliminen rápidamente."
   ]
  },
  {
   "cell_type": "markdown",
   "id": "b9f1394e",
   "metadata": {},
   "source": [
    "## 🚀 2. Configuración Inicial\n",
    "\n",
    "### 2.1 Credenciales del Laboratorio\n",
    "\n",
    "El laboratorio proporciona dos conjuntos de credenciales:\n",
    "- **Usuario 1**: Tiene el rol de **Owner** (propietario), con permisos completos.\n",
    "- **Usuario 2**: Tiene el rol de **Viewer** (lector), con permisos de solo lectura.\n",
    "\n",
    "💡 **Contexto empresarial**: Similar a asignar roles en un ERP contable, donde el **Owner** sería el administrador financiero y el **Viewer** un auditor externo con acceso limitado."
   ]
  },
  {
   "cell_type": "markdown",
   "id": "851c3392",
   "metadata": {},
   "source": [
    "### 2.2 Iniciar Sesión\n",
    "\n",
    "1. Abre dos pestañas distintas en tu navegador.\n",
    "2. En la primera pestaña, inicia sesión con las credenciales del **Usuario 1**.\n",
    "3. En la segunda pestaña, inicia sesión con las credenciales del **Usuario 2**.\n",
    "\n",
    "💡 **Contexto empresarial**: Como abrir sesiones separadas para un contador jefe y un auditor en un sistema contable, cada uno con permisos diferentes."
   ]
  },
  {
   "cell_type": "markdown",
   "id": "b0b652a3",
   "metadata": {},
   "source": [
    "## 🔒 3. Tareas del Laboratorio\n",
    "\n",
    "### Tarea 1: Explorar la Consola IAM y Roles de Proyecto\n",
    "\n",
    "#### Paso 1: Verificar permisos del Usuario 1 (Owner)\n",
    "1. En la pestaña del **Usuario 1**, navega a **IAM & Admin > IAM** en **Google Cloud Console**.\n",
    "2. Observa que el **Usuario 1** tiene el rol de **Owner**.\n",
    "3. Verifica que el botón **+GRANT ACCESS** está activo, indicando permisos completos.\n",
    "\n",
    "💡 **Contexto empresarial**: El rol **Owner** es como el administrador de un sistema contable, con autoridad para modificar cualquier configuración o asignar permisos."
   ]
  },
  {
   "cell_type": "markdown",
   "id": "41447a27",
   "metadata": {},
   "source": [
    "#### Paso 2: Verificar permisos del Usuario 2 (Viewer)\n",
    "1. Cambia a la pestaña del **Usuario 2**.\n",
    "2. Navega a **IAM & Admin > IAM**.\n",
    "3. Confirma que:\n",
    "   - Tiene el rol de **Viewer**.\n",
    "   - El botón **+GRANT ACCESS** está deshabilitado.\n",
    "   - Si intenta asignar roles, recibe el mensaje: **\"You need permissions for this action\"**.\n",
    "\n",
    "💡 **Contexto empresarial**: El rol **Viewer** es como un auditor que solo puede revisar reportes financieros, pero no modificarlos ni gestionar accesos."
   ]
  },
  {
   "cell_type": "markdown",
   "id": "044871b8",
   "metadata": {},
   "source": [
    "### Tarea 2: Crear y Configurar un Bucket de Cloud Storage\n",
    "\n",
    "#### Paso 1: Crear un bucket (Usuario 1)\n",
    "1. En la pestaña del **Usuario 1**, navega a **Cloud Storage > Buckets**.\n",
    "2. Haz clic en **+CREATE**.\n",
    "3. Configura:\n",
    "   - **Name**: Ingresa un nombre único globalmente (ej. `mi-bucket-contable-2025`).\n",
    "   - **Location Type**: Selecciona **Multi-Region**.\n",
    "4. Haz clic en **CREATE**.\n",
    "\n",
    "💡 **Contexto empresarial**: Crear un bucket es como configurar un archivo digital seguro para almacenar documentos contables, como facturas o balances."
   ]
  },
  {
   "cell_type": "markdown",
   "id": "01ac8932",
   "metadata": {},
   "source": [
    "#### Paso 2: Subir un archivo de prueba\n",
    "1. En la página de detalles del bucket, haz clic en **UPLOAD FILES**.\n",
    "2. Selecciona un archivo de texto (`.txt` o `.html`).\n",
    "3. Renombra el archivo a `sample.txt`.\n",
    "\n",
    "💡 **Contexto empresarial**: Como subir un reporte financiero a un repositorio seguro en la nube para compartirlo con auditores autorizados."
   ]
  },
  {
   "cell_type": "markdown",
   "id": "2820fdd8",
   "metadata": {},
   "source": [
    "#### Paso 3: Verificar acceso del Usuario 2\n",
    "1. Cambia a la pestaña del **Usuario 2**.\n",
    "2. Navega a **Cloud Storage > Buckets**.\n",
    "3. Confirma que puede ver el bucket y el archivo `sample.txt` (permiso de lectura).\n",
    "\n",
    "💡 **Contexto empresarial**: Similar a permitir que un auditor vea un balance financiero en un sistema contable, pero sin poder modificarlo."
   ]
  },
  {
   "cell_type": "markdown",
   "id": "45e3e7fc",
   "metadata": {},
   "source": [
    "### Tarea 3: Revocar Accesos\n",
    "\n",
    "#### Paso 1: Eliminar rol del Usuario 2 (Usuario 1)\n",
    "1. En la pestaña del **Usuario 1**, navega a **IAM & Admin > IAM**.\n",
    "2. Busca la entrada del **Usuario 2**.\n",
    "3. Haz clic en el ícono de lápiz (editar).\n",
    "4. Elimina el rol **Viewer** haciendo clic en el ícono de basura.\n",
    "5. Haz clic en **SAVE**.\n",
    "\n",
    "💡 **Contexto empresarial**: Como revocar el acceso de un auditor externo a un sistema contable una vez finalizada su tarea."
   ]
  },
  {
   "cell_type": "markdown",
   "id": "d78ac695",
   "metadata": {},
   "source": [
    "#### Paso 2: Verificar pérdida de acceso (Usuario 2)\n",
    "1. Cambia a la pestaña del **Usuario 2**.\n",
    "2. Actualiza la página de **Cloud Storage**.\n",
    "3. Confirma que aparece un error de permisos, indicando que el **Usuario 2** ya no tiene acceso.\n",
    "\n",
    "💡 **Contexto empresarial**: Similar a confirmar que un ex-empleado ya no puede acceder a datos financieros tras ser dado de baja."
   ]
  },
  {
   "cell_type": "markdown",
   "id": "b53be45e",
   "metadata": {},
   "source": [
    "### Tarea 4: Asignar Permisos Específicos\n",
    "\n",
    "#### Paso 1: Otorgar permiso específico (Usuario 1)\n",
    "1. En la pestaña del **Usuario 1**, navega a **IAM & Admin > IAM**.\n",
    "2. Haz clic en **+GRANT ACCESS**.\n",
    "3. En **New principals**, ingresa el email del **Usuario 2**.\n",
    "4. En **Select a role**, elige **Cloud Storage > Storage Object Viewer**.\n",
    "5. Haz clic en **SAVE**.\n",
    "\n",
    "💡 **Contexto empresarial**: Como otorgar a un contador junior acceso solo al módulo de facturación en un ERP, sin permisos para modificar otros datos."
   ]
  },
  {
   "cell_type": "markdown",
   "id": "76d71510",
   "metadata": {},
   "source": [
    "#### Paso 2: Verificar nuevo acceso (Usuario 2)\n",
    "1. Cambia a la pestaña del **Usuario 2**.\n",
    "2. Abre **Cloud Shell** (ícono de terminal en la barra superior).\n",
    "3. Ejecuta el siguiente comando, reemplazando `[NOMBRE_DEL_BUCKET]` con el nombre del bucket creado:"
   ]
  },
  {
   "cell_type": "code",
   "execution_count": null,
   "id": "76b85957",
   "metadata": {},
   "outputs": [],
   "source": [
    "gsutil ls gs://[NOMBRE_DEL_BUCKET]"
   ]
  },
  {
   "cell_type": "markdown",
   "id": "57603312",
   "metadata": {},
   "source": [
    "**Explicación del comando**:  \n",
    "- `gsutil ls`: Lista los objetos en el bucket especificado.  \n",
    "- `gs://[NOMBRE_DEL_BUCKET]`: Ruta del bucket en **Cloud Storage**.  \n",
    "- **Resultado esperado**: El comando muestra el archivo `sample.txt`, confirmando que el **Usuario 2** tiene acceso de lectura.  \n",
    "- **Nota**: El **Usuario 2** no puede ver otros recursos del proyecto, respetando el principio de mínimo privilegio.  \n",
    "\n",
    "💡 **Contexto empresarial**: Como verificar que un auditor puede listar facturas en un repositorio contable, pero no acceder a otros módulos como nóminas."
   ]
  },
  {
   "cell_type": "markdown",
   "id": "512a394f",
   "metadata": {},
   "source": [
    "## 📋 4. Resumen de Aprendizaje\n",
    "\n",
    "El laboratorio demostró conceptos clave de **Cloud IAM** a través de tareas prácticas:\n",
    "\n",
    "| Concepto | Descripción | Ejemplo en el Laboratorio |\n",
    "|----------|-------------|--------------------------|\n",
    "| **Roles primitivos** | Roles básicos (Owner, Editor, Viewer) que otorgan permisos amplios. | Usuario 1 (Owner) vs. Usuario 2 (Viewer). |\n",
    "| **Permisos específicos** | Accesos granulares a servicios particulares. | Rol **Storage Object Viewer** para **Cloud Storage**. |\n",
    "| **Gestión de accesos** | Cómo otorgar y revocar permisos. | Asignación y remoción de roles. |\n",
    "| **Propagación de cambios** | Tiempo que tardan los cambios en aplicarse. | Espera de hasta 80 segundos al revocar accesos. |\n",
    "\n",
    "💡 **Contexto empresarial**: Estos conceptos son esenciales para garantizar que los sistemas contables cumplan con normativas de control interno, asignando permisos específicos y auditando accesos regularmente."
   ]
  },
  {
   "cell_type": "markdown",
   "id": "e031ab5e",
   "metadata": {},
   "source": [
    "## 🚀 5. Conclusión\n",
    "\n",
    "Este laboratorio te ha permitido:\n",
    "1. Entender la diferencia entre **roles primitivos** (como Owner, Viewer) y **permisos específicos** (como Storage Object Viewer).\n",
    "2. Practicar cómo asignar y revocar accesos en **Cloud IAM**.\n",
    "3. Aplicar el **principio de mínimo privilegio**, otorgando solo los permisos necesarios.\n",
    "4. Observar cómo los permisos afectan lo que los usuarios pueden ver y hacer en **Google Cloud Console**.\n",
    "\n",
    "💡 **Beneficio empresarial**: Configurar **IAM** correctamente asegura que los datos financieros estén protegidos, que los accesos sean auditables y que se cumplan normativas como las de control interno en contabilidad.\n",
    "\n",
    "Para más información, consulta la [Documentación de Google Cloud IAM](https://cloud.google.com/iam/docs)."
   ]
  }
 ],
 "metadata": {
  "kernelspec": {
   "display_name": "Python 3 (ipykernel)",
   "language": "python",
   "name": "python3"
  },
  "language_info": {
   "codemirror_mode": {
    "name": "ipython",
    "version": 3
   },
   "file_extension": ".py",
   "mimetype": "text/x-python",
   "name": "python",
   "nbconvert_exporter": "python",
   "pygments_lexer": "ipython3",
   "version": "3.9.21"
  }
 },
 "nbformat": 4,
 "nbformat_minor": 5
}
