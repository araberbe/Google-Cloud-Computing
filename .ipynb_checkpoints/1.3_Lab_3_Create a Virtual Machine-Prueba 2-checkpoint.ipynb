{
 "cells": [
  {
   "cell_type": "markdown",
   "metadata": {},
   "source": [
    "# Lab 3: Crea una Máquina Virtual con Compute Engine 📌\n",
    "\n",
    "## Activa Cloud Shell 💡\n",
    "Cloud Shell es una *VM* en la nube. Para activarlo, haz clic en el ícono **Activar Cloud Shell**.\n",
    "\n",
    "[Más sobre gcloud aquí](https://cloud.google.com/sdk/gcloud).\n"
   ]
  }
 ],
 "metadata": {
  "kernelspec": {
   "display_name": "Python 3",
   "language": "python",
   "name": "python3"
  },
  "language_info": {
   "codemirror_mode": {
    "name": "ipython",
    "version": 3
   },
   "file_extension": ".py",
   "mimetype": "text/x-python",
   "name": "python",
   "nbconvert_exporter": "python",
   "pygments_lexer": "ipython3",
   "version": "3.8"
  }
 },
 "nbformat": 4,
 "nbformat_minor": 4
}