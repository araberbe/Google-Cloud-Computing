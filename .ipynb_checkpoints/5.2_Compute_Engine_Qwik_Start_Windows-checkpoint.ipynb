{
  "cells": [
    {
      "cell_type": "markdown",
      "metadata": {},
      "source": [
        "# 📌 Laboratorio: Inicio Rápido con Compute Engine - Windows\n",
        "\n",
        "## 🌐 Introducción a Compute Engine\n",
        "**Google Compute Engine** permite crear y ejecutar máquinas virtuales (VMs) en la infraestructura de Google Cloud, utilizando sistemas operativos como **Windows Server**. Ofrece escalabilidad automática, alta velocidad de red, almacenamiento confiable, y la capacidad de ejecutar aplicaciones Windows en la nube.\n",
        "\n",
        "Este laboratorio te enseña a crear una instancia de **Windows Server 2022 Datacenter**, verificar su estado, generar una contraseña para **RDP** (Remote Desktop Protocol), y conectarte remotamente al escritorio de la VM.\n",
        "\n",
        "💡 **Contexto empresarial**: Similar a configurar un servidor en la nube para hospedar un sistema ERP o una base de datos financiera, garantizando acceso remoto seguro y escalabilidad.\n",
        "\n",
        "### Objetivos del Laboratorio\n",
        "- Crear una instancia de **Windows Server** en **Compute Engine**.\n",
        "- Verificar el estado de la instancia.\n",
        "- Generar una contraseña para conexión **RDP**.\n",
        "- Conectarte a la VM mediante **RDP**.\n",
        "\n",
        "💡 **Beneficio empresarial**: Facilita el despliegue de aplicaciones Windows, como software contable, con acceso remoto para equipos distribuidos.\n",
        "\n",
        "Para más información, consulta la [Documentación de Compute Engine](https://cloud.google.com/compute/docs) y [Documentación de Windows Server en Google Cloud](https://cloud.google.com/compute/docs/instances/windows)."
      ]
    },
    {
      "cell_type": "markdown",
      "metadata": {},
      "source": [
        "## 🔧 Requisitos y Configuración Inicial\n",
        "\n",
        "Antes de comenzar:\n",
        "- El laboratorio es temporal y cronometrado; no puede pausarse una vez iniciado.\n",
        "- Usa **Google Chrome** en modo incógnito para evitar conflictos con cuentas personales.\n",
        "- Utiliza la cuenta temporal de estudiante proporcionada.\n",
        "- No uses cuentas personales de Google Cloud para evitar cargos.\n",
        "\n",
        "### Pasos para Iniciar Sesión en la Consola de Google Cloud\n",
        "1. Haz clic en **Start Lab**.\n",
        "2. Copia el **Username** y **Password** del panel izquierdo.\n",
        "3. Haz clic en **Open Google Cloud Console** (o abre en modo incógnito).\n",
        "4. Inicia sesión con las credenciales proporcionadas.\n",
        "5. Acepta los términos y condiciones; no configures recuperación ni autenticación en dos pasos.\n",
        "\n",
        "💡 **Propósito**: Garantiza un entorno seguro y controlado, como preparar un sistema contable antes de procesar transacciones."
      ]
    },
    {
      "cell_type": "markdown",
      "metadata": {},
      "source": [
        "## 🖥️ Activación de Cloud Shell\n",
        "\n",
        "**Cloud Shell** es una máquina virtual con una interfaz de línea de comandos que incluye herramientas como `gcloud`, `git`, y un directorio personal de 5 GB.\n",
        "\n",
        "### Pasos\n",
        "1. Haz clic en **Activate Cloud Shell** (ícono en la parte superior derecha de la consola).\n",
        "2. Autoriza el uso de tus credenciales para llamadas a la API.\n",
        "3. Verifica el ID del proyecto activo en el mensaje de bienvenida.\n",
        "\n",
        "### Comandos Útiles\n",
        "Verifica la cuenta y el proyecto activos:\n"
      ]
    },
    {
      "cell_type": "code",
      "metadata": {},
      "source": "gcloud auth list\ngcloud config list project",
      "execution_count": null,
      "outputs": []
    },
    {
      "cell_type": "markdown",
      "metadata": {},
      "source": [
        "| Comando | Descripción |\n",
        "|---------|-------------|\n",
        "| `gcloud auth list` | Lista las cuentas autenticadas actualmente. |\n",
        "| `gcloud config list project` | Muestra el ID del proyecto activo. |\n",
        "\n",
        "💡 **Propósito**: Confirma el entorno, como verificar la configuración de un software contable antes de usarlo.\n",
        "\n",
        "Para más información, consulta la [Documentación de Cloud Shell](https://cloud.google.com/shell/docs)."
      ]
    },
    {
      "cell_type": "markdown",
      "metadata": {},
      "source": [
        "## 🖥️ Crear una Instancia Virtual con Windows Server\n",
        "\n",
        "### Pasos en la Consola de Google Cloud\n",
        "1. Ve a **Compute Engine > VM Instances**.\n",
        "2. Haz clic en **Create Instance**.\n",
        "3. Configura los siguientes parámetros:\n",
        "\n",
        "| Campo | Valor sugerido |\n",
        "|-------|----------------|\n",
        "| **Region** | A elección (ej. `us-central1`) |\n",
        "| **Zone** | A elección (ej. `us-central1-a`) |\n",
        "| **Series** | `E2` |\n",
        "| **OS & Storage** | Windows Server 2022 Datacenter |\n",
        "\n",
        "4. Haz clic en **Create**.\n",
        "\n",
        "💡 **Propósito**: Crea una VM con **Windows Server**, como configurar un servidor para un sistema ERP financiero.\n",
        "\n",
        "💡 **Beneficio empresarial**: Proporciona un entorno escalable para aplicaciones Windows, como bases de datos contables.\n",
        "\n",
        "Para más información, consulta la [Documentación de Windows Server en Google Cloud](https://cloud.google.com/compute/docs/instances/windows)."
      ]
    },
    {
      "cell_type": "markdown",
      "metadata": {},
      "source": [
        "## 🔍 Verificar Estado de Inicio de la Instancia\n",
        "\n",
        "La VM puede tardar unos minutos en estar lista para conexiones **RDP**. Verifica el estado con el siguiente comando (reemplaza `[instance]` y `ZONE` con el nombre de tu VM y la zona, ej. `my-windows-vm` y `us-central1-a`):\n"
      ]
    },
    {
      "cell_type": "code",
      "metadata": {},
      "source": "gcloud compute instances get-serial-port-output [instance] --zone=ZONE",
      "execution_count": null,
      "outputs": []
    },
    {
      "cell_type": "markdown",
      "metadata": {},
      "source": [
        "💡 **Propósito**: Muestra la salida del puerto serial para confirmar que la VM está lista (`Instance setup finished. instance is ready to use.`).\n",
        "\n",
        "💡 **Analogía contable**: Similar a verificar que un sistema contable está completamente configurado antes de su uso.\n",
        "\n",
        "Repite el comando hasta que veas el mensaje de confirmación."
      ]
    },
    {
      "cell_type": "markdown",
      "metadata": {},
      "source": [
        "## 🔐 Establecer Contraseña para RDP\n",
        "\n",
        "Genera una contraseña para la conexión **RDP** (reemplaza `[instance]`, `ZONE`, y `[username]` con los valores correspondientes, ej. `my-windows-vm`, `us-central1-a`, `admin`):\n"
      ]
    },
    {
      "cell_type": "code",
      "metadata": {},
      "source": "gcloud compute reset-windows-password [instance] --zone ZONE --user [username]",
      "execution_count": null,
      "outputs": []
    },
    {
      "cell_type": "markdown",
      "metadata": {},
      "source": [
        "💡 **Propósito**: Crea una contraseña para el usuario administrador, como configurar credenciales seguras para un sistema financiero.\n",
        "\n",
        "💡 **Instrucción**: Confirma con `Y` si se solicita y guarda la contraseña generada."
      ]
    },
    {
      "cell_type": "markdown",
      "metadata": {},
      "source": [
        "## 🌐 Conectarse a la VM mediante RDP\n",
        "\n",
        "### Opciones de Conexión\n",
        "1. **Desde Chromebook o eventos de Google**: Usa el ícono **RDP** preinstalado.\n",
        "2. **Desde Chrome (no Windows)**: Instala la extensión **Spark View**, abre la aplicación, y usa:\n",
        "   - **Usuario**: `[username]` (ej. `admin`).\n",
        "   - **Contraseña**: Generada previamente.\n",
        "   - **Domain**: IP externa de la VM (encontrada en **Compute Engine > VM Instances**).\n",
        "3. **Desde macOS**: Usa un cliente RDP como **CoRD**.\n",
        "\n",
        "### Copiar y Pegar en la Conexión RDP\n",
        "- En PowerShell dentro de la VM: Usa **Ctrl + V** (en Mac, **Cmd + V** no funciona).\n",
        "- En **PuTTY**: Haz clic derecho para pegar.\n",
        "\n",
        "💡 **Propósito**: Accede al escritorio de **Windows Server**, como conectar remotamente a un sistema contable en la nube.\n",
        "\n",
        "💡 **Beneficio empresarial**: Permite gestionar aplicaciones financieras desde cualquier ubicación con acceso seguro."
      ]
    },
    {
      "cell_type": "markdown",
      "metadata": {},
      "source": [
        "## 📈 Flujo de Trabajo: Crear y Conectar a una VM Windows\n",
        "\n",
        "Este diagrama en texto ilustra el flujo de trabajo para crear y configurar una VM con **Windows Server** en **Compute Engine**, y conectarse mediante **RDP**.\n",
        "\n",
        "💡 **Contexto empresarial**: Similar a configurar un servidor en la nube para un sistema ERP o base de datos financiera, desde la creación hasta el acceso remoto.\n",
        "\n",
        "```\n[Configurar Cloud Shell] --> [Crear VM Windows] --> [Verificar Estado] --> [Generar Contraseña RDP] --> [Conectar vía RDP]\n   |                        |                     |                   |                        |\n   Autenticar y verificar  Crear instancia con   Confirmar que VM   Establecer credenciales  Acceder al escritorio\n   cuenta/proyecto         Windows Server 2022  está lista         para usuario            de Windows\n```\n",
        "\n",
        "💡 **Explicación**:\n",
        "- **Configurar Cloud Shell**: Autenticar y verificar el proyecto.\n",
        "- **Crear VM Windows**: Configurar la instancia con **Windows Server**.\n",
        "- **Verificar Estado**: Confirmar que la VM está lista para conexiones.\n",
        "- **Generar Contraseña RDP**: Crear credenciales para acceso remoto.\n",
        "- **Conectar vía RDP**: Acceder al escritorio de la VM.\n",
        "\n",
        "Para más información, consulta la [Documentación de Compute Engine](https://cloud.google.com/compute/docs)."
      ]
    },
    {
      "cell_type": "markdown",
      "metadata": {},
      "source": [
        "## ❓ Preguntas de Evaluación\n",
        "\n",
        "1. **¿Cómo podemos crear una instancia de Windows en Google Cloud?**\n",
        "   - ✅ Cambiando el disco de arranque (**boot disk**) a una imagen de **Windows**.\n",
        "\n",
        "2. **¿Qué comando se usa para verificar si el servidor está listo para RDP?**\n",
        "   - ✅ `gcloud compute instances get-serial-port-output`\n",
        "\n",
        "💡 **Propósito**: Refuerza el aprendizaje de los conceptos clave del laboratorio."
      ]
    },
    {
      "cell_type": "markdown",
      "metadata": {},
      "source": [
        "## 📋 Cuadro Resumen Final\n",
        "\n",
        "| Elemento | Descripción |\n",
        "|----------|-------------|\n",
        "| **Servicio Utilizado** | Google Compute Engine |\n",
        "| **Sistema Operativo** | Windows Server 2022 Datacenter |\n",
        "| **Acceso a la nube** | Cuenta de laboratorio temporal |\n",
        "| **Conexión remota (RDP)** | IP externa + contraseña generada con `gcloud` |\n",
        "| **Cloud Shell** | Terminal virtual para comandos de Google Cloud |\n",
        "| **Comandos clave** | `gcloud compute instances get-serial-port-output`, `gcloud compute reset-windows-password` |\n",
        "| **Duración del laboratorio** | Aproximadamente 40 minutos |\n",
        "| **Recomendaciones técnicas** | Usar navegador en modo incógnito, preferentemente Google Chrome |\n",
        "\n",
        "💡 **Conclusión empresarial**: **Compute Engine** permite desplegar servidores Windows para aplicaciones financieras, como sistemas ERP, con acceso remoto seguro y escalabilidad."
      ]
    },
    {
      "cell_type": "markdown",
      "metadata": {},
      "source": [
        "## 🚀 Conclusión\n",
        "\n",
        "Este laboratorio te permitió:\n",
        "1. Crear una instancia de **Windows Server 2022** en **Compute Engine**.\n",
        "2. Verificar el estado de la VM.\n",
        "3. Generar una contraseña para conexión **RDP**.\n",
        "4. Conectarte al escritorio de la VM remotamente.\n",
        "\n",
        "💡 **Beneficio empresarial**: Facilita el despliegue de aplicaciones Windows, como software contable, con acceso remoto seguro y alta disponibilidad.\n",
        "\n",
        "Para más información, consulta la [Documentación de Compute Engine](https://cloud.google.com/compute/docs), [Documentación de Cloud Shell](https://cloud.google.com/shell/docs), y [Documentación de Windows Server en Google Cloud](https://cloud.google.com/compute/docs/instances/windows)."
      ]
    }
  ],
  "metadata": {
    "kernelspec": {
      "display_name": "Bash",
      "language": "bash",
      "name": "bash"
    },
    "language_info": {
      "name": "bash"
    }
  },
  "nbformat": 4,
  "nbformat_minor": 5
}