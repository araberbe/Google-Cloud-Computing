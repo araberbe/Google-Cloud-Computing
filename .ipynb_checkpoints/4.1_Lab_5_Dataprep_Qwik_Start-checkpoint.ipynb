{
  "cells": [
    {
      "cell_type": "markdown",
      "metadata": {},
      "source": [
        "# 📌 Laboratorio: Dataprep Qwik Start\n",
        "\n",
        "## 🌐 Introducción\n",
        "Este laboratorio utiliza **Cloud Storage** y **Cloud Dataprep by Trifacta** (parte de **Alteryx Designer Cloud**) para importar, transformar y analizar datos de las elecciones presidenciales estadounidenses de 2016. Aunque los datos son electorales, los procesos son similares a la conciliación o auditoría contable, como importar libros contables, limpiar datos inconsistentes, aplicar filtros y generar resúmenes.\n",
        "\n",
        "💡 **Contexto empresarial**: **Dataprep** actúa como un asistente contable digital que organiza, limpia y resume grandes volúmenes de datos financieros, optimizando auditorías y reportes.\n",
        "\n",
        "### Objetivos del Laboratorio\n",
        "- Crear un **bucket** en **Cloud Storage**.\n",
        "- Inicializar **Cloud Dataprep**.\n",
        "- Crear un flujo (**flow**) y importar datasets.\n",
        "- Transformar y unir datos de candidatos y contribuciones.\n",
        "- Generar un resumen estadístico.\n",
        "\n",
        "Para más información, consulta la [Documentación de Cloud Dataprep](https://cloud.google.com/dataprep/docs)."
      ]
    },
    {
      "cell_type": "markdown",
      "metadata": {},
      "source": [
        "## 📁 Tarea 1: Crear un Cloud Storage Bucket\n",
        "\n",
        "### Pasos\n",
        "1. Ve a **Navigation menu > Cloud Storage > Buckets**.\n",
        "2. Haz clic en **Create bucket**.\n",
        "3. Asigna un nombre único (ej. `nombre-bucket`) y mantén los valores predeterminados.\n",
        "4. Desmarca **Enforce public access prevention on this bucket**.\n",
        "5. Haz clic en **Create**.\n",
        "6. Anota el nombre del bucket para usarlo más adelante.\n",
        "\n",
        "### Comando Equivalente\n",
        "Crea el bucket desde **Cloud Shell** (reemplaza `nombre-bucket` con un nombre único):\n"
      ]
    },
    {
      "cell_type": "code",
      "metadata": {},
      "source": "gsutil mb gs://nombre-bucket/",
      "execution_count": null,
      "outputs": []
    },
    {
      "cell_type": "markdown",
      "metadata": {},
      "source": [
        "💡 **Propósito**: El bucket almacena archivos temporales y resultados, como una carpeta digital para documentos financieros antes de procesarlos.\n",
        "\n",
        "💡 **Beneficio empresarial**: Proporciona almacenamiento escalable y seguro para datos en tránsito, ideal para auditorías.\n",
        "\n",
        "Para más información, consulta la [Documentación de Cloud Storage](https://cloud.google.com/storage/docs)."
      ]
    },
    {
      "cell_type": "markdown",
      "metadata": {},
      "source": [
        "## 🔧 Tarea 2: Inicializar Cloud Dataprep\n",
        "\n",
        "### Paso 1: Crear Identidad de Servicio\n",
        "Crea una identidad de servicio para **Dataprep** desde **Cloud Shell**:\n"
      ]
    },
    {
      "cell_type": "code",
      "metadata": {},
      "source": "gcloud beta services identity create --service=dataprep.googleapis.com",
      "execution_count": null,
      "outputs": []
    },
    {
      "cell_type": "markdown",
      "metadata": {},
      "source": [
        "💡 **Propósito**: Habilita **Dataprep** para interactuar con otros servicios de Google Cloud, como autorizar a un equipo contable a acceder a registros financieros.\n",
        "\n",
        "### Paso 2: Aceptar Términos y Activar el Producto\n",
        "1. Ve a **Navigation menu > View All Products > Analytics > Alteryx Designer Cloud**.\n",
        "2. Acepta los **Términos de Servicio** de **Google Dataprep** y **Trifacta**.\n",
        "3. Permite acceso a los datos del proyecto.\n",
        "4. Inicia sesión con el usuario proporcionado.\n",
        "5. Finaliza la configuración inicial.\n",
        "\n",
        "💡 **Propósito**: Prepara el entorno de **Dataprep**, como configurar un software contable antes de procesar datos.\n",
        "\n",
        "💡 **Beneficio empresarial**: Simplifica la preparación de datos, reduciendo tiempo en auditorías o conciliaciones.\n",
        "\n",
        "Para más información, consulta la [Documentación de Cloud Shell](https://cloud.google.com/shell/docs)."
      ]
    },
    {
      "cell_type": "markdown",
      "metadata": {},
      "source": [
        "## 📋 Tarea 3: Crear un Flow\n",
        "\n",
        "Un **flow** en **Dataprep** es como una hoja de cálculo contable que organiza datos y permite transformaciones.\n",
        "\n",
        "### Pasos\n",
        "1. Haz clic en **Flows** > **Create > Blank Flow**.\n",
        "2. Renombra el flujo como `FEC-2016`.\n",
        "3. Añade la descripción: `United States Federal Elections Commission 2016`.\n",
        "\n",
        "💡 **Propósito**: Organiza los datos en un flujo, como crear un libro contable para registrar transacciones.\n",
        "\n",
        "💡 **Beneficio empresarial**: Estructura datos financieros para análisis rápidos y precisos."
      ]
    },
    {
      "cell_type": "markdown",
      "metadata": {},
      "source": [
        "## 📊 Tarea 4: Importar los Conjuntos de Datos\n",
        "\n",
        "### Pasos\n",
        "1. Haz clic en **Add Datasets > Import Datasets**.\n",
        "2. Selecciona **Cloud Storage**.\n",
        "3. Edita la ruta: `gs://spls/gsp105`.\n",
        "4. Ingresa al directorio `us-fec/`.\n",
        "5. Selecciona y renombra:\n",
        "   - `cn-2016.txt` como `Candidate Master 2016`.\n",
        "   - `itcont-2016-orig.txt` como `Campaign Contributions 2016`.\n",
        "6. Haz clic en **Import & Add to Flow**.\n",
        "\n",
        "💡 **Propósito**: Importa datos brutos, como cargar registros financieros en un sistema contable.\n",
        "\n",
        "💡 **Beneficio empresarial**: Centraliza datos para su procesamiento, similar a importar transacciones de múltiples sucursales."
      ]
    },
    {
      "cell_type": "markdown",
      "metadata": {},
      "source": [
        "## 🛠️ Tarea 5: Preparar el Archivo de Candidatos\n",
        "\n",
        "### Pasos\n",
        "1. Selecciona **Candidate Master 2016** > **Edit Recipe**.\n",
        "2. Amplía `column5` para identificar registros del año 2016.\n",
        "3. Añade el paso sugerido:\n"
      ]
    },
    {
      "cell_type": "code",
      "metadata": {},
      "source": "Keep rows where (DATE(2016, 1, 1) <= column5) && (column5 < DATE(2018, 1, 1))",
      "language": "plaintext",
      "execution_count": null,
      "outputs": []
    },
    {
      "cell_type": "markdown",
      "metadata": {},
      "source": [
        "4. En `column6` (estado), cambia el tipo de dato de **State** a **String** para evitar errores con valores como `US`.\n",
        "5. Filtra solo candidatos presidenciales seleccionando la categoría `P` en `column7`.\n",
        "\n",
        "💡 **Propósito**: Limpia y filtra datos, como revisar un libro contable para incluir solo transacciones de un período o tipo específico.\n",
        "\n",
        "💡 **Beneficio empresarial**: Garantiza datos precisos para análisis, reduciendo errores en auditorías."
      ]
    },
    {
      "cell_type": "markdown",
      "metadata": {},
      "source": [
        "## 🔄 Tarea 6: Transformar el Archivo de Contribuciones y Unirlo\n",
        "\n",
        "### Limpieza de Datos\n",
        "1. Selecciona **Campaign Contributions 2016** > **Add > Recipe > Edit Recipe**.\n",
        "2. Añade un paso con el comando:\n"
      ]
    },
    {
      "cell_type": "code",
      "metadata": {},
      "source": "replacepatterns col: * with: '' on: `{start}\"|\"{end}` global: true",
      "language": "plaintext",
      "execution_count": null,
      "outputs": []
    },
    {
      "cell_type": "markdown",
      "metadata": {},
      "source": [
        "| Parte del Comando | Qué Hace |\n",
        "|-------------------|----------|\n",
        "| `replacepatterns` | Reemplaza patrones en los datos. |\n",
        "| `col: *` | Aplica a todas las columnas. |\n",
        "| `with: ''` | Reemplaza por vacío. |\n",
        "| `on: {start}\"|\"{end}` | Busca comillas al inicio o fin. |\n",
        "| `global: true` | Aplica a todo el archivo. |\n",
        "\n",
        "💡 **Propósito**: Elimina comillas innecesarias, como limpiar registros financieros con formatos inconsistentes.\n",
        "\n",
        "### Unir Datasets\n",
        "1. En el flujo, selecciona **Join datasets**.\n",
        "2. Selecciona **Candidate Master 2016**.\n",
        "3. Configura la clave de unión: `column2 = column11`.\n",
        "4. Incluye todas las columnas de ambos datasets.\n",
        "5. Haz clic en **Review > Add to Recipe**.\n",
        "\n",
        "💡 **Propósito**: Une datos de candidatos y contribuciones, como combinar transacciones con información de clientes.\n",
        "\n",
        "💡 **Beneficio empresarial**: Integra datos para análisis completos, como generar reportes financieros consolidados."
      ]
    },
    {
      "cell_type": "markdown",
      "metadata": {},
      "source": [
        "## 📈 Tarea 7: Generar un Resumen de Datos\n",
        "\n",
        "Crea un resumen con totales, promedios y conteos de contribuciones:\n"
      ]
    },
    {
      "cell_type": "code",
      "metadata": {},
      "source": "pivot value:sum(column16),average(column16),countif(column16 > 0) group: column2,column24,column8",
      "language": "plaintext",
      "execution_count": null,
      "outputs": []
    },
    {
      "cell_type": "markdown",
      "metadata": {},
      "source": [
        "| Parte del Comando | Qué Hace |\n",
        "|-------------------|----------|\n",
        "| `pivot` | Genera un resumen dinámico. |\n",
        "| `value: sum, average, countif` | Calcula suma, promedio y conteo de contribuciones. |\n",
        "| `group: column2, column24, column8` | Agrupa por ID, nombre y afiliación política. |\n",
        "\n",
        "💡 **Propósito**: Resume datos, como calcular el total y promedio de transacciones por cliente o categoría.\n",
        "\n",
        "💡 **Beneficio empresarial**: Facilita la generación de reportes financieros, como balances o análisis de ingresos."
      ]
    },
    {
      "cell_type": "markdown",
      "metadata": {},
      "source": [
        "## 🖌️ Tarea 8: Renombrar Columnas\n",
        "\n",
        "Renombra las columnas para claridad:\n"
      ]
    },
    {
      "cell_type": "code",
      "metadata": {},
      "source": "rename type: manual mapping: [column24,'Candidate_Name'], [column2,'Candidate_ID'],[column8,'Party_Affiliation'], [sum_column16,'Total_Contribution_Sum'], [average_column16,'Average_Contribution_Sum'], [countif,'Number_of_Contributions']",
      "language": "plaintext",
      "execution_count": null,
      "outputs": []
    },
    {
      "cell_type": "markdown",
      "metadata": {},
      "source": [
        "Redondea el promedio de contribuciones:\n"
      ]
    },
    {
      "cell_type": "code",
      "metadata": {},
      "source": "set col: Average_Contribution_Sum value: round(Average_Contribution_Sum)",
      "language": "plaintext",
      "execution_count": null,
      "outputs": []
    },
    {
      "cell_type": "markdown",
      "metadata": {},
      "source": [
        "💡 **Propósito**: Mejora la legibilidad del resumen, como renombrar columnas en un informe financiero para claridad.\n",
        "\n",
        "💡 **Beneficio empresarial**: Facilita la interpretación de datos para auditorías o presentaciones ejecutivas."
      ]
    },
    {
      "cell_type": "markdown",
      "metadata": {},
      "source": [
        "## 📋 Cuadro Resumen Final\n",
        "\n",
        "| Elemento | Descripción |\n",
        "|----------|-------------|\n",
        "| **Herramientas** | Google Cloud Storage, Cloud Dataprep (Alteryx Designer Cloud) |\n",
        "| **Objetivo** | Transformar y analizar datos de candidatos y contribuciones electorales |\n",
        "| **Tipo de Datos** | Archivos .txt con información electoral (equivalente a libros contables) |\n",
        "| **Transformaciones** | Filtros por año, limpieza de datos, unión de datasets, resúmenes estadísticos |\n",
        "| **Comandos** | `gcloud services identity`, `replacepatterns`, `pivot`, `rename`, `set` |\n",
        "| **Resultado** | Tabla resumen con contribuciones totales, promedio y cantidad por candidato |\n",
        "\n",
        "💡 **Conclusión empresarial**: **Dataprep** simplifica la limpieza y análisis de datos financieros, como conciliar transacciones o generar reportes, optimizando procesos contables."
      ]
    },
    {
      "cell_type": "markdown",
      "metadata": {},
      "source": [
        "## 🚀 Conclusión\n",
        "\n",
        "Este laboratorio te permitió:\n",
        "1. Crear un **bucket** en **Cloud Storage**.\n",
        "2. Inicializar **Cloud Dataprep**.\n",
        "3. Crear un flujo y importar datasets electorales.\n",
        "4. Transformar, unir y resumir datos.\n",
        "\n",
        "💡 **Beneficio empresarial**: Automatiza la preparación de datos financieros, reduciendo errores y tiempo en auditorías o reportes.\n",
        "\n",
        "Para más información, consulta la [Documentación de Cloud Dataprep](https://cloud.google.com/dataprep/docs) y [Documentación de Cloud Storage](https://cloud.google.com/storage/docs)."
      ]
    }
  ],
  "metadata": {
    "kernelspec": {
      "display_name": "Bash",
      "language": "bash",
      "name": "bash"
    },
    "language_info": {
      "name": "bash"
    }
  },
  "nbformat": 4,
  "nbformat_minor": 5
}