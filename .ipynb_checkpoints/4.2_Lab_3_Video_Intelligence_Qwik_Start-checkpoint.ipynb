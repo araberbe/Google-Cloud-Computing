{
  "cells": [
    {
      "cell_type": "markdown",
      "metadata": {},
      "source": [
        "# 📌 Laboratorio: Video Intelligence API - Qwik Start\n",
        "\n",
        "## 🌐 Introducción al Servicio de Video Intelligence\n",
        "La **Video Intelligence API** de Google Cloud permite analizar videos para extraer metadatos automáticamente, como objetos, escenas o eventos, mediante una API REST sencilla. Esta herramienta facilita la búsqueda y el descubrimiento de contenido en videos, analizándolos por completo, por fragmentos o cuadro por cuadro.\n",
        "\n",
        "💡 **Contexto empresarial**: Similar a un sistema de auditoría visual que etiqueta automáticamente activos o eventos en un video, como si cada escena fuera una transacción en un libro mayor contable.\n",
        "\n",
        "### Objetivos del Laboratorio\n",
        "- Configurar autorización para una cuenta de servicio personalizada.\n",
        "- Enviar una solicitud de anotación de video a la **Video Intelligence API**.\n",
        "\n",
        "💡 **Beneficio empresarial**: Automatiza el análisis de videos para monitorear procesos, como auditorías visuales de inventarios o registros de operaciones empresariales.\n",
        "\n",
        "Para más información, consulta la [Documentación de Video Intelligence API](https://cloud.google.com/video-intelligence/docs)."
      ]
    },
    {
      "cell_type": "markdown",
      "metadata": {},
      "source": [
        "## 🔧 Requisitos Previos\n",
        "\n",
        "Antes de comenzar:\n",
        "- Lee las instrucciones del laboratorio (está cronometrado y no se puede pausar).\n",
        "- Usa un navegador moderno (recomendado: Google Chrome en modo incógnito).\n",
        "- Utiliza las credenciales temporales proporcionadas por el laboratorio.\n",
        "- No uses cuentas personales de Google Cloud para evitar cargos.\n",
        "\n",
        "### Inicio del Laboratorio y Acceso a Google Cloud\n",
        "1. Haz clic en **Start Lab** para comenzar.\n",
        "2. Usa las credenciales temporales (usuario y contraseña) proporcionadas.\n",
        "3. Acepta los términos y condiciones.\n",
        "4. No configures verificación en dos pasos ni recuperación de cuenta.\n",
        "5. Evita usar cuentas personales o pruebas gratuitas.\n",
        "\n",
        "💡 **Propósito**: Garantiza un entorno seguro y controlado, como preparar un sistema contable antes de procesar transacciones.\n",
        "\n",
        "### Acceder al Entorno de Trabajo (Cloud Shell)\n",
        "**Cloud Shell** es una terminal virtual con herramientas preinstaladas para Google Cloud.\n",
        "1. Haz clic en **Activate Cloud Shell** en la consola.\n",
        "2. Autoriza el uso de tu cuenta.\n",
        "3. Verifica la cuenta activa y el ID del proyecto con los siguientes comandos:\n"
      ]
    },
    {
      "cell_type": "code",
      "metadata": {},
      "source": "gcloud auth list\ngcloud config list project",
      "execution_count": null,
      "outputs": []
    },
    {
      "cell_type": "markdown",
      "metadata": {},
      "source": [
        "💡 **Propósito**: Confirma el entorno, como verificar la configuración de un software contable antes de usarlo.\n",
        "\n",
        "Para más información, consulta la [Documentación de Cloud Shell](https://cloud.google.com/shell/docs)."
      ]
    },
    {
      "cell_type": "markdown",
      "metadata": {},
      "source": [
        "## 🔑 Tarea 1: Configurar Autorización\n",
        "\n",
        "### Paso 1: Crear una Cuenta de Servicio\n",
        "Crea una cuenta de servicio llamada `quickstart`:\n"
      ]
    },
    {
      "cell_type": "code",
      "metadata": {},
      "source": "gcloud iam service-accounts create quickstart",
      "execution_count": null,
      "outputs": []
    },
    {
      "cell_type": "markdown",
      "metadata": {},
      "source": [
        "💡 **Propósito**: Habilita el acceso seguro a la **Video Intelligence API**, como autorizar a un equipo contable para acceder a registros financieros.\n",
        "\n",
        "### Paso 2: Crear un Archivo de Clave\n",
        "Genera una clave en formato JSON para la cuenta de servicio (reemplaza `<your-project-123>` con el ID de tu proyecto):\n"
      ]
    },
    {
      "cell_type": "code",
      "metadata": {},
      "source": "gcloud iam service-accounts keys create key.json \\\n  --iam-account quickstart@<your-project-123>.iam.gserviceaccount.com",
      "execution_count": null,
      "outputs": []
    },
    {
      "cell_type": "markdown",
      "metadata": {},
      "source": [
        "💡 **Propósito**: Crea una credencial para autenticar la API, como generar una contraseña segura para un sistema contable.\n",
        "\n",
        "### Paso 3: Autenticar la Cuenta\n",
        "Activa la cuenta de servicio con la clave:\n"
      ]
    },
    {
      "cell_type": "code",
      "metadata": {},
      "source": "gcloud auth activate-service-account --key-file key.json",
      "execution_count": null,
      "outputs": []
    },
    {
      "cell_type": "markdown",
      "metadata": {},
      "source": [
        "💡 **Propósito**: Autentica la cuenta para acceder a la API, como otorgar permisos en un software financiero.\n",
        "\n",
        "### Paso 4: Obtener un Token de Autorización\n",
        "Genera un token de acceso:\n"
      ]
    },
    {
      "cell_type": "code",
      "metadata": {},
      "source": "gcloud auth print-access-token",
      "execution_count": null,
      "outputs": []
    },
    {
      "cell_type": "markdown",
      "metadata": {},
      "source": [
        "💡 **Propósito**: Obtiene un token para autorizar solicitudes, como validar una sesión en un sistema ERP.\n",
        "\n",
        "💡 **Beneficio empresarial**: Garantiza acceso seguro a herramientas de análisis de video, como para auditar procesos grabados."
      ]
    },
    {
      "cell_type": "markdown",
      "metadata": {},
      "source": [
        "## 🎥 Tarea 2: Enviar Solicitud de Anotación de Video\n",
        "\n",
        "### Crear el Archivo JSON con la Solicitud\n",
        "Usa un video de ejemplo (`train.mp4`) almacenado en **Cloud Storage** para solicitar detección de etiquetas:\n"
      ]
    },
    {
      "cell_type": "code",
      "metadata": {},
      "source": "cat > request.json <<EOF\n{\n   \"inputUri\": \"gs://spls/gsp154/video/train.mp4\",\n   \"features\": [\n       \"LABEL_DETECTION\"\n   ]\n}\nEOF",
      "execution_count": null,
      "outputs": []
    },
    {
      "cell_type": "markdown",
      "metadata": {},
      "source": [
        "| Campo | Descripción |\n",
        "|-------|-------------|\n",
        "| `inputUri` | Ubicación del video en Cloud Storage. |\n",
        "| `features` | Tipo de análisis solicitado (LABEL_DETECTION). |\n",
        "\n",
        "💡 **Propósito**: Define la configuración para analizar el video, como preparar un formulario contable para clasificar transacciones.\n",
        "\n",
        "💡 **Analogía contable**: Similar a preparar una orden de auditoría para etiquetar activos o eventos en un video.\n",
        "\n",
        "Para más información, consulta la [Documentación de Cloud Storage](https://cloud.google.com/storage/docs).\n",
        "\n",
        "### Enviar la Solicitud con curl\n",
        "Envía la solicitud a la **Video Intelligence API**:\n"
      ]
    },
    {
      "cell_type": "code",
      "metadata": {},
      "source": "curl -s -H 'Content-Type: application/json' \\\n    -H 'Authorization: Bearer '$(gcloud auth print-access-token)'' \\\n    'https://videointelligence.googleapis.com/v1/videos:annotate' \\\n    -d @request.json",
      "execution_count": null,
      "outputs": []
    },
    {
      "cell_type": "markdown",
      "metadata": {},
      "source": [
        "#### Ejemplo de Salida JSON\n"
      ]
    },
    {
      "cell_type": "code",
      "metadata": {},
      "source": "{\n  \"name\": \"projects/474887704060/locations/asia-east1/operations/16366331060670521152\"\n}",
      "language": "json",
      "execution_count": null,
      "outputs": []
    },
    {
      "cell_type": "markdown",
      "metadata": {},
      "source": [
        "💡 **Propósito**: Inicia el análisis del video, como procesar una auditoría visual de activos.\n",
        "\n",
        "💡 **Beneficio empresarial**: Automatiza la identificación de elementos en videos, como equipos en un inventario grabado.\n",
        "\n",
        "### Verificar el Estado de la Operación\n",
        "Consulta el estado del análisis (reemplaza `PROJECTS`, `LOCATIONS`, y `OPERATION_NAME` con los valores de la respuesta anterior):\n"
      ]
    },
    {
      "cell_type": "code",
      "metadata": {},
      "source": "curl -s -H 'Content-Type: application/json' \\\n    -H 'Authorization: Bearer '$(gcloud auth print-access-token)'' \\\n    'https://videointelligence.googleapis.com/v1/projects/PROJECTS/locations/LOCATIONS/operations/OPERATION_NAME'",
      "execution_count": null,
      "outputs": []
    },
    {
      "cell_type": "markdown",
      "metadata": {},
      "source": [
        "#### Ejemplo de Salida JSON\n"
      ]
    },
    {
      "cell_type": "code",
      "metadata": {},
      "source": "{\n  \"name\": \"projects/425437283751/locations/asia-east1/operations/17938636079131796601\",\n  \"metadata\": {\n    \"progressMetadata\": [\n      {\n        \"inputUri\": \"gs://spls/gsp154/video/train.mp4\",\n        \"startTime\": \"2016-09-22T21:41:56.766091Z\",\n        \"lastUpdateTime\": \"2016-09-22T21:42:03.889743Z\"\n      }\n    ]\n  },\n  \"done\": true,\n  \"response\": {\n    \"annotationResults\": [\n      {\n        \"inputUri\": \"/spls/gsp154/video/train.mp4\",\n        \"segmentLabelAnnotations\": [\n          {\n            \"entity\": {\n              \"entityId\": \"/m/01yrx\",\n              \"languageCode\": \"en-US\"\n            },\n            \"segments\": [\n              {\n                \"segment\": {\n                  \"startTimeOffset\": \"0s\",\n                  \"endTimeOffset\": \"14.833664s\"\n                },\n                \"confidence\": 0.98509187\n              }\n            ]\n          }\n        ]\n      }\n    ]\n  }\n}",
      "language": "json",
      "execution_count": null,
      "outputs": []
    },
    {
      "cell_type": "markdown",
      "metadata": {},
      "source": [
        "| Campo | Descripción |\n",
        "|-------|-------------|\n",
        "| `name` | Identificador de la operación. |\n",
        "| `metadata.progressMetadata` | Información sobre el procesamiento. |\n",
        "| `done` | Indica si la operación ha finalizado. |\n",
        "| `response.annotationResults` | Resultados del análisis, como etiquetas detectadas. |\n",
        "| `segmentLabelAnnotations` | Etiquetas identificadas con confianza y tiempos. |\n",
        "\n",
        "💡 **Beneficio empresarial**: Proporciona información detallada sobre elementos en videos, como identificar activos en grabaciones de auditorías."
      ]
    },
    {
      "cell_type": "markdown",
      "metadata": {},
      "source": [
        "## 📋 Cuadro Resumen Final\n",
        "\n",
        "| Elemento clave | Descripción |\n",
        "|----------------|-------------|\n",
        "| **Servicio utilizado** | Video Intelligence API |\n",
        "| **Objetivo** | Analizar un video para detectar etiquetas (objetos, escenas) |\n",
        "| **Entorno de trabajo** | Google Cloud + Cloud Shell |\n",
        "| **Cuenta de servicio** | quickstart |\n",
        "| **Video de ejemplo** | `gs://spls/gsp154/video/train.mp4` |\n",
        "| **Resultado esperado** | Respuesta JSON con etiquetas y niveles de confianza |\n",
        "| **Comandos destacados** | `gcloud auth`, `curl`, `cat`, `gcloud iam` |\n",
        "| **Aplicación contable** | Similar a auditar visualmente activos o eventos en videos |\n",
        "\n",
        "💡 **Conclusión empresarial**: La **Video Intelligence API** automatiza el análisis de videos, como monitorear procesos grabados o auditar inventarios visualmente, optimizando la eficiencia."
      ]
    },
    {
      "cell_type": "markdown",
      "metadata": {},
      "source": [
        "## 🚀 Conclusión\n",
        "\n",
        "Este laboratorio te permitió:\n",
        "1. Configurar una cuenta de servicio y autorización para la **Video Intelligence API**.\n",
        "2. Enviar una solicitud de anotación para analizar un video y obtener etiquetas.\n",
        "3. Verificar los resultados del análisis con información detallada.\n",
        "\n",
        "💡 **Beneficio empresarial**: Facilita la auditoría visual de procesos o activos grabados, como inventarios o inspecciones, reduciendo tiempo y errores.\n",
        "\n",
        "Para más información, consulta la [Documentación de Video Intelligence API](https://cloud.google.com/video-intelligence/docs), [Documentación de Cloud Storage](https://cloud.google.com/storage/docs), y [Documentación de Cloud Shell](https://cloud.google.com/shell/docs)."
      ]
    }
  ],
  "metadata": {
    "kernelspec": {
      "display_name": "Bash",
      "language": "bash",
      "name": "bash"
    },
    "language_info": {
      "name": "bash"
    }
  },
  "nbformat": 4,
  "nbformat_minor": 5
}