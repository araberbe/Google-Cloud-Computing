{
 "cells": [
  {
   "cell_type": "markdown",
   "id": "fa9f756b",
   "metadata": {},
   "source": [
    "# 📌 Laboratorio: Crear una Máquina Virtual (VM) en Google Cloud\n",
    "\n",
    "## 🌐 Introducción a Compute Engine\n",
    "**Compute Engine** permite crear máquinas virtuales (VMs) con sistemas operativos como Linux Debian, Ubuntu, Red Hat o Windows Server, sobre la infraestructura escalable de Google Cloud. Este laboratorio te enseña a crear VMs, instalar un servidor web **NGINX**, y conectarte a ellas, usando tanto la consola web como la línea de comandos (**gcloud**).\n",
    "\n",
    "💡 **Contexto empresarial**: Similar a configurar un servidor para hospedar una aplicación contable que gestione registros financieros, facturas o reportes, garantizando alta disponibilidad y escalabilidad.\n",
    "\n",
    "### Objetivos del Laboratorio\n",
    "- Crear una VM usando la consola web de Google Cloud.\n",
    "- Crear una VM usando la línea de comandos **gcloud** en **Cloud Shell**.\n",
    "- Instalar y configurar un servidor web **NGINX** en la VM.\n",
    "\n",
    "💡 **Beneficio empresarial**: Automatiza procesos administrativos al hospedar aplicaciones web, como sistemas de contabilidad, con acceso seguro y escalable.\n",
    "\n",
    "Para más información, consulta la [Documentación de Compute Engine](https://cloud.google.com/compute/docs)."
   ]
  },
  {
   "cell_type": "markdown",
   "id": "0c0cfda4",
   "metadata": {},
   "source": [
    "## 🔧 Requisitos Previos\n",
    "\n",
    "Antes de comenzar:\n",
    "- Conocimientos básicos de editores de texto en Linux (ej. `nano`, `vim`, `emacs`).\n",
    "- Usa un navegador moderno (recomendado: Google Chrome en modo incógnito).\n",
    "- Utiliza una cuenta temporal de estudiante proporcionada por el laboratorio.\n",
    "- No uses cuentas personales de Google Cloud para evitar cargos.\n",
    "\n",
    "### Inicio del Laboratorio\n",
    "1. Haz clic en **Start Lab**.\n",
    "2. Usa las credenciales temporales (**Username** y **Password**) proporcionadas.\n",
    "3. Acepta los términos y condiciones.\n",
    "4. No configures autenticación en dos pasos ni recuperación de cuenta.\n",
    "5. Evita usar cuentas personales o pruebas gratuitas.\n",
    "\n",
    "💡 **Propósito**: Garantiza un entorno seguro y controlado, como preparar un sistema contable antes de procesar transacciones.\n",
    "\n",
    "### Activación de Cloud Shell\n",
    "**Cloud Shell** es una terminal virtual con herramientas preinstaladas, incluyendo:\n",
    "- Directorio personal de 5 GB.\n",
    "- Acceso autenticado al proyecto.\n",
    "- Comando `gcloud` con autocompletado.\n",
    "\n",
    "#### Comandos Útiles\n",
    "Verifica la cuenta y el proyecto activos:\n"
   ]
  },
  {
   "cell_type": "code",
   "execution_count": null,
   "id": "d9eb03e8",
   "metadata": {},
   "outputs": [],
   "source": [
    "gcloud auth list\n",
    "gcloud config list project"
   ]
  },
  {
   "cell_type": "markdown",
   "id": "965eb400",
   "metadata": {},
   "source": [
    "💡 **Propósito**: Confirma el entorno, como verificar la configuración de un software contable antes de usarlo.\n",
    "\n",
    "Para más información, consulta la [Documentación de Cloud Shell](https://cloud.google.com/shell/docs)."
   ]
  },
  {
   "cell_type": "markdown",
   "id": "5d241448",
   "metadata": {},
   "source": [
    "## 🌍 Conceptos: Regiones y Zonas\n",
    "\n",
    "- **Región**: Ubicación geográfica (ej. `us-central1`).\n",
    "- **Zonas**: Sublocalidades dentro de una región (ej. `us-central1-a`).\n",
    "- **Uso**: Recursos como VMs y discos deben estar en la misma zona para conectarse o asignar IPs estáticas.\n",
    "\n",
    "💡 **Contexto empresarial**: Elegir una región y zona optimiza el rendimiento, como seleccionar una ubicación estratégica para un centro de datos financiero.\n",
    "\n",
    "### Configuración del Entorno\n",
    "Define la región y zona predeterminadas (reemplaza `REGION` y `Zona` con valores específicos, ej. `us-central1` y `us-central1-a`):\n"
   ]
  },
  {
   "cell_type": "code",
   "execution_count": null,
   "id": "b10f0f62",
   "metadata": {},
   "outputs": [],
   "source": [
    "gcloud config set compute/region REGION\n",
    "export REGION=REGION\n",
    "export ZONE=Zona"
   ]
  },
  {
   "cell_type": "markdown",
   "id": "30bfe0ac",
   "metadata": {},
   "source": [
    "💡 **Propósito**: Simplifica la creación de VMs, como estandarizar configuraciones en un sistema contable."
   ]
  },
  {
   "cell_type": "markdown",
   "id": "be903468",
   "metadata": {},
   "source": [
    "## 🖥️ Tarea 1: Crear una VM desde la Consola Web\n",
    "\n",
    "### Pasos\n",
    "1. Ve a **Compute Engine > VM Instances > Create Instance**.\n",
    "2. Configura los siguientes parámetros:\n",
    "\n",
    "| Campo | Valor sugerido |\n",
    "|-------|----------------|\n",
    "| **Name** | `gcelab` |\n",
    "| **Region** | `<REGION>` (ej. `us-central1`) |\n",
    "| **Zone** | `<ZONE>` (ej. `us-central1-a`) |\n",
    "| **Series** | `E2` |\n",
    "| **Machine Type** | `e2-medium` (2 CPU, 4 GB) |\n",
    "| **OS & Storage** | Debian GNU/Linux 11, Disco de 10 GB (persistente) |\n",
    "| **Networking** | Firewall: Allow HTTP |\n",
    "\n",
    "3. Haz clic en **Create**.\n",
    "4. Conéctate a la VM usando el botón **SSH** junto al nombre de la VM.\n",
    "\n",
    "💡 **Propósito**: Crea una VM lista para hospedar aplicaciones, como un servidor para gestionar reportes financieros.\n",
    "\n",
    "💡 **Beneficio empresarial**: Proporciona un entorno escalable para aplicaciones contables accesibles vía web.\n",
    "\n",
    "Para más información, consulta la [Documentación de Compute Engine](https://cloud.google.com/compute/docs)."
   ]
  },
  {
   "cell_type": "markdown",
   "id": "189d50b0",
   "metadata": {},
   "source": [
    "## 🌐 Tarea 2: Instalar Servidor NGINX\n",
    "\n",
    "Dentro de la VM (conectada vía SSH), ejecuta los siguientes comandos:\n",
    "\n",
    "### Actualizar Paquetes\n"
   ]
  },
  {
   "cell_type": "code",
   "execution_count": null,
   "id": "a7655314",
   "metadata": {},
   "outputs": [],
   "source": [
    "sudo apt-get update"
   ]
  },
  {
   "cell_type": "markdown",
   "id": "ca57b11a",
   "metadata": {},
   "source": [
    "💡 **Propósito**: Actualiza la lista de paquetes disponibles, como preparar un sistema contable con las últimas actualizaciones.\n",
    "\n",
    "### Instalar NGINX\n"
   ]
  },
  {
   "cell_type": "code",
   "execution_count": null,
   "id": "6d78dadd",
   "metadata": {},
   "outputs": [],
   "source": [
    "sudo apt-get install -y nginx"
   ]
  },
  {
   "cell_type": "markdown",
   "id": "ccdaf678",
   "metadata": {},
   "source": [
    "💡 **Propósito**: Instala el servidor web **NGINX** automáticamente (`-y` evita confirmaciones manuales), como configurar un servidor para una aplicación financiera.\n",
    "\n",
    "### Verificar Ejecución de NGINX\n"
   ]
  },
  {
   "cell_type": "code",
   "execution_count": null,
   "id": "674a23c7",
   "metadata": {},
   "outputs": [],
   "source": [
    "ps auwx | grep nginx"
   ]
  },
  {
   "cell_type": "markdown",
   "id": "3b2b23f7",
   "metadata": {},
   "source": [
    "💡 **Propósito**: Confirma que **NGINX** está activo, como verificar que un sistema contable está funcionando correctamente.\n",
    "\n",
    "### Acceder al Servidor\n",
    "1. Copia la **IP externa** de la VM desde la consola de **Compute Engine**.\n",
    "2. Abre la IP en un navegador; debería mostrar la página **\"Welcome to nginx!\"**.\n",
    "\n",
    "💡 **Beneficio empresarial**: Hospeda aplicaciones web accesibles, como dashboards financieros, con alta disponibilidad.\n",
    "\n",
    "Para más información, consulta la [Documentación de NGINX](https://nginx.org/en/docs/)."
   ]
  },
  {
   "cell_type": "markdown",
   "id": "3fb6ff5c",
   "metadata": {},
   "source": [
    "## 🛠️ Tarea 3: Crear una VM usando gcloud\n",
    "\n",
    "En **Cloud Shell**, crea una segunda VM:\n"
   ]
  },
  {
   "cell_type": "code",
   "execution_count": null,
   "id": "41a83b0b",
   "metadata": {},
   "outputs": [],
   "source": [
    "gcloud compute instances create gcelab2 \\\n",
    "  --machine-type e2-medium \\\n",
    "  --zone=$ZONE"
   ]
  },
  {
   "cell_type": "markdown",
   "id": "640b78b8",
   "metadata": {},
   "source": [
    "💡 **Propósito**: Crea una VM con configuración predeterminada (Debian 11, disco persistente), como configurar un servidor adicional para pruebas contables.\n",
    "\n",
    "### Conectarse por SSH\n"
   ]
  },
  {
   "cell_type": "code",
   "execution_count": null,
   "id": "7e7f0ab8",
   "metadata": {},
   "outputs": [],
   "source": [
    "gcloud compute ssh gcelab2 --zone=$ZONE"
   ]
  },
  {
   "cell_type": "markdown",
   "id": "0cebd90d",
   "metadata": {},
   "source": [
    "💡 **Propósito**: Accede a la VM para configurarla, como conectar a un sistema contable remoto. Presiona `Y` para continuar y escribe `exit` para cerrar la sesión.\n",
    "\n",
    "💡 **Beneficio empresarial**: Automatiza la creación de servidores para aplicaciones, como sistemas de facturación, desde la línea de comandos."
   ]
  },
  {
   "cell_type": "markdown",
   "id": "b1c5b5f0",
   "metadata": {},
   "source": [
    "## 📈 Flujo de Trabajo: Crear y Configurar una VM\n",
    "\n",
    "Este diagrama en texto ilustra el flujo de trabajo para crear y configurar una VM con **NGINX** en **Compute Engine**, mostrando las etapas secuenciales.\n",
    "\n",
    "💡 **Contexto empresarial**: Similar a configurar un sistema contable automatizado, desde la creación del servidor hasta la publicación de reportes financieros accesibles vía web.\n",
    "\n",
    "```\n",
    "[Configurar Entorno] --> [Crear VM (Consola o gcloud)] --> [Instalar NGINX] --> [Verificar Servidor]\n",
    "   |                      |                              |                   |\n",
    "   Definir región       Crear VM con Debian          Actualizar paquetes   Acceder vía IP externa\n",
    "   y zona               y permitir HTTP              e instalar NGINX      y ver página de NGINX\n",
    "```\n",
    "\n",
    "💡 **Explicación**:\n",
    "- **Configurar Entorno**: Definir región y zona para la VM.\n",
    "- **Crear VM**: Usar consola web o `gcloud` para crear la VM.\n",
    "- **Instalar NGINX**: Configurar el servidor web en la VM.\n",
    "- **Verificar Servidor**: Confirmar que NGINX está activo y accesible.\n",
    "\n",
    "Para más información, consulta la [Documentación de Compute Engine](https://cloud.google.com/compute/docs)."
   ]
  },
  {
   "cell_type": "markdown",
   "id": "a40fd8cb",
   "metadata": {},
   "source": [
    "## 📋 Cuadro Resumen Final\n",
    "\n",
    "| Elemento | Detalle |\n",
    "|----------|--------|\n",
    "| **Servicio usado** | Google Compute Engine |\n",
    "| **Objetivo del laboratorio** | Crear VMs y configurar servidor web en Google Cloud |\n",
    "| **Métodos de creación** | Consola web y línea de comandos (`gcloud`) |\n",
    "| **Comandos clave** | `sudo apt-get update`, `sudo apt-get install -y nginx`, `gcloud compute instances create` |\n",
    "| **Conceptos importantes** | Regiones, Zonas, Cloud Shell, SSH, Firewall HTTP, NGINX |\n",
    "| **Salida esperada** | VM funcionando con servidor web accesible por IP externa |\n",
    "\n",
    "💡 **Conclusión empresarial**: **Compute Engine** permite crear servidores escalables para aplicaciones contables, como sistemas de facturación o dashboards financieros, optimizando procesos administrativos."
   ]
  },
  {
   "cell_type": "markdown",
   "id": "691b15c3",
   "metadata": {},
   "source": [
    "## 🚀 Conclusión\n",
    "\n",
    "Este laboratorio te permitió:\n",
    "1. Crear una VM usando la consola web de Google Cloud.\n",
    "2. Crear una VM con `gcloud` en **Cloud Shell**.\n",
    "3. Instalar y verificar un servidor web **NGINX**.\n",
    "\n",
    "💡 **Beneficio empresarial**: Configura servidores para aplicaciones financieras, como sistemas ERP o reportes accesibles vía web, con alta disponibilidad y escalabilidad.\n",
    "\n",
    "Para más información, consulta la [Documentación de Compute Engine](https://cloud.google.com/compute/docs), [Documentación de Cloud Shell](https://cloud.google.com/shell/docs), y [Documentación de NGINX](https://nginx.org/en/docs/)."
   ]
  }
 ],
 "metadata": {
  "kernelspec": {
   "display_name": "Python 3 (ipykernel)",
   "language": "python",
   "name": "python3"
  },
  "language_info": {
   "codemirror_mode": {
    "name": "ipython",
    "version": 3
   },
   "file_extension": ".py",
   "mimetype": "text/x-python",
   "name": "python",
   "nbconvert_exporter": "python",
   "pygments_lexer": "ipython3",
   "version": "3.9.21"
  }
 },
 "nbformat": 4,
 "nbformat_minor": 5
}
