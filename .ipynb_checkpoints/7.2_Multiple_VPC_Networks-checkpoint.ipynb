{
  "cells": [
    {
      "cell_type": "markdown",
      "metadata": {},
      "source": [
        "# 🌐 Redes VPC Múltiples (Multiple VPC Networks)\n",
        "\n",
        "En este laboratorio, aprenderás a crear y configurar múltiples redes **VPC (Virtual Private Cloud)** en Google Cloud, cada una con sus propias subredes, reglas de firewall y máquinas virtuales (VMs). Las redes VPC funcionan como departamentos internos dentro de una empresa, permitiendo aislar entornos, controlar accesos y proteger datos sensibles, como los registros financieros en un contexto contable.\n",
        "\n",
        "💡 **Beneficio empresarial**: Las redes VPC permiten segmentar sistemas críticos, como los de contabilidad, para garantizar seguridad, cumplimiento normativo y una gestión eficiente del tráfico de red, reduciendo riesgos y optimizando costos operativos.\n",
        "\n",
        "Para más información sobre redes VPC, consulta la [Documentación oficial de Google Cloud VPC](https://cloud.google.com/vpc/docs).\n",
        "\n",
        "## 🎯 Objetivos principales del laboratorio\n",
        "- Crear redes VPC en modo personalizado con reglas de firewall.\n",
        "- Desplegar instancias de máquina virtual (VM).\n",
        "- Explorar la conectividad entre VMs ubicadas en diferentes redes.\n",
        "- Crear una VM con múltiples interfaces de red.\n",
        "\n",
        "## 🧾 Requisitos y preparación\n",
        "- Usa una cuenta temporal de estudiante proporcionada por Google Cloud (no uses una cuenta personal).\n",
        "- El laboratorio tiene un tiempo límite de **1 hora y 10 minutos**.\n",
        "- Requiere un navegador web, preferiblemente Chrome en modo incógnito.\n",
        "- Si se requiere pago, el sistema lo indicará.\n",
        "- Una vez comenzado, el laboratorio no se puede pausar.\n",
        "\n",
        "📊 **Analogía contable**: Una red VPC es como un departamento contable virtual con sus propias reglas y límites, asegurando que los datos financieros estén protegidos y solo sean accesibles por los sistemas autorizados."
      ]
    },
    {
      "cell_type": "markdown",
      "metadata": {},
      "source": [
        "## 🚀 Comandos útiles en Cloud Shell\n",
        "\n",
        "Antes de comenzar, verifica tu entorno en **Cloud Shell** con los siguientes comandos:\n",
        "\n",
        "### Ver la cuenta activa\n",
        "Este comando muestra qué cuenta estás utilizando."
      ]
    },
    {
      "cell_type": "code",
      "metadata": {},
      "source": [
        "gcloud auth list"
      ],
      "execution_count": null,
      "outputs": []
    },
    {
      "cell_type": "markdown",
      "metadata": {},
      "source": [
        "**Explicación**:\n",
        "- Muestra la cuenta activa, asegurando que estás usando las credenciales temporales del laboratorio.\n",
        "\n",
        "💡 **Contexto empresarial**: Esto es como verificar que un contador esté usando las credenciales correctas para acceder a los sistemas financieros de la empresa."
      ]
    },
    {
      "cell_type": "markdown",
      "metadata": {},
      "source": [
        "### Ver el proyecto actual\n",
        "Este comando muestra el ID del proyecto asignado al laboratorio."
      ]
    },
    {
      "cell_type": "code",
      "metadata": {},
      "source": [
        "gcloud config list project"
      ],
      "execution_count": null,
      "outputs": []
    },
    {
      "cell_type": "markdown",
      "metadata": {},
      "source": [
        "**Explicación**:\n",
        "- Confirma que estás trabajando en el proyecto correcto, evitando errores en la configuración."
      ]
    },
    {
      "cell_type": "markdown",
      "metadata": {},
      "source": [
        "## 🚀 Tarea 1: Crear redes VPC en modo personalizado con reglas de firewall\n",
        "\n",
        "En esta tarea, crearás dos redes VPC en modo personalizado (`managementnet` y `privatenet`) y configurarás reglas de firewall para controlar el tráfico.\n",
        "\n",
        "📊 **¿Qué es el modo personalizado?** En términos contables, una red en modo automático es como un plan contable predefinido con cuentas estándar. En cambio, el modo personalizado es como diseñar un plan contable desde cero, definiendo cada cuenta (subred) según las necesidades específicas de la empresa.\n",
        "\n",
        "### Paso 1: Crear la red managementnet desde la consola\n",
        "\n",
        "1. Ve a **Navigation menu** > **VPC network** > **VPC networks**.\n",
        "2. Haz clic en **Create VPC Network**.\n",
        "3. Completa los siguientes campos:\n",
        "   - **Name**: `managementnet`\n",
        "   - **Subnet creation mode**: **Custom**\n",
        "   - **Subnet name**: `managementsubnet-1`\n",
        "   - **Region**: `Region_1` (por ejemplo, `us-central1`)\n",
        "   - **IPv4 range**: `10.130.0.0/20`\n",
        "4. Haz clic en **Done**, luego en **Create**.\n",
        "\n",
        "**Explicación**:\n",
        "- Esto crea una red VPC vacía con una subred personalizada, permitiendo un control preciso sobre las direcciones IP.\n",
        "\n",
        "💡 **Contexto empresarial**: Esta red es como un departamento de gestión financiera que opera de forma aislada, con sus propias reglas de acceso para proteger datos sensibles."
      ]
    },
    {
      "cell_type": "markdown",
      "metadata": {},
      "source": [
        "### Paso 2: Crear la red privatenet desde Cloud Shell\n",
        "\n",
        "Ejecuta los siguientes comandos en **Cloud Shell**:\n",
        "\n",
        "#### Comando 1: Crear la red privatenet"
      ]
    },
    {
      "cell_type": "code",
      "metadata": {},
      "source": [
        "gcloud compute networks create privatenet --subnet-mode=custom"
      ],
      "execution_count": null,
      "outputs": []
    },
    {
      "cell_type": "markdown",
      "metadata": {},
      "source": [
        "**Explicación del comando**:\n",
        "- `gcloud compute networks create`: Crea una nueva red VPC.\n",
        "- `privatenet`: Nombre de la red.\n",
        "- `--subnet-mode=custom`: Configura la red en modo personalizado, sin subredes automáticas.\n",
        "\n",
        "💡 **Contexto empresarial**: Esta red es como un departamento contable secundario, separado para manejar transacciones específicas, como las de una sucursal."
      ]
    },
    {
      "cell_type": "markdown",
      "metadata": {},
      "source": [
        "#### Comando 2: Crear subred privatesubnet-1"
      ]
    },
    {
      "cell_type": "code",
      "metadata": {},
      "source": [
        "gcloud compute networks subnets create privatesubnet-1 --network=privatenet --region=Region_1 --range=172.16.0.0/24"
      ],
      "execution_count": null,
      "outputs": []
    },
    {
      "cell_type": "markdown",
      "metadata": {},
      "source": [
        "**Explicación del comando**:\n",
        "- `subnets create privatesubnet-1`: Crea una subred llamada `privatesubnet-1`.\n",
        "- `--network=privatenet`: Asocia la subred a la red `privatenet`.\n",
        "- `--region=Region_1`: Define la región (por ejemplo, `us-central1`).\n",
        "- `--range=172.16.0.0/24`: Especifica el rango de direcciones IP para la subred."
      ]
    },
    {
      "cell_type": "markdown",
      "metadata": {},
      "source": [
        "#### Comando 3: Crear subred privatesubnet-2"
      ]
    },
    {
      "cell_type": "code",
      "metadata": {},
      "source": [
        "gcloud compute networks subnets create privatesubnet-2 --network=privatenet --region=Region_2 --range=172.20.0.0/20"
      ],
      "execution_count": null,
      "outputs": []
    },
    {
      "cell_type": "markdown",
      "metadata": {},
      "source": [
        "**Explicación**:\n",
        "- Crea una segunda subred en una región diferente (por ejemplo, `us-west1`), simulando segmentación geográfica.\n",
        "\n",
        "💡 **Contexto empresarial**: Estas subredes son como sucursales regionales que operan bajo el mismo departamento contable, pero con rangos de IP separados para evitar conflictos."
      ]
    },
    {
      "cell_type": "markdown",
      "metadata": {},
      "source": [
        "### Paso 3: Crear reglas de firewall\n",
        "\n",
        "Las reglas de firewall actúan como puertas de acceso que controlan el tráfico hacia las VMs, permitiendo o bloqueando conexiones según protocolos y orígenes.\n",
        "\n",
        "#### Crear regla para managementnet (desde consola)\n",
        "\n",
        "1. Ve a **VPC network** > **Firewall** > **Create Firewall Rule**.\n",
        "2. Completa:\n",
        "   - **Name**: `managementnet-allow-icmp-ssh-rdp`\n",
        "   - **Network**: `managementnet`\n",
        "   - **Targets**: **All instances in the network**\n",
        "   - **Source filter**: **IPv4 Ranges**\n",
        "   - **Source IPv4 ranges**: `0.0.0.0/0` (permite acceso desde cualquier dirección)\n",
        "   - **Protocols and ports**: `icmp, tcp:22, tcp:3389`\n",
        "3. Haz clic en **Create**.\n",
        "\n",
        "**Explicación**:\n",
        "- Esta regla permite tráfico **ICMP** (ping), **SSH** (puerto 22) y **RDP** (puerto 3389) desde cualquier origen hacia las instancias en `managementnet`.\n",
        "\n",
        "💡 **Contexto empresarial**: Esto es como autorizar a auditores externos a conectarse a sistemas contables, pero solo a través de canales específicos y seguros."
      ]
    },
    {
      "cell_type": "markdown",
      "metadata": {},
      "source": [
        "#### Crear regla para privatenet (desde Cloud Shell)"
      ]
    },
    {
      "cell_type": "code",
      "metadata": {},
      "source": [
        "gcloud compute firewall-rules create privatenet-allow-icmp-ssh-rdp --direction=INGRESS --priority=1000 --network=privatenet --action=ALLOW --rules=icmp,tcp:22,tcp:3389 --source-ranges=0.0.0.0/0"
      ],
      "execution_count": null,
      "outputs": []
    },
    {
      "cell_type": "markdown",
      "metadata": {},
      "source": [
        "**Explicación del comando**:\n",
        "- `firewall-rules create privatenet-allow-icmp-ssh-rdp`: Nombre de la regla.\n",
        "- `--direction=INGRESS`: Aplica la regla al tráfico entrante.\n",
        "- `--priority=1000`: Define la prioridad de la regla (menor número = mayor prioridad).\n",
        "- `--network=privatenet`: Aplica la regla a la red `privatenet`.\n",
        "- `--action=ALLOW`: Permite el tráfico especificado.\n",
        "- `--rules=icmp,tcp:22,tcp:3389`: Habilita los protocolos **ICMP**, **SSH** (puerto 22) y **RDP** (puerto 3389).\n",
        "- `--source-ranges=0.0.0.0/0`: Permite acceso desde cualquier IP.\n",
        "\n",
        "💡 **Contexto empresarial**: Esta regla es como permitir que un equipo de auditoría acceda a los registros financieros de una sucursal, pero solo a través de métodos autorizados."
      ]
    },
    {
      "cell_type": "markdown",
      "metadata": {},
      "source": [
        "## 🚀 Tarea 3: Explorar la conectividad entre instancias de VM\n",
        "\n",
        "En esta tarea, probarás la conectividad entre VMs para entender cómo las redes VPC afectan la comunicación, utilizando IPs públicas e internas.\n",
        "\n",
        "### Paso 1: Hacer ping a las IP públicas\n",
        "\n",
        "1. Ve a **Navigation Menu** > **Compute Engine** > **VM Instances**.\n",
        "2. Anota las **IP públicas** de las siguientes instancias:\n",
        "   - `mynet-vm-2`\n",
        "   - `managementnet-vm-1`\n",
        "   - `privatenet-vm-1`\n",
        "3. Ingresa a `mynet-vm-1` haciendo clic en **SSH** para abrir una terminal.\n",
        "4. Ejecuta los siguientes comandos, reemplazando `IP_EXT` con la IP pública correspondiente:"
      ]
    },
    {
      "cell_type": "code",
      "metadata": {},
      "source": [
        "ping -c 3 IP_EXT"
      ],
      "execution_count": null,
      "outputs": []
    },
    {
      "cell_type": "markdown",
      "metadata": {},
      "source": [
        "**Resultados esperados**:\n",
        "- ✅ Podrás hacer ping a todas las VMs (`mynet-vm-2`, `managementnet-vm-1`, `privatenet-vm-1`), ya que las IP públicas permiten comunicación externa gracias a las reglas de firewall que habilitan **ICMP**.\n",
        "\n",
        "💡 **Contexto empresarial**: Las IP públicas son como los sitios web públicos de una empresa, accesibles desde cualquier lugar, pero protegidos por reglas de firewall."
      ]
    },
    {
      "cell_type": "markdown",
      "metadata": {},
      "source": [
        "### Paso 2: Hacer ping a las IP internas\n",
        "\n",
        "1. Anota las **IP internas** de las mismas VMs.\n",
        "2. Desde la terminal de `mynet-vm-1`, ejecuta:"
      ]
    },
    {
      "cell_type": "code",
      "metadata": {},
      "source": [
        "ping -c 3 IP_INTERNA"
      ],
      "execution_count": null,
      "outputs": []
    },
    {
      "cell_type": "markdown",
      "metadata": {},
      "source": [
        "**Resultados esperados**:\n",
        "- ✅ `mynet-vm-2`: Funciona, ya que está en la misma red VPC (`mynetwork`).\n",
        "- ❌ `managementnet-vm-1`: No funciona (100% pérdida de paquetes), ya que está en una red VPC diferente (`managementnet`).\n",
        "- ❌ `privatenet-vm-1`: No funciona, ya que está en otra red VPC (`privatenet`).\n",
        "\n",
        "**Explicación**:\n",
        "- Las redes VPC están aisladas por defecto, como oficinas separadas que no comparten red a menos que se configure **VPC peering** o una VPN.\n",
        "\n",
        "💡 **Contexto empresarial**: Las IP internas son como una red local privada dentro de un departamento contable, donde solo los sistemas dentro de la misma red pueden comunicarse directamente."
      ]
    },
    {
      "cell_type": "markdown",
      "metadata": {},
      "source": [
        "### Pregunta conceptual\n",
        "\n",
        "**¿Qué instancia se puede hacer ping desde `mynet-region-1-vm` usando IP interna?**\n",
        "- ✅ `mynet-region-2-vm`: Sí, está en la misma red VPC (`mynetwork`), aunque en otra región.\n",
        "- ❌ `managementnet-region-1-vm`: No, está en otra VPC (`managementnet`).\n",
        "- ❌ `privatenet-region-1-vm`: No, está en otra VPC (`privatenet`).\n",
        "\n",
        "Para más información, consulta la [Documentación de Google Cloud VPC](https://cloud.google.com/vpc/docs)."
      ]
    },
    {
      "cell_type": "markdown",
      "metadata": {},
      "source": [
        "## 🚀 Tarea 4: Crear una VM con múltiples interfaces de red\n",
        "\n",
        "En esta tarea, crearás una VM (`vm-appliance`) con múltiples interfaces de red para conectarse a diferentes redes VPC simultáneamente.\n",
        "\n",
        "📊 **Analogía contable**: Una VM con múltiples interfaces es como un \"router contable\" que puede acceder a varios sistemas financieros (por ejemplo, casa matriz, sucursal y auditoría externa) desde una sola máquina.\n",
        "\n",
        "### Paso 1: Crear la instancia vm-appliance\n",
        "\n",
        "1. Ve a **Navigation Menu** > **Compute Engine** > **VM Instances**.\n",
        "2. Haz clic en **Create Instance**.\n",
        "3. Configura:\n",
        "   - **Name**: `vm-appliance`\n",
        "   - **Region**: `US_Region` (por ejemplo, `us-central1`)\n",
        "   - **Zone**: `US_Zone` (por ejemplo, `us-central1-a`)\n",
        "   - **Series**: `E2`\n",
        "   - **Machine Type**: `e2-standard-4`\n",
        "4. Configura las interfaces de red:\n",
        "   - **Primera interfaz (nic0)**:\n",
        "     - **Red**: `privatenet`\n",
        "     - **Subred**: `privatesubnet-1`\n",
        "   - **Segunda interfaz (nic1)**:\n",
        "     - **Red**: `managementnet`\n",
        "     - **Subred**: `managementsubnet-1`\n",
        "   - **Tercera interfaz (nic2)**:\n",
        "     - **Red**: `mynetwork`\n",
        "     - **Subred**: `mynetwork`\n",
        "5. Haz clic en **Create**.\n",
        "\n",
        "**Explicación**:\n",
        "- La VM `vm-appliance` puede conectarse a tres redes VPC diferentes gracias a sus múltiples interfaces de red (NICs).\n",
        "- Las subredes no deben superponerse para evitar conflictos de IP.\n",
        "\n",
        "💡 **Contexto empresarial**: Esta VM es como un sistema central que conecta diferentes departamentos contables, permitiendo una gestión unificada de datos financieros."
      ]
    },
    {
      "cell_type": "markdown",
      "metadata": {},
      "source": [
        "### Paso 2: Verificar las interfaces desde la consola\n",
        "\n",
        "1. Ve a la lista de VMs y haz clic en el campo **Internal IP** de `vm-appliance`.\n",
        "2. Revisa las interfaces:\n",
        "\n",
        "| **NIC** | **Red conectada**   | **IP interna esperada** |\n",
        "|---------|---------------------|-------------------------|\n",
        "| `nic0`  | `privatesubnet-1`   | `172.16.0.3` (aprox.)   |\n",
        "| `nic1`  | `managementsubnet-1`| `10.130.0.3` (aprox.)   |\n",
        "| `nic2`  | `mynetwork`         | `10.128.0.3` (aprox.)   |"
      ]
    },
    {
      "cell_type": "markdown",
      "metadata": {},
      "source": [
        "### Paso 3: Ver interfaces desde la terminal\n",
        "\n",
        "1. Abre una sesión por **SSH** en `vm-appliance`.\n",
        "2. Ejecuta:"
      ]
    },
    {
      "cell_type": "code",
      "metadata": {},
      "source": [
        "sudo ifconfig"
      ],
      "execution_count": null,
      "outputs": []
    },
    {
      "cell_type": "markdown",
      "metadata": {},
      "source": [
        "**Explicación**:\n",
        "- Este comando muestra las interfaces de red (`eth0`, `eth1`, `eth2`) con sus respectivas IP internas.\n",
        "\n",
        "💡 **Contexto empresarial**: Ver las interfaces es como confirmar que un sistema contable central tiene acceso a todos los departamentos financieros relevantes."
      ]
    },
    {
      "cell_type": "markdown",
      "metadata": {},
      "source": [
        "### Paso 4: Probar conectividad entre interfaces\n",
        "\n",
        "1. Anota las **IP internas** de:\n",
        "   - `privatenet-vm-1`\n",
        "   - `managementnet-vm-1`\n",
        "   - `mynet-vm-1`\n",
        "   - `mynet-vm-2`\n",
        "2. Desde la terminal de `vm-appliance`, ejecuta:"
      ]
    },
    {
      "cell_type": "code",
      "metadata": {},
      "source": [
        "ping -c 3 IP_OBJETIVO"
      ],
      "execution_count": null,
      "outputs": []
    },
    {
      "cell_type": "markdown",
      "metadata": {},
      "source": [
        "**Resultados esperados**:\n",
        "\n",
        "| **VM destino**         | **¿Funciona ping?** | **Motivo**                              |\n",
        "|------------------------|---------------------|-----------------------------------------|\n",
        "| `privatenet-vm-1`      | ✅ Sí               | Misma red (`nic0`)                      |\n",
        "| `managementnet-vm-1`   | ✅ Sí               | Conectado a `nic1`                      |\n",
        "| `mynet-vm-1`           | ✅ Sí               | Conectado a `nic2`                      |\n",
        "| `mynet-vm-2`           | ❌ No               | No está en la tabla de ruteo            |\n",
        "\n",
        "**Explicación**:\n",
        "- La VM `vm-appliance` puede comunicarse con VMs en las redes conectadas a sus interfaces (`privatenet`, `managementnet`, `mynetwork`), pero no con `mynet-vm-2` si no está configurada una ruta adecuada."
      ]
    },
    {
      "cell_type": "markdown",
      "metadata": {},
      "source": [
        "### Paso 5: Ver rutas de red\n",
        "\n",
        "Ejecuta el siguiente comando en la terminal de `vm-appliance`:"
      ]
    },
    {
      "cell_type": "code",
      "metadata": {},
      "source": [
        "ip route"
      ],
      "execution_count": null,
      "outputs": []
    },
    {
      "cell_type": "markdown",
      "metadata": {},
      "source": [
        "**Explicación**:\n",
        "- Este comando muestra las rutas de red para cada interfaz. Ejemplo de salida:\n",
        "```\n",
        "default via 172.16.0.1 dev eth0\n",
        "10.128.0.0/20 via 10.128.0.1 dev eth2\n",
        "10.130.0.0/20 via 10.130.0.1 dev eth1\n",
        "172.16.0.0/24 via 172.16.0.1 dev eth0\n",
        "```\n",
        "- La ruta por defecto usa la interfaz principal (`eth0`). Si una red no está conectada directamente, no se puede alcanzar sin configuración adicional (como **policy routing**).\n",
        "\n",
        "💡 **Contexto empresarial**: Las rutas de red son como las instrucciones que indican cómo enviar documentos financieros entre departamentos. Si no hay una ruta definida, la comunicación no es posible."
      ]
    },
    {
      "cell_type": "markdown",
      "metadata": {},
      "source": [
        "## 🚀 Resumen de conceptos\n",
        "\n",
        "El siguiente cuadro resume los conceptos clave y herramientas utilizadas en este laboratorio:\n",
        "\n",
        "| **Concepto**             | **Explicación contable simplificada**                                   |\n",
        "|--------------------------|-----------------------------------------------------------------------|\n",
        "| **IP pública**           | Dirección \"visible desde afuera\", como el sitio web de tu empresa.     |\n",
        "| **IP interna**           | Dirección interna de red local (como red contable interna).            |\n",
        "| **VPC (Virtual Private Cloud)** | Departamento contable virtual, con sus propias reglas y límites. |\n",
        "| **Interfaz de red (NIC)** | Conexión de la VM a una red, como accesos a distintos ERP.           |\n",
        "| **Ping**                 | Test de conexión (envía y espera respuesta).                          |\n",
        "| **Firewall**             | Control de acceso (quién entra y por qué puerto).                    |\n",
        "| **Rutas de red**         | Instrucciones de “por dónde salir” (como caminos contables según sucursal). |\n",
        "\n",
        "💡 **Conclusión empresarial**: Las redes VPC permiten segmentar sistemas empresariales, como los de contabilidad, para mejorar la seguridad y la eficiencia. Configurar múltiples interfaces de red en una VM facilita la integración de sistemas financieros distribuidos, mientras que las reglas de firewall aseguran que solo las conexiones autorizadas sean permitidas, reduciendo riesgos y optimizando costos.\n",
        "\n",
        "Para más información, consulta la [Documentación de Google Cloud VPC](https://cloud.google.com/vpc/docs)."
      ]
    }
  ],
  "metadata": {
    "kernelspec": {
      "display_name": "Bash",
      "language": "bash",
      "name": "bash"
    },
    "language_info": {
      "name": "bash"
    }
  },
  "nbformat": 4,
  "nbformat_minor": 5
}