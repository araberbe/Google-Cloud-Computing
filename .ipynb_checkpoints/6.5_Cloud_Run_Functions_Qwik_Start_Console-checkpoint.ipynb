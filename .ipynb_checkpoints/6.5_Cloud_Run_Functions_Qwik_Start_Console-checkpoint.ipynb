{
 "cells": [
  {
   "cell_type": "markdown",
   "id": "a1b2c3d4",
   "metadata": {},
   "source": [
    "# 📌 Cloud Run Functions Qwik Start - Console\n",
    "\n",
    "## Introducción\n",
    "\n",
    "Una **función Cloud Run** es un fragmento de código que se ejecuta automáticamente en respuesta a eventos específicos, como solicitudes HTTP, mensajes en **Pub/Sub**, o la carga de archivos en **Cloud Storage**. Estas funciones son **event-driven** (impulsadas por eventos), lo que significa que solo se activan cuando ocurre un evento relevante, como un cambio en una base de datos o la creación de una máquina virtual. Esta característica las hace ideales para tareas puntuales, eliminando la necesidad de mantener servidores activos constantemente.\n",
    "\n",
    "**Cloud Run Functions** son compatibles con lenguajes como **Node.js** y se despliegan fácilmente desde la **Consola de Google Cloud**, ofreciendo una solución **serverless** que reduce la complejidad de la infraestructura. Ejemplos de uso incluyen:\n",
    "- Generar miniaturas automáticamente al subir imágenes a **Cloud Storage**.\n",
    "- Enviar notificaciones a usuarios tras recibir mensajes en **Pub/Sub**.\n",
    "- Procesar datos de **Cloud Firestore** para generar informes financieros.\n",
    "\n",
    "💡 **Beneficio empresarial**: Las funciones **Cloud Run** permiten automatizar procesos, como el procesamiento de transacciones o la generación de reportes contables, reduciendo costos operativos al ejecutarse solo cuando es necesario y escalando automáticamente según la demanda.\n",
    "\n",
    "Para más información sobre Cloud Run Functions, consulta la [Documentación oficial de Google Cloud Run](https://cloud.google.com/run/docs)."
   ]
  },
  {
   "cell_type": "markdown",
   "id": "b3c4d5e6",
   "metadata": {},
   "source": [
    "## 🚀 Objetivos del laboratorio\n",
    "\n",
    "- Crear una función **Cloud Run** desde la **Consola de Google Cloud**.\n",
    "- Desplegar y probar la función utilizando un evento HTTP.\n",
    "- Visualizar los registros (**logs**) generados por la función.\n",
    "\n",
    "💡 **Contexto empresarial**: Estas habilidades permiten a las empresas implementar soluciones **serverless** para automatizar tareas, como notificaciones automáticas o procesamiento de datos, optimizando recursos y mejorando la eficiencia en procesos como la gestión financiera."
   ]
  },
  {
   "cell_type": "markdown",
   "id": "c5d6e7f8",
   "metadata": {},
   "source": [
    "## 🚀 Tarea 1: Crear una función Cloud Run\n",
    "\n",
    "En esta tarea, crearás una función **Cloud Run** desde la **Consola de Google Cloud** configurando sus parámetros básicos.\n",
    "\n",
    "### Pasos\n",
    "1. Desde el menú de navegación, selecciona **Cloud Run**.\n",
    "2. Haz clic en **WRITE A FUNCTION**.\n",
    "3. Completa el formulario con los siguientes valores:\n",
    "   - **Service name**: `gcfunction`\n",
    "   - **Region**: Usa la región indicada en el laboratorio.\n",
    "   - **Authentication**: Selecciona **Allow unauthenticated invocations**.\n",
    "   - **Memory allocated**: Deja el valor predeterminado.\n",
    "   - **Execution environment**: Selecciona **Second generation**.\n",
    "   - **Revision scaling (instancias)**: Establece **Máximo número de instancias: 5**.\n",
    "4. Si aparece un mensaje para habilitar APIs requeridas, haz clic en **ENABLE**.\n",
    "\n",
    "💡 **Contexto empresarial**: Configurar una función **Cloud Run** permite automatizar tareas específicas, como procesar datos contables en tiempo real, sin preocuparse por la gestión de servidores, lo que reduce costos y mejora la escalabilidad.\n",
    "\n",
    "Para más información sobre la creación de funciones Cloud Run, consulta la [Documentación de Google Cloud Run](https://cloud.google.com/run/docs/create-service)."
   ]
  },
  {
   "cell_type": "markdown",
   "id": "d7e8f9a0",
   "metadata": {},
   "source": [
    "## 🚀 Tarea 2: Desplegar la función\n",
    "\n",
    "Desplegarás la función **Cloud Run** utilizando el código predeterminado proporcionado.\n",
    "\n",
    "### Pasos\n",
    "1. En la sección **Source code** (editor en línea), verifica que el código contenga la función predeterminada `helloHttp` en el archivo `index.js`.\n",
    "2. Haz clic en **SAVE AND REDEPLOY** para desplegar la función.\n",
    "3. Espera a que el despliegue finalice. Verás un ícono giratorio (🔄) durante el proceso y un check verde (✔️) al completarse.\n",
    "\n",
    "**Ejemplo del código en `index.js`** (no editable en este notebook, pero mostrado para referencia):\n",
    "```javascript\n",
    "exports.helloHttp = (req, res) => {\n",
    "  const message = req.body.message || 'Hello World!';\n",
    "  res.status(200).send({ message });\n",
    "};\n",
    "```\n",
    "\n",
    "**Explicación del código**:\n",
    "- La función `helloHttp` es una función **Node.js** que responde a solicitudes HTTP.\n",
    "- Extrae el campo `message` del cuerpo de la solicitud (`req.body.message`) o usa un valor predeterminado (`Hello World!`).\n",
    "- Devuelve una respuesta con estado HTTP 200 y el mensaje en formato JSON.\n",
    "\n",
    "💡 **Contexto empresarial**: Desplegar funciones **serverless** permite a las empresas responder rápidamente a eventos, como solicitudes de clientes o actualizaciones de datos financieros, sin costos asociados a servidores inactivos.\n",
    "\n",
    "Para más información sobre el despliegue de funciones, consulta la [Documentación de Google Cloud Run](https://cloud.google.com/run/docs/deploying)."
   ]
  },
  {
   "cell_type": "markdown",
   "id": "e9f0a1b2",
   "metadata": {},
   "source": [
    "## 🚀 Tarea 3: Probar la función\n",
    "\n",
    "Probarás la función desplegada enviando un evento HTTP desde la consola o **Cloud Shell**.\n",
    "\n",
    "### Pasos\n",
    "1. Desde el panel de detalles de la función en **Cloud Run**, haz clic en **TEST**.\n",
    "2. En el campo **Triggering event**, ingresa el siguiente JSON:"
   ]
  },
  {
   "cell_type": "code",
   "execution_count": null,
   "id": "f1a2b3c4",
   "metadata": {},
   "outputs": [],
   "source": [
    "{\"message\": \"Hello World!\"}"
   ]
  },
  {
   "cell_type": "markdown",
   "id": "a3b4c5d6",
   "metadata": {},
   "source": [
    "3. Ejecuta el test.\n",
    "4. Opcionalmente, copia el comando de prueba proporcionado en la consola y ejecútalo en **Cloud Shell**. Ejemplo:"
   ]
  },
  {
   "cell_type": "code",
   "execution_count": null,
   "id": "b5c6d7e8",
   "metadata": {},
   "outputs": [],
   "source": [
    "curl -X POST -H \"Content-Type: application/json\" -d '{\"message\": \"Hello World!\"}' <URL_DEL_SERVICIO>"
   ]
  },
  {
   "cell_type": "markdown",
   "id": "c7d8e9a0",
   "metadata": {},
   "source": [
    "**Explicación del comando**:\n",
    "- `curl`: Herramienta para realizar solicitudes HTTP desde la línea de comandos.\n",
    "- `-X POST`: Especifica que la solicitud es de tipo POST.\n",
    "- `-H \"Content-Type: application/json\"`: Indica que los datos enviados están en formato JSON.\n",
    "- `-d '{\"message\": \"Hello World!\"}'`: Envía el evento JSON con el mensaje.\n",
    "- `<URL_DEL_SERVICIO>`: URL asignada a la función tras el despliegue.\n",
    "\n",
    "5. Verifica que el resultado sea:\n",
    "```json\n",
    "{\"message\": \"Hello World!\"}\n",
    "```\n",
    "\n",
    "💡 **Contexto empresarial**: Probar funciones asegura que los procesos automatizados, como el envío de notificaciones o el procesamiento de datos, funcionen correctamente, mejorando la eficiencia operativa.\n",
    "\n",
    "Para más información sobre pruebas de funciones, consulta la [Documentación de Google Cloud Run](https://cloud.google.com/run/docs/testing)."
   ]
  },
  {
   "cell_type": "markdown",
   "id": "d9e0a1b2",
   "metadata": {},
   "source": [
    "## 🚀 Tarea 4: Ver logs\n",
    "\n",
    "Visualizarás los registros (**logs**) generados por la función para confirmar su ejecución.\n",
    "\n",
    "### Pasos\n",
    "1. Desde la vista de detalles del servicio en **Cloud Run**, selecciona la pestaña **Logs**.\n",
    "2. Revisa los registros, que incluyen:\n",
    "   - Ejecuciones exitosas de la función.\n",
    "   - Mensajes enviados o recibidos.\n",
    "   - Errores, si los hubiera.\n",
    "\n",
    "**Opcional**: Accede a los logs desde **Cloud Shell** ejecutando:"
   ]
  },
  {
   "cell_type": "code",
   "execution_count": null,
   "id": "e1a2b3c4",
   "metadata": {},
   "outputs": [],
   "source": [
    "gcloud logging read \"resource.type=cloud_run_revision service_name=gcfunction\""
   ]
  },
  {
   "cell_type": "markdown",
   "id": "f3c4d5e6",
   "metadata": {},
   "source": [
    "**Explicación del comando**:\n",
    "- `gcloud logging read`: Consulta los registros en **Cloud Logging**.\n",
    "- `\"resource.type=cloud_run_revision service_name=gcfunction\"`: Filtra los logs para mostrar solo los relacionados con la función `gcfunction`.\n",
    "\n",
    "💡 **Contexto empresarial**: Los registros permiten auditar las ejecuciones de funciones, lo que es crucial para cumplir con normativas contables y garantizar la transparencia en procesos automatizados.\n",
    "\n",
    "Para más información, consulta la [Documentación de Google Cloud Logging](https://cloud.google.com/logging/docs)."
   ]
  },
  {
   "cell_type": "markdown",
   "id": "a5d6e7f8",
   "metadata": {},
   "source": [
    "## 🚀 Tarea 5: Evaluación de conocimientos\n",
    "\n",
    "Responde las siguientes preguntas para reforzar lo aprendido:\n",
    "\n",
    "1. **Cloud Run Functions es un entorno sin servidor para servicios impulsados por eventos en Google Cloud.**\n",
    "   - ✅ Verdadero\n",
    "   - ❌ Falso\n",
    "\n",
    "2. **¿Qué tipo de desencadenador (trigger) se usó al crear las funciones en este laboratorio?**\n",
    "   - ❌ Cloud Storage\n",
    "   - ❌ Pub/Sub\n",
    "   - ❌ Firebase\n",
    "   - ✅ HTTPS\n",
    "\n",
    "💡 **Contexto empresarial**: Comprender los conceptos de **Cloud Run** permite a las empresas seleccionar los desencadenadores adecuados para automatizar tareas, como procesar solicitudes de clientes o generar reportes financieros.\n",
    "\n",
    "Para más información, consulta la [Documentación de Google Cloud Run](https://cloud.google.com/run/docs/triggering)."
   ]
  },
  {
   "cell_type": "markdown",
   "id": "b7e8f9a0",
   "metadata": {},
   "source": [
    "## 🚀 Conclusión\n",
    "\n",
    "Este laboratorio te ha guiado en la creación, despliegue y prueba de una función **Cloud Run** desde la **Consola de Google Cloud**, así como en la visualización de sus registros. Estas habilidades son esenciales para implementar soluciones **serverless** que automaticen procesos empresariales, como el procesamiento de datos o el envío de notificaciones, sin la necesidad de gestionar infraestructura.\n",
    "\n",
    "💡 **Beneficio empresarial**: **Cloud Run Functions** permite a las empresas reducir costos operativos, mejorar la escalabilidad y automatizar tareas críticas, como la generación de informes contables o la notificación de transacciones, con alta eficiencia.\n",
    "\n",
    "Para más información, consulta la [Documentación de Google Cloud Run](https://cloud.google.com/run/docs)."
   ]
  }
 ],
 "metadata": {
  "kernelspec": {
   "display_name": "Python 3 (ipykernel)",
   "language": "python",
   "name": "python3"
  },
  "language_info": {
   "codemirror_mode": {
    "name": "ipython",
    "version": 3
   },
   "file_extension": ".py",
   "mimetype": "text/x-python",
   "name": "python",
   "nbconvert_exporter": "python",
   "pygments_lexer": "ipython3",
   "version": "3.9.21"
  },
  "nbformat": 4,
  "nbformat_minor": 5
 },
 "nbformat": 4,
 "nbformat_minor": 5
}
