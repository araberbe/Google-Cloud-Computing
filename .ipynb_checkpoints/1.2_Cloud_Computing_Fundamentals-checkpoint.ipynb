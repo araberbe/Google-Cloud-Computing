{
 "cells": [
  {
   "cell_type": "markdown",
   "metadata": {},
   "source": [
    "# Fundamentos de Computación en la Nube - Módulo 2 📌\n",
    "\n",
    "## Bienvenido al Curso de Google Cloud 💡\n",
    "¡Bienvenido al Módulo 2 del curso de Fundamentos de Computación en la Nube (*Cloud Computing*) de Google! Este módulo te ayudará a construir una base sólida para interactuar con Google Cloud Platform (*GCP*). Para un negocio, esto significa aprender a usar herramientas que optimicen recursos y reduzcan costos, como en contabilidad o gestión de proyectos.\n",
    "\n",
    "## ¿Qué aprenderás? 🚀\n",
    "Podrás:\n",
    "- Explorar la consola de *GCP*.\n",
    "- Entender cómo los proyectos son la clave para usar servicios de *GCP*.\n",
    "- Identificar cómo funciona la facturación para controlar gastos.\n",
    "- Instalar y configurar el *SDK* de Google Cloud.\n",
    "- Reconocer casos de uso de *Cloud Shell* y su editor de código.\n",
    "- Explorar cómo funcionan las *API*.\n",
    "- Gestionar servicios desde un dispositivo móvil.\n",
    "\n",
    "## Agenda del Módulo 🌟\n",
    "La agenda sigue los objetivos y abarca:\n",
    "- Consola de *GCP*.\n",
    "- Proyectos y su organización.\n",
    "- Opciones de facturación.\n",
    "- Instalación del *SDK*.\n",
    "- Uso de *Cloud Shell*.\n",
    "- Dos laboratorios prácticos (*hands-on labs*).\n",
    "- *API* de Google Cloud.\n",
    "- Aplicación móvil (*Cloud Mobile App*).\n",
    "\n",
    "Más detalles en la [documentación oficial de Google Cloud](https://cloud.google.com/docs).\n"
   ]
  },
  {
   "cell_type": "markdown",
   "metadata": {},
   "source": [
    "# Comencemos con la Consola de Google Cloud 📌\n",
    "\n",
    "## ¿Qué es la Consola? 💡\n",
    "La consola de *GCP* es la **Interfaz Gráfica de Usuario (*GUI*)** que te permite desplegar, escalar y diagnosticar problemas de producción desde una web sencilla. Para un negocio, esto es como un panel de control que te da visibilidad total sobre tus recursos, como servidores o bases de datos.\n",
    "\n",
    "## ¿Qué puedes hacer? 🚀\n",
    "- Encontrar y verificar el estado de tus recursos.\n",
    "- Tener **control total de gestión**.\n",
    "- Establecer **presupuestos** para limitar gastos, clave en contabilidad.\n",
    "- Usar la función de **búsqueda** para localizar recursos rápido.\n",
    "- Conectar a instancias vía **SSH** desde el navegador.\n",
    "\n",
    "[Más información en la guía de la consola](https://cloud.google.com/console).\n"
   ]
  },
  {
   "cell_type": "markdown",
   "metadata": {},
   "source": [
    "# La Consola y la Organización de Recursos 📌\n",
    "\n",
    "## Jerarquía de Recursos 💡\n",
    "Los recursos (como máquinas virtuales o *buckets* de *Cloud Storage*) se organizan en una jerarquía de cuatro niveles:\n",
    "- **Recursos**: Elementos como VMs o tablas en *BigQuery*.\n",
    "- **Proyectos**: Agrupan recursos; cada uno pertenece a un solo proyecto.\n",
    "- **Carpetas**: Agrupan proyectos y subcarpetas, ideales para departamentos.\n",
    "- **Nodo de organización**: Nivel superior que incluye todo.\n",
    "\n",
    "## Nivel de Proyectos 🚀\n",
    "Los proyectos son la base para:\n",
    "- Habilitar servicios de *GCP*.\n",
    "- Gestionar *API* y facturación.\n",
    "- Agregar colaboradores.\n",
    "Cada proyecto es independiente, con facturación propia y diferentes propietarios. Tiene tres atributos:\n",
    "- **ID del proyecto**: Único e inmutable.\n",
    "- **Nombre del proyecto**: Definido por ti, editable.\n",
    "- **Número del proyecto**: Asignado por Google, para uso interno.\n",
    "\n",
    "## Gestión de Proyectos 🌟\n",
    "Usa el **Resource Manager** para listar, crear, actualizar o eliminar proyectos vía *API RPC* o *REST*. Esto ayuda a organizar gastos por departamento en una empresa.\n",
    "\n",
    "## Nivel de Carpetas 💻\n",
    "Las carpetas agrupan proyectos y delegan administración. Requieren un **nodo de organización** para funcionar, perfecto para empresas con múltiples equipos.\n",
    "\n",
    "[Explora más en la documentación de Resource Manager](https://cloud.google.com/resource-manager/docs).\n"
   ]
  },
  {
   "cell_type": "markdown",
   "metadata": {},
   "source": [
    "# Facturación de Google Cloud 📌\n",
    "\n",
    "## Cómo Funciona la Facturación 💡\n",
    "La facturación se vincula a nivel de proyecto. Cada proyecto necesita una cuenta de facturación con datos de pago. Proyectos sin cuenta solo usan servicios gratuitos. El cobro es automático, mensual o por límite de gasto.\n",
    "\n",
    "## Subcuentas de Facturación 🚀\n",
    "Separa facturación por proyecto, útil para revendedores o empresas con clientes múltiples.\n",
    "\n",
    "## Control de Costos 🌟\n",
    "1. **Presupuestos**: Define límites fijos o basados en porcentajes.\n",
    "2. **Alertas**: Notificaciones al 50%, 90% o 100% del presupuesto (ej.: alerta a $18,000 de $20,000).\n",
    "3. **Informes**: Monitorea gastos por proyecto o servicio en la consola.\n",
    "4. **Cuotas**: Limita recursos con *Rate quotas* (ej.: 1,000 llamadas a *GKE API* cada 100 segundos) y *Allocation quotas* (ej.: 5 redes *VPC* por proyecto).\n",
    "\n",
    "Solicita aumentos de cuotas al soporte de *GCP*. Estima costos con la [Calculadora de Precios](https://cloud.google.com/products/calculator).\n",
    "\n",
    "[Guía de facturación aquí](https://cloud.google.com/billing/docs).\n"
   ]
  },
  {
   "cell_type": "code",
   "execution_count": null,
   "metadata": {},
   "outputs": [],
   "source": [
    "# Ejemplo: Verifica los proyectos asociados\n",
    "# Útil para gestionar facturación por proyecto\n",
    "gcloud projects list"
   ]
  },
  {
   "cell_type": "markdown",
   "metadata": {},
   "source": [
    "## Explicación del Comando 💻\n",
    "El comando `gcloud projects list` muestra tus proyectos, ayudando a rastrear gastos en contabilidad. Necesitas el *SDK* instalado y autenticado.\n",
    "\n",
    "[Más detalles en la documentación de gcloud](https://cloud.google.com/sdk/gcloud/reference/projects/list).\n"
   ]
  },
  {
   "cell_type": "markdown",
   "metadata": {},
   "source": [
    "# Exploración del Cloud SDK de Google 📌\n",
    "\n",
    "## ¿Qué es el SDK? 💡\n",
    "El *Cloud SDK* te permite gestionar recursos de *GCP* desde tu computadora con herramientas como *gcloud CLI*, *gcloud storage* y *bq* para *BigQuery*.\n",
    "\n",
    "## Instalación 🚀\n",
    "- Descarga desde [SDK](https://cloud.google.com/sdk) según tu sistema operativo.\n",
    "- Las herramientas se guardan en el directorio *bin*.\n",
    "\n",
    "## Configuración 🌟\n",
    "Ejecuta `gcloud init` para configurar credenciales, proyecto predeterminado y zona.\n",
    "\n",
    "[Guía de instalación aquí](https://cloud.google.com/sdk/docs/install).\n"
   ]
  },
  {
   "cell_type": "markdown",
   "metadata": {},
   "source": [
    "# Acceso e Interacción con Cloud Shell 📌\n",
    "\n",
    "## ¿Qué es Cloud Shell? 💡\n",
    "*Cloud Shell* es una máquina virtual basada en Debian con 5 GB de almacenamiento, accesible desde el navegador. Incluye *gcloud* preinstalado y autenticado.\n",
    "\n",
    "## Cómo Iniciarlo 🚀\n",
    "- Ve a [console.cloud.google.com](https://console.cloud.google.com).\n",
    "- Haz clic en el ícono de *Activar Cloud Shell*.\n",
    "\n",
    "## Editor de Código 🌟\n",
    "Lanza el editor desde la terminal para editar archivos en tiempo real, ideal para apps o contenedores. También puedes usar editores tradicionales.\n",
    "\n",
    "[Más sobre Cloud Shell aquí](https://cloud.google.com/shell/docs).\n"
   ]
  },
  {
   "cell_type": "markdown",
   "metadata": {},
   "source": [
    "# Acceso mediante APIs 📌\n",
    "\n",
    "## ¿Qué es una API? 💡\n",
    "Una *API* (Interfaz de Programación de Aplicaciones) es una interfaz que simplifica el acceso a servicios, ocultando detalles complejos. Esto da flexibilidad a tu software.\n",
    "\n",
    "## APIs en Google Cloud 🚀\n",
    "Controla servicios con *API* y usa el Explorador de *API* en la consola para ver opciones. Google ofrece bibliotecas en Java, Python, PHP, C#, Go, Node.js, Ruby y C++.\n",
    "\n",
    "[Explora APIs aquí](https://cloud.google.com/apis/docs).\n"
   ]
  },
  {
   "cell_type": "markdown",
   "metadata": {},
   "source": [
    "# Acceso mediante la Aplicación Móvil 📌\n",
    "\n",
    "## ¿Qué es la App Móvil? 💡\n",
    "La *Cloud Mobile App* te permite gestionar *GCP* desde tu celular sin costo extra.\n",
    "\n",
    "## Funcionalidades 🚀\n",
    "- **Gestión de Instancias**: Inicia/detiene *Compute Engine* y *Cloud SQL* vía *SSH*.\n",
    "- **App Engine**: Gestiona apps, revisa errores y ajusta tráfico.\n",
    "- **Supervisión**: Datos de facturación, alertas de presupuesto y gráficos personalizados (CPU, red, errores).\n",
    "- **Incidentes**: Administra alertas e incidentes.\n",
    "\n",
    "[Más sobre la app móvil aquí](https://cloud.google.com/mobile-app).\n"
   ]
  }
 ],
 "metadata": {
  "kernelspec": {
   "display_name": "Python 3",
   "language": "python",
   "name": "python3"
  },
  "language_info": {
   "codemirror_mode": {
    "name": "ipython",
    "version": 3
   },
   "file_extension": ".py",
   "mimetype": "text/x-python",
   "name": "python",
   "nbconvert_exporter": "python",
   "pygments_lexer": "ipython3",
   "version": "3.8"
  }
 },
 "nbformat": 4,
 "nbformat_minor": 4
}