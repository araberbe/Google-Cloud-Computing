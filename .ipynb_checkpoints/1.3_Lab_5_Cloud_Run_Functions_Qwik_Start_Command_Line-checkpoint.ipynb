{
  "cells": [
    {
      "cell_type": "markdown",
      "metadata": {},
      "source": [
        "# 📌 Cloud Run Functions: Qwik Start - Command Line\n",
        "\n",
        "Este laboratorio te guiará en la creación, implementación y prueba de una función en **Cloud Run Functions** utilizando la línea de comandos. Aprenderás a configurar una función simple que responde a eventos de **Pub/Sub**, un servicio de mensajería de Google Cloud. Este enfoque es ideal para automatizar procesos empresariales, como la gestión de notificaciones o la integración de datos en tiempo real, sin preocuparte por administrar servidores.\n",
        "\n",
        "💡 **Beneficio empresarial**: Al usar **Cloud Run Functions**, las empresas pueden reducir costos operativos al evitar la gestión de infraestructura, enfocándose en desarrollar soluciones rápidas y escalables para necesidades como procesamiento de transacciones o alertas automáticas.\n",
        "\n",
        "Para más información sobre Cloud Run Functions, consulta la [Documentación oficial de Google Cloud Functions](https://cloud.google.com/functions/docs)."
      ]
    },
    {
      "cell_type": "markdown",
      "metadata": {},
      "source": [
        "## 🚀 Tarea 1: Crea una función\n",
        "\n",
        "En esta tarea, crearás una función simple llamada **helloWorld** que escribe un mensaje en los registros de Cloud Run Functions. Esta función se activa mediante un evento de **Pub/Sub**, un servicio de mensajería que permite que los remitentes (publicadores) envíen mensajes a los receptores (suscriptores) de forma desacoplada. Este mecanismo es útil para flujos empresariales, como notificar a un sistema de contabilidad cuando se completa una transacción.\n",
        "\n",
        "📚 **¿Qué es Pub/Sub?**  \n",
        "Pub/Sub (Publish/Subscribe) es un servicio de mensajería que permite enviar y recibir mensajes entre aplicaciones de forma asíncrona. Por ejemplo, un sistema de ventas puede publicar un mensaje cuando se realiza una compra, y un sistema de inventario puede suscribirse para actualizar el stock automáticamente.\n",
        "\n",
        "💡 **Beneficio empresarial**: Pub/Sub permite integrar sistemas empresariales (como ERP o CRM) sin necesidad de conexiones directas, mejorando la escalabilidad y flexibilidad.\n",
        "\n",
        "Sigue estos pasos para crear la función:\n",
        "\n",
        "Para más información sobre Pub/Sub, consulta la [Documentación de Google Cloud Pub/Sub](https://cloud.google.com/pubsub/docs)."
      ]
    },
    {
      "cell_type": "markdown",
      "metadata": {},
      "source": [
        "### Paso 1: Establece la región predeterminada\n",
        "\n",
        "Primero, configura la región donde se ejecutará la función. Esto asegura que los recursos estén en una ubicación geográfica específica, lo cual es importante para cumplir con regulaciones de datos o minimizar latencias.\n",
        "\n",
        "Ejecuta este comando en **Cloud Shell**:"
      ]
    },
    {
      "cell_type": "code",
      "metadata": {},
      "source": [
        "gcloud config set run/region REGION"
      ],
      "execution_count": null,
      "outputs": []
    },
    {
      "cell_type": "markdown",
      "metadata": {},
      "source": [
        "**Explicación del comando**:  \n",
        "- `gcloud`: Herramienta de línea de comandos de Google Cloud.  \n",
        "- `config set run/region`: Establece la región predeterminada para los servicios de Cloud Run.  \n",
        "- `REGION`: Reemplaza esto con la región deseada (por ejemplo, `us-central1`). Elegir una región cercana a los usuarios reduce la latencia y puede optimizar costos.\n",
        "\n",
        "💡 **Contexto empresarial**: Elegir la región adecuada es clave para cumplir con normativas locales de protección de datos, como el RGPD en Europa, o para optimizar el rendimiento en mercados específicos."
      ]
    },
    {
      "cell_type": "markdown",
      "metadata": {},
      "source": [
        "### Paso 2: Crea un directorio para el código\n",
        "\n",
        "Organiza el código creando un directorio para la función."
      ]
    },
    {
      "cell_type": "code",
      "metadata": {},
      "source": [
        "mkdir gcf_hello_world && cd $_"
      ],
      "execution_count": null,
      "outputs": []
    },
    {
      "cell_type": "markdown",
      "metadata": {},
      "source": [
        "**Explicación del comando**:  \n",
        "- `mkdir gcf_hello_world`: Crea un directorio llamado `gcf_hello_world`.  \n",
        "- `cd $_`: Cambia al directorio recién creado.  \n",
        "\n",
        "💡 **Contexto empresarial**: Mantener el código organizado en directorios facilita la gestión de proyectos, especialmente en equipos que desarrollan múltiples funciones para diferentes departamentos."
      ]
    },
    {
      "cell_type": "markdown",
      "metadata": {},
      "source": [
        "### Paso 3: Crea y edita el archivo `index.js`\n",
        "\n",
        "Crea el archivo principal de la función y añade el código que procesará los eventos de Pub/Sub."
      ]
    },
    {
      "cell_type": "code",
      "metadata": {},
      "source": [
        "nano index.js"
      ],
      "execution_count": null,
      "outputs": []
    },
    {
      "cell_type": "markdown",
      "metadata": {},
      "source": [
        "Copia el siguiente código en `index.js`:"
      ]
    },
    {
      "cell_type": "code",
      "metadata": {},
      "source": [
        "const functions = require('@google-cloud/functions-framework');\n",
        "// Register a CloudEvent callback with the Functions Framework that will\n",
        "// be executed when the Pub/Sub trigger topic receives a message.\n",
        "functions.cloudEvent('helloPubSub', cloudEvent => {\n",
        "  // The Pub/Sub message is passed as the CloudEvent's data payload.\n",
        "  const base64name = cloudEvent.data.message.data;\n",
        "  const name = base64name\n",
        "    ? Buffer.from(base64name, 'base64').toString()\n",
        "    : 'World';\n",
        "  console.log(`Hello, ${name}!`);\n",
        "});"
      ],
      "execution_count": null,
      "outputs": []
    },
    {
      "cell_type": "markdown",
      "metadata": {},
      "source": [
        "**Explicación del código**:  \n",
        "- `require('@google-cloud/functions-framework')`: Importa el framework de Google Cloud Functions para manejar eventos.  \n",
        "- `functions.cloudEvent`: Registra una función que se ejecuta cuando un evento de Pub/Sub llega al tema asociado.  \n",
        "- `cloudEvent.data.message.data`: Extrae el mensaje enviado por Pub/Sub, que está codificado en base64.  \n",
        "- `Buffer.from(base64name, 'base64').toString()`: Decodifica el mensaje para hacerlo legible.  \n",
        "- `console.log`: Escribe un mensaje en los registros, como `Hello, World!` o un nombre personalizado si se incluye en el mensaje.\n",
        "\n",
        "💡 **Contexto empresarial**: Este código puede usarse para registrar eventos importantes, como la recepción de un pago, generando un registro automático que puede integrarse con sistemas de contabilidad.\n",
        "\n",
        "Guarda el archivo con `Ctrl + X`, luego `Y` y `Enter`."
      ]
    },
    {
      "cell_type": "markdown",
      "metadata": {},
      "source": [
        "### Paso 4: Crea y edita el archivo `package.json`\n",
        "\n",
        "Crea el archivo de configuración para gestionar las dependencias de la función."
      ]
    },
    {
      "cell_type": "code",
      "metadata": {},
      "source": [
        "nano package.json"
      ],
      "execution_count": null,
      "outputs": []
    },
    {
      "cell_type": "markdown",
      "metadata": {},
      "source": [
        "Copia el siguiente código en `package.json`:"
      ]
    },
    {
      "cell_type": "code",
      "metadata": {},
      "source": [
        "{\n",
        "  \"name\": \"gcf_hello_world\",\n",
        "  \"version\": \"1.0.0\",\n",
        "  \"main\": \"index.js\",\n",
        "  \"scripts\": {\n",
        "    \"start\": \"node index.js\",\n",
        "    \"test\": \"echo \\\"Error: no test specified\\\" && exit 1\"\n",
        "  },\n",
        "  \"dependencies\": {\n",
        "    \"@google-cloud/functions-framework\": \"^3.0.0\"\n",
        "  }\n",
        "}"
      ],
      "execution_count": null,
      "outputs": []
    },
    {
      "cell_type": "markdown",
      "metadata": {},
      "source": [
        "**Explicación del archivo**:  \n",
        "- `name` y `version`: Identifican el proyecto y su versión.  \n",
        "- `main`: Especifica el archivo principal (`index.js`).  \n",
        "- `dependencies`: Lista las bibliotecas necesarias, como el framework de Cloud Functions.  \n",
        "\n",
        "Guarda el archivo con `Ctrl + X`, luego `Y` y `Enter`."
      ]
    },
    {
      "cell_type": "markdown",
      "metadata": {},
      "source": [
        "### Paso 5: Instala las dependencias\n",
        "\n",
        "Instala las bibliotecas necesarias para ejecutar la función."
      ]
    },
    {
      "cell_type": "code",
      "metadata": {},
      "source": [
        "npm install"
      ],
      "execution_count": null,
      "outputs": []
    },
    {
      "cell_type": "markdown",
      "metadata": {},
      "source": [
        "**Explicación del comando**:  \n",
        "- `npm install`: Descarga e instala las dependencias listadas en `package.json`, como el framework de Cloud Functions.\n",
        "\n",
        "💡 **Contexto empresarial**: Mantener las dependencias actualizadas asegura que las funciones sean seguras y compatibles con los servicios de Google Cloud."
      ]
    },
    {
      "cell_type": "markdown",
      "metadata": {},
      "source": [
        "## 🚀 Tarea 2: Implementa tu función\n",
        "\n",
        "Ahora implementarás la función en **Cloud Run Functions**, asociándola a un tema de Pub/Sub llamado `cf-demo`. Esto permite que la función se active automáticamente cuando se publique un mensaje en el tema.\n",
        "\n",
        "Ejecuta el siguiente comando:"
      ]
    },
    {
      "cell_type": "code",
      "metadata": {},
      "source": [
        "gcloud functions deploy nodejs-pubsub-function \\\n",
        "  --gen2 \\\n",
        "  --runtime=nodejs20 \\\n",
        "  --region=REGION \\\n",
        "  --source=. \\\n",
        "  --entry-point=helloPubSub \\\n",
        "  --trigger-topic cf-demo \\\n",
        "  --stage-bucket PROJECT_ID-bucket \\\n",
        "  --service-account cloudfunctionsa@PROJECT_ID.iam.gserviceaccount.com \\\n",
        "  --allow-unauthenticated"
      ],
      "execution_count": null,
      "outputs": []
    },
    {
      "cell_type": "markdown",
      "metadata": {},
      "source": [
        "**Explicación del comando**:  \n",
        "- `gcloud functions deploy`: Despliega la función en Google Cloud.  \n",
        "- `--gen2`: Usa la segunda generación de Cloud Functions, que ofrece mejor rendimiento.  \n",
        "- `--runtime=nodejs20`: Especifica que la función usa Node.js versión 20.  \n",
        "- `--region=REGION`: Define la región (reemplaza `REGION` con la misma región del paso 1).  \n",
        "- `--source=.`: Indica que el código está en el directorio actual.  \n",
        "- `--entry-point=helloPubSub`: Especifica el nombre de la función en `index.js`.  \n",
        "- `--trigger-topic cf-demo`: Vincula la función al tema de Pub/Sub `cf-demo`.  \n",
        "- `--stage-bucket`: Define un bucket para almacenar archivos temporales.  \n",
        "- `--service-account`: Asigna una cuenta de servicio para permisos.  \n",
        "- `--allow-unauthenticated`: Permite invocar la función sin autenticación (para pruebas).\n",
        "\n",
        "💡 **Contexto empresarial**: Este despliegue automatiza procesos, como el envío de notificaciones cuando se detecta un evento (por ejemplo, una nueva transacción en un sistema contable).\n",
        "\n",
        "Verifica el estado de la función:"
      ]
    },
    {
      "cell_type": "code",
      "metadata": {},
      "source": [
        "gcloud functions describe nodejs-pubsub-function \\\n",
        "  --region=REGION"
      ],
      "execution_count": null,
      "outputs": []
    },
    {
      "cell_type": "markdown",
      "metadata": {},
      "source": [
        "**Explicación**: Este comando muestra el estado de la función. Si el estado es `ACTIVE`, la función se implementó correctamente.\n",
        "\n",
        "Para más información sobre la implementación, consulta la [Documentación de Google Cloud Functions](https://cloud.google.com/functions/docs)."
      ]
    },
    {
      "cell_type": "markdown",
      "metadata": {},
      "source": [
        "## 🚀 Tarea 3: Prueba la función\n",
        "\n",
        "Prueba la función enviando un mensaje al tema de Pub/Sub `cf-demo` y verifica que se ejecute correctamente."
      ]
    },
    {
      "cell_type": "code",
      "metadata": {},
      "source": [
        "gcloud pubsub topics publish cf-demo --message=\"Cloud Function Gen2\""
      ],
      "execution_count": null,
      "outputs": []
    },
    {
      "cell_type": "markdown",
      "metadata": {},
      "source": [
        "**Explicación del comando**:  \n",
        "- `gcloud pubsub topics publish`: Publica un mensaje en el tema `cf-demo`.  \n",
        "- `--message=\"Cloud Function Gen2\"`: Define el contenido del mensaje. La función procesará este mensaje y escribirá `Hello, Cloud Function Gen2!` en los registros.\n",
        "\n",
        "💡 **Contexto empresarial**: Este mecanismo puede usarse para probar notificaciones automáticas, como alertas de pagos recibidos o actualizaciones de inventario."
      ]
    },
    {
      "cell_type": "markdown",
      "metadata": {},
      "source": [
        "## 🚀 Tarea 4: Consulta los registros\n",
        "\n",
        "Revisa los registros para confirmar que la función escribió el mensaje esperado."
      ]
    },
    {
      "cell_type": "code",
      "metadata": {},
      "source": [
        "gcloud functions logs read nodejs-pubsub-function \\\n",
        "  --region=REGION"
      ],
      "execution_count": null,
      "outputs": []
    },
    {
      "cell_type": "markdown",
      "metadata": {},
      "source": [
        "**Explicación**: Este comando muestra los registros de la función. Busca el mensaje `Hello, Cloud Function Gen2!` para confirmar que la función se ejecutó correctamente.\n",
        "\n",
        "📌 **Nota**: Los registros pueden tardar hasta 10 minutos en aparecer. También puedes consultarlos en **Logging > Explorador de registros** en la consola de Google Cloud.\n",
        "\n",
        "💡 **Contexto empresarial**: Los registros son esenciales para auditar procesos, como verificar que una transacción fue procesada correctamente en un sistema contable."
      ]
    },
    {
      "cell_type": "markdown",
      "metadata": {},
      "source": [
        "## 🚀 Tarea 5: Pon a prueba tus conocimientos\n",
        "\n",
        "### ¿Qué es Serverless?\n",
        "\n",
        "**Serverless** (computación sin servidor) permite desarrollar y desplegar aplicaciones sin gestionar la infraestructura subyacente, como servidores, balanceadores de carga o escalabilidad manual. Google Cloud se encarga de aprovisionar y escalar los recursos automáticamente.\n",
        "\n",
        "**Beneficios clave**:  \n",
        "- **Reducción de costos**: Solo pagas por el uso real de los recursos.  \n",
        "- **Aceleración del desarrollo**: Los equipos pueden enfocarse en crear funcionalidades en lugar de administrar servidores.  \n",
        "- **Escalabilidad automática**: Ideal para manejar picos de trabajo, como el procesamiento de transacciones durante cierres contables.\n",
        "\n",
        "**Usos empresariales**:  \n",
        "- Ejecutar funciones en respuesta a eventos (por ejemplo, procesar un pago).  \n",
        "- Crear APIs para conectar sistemas internos.  \n",
        "- Automatizar flujos de trabajo, como enviar alertas de facturación.\n",
        "\n",
        "💡 **Conclusión**: Serverless es una solución poderosa para empresas que buscan agilidad y eficiencia, especialmente en áreas como contabilidad, donde la automatización de procesos repetitivos ahorra tiempo y reduce errores.\n",
        "\n",
        "Para más información, consulta la [Documentación de Google Cloud Serverless](https://cloud.google.com/serverless)."
      ]
    }
  ],
  "metadata": {
    "kernelspec": {
      "display_name": "Node.js",
      "language": "javascript",
      "name": "nodejs"
    },
    "language_info": {
      "name": "javascript"
    }
  },
  "nbformat": 4,
  "nbformat_minor": 5
}