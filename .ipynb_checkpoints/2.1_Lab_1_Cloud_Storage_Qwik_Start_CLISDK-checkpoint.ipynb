{
 "cells": [
  {
   "cell_type": "markdown",
   "metadata": {},
   "source": [
    "# Laboratorio: Uso de Google Cloud Storage desde la Línea de Comandos 🚀\n",
    "\n",
    "📌 **Introducción**  \n",
    "**Google Cloud Storage** es un servicio escalable para almacenar y acceder a datos no estructurados (como PDFs, imágenes o videos) desde cualquier parte del mundo. Este laboratorio te enseña a gestionar archivos en la nube usando la línea de comandos, con aplicaciones prácticas para contabilidad, como almacenar facturas escaneadas, informes financieros o respaldos.\n",
    "\n",
    "## Objetivo del Laboratorio\n",
    "- Crear un **bucket** (contenedor de archivos).  \n",
    "- Subir y descargar objetos (archivos).  \n",
    "- Crear carpetas virtuales dentro del bucket.  \n",
    "- Compartir archivos públicamente y gestionar permisos.  \n",
    "\n",
    "## Usos Comunes\n",
    "- **Publicar contenido web**: Compartir informes o videos.  \n",
    "- **Respaldos**: Guardar copias de libros contables o facturas.  \n",
    "- **Distribución de archivos**: Enviar balances a clientes o auditores.  \n",
    "\n",
    "**Nota sobre comandos**: Este laboratorio usa `gcloud storage` (interfaz moderna de Google Cloud) para operaciones generales y `gsutil` (herramienta heredada) para gestionar permisos (ACL). Ambos son válidos para interactuar con **Cloud Storage**.\n",
    "\n",
    "**Nota para Google Colab**: Los comandos están diseñados para ejecutarse en **Cloud Shell**, donde el **Google Cloud SDK** está preinstalado. En Google Colab, debes instalar el SDK ejecutando:\n",
    "```bash\n",
    "!curl https://sdk.cloud.google.com | bash\n",
    "```\n",
    "Luego, autentica tu cuenta con `gcloud auth login`.\n",
    "\n",
    "💡 **Enlace a documentación oficial**: [Google Cloud Storage Overview](https://cloud.google.com/storage/docs)"
   ]
  },
  {
   "cell_type": "markdown",
   "metadata": {},
   "source": [
    "## 1. Requisitos Previos 📋\n",
    "\n",
    "📌 **Preparación**  \n",
    "Para realizar este laboratorio, necesitas:\n",
    "- Usar una ventana de navegador en **modo incógnito** para evitar interferencias con cuentas personales.  \n",
    "- Utilizar una **cuenta temporal de estudiante** proporcionada por el laboratorio, no tu cuenta personal de Google Cloud, para evitar cargos.  \n",
    "- Acceder a **Google Cloud Console** y **Cloud Shell**, una terminal en línea para ejecutar comandos.  \n",
    "\n",
    "**Contexto contable**: Imagina que **Cloud Shell** es un escritorio digital donde organizas y gestionas archivos contables (facturas, balances, etc.) sin necesidad de servidores físicos.\n",
    "\n",
    "💡 **Enlace a documentación oficial**: [Cloud Shell Documentation](https://cloud.google.com/shell/docs)"
   ]
  },
  {
   "cell_type": "markdown",
   "metadata": {},
   "source": [
    "## 2. Activación de Cloud Shell 🖥️\n",
    "\n",
    "📌 **¿Qué es Cloud Shell?**  \n",
    "**Cloud Shell** es una terminal en línea que actúa como una herramienta para gestionar recursos en **Google Cloud** mediante comandos. Es como un panel de control para organizar archivos digitales, ideal para contadores que necesitan manejar documentos financieros en la nube.\n",
    "\n",
    "### Pasos para Activar Cloud Shell\n",
    "1. En **Google Cloud Console**, haz clic en el ícono de **Cloud Shell** (esquina superior derecha).  \n",
    "2. Autoriza los permisos solicitados.  \n",
    "3. Se abrirá una terminal con comandos preconfigurados.  \n",
    "\n",
    "### Comandos Iniciales\n",
    "Verifica tu configuración antes de empezar:\n"
   ]
  },
  {
   "cell_type": "code",
   "execution_count": null,
   "metadata": {},
   "outputs": [],
   "source": [
    "# Verifica la cuenta activa\n",
    "gcloud auth list\n",
    "\n",
    "# Verifica el proyecto activo\n",
    "gcloud config list project"
   ]
  },
  {
   "cell_type": "markdown",
   "metadata": {
    "language": "bash"
   },
   "source": [
    "**Explicación**:\n",
    "- `gcloud auth list`: Muestra la cuenta de Google Cloud activa. Asegúrate de usar la cuenta temporal de estudiante.\n",
    "- `gcloud config list project`: Confirma el ID del proyecto activo, esencial para evitar errores.\n",
    "\n",
    "**Uso contable**: Estos comandos son como verificar que estás trabajando en el archivo correcto antes de registrar transacciones.\n",
    "\n",
    "**Solución de problemas**:\n",
    "- Si `gcloud auth list` no muestra una cuenta activa, ejecuta `gcloud auth login`.\n",
    "- Si el proyecto no está configurado, establece uno con `gcloud config set project TU_PROYECTO_ID`.\n"
   ]
  },
  {
   "cell_type": "markdown",
   "metadata": {},
   "source": [
    "## 3. Configurar la Región 🌍\n",
    "\n",
    "📌 **Configuración Regional**  \n",
    "Establecer la región geográfica optimiza el rendimiento al elegir un servidor cercano a tus usuarios. Por ejemplo, una empresa en Argentina podría elegir `southamerica-east1` para reducir la latencia.\n",
    "\n",
    "### Comando\n"
   ]
  },
  {
   "cell_type": "code",
   "execution_count": null,
   "metadata": {},
   "outputs": [],
   "source": [
    "# Configurar la región (ejemplo: southamerica-east1)\n",
    "gcloud config set compute/region southamerica-east1"
   ]
  },
  {
   "cell_type": "markdown",
   "metadata": {
    "language": "bash"
   },
   "source": [
    "\n",
    "\n",
    "**Explicación**:\n",
    "- `gcloud config set compute/region`: Define la región para tus recursos.\n",
    "- `southamerica-east1`: Región ejemplo (reemplaza según tu ubicación, ej.: `us-central1`).\n",
    "\n",
    "**Uso contable**: Elegir una región cercana asegura que los contadores accedan rápidamente a documentos financieros almacenados.\n",
    "\n",
    "💡 **Enlace a documentación oficial**: [Google Cloud Regions](https://cloud.google.com/compute/docs/regions-zones)"
   ]
  },
  {
   "cell_type": "markdown",
   "metadata": {},
   "source": [
    "## 4. Tarea 1: Crear un Bucket 📂\n",
    "\n",
    "📌 **¿Qué es un Bucket?**  \n",
    "Un **bucket** es un contenedor en **Cloud Storage** para almacenar archivos (objetos), similar a una carpeta principal en un sistema de archivos. Es ideal para organizar documentos contables, como recibos o balances.\n",
    "\n",
    "### Reglas para Nombrar Buckets\n",
    "- Solo letras minúsculas, números y guiones.  \n",
    "- No usar palabras reservadas (ej.: \"google\").  \n",
    "- Entre 3 y 63 caracteres.  \n",
    "- **Nombre único globalmente**: El nombre debe ser único en todo Google Cloud (ej.: `mi-contabilidad-2025-abc123`).\n",
    "\n",
    "### Comando\n"
   ]
  },
  {
   "cell_type": "code",
   "execution_count": null,
   "metadata": {},
   "outputs": [],
   "source": [
    "### Crear un bucket\n",
    "gcloud storage buckets create gs://mi-contabilidad-2025-abc123"
   ]
  },
  {
   "cell_type": "markdown",
   "metadata": {
    "jp-MarkdownHeadingCollapsed": true,
    "language": "bash"
   },
   "source": [
    "**Explicación**:\n",
    "- `gcloud storage buckets create`: Crea un bucket con configuraciones predeterminadas (ej.: clase de almacenamiento Standard, región especificada).\n",
    "- `gs://mi-contabilidad-2025-abc123`: Nombre único del bucket (reemplaza con un nombre propio único, ej.: `gs://contabilidad-empresa-2025-xyz`).\n",
    "\n",
    "**Advertencia**: El nombre del bucket debe ser único globalmente. Si el nombre ya existe, recibirás un error. Añade un sufijo único (ej.: tu nombre o un número aleatorio).\n",
    "\n",
    "**Uso contable**: Crear un bucket para almacenar recibos digitalizados organizados por año fiscal.\n",
    "\n",
    "**Ver configuración**: En **Google Cloud Console**, ve a *Menú de Navegación > Cloud Storage*, selecciona tu bucket y revisa la pestaña *Configuración*. Verifica detalles como:\n",
    "- **Clase de almacenamiento**: Por defecto, Standard (para acceso frecuente).\n",
    "- **Región**: La región configurada (ej.: `southamerica-east1`).\n",
    "- **Cifrado**: Activado por defecto para proteger datos.\n",
    "\n",
    "**Solución de problemas**: Si recibes un error de \"nombre no disponible\", cambia el nombre del bucket (ej.: añade un sufijo como `-xyz123`).\n",
    "\n",
    "💡 **Enlace a documentación oficial**: [Creating Buckets](https://cloud.google.com/storage/docs/creating-buckets)"
   ]
  },
  {
   "cell_type": "markdown",
   "metadata": {},
   "source": [
    "## 5. Tarea 2: Subir un Archivo al Bucket 📤\n",
    "\n",
    "📌 **Descripción**  \n",
    "Subirás un archivo al bucket, simulando el almacenamiento de un documento contable (ej.: un recibo en PDF). En este laboratorio, se usa una imagen de Ada Lovelace como ejemplo didáctico, pero también incluiremos un caso contable.\n",
    "\n",
    "**Nota**: El ejemplo usa una imagen descargada de internet. En un caso real, puedes subir un archivo local (ej.: `factura_2025.pdf`) desde tu directorio en **Cloud Shell**. Asegúrate de que el archivo exista en el directorio actual.\n",
    "\n",
    "### Pasos\n",
    "1. Descarga una imagen de ejemplo: curl https://upload.wikimedia.org/wikipedia/commons/0/0f/Ada_Lovelace_portrait.jpg --output ada.jpg\n"
   ]
  },
  {
   "cell_type": "markdown",
   "metadata": {
    "jp-MarkdownHeadingCollapsed": true,
    "language": "bash"
   },
   "source": [
    "**Explicación**:\n",
    "- `curl`: Herramienta para descargar archivos desde una URL.\n",
    "- `https://upload.wikimedia.org/.../Ada_Lovelace_portrait.jpg`: URL completa de la imagen (ejemplo didáctico).\n",
    "- `--output ada.jpg`: Guarda la imagen como `ada.jpg` en el directorio actual.\n",
    "\n",
    "**Solución de problemas**: Si la descarga falla, verifica tu conexión a internet o usa un archivo local (ej.: `factura_2025.pdf`).\n",
    "\n",
    "2. Sube la imagen al bucket:\n"
   ]
  },
  {
   "cell_type": "code",
   "execution_count": null,
   "metadata": {},
   "outputs": [],
   "source": [
    "### Subir la imagen al bucket\n",
    "gcloud storage cp ada.jpg gs://mi-contabilidad-2025-abc123"
   ]
  },
  {
   "cell_type": "markdown",
   "metadata": {
    "jp-MarkdownHeadingCollapsed": true,
    "language": "bash"
   },
   "source": [
    "**Explicación**:\n",
    "- `gcloud storage cp`: Copia un archivo al bucket.\n",
    "- `ada.jpg`: Archivo local a subir (debe existir en el directorio actual).\n",
    "- `gs://mi-contabilidad-2025-abc123`: Destino en el bucket (reemplaza con tu bucket único).\n",
    "\n",
    "**Advertencia**: Usa el nombre exacto de tu bucket único. Asegúrate de que `ada.jpg` existe en el directorio actual (usa `ls` para verificar).\n",
    "\n",
    "3. Elimina el archivo local:\n"
   ]
  },
  {
   "cell_type": "code",
   "execution_count": null,
   "metadata": {},
   "outputs": [],
   "source": [
    "rm ada.jpg"
   ]
  },
  {
   "cell_type": "markdown",
   "metadata": {
    "language": "bash"
   },
   "source": [
    "-**Explicación**: Elimina el archivo local para liberar espacio.\n",
    "\n",
    "-**Solución de problemas**: Si recibes un error como \"No such file or directory\", verifica que el archivo exista con `ls`.\n",
    "\n",
    "-**Enlace a documentación oficial**: [Uploading Objects](https://cloud.google.com/storage/docs/uploading-objects)"
   ]
  },
  {
   "cell_type": "markdown",
   "metadata": {},
   "source": [
    "## 6. Tarea 3: Descargar un Archivo desde el Bucket 📥\n",
    "\n",
    "📌 **Descripción**  \n",
    "Descargarás un archivo desde el bucket a tu terminal **Cloud Shell**, simulando la recuperación de un documento contable para revisión.\n",
    "\n"
   ]
  },
  {
   "cell_type": "code",
   "execution_count": null,
   "metadata": {},
   "outputs": [],
   "source": [
    "# Descargar un archivo\n",
    "gcloud storage cp -r gs://mi-contabilidad-2025-abc123/ada.jpg "
   ]
  },
  {
   "cell_type": "markdown",
   "metadata": {
    "language": "bash"
   },
   "source": [
    "**Explicación**:\n",
    "- `gcloud storage cp`: Copia un archivo desde el bucket.\n",
    "- `-r`: Copia recursiva (opcional para un solo archivo).\n",
    "- `gs://mi-contabilidad-2025-abc123/ada.jpg`: Ruta del archivo en el bucket.\n",
    "- `.` (punto): Directorio actual donde se guardará el archivo.\n",
    "\n",
    "**Advertencia**: Usa el nombre exacto de tu bucket único. Asegúrate de que el archivo exista en el bucket (usa `gcloud storage ls gs://mi-contabilidad-2025-abc123` para verificar).\n",
    "\n"
   ]
  },
  {
   "cell_type": "markdown",
   "metadata": {},
   "source": [
    "## 7. Tarea 4: Copiar un Archivo a una Carpeta dentro del Bucket 📂\n",
    "\n",
    "📌 **Descripción**  \n",
    "Copiarás un archivo dentro del bucket a una carpeta virtual, simulando la organización de documentos por categorías (ej.: por año fiscal).\n",
    "\n",
    "**Nota**: **Cloud Storage** no usa carpetas reales, pero simula jerarquías para organización.\n",
    "\n",
    "**Uso contable**: Organizar facturas en carpetas por año fiscal (ej.: `facturas-2025/`).\n",
    "\n",
    "💡 **Enlace a documentación oficial**: [Organizing Objects](https://cloud.google.com/storage/docs/organizing-objects)"
   ]
  },
  {
   "cell_type": "code",
   "execution_count": null,
   "metadata": {},
   "outputs": [],
   "source": [
    "# Copiar archivo a una carpeta\n",
    "gcloud storage cp gs://mi-contabilidad-2025-abc123/ada.jpg gs://mi-contabilidad-2025-abc123/facturas-2025/"
   ]
  },
  {
   "cell_type": "markdown",
   "metadata": {
    "language": "bash"
   },
   "source": [
    "**Explicación**:\n",
    "- `gcloud storage cp`: Copia el archivo dentro del bucket.\n",
    "- `gs://mi-contabilidad-2025-abc123/ada.jpg`: Archivo fuente.\n",
    "- `gs://mi-contabilidad-2025-abc123/facturas-2025/`: Carpeta de destino (se crea automáticamente).\n",
    "\n",
    "**Advertencia**: Usa el nombre exacto de tu bucket único. Asegúrate de que el archivo fuente exista en el bucket.\n",
    "\n",
    "**Solución de problemas**:\n",
    "- Si aparece el error \"No such object\", verifica que el archivo exista en el bucket.\n",
    "- Si el bucket no es accesible, confirma que estás autenticado (`gcloud auth list`) y que el proyecto está configurado (`gcloud config list project`)."
   ]
  },
  {
   "cell_type": "markdown",
   "metadata": {},
   "source": [
    "## 8. Tarea 5: Listar el Contenido del Bucket 📋\n",
    "\n",
    "📌 **Descripción**  \n",
    "Listarás los archivos y carpetas dentro del bucket para verificar su contenido, útil para auditorías o control documental.\n",
    "\n",
    "### Comando\n"
   ]
  },
  {
   "cell_type": "code",
   "execution_count": null,
   "metadata": {},
   "outputs": [],
   "source": [
    "# Listar contenido del bucket\n",
    "gcloud storage ls gs://mi-contabilidad-2025-abc123"
   ]
  },
  {
   "cell_type": "markdown",
   "metadata": {
    "language": "bash"
   },
   "source": [
    "**Explicación**:\n",
    "- `gcloud storage ls`: Muestra los archivos y carpetas del bucket.\n",
    "- `gs://mi-contabilidad-2025-abc123`: Ruta del bucket.\n",
    "\n",
    "**Advertencia**: Usa el nombre exacto de tu bucket único.\n",
    "\n",
    "**Uso contable**: Revisar qué facturas o balances están almacenados para verificar que todos los documentos de un trimestre estén presentes durante una auditoría.\n",
    "\n",
    "**Solución de problemas**: Si no ves archivos, asegúrate de que el bucket contiene datos (puedes subir un archivo primero con la Tarea 2).\n",
    "\n",
    "💡 **Enlace a documentación oficial**: [Listing Objects](https://cloud.google.com/storage/docs/listing-objects)"
   ]
  },
  {
   "cell_type": "markdown",
   "metadata": {},
   "source": [
    "## 9. Tarea 6: Ver Detalles de un Archivo 🔍\n",
    "\n",
    "📌 **Descripción**  \n",
    "Obtendrás detalles de un archivo (tamaño, fecha de creación), útil para verificar la validez de documentos contables durante auditorías.\n",
    "\n",
    "### Comando\n"
   ]
  },
  {
   "cell_type": "code",
   "execution_count": null,
   "metadata": {},
   "outputs": [],
   "source": [
    "# Ver detalles de un archivo\n",
    "gcloud storage ls -l gs://mi-contabilidad-2025-abc123/ada.jpg"
   ]
  },
  {
   "cell_type": "markdown",
   "metadata": {
    "language": "bash"
   },
   "source": [
    "**Explicación**:\n",
    "- `gcloud storage ls -l`: Muestra información detallada (tamaño, fecha de creación).\n",
    "- `gs://mi-contabilidad-2025-abc123/ada.jpg`: Ruta del archivo.\n",
    "\n",
    "**Advertencia**: Usa el nombre exacto de tu bucket único. Asegúrate de que el archivo exista.\n",
    "\n",
    "**Solución de problemas**: Si recibes un error como \"No such object\", verifica que el archivo exista con `gcloud storage ls gs://mi-contabilidad-2025-abc123`.\n",
    "\n",
    "💡 **Enlace a documentación oficial**: [Viewing Object Metadata](https://cloud.google.com/storage/docs/viewing-editing-object-metadata)"
   ]
  },
  {
   "cell_type": "markdown",
   "metadata": {},
   "source": [
    "## 10. Tarea 7: Hacer un Archivo Público 🌐\n",
    "\n",
    "📌 **Descripción**  \n",
    "Hacer un archivo accesible públicamente, útil para compartir informes con clientes o auditores externos.\n",
    "\n",
    "**Nota**: Este comando usa `gsutil` en lugar de `gcloud storage` porque la gestión de permisos (ACL) es más directa con `gsutil`, la herramienta heredada.\n",
    "\n",
    "### Comando\n"
   ]
  },
  {
   "cell_type": "code",
   "execution_count": null,
   "metadata": {},
   "outputs": [],
   "source": [
    "# Hacer un archivo público\n",
    "gsutil acl ch -u AllUsers:R gs://mi-contabilidad-2025-abc123/ada.jpg"
   ]
  },
  {
   "cell_type": "markdown",
   "metadata": {
    "language": "bash"
   },
   "source": [
    "**Explicación**:\n",
    "- `gsutil acl ch`: Modifica la lista de control de acceso (ACL).\n",
    "- `-u AllUsers:R`: Otorga permiso de lectura pública.\n",
    "- `gs://mi-contabilidad-2025-abc123/ada.jpg`: Archivo a compartir.\n",
    "\n",
    "**Advertencia**: Usa el nombre exacto de tu bucket único. Asegúrate de que el archivo exista.\n",
    "\n",
    "**Validación**: En **Google Cloud Console**, ve a *Cloud Storage*, selecciona tu bucket, haz clic en el archivo y copia el enlace público desde la columna *Public link*. Ábrelo en una pestaña nueva para verificar. Por ejemplo, el enlace podría ser `https://storage.googleapis.com/mi-contabilidad-2025-abc123/ada.jpg`. En un contexto contable, esto permite enviar un informe financiero a un auditor externo sin necesidad de autenticación.\n",
    "\n",
    "**Solución de problemas**: Si el enlace público no funciona, verifica que el archivo exista y que el permiso se aplicó correctamente.\n",
    "\n",
    "💡 **Enlace a documentación oficial**: [Managing Access Control Lists](https://cloud.google.com/storage/docs/access-control)"
   ]
  },
  {
   "cell_type": "markdown",
   "metadata": {},
   "source": [
    "## 11. Tarea 8: Eliminar el Acceso Público 🔒\n",
    "\n",
    "📌 **Descripción**  \n",
    "Revocarás el acceso público a un archivo para proteger información confidencial.\n",
    "\n",
    "**Nota**: Este comando usa `gsutil` porque la gestión de permisos (ACL) es más directa con esta herramienta heredada.\n",
    "\n",
    "### Comando\n"
   ]
  },
  {
   "cell_type": "code",
   "execution_count": null,
   "metadata": {},
   "outputs": [],
   "source": [
    "# Eliminar acceso público\n",
    "gsutil acl ch -d AllUsers gs://mi-contabilidad-2025-abc123/ada.jpg"
   ]
  },
  {
   "cell_type": "markdown",
   "metadata": {
    "language": "bash"
   },
   "source": [
    "**Explicación**:\n",
    "- `gsutil acl ch -d AllUsers`: Revoca los permisos públicos.\n",
    "- `gs://mi-contabilidad-2025-abc123/ada.jpg`: Archivo afectado.\n",
    "\n",
    "**Advertencia**: Usa el nombre exacto de tu bucket único. Asegúrate de que el archivo exista.\n",
    "\n",
    "**Explicación**: Retira el acceso público a un balance tras compartirlo temporalmente.\n",
    "\n",
    "**Solución de problemas**: Si el comando falla, verifica que el archivo exista y que tenga permisos públicos aplicados.\n",
    "\n",
    "💡 **Enlace a documentación oficial**: [Managing Access Control Lists](https://cloud.google.com/storage/docs/access-control)"
   ]
  },
  {
   "cell_type": "markdown",
   "metadata": {},
   "source": [
    "## 12. Tarea 9: Eliminar un Archivo 🗑️\n",
    "\n",
    "📌 **Descripción**  \n",
    "Eliminarás un archivo del bucket, simulando la eliminación de un documento obsoleto (la copia en la subcarpeta permanece).\n",
    "\n",
    "### Comando\n"
   ]
  },
  {
   "cell_type": "code",
   "execution_count": null,
   "metadata": {},
   "outputs": [],
   "source": [
    "# Eliminar un archivo\n",
    "gcloud storage rm gs://mi-contabilidad-2025-abc123/ada.jpg"
   ]
  },
  {
   "cell_type": "markdown",
   "metadata": {
    "language": "bash"
   },
   "source": [
    "**Explicación**:\n",
    "- `gcloud storage rm`: Elimina el archivo del bucket.\n",
    "- `gs://mi-contabilidad-2025-abc123/ada.jpg`: Ruta del archivo a eliminar.\n",
    "\n",
    "**Advertencia**: Usa el nombre exacto de tu bucket único. Asegúrate de que el archivo exista.\n",
    "\n",
    "**Solución de problemas**: Si recibes un error como \"No such object\", verifica que el archivo exista con `gcloud storage ls gs://mi-contabilidad-2025-abc123`.\n",
    "\n",
    "💡 **Enlace a documentación oficial**: [Deleting Objects](https://cloud.google.com/storage/docs/deleting-objects)"
   ]
  },
  {
   "cell_type": "markdown",
   "metadata": {},
   "source": [
    "## 13. Resumen de Tareas 📊\n",
    "\n",
    "| Tarea | Comando Principal | Ejemplo Práctico Contable |\n",
    "|-------|-------------------|---------------------------|\n",
    "| Crear bucket | `gcloud storage buckets create gs://mi-bucket` | Crear contenedor para informes anuales. |\n",
    "| Subir archivo | `gcloud storage cp archivo.jpg gs://mi-bucket` | Subir escaneo de recibos. |\n",
    "| Descargar archivo | `gcloud storage cp gs://mi-bucket/archivo.jpg .` | Recuperar informe digital desde la nube. |\n",
    "| Copiar archivo a subcarpeta | `gcloud storage cp gs://mi-bucket/archivo.jpg gs://mi-bucket/carpeta/` | Organizar archivos por año o tipo. |\n",
    "| Listar archivos | `gcloud storage ls gs://mi-bucket` | Verificar qué facturas están en el bucket para auditorías. |\n",
    "| Ver detalles de archivo | `gcloud storage ls -l gs://mi-bucket/archivo.jpg` | Revisar fecha de una factura para control documental. |\n",
    "| Hacer archivo público | `gsutil acl ch -u AllUsers:R gs://mi-bucket/archivo.jpg` | Compartir reporte con clientes externos. |\n",
    "| Quitar acceso público | `gsutil acl ch -d AllUsers gs://mi-bucket/archivo.jpg` | Proteger información confidencial tras auditoría. |\n",
    "| Eliminar archivo | `gcloud storage rm gs://mi-bucket/archivo.jpg` | Eliminar versiones antiguas de balances. |\n",
    "\n",
    "💡 **Enlace a documentación oficial**: [Google Cloud Storage CLI Reference](https://cloud.google.com/storage/docs/gsutil)"
   ]
  }
 ],
 "metadata": {
  "kernelspec": {
   "display_name": "Python 3 (ipykernel)",
   "language": "python",
   "name": "python3"
  },
  "language_info": {
   "codemirror_mode": {
    "name": "ipython",
    "version": 3
   },
   "file_extension": ".py",
   "mimetype": "text/x-python",
   "name": "python",
   "nbconvert_exporter": "python",
   "pygments_lexer": "ipython3",
   "version": "3.9.21"
  }
 },
 "nbformat": 4,
 "nbformat_minor": 4
}
