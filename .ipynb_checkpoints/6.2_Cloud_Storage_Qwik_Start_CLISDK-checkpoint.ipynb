{
 "cells": [
  {
   "cell_type": "markdown",
   "id": "intro",
   "metadata": {},
   "source": [
    "# 📌 Almacenamiento en la Nube con Google Cloud Storage: CLI/SDK\n",
    "\n",
    "## Introducción\n",
    "\n",
    "**Google Cloud Storage** es un servicio de almacenamiento altamente escalable y duradero que permite guardar y recuperar datos desde cualquier parte del mundo. Este laboratorio te guiará en la creación de un **bucket**, la carga de objetos, la organización en carpetas, la configuración de acceso público y la gestión de archivos, todo utilizando la línea de comandos con **gcloud** y **gsutil** en **Cloud Shell**. Estas habilidades son esenciales para automatizar la gestión de datos empresariales, como documentos contables, reportes financieros o activos digitales.\n",
    "\n",
    "💡 **Beneficio empresarial**: **Cloud Storage** ofrece una solución robusta para almacenar grandes volúmenes de datos sin infraestructura física, reduciendo costos y facilitando la recuperación de datos para auditorías o continuidad del negocio.\n",
    "\n",
    "Para más información, consulta la [Documentación oficial de Google Cloud Storage](https://cloud.google.com/storage/docs)."
   ]
  },
  {
   "cell_type": "markdown",
   "id": "objetivos",
   "metadata": {},
   "source": [
    "## 🚀 Objetivos del laboratorio\n",
    "\n",
    "- Activar y configurar **Cloud Shell** para gestionar recursos.\n",
    "- Crear un **bucket** en **Google Cloud Storage**.\n",
    "- Subir, descargar y organizar archivos en el bucket.\n",
    "- Configurar y revocar acceso público a un archivo.\n",
    "- Listar y eliminar contenido del bucket.\n",
    "\n",
    "💡 **Contexto empresarial**: Estas tareas permiten a las empresas gestionar datos críticos de forma automatizada, optimizando procesos como la gestión de facturas o la distribución de contenido público."
   ]
  },
  {
   "cell_type": "markdown",
   "id": "setup_cloud_shell",
   "metadata": {},
   "source": [
    "## 🚀 Configuración Inicial: Activación de Cloud Shell\n",
    "\n",
    "**Cloud Shell** es una máquina virtual con herramientas preinstaladas y 5GB de almacenamiento persistente, ideal para ejecutar comandos en **Google Cloud**.\n",
    "\n",
    "### Pasos\n",
    "1. Haz clic en el ícono **Activate Cloud Shell** en la **Consola de Google Cloud**.  \n",
    "2. Autoriza el uso de las credenciales temporales proporcionadas.  \n",
    "3. El sistema estará autenticado con el **PROJECT_ID** del laboratorio.\n",
    "\n",
    "### Comandos de configuración\n",
    "#### Ver cuenta activa"
   ]
  },
  {
   "cell_type": "code",
   "execution_count": null,
   "id": "auth_list",
   "metadata": {},
   "outputs": [],
   "source": [
    "gcloud auth list"
   ]
  },
  {
   "cell_type": "markdown",
   "id": "auth_list_explain",
   "metadata": {},
   "source": [
    "**Explicación del comando**:  \n",
    "- `gcloud auth list`: Muestra la cuenta de Google activa en la sesión.  \n",
    "\n",
    "#### Ver proyecto activo"
   ]
  },
  {
   "cell_type": "code",
   "execution_count": null,
   "id": "project_list",
   "metadata": {},
   "outputs": [],
   "source": [
    "gcloud config list project"
   ]
  },
  {
   "cell_type": "markdown",
   "id": "project_list_explain",
   "metadata": {},
   "source": [
    "**Explicación del comando**:  \n",
    "- `gcloud config list project`: Muestra el ID del proyecto activo.  \n",
    "\n",
    "#### Establecer la región"
   ]
  },
  {
   "cell_type": "code",
   "execution_count": null,
   "id": "set_region",
   "metadata": {},
   "outputs": [],
   "source": [
    "gcloud config set compute/region us-central1"
   ]
  },
  {
   "cell_type": "markdown",
   "id": "set_region_explain",
   "metadata": {},
   "source": [
    "**Explicación del comando**:  \n",
    "- `gcloud config set compute/region`: Configura la región predeterminada (ej., `us-central1`).  \n",
    "💡 **Contexto empresarial**: Configurar **Cloud Shell** y la región permite a los equipos de TI gestionar recursos de forma eficiente, reduciendo errores en la configuración.\n",
    "\n",
    "Para más información, consulta la [Documentación de Cloud Shell](https://cloud.google.com/shell/docs)."
   ]
  },
  {
   "cell_type": "markdown",
   "id": "task1_create_bucket",
   "metadata": {},
   "source": [
    "## 🚀 Tarea 1: Crear un Bucket\n",
    "\n",
    "### Reglas para nombrar buckets\n",
    "- Solo letras minúsculas, números, guiones (-), guiones bajos (_) o puntos (.).  \n",
    "- No debe comenzar con \"goog\" ni contener \"google\".  \n",
    "- Longitud: 3-63 caracteres.  \n",
    "- No debe parecerse a una dirección IP (ej., 192.168.0.1).  \n",
    "\n",
    "### Comando para crear un bucket"
   ]
  },
  {
   "cell_type": "code",
   "execution_count": null,
   "id": "create_bucket",
   "metadata": {},
   "outputs": [],
   "source": [
    "gcloud storage buckets create gs://YOUR-BUCKET-NAME"
   ]
  },
  {
   "cell_type": "markdown",
   "id": "create_bucket_explain",
   "metadata": {},
   "source": [
    "**Explicación del comando**:  \n",
    "- `gcloud storage buckets create`: Crea un nuevo bucket.  \n",
    "- `gs://YOUR-BUCKET-NAME`: Especifica el nombre único del bucket (reemplaza `YOUR-BUCKET-NAME`).  \n",
    "🔸 **Nota**: Si el nombre ya está en uso, recibirás un error 409 (\"Bucket already exists\").  \n",
    "\n",
    "### Verificación\n",
    "- Revisa el resultado en **Consola Web > Navigation menu > Cloud Storage**.  \n",
    "- Refresca la página para ver el bucket creado.  \n",
    "💡 **Contexto empresarial**: Los buckets son ideales para almacenar documentos empresariales, como facturas o contratos, con alta durabilidad y accesibilidad.\n",
    "\n",
    "Para más información, consulta la [Documentación de creación de buckets](https://cloud.google.com/storage/docs/creating-buckets)."
   ]
  },
  {
   "cell_type": "markdown",
   "id": "task2_upload_file",
   "metadata": {},
   "source": [
    "## 🚀 Tarea 2: Subir un Archivo al Bucket\n",
    "\n",
    "### Descargar una imagen a Cloud Shell"
   ]
  },
  {
   "cell_type": "code",
   "execution_count": null,
   "id": "download_image",
   "metadata": {},
   "outputs": [],
   "source": [
    "curl https://upload.wikimedia.org/wikipedia/commons/thumb/a/a4/Ada_Lovelace_portrait.jpg/800px-Ada_Lovelace_portrait.jpg --output ada.jpg"
   ]
  },
  {
   "cell_type": "markdown",
   "id": "download_image_explain",
   "metadata": {},
   "source": [
    "**Explicación del comando**:  \n",
    "- `curl`: Descarga un archivo desde una URL.  \n",
    "- `--output ada.jpg`: Guarda la imagen como `ada.jpg` en **Cloud Shell**.  \n",
    "\n",
    "### Subir la imagen al bucket"
   ]
  },
  {
   "cell_type": "code",
   "execution_count": null,
   "id": "upload_image",
   "metadata": {},
   "outputs": [],
   "source": [
    "gcloud storage cp ada.jpg gs://YOUR-BUCKET-NAME"
   ]
  },
  {
   "cell_type": "markdown",
   "id": "upload_image_explain",
   "metadata": {},
   "source": [
    "**Explicación del comando**:  \n",
    "- `gcloud storage cp`: Copia un archivo al bucket (\"copy\").  \n",
    "- `ada.jpg`: Archivo local a subir.  \n",
    "- `gs://YOUR-BUCKET-NAME`: Ruta del bucket destino (reemplaza `YOUR-BUCKET-NAME`).  \n",
    "\n",
    "### Eliminar la imagen local (opcional)"
   ]
  },
  {
   "cell_type": "code",
   "execution_count": null,
   "id": "remove_local_image",
   "metadata": {},
   "outputs": [],
   "source": [
    "rm ada.jpg"
   ]
  },
  {
   "cell_type": "markdown",
   "id": "remove_local_image_explain",
   "metadata": {},
   "source": [
    "**Explicación del comando**:  \n",
    "- `rm ada.jpg`: Elimina el archivo local para liberar espacio en **Cloud Shell**.  \n",
    "💡 **Contexto empresarial**: Subir archivos a un bucket permite almacenar documentos críticos, como reportes financieros, de forma segura y accesible.\n",
    "\n",
    "Para más información, consulta la [Documentación de subida de objetos](https://cloud.google.com/storage/docs/uploading-objects)."
   ]
  },
  {
   "cell_type": "markdown",
   "id": "task3_download_file",
   "metadata": {},
   "source": [
    "## 🚀 Tarea 3: Descargar un Archivo desde el Bucket\n",
    "\n",
    "### Comando para descargar"
   ]
  },
  {
   "cell_type": "code",
   "execution_count": null,
   "id": "download_file",
   "metadata": {},
   "outputs": [],
   "source": [
    "gcloud storage cp -r gs://YOUR-BUCKET-NAME/ada.jpg ."
   ]
  },
  {
   "cell_type": "markdown",
   "id": "download_file_explain",
   "metadata": {},
   "source": [
    "**Explicación del comando**:  \n",
    "- `gcloud storage cp`: Copia un archivo desde el bucket.  \n",
    "- `-r`: Habilita modo recursivo (opcional para un solo archivo).  \n",
    "- `gs://YOUR-BUCKET-NAME/ada.jpg`: Ruta del archivo en el bucket.  \n",
    "- `.`: Descarga al directorio actual en **Cloud Shell**.  \n",
    "💡 **Contexto empresarial**: Descargar archivos permite recuperar datos para auditorías o análisis financieros de forma rápida.\n",
    "\n",
    "Para más información, consulta la [Documentación de descarga de objetos](https://cloud.google.com/storage/docs/downloading-objects)."
   ]
  },
  {
   "cell_type": "markdown",
   "id": "task4_copy_to_folder",
   "metadata": {},
   "source": [
    "## 🚀 Tarea 4: Copiar un Archivo a una Carpeta dentro del Bucket\n",
    "\n",
    "### Comando para copiar"
   ]
  },
  {
   "cell_type": "code",
   "execution_count": null,
   "id": "copy_to_folder",
   "metadata": {},
   "outputs": [],
   "source": [
    "gcloud storage cp gs://YOUR-BUCKET-NAME/ada.jpg gs://YOUR-BUCKET-NAME/image-folder/"
   ]
  },
  {
   "cell_type": "markdown",
   "id": "copy_to_folder_explain",
   "metadata": {},
   "source": [
    "**Explicación del comando**:  \n",
    "- `gcloud storage cp`: Copia el archivo dentro del bucket.  \n",
    "- `gs://YOUR-BUCKET-NAME/ada.jpg`: Archivo fuente.  \n",
    "- `gs://YOUR-BUCKET-NAME/image-folder/`: Carpeta destino (se crea automáticamente si no existe).  \n",
    "🔸 **Nota**: En **Cloud Storage**, las carpetas son virtuales, simuladas mediante rutas.  \n",
    "💡 **Contexto empresarial**: Organizar datos en carpetas facilita la gestión de documentos, como separar facturas por año o cliente.\n",
    "\n",
    "Para más información, consulta la [Documentación de carpetas en Cloud Storage](https://cloud.google.com/storage/docs/folders)."
   ]
  },
  {
   "cell_type": "markdown",
   "id": "task5_list_content",
   "metadata": {},
   "source": [
    "## 🚀 Tarea 5: Listar el Contenido de un Bucket\n",
    "\n",
    "### Comando para listar"
   ]
  },
  {
   "cell_type": "code",
   "execution_count": null,
   "id": "list_content",
   "metadata": {},
   "outputs": [],
   "source": [
    "gcloud storage ls gs://YOUR-BUCKET-NAME"
   ]
  },
  {
   "cell_type": "markdown",
   "id": "list_content_explain",
   "metadata": {},
   "source": [
    "**Explicación del comando**:  \n",
    "- `gcloud storage ls`: Lista los archivos y carpetas en el bucket.  \n",
    "💡 **Contexto empresarial**: Listar contenido permite auditar los datos almacenados, asegurando un control eficiente de los activos digitales.\n",
    "\n",
    "Para más información, consulta la [Documentación de listado de objetos](https://cloud.google.com/storage/docs/listing-objects)."
   ]
  },
  {
   "cell_type": "markdown",
   "id": "task6_file_details",
   "metadata": {},
   "source": [
    "## 🚀 Tarea 6: Ver Detalles de un Archivo\n",
    "\n",
    "### Comando para detalles"
   ]
  },
  {
   "cell_type": "code",
   "execution_count": null,
   "id": "file_details",
   "metadata": {},
   "outputs": [],
   "source": [
    "gcloud storage ls -l gs://YOUR-BUCKET-NAME/ada.jpg"
   ]
  },
  {
   "cell_type": "markdown",
   "id": "file_details_explain",
   "metadata": {},
   "source": [
    "**Explicación del comando**:  \n",
    "- `gcloud storage ls -l`: Muestra detalles del archivo, como tamaño y fecha de creación.  \n",
    "💡 **Contexto empresarial**: Ver detalles de archivos ayuda a rastrear versiones o tamaños de documentos para auditorías o gestión de almacenamiento.\n",
    "\n",
    "Para más información, consulta la [Documentación de listado de objetos](https://cloud.google.com/storage/docs/listing-objects)."
   ]
  },
  {
   "cell_type": "markdown",
   "id": "task7_make_public",
   "metadata": {},
   "source": [
    "## 🚀 Tarea 7: Hacer el Archivo Público\n",
    "\n",
    "### Comando para acceso público"
   ]
  },
  {
   "cell_type": "code",
   "execution_count": null,
   "id": "make_public",
   "metadata": {},
   "outputs": [],
   "source": [
    "gsutil acl ch -u AllUsers:R gs://YOUR-BUCKET-NAME/ada.jpg"
   ]
  },
  {
   "cell_type": "markdown",
   "id": "make_public_explain",
   "metadata": {},
   "source": [
    "**Explicación del comando**:  \n",
    "- `gsutil acl ch`: Cambia la lista de control de acceso (\"access control list change\").  \n",
    "- `-u AllUsers:R`: Otorga permiso de lectura pública a todos los usuarios.  \n",
    "- `gs://YOUR-BUCKET-NAME/ada.jpg`: Archivo a hacer público.  \n",
    "**Verificación**: En la **Consola Web**, encuentra el enlace público en la pestaña **Objects**.  \n",
    "💡 **Contexto empresarial**: Hacer archivos públicos es útil para compartir informes anuales o catálogos de productos con clientes externos.\n",
    "\n",
    "Para más información, consulta la [Documentación de acceso público](https://cloud.google.com/storage/docs/access-control/making-data-public)."
   ]
  },
  {
   "cell_type": "markdown",
   "id": "task8_remove_public",
   "metadata": {},
   "source": [
    "## 🚀 Tarea 8: Quitar el Acceso Público\n",
    "\n",
    "### Comando para revocar acceso"
   ]
  },
  {
   "cell_type": "code",
   "execution_count": null,
   "id": "remove_public",
   "metadata": {},
   "outputs": [],
   "source": [
    "gsutil acl ch -d AllUsers gs://YOUR-BUCKET-NAME/ada.jpg"
   ]
  },
  {
   "cell_type": "markdown",
   "id": "remove_public_explain",
   "metadata": {},
   "source": [
    "**Explicación del comando**:  \n",
    "- `gsutil acl ch -d AllUsers`: Elimina el permiso de acceso público.  \n",
    "💡 **Contexto empresarial**: Revocar el acceso público protege datos sensibles, como documentos financieros, manteniendo la seguridad.\n",
    "\n",
    "Para más información, consulta la [Documentación de control de acceso](https://cloud.google.com/storage/docs/access-control)."
   ]
  },
  {
   "cell_type": "markdown",
   "id": "task9_delete_file",
   "metadata": {},
   "source": [
    "## 🚀 Tarea 9: Eliminar un Archivo del Bucket\n",
    "\n",
    "### Comando para eliminar"
   ]
  },
  {
   "cell_type": "code",
   "execution_count": null,
   "id": "delete_file",
   "metadata": {},
   "outputs": [],
   "source": [
    "gcloud storage rm gs://YOUR-BUCKET-NAME/ada.jpg"
   ]
  },
  {
   "cell_type": "markdown",
   "id": "delete_file_explain",
   "metadata": {},
   "source": [
    "**Explicación del comando**:  \n",
    "- `gcloud storage rm`: Elimina un archivo del bucket.  \n",
    "- `gs://YOUR-BUCKET-NAME/ada.jpg`: Ruta del archivo a eliminar.  \n",
    "🔸 **Nota**: Esto elimina solo la copia directa de `ada.jpg`; la copia en `image-folder/` permanecerá.  \n",
    "💡 **Contexto empresarial**: Eliminar archivos obsoletos optimiza costos de almacenamiento y mantiene los buckets organizados.\n",
    "\n",
    "Para más información, consulta la [Documentación de eliminación de objetos](https://cloud.google.com/storage/docs/deleting-objects)."
   ]
  },
  {
   "cell_type": "markdown",
   "id": "ada_lovelace",
   "metadata": {},
   "source": [
    "## 🚀 Información Adicional: Ada Lovelace\n",
    "\n",
    "Ada Lovelace es considerada la primera programadora de la historia. Trabajó con Charles Babbage en la Máquina Analítica y escribió el primer algoritmo para una computadora, anticipando usos más allá de los cálculos matemáticos. La imagen de Ada Lovelace utilizada en este laboratorio rinde homenaje a su legado.\n",
    "\n",
    "💡 **Contexto empresarial**: Conocer figuras históricas como Ada Lovelace inspira a los equipos de TI a innovar en la gestión de datos y tecnología."
   ]
  },
  {
   "cell_type": "markdown",
   "id": "evaluation",
   "metadata": {},
   "source": [
    "## 🚀 Evaluación de Comprensión\n",
    "\n",
    "**Pregunta**: Cada bucket tiene una clase de almacenamiento predeterminada, que puedes especificar al crearlo.  \n",
    "**Respuesta**: ✔ **True**  \n",
    "💡 **Contexto empresarial**: Elegir la clase de almacenamiento adecuada (ej., **Standard**) optimiza costos según las necesidades de acceso a los datos."
   ]
  },
  {
   "cell_type": "markdown",
   "id": "summary",
   "metadata": {},
   "source": [
    "## 🚀 Cuadro Resumen\n",
    "\n",
    "| **Tarea** | **Comando Principal** | **Propósito** | **Resultado Esperado** |\n",
    "|-----------|-----------------------|---------------|-----------------------|\n",
    "| **2** | `gcloud storage cp` | Subir imagen al bucket | Imagen almacenada en la nube |\n",
    "| **3** | `gcloud storage cp -r` | Descargar desde el bucket | Imagen descargada a Cloud Shell |\n",
    "| **4** | `gcloud storage cp` | Copiar imagen a carpeta | Imagen copiada a subcarpeta |\n",
    "| **5** | `gcloud storage ls` | Ver contenido del bucket | Listado de archivos y carpetas |\n",
    "| **6** | `gcloud storage ls -l` | Ver detalles del archivo | Tamaño y fecha de creación |\n",
    "| **7** | `gsutil acl ch -u AllUsers:R` | Hacer imagen pública | Imagen accesible desde un enlace |\n",
    "| **8** | `gsutil acl ch -d AllUsers` | Revocar acceso público | Imagen ya no disponible públicamente |\n",
    "| **9** | `gcloud storage rm` | Borrar archivo del bucket | Imagen eliminada |\n",
    "\n",
    "💡 **Contexto empresarial**: Este resumen proporciona una guía clara para automatizar la gestión de datos en **Cloud Storage**, optimizando procesos empresariales."
   ]
  },
  {
   "cell_type": "markdown",
   "id": "conclusion",
   "metadata": {},
   "source": [
    "## 🚀 Conclusión\n",
    "\n",
    "Este laboratorio te ha permitido utilizar **gcloud** y **gsutil** en **Cloud Shell** para crear un **bucket**, subir, descargar, organizar y gestionar archivos en **Google Cloud Storage**. Estas habilidades son fundamentales para automatizar la gestión de datos empresariales, como documentos contables o activos digitales, garantizando escalabilidad, durabilidad y seguridad.\n",
    "\n",
    "💡 **Beneficio empresarial**: **Cloud Storage** y las herramientas CLI permiten a las empresas gestionar datos de forma eficiente, reduciendo costos y facilitando la automatización de procesos como auditorías o distribución de contenido."
   ]
  }
 ],
 "metadata": {
  "kernelspec": {
   "display_name": "Python 3 (ipykernel)",
   "language": "python",
   "name": "python3"
  },
  "language_info": {
   "codemirror_mode": {
    "name": "ipython",
    "version": 3
   },
   "file_extension": ".py",
   "mimetype": "text/x-python",
   "name": "python",
   "nbconvert_exporter": "python",
   "pygments_lexer": "ipython3",
   "version": "3.9.21"
  }
 },
 "nbformat": 4,
 "nbformat_minor": 5
}
