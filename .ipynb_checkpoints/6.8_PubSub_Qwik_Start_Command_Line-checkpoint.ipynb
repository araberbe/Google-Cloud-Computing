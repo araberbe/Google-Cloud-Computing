{
 "cells": [
  {
   "cell_type": "markdown",
   "id": "4df60cb2",
   "metadata": {},
   "source": [
    "# 📌 Pub/Sub: Qwik Start - Command Line\n",
    "\n",
    "¡Bienvenidos a este laboratorio introductorio de Google Cloud! En este laboratorio, aprenderás a utilizar **Pub/Sub**, un servicio de mensajería asincrónica que permite la comunicación eficiente entre aplicaciones mediante el intercambio de eventos (mensajes). Este servicio es ideal para sistemas empresariales que requieren integración flexible y escalable, como la automatización de procesos contables o la notificación en tiempo real de transacciones.\n",
    "\n",
    "💡 **Beneficio empresarial**: **Pub/Sub** permite a las empresas integrar sistemas de forma desacoplada, lo que mejora la escalabilidad y reduce los costos operativos al evitar dependencias directas entre aplicaciones. Por ejemplo, un sistema de facturación puede enviar notificaciones automáticas a un sistema de contabilidad sin necesidad de conexiones complejas.\n",
    "\n",
    "Para más información sobre Pub/Sub, consulta la [Documentación oficial de Google Cloud Pub/Sub](https://cloud.google.com/pubsub/docs).\n",
    "\n",
    "## ¿Qué aprenderás?\n",
    "- Crear, listar y eliminar tópicos y suscripciones en **Pub/Sub**.\n",
    "- Publicar mensajes en un tópico.\n",
    "- Recuperar mensajes utilizando el modo **pull**.\n",
    "\n",
    "## Conceptos clave\n",
    "- **Tópico**: Un canal donde se publican mensajes, actuando como un punto central para la comunicación.\n",
    "- **Publicador**: Una aplicación que envía mensajes al tópico.\n",
    "- **Suscriptor**: Una aplicación que se conecta al tópico para recibir mensajes.\n",
    "\n",
    "💡 **Contexto empresarial**: En un entorno de contabilidad, **Pub/Sub** puede usarse para notificar a un sistema de auditoría cada vez que se registra una transacción, garantizando trazabilidad y cumplimiento normativo."
   ]
  },
  {
   "cell_type": "markdown",
   "id": "1eaf9969",
   "metadata": {},
   "source": [
    "## 🚀 Tarea 1: Crear y eliminar tópicos\n",
    "\n",
    "En esta tarea, crearás tópicos en **Pub/Sub** y aprenderás a gestionarlos. Un tópico es un canal donde los publicadores envían mensajes, y los suscriptores los reciben. Este mecanismo es útil para flujos empresariales, como enviar alertas de transacciones a diferentes departamentos.\n",
    "\n",
    "### Paso 1: Crear un tópico principal\n",
    "\n",
    "Ejecuta el siguiente comando en **Cloud Shell** para crear un tópico llamado `myTopic`:"
   ]
  },
  {
   "cell_type": "code",
   "execution_count": null,
   "id": "6dfbb27c",
   "metadata": {},
   "outputs": [],
   "source": [
    "gcloud pubsub topics create myTopic"
   ]
  },
  {
   "cell_type": "markdown",
   "id": "6892674d",
   "metadata": {},
   "source": [
    "**Explicación del comando**:\n",
    "- `gcloud`: Herramienta de línea de comandos de Google Cloud.\n",
    "- `pubsub topics create`: Crea un nuevo tópico en **Pub/Sub**.\n",
    "- `myTopic`: Nombre del tópico.\n",
    "\n",
    "💡 **Contexto empresarial**: Crear un tópico como `myTopic` permite centralizar la comunicación, por ejemplo, para enviar notificaciones de pagos recibidos a sistemas de contabilidad y auditoría."
   ]
  },
  {
   "cell_type": "markdown",
   "id": "514d7a22",
   "metadata": {},
   "source": [
    "### Paso 2: Crear tópicos adicionales\n",
    "\n",
    "Crea dos tópicos adicionales para experimentar con la gestión de múltiples canales:"
   ]
  },
  {
   "cell_type": "code",
   "execution_count": null,
   "id": "a0e747ff",
   "metadata": {},
   "outputs": [],
   "source": [
    "gcloud pubsub topics create Test1\n",
    "gcloud pubsub topics create Test2"
   ]
  },
  {
   "cell_type": "markdown",
   "id": "8d7b1667",
   "metadata": {},
   "source": [
    "**Explicación**: Cada comando crea un tópico adicional (`Test1` y `Test2`). Esto simula un entorno con múltiples flujos de mensajes, como diferentes categorías de transacciones (por ejemplo, ingresos y gastos)."
   ]
  },
  {
   "cell_type": "markdown",
   "id": "c3f04702",
   "metadata": {},
   "source": [
    "### Paso 3: Listar los tópicos\n",
    "\n",
    "Verifica que los tópicos se hayan creado correctamente:"
   ]
  },
  {
   "cell_type": "code",
   "execution_count": null,
   "id": "4b9743ab",
   "metadata": {},
   "outputs": [],
   "source": [
    "gcloud pubsub topics list"
   ]
  },
  {
   "cell_type": "markdown",
   "id": "1323ad8a",
   "metadata": {},
   "source": [
    "**Explicación**: Este comando muestra todos los tópicos en tu proyecto. Deberías ver `myTopic`, `Test1` y `Test2`.\n",
    "\n",
    "💡 **Contexto empresarial**: Listar tópicos ayuda a auditar los canales de comunicación activos, asegurando que solo los necesarios estén en uso para optimizar costos."
   ]
  },
  {
   "cell_type": "markdown",
   "id": "58720424",
   "metadata": {},
   "source": [
    "### Paso 4: Eliminar tópicos auxiliares\n",
    "\n",
    "Elimina los tópicos `Test1` y `Test2` para limpiar el entorno:"
   ]
  },
  {
   "cell_type": "code",
   "execution_count": null,
   "id": "99e4ee02",
   "metadata": {},
   "outputs": [],
   "source": [
    "gcloud pubsub topics delete Test1\n",
    "gcloud pubsub topics delete Test2"
   ]
  },
  {
   "cell_type": "markdown",
   "id": "ae128ca1",
   "metadata": {},
   "source": [
    "**Explicación**: Estos comandos eliminan los tópicos especificados, dejando solo `myTopic`.\n",
    "\n",
    "💡 **Contexto empresarial**: Eliminar recursos innecesarios reduce costos y simplifica la gestión, especialmente en entornos con múltiples flujos de datos."
   ]
  },
  {
   "cell_type": "markdown",
   "id": "0b5ad125",
   "metadata": {},
   "source": [
    "### Paso 5: Verificar la eliminación\n",
    "\n",
    "Confirma que solo queda `myTopic`:"
   ]
  },
  {
   "cell_type": "code",
   "execution_count": null,
   "id": "60980986",
   "metadata": {},
   "outputs": [],
   "source": [
    "gcloud pubsub topics list"
   ]
  },
  {
   "cell_type": "markdown",
   "id": "cb56de16",
   "metadata": {},
   "source": [
    "**Explicación**: Este comando verifica que los tópicos `Test1` y `Test2` fueron eliminados, y solo `myTopic` permanece.\n",
    "\n",
    "Para más información sobre la gestión de tópicos, consulta la [Documentación de Google Cloud Pub/Sub](https://cloud.google.com/pubsub/docs)."
   ]
  },
  {
   "cell_type": "markdown",
   "id": "351d53f7",
   "metadata": {},
   "source": [
    "## 🚀 Tarea 2: Crear y administrar suscripciones\n",
    "\n",
    "En esta tarea, crearás y gestionarás suscripciones al tópico `myTopic`. Una suscripción permite a una aplicación recibir mensajes publicados en un tópico, lo que es útil para procesar datos en tiempo real, como transacciones financieras.\n",
    "\n",
    "### Paso 1: Crear una suscripción\n",
    "\n",
    "Crea una suscripción llamada `mySubscription` para el tópico `myTopic`:"
   ]
  },
  {
   "cell_type": "code",
   "execution_count": null,
   "id": "77865054",
   "metadata": {},
   "outputs": [],
   "source": [
    "gcloud pubsub subscriptions create --topic myTopic mySubscription"
   ]
  },
  {
   "cell_type": "markdown",
   "id": "d9768c4d",
   "metadata": {},
   "source": [
    "**Explicación del comando**:\n",
    "- `gcloud pubsub subscriptions create`: Crea una nueva suscripción.\n",
    "- `--topic myTopic`: Vincula la suscripción al tópico `myTopic`.\n",
    "- `mySubscription`: Nombre de la suscripción.\n",
    "\n",
    "💡 **Contexto empresarial**: Una suscripción puede representar un sistema, como un software de contabilidad, que necesita recibir notificaciones de transacciones publicadas en el tópico."
   ]
  },
  {
   "cell_type": "markdown",
   "id": "45f741c3",
   "metadata": {},
   "source": [
    "### Paso 2: Crear suscripciones adicionales\n",
    "\n",
    "Crea dos suscripciones adicionales para experimentar:"
   ]
  },
  {
   "cell_type": "code",
   "execution_count": null,
   "id": "6785091e",
   "metadata": {},
   "outputs": [],
   "source": [
    "gcloud pubsub subscriptions create --topic myTopic Test1\n",
    "gcloud pubsub subscriptions create --topic myTopic Test2"
   ]
  },
  {
   "cell_type": "markdown",
   "id": "23fbf54d",
   "metadata": {},
   "source": [
    "**Explicación**: Estas suscripciones (`Test1` y `Test2`) permiten a diferentes sistemas o aplicaciones recibir los mismos mensajes del tópico `myTopic`."
   ]
  },
  {
   "cell_type": "markdown",
   "id": "18616867",
   "metadata": {},
   "source": [
    "### Paso 3: Listar suscripciones\n",
    "\n",
    "Verifica las suscripciones asociadas al tópico:"
   ]
  },
  {
   "cell_type": "code",
   "execution_count": null,
   "id": "1b895b06",
   "metadata": {},
   "outputs": [],
   "source": [
    "gcloud pubsub topics list-subscriptions myTopic"
   ]
  },
  {
   "cell_type": "markdown",
   "id": "4b595aec",
   "metadata": {},
   "source": [
    "**Explicación**: Este comando lista todas las suscripciones vinculadas a `myTopic`. Deberías ver `mySubscription`, `Test1` y `Test2`.\n",
    "\n",
    "💡 **Contexto empresarial**: Listar suscripciones ayuda a garantizar que solo los sistemas autorizados (como un ERP o un sistema de auditoría) estén recibiendo mensajes."
   ]
  },
  {
   "cell_type": "markdown",
   "id": "f32bf3ac",
   "metadata": {},
   "source": [
    "### Paso 4: Eliminar suscripciones auxiliares\n",
    "\n",
    "Elimina las suscripciones `Test1` y `Test2`:"
   ]
  },
  {
   "cell_type": "code",
   "execution_count": null,
   "id": "18611415",
   "metadata": {},
   "outputs": [],
   "source": [
    "gcloud pubsub subscriptions delete Test1\n",
    "gcloud pubsub subscriptions delete Test2"
   ]
  },
  {
   "cell_type": "markdown",
   "id": "793ad226",
   "metadata": {},
   "source": [
    "**Explicación**: Estos comandos eliminan las suscripciones auxiliares, dejando solo `mySubscription`."
   ]
  },
  {
   "cell_type": "markdown",
   "id": "f89be212",
   "metadata": {},
   "source": [
    "### Paso 5: Verificar la eliminación\n",
    "\n",
    "Confirma que solo queda `mySubscription`:"
   ]
  },
  {
   "cell_type": "code",
   "execution_count": null,
   "id": "f72ea81e",
   "metadata": {},
   "outputs": [],
   "source": [
    "gcloud pubsub topics list-subscriptions myTopic"
   ]
  },
  {
   "cell_type": "markdown",
   "id": "a60c48ff",
   "metadata": {},
   "source": [
    "**Explicación**: Este comando verifica que solo `mySubscription` está asociada a `myTopic`.\n",
    "\n",
    "Para más información sobre la gestión de suscripciones, consulta la [Documentación de Google Cloud Pub/Sub](https://cloud.google.com/pubsub/docs)."
   ]
  },
  {
   "cell_type": "markdown",
   "id": "9c0bad53",
   "metadata": {},
   "source": [
    "## 🚀 Tarea 3: Publicar mensajes en el tópico\n",
    "\n",
    "En esta tarea, publicarás mensajes en el tópico `myTopic`. Los mensajes son la información que los publicadores envían y los suscriptores reciben, como notificaciones de transacciones o eventos empresariales.\n",
    "\n",
    "### Paso 1: Publicar un mensaje simple\n",
    "\n",
    "Publica un mensaje inicial:"
   ]
  },
  {
   "cell_type": "code",
   "execution_count": null,
   "id": "20bba39f",
   "metadata": {},
   "outputs": [],
   "source": [
    "gcloud pubsub topics publish myTopic --message \"Hello\""
   ]
  },
  {
   "cell_type": "markdown",
   "id": "deb0cc84",
   "metadata": {},
   "source": [
    "**Explicación del comando**:\n",
    "- `gcloud pubsub topics publish`: Publica un mensaje en el tópico especificado.\n",
    "- `myTopic`: El tópico donde se publica el mensaje.\n",
    "- `--message \"Hello\"`: El contenido del mensaje.\n",
    "\n",
    "💡 **Contexto empresarial**: Este mensaje podría representar una notificación simple, como un aviso de que una factura ha sido generada."
   ]
  },
  {
   "cell_type": "markdown",
   "id": "db49a304",
   "metadata": {},
   "source": [
    "### Paso 2: Publicar mensajes personalizados\n",
    "\n",
    "Publica mensajes con contenido más específico:"
   ]
  },
  {
   "cell_type": "code",
   "execution_count": null,
   "id": "eceeb1ca",
   "metadata": {},
   "outputs": [],
   "source": [
    "gcloud pubsub topics publish myTopic --message \"Publisher's name is Ana\"\n",
    "gcloud pubsub topics publish myTopic --message \"Publisher likes to eat empanadas\"\n",
    "gcloud pubsub topics publish myTopic --message \"Publisher thinks Pub/Sub is awesome\""
   ]
  },
  {
   "cell_type": "markdown",
   "id": "85364664",
   "metadata": {},
   "source": [
    "**Explicación**: Estos comandos envían mensajes con información específica, simulando notificaciones como actualizaciones de estado o eventos empresariales.\n",
    "\n",
    "💡 **Contexto empresarial**: En un escenario contable, estos mensajes podrían representar eventos como la aprobación de un pago, la recepción de una factura o la confirmación de una auditoría."
   ]
  },
  {
   "cell_type": "markdown",
   "id": "ac4a4c9f",
   "metadata": {},
   "source": [
    "## 🚀 Tarea 4: Recuperar mensajes (pull)\n",
    "\n",
    "En esta tarea, recuperarás los mensajes publicados en el tópico utilizando el modo **pull** desde la suscripción `mySubscription`. El modo **pull** permite a las aplicaciones solicitar mensajes activamente, lo que es útil para procesar datos en lotes.\n",
    "\n",
    "### Paso 1: Recuperar un mensaje\n",
    "\n",
    "Ejecuta el siguiente comando para recuperar un mensaje:"
   ]
  },
  {
   "cell_type": "code",
   "execution_count": null,
   "id": "380cf1c6",
   "metadata": {},
   "outputs": [],
   "source": [
    "gcloud pubsub subscriptions pull mySubscription --auto-ack"
   ]
  },
  {
   "cell_type": "markdown",
   "id": "44079512",
   "metadata": {},
   "source": [
    "**Explicación del comando**:\n",
    "- `gcloud pubsub subscriptions pull`: Recupera mensajes de la suscripción.\n",
    "- `mySubscription`: Nombre de la suscripción.\n",
    "- `--auto-ack`: Confirma automáticamente la recepción del mensaje, eliminándolo de la suscripción.\n",
    "\n",
    "**Nota**: Este comando recupera un solo mensaje por ejecución. Repítelo varias veces hasta que hayas recuperado todos los mensajes. Cuando no queden mensajes, verás el mensaje: `Listed 0 items.`\n",
    "\n",
    "💡 **Contexto empresarial**: El modo **pull** es ideal para procesar transacciones en lotes, como reconciliar pagos al final del día en un sistema contable."
   ]
  },
  {
   "cell_type": "markdown",
   "id": "d34e1762",
   "metadata": {},
   "source": [
    "## 🚀 Tarea 5: Recuperar varios mensajes de una vez\n",
    "\n",
    "En esta tarea, publicarás nuevos mensajes y los recuperarás en grupo, simulando un procesamiento más eficiente de múltiples eventos.\n",
    "\n",
    "### Paso 1: Publicar nuevos mensajes\n",
    "\n",
    "Publica tres mensajes adicionales:"
   ]
  },
  {
   "cell_type": "code",
   "execution_count": null,
   "id": "ea230850",
   "metadata": {},
   "outputs": [],
   "source": [
    "gcloud pubsub topics publish myTopic --message \"Publisher is starting to get the hang of Pub/Sub\"\n",
    "gcloud pubsub topics publish myTopic --message \"Publisher wonders if all messages will be pulled\"\n",
    "gcloud pubsub topics publish myTopic --message \"Publisher will have to test to find out\""
   ]
  },
  {
   "cell_type": "markdown",
   "id": "97071154",
   "metadata": {},
   "source": [
    "**Explicación**: Estos mensajes simulan eventos continuos, como actualizaciones en un proceso contable."
   ]
  },
  {
   "cell_type": "markdown",
   "id": "c41a4536",
   "metadata": {},
   "source": [
    "### Paso 2: Recuperar varios mensajes\n",
    "\n",
    "Recupera hasta tres mensajes de una sola vez:"
   ]
  },
  {
   "cell_type": "code",
   "execution_count": null,
   "id": "3876bb52",
   "metadata": {},
   "outputs": [],
   "source": [
    "gcloud pubsub subscriptions pull mySubscription --limit=3"
   ]
  },
  {
   "cell_type": "markdown",
   "id": "8a4c9ae8",
   "metadata": {},
   "source": [
    "**Explicación del comando**:\n",
    "- `gcloud pubsub subscriptions pull`: Recupera mensajes de la suscripción.\n",
    "- `mySubscription`: Nombre de la suscripción.\n",
    "- `--limit=3`: Limita la recuperación a un máximo de tres mensajes en una sola ejecución.\n",
    "\n",
    "💡 **Contexto empresarial**: Recuperar múltiples mensajes a la vez optimiza procesos, como la validación masiva de transacciones, reduciendo el tiempo necesario para procesar grandes volúmenes de datos."
   ]
  },
  {
   "cell_type": "markdown",
   "id": "729e3677",
   "metadata": {},
   "source": [
    "## 🚀 Resumen de conceptos\n",
    "\n",
    "El siguiente cuadro resume los conceptos clave y comandos utilizados en este laboratorio:\n",
    "\n",
    "| **Concepto**                     | **Descripción**                                                                 |\n",
    "|----------------------------------|---------------------------------------------------------------------------------|\n",
    "| **Pub/Sub**                      | Servicio de mensajería asincrónica en Google Cloud.                              |\n",
    "| **Tópico**                       | Canal donde se publican mensajes.                                               |\n",
    "| **Suscripción**                  | Medio por el cual se reciben mensajes de un tópico.                             |\n",
    "| `gcloud pubsub topics create`    | Crea un nuevo tópico.                                                           |\n",
    "| `gcloud pubsub subscriptions create` | Crea una nueva suscripción a un tópico.                                     |\n",
    "| `publish --message`              | Publica un mensaje al tópico.                                                   |\n",
    "| `subscriptions pull`             | Recupera mensajes publicados (modo **pull**).                                   |\n",
    "| `--auto-ack`                     | Confirma automáticamente la recepción de un mensaje.                             |\n",
    "| `--limit`                        | Limita el número de mensajes recuperados en una ejecución.                       |\n",
    "\n",
    "💡 **Conclusión empresarial**: **Pub/Sub** es una herramienta poderosa para automatizar flujos de trabajo en entornos empresariales. Por ejemplo, puede integrarse con sistemas de contabilidad para notificar transacciones en tiempo real, mejorando la eficiencia y reduciendo errores manuales. Su naturaleza asincrónica y escalable lo hace ideal para empresas que buscan optimizar costos y mejorar la agilidad operativa.\n",
    "\n",
    "Para más información, consulta la [Documentación de Google Cloud Pub/Sub](https://cloud.google.com/pubsub/docs)."
   ]
  }
 ],
 "metadata": {
  "kernelspec": {
   "display_name": "Python 3 (ipykernel)",
   "language": "python",
   "name": "python3"
  },
  "language_info": {
   "codemirror_mode": {
    "name": "ipython",
    "version": 3
   },
   "file_extension": ".py",
   "mimetype": "text/x-python",
   "name": "python",
   "nbconvert_exporter": "python",
   "pygments_lexer": "ipython3",
   "version": "3.9.21"
  }
 },
 "nbformat": 4,
 "nbformat_minor": 5
}
