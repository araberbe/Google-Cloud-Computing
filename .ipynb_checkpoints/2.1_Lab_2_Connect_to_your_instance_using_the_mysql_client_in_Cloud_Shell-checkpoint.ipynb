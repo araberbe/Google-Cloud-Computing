{
 "cells": [
  {
   "cell_type": "markdown",
   "id": "b1e4baf1",
   "metadata": {},
   "source": [
    "# 📌 Conectar a tu instancia usando el cliente MySQL en Cloud Shell\n",
    "\n",
    "## Introducción\n",
    "\n",
    "Este laboratorio práctico te guiará en la creación y conexión a una instancia de base de datos **MySQL** en **Google Cloud SQL** utilizando **Cloud Shell**. Aprenderás a realizar operaciones básicas con SQL, como crear una base de datos y cargar datos, todo desde la línea de comandos. Este enfoque es ideal para empresas que necesitan gestionar datos de forma eficiente, como registros contables o información de clientes, sin preocuparse por la infraestructura subyacente.\n",
    "\n",
    "💡 **Beneficio empresarial**: **Cloud SQL** permite a las empresas implementar bases de datos seguras y escalables sin administrar servidores físicos, lo que reduce costos operativos y agiliza procesos como el almacenamiento de transacciones o reportes financieros.\n",
    "\n",
    "Para más información sobre Cloud SQL, consulta la [Documentación oficial de Google Cloud SQL](https://cloud.google.com/sql/docs)."
   ]
  },
  {
   "cell_type": "markdown",
   "id": "ae415fe5",
   "metadata": {},
   "source": [
    "## 🚀 Objetivos del laboratorio\n",
    "\n",
    "- Crear una instancia de **Cloud SQL** para MySQL.\n",
    "- Conectarte a la instancia desde **Cloud Shell** usando el cliente MySQL.\n",
    "- Crear una base de datos y cargar datos de ejemplo, simulando un sistema como un libro de visitas.\n",
    "\n",
    "💡 **Contexto empresarial**: Estos pasos son útiles para configurar bases de datos que almacenen información crítica, como registros de transacciones o datos de clientes, con alta disponibilidad y seguridad."
   ]
  },
  {
   "cell_type": "markdown",
   "id": "2fd0a32b",
   "metadata": {},
   "source": [
    "## 🚀 Tarea 1: Acceder a la consola de Google Cloud\n",
    "\n",
    "En esta tarea, iniciarás sesión en la **Consola de Google Cloud** para comenzar a trabajar con los servicios de la nube.\n",
    "\n",
    "### Pasos\n",
    "1. Haz clic en el botón **Start Lab** en el entorno del laboratorio.\n",
    "2. Copia el usuario y la contraseña proporcionados.\n",
    "3. Accede a la **Consola de Google Cloud** haciendo clic en **Open Google Cloud console** (preferiblemente en una ventana de incógnito).\n",
    "4. Acepta los términos y condiciones sin agregar opciones de recuperación.\n",
    "\n",
    "💡 **Contexto empresarial**: Acceder a la consola de forma segura es el primer paso para gestionar recursos en la nube, como bases de datos para sistemas contables o de gestión empresarial.\n",
    "\n",
    "Para más información sobre la consola, consulta la [Documentación de Google Cloud Console](https://cloud.google.com/console)."
   ]
  },
  {
   "cell_type": "markdown",
   "id": "caf19fe5",
   "metadata": {},
   "source": [
    "## 🚀 Tarea 2: Activar Cloud Shell\n",
    "\n",
    "**Cloud Shell** es una terminal en línea que permite ejecutar comandos directamente en el entorno de Google Cloud, ideal para gestionar recursos sin necesidad de instalar herramientas localmente.\n",
    "\n",
    "### Pasos\n",
    "1. Haz clic en el icono de **Cloud Shell** en la parte superior de la consola.\n",
    "2. Autoriza el uso de las credenciales proporcionadas.\n",
    "3. Espera a que aparezca el mensaje de confirmación del proyecto activo.\n",
    "\n",
    "### Comandos útiles\n",
    "\n",
    "Verifica la cuenta activa:"
   ]
  },
  {
   "cell_type": "code",
   "execution_count": null,
   "id": "782127f3",
   "metadata": {},
   "outputs": [],
   "source": [
    "gcloud auth list"
   ]
  },
  {
   "cell_type": "markdown",
   "id": "4c79e1b6",
   "metadata": {},
   "source": [
    "**Explicación del comando**:  \n",
    "- `gcloud auth list`: Muestra las cuentas autenticadas en **Cloud Shell**, asegurando que estás usando las credenciales correctas.  \n",
    "💡 **Contexto empresarial**: Confirmar la cuenta activa es crucial para evitar accesos no autorizados, especialmente en entornos empresariales con datos sensibles.\n",
    "\n",
    "Verifica el ID del proyecto:"
   ]
  },
  {
   "cell_type": "code",
   "execution_count": null,
   "id": "d76ff0d9",
   "metadata": {},
   "outputs": [],
   "source": [
    "gcloud config list project"
   ]
  },
  {
   "cell_type": "markdown",
   "id": "3e55f4d7",
   "metadata": {},
   "source": [
    "**Explicación del comando**:  \n",
    "- `gcloud config list project`: Muestra el ID del proyecto activo, necesario para asociar recursos como bases de datos.  \n",
    "💡 **Contexto empresarial**: Mantener un control claro de los proyectos ayuda a asignar costos y recursos correctamente en la contabilidad de TI.\n",
    "\n",
    "Para más información sobre Cloud Shell, consulta la [Documentación de intercambio de Google Cloud Shell](https://cloud.google.com/shell/docs)."
   ]
  },
  {
   "cell_type": "markdown",
   "id": "d92d6c25",
   "metadata": {},
   "source": [
    "## 🚀 Tarea 3: Crear una instancia de Cloud SQL\n",
    "\n",
    "En esta tarea, crearás una instancia de **Cloud SQL** para MySQL, que será la base para almacenar datos.\n",
    "\n",
    "### Pasos\n",
    "1. Desde el menú de navegación de la consola, selecciona **SQL** y haz clic en **Create Instance**.\n",
    "2. Selecciona el motor de base de datos **MySQL**.\n",
    "3. Elige la edición **Enterprise** y el preset **Development** (4 vCPU, 16 GB RAM, 100 GB de almacenamiento).\n",
    "4. Configura lo siguiente:\n",
    "   - **Versión**: MySQL 8.\n",
    "   - **Nombre de la instancia**: `myinstance`.\n",
    "   - **Región y zona**: Usa las indicadas en el laboratorio.\n",
    "   - **Contraseña de root**: Genera y guarda una contraseña segura.\n",
    "5. Haz clic en **Create Instance**.\n",
    "6. Espera a que aparezca una marca de verificación verde, indicando que la instancia está lista.\n",
    "\n",
    "💡 **Contexto empresarial**: Una instancia de **Cloud SQL** permite almacenar datos críticos, como registros contables o de inventario, con alta disponibilidad y copias de seguridad automáticas, reduciendo riesgos operativos.\n",
    "\n",
    "Para más información sobre la creación de instancias, consulta la [Documentación de Google Cloud SQL](https://cloud.google.com/sql/docs/mysql/create-instance)."
   ]
  },
  {
   "cell_type": "markdown",
   "id": "cb6101cb",
   "metadata": {},
   "source": [
    "## 🚀 Tarea 4: Conectarse a la instancia usando el cliente MySQL en Cloud Shell\n",
    "\n",
    "Conectarás la instancia de **Cloud SQL** desde **Cloud Shell** utilizando el cliente **MySQL**.\n",
    "\n",
    "### Pasos\n",
    "1. Abre **Cloud Shell** si no está activo.\n",
    "2. Ejecuta el siguiente comando para conectarte a la instancia:"
   ]
  },
  {
   "cell_type": "code",
   "execution_count": null,
   "id": "a42bc4d2",
   "metadata": {},
   "outputs": [],
   "source": [
    "gcloud sql connect myinstance --user=root"
   ]
  },
  {
   "cell_type": "markdown",
   "id": "5ef2fa29",
   "metadata": {},
   "source": [
    "**Explicación del comando**:  \n",
    "- `gcloud`: Herramienta de línea de comandos de Google Cloud.  \n",
    "- `sql connect`: Inicia una conexión a una instancia de **Cloud SQL**.  \n",
    "- `myinstance`: Nombre de la instancia creada.  \n",
    "- `--user=root`: Especifica el usuario administrador (root) para la conexión.  \n",
    "3. Autoriza el comando si se solicita.  \n",
    "4. Ingresa la contraseña de root cuando se te pida.\n",
    "\n",
    "💡 **Contexto empresarial**: Conectar a una base de datos desde la línea de comandos permite a los equipos de TI realizar tareas rápidas, como consultar transacciones o generar reportes financieros, sin necesidad de interfaces gráficas complejas.\n",
    "\n",
    "Para más información sobre conexiones a Cloud SQL, consulta la [Documentación de Google Cloud SQL](https://cloud.google.com/sql/docs/mysql/connect-admin-ip)."
   ]
  },
  {
   "cell_type": "markdown",
   "id": "4dcca9a1",
   "metadata": {},
   "source": [
    "## 🚀 Tarea 5: Crear una base de datos y cargar datos\n",
    "\n",
    "En esta tarea, crearás una base de datos llamada `guestbook` y cargarás datos de ejemplo, simulando un sistema de libro de visitas.\n",
    "\n",
    "### Pasos\n",
    "1. Crea la base de datos `guestbook`:"
   ]
  },
  {
   "cell_type": "code",
   "execution_count": null,
   "id": "7d68dc30",
   "metadata": {},
   "outputs": [],
   "source": [
    "CREATE DATABASE guestbook;"
   ]
  },
  {
   "cell_type": "markdown",
   "id": "4686c762",
   "metadata": {},
   "source": [
    "**Explicación del comando**:  \n",
    "- `CREATE DATABASE guestbook`: Crea una nueva base de datos llamada `guestbook` en la instancia de **Cloud SQL**.  \n",
    "💡 **Contexto empresarial**: Crear bases de datos específicas permite organizar información, como registros de clientes o transacciones, para facilitar su gestión y análisis.\n",
    "\n",
    "2. Selecciona la base de datos y crea una tabla llamada `entries`:"
   ]
  },
  {
   "cell_type": "code",
   "execution_count": null,
   "id": "93c029f0",
   "metadata": {},
   "outputs": [],
   "source": [
    "USE guestbook;\n",
    "CREATE TABLE entries \n",
    "(guestName VARCHAR(255), \n",
    "content VARCHAR(255),\n",
    "entryID INT NOT NULL AUTO_INCREMENT, PRIMARY KEY(entryID));"
   ]
  },
  {
   "cell_type": "markdown",
   "id": "9e45d326",
   "metadata": {},
   "source": [
    "**Explicación del código**:  \n",
    "- `USE guestbook`: Selecciona la base de datos `guestbook` para realizar operaciones.  \n",
    "- `CREATE TABLE entries`: Crea una tabla llamada `entries` con las columnas:  \n",
    "  - `guestName`: Almacena el nombre del invitado (hasta 255 caracteres).  \n",
    "  - `content`: Almacena un mensaje (hasta 255 caracteres).  \n",
    "  - `entryID`: Identificador único que se incrementa automáticamente.  \n",
    "  - `PRIMARY KEY(entryID)`: Define `entryID` como la clave primaria para identificar registros de forma única.  \n",
    "💡 **Contexto empresarial**: Esta estructura es útil para registrar interacciones, como comentarios de clientes o auditorías de procesos, en sistemas empresariales.\n",
    "\n",
    "3. Inserta datos de ejemplo en la tabla `entries`:"
   ]
  },
  {
   "cell_type": "code",
   "execution_count": null,
   "id": "968943cd",
   "metadata": {},
   "outputs": [],
   "source": [
    "INSERT INTO entries (guestName, content) VALUES (\"first guest\", \"I got here!\");\n",
    "INSERT INTO entries (guestName, content) VALUES (\"second guest\", \"Me too!\");"
   ]
  },
  {
   "cell_type": "markdown",
   "id": "3d16e376",
   "metadata": {},
   "source": [
    "**Explicación del código**:  \n",
    "- `INSERT INTO entries`: Añade nuevos registros a la tabla `entries`.  \n",
    "- `VALUES`: Especifica los valores para `guestName` y `content`.  \n",
    "💡 **Contexto empresarial**: Insertar datos de ejemplo simula la carga de información real, como registros de transacciones o interacciones con clientes, que pueden usarse para pruebas o auditorías.\n",
    "\n",
    "4. Consulta los datos insertados:"
   ]
  },
  {
   "cell_type": "code",
   "execution_count": null,
   "id": "5ccc48a5",
   "metadata": {},
   "outputs": [],
   "source": [
    "SELECT * FROM entries;"
   ]
  },
  {
   "cell_type": "markdown",
   "id": "12cec714",
   "metadata": {},
   "source": [
    "**Explicación del comando**:  \n",
    "- `SELECT * FROM entries`: Recupera todos los registros de la tabla `entries`, mostrando los datos insertados (`guestName`, `content`, `entryID`).  \n",
    "💡 **Contexto empresarial**: Consultar datos es esencial para generar reportes, como resúmenes de transacciones o análisis de interacciones con clientes.\n",
    "\n",
    "Para más información sobre comandos SQL en Cloud SQL, consulta la [Documentación de Google Cloud SQL](https://cloud.google.com/sql/docs/mysql/quickstart)."
   ]
  },
  {
   "cell_type": "markdown",
   "id": "236273d5",
   "metadata": {},
   "source": [
    "## 🚀 Conclusión\n",
    "\n",
    "Este laboratorio te ha permitido configurar una instancia de **Cloud SQL** para **MySQL**, conectarte a ella desde **Cloud Shell**, y realizar operaciones básicas como crear una base de datos y cargar datos. Estas habilidades son fundamentales para gestionar bases de datos en la nube, que son esenciales en entornos empresariales para almacenar y analizar información crítica, como registros contables, datos de clientes o auditorías.\n",
    "\n",
    "💡 **Beneficio empresarial**: Usar **Cloud SQL** permite a las empresas mantener bases de datos seguras, escalables y de fácil acceso, reduciendo costos de infraestructura y mejorando la eficiencia en procesos como la gestión financiera o el análisis de datos."
   ]
  }
 ],
 "metadata": {
  "kernelspec": {
   "display_name": "Python 3 (ipykernel)",
   "language": "python",
   "name": "python3"
  },
  "language_info": {
   "codemirror_mode": {
    "name": "ipython",
    "version": 3
   },
   "file_extension": ".py",
   "mimetype": "text/x-python",
   "name": "python",
   "nbconvert_exporter": "python",
   "pygments_lexer": "ipython3",
   "version": "3.9.21"
  }
 },
 "nbformat": 4,
 "nbformat_minor": 5
}
