{
 "cells": [
  {
   "cell_type": "markdown",
   "metadata": {},
   "source": [
    "# 🎓 Bienvenida al Módulo 3: Fundamentos de Computación en la Nube\n",
    "**Curso: Google Cloud Computing Foundations – Use Google Cloud to Build Your Apps**\n\n",
    "En este módulo, explorarás cómo compilar y desplegar aplicaciones directamente en Google Cloud, utilizando diferentes opciones de procesamiento en la nube diseñadas para adaptarse a las necesidades de tu negocio. 💡 Este contenido está adaptado para un contexto empresarial, con ejemplos prácticos que conectan los conceptos con aplicaciones contables y de gestión.\n\n",
    "## 🧠 ¿Qué aprenderás?\n",
    "- **Máquinas virtuales**: Crear y administrar máquinas virtuales con **Compute Engine**.\n",
    "- **Aplicaciones elásticas**: Escalar aplicaciones automáticamente para optimizar recursos.\n",
    "- **Plataforma como Servicio (PaaS)**: Implementar aplicaciones sin gestionar infraestructura con **App Engine**.\n",
    "- **Servicios controlados por eventos**: Automatizar procesos con **Cloud Functions**.\n",
    "- **Contenedores y orquestación**: Ejecutar aplicaciones modernas con **Google Kubernetes Engine (GKE)**.\n",
    "- **Despliegue escalable**: Desplegar aplicaciones contenedorizadas con **Cloud Run**.\n\n",
    "📌 **Metodología práctica**: Incluye cinco laboratorios prácticos y un cuestionario para consolidar tus conocimientos.\n\n",
    "[📚 Documentación oficial de Google Cloud](https://cloud.google.com/docs)"
   ]
  },
  {
   "cell_type": "markdown",
   "metadata": {},
   "source": [
    "## ☁️ Opciones de procesamiento en la nube\n",
    "Google Cloud ofrece una variedad de servicios para ejecutar aplicaciones, cada uno con diferentes niveles de control, escalabilidad y automatización. A continuación, exploramos las principales opciones desde una perspectiva empresarial, destacando cómo pueden beneficiar a áreas como la contabilidad.\n\n",
    "### 🖥️ Compute Engine: Infraestructura como Servicio (IaaS)\n",
    "**¿Qué es?** Compute Engine permite crear máquinas virtuales (VMs) personalizables en los centros de datos de Google, ofreciendo control total sobre el sistema operativo y la configuración.\n\n",
    "**Beneficios empresariales**:\n",
    "- Ideal para aplicaciones contables que requieren servidores dedicados, como sistemas de procesamiento de nóminas o ERP.\n",
    "- Flexibilidad para configurar recursos según las necesidades específicas (CPU, memoria, almacenamiento).\n",
    "- Ejemplo: Una empresa puede usar Compute Engine para alojar un software contable que procese grandes volúmenes de transacciones.\n\n",
    "**Casos de uso**:\n",
    "- Alojamiento de servidores web.\n",
    "- Backends para aplicaciones financieras.\n",
    "- Procesamiento de datos contables complejos.\n\n",
    "**Estructura de precios**:\n",
    "- Facturación por segundo (mínimo 1 minuto).\n",
    "- **Descuentos por uso sostenido**: Ahorros automáticos si las VMs se ejecutan más del 25% del mes.\n",
    "- **Descuentos por uso comprometido**: Hasta 57% de descuento para cargas predecibles a 1 o 3 años.\n",
    "- **VMs preemtibles**: Ahorros de hasta 90% para tareas no críticas, como análisis de datos contables por lotes.\n\n",
    "**Herramienta para costos**: Usa la [Calculadora de precios de Google Cloud](https://cloud.google.com/products/calculator) para estimar costos.\n\n",
    "[📚 Documentación oficial de Compute Engine](https://cloud.google.com/compute/docs)"
   ]
  },
  {
   "cell_type": "code",
   "metadata": {},
   "source": [
    "# Ejemplo: Crear una máquina virtual con gcloud\n",
    "gcloud compute instances create mi-vm \\\n",
    "    --machine-type=e2-standard-2 \\\n",
    "    --zone=us-central1-a \\\n",
    "    --image-family=debian-10 \\\n",
    "    --image-project=debian-cloud\n",
    "# Explicación: Este comando crea una VM con 2 vCPUs y 8 GB de RAM, usando Debian 10, en la región us-central1-a."
   ],
   "execution_count": null,
   "outputs": []
  },
  {
   "cell_type": "markdown",
   "metadata": {},
   "source": [
    "### 🚀 App Engine: Plataforma como Servicio (PaaS)\n",
    "**¿Qué es?** App Engine es una plataforma completamente administrada que permite desplegar aplicaciones sin gestionar servidores. Escala automáticamente y soporta múltiples lenguajes.\n\n",
    "**Beneficios empresariales**:\n",
    "- Ideal para desarrollar aplicaciones contables accesibles por web, como herramientas de facturación o reportes financieros.\n",
    "- Reduce costos operativos al eliminar la necesidad de administrar infraestructura.\n",
    "- Ejemplo: Una app para que clientes suban facturas y reciban análisis automáticos, sin preocuparte por servidores.\n\n",
    "**Tipos de entornos**:\n",
    "- **Standard Environment**: Rápido, seguro, limitado a lenguajes específicos (Java, Python, PHP, Go, Node.js, Ruby).\n",
    "- **Flexible Environment**: Más control, usa contenedores Docker en VMs de Compute Engine.\n\n",
    "**Características clave**:\n",
    "- Escalado automático y balanceo de carga.\n",
    "- Integración con bases de datos NoSQL, Memcache, y APIs de autenticación.\n",
    "- SDK para desarrollo local y despliegue.\n\n",
    "[📚 Documentación oficial de App Engine](https://cloud.google.com/appengine/docs)"
   ]
  },
  {
   "cell_type": "code",
   "metadata": {},
   "source": [
    "# Ejemplo: Desplegar una aplicación en App Engine\n",
    "gcloud app deploy app.yaml\n",
    "# Explicación: Este comando sube tu aplicación a App Engine, usando un archivo de configuración (app.yaml) que define el entorno y los recursos."
   ],
   "execution_count": null,
   "outputs": []
  },
  {
   "cell_type": "markdown",
   "metadata": {},
   "source": [
    "### ⚡ Cloud Functions: Funciones sin servidor (FaaS)\n",
    "**¿Qué es?** Cloud Functions permite ejecutar código en respuesta a eventos (como subir un archivo o una solicitud HTTP) sin gestionar servidores.\n\n",
    "**Beneficios empresariales**:\n",
    "- Automatiza tareas repetitivas, como procesar facturas subidas a Cloud Storage.\n",
    "- Pago solo por uso, ideal para empresas con presupuestos ajustados.\n",
    "- Ejemplo: Una función que genera reportes financieros automáticos al recibir nuevos datos en Firestore.\n\n",
    "**Flujo de trabajo**:\n",
    "1. Define un evento (subida de archivo, mensaje en Pub/Sub, etc.).\n",
    "2. Escribe una función en Node.js, Python, Go, etc.\n",
    "3. Despliega con `gcloud functions deploy`.\n",
    "4. La función se ejecuta automáticamente al ocurrir el evento.\n\n",
    "[📚 Documentación oficial de Cloud Functions](https://cloud.google.com/functions/docs)"
   ]
  },
  {
   "cell_type": "code",
   "metadata": {},
   "source": [
    "# Ejemplo: Desplegar una función en Cloud Functions\n",
    "gcloud functions deploy mi-funcion \\\n",
    "    --runtime python39 \\\n",
    "    --trigger-http \\\n",
    "    --allow-unauthenticated\n",
    "# Explicación: Despliega una función HTTP en Python 3.9, accesible sin autenticación."
   ],
   "execution_count": null,
   "outputs": []
  },
  {
   "cell_type": "markdown",
   "metadata": {},
   "source": [
    "### 📦 Google Kubernetes Engine (GKE): Orquestación de contenedores\n",
    "**¿Qué es?** GKE es una plataforma administrada de Kubernetes para ejecutar aplicaciones contenedorizadas, ideal para microservicios y alta disponibilidad.\n\n",
    "**Beneficios empresariales**:\n",
    "- Perfecto para aplicaciones contables complejas que necesitan alta disponibilidad y escalabilidad, como sistemas de facturación masiva.\n",
    "- Ejemplo: Una API contable que procesa miles de facturas diarias, escalando automáticamente según la demanda.\n\n",
    "**Flujo de trabajo**:\n",
    "1. Containeriza tu app (crea una imagen Docker).\n",
    "2. Súbela a Google Container Registry.\n",
    "3. Crea un clúster en GKE.\n",
    "4. Despliega contenedores con manifiestos YAML.\n\n",
    "[📚 Documentación oficial de GKE](https://cloud.google.com/kubernetes-engine/docs)"
   ]
  },
  {
   "cell_type": "code",
   "metadata": {},
   "source": [
    "# Ejemplo: Crear un clúster en GKE\n",
    "gcloud container clusters create mi-cluster \\\n",
    "    --num-nodes=3 \\\n",
    "    --region=us-central1\n",
    "# Explicación: Crea un clúster de Kubernetes con 3 nodos en la región us-central1."
   ],
   "execution_count": null,
   "outputs": []
  },
  {
   "cell_type": "markdown",
   "metadata": {},
   "source": [
    "### 🔄 Cloud Run: Contenedores sin servidor\n",
    "**¿Qué es?** Cloud Run ejecuta aplicaciones contenedorizadas sin gestionar servidores, con escalado automático y pago por uso.\n\n",
    "**Beneficios empresariales**:\n",
    "- Ideal para herramientas contables online, como una app que analiza libros de IVA.\n",
    "- Sin costos fijos: solo pagas cuando la app se usa.\n",
    "- Ejemplo: Una aplicación web que genera reportes financieros al subir datos, accesible vía URL pública.\n\n",
    "**Flujo de trabajo**:\n",
    "1. Crea y empaqueta tu app en un contenedor.\n",
    "2. Súbela a Container Registry.\n",
    "3. Despliega con `gcloud run deploy`.\n",
    "4. Obtén una URL pública para acceder.\n\n",
    "[📚 Documentación oficial de Cloud Run](https://cloud.google.com/run/docs)"
   ]
  },
  {
   "cell_type": "code",
   "metadata": {},
   "source": [
    "# Ejemplo: Desplegar una app en Cloud Run\n",
    "gcloud run deploy mi-app \\\n",
    "    --image gcr.io/PROJECT-ID/mi-app \\\n",
    "    --platform managed \\\n",
    "    --region us-central1 \\\n",
    "    --allow-unauthenticated\n",
    "# Explicación: Despliega un contenedor en Cloud Run, accesible sin autenticación, en la región us-central1."
   ],
   "execution_count": null,
   "outputs": []
  },
  {
   "cell_type": "markdown",
   "metadata": {},
   "source": [
    "## 🚀 Autoscaling en Elastic\n",
    "**¿Qué es?** El autoscaling ajusta automáticamente los recursos según la carga de trabajo, optimizando costos y rendimiento.\n\n",
    "**Beneficios empresariales**:\n",
    "- Asegura que aplicaciones contables puedan manejar picos de uso (como cierres fiscales) sin intervención manual.\n",
    "- Ejemplo: Un sistema de análisis de datos financieros que escala nodos según la cantidad de datos procesados.\n\n",
    "**Configuración**:\n",
    "1. Define políticas de autoscaling para NodeSets en Elasticsearch.\n",
    "2. Habilita asignaciones adaptativas para modelos de machine learning.\n",
    "3. Usa APIs como `create inference endpoint` para modelos como ELSER.\n\n",
    "[📚 Documentación oficial de Elastic](https://www.elastic.co/guide/en/elasticsearch/reference/current/autoscaling.html)"
   ]
  },
  {
   "cell_type": "markdown",
   "metadata": {},
   "source": [
    "## 📚 Resumen y próximos pasos\n",
    "Este módulo te ha introducido a las principales opciones de procesamiento en Google Cloud, desde máquinas virtuales hasta plataformas sin servidor. Cada servicio tiene aplicaciones prácticas para la gestión empresarial y contable, permitiendo escalabilidad, ahorro de costos y automatización. Continúa con los laboratorios prácticos para aplicar estos conceptos y el cuestionario para evaluar tu aprendizaje.\n\n",
    "[📚 Documentación oficial de Google Cloud](https://cloud.google.com/docs)"
   ]
  }
 ],
 "metadata": {
  "kernelspec": {
   "display_name": "Python 3",
   "language": "python",
   "name": "python3"
  },
  "language_info": {
   "codemirror_mode": {
    "name": "ipython",
    "version": 3
   },
   "file_extension": ".py",
   "mimetype": "text/x-python",
   "name": "python",
   "nbconvert_exporter": "python",
   "pygments_lexer": "ipython3",
   "version": "3.9.0"
  }
 },
 "nbformat": 4,
 "nbformat_minor": 4
}