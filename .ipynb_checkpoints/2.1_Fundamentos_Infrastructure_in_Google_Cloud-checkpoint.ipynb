{
 "cells": [
  {
   "cell_type": "markdown",
   "metadata": {},
   "source": [
    "# Fundamentos de Almacenamiento en Google Cloud 🚀\n",
    "\n",
    "📌 **Introducción**  \n",
    "Este módulo te introduce a las opciones de almacenamiento y bases de datos en **Google Cloud**, con un enfoque práctico para contadores y gestores empresariales. Aprenderás a gestionar datos estructurados y no estructurados, y a utilizar servicios como **Cloud Storage**, **Cloud SQL**, **Spanner**, **Firestore** y **Bigtable** para optimizar procesos contables.\n",
    "\n",
    "## Objetivos del Módulo\n",
    "- Explorar las opciones de almacenamiento en **Google Cloud**.  \n",
    "- Diferenciar entre almacenamiento estructurado y no estructurado.  \n",
    "- Usar **Cloud Storage** para datos no estructurados (PDFs, imágenes).  \n",
    "- Identificar casos de uso para bases relacionales (**SQL**) y no relacionales (**NoSQL**).  \n",
    "\n",
    "## Agenda del Módulo\n",
    "- Opciones de almacenamiento en la nube (estructurado y no estructurado).  \n",
    "- Uso de **Cloud Storage** con laboratorio práctico.  \n",
    "- Servicios **SQL** administrados y laboratorio con **Cloud SQL**.  \n",
    "- Introducción a **Spanner** y opciones **NoSQL** (**Firestore**, **Bigtable**).  \n",
    "\n",
    "💡 **Enlace a documentación oficial**: [Google Cloud Storage Overview](https://cloud.google.com/storage/docs)"
   ]
  },
  {
   "cell_type": "markdown",
   "metadata": {},
   "source": [
    "## 1. Conceptos Clave para Contadores 📚\n",
    "\n",
    "📌 **Resumen**  \n",
    "Los siguientes conceptos son esenciales para entender cómo almacenar y gestionar datos en la nube, con ejemplos prácticos para contabilidad:\n",
    "\n",
    "| Concepto | Descripción | Ejemplo Didáctico (Contabilidad) |\n",
    "|----------|-------------|----------------------------------|\n",
    "| **Almacenamiento estructurado** | Datos organizados en filas y columnas, como en una base SQL. | Un libro mayor digital con transacciones (fecha, monto, cuenta). |\n",
    "| **Almacenamiento no estructurado** | Datos sin estructura fija: imágenes, videos, PDFs. | Escanear facturas y guardarlas como PDFs en la nube. |\n",
    "| **Cloud Storage** | Servicio para almacenar archivos no estructurados. | Guardar balances, reportes PDF o comprobantes de pago. |\n",
    "| **Cloud SQL** | Bases de datos relacionales administradas (MySQL, PostgreSQL). | Registrar ventas y cuentas a cobrar consultables con SQL. |\n",
    "| **Spanner** | Base de datos relacional escalable y consistente. | Reportes financieros en tiempo real para múltiples sucursales. |\n",
    "| **Firestore** | Base de datos NoSQL para datos flexibles (documentos). | Fichas de clientes con historial de compras y preferencias. |\n",
    "| **Bigtable** | Base de datos NoSQL para grandes volúmenes y acceso rápido. | Analizar millones de registros de facturación para detectar tendencias. |\n",
    "\n",
    "💡 **Enlace a documentación oficial**: [Google Cloud Databases](https://cloud.google.com/products/databases)"
   ]
  },
  {
   "cell_type": "markdown",
   "metadata": {},
   "source": [
    "## 2. Opciones de Almacenamiento en Google Cloud 🌐\n",
    "\n",
    "📌 **Introducción**  \n",
    "**Google Cloud** ofrece soluciones escalables y confiables para almacenar datos, desde archivos no estructurados hasta bases de datos complejas. Estos servicios reducen costos, agilizan lanzamientos y optimizan el análisis de datos.\n",
    "\n",
    "### Servicios Principales\n",
    "- **Cloud Storage**: Almacena datos no estructurados (PDFs, imágenes, videos).  \n",
    "- **Cloud SQL**: Bases de datos relacionales administradas (MySQL, PostgreSQL, SQL Server).  \n",
    "- **Spanner**: Base de datos relacional global y escalable.  \n",
    "- **Firestore**: Base de datos NoSQL serverless para documentos.  \n",
    "- **Bigtable**: Base de datos NoSQL para grandes volúmenes y alta velocidad.  \n",
    "\n",
    "### Casos de Uso Comunes\n",
    "1. **Almacenamiento y entrega de contenido**  \n",
    "   - Distribuir contenido globalmente con baja latencia.  \n",
    "   - *Ejemplo contable*: Guardar y compartir videos de capacitación contable con clientes.  \n",
    "2. **Análisis de datos**  \n",
    "   - Conectar datos con herramientas como **BigQuery** o **Looker**.  \n",
    "   - *Ejemplo contable*: Detectar patrones en gastos por región.  \n",
    "3. **Respaldo y archivo**  \n",
    "   - Almacenar datos históricos a bajo costo.  \n",
    "   - *Ejemplo contable*: Copias mensuales de libros contables para auditorías.  \n",
    "\n",
    "### Migración e Innovación\n",
    "- **Migración**: Trasladar bases de datos existentes (ej.: MySQL a **Cloud SQL**).  \n",
    "- **Innovación**: Construir aplicaciones móviles o soluciones nativas en la nube.  \n",
    "\n",
    "| Concepto | Descripción | Ejemplo en Contabilidad |\n",
    "|----------|-------------|------------------------|\n",
    "| **Almacenamiento en la nube** | Guardar datos en servidores accesibles por internet. | Guardar balances digitales en lugar de discos físicos. |\n",
    "| **Bases relacionales** | Datos en tablas con relaciones (MySQL, PostgreSQL). | Tabla de cuentas vinculada a clientes. |\n",
    "| **Bases no relacionales** | Datos flexibles sin estructura fija (Firestore). | Observaciones libres sobre clientes. |\n",
    "| **Cloud SQL** | Base de datos SQL administrada. | Registro de ventas y pagos consultables. |\n",
    "| **Spanner** | Base relacional global y escalable. | Informes centralizados en tiempo real. |\n",
    "| **Cloud Storage** | Almacenamiento de archivos no estructurados. | Facturas escaneadas, contratos. |\n",
    "| **Bigtable** | Base NoSQL para grandes volúmenes. | Análisis de transacciones para detectar fraudes. |\n",
    "| **Firestore** | Base NoSQL para apps móviles/web. | Registrar actividades de clientes en apps. |\n",
    "| **Respaldo y archivo** | Copias de seguridad para cumplir regulaciones. | Respaldos de libros contables para AFIP. |\n",
    "\n",
    "💡 **Enlace a documentación oficial**: [Google Cloud Storage Solutions](https://cloud.google.com/storage/docs)"
   ]
  },
  {
   "cell_type": "markdown",
   "metadata": {},
   "source": [
    "## 3. Almacenamiento Estructurado vs. No Estructurado 📊\n",
    "\n",
    "📌 **Datos No Estructurados**  \n",
    "- **Definición**: Información sin formato tabular (imágenes, PDFs, videos, correos).  \n",
    "- **Características**: Representan ~80% de los datos organizacionales; difíciles de analizar con métodos tradicionales.  \n",
    "- **Uso en contabilidad**: Escaneos de facturas, contratos o PDFs.  \n",
    "- **Herramienta**: **Cloud Storage**.  \n",
    "\n",
    "📌 **Datos Estructurados**  \n",
    "- **Definición**: Datos organizados en tablas (filas y columnas), fáciles de consultar con SQL.  \n",
    "- **Características**: Claros, accesibles, manipulables rápidamente.  \n",
    "- **Ejemplo contable**: Tablas de facturas, clientes o transacciones.  \n",
    "\n",
    "### Tipos de Cargas de Trabajo\n",
    "1. **Cargas Transaccionales (OLTP)**  \n",
    "   - Inserciones o actualizaciones rápidas de registros individuales.  \n",
    "   - *Ejemplo contable*: Registrar un pago o emitir una factura.  \n",
    "   - Herramientas: **Cloud SQL**, **Spanner**, **Firestore**.  \n",
    "2. **Cargas Analíticas (OLAP)**  \n",
    "   - Consultas complejas sobre grandes volúmenes de datos.  \n",
    "   - *Ejemplo contable*: Analizar ventas trimestrales por región.  \n",
    "   - Herramientas: **BigQuery**, **Bigtable**.  \n",
    "\n",
    "| Tipo de Datos/Herramienta | Descripción | Ejemplo Contable |\n",
    "|---------------------------|-------------|------------------|\n",
    "| **Datos no estructurados** | Archivos sin formato tabular. | Escaneos de recibos, contratos. |\n",
    "| **Cloud Storage** | Almacén para datos no estructurados. | Balances anuales en PDF. |\n",
    "| **Datos estructurados** | Organizados en tablas. | Base de datos de facturas. |\n",
    "| **Cargas transaccionales (OLTP)** | Actualización rápida de registros. | Registrar un pago. |\n",
    "| **Cloud SQL** | Base relacional administrada. | Contabilidad de una sucursal con SQL. |\n",
    "| **Spanner** | Base relacional global. | Registros contables centralizados. |\n",
    "| **Firestore** | Base NoSQL para transacciones. | Actividades de clientes en apps. |\n",
    "| **Cargas analíticas (OLAP)** | Análisis complejo de datos masivos. | Ventas anuales por región. |\n",
    "| **BigQuery** | Almacén de datos para análisis SQL. | Tendencias financieras multianuales. |\n",
    "| **Bigtable** | Base NoSQL para análisis en tiempo real. | Monitoreo instantáneo de transacciones. |\n",
    "\n",
    "💡 **Enlace a documentación oficial**: [Structured vs Unstructured Data](https://cloud.google.com/learn/what-is-structured-data)"
   ]
  },
  {
   "cell_type": "markdown",
   "metadata": {},
   "source": [
    "## 4. Cloud Storage: Almacenamiento de Datos No Estructurados 📂\n",
    "\n",
    "📌 **¿Qué es Cloud Storage?**  \n",
    "**Cloud Storage** es un servicio escalable para almacenar datos no estructurados, como PDFs, imágenes o videos, ideal para respaldos, distribución de contenido y archivos contables.\n",
    "\n",
    "### Almacenamiento por Objetos\n",
    "- Cada objeto incluye datos binarios, metadatos (fecha, autor, permisos) y un identificador único (como una URL).  \n",
    "- Ejemplos: Videos institucionales, escaneos de facturas, contratos legales.  \n",
    "\n",
    "### Ventajas\n",
    "- Almacenamiento ilimitado.  \n",
    "- Acceso global con baja latencia y alta durabilidad.  \n",
    "- Redundancia geográfica para proteger datos.  \n",
    "- Integración con **BigQuery**, **Cloud SQL**, **App Engine**, **Firestore**.  \n",
    "\n",
    "### Clases de Almacenamiento\n",
    "| Clase | Frecuencia de Acceso | Costo | Ejemplo Contable |\n",
    "|-------|----------------------|-------|------------------|\n",
    "| **Standard Storage** | Frecuente (diaria/semanal) | Alto | Informes financieros actuales. |\n",
    "| **Nearline Storage** | Mensual | Medio | Resguardos mensuales. |\n",
    "| **Coldline Storage** | Trimestral | Bajo | Archivos fiscales trimestrales. |\n",
    "| **Archive Storage** | Anual o menos | Muy bajo | Balances de años anteriores. |\n",
    "\n",
    "### Organización en Buckets\n",
    "- **Buckets**: Contenedores con nombres únicos globales y ubicaciones geográficas (ej.: Europa, EE. UU.).  \n",
    "- **Versionado**: Guarda historiales de cambios para restaurar versiones antiguas.  \n",
    "- **Políticas de ciclo de vida**: Automatizan la gestión (ej.: eliminar archivos tras 365 días).  \n",
    "\n",
    "### Ejemplo Práctico\n",
    "Crear un bucket y subir un archivo en **Cloud Storage**:\n"
   ]
  },
  {
   "cell_type": "code",
   "execution_count": null,
   "metadata": {},
   "outputs": [],
   "source": [
    "# Crear un bucket en Cloud Storage\n",
    "gsutil mb -l us-central1 gs://mi-contabilidad-bucket\n",
    "\n",
    "# Subir un archivo (ej.: balance anual en PDF)\n",
    "gsutil cp balance_2024.pdf gs://mi-contabilidad-bucket\n",
    "\n",
    "# Listar archivos en el bucket\n",
    "gsutil ls gs://mi-contabilidad-bucket"
   ]
  },
  {
   "cell_type": "markdown",
   "metadata": {},
   "source": [
    "**Explicación**:\n",
    "- `gsutil mb`: Crea un bucket en la región `us-central1`.\n",
    "- `gsutil cp`: Sube un archivo PDF al bucket.\n",
    "- `gsutil ls`: Lista los archivos almacenados.\n"
   ]
  },
  {
   "cell_type": "markdown",
   "metadata": {},
   "source": [
    "💡 **Enlace a documentación oficial**: [Cloud Storage Documentation](https://cloud.google.com/storage/docs)"
   ]
  },
  {
   "cell_type": "markdown",
   "metadata": {},
   "source": [
    "## 5. Servicios SQL Administrados: Cloud SQL 🗃️\n",
    "\n",
    "📌 **¿Qué es Cloud SQL?**  \n",
    "**Cloud SQL** es un servicio de bases de datos relacionales administrado, compatible con **MySQL**, **PostgreSQL** y **SQL Server**. Ideal para sistemas contables que requieren consultas rápidas y seguras.\n",
    "\n",
    "### Funcionalidades Principales\n",
    "- **Administración automática**: Google gestiona actualizaciones, backups y replicaciones.  \n",
    "- **Escalabilidad**: Hasta 96 núcleos, 624 GB de RAM, 64 TB de almacenamiento.  \n",
    "- **Seguridad**: Encriptación automática y firewall integrado.  \n",
    "- **Backups**: Hasta 7 copias automáticas sin costo adicional.  \n",
    "- **Replicación**: Copias en tiempo real para seguridad y rendimiento.  \n",
    "\n",
    "### Ejemplo Contable\n",
    "Un sistema contable en **Cloud SQL** (MySQL) puede:\n",
    "- Registrar facturas y pagos.  \n",
    "- Consultar saldos pendientes con SQL.  \n",
    "- Restaurar datos desde backups si hay errores.  \n",
    "\n",
    "| Concepto | Explicación Simple |\n",
    "|----------|--------------------|\n",
    "| **Cloud SQL** | Base de datos administrada (MySQL, PostgreSQL, SQL Server). |\n",
    "| **Administración automática** | Google realiza actualizaciones y backups. |\n",
    "| **Escalabilidad** | Crece según la necesidad (procesador, RAM, almacenamiento). |\n",
    "| **Replicación** | Copias automáticas para seguridad. |\n",
    "| **Backup gestionado** | Copias de seguridad restaurables. |\n",
    "| **Encriptación** | Protección de datos en tránsito y almacenamiento. |\n",
    "| **Firewall de red** | Controla quién accede a la base. |\n",
    "\n",
    "### Ejemplo de Consulta SQL\n"
   ]
  },
  {
   "cell_type": "code",
   "execution_count": null,
   "metadata": {},
   "outputs": [],
   "source": [
    "```sql\n",
    "-- Consultar clientes con saldos pendientes\n",
    "SELECT c.nombre, f.monto, f.fecha\n",
    "FROM clientes c\n",
    "JOIN facturas f ON c.id = f.cliente_id\n",
    "WHERE f.estado = 'pendiente';\n",
    "```"
   ]
  },
  {
   "cell_type": "markdown",
   "metadata": {},
   "source": [
    "**Explicación**:\n",
    "- `SELECT`: Elige columnas a mostrar (nombre, monto, fecha).\n",
    "- `JOIN`: Une tablas `clientes` y `facturas` por `id`.\n",
    "- `WHERE`: Filtra facturas con estado 'pendiente'.\n",
    "\n",
    "**Uso contable**: Identificar deudores para recordatorios de pago.\n"
   ]
  },
  {
   "cell_type": "markdown",
   "metadata": {},
   "source": [
    "💡 **Enlace a documentación oficial**: [Cloud SQL Documentation](https://cloud.google.com/sql/docs)"
   ]
  },
  {
   "cell_type": "markdown",
   "metadata": {},
   "source": [
    "## 6. Spanner: Base de Datos Relacional Global 🌍\n",
    "\n",
    "📌 **¿Qué es Spanner?**  \n",
    "**Spanner** es una base de datos relacional escalable y global, diseñada para consistencia fuerte y alto rendimiento, ideal para empresas con operaciones multirregionales.\n",
    "\n",
    "### Escalado Vertical vs. Horizontal\n",
    "- **Vertical**: Mejorar un servidor (más RAM, CPU).  \n",
    "- **Horizontal**: Añadir servidores para repartir carga.  \n",
    "- *Ejemplo contable*: Contratar más contadores (horizontal) vs. un contador experto (vertical).  \n",
    "\n",
    "### Ventajas\n",
    "- **Consistencia global**: Datos actualizados al instante en todas las regiones.  \n",
    "- **Alta disponibilidad**: Réplicas automáticas entre regiones.  \n",
    "- **SQL avanzado**: Soporta joins e índices secundarios.  \n",
    "- **Rendimiento**: Miles de lecturas/escrituras por segundo.  \n",
    "\n",
    "### Ejemplo Contable\n",
    "Una empresa con sucursales en varias provincias usa **Spanner** para centralizar registros contables, asegurando que un cambio en Buenos Aires se refleje instantly en Córdoba.\n",
    "\n",
    "| Concepto | Descripción para Contadores |\n",
    "|----------|----------------------------|\n",
    "| **Spanner** | Base relacional global y automática. |\n",
    "| **Escalado vertical** | Mejorar un equipo (más potencia). |\n",
    "| **Escalado horizontal** | Sumar equipos para repartir trabajo. |\n",
    "| **SQL** | Lenguaje para manejar bases relacionales. |\n",
    "| **Join** | Combinar tablas (ej.: clientes y facturas). |\n",
    "| **Consistencia fuerte** | Datos siempre coherentes globalmente. |\n",
    "| **Replicación síncrona** | Copias instantáneas entre regiones. |\n",
    "| **Alta disponibilidad** | Sistema funcional incluso con fallos. |\n",
    "\n",
    "💡 **Enlace a documentación oficial**: [Cloud Spanner Documentation](https://cloud.google.com/spanner/docs)"
   ]
  },
  {
   "cell_type": "markdown",
   "metadata": {},
   "source": [
    "## 7. Servicios NoSQL: Firestore y Bigtable 📈\n",
    "\n",
    "### Firestore\n",
    "📌 **¿Qué es Firestore?**  \n",
    "**Firestore** es una base de datos **NoSQL** serverless, ideal para aplicaciones móviles/web con datos flexibles organizados en documentos y colecciones.\n",
    "\n",
    "**Características**:\n",
    "- **Documentos y colecciones**: Datos organizados jerárquicamente (ej.: factura como documento, pagos como subcolección).  \n",
    "- **Sincronización en tiempo real**: Actualizaciones automáticas en dispositivos conectados.  \n",
    "- **Acceso offline**: Funciona sin conexión, sincronizando al reconectar.  \n",
    "- **Transacciones ACID**: Operaciones seguras y consistentes.  \n",
    "\n",
    "**Ejemplo contable**: Registrar facturas en documentos, con actualizaciones automáticas en una app móvil.\n",
    "\n",
    "| Concepto | Explicación |\n",
    "|----------|-------------|\n",
    "| **Firestore** | Base NoSQL serverless y escalable. |\n",
    "| **Documento** | Registro con datos estructurados (ej.: factura). |\n",
    "| **Colección** | Grupo de documentos (ej.: todas las facturas). |\n",
    "| **Subcolección** | Colección dentro de un documento (ej.: pagos). |\n",
    "| **Sincronización** | Actualización automática entre dispositivos. |\n",
    "| **Acceso offline** | Leer/escribir datos sin conexión. |\n",
    "| **Transacciones ACID** | Operaciones seguras y completas. |\n",
    "\n",
    "### Bigtable\n",
    "📌 **¿Qué es Bigtable?**  \n",
    "**Bigtable** es una base de datos **NoSQL** para grandes volúmenes (petabytes), optimizada para alta velocidad de escritura y baja latencia, usada por Google en servicios como **Google Search**.\n",
    "\n",
    "**Características**:\n",
    "- **Columnas anchas**: Estructura escasa para datos semi-estructurados.  \n",
    "- **Escalabilidad**: Maneja millones de registros por segundo.  \n",
    "- **Usos**: IoT, análisis de usuarios, datos financieros.  \n",
    "\n",
    "**Ejemplo contable**: Analizar millones de transacciones para detectar fraudes en tiempo real.\n",
    "\n",
    "| Característica | Firestore | Bigtable |\n",
    "|----------------|-----------|----------|\n",
    "| **Tipo** | Documentos | Columnas anchas |\n",
    "| **Escalabilidad** | Automática (serverless) | Petabyte |\n",
    "| **Transacciones ACID** | Sí | No siempre |\n",
    "| **Casos de uso** | Apps móviles, transacciones | Análisis masivo, monitoreo |\n",
    "| **Velocidad de escritura** | Balanceada | Extremadamente rápida |\n",
    "\n",
    "### Integración de Bigtable\n",
    "- **Streaming**: Procesamiento en tiempo real con **Dataflow**, **Spark Streaming**, **Storm**.  \n",
    "- **Lotes**: Carga masiva con **Hadoop MapReduce**, **Apache Spark**.  \n",
    "- **APIs**: Conexión con apps mediante **HBase** o clientes Java.  \n",
    "\n",
    "| Término | Explicación Breve |\n",
    "|---------|-------------------|\n",
    "| **Managed VMs** | Máquinas virtuales administradas por Google. |\n",
    "| **HBase REST Server** | Acceso a Bigtable vía protocolos web. |\n",
    "| **Dataflow Streaming** | Procesamiento en tiempo real. |\n",
    "| **Hadoop MapReduce** | Procesamiento paralelo de datos masivos. |\n",
    "\n",
    "💡 **Enlace a documentación oficial**: [Firestore](https://cloud.google.com/firestore/docs), [Bigtable](https://cloud.google.com/bigtable/docs)"
   ]
  },
  {
   "cell_type": "markdown",
   "metadata": {},
   "source": [
    "## 8. Laboratorios Prácticos 🛠️\n",
    "\n",
    "### Lab 1: Cloud Storage Qwik Start - CLI/SDK\n",
    "- **Objetivo**: Crear un bucket y subir archivos usando la línea de comandos.  \n",
    "- **Ejemplo**:\n"
   ]
  },
  {
   "cell_type": "code",
   "execution_count": null,
   "metadata": {},
   "outputs": [],
   "source": [
    "# Crear bucket\n",
    "gsutil mb -l us-central1 gs://contabilidad-ejemplo\n",
    "\n",
    "# Subir factura\n",
    "gsutil cp factura_001.pdf gs://contabilidad-ejemplo"
   ]
  },
  {
   "cell_type": "markdown",
   "metadata": {},
   "source": [
    "**Explicación**:\n",
    "- `gsutil mb`: Crea un bucket en la región `us-central1`.\n",
    "- `gsutil cp`: Sube un archivo PDF al bucket."
   ]
  },
  {
   "cell_type": "markdown",
   "metadata": {},
   "source": [
    "### Lab 2: Conectar a Cloud SQL con MySQL Client\n",
    "- **Objetivo**: Crear una instancia **Cloud SQL** y ejecutar consultas SQL.  \n",
    "- **Ejemplo**:\n"
   ]
  },
  {
   "cell_type": "code",
   "execution_count": null,
   "metadata": {},
   "outputs": [],
   "source": [
    "# Conectar a instancia MySQL\n",
    "gcloud sql connect mi-instancia-mysql --user=root\n",
    "\n",
    "# Consulta SQL en el cliente MySQL\n",
    "SELECT * FROM facturas WHERE estado = 'pendiente';"
   ]
  },
  {
   "cell_type": "markdown",
   "metadata": {},
   "source": [
    "**Explicación**:\n",
    "- `gcloud sql connect`: Conecta a la instancia **Cloud SQL**.  \n",
    "- La consulta SQL lista facturas pendientes.  \n",
    "\n",
    "**Uso contable**: Consultar deudas pendientes de clientes."
   ]
  },
  {
   "cell_type": "markdown",
   "metadata": {},
   "source": [
    "💡 **Enlace a documentación oficial**: [Cloud SQL Labs](https://cloud.google.com/sql/docs)"
   ]
  }
 ],
 "metadata": {
  "kernelspec": {
   "display_name": "Python 3 (ipykernel)",
   "language": "python",
   "name": "python3"
  },
  "language_info": {
   "codemirror_mode": {
    "name": "ipython",
    "version": 3
   },
   "file_extension": ".py",
   "mimetype": "text/x-python",
   "name": "python",
   "nbconvert_exporter": "python",
   "pygments_lexer": "ipython3",
   "version": "3.9.21"
  }
 },
 "nbformat": 4,
 "nbformat_minor": 4
}
