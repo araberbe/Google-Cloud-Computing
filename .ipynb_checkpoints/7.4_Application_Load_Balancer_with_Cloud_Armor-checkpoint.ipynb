{
 "cells": [
  {
   "cell_type": "markdown",
   "id": "d1f13417",
   "metadata": {},
   "source": [
    "# 🏗️ Application Load Balancer con Cloud Armor\n",
    "\n",
    "En este laboratorio, configurarás un **Application Load Balancer (ALB)** global en Google Cloud, implementado en los **Points of Presence (POP)** de la red global de Google. Además, utilizarás **Cloud Armor** para proteger el tráfico mediante políticas de seguridad basadas en listas de IP permitidas o bloqueadas. Este enfoque es ideal para proteger aplicaciones empresariales, como sistemas contables, asegurando baja latencia, alta disponibilidad y seguridad frente a accesos maliciosos.\n",
    "\n",
    "💡 **Beneficio empresarial**: El uso de un ALB con **Cloud Armor** permite a las empresas optimizar la distribución del tráfico, garantizar la disponibilidad de servicios críticos (como plataformas de contabilidad) y proteger datos sensibles frente a ataques, reduciendo costos asociados a interrupciones o brechas de seguridad.\n",
    "\n",
    "Para más información, consulta la [Documentación de Google Cloud Load Balancing](https://cloud.google.com/load-balancing/docs) y la [Documentación de Google Cloud Armor](https://cloud.google.com/armor/docs).\n",
    "\n",
    "## 🎯 Objetivos de aprendizaje\n",
    "- 🔐 Crear reglas de firewall para HTTP y **health checks**.\n",
    "- 🖥️ Configurar dos **instance templates**.\n",
    "- 👥 Crear dos **managed instance groups (MIG)**.\n",
    "- 🌐 Configurar un **Application Load Balancer** con soporte para IPv4 e IPv6.\n",
    "- 🧪 Ejecutar una prueba de carga (**stress test**) sobre el ALB.\n",
    "- 🚫 Bloquear una dirección IP con **Cloud Armor**.\n",
    "\n",
    "📊 **Concepto clave**: Los **Points of Presence (POP)** son nodos de borde donde Google recibe tráfico externo y lo enruta a través de su red privada global, minimizando latencia y permitiendo la mitigación temprana de ataques."
   ]
  },
  {
   "cell_type": "markdown",
   "id": "0dfc6438",
   "metadata": {},
   "source": [
    "## 🛠️ Tarea 1: Configurar reglas de firewall para HTTP y health checks\n",
    "\n",
    "En esta tarea, crearás reglas de firewall para permitir tráfico HTTP y los **health checks** necesarios para que el ALB funcione correctamente.\n",
    "\n",
    "### Paso 1.1: Regla HTTP (default-allow-http)\n",
    "\n",
    "1. En **Google Cloud Console**, ve a **VPC network** > **Firewall**.\n",
    "2. Haz clic en **Create Firewall Rule**.\n",
    "3. Configura:\n",
    "   - **Network**: `default`\n",
    "   - **Targets**: **Specified target tags**\n",
    "   - **Target tags**: `http-server`\n",
    "   - **Source IPv4 ranges**: `0.0.0.0/0` (permite todo Internet)\n",
    "   - **Protocols/ports**: `TCP 80`\n",
    "4. Haz clic en **Create**.\n",
    "\n",
    "**Explicación**:\n",
    "- Esta regla permite tráfico HTTP (puerto 80) hacia las instancias con la etiqueta `http-server`.\n",
    "\n",
    "💡 **Contexto empresarial**: Esta regla es como autorizar el acceso público a un sistema contable en línea, asegurando que solo los servidores designados puedan recibir solicitudes."
   ]
  },
  {
   "cell_type": "markdown",
   "id": "82668534",
   "metadata": {},
   "source": [
    "### Paso 1.2: Regla Health Check (default-allow-health-check)\n",
    "\n",
    "1. En la página de **Firewall**, haz clic en **Create Firewall Rule**.\n",
    "2. Configura:\n",
    "   - **Target tags**: `http-server`\n",
    "   - **Source IPv4 ranges**: `130.211.0.0/22 35.191.0.0/16` (introduce uno, espacio, luego el otro)\n",
    "   - **Protocols**: `TCP` (todos los puertos)\n",
    "3. Haz clic en **Create**.\n",
    "\n",
    "**Explicación**:\n",
    "- Los **health checks** verifican la disponibilidad de las instancias. Si una instancia no responde, el ALB deja de enviarle tráfico, garantizando alta disponibilidad.\n",
    "- Los rangos de IP especificados son los utilizados por los **health checks** de Google Cloud.\n",
    "\n",
    "💡 **Contexto empresarial**: Los **health checks** son como auditorías automáticas que verifican si un sistema financiero está operativo, asegurando que los usuarios siempre puedan acceder a los servicios."
   ]
  },
  {
   "cell_type": "markdown",
   "id": "26cbd7cd",
   "metadata": {},
   "source": [
    "## 🛠️ Tarea 2: Configurar instance templates y crear grupos de instancias\n",
    "\n",
    "En esta tarea, crearás plantillas de instancias (**instance templates**) y grupos de instancias gestionados (**MIG**) para escalar automáticamente los servidores web.\n",
    "\n",
    "### Paso 2.1: Crear instance template Region 1-template\n",
    "\n",
    "1. Ve a **Compute Engine** > **Instance templates** > **Create**.\n",
    "2. Configura:\n",
    "   - **Name**: `Region 1-template`\n",
    "   - **Series**: `E2`\n",
    "   - **Machine type**: `e2-micro`\n",
    "   - **Advanced options** > **Networking** > **Network tags**: `http-server`\n",
    "   - **Network interfaces**: `default` (Region 1)\n",
    "   - **Management** > **Metadata** > **+ADD ITEM**:\n",
    "     - **Key**: `startup-script-url`\n",
    "     - **Value**: `gs://cloud-training/gcpnet/httplb/startup.sh`\n",
    "3. Haz clic en **Create**.\n",
    "\n",
    "**Explicación**:\n",
    "- El **startup script** instala **Apache** y personaliza la página de bienvenida mostrando la IP del cliente, el hostname y la zona.\n",
    "\n",
    "💡 **Contexto empresarial**: El **startup script** es como un procedimiento automatizado que configura un sistema contable con información específica al iniciarse, facilitando auditorías."
   ]
  },
  {
   "cell_type": "markdown",
   "id": "2feeaab7",
   "metadata": {},
   "source": [
    "### Paso 2.2: Duplicar template para Region 2\n",
    "\n",
    "1. Selecciona `Region 1-template` > **+ CREATE SIMILAR**.\n",
    "2. Cambia el **Name** a `Region 2-template`.\n",
    "3. En **Network interfaces**, selecciona la subred `default` (Region 2).\n",
    "4. Mantén el tag `http-server` y haz clic en **Create**.\n",
    "\n",
    "**Explicación**:\n",
    "- Esto crea una plantilla similar para una región diferente, asegurando que las instancias estén distribuidas geográficamente."
   ]
  },
  {
   "cell_type": "markdown",
   "id": "b19e9891",
   "metadata": {},
   "source": [
    "### Paso 2.3: Crear Managed Instance Groups (MIG)\n",
    "\n",
    "#### Grupo Region 1-mig\n",
    "\n",
    "1. Ve a **Compute Engine** > **Instance groups** > **Create instance group**.\n",
    "2. Configura:\n",
    "   - **Instance template**: `Region 1-template`\n",
    "   - **Location**: **Multiple zones** (Region 1)\n",
    "   - **Min instances**: `1`\n",
    "   - **Max instances**: `2`\n",
    "   - **Autoscaling signal**: **CPU utilization 80%**\n",
    "   - **Initialization period**: `45 s`\n",
    "3. Haz clic en **Create**.\n",
    "\n",
    "#### Grupo Region 2-mig\n",
    "\n",
    "Repite el proceso con:\n",
    "- **Instance template**: `Region 2-template`\n",
    "- **Location**: **Multiple zones** (Region 2)\n",
    "\n",
    "**Explicación**:\n",
    "- Los **MIG** escalan automáticamente según la carga (CPU, RPS, etc.), asegurando disponibilidad y optimizando costos.\n",
    "\n",
    "💡 **Contexto empresarial**: Un **MIG** es como un equipo contable que se amplía automáticamente durante picos de trabajo, como cierres fiscales, para garantizar eficiencia."
   ]
  },
  {
   "cell_type": "markdown",
   "id": "43d4b217",
   "metadata": {},
   "source": [
    "#### Verificación rápida\n",
    "\n",
    "1. Ve a **Compute Engine** > **VM instances** y verifica que existan instancias con nombres que comienzan por `Region 1-mig` y `Region 2-mig`.\n",
    "2. Haz clic en sus **IP externas** y observa la página web generada por el **startup script**.\n",
    "\n",
    "Para más información, consulta la [Documentación de Google Cloud Compute Engine](https://cloud.google.com/compute/docs)."
   ]
  },
  {
   "cell_type": "markdown",
   "id": "49439319",
   "metadata": {},
   "source": [
    "## 🛠️ Tarea 3: Configurar el Application Load Balancer\n",
    "\n",
    "En esta tarea, configurarás un **Application Load Balancer (ALB)** global para distribuir tráfico entre los **MIG** creados.\n",
    "\n",
    "### Paso 3.1: Crear el ALB\n",
    "\n",
    "1. Ve a **Navigation menu** > **VIEW ALL PRODUCTS** > **Networking** > **Network Services** > **Load balancing**.\n",
    "2. Haz clic en **Create load balancer**.\n",
    "3. Selecciona **Application Load Balancer HTTP(S)** > **Next**.\n",
    "4. Elige **Public facing (externo)** > **Next**.\n",
    "5. Selecciona **Best for global workloads** > **Next**.\n",
    "6. Selecciona **Global external Application Load Balancer** > **Next**.\n",
    "7. Configura:\n",
    "   - **Load Balancer Name**: `http-lb`\n",
    "8. Haz clic en **Configure**."
   ]
  },
  {
   "cell_type": "markdown",
   "id": "911e03b2",
   "metadata": {},
   "source": [
    "### Paso 3.2: Frontend (IPv4 e IPv6)\n",
    "\n",
    "Configura dos frontends:\n",
    "\n",
    "| **Propiedad** | **Valor IPv4** | **Valor IPv6** |\n",
    "|---------------|----------------|----------------|\n",
    "| **Protocol**  | HTTP           | HTTP           |\n",
    "| **IP version**| IPv4           | IPv6           |\n",
    "| **IP address**| Ephemeral      | Auto-allocate  |\n",
    "| **Port**      | 80             | 80             |"
   ]
  },
  {
   "cell_type": "markdown",
   "id": "918c6a36",
   "metadata": {},
   "source": [
    "### Paso 3.3: Backend service (http-backend)\n",
    "\n",
    "1. Configura el backend:\n",
    "   - **Instance group**: `Region 1-mig`\n",
    "     - **Port**: `80`\n",
    "     - **Balancing mode**: `Rate`\n",
    "     - **Max RPS**: `50`\n",
    "     - **Capacity**: `100%`\n",
    "2. Añade otro backend:\n",
    "   - **Instance group**: `Region 2-mig`\n",
    "     - **Balancing mode**: `Utilization`\n",
    "     - **Max utilization**: `80%`\n",
    "     - **Capacity**: `100%`\n",
    "3. Crea un **health check**:\n",
    "   - **Name**: `http-health-check`\n",
    "   - **Protocol**: `TCP`\n",
    "   - **Port**: `80`\n",
    "   - **Check interval**: `5 s`\n",
    "   - **Unhealthy threshold**: `2 failures`\n",
    "4. Activa **Logging** con **Sample Rate** = `1`.\n",
    "5. Haz clic en **Review and Finalize** > **Create**.\n",
    "6. Anota las direcciones **IPv4 ([LB_IP_v4])** e **IPv6 ([LB_IP_v6])** del balanceador.\n",
    "\n",
    "**Explicación**:\n",
    "- El ALB distribuye tráfico al backend más cercano según latencia y capacidad, con políticas de desbordamiento si un backend se satura.\n",
    "\n",
    "💡 **Contexto empresarial**: El ALB es como un sistema de distribución automática que asegura que las solicitudes a un sistema contable se procesen en el servidor disponible más cercano, optimizando tiempos de respuesta."
   ]
  },
  {
   "cell_type": "markdown",
   "id": "e9054cf3",
   "metadata": {},
   "source": [
    "## 🛠️ Tarea 4: Probar el Load Balancer\n",
    "\n",
    "En esta tarea, probarás el funcionamiento del ALB mediante acceso básico y una prueba de carga (**stress test**).\n",
    "\n",
    "### Paso 4.1: Acceso básico\n",
    "\n",
    "1. En tu navegador, accede a:\n",
    "   - `http://[LB_IP_v4]`\n",
    "   - `http://[LB_IP_v6]` (si tu red soporta IPv6)\n",
    "2. Observa la página generada por el **startup script** (puede tardar unos minutos).\n",
    "\n",
    "**Explicación**:\n",
    "- Esto verifica que el ALB está distribuyendo tráfico correctamente a los backends."
   ]
  },
  {
   "cell_type": "markdown",
   "id": "f3637b0f",
   "metadata": {},
   "source": [
    "### Paso 4.2: Prueba de carga (siege)\n",
    "\n",
    "1. Ve a **Compute Engine** > **VM instances** > **Create instance**.\n",
    "2. Configura:\n",
    "   - **Name**: `siege-vm`\n",
    "   - **Region**: `Region 3` (por ejemplo, `us-west1`)\n",
    "   - **Zone**: `Zone 3` (por ejemplo, `us-west1-a`)\n",
    "   - **Series**: `E2`\n",
    "3. Cuando la VM esté lista, haz clic en **SSH**.\n",
    "4. Instala **siege**:"
   ]
  },
  {
   "cell_type": "code",
   "execution_count": null,
   "id": "b800d7ac",
   "metadata": {},
   "outputs": [],
   "source": [
    "sudo apt-get -y install siege"
   ]
  },
  {
   "cell_type": "markdown",
   "id": "eff79f99",
   "metadata": {},
   "source": [
    "**Explicación del comando**:\n",
    "- `sudo`: Ejecuta con privilegios de superusuario.\n",
    "- `apt-get`: Gestor de paquetes de Debian/Ubuntu.\n",
    "- `-y`: Acepta automáticamente la instalación.\n",
    "- `install siege`: Instala la herramienta **siege** para pruebas de carga HTTP."
   ]
  },
  {
   "cell_type": "markdown",
   "id": "2fb6bfcd",
   "metadata": {},
   "source": [
    "5. Exporta la IP del Load Balancer:"
   ]
  },
  {
   "cell_type": "code",
   "execution_count": null,
   "id": "19cef3b4",
   "metadata": {},
   "outputs": [],
   "source": [
    "export LB_IP=[LB_IP_v4]"
   ]
  },
  {
   "cell_type": "markdown",
   "id": "81ee929d",
   "metadata": {},
   "source": [
    "**Explicación**:\n",
    "- `export`: Crea una variable de entorno.\n",
    "- `LB_IP`: Almacena la IP IPv4 del ALB para usarla en comandos posteriores."
   ]
  },
  {
   "cell_type": "markdown",
   "id": "20352729",
   "metadata": {},
   "source": [
    "6. Ejecuta la prueba de carga:"
   ]
  },
  {
   "cell_type": "code",
   "execution_count": null,
   "id": "8a690a17",
   "metadata": {},
   "outputs": [],
   "source": [
    "siege -c 150 -t120s http://$LB_IP"
   ]
  },
  {
   "cell_type": "markdown",
   "id": "1df56051",
   "metadata": {},
   "source": [
    "**Explicación del comando**:\n",
    "- `siege`: Herramienta para pruebas de carga HTTP.\n",
    "- `-c 150`: Simula 150 usuarios concurrentes.\n",
    "- `-t120s`: Ejecuta la prueba durante 120 segundos.\n",
    "- `http://$LB_IP`: URL objetivo (usa la variable `LB_IP`).\n",
    "\n",
    "7. Mientras se ejecuta, observa el tráfico en **Load balancing** > **http-backend** > **Monitoring**.\n",
    "   - Inicialmente, el tráfico se distribuye a `Region 1-mig`.\n",
    "   - Si las RPS aumentan, también se usará `Region 2-mig`.\n",
    "8. Detén **siege** con **CTRL + C** y revisa las estadísticas.\n",
    "\n",
    "💡 **Contexto empresarial**: La prueba de carga simula un alto volumen de usuarios accediendo a un sistema contable, verificando que el ALB puede manejar picos de demanda sin interrupciones."
   ]
  },
  {
   "cell_type": "markdown",
   "id": "e1389a25",
   "metadata": {},
   "source": [
    "## 🛠️ Tarea 5: Bloquear la IP de siege-vm con Cloud Armor\n",
    "\n",
    "En esta tarea, crearás una política de **Cloud Armor** para bloquear la IP de `siege-vm`, simulando la protección contra un ataque.\n",
    "\n",
    "### Paso 5.1: Crear política denylist-siege\n",
    "\n",
    "1. Anota la **External IP** de `siege-vm` (`[SIEGE_IP]`).\n",
    "2. Ve a **Network Security** > **Cloud Armor policies** > **Create policy**.\n",
    "3. Configura:\n",
    "   - **Name**: `denylist-siege`\n",
    "   - **Default rule action**: `Allow`\n",
    "4. Haz clic en **Next step**.\n",
    "5. Añade una regla:\n",
    "   - **Condition > Match**: `[SIEGE_IP]`\n",
    "   - **Action**: `Deny`\n",
    "   - **Response code**: `403 (Forbidden)`\n",
    "   - **Priority**: `1000`\n",
    "6. Haz clic en **Save Change to Rule** > **Next step** > **Add Target**.\n",
    "7. Configura:\n",
    "   - **Type**: `Backend service (external ALB)`\n",
    "   - **Target**: `http-backend`\n",
    "   - Selecciona **Replace** si se solicita.\n",
    "8. Haz clic en **Create policy**.\n",
    "\n",
    "**Explicación**:\n",
    "- La política bloquea el tráfico desde la IP de `siege-vm`, protegiendo el ALB de solicitudes no deseadas.\n",
    "\n",
    "💡 **Contexto empresarial**: **Cloud Armor** es como un sistema de seguridad que bloquea accesos no autorizados a los registros financieros, evitando ataques que podrían interrumpir operaciones."
   ]
  },
  {
   "cell_type": "markdown",
   "id": "c2c55763",
   "metadata": {},
   "source": [
    "### Paso 5.2: Verificar bloqueo\n",
    "\n",
    "1. En la sesión **SSH** de `siege-vm`, ejecuta:"
   ]
  },
  {
   "cell_type": "code",
   "execution_count": null,
   "id": "591f3035",
   "metadata": {},
   "outputs": [],
   "source": [
    "curl http://$LB_IP"
   ]
  },
  {
   "cell_type": "markdown",
   "id": "123e6a02",
   "metadata": {},
   "source": [
    "**Resultado esperado**:\n",
    "- `403 Forbidden`\n",
    "\n",
    "2. Desde tu navegador local, accede a `http://[LB_IP_v4]`.\n",
    "   - ✅ Debería funcionar, ya que la regla por defecto es `Allow`.\n",
    "\n",
    "3. Vuelve a ejecutar la prueba de carga en `siege-vm`:"
   ]
  },
  {
   "cell_type": "code",
   "execution_count": null,
   "id": "49ff3c01",
   "metadata": {},
   "outputs": [],
   "source": [
    "siege -c 150 -t120s http://$LB_IP"
   ]
  },
  {
   "cell_type": "markdown",
   "id": "894bb1df",
   "metadata": {},
   "source": [
    "**Resultado esperado**:\n",
    "- No habrá salida, ya que las peticiones son bloqueadas por **Cloud Armor**.\n",
    "\n",
    "4. Revisa los logs en **Cloud Armor** > **denylist-siege** > **Logs** > **View policy logs**.\n",
    "   - Filtra por `resource: http-lb-forwarding-rule`.\n",
    "   - Cada entrada mostrará `configuredAction: DENY` y la política `denylist-siege`.\n",
    "\n",
    "**Explicación**:\n",
    "- **Cloud Armor** bloquea el tráfico antes de que llegue a la red VPC, facilitando auditorías y detección de patrones anómalos.\n",
    "\n",
    "💡 **Contexto empresarial**: Los logs de **Cloud Armor** son como un registro de auditoría que documenta intentos de acceso no autorizados, ayudando a cumplir con normativas de seguridad."
   ]
  },
  {
   "cell_type": "markdown",
   "id": "e9df0c94",
   "metadata": {},
   "source": [
    "## 📚 Glosario rápido\n",
    "\n",
    "| **Término**       | **Definición breve**                                              |\n",
    "|-------------------|-------------------------------------------------------------------|\n",
    "| **POP**           | Punto de presencia de Google en el borde de su red global.        |\n",
    "| **ALB**           | Application Load Balancer global de capa 7.                       |\n",
    "| **Health check**  | Sondeo de salud para decidir si enviar tráfico a una instancia.   |\n",
    "| **MIG**           | Grupo de instancias gestionado con escalado automático.           |\n",
    "| **Siege**         | Herramienta CLI para pruebas de carga HTTP.                       |\n",
    "| **Cloud Armor**   | Servicio de WAF/DDoS que aplica políticas de seguridad basadas en reglas. |\n",
    "\n",
    "## 🚀 Resumen de conceptos\n",
    "\n",
    "| **Concepto**            | **Explicación contable simplificada**                              |\n",
    "|-------------------------|-------------------------------------------------------------------|\n",
    "| **Application Load Balancer** | Sistema que distribuye solicitudes financieras a servidores disponibles. |\n",
    "| **Cloud Armor**         | Guardia de seguridad que bloquea accesos no autorizados a datos financieros. |\n",
    "| **Managed Instance Group** | Equipo contable que se expande automáticamente durante picos de trabajo. |\n",
    "| **Health check**        | Auditoría automática para verificar la operatividad de sistemas.   |\n",
    "| **Points of Presence**  | Oficinas regionales que reciben y procesan solicitudes rápidamente. |\n",
    "\n",
    "💡 **Conclusión empresarial**: Configurar un **Application Load Balancer** con **Cloud Armor** permite a las empresas garantizar la disponibilidad y seguridad de sistemas críticos, como los de contabilidad, mientras optimizan costos mediante el escalado automático y la protección contra ataques. Los logs de **Cloud Armor** facilitan auditorías, asegurando el cumplimiento normativo.\n",
    "\n",
    "Para más información, consulta la [Documentación de Google Cloud Load Balancing](https://cloud.google.com/load-balancing/docs) y la [Documentación de Google Cloud Armor](https://cloud.google.com/armor/docs)."
   ]
  }
 ],
 "metadata": {
  "kernelspec": {
   "display_name": "Python 3 (ipykernel)",
   "language": "python",
   "name": "python3"
  },
  "language_info": {
   "name": "bash"
  }
 },
 "nbformat": 4,
 "nbformat_minor": 5
}
