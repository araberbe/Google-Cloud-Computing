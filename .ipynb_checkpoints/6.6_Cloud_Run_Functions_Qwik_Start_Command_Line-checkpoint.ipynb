{
 "cells": [
  {
   "cell_type": "markdown",
   "id": "a1b2c3d4",
   "metadata": {},
   "source": [
    "# 📌 Cloud Run Functions Qwik Start - Command Line\n",
    "\n",
    "## Introducción\n",
    "\n",
    "Una **función Cloud Run** es un fragmento de código que se ejecuta automáticamente en respuesta a eventos específicos, como una solicitud HTTP, un mensaje en **Pub/Sub**, o la carga de un archivo en **Cloud Storage**. Estas funciones son **event-driven** (impulsadas por eventos), lo que significa que solo se activan cuando ocurre un evento relevante, como un cambio en una base de datos, un archivo nuevo en almacenamiento, o la creación de una máquina virtual. Al ser **serverless**, no requieren gestionar infraestructura, lo que las hace ideales para tareas puntuales que no necesitan ejecutarse constantemente.\n",
    "\n",
    "**Cloud Run Functions** son compatibles con lenguajes como **Node.js** y se pueden desplegar desde la línea de comandos usando **Cloud Shell**. Ejemplos de uso incluyen:\n",
    "- Generar miniaturas automáticamente al subir imágenes a **Cloud Storage**.\n",
    "- Enviar notificaciones a usuarios tras recibir mensajes en **Pub/Sub**.\n",
    "- Procesar datos en **Cloud Firestore** para generar informes financieros.\n",
    "\n",
    "💡 **Beneficio empresarial**: Las funciones **Cloud Run** permiten automatizar procesos críticos, como el procesamiento de transacciones o la generación de reportes contables, reduciendo costos operativos al ejecutarse solo cuando es necesario y escalando automáticamente según la demanda.\n",
    "\n",
    "Para más información sobre Cloud Run Functions, consulta la [Documentación oficial de Google Cloud Run](https://cloud.google.com/run/docs)."
   ]
  },
  {
   "cell_type": "markdown",
   "id": "b3c4d5e6",
   "metadata": {},
   "source": [
    "## 🚀 Objetivos del laboratorio\n",
    "\n",
    "- Crear una función **Cloud Run** que responda a mensajes de **Pub/Sub**.\n",
    "- Desplegar la función utilizando la línea de comandos con **gcloud**.\n",
    "- Probar la función enviando un mensaje a un tópico de **Pub/Sub**.\n",
    "- Visualizar los registros (**logs**) generados por la función.\n",
    "\n",
    "💡 **Contexto empresarial**: Estas habilidades permiten a las empresas implementar soluciones **serverless** para automatizar tareas, como procesar datos financieros en tiempo real o enviar notificaciones automáticas, optimizando recursos y mejorando la eficiencia operativa."
   ]
  },
  {
   "cell_type": "markdown",
   "id": "c5d6e7f8",
   "metadata": {},
   "source": [
    "## 🚀 Tarea 1: Configurar el entorno\n",
    "\n",
    "Antes de crear la función, configurarás la región por defecto en **Cloud Shell** para asegurar que los recursos se desplieguen en la ubicación correcta.\n",
    "\n",
    "### Pasos\n",
    "1. Abre **Cloud Shell** desde la **Consola de Google Cloud**.\n",
    "2. Establece la región por defecto ejecutando:"
   ]
  },
  {
   "cell_type": "code",
   "execution_count": null,
   "id": "d7e8f9a0",
   "metadata": {},
   "outputs": [],
   "source": [
    "gcloud config set run/region REGION"
   ]
  },
  {
   "cell_type": "markdown",
   "id": "e9f0a1b2",
   "metadata": {},
   "source": [
    "**Explicación del comando**:\n",
    "- `gcloud config set run/region REGION`: Establece la región predeterminada para las operaciones de **Cloud Run** (por ejemplo, `us-central1`).\n",
    "\n",
    "💡 **Contexto empresarial**: Configurar la región optimiza la latencia y los costos, lo que es crucial para aplicaciones empresariales que procesan datos financieros o de clientes en ubicaciones específicas.\n",
    "\n",
    "Para más información sobre regiones en Cloud Run, consulta la [Documentación de Google Cloud Run](https://cloud.google.com/run/docs/locations)."
   ]
  },
  {
   "cell_type": "markdown",
   "id": "f1a2b3c4",
   "metadata": {},
   "source": [
    "## 🚀 Tarea 2: Crear una función Cloud Run\n",
    "\n",
    "Crearás una función llamada `helloPubSub` que se activa con mensajes de **Pub/Sub** y genera un mensaje en los registros.\n",
    "\n",
    "### Pasos\n",
    "#### 1. Crear una carpeta para el código\n",
    "Ejecuta el siguiente comando para crear y acceder a una carpeta:"
   ]
  },
  {
   "cell_type": "code",
   "execution_count": null,
   "id": "a3b4c5d6",
   "metadata": {},
   "outputs": [],
   "source": [
    "mkdir gcf_hello_world && cd $_"
   ]
  },
  {
   "cell_type": "markdown",
   "id": "b5c6d7e8",
   "metadata": {},
   "source": [
    "**Explicación del comando**:\n",
    "- `mkdir gcf_hello_world`: Crea una carpeta para almacenar el código.\n",
    "- `cd $_`: Accede a la carpeta recién creada.\n",
    "\n",
    "#### 2. Crear el archivo `index.js`\n",
    "Crea y edita el archivo `index.js` con el siguiente código:"
   ]
  },
  {
   "cell_type": "code",
   "execution_count": null,
   "id": "c7d8e9a0",
   "metadata": {},
   "outputs": [],
   "source": [
    "const functions = require('@google-cloud/functions-framework');\n",
    "functions.cloudEvent('helloPubSub', cloudEvent => {\n",
    "  const base64name = cloudEvent.data.message.data;\n",
    "  const name = base64name\n",
    "    ? Buffer.from(base64name, 'base64').toString()\n",
    "    : 'World';\n",
    "  console.log(`Hello, ${name}!`);\n",
    "});"
   ]
  },
  {
   "cell_type": "markdown",
   "id": "d9e0a1b2",
   "metadata": {},
   "source": [
    "**Explicación del código**:\n",
    "- `require('@google-cloud/functions-framework')`: Importa el framework de **Cloud Functions** para definir funciones **event-driven**.\n",
    "- `functions.cloudEvent('helloPubSub', ...)`: Registra una función llamada `helloPubSub` que se activa con eventos de **Pub/Sub**.\n",
    "- `cloudEvent.data.message.data`: Extrae el mensaje codificado en **base64** del evento.\n",
    "- `Buffer.from(base64name, 'base64').toString()`: Decodifica el mensaje a texto plano.\n",
    "- `console.log(`Hello, ${name}!`)`: Imprime un mensaje personalizado en los registros.\n",
    "\n",
    "#### 3. Crear el archivo `package.json`\n",
    "Crea y edita el archivo `package.json` con el siguiente contenido:"
   ]
  },
  {
   "cell_type": "code",
   "execution_count": null,
   "id": "e1a2b3c4",
   "metadata": {},
   "outputs": [],
   "source": [
    "{\n",
    "  \"name\": \"gcf_hello_world\",\n",
    "  \"version\": \"1.0.0\",\n",
    "  \"main\": \"index.js\",\n",
    "  \"scripts\": {\n",
    "    \"start\": \"node index.js\",\n",
    "    \"test\": \"echo \\\"Error: no test specified\\\" && exit 1\"\n",
    "  },\n",
    "  \"dependencies\": {\n",
    "    \"@google-cloud/functions-framework\": \"^3.0.0\"\n",
    "  }\n",
    "}"
   ]
  },
  {
   "cell_type": "markdown",
   "id": "f3c4d5e6",
   "metadata": {},
   "source": [
    "**Explicación del archivo**:\n",
    "- `name: gcf_hello_world`: Nombre del proyecto.\n",
    "- `main: index.js`: Archivo principal que contiene la función.\n",
    "- `dependencies`: Lista las dependencias necesarias, como el framework de **Cloud Functions**.\n",
    "\n",
    "#### 4. Instalar dependencias\n",
    "Ejecuta el siguiente comando para instalar las dependencias:"
   ]
  },
  {
   "cell_type": "code",
   "execution_count": null,
   "id": "a5d6e7f8",
   "metadata": {},
   "outputs": [],
   "source": [
    "npm install"
   ]
  },
  {
   "cell_type": "markdown",
   "id": "b7e8f9a0",
   "metadata": {},
   "source": [
    "**Explicación del comando**:\n",
    "- `npm install`: Instala los paquetes especificados en `package.json`, como el framework de **Cloud Functions**.\n",
    "\n",
    "💡 **Contexto empresarial**: Crear una función con **Node.js** permite automatizar procesos, como el procesamiento de mensajes para notificaciones o auditorías, con una configuración sencilla que reduce costos y mejora la eficiencia.\n",
    "\n",
    "Para más información sobre la creación de funciones, consulta la [Documentación de Google Cloud Functions](https://cloud.google.com/functions/docs)."
   ]
  },
  {
   "cell_type": "markdown",
   "id": "c9e0a1b2",
   "metadata": {},
   "source": [
    "## 🚀 Tarea 3: Desplegar la función\n",
    "\n",
    "Desplegarás la función `helloPubSub` utilizando la línea de comandos.\n",
    "\n",
    "### Pasos\n",
    "Ejecuta el siguiente comando para desplegar la función:"
   ]
  },
  {
   "cell_type": "code",
   "execution_count": null,
   "id": "d1a2b3c4",
   "metadata": {},
   "outputs": [],
   "source": [
    "gcloud functions deploy nodejs-pubsub-function \\\n",
    "  --gen2 \\\n",
    "  --runtime=nodejs20 \\\n",
    "  --region=REGION \\\n",
    "  --source=. \\\n",
    "  --entry-point=helloPubSub \\\n",
    "  --trigger-topic cf-demo \\\n",
    "  --stage-bucket PROJECT_ID-bucket \\\n",
    "  --service-account cloudfunctionsa@PROJECT_ID.iam.gserviceaccount.com \\\n",
    "  --allow-unauthenticated"
   ]
  },
  {
   "cell_type": "markdown",
   "id": "e3c4d5e6",
   "metadata": {},
   "source": [
    "**Explicación del comando**:\n",
    "- `gcloud functions deploy nodejs-pubsub-function`: Despliega una función con el nombre `nodejs-pubsub-function`.\n",
    "- `--gen2`: Usa la segunda generación de **Cloud Functions**, más eficiente.\n",
    "- `--runtime=nodejs20`: Especifica que el código está escrito en **Node.js** versión 20.\n",
    "- `--region=REGION`: Define la región de despliegue (por ejemplo, `us-central1`).\n",
    "- `--source=.`: Usa la carpeta actual como fuente del código.\n",
    "- `--entry-point=helloPubSub`: Nombre de la función en `index.js`.\n",
    "- `--trigger-topic cf-demo`: La función se activa con mensajes en el tópico **Pub/Sub** `cf-demo`.\n",
    "- `--stage-bucket PROJECT_ID-bucket`: Bucket de **Cloud Storage** para almacenar archivos temporales durante el despliegue.\n",
    "- `--service-account`: Cuenta de servicio para ejecutar la función.\n",
    "- `--allow-unauthenticated`: Permite ejecutar la función sin autenticación (útil para pruebas).\n",
    "\n",
    "#### Verificar el despliegue\n",
    "Confirma que la función se desplegó correctamente:"
   ]
  },
  {
   "cell_type": "code",
   "execution_count": null,
   "id": "f5d6e7f8",
   "metadata": {},
   "outputs": [],
   "source": [
    "gcloud functions describe nodejs-pubsub-function --region=REGION"
   ]
  },
  {
   "cell_type": "markdown",
   "id": "a7e8f9a0",
   "metadata": {},
   "source": [
    "**Explicación del comando**:\n",
    "- `gcloud functions describe`: Muestra los detalles de la función desplegada.\n",
    "- Busca el estado `ACTIVE` para confirmar que el despliegue fue exitoso.\n",
    "\n",
    "💡 **Contexto empresarial**: Desplegar funciones **serverless** permite a las empresas responder rápidamente a eventos, como actualizaciones de datos financieros, sin costos asociados a servidores inactivos.\n",
    "\n",
    "Para más información sobre el despliegue, consulta la [Documentación de Google Cloud Functions](https://cloud.google.com/functions/docs/deploying)."
   ]
  },
  {
   "cell_type": "markdown",
   "id": "b9e0a1b2",
   "metadata": {},
   "source": [
    "## 🚀 Tarea 4: Probar la función\n",
    "\n",
    "Probarás la función enviando un mensaje al tópico **Pub/Sub** `cf-demo`.\n",
    "\n",
    "### Pasos\n",
    "Publica un mensaje en el tópico con el siguiente comando:"
   ]
  },
  {
   "cell_type": "code",
   "execution_count": null,
   "id": "c1a2b3c4",
   "metadata": {},
   "outputs": [],
   "source": [
    "gcloud pubsub topics publish cf-demo --message=\"Cloud Function Gen2\""
   ]
  },
  {
   "cell_type": "markdown",
   "id": "d3c4d5e6",
   "metadata": {},
   "source": [
    "**Explicación del comando**:\n",
    "- `gcloud pubsub topics publish cf-demo`: Envía un mensaje al tópico **Pub/Sub** `cf-demo`.\n",
    "- `--message=\"Cloud Function Gen2\"`: Especifica el contenido del mensaje.\n",
    "\n",
    "El resultado esperado en los registros es:\n",
    "```\n",
    "Hello, Cloud Function Gen2!\n",
    "```\n",
    "\n",
    "💡 **Contexto empresarial**: Probar funciones asegura que los procesos automatizados, como notificaciones o actualizaciones de registros contables, funcionen correctamente, mejorando la eficiencia operativa.\n",
    "\n",
    "Para más información sobre Pub/Sub, consulta la [Documentación de Google Cloud Pub/Sub](https://cloud.google.com/pubsub/docs)."
   ]
  },
  {
   "cell_type": "markdown",
   "id": "e5d6e7f8",
   "metadata": {},
   "source": [
    "## 🚀 Tarea 5: Ver los registros (logs)\n",
    "\n",
    "Visualizarás los registros generados por la función para confirmar su ejecución.\n",
    "\n",
    "### Pasos\n",
    "1. Consulta los registros desde **Cloud Shell** con el siguiente comando:"
   ]
  },
  {
   "cell_type": "code",
   "execution_count": null,
   "id": "f7e8f9a0",
   "metadata": {},
   "outputs": [],
   "source": [
    "gcloud functions logs read nodejs-pubsub-function --region=REGION"
   ]
  },
  {
   "cell_type": "markdown",
   "id": "a9e0a1b2",
   "metadata": {},
   "source": [
    "**Explicación del comando**:\n",
    "- `gcloud functions logs read`: Recupera los registros de la función especificada.\n",
    "- `nodejs-pubsub-function`: Nombre de la función desplegada.\n",
    "- `--region=REGION`: Región donde se desplegó la función.\n",
    "\n",
    "2. Alternativamente, accede a los registros desde la **Consola de Google Cloud**:\n",
    "   - Navega a **Logging** > **Logs Explorer**.\n",
    "   - Filtra por el recurso `cloud_function` y el nombre `nodejs-pubsub-function`.\n",
    "\n",
    "💡 **Contexto empresarial**: Los registros permiten auditar las ejecuciones de funciones, lo que es esencial para cumplir con normativas contables y garantizar la transparencia en procesos automatizados.\n",
    "\n",
    "Para más información, consulta la [Documentación de Google Cloud Logging](https://cloud.google.com/logging/docs)."
   ]
  },
  {
   "cell_type": "markdown",
   "id": "b1a2b3c4",
   "metadata": {},
   "source": [
    "## 🚀 Tarea 6: Evaluación de conocimientos\n",
    "\n",
    "Responde la siguiente pregunta para reforzar lo aprendido:\n",
    "\n",
    "**¿Serverless (sin servidor) te permite escribir código sin preocuparte por la infraestructura?**\n",
    "- ✔️ Verdadero\n",
    "- ❌ Falso\n",
    "\n",
    "💡 **Contexto empresarial**: Comprender el modelo **serverless** permite a las empresas centrarse en desarrollar soluciones, como sistemas de notificación o procesamiento de datos, sin gestionar servidores, lo que reduce costos y complejidad."
   ]
  },
  {
   "cell_type": "markdown",
   "id": "c3c4d5e6",
   "metadata": {},
   "source": [
    "## 🚀 Conclusión\n",
    "\n",
    "Este laboratorio te ha guiado en la creación, despliegue y prueba de una función **Cloud Run** que responde a mensajes de **Pub/Sub**, utilizando la línea de comandos en **Cloud Shell**. También has aprendido a visualizar los registros generados. Estas habilidades son clave para implementar soluciones **serverless** que automaticen procesos empresariales, como el procesamiento de datos o el envío de notificaciones, sin la necesidad de gestionar infraestructura.\n",
    "\n",
    "💡 **Beneficio empresarial**: **Cloud Run Functions** permite a las empresas reducir costos operativos, mejorar la escalabilidad y automatizar tareas críticas, como la generación de informes contables o la notificación de transacciones, con alta eficiencia.\n",
    "\n",
    "Para más información, consulta la [Documentación de Google Cloud Run](https://cloud.google.com/run/docs)."
   ]
  }
 ],
 "metadata": {
  "kernelspec": {
   "display_name": "Python 3 (ipykernel)",
   "language": "python",
   "name": "python3"
  },
  "language_info": {
   "codemirror_mode": {
    "name": "ipython",
    "version": 3
   },
   "file_extension": ".py",
   "mimetype": "text/x-python",
   "name": "python",
   "nbconvert_exporter": "python",
   "pygments_lexer": "ipython3",
   "version": "3.9.21"
  },
  "nbformat": 4,
  "nbformat_minor": 5
 },
 "nbformat": 4,
 "nbformat_minor": 5
}
