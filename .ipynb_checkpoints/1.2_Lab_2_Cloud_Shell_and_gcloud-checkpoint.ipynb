{
 "cells": [
  {
   "cell_type": "markdown",
   "id": "ab0a6805",
   "metadata": {},
   "source": [
    "Activa Cloud Shell\n",
    "\n",
    "Haz clic en Activar Cloud Shell  en la parte superior de la consola de Google Cloud.\n",
    "\n",
    "Haz clic para avanzar por las siguientes ventanas:\n",
    "\n",
    "Continúa en la ventana de información de Cloud Shell.\n",
    "\n",
    "Autoriza a Cloud Shell para que use tus credenciales para realizar llamadas a la API de Google Cloud.\n",
    "\n",
    "Cuando te conectes, habrás completado la autenticación, y el proyecto estará configurado con tu Project_ID, PROJECT_ID. El resultado contiene una línea que declara el Project_ID para esta sesión:\n",
    "\n",
    "Your Cloud Platform project in this session is set to \"PROJECT_ID\""
   ]
  },
  {
   "cell_type": "code",
   "execution_count": null,
   "id": "c37d0606",
   "metadata": {},
   "outputs": [],
   "source": [
    "gcloud es la herramienta de línea de comandos de Google Cloud. Viene preinstalada en Cloud Shell y es compatible con la función de autocompletado con tabulador."
   ]
  },
  {
   "cell_type": "markdown",
   "id": "ab010909",
   "metadata": {},
   "source": [
    "Puedes solicitar el nombre de la cuenta activa con este comando (opcional):"
   ]
  },
  {
   "cell_type": "code",
   "execution_count": null,
   "id": "b5410758",
   "metadata": {},
   "outputs": [],
   "source": [
    "gcloud auth list"
   ]
  },
  {
   "cell_type": "markdown",
   "id": "2b4af570",
   "metadata": {},
   "source": [
    "Puedes solicitar el ID del proyecto con este comando (opcional):"
   ]
  },
  {
   "cell_type": "code",
   "execution_count": null,
   "id": "7f060e6e",
   "metadata": {},
   "outputs": [],
   "source": [
    "gcloud config list project"
   ]
  },
  {
   "cell_type": "markdown",
   "id": "791f53e4",
   "metadata": {},
   "source": [
    "Resultado:  project = \"PROJECT_ID\"\n",
    "\n",
    "Más adelante en el lab, usarás tu directorio $HOME, que se utiliza en el almacenamiento en disco persistente, para guardar archivos en los proyectos y hacer que persistan de una sesión de Cloud Shell a otra. Tu directorio $HOME es privado, por lo que otros usuarios no pueden acceder a él.\n",
    "\n",
    "Tarea 1: Configura el entorno\n",
    "\n",
    "Algunos recursos de  se alojan en regiones o zonas. Por ejemplo, la región us-central1 corresponde a una región en el centro de Estados Unidos que tiene las zonas us-central1-a, us-central1-b, us-central1-c y us-central1-f.\n",
    "\n",
    "Los recursos alojados en zonas se denominan zonales. Las instancias de máquinas virtuales y los discos persistentes se alojan en zonas. Si deseas conectar un disco persistente a una instancia de máquina virtual, ambos recursos deben estar en la misma zona. De manera similar, si deseas asignar una dirección IP estática a una instancia, ambas deben estar en la misma región.\n",
    "\n",
    "Nota: Obtén más información sobre las regiones y zonas, y revisa una lista completa de ellas en la  de Google Cloud Compute Engine.\n",
    "\n",
    "Establece la región en <REGION>"
   ]
  },
  {
   "cell_type": "code",
   "execution_count": null,
   "id": "e7e93672",
   "metadata": {},
   "outputs": [],
   "source": [
    "gcloud config set compute/region REGION"
   ]
  },
  {
   "cell_type": "markdown",
   "id": "ce9b6e08",
   "metadata": {},
   "source": [
    "Para ver la configuración de la región del proyecto, ejecuta el siguiente comando:"
   ]
  },
  {
   "cell_type": "code",
   "execution_count": null,
   "id": "84c15e3a",
   "metadata": {},
   "outputs": [],
   "source": [
    "gcloud config get-value compute/region"
   ]
  },
  {
   "cell_type": "markdown",
   "id": "5e9f4ab5",
   "metadata": {},
   "source": [
    "Establece la zona en <ZONE>:"
   ]
  },
  {
   "cell_type": "code",
   "execution_count": null,
   "id": "9844c2f1",
   "metadata": {},
   "outputs": [],
   "source": [
    "gcloud config set compute/zone ZONE"
   ]
  },
  {
   "cell_type": "markdown",
   "id": "f89f8e97",
   "metadata": {},
   "source": [
    "Para ver la configuración de la zona del proyecto, ejecuta el siguiente comando:"
   ]
  },
  {
   "cell_type": "code",
   "execution_count": null,
   "id": "8374e501",
   "metadata": {},
   "outputs": [],
   "source": [
    "gcloud config get-value compute/zone"
   ]
  },
  {
   "cell_type": "markdown",
   "id": "41d0817c",
   "metadata": {},
   "source": [
    "Encuentra la información del proyecto\n",
    "\n",
    "Copia el ID del proyecto en el portapapeles o tu editor de texto. El ID del proyecto se encuentra en 2 lugares:\n",
    "\n",
    "En el panel de la consola de Cloud, en Información del proyecto (haz clic en Menú de navegación [] y, luego, en Descripción general de Cloud > Panel)\n",
    "\n",
    "En la pestaña del lab, cerca del nombre de usuario y contraseña\n",
    "\n",
    "En Cloud Shell, ejecuta el siguiente comando de gcloud para ver el ID del proyecto:"
   ]
  },
  {
   "cell_type": "code",
   "execution_count": null,
   "id": "736895b1",
   "metadata": {},
   "outputs": [],
   "source": [
    "gcloud config get-value project"
   ]
  },
  {
   "cell_type": "markdown",
   "id": "35257913",
   "metadata": {},
   "source": [
    "En Cloud Shell, ejecuta el siguiente comando de gcloud para ver los detalles del proyecto:"
   ]
  },
  {
   "cell_type": "code",
   "execution_count": null,
   "id": "87f05f15",
   "metadata": {},
   "outputs": [],
   "source": [
    "gcloud compute project-info describe --project $(gcloud config get-value project)"
   ]
  },
  {
   "cell_type": "markdown",
   "id": "68aa9a07",
   "metadata": {},
   "source": [
    "Busca los valores de metadatos de la zona y región en el resultado. Usarás la zona (google-compute-default-zone) que obtengas del resultado más adelante en el lab.\n",
    "\n",
    "Configura variables de entorno\n",
    "\n",
    "Este tipo de variables definen tu entorno y te permiten ahorrar tiempo cuando escribes secuencias de comandos que contienen APIs o ejecutables.\n",
    "\n",
    "Crea una variable de entorno para almacenar tu ID de proyecto:"
   ]
  },
  {
   "cell_type": "code",
   "execution_count": null,
   "id": "12f50193",
   "metadata": {},
   "outputs": [],
   "source": [
    "export PROJECT_ID=$(gcloud config get-value project)"
   ]
  },
  {
   "cell_type": "markdown",
   "id": "a2941758",
   "metadata": {},
   "source": [
    "Crea una variable de entorno para almacenar tu zona:"
   ]
  },
  {
   "cell_type": "code",
   "execution_count": null,
   "id": "2e3adde2",
   "metadata": {},
   "outputs": [],
   "source": [
    "export ZONE=$(gcloud config get-value compute/zone)"
   ]
  },
  {
   "cell_type": "markdown",
   "id": "0dc500cc",
   "metadata": {},
   "source": [
    "Para verificar si las variables se establecieron correctamente, ejecuta los siguientes comandos:"
   ]
  },
  {
   "cell_type": "code",
   "execution_count": null,
   "id": "121292a0",
   "metadata": {},
   "outputs": [],
   "source": [
    "echo -e \"PROJECT ID: $PROJECT_ID\\nZONE: $ZONE\""
   ]
  },
  {
   "cell_type": "markdown",
   "id": "0d93f7f4",
   "metadata": {},
   "source": [
    "Si se establecieron de forma correcta, los comandos echo mostrarán el ID del proyecto y tu zona en el resultado.\n",
    "\n",
    "Crea una máquina virtual con la herramienta gcloud\n",
    "\n",
    "Utiliza la herramienta gcloud para crear una nueva instancia de máquina virtual (VM).\n",
    "\n",
    "Para crear la VM, ejecuta el siguiente comando:"
   ]
  },
  {
   "cell_type": "code",
   "execution_count": null,
   "id": "d0f17d83",
   "metadata": {},
   "outputs": [],
   "source": [
    "gcloud compute instances create gcelab2 --machine-type e2-medium --zone $ZONE"
   ]
  },
  {
   "cell_type": "markdown",
   "id": "6c870244",
   "metadata": {},
   "source": [
    "Detalles del comando"
   ]
  },
  {
   "cell_type": "code",
   "execution_count": null,
   "id": "92e7f21c",
   "metadata": {},
   "outputs": [],
   "source": [
    "gcloud compute te permite administrar los recursos de Compute Engine en un formato más simple que con la API de Compute Engine."
   ]
  },
  {
   "cell_type": "markdown",
   "id": "ef5140e1",
   "metadata": {},
   "source": [
    "instances create crea una nueva instancia.\n",
    "\n",
    "gcelab2 es el nombre de la VM.\n",
    "\n",
    "La marca --machine-type especifica el tipo de máquina como e2-medium.\n",
    "\n",
    "La marca --zone especifica dónde se crea la VM.\n",
    "\n",
    "Si omites la marca --zone, la herramienta gcloud inferirá la zona que deseas según tus propiedades predeterminadas. Si en el comando create no se especifica otra configuración necesaria sobre las instancias, como machine type o image, se establecerán los valores predeterminados.\n",
    "\n",
    "Para abrir la ayuda del comando create, ejecuta lo siguiente:"
   ]
  },
  {
   "cell_type": "code",
   "execution_count": null,
   "id": "b1d1ce29",
   "metadata": {},
   "outputs": [],
   "source": [
    "gcloud compute instances create --help"
   ]
  },
  {
   "cell_type": "markdown",
   "id": "a45ed38a",
   "metadata": {},
   "source": [
    "Explora los comandos de gcloud\n",
    "\n",
    "Para consultar los lineamientos de uso simples que ofrece gcloud, agrega la marca -h (que representa ayuda) al final de cualquier comando de gcloud.\n",
    "\n",
    "Ejecuta el siguiente comando:         gcloud -h\n",
    "\n",
    "Agrega la marca --help a un comando o ejecuta el comando gcloud help para acceder a ayuda más detallada.\n",
    "\n",
    "Ejecuta el siguiente comando:      gcloud config --help\n",
    "\n",
    "Ejecuta el siguiente comando:  gcloud help config\n",
    "\n",
    "Los resultados de los comandos gcloud config --help y gcloud help config son equivalentes. Ambos muestran ayuda completa y detallada.\n",
    "\n",
    "Hay  en gcloud que determinan el comportamiento de los comandos en un nivel por invocación. Las marcas anulan cualquier valor configurado en las propiedades de SDK.\n",
    "\n",
    "Visualiza la lista de parámetros de configuración en tu entorno: gcloud config list\n",
    "\n",
    "Visualiza todas las propiedades y sus parámetros de configuración: gcloud config list --all\n",
    "\n",
    "Obtén una lista de tus componentes: gcloud components list\n",
    "\n",
    "Tarea 2: Filtra el resultado de la línea de comandos\n",
    "\n",
    "La interfaz de línea de comandos (CLI) de gcloud es una herramienta potente que sirve para trabajar en la línea de comandos. Es posible que a veces quieras que se muestre información específica.\n",
    "\n",
    "Obtén una lista de las instancias de procesamiento disponibles en el proyecto:"
   ]
  },
  {
   "cell_type": "code",
   "execution_count": null,
   "id": "6bed83b6",
   "metadata": {},
   "outputs": [],
   "source": [
    "gcloud compute instances list"
   ]
  },
  {
   "cell_type": "markdown",
   "id": "24bd1a12",
   "metadata": {},
   "source": [
    "Muestra la máquina virtual gcelab2:"
   ]
  },
  {
   "cell_type": "code",
   "execution_count": null,
   "id": "1b0f6033",
   "metadata": {},
   "outputs": [],
   "source": [
    "gcloud compute instances list --filter=\"name=('gcelab2')\""
   ]
  },
  {
   "cell_type": "markdown",
   "id": "00baf12a",
   "metadata": {},
   "source": [
    "En el comando anterior, le pediste a gcloud que solo muestre la información que coincida con los criterios, es decir, el nombre de una instancia virtual que coincida con los criterios.\n",
    "\n",
    "Obtén una lista de las reglas de firewall del proyecto: gcloud compute firewall-rules list\n",
    "\n",
    "Obtén una lista de las reglas de firewall de la red predeterminada:"
   ]
  },
  {
   "cell_type": "code",
   "execution_count": null,
   "id": "8dc17877",
   "metadata": {},
   "outputs": [],
   "source": [
    "gcloud compute firewall-rules list --filter=\"network='default'\""
   ]
  },
  {
   "cell_type": "markdown",
   "id": "2ab2fabd",
   "metadata": {},
   "source": [
    "Obtén una lista de las reglas del firewall de la red predeterminada en la que la regla de permiso coincide con una regla ICMP:"
   ]
  },
  {
   "cell_type": "code",
   "execution_count": null,
   "id": "7379d081",
   "metadata": {},
   "outputs": [],
   "source": [
    "gcloud compute firewall-rules list --filter=\"NETWORK:'default' AND ALLOW:'icmp'\""
   ]
  },
  {
   "cell_type": "markdown",
   "id": "c0c9479b",
   "metadata": {},
   "source": [
    "Tarea 3: Conéctate a la instancia de VM"
   ]
  },
  {
   "cell_type": "code",
   "execution_count": null,
   "id": "086a8430",
   "metadata": {},
   "outputs": [],
   "source": [
    "gcloud compute facilita la conexión a las instancias. El comando gcloud compute ssh proporciona un wrapper para SSH, que se encarga de la autenticación y la asignación del nombre de la instancia a la dirección IP."
   ]
  },
  {
   "cell_type": "markdown",
   "id": "d26641f2",
   "metadata": {},
   "source": [
    "Para conectarte a la VM con SSH, ejecuta el siguiente comando:"
   ]
  },
  {
   "cell_type": "code",
   "execution_count": null,
   "id": "436f32ac",
   "metadata": {},
   "outputs": [],
   "source": [
    "gcloud compute ssh gcelab2 --zone $ZONE"
   ]
  },
  {
   "cell_type": "markdown",
   "id": "4c6fc605",
   "metadata": {},
   "source": [
    "Para continuar, escribe Y.\n",
    "\n",
    "Generating public/private rsa key pair.\n",
    "\n",
    "Enter passphrase (empty for no passphrase)\n",
    "\n",
    "Para dejar la frase de contraseña vacía, presiona Intro dos veces.\n",
    "\n",
    "Nota: Te conectaste a la máquina virtual creada anteriormente en el lab. ¿Notaste cómo cambió el símbolo del sistema?\n",
    "\n",
    "Ahora muestra algo similar a sa_107021519685252337470@gcelab2.\n",
    "\n",
    "La referencia antes del símbolo @ indica que se está usando la cuenta.\n",
    "\n",
    "Lo que aparece luego del símbolo @ indica la máquina anfitrión a la que se está accediendo.\n",
    "\n",
    "Instala el servidor web nginx en la máquina virtual:"
   ]
  },
  {
   "cell_type": "code",
   "execution_count": null,
   "id": "295b1da0",
   "metadata": {},
   "outputs": [],
   "source": [
    "sudo apt install -y nginx"
   ]
  },
  {
   "cell_type": "markdown",
   "id": "aaacc1a7",
   "metadata": {},
   "source": [
    "Como no debes realizar ninguna acción aquí, ejecuta el siguiente comando para desconectarte de SSH y salir de la shell remota:"
   ]
  },
  {
   "cell_type": "code",
   "execution_count": null,
   "id": "941f07b9",
   "metadata": {},
   "outputs": [],
   "source": [
    "Exit"
   ]
  },
  {
   "cell_type": "markdown",
   "id": "ab626f70",
   "metadata": {},
   "source": [
    "Tarea 4: Actualiza el firewall\n",
    "\n",
    "Cuando se utilizan recursos de procesamiento como las máquinas virtuales, es importante entender las reglas de firewall asociadas.\n",
    "\n",
    "Obtén una lista de las reglas de firewall del proyecto:"
   ]
  },
  {
   "cell_type": "code",
   "execution_count": null,
   "id": "05789178",
   "metadata": {},
   "outputs": [],
   "source": [
    "gcloud compute firewall-rules list"
   ]
  },
  {
   "cell_type": "markdown",
   "id": "7dac058d",
   "metadata": {},
   "source": [
    "Intenta acceder al servicio nginx que se ejecuta en la máquina virtual gcelab2.\n",
    "\n",
    "Nota: La comunicación con la máquina virtual fallará si esta no tiene una regla de firewall adecuada. El servidor web nginx espera comunicarse en tcp:80. Para que la comunicación funcione, debes hacer lo siguiente:\n",
    "\n",
    "Agregar una etiqueta a la máquina virtual gcelab2 y Agregar una regla de firewall para el tráfico http\n",
    "\n",
    "Agrega una etiqueta a la máquina virtual:"
   ]
  },
  {
   "cell_type": "code",
   "execution_count": null,
   "id": "3dc84cc8",
   "metadata": {},
   "outputs": [],
   "source": [
    "gcloud compute instances add-tags gcelab2 --tags http-server,https-server"
   ]
  },
  {
   "cell_type": "markdown",
   "id": "c5c2c2f9",
   "metadata": {},
   "source": [
    "Actualiza la regla de firewall para permitir la conexión:"
   ]
  },
  {
   "cell_type": "code",
   "execution_count": null,
   "id": "16118b09",
   "metadata": {},
   "outputs": [],
   "source": [
    "gcloud compute firewall-rules create default-allow-http --direction=INGRESS --priority=1000 --network=default --action=ALLOW --rules=tcp:80 --source-ranges=0.0.0.0/0 --target-tags=http-server"
   ]
  },
  {
   "cell_type": "markdown",
   "id": "de8d81fb",
   "metadata": {},
   "source": [
    "Obtén una lista de las reglas de firewall del proyecto:"
   ]
  },
  {
   "cell_type": "code",
   "execution_count": null,
   "id": "dd9f1f95",
   "metadata": {},
   "outputs": [],
   "source": [
    "gcloud compute firewall-rules list --filter=ALLOW:'80'"
   ]
  },
  {
   "cell_type": "markdown",
   "id": "8800a977",
   "metadata": {},
   "source": [
    "Verifica que la comunicación de http a la máquina virtual sea posible:"
   ]
  },
  {
   "cell_type": "code",
   "execution_count": null,
   "id": "a8ee0101",
   "metadata": {},
   "outputs": [],
   "source": [
    "curl http://$(gcloud compute instances list --filter=name:gcelab2 --format='value(EXTERNAL_IP)')"
   ]
  },
  {
   "cell_type": "markdown",
   "id": "54dd28cc",
   "metadata": {},
   "source": [
    "Verás el resultado predeterminado de nginx.\n",
    "\n",
    "Tarea 5: Visualiza los registros del sistema\n",
    "\n",
    "Ver los registros es esencial para entender el funcionamiento de tu proyecto. Usa gcloud para acceder a los diferentes registros disponibles en Google Cloud.\n",
    "\n",
    "Visualiza los registros disponibles en el sistema:"
   ]
  },
  {
   "cell_type": "code",
   "execution_count": null,
   "id": "641a9c56",
   "metadata": {},
   "outputs": [],
   "source": [
    "gcloud logging logs list"
   ]
  },
  {
   "cell_type": "markdown",
   "id": "f902b809",
   "metadata": {},
   "source": [
    "Consulta los registros relacionados con los recursos de procesamiento:"
   ]
  },
  {
   "cell_type": "code",
   "execution_count": null,
   "id": "ca5c67c2",
   "metadata": {},
   "outputs": [],
   "source": [
    "gcloud logging logs list --filter=\"compute\""
   ]
  },
  {
   "cell_type": "markdown",
   "id": "d80f358b",
   "metadata": {},
   "source": [
    "Lee los registros relacionados con el tipo de recurso de gce_instance:"
   ]
  },
  {
   "cell_type": "code",
   "execution_count": null,
   "id": "4fa2fef8",
   "metadata": {},
   "outputs": [],
   "source": [
    "gcloud logging read \"resource.type=gce_instance\" --limit 5"
   ]
  },
  {
   "cell_type": "markdown",
   "id": "23ae5d9b",
   "metadata": {},
   "source": [
    "Lee los registros de una máquina virtual específica:"
   ]
  },
  {
   "cell_type": "code",
   "execution_count": null,
   "id": "05aac21f",
   "metadata": {},
   "outputs": [],
   "source": [
    "gcloud logging read \"resource.type=gce_instance AND labels.instance_name='gcelab2'\" --limit 5"
   ]
  },
  {
   "cell_type": "markdown",
   "id": "39d4d89b",
   "metadata": {},
   "source": [
    "Tarea 6: Pon a prueba tus conocimientos\n",
    "\n",
    "Three basic ways to interact with Google Cloud services and resources are: Command-line interface, Client libraries y Cloud Console"
   ]
  }
 ],
 "metadata": {},
 "nbformat": 4,
 "nbformat_minor": 5
}
