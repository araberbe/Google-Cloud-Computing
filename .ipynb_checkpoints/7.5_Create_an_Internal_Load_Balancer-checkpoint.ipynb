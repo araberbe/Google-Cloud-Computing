{
  "cells": [
    {
      "cell_type": "markdown",
      "metadata": {},
      "source": [
        "# 🗂️ Crear un Internal Load Balancer\n",
        "\n",
        "En este laboratorio, configurarás un **Internal Load Balancer (ILB)** en Google Cloud para balancear tráfico TCP/UDP dentro de una red privada (**VPC**). Este enfoque permite ejecutar y escalar servicios internos, como sistemas contables, accesibles solo para instancias internas, garantizando seguridad y eficiencia. Crearás dos **Managed Instance Groups (MIG)** en la misma región y probarás el ILB con una máquina utilitaria.\n",
        "\n",
        "💡 **Beneficio empresarial**: Un **ILB** asegura que los servicios internos, como los sistemas de contabilidad, estén protegidos dentro de la red privada, optimizando la disponibilidad y reduciendo costos al distribuir eficientemente la carga sin exponer datos sensibles al exterior.\n",
        "\n",
        "Para más información, consulta la [Documentación de Google Cloud Load Balancing](https://cloud.google.com/load-balancing/docs) y la [Documentación de Google Cloud VPC](https://cloud.google.com/vpc/docs).\n",
        "\n",
        "## 🎯 Objetivos\n",
        "- 🔐 Crear reglas de firewall para HTTP y **health checks**.\n",
        "- 🛠️ Configurar dos **instance templates**.\n",
        "- 🖥️ Crear dos **managed instance groups (MIG)**.\n",
        "- ⚖️ Configurar y probar un **Internal Load Balancer**.\n",
        "\n",
        "📊 **Concepto clave**: Un **Internal Load Balancer** distribuye tráfico dentro de una red privada, aislando servicios sensibles y mejorando la disponibilidad sin necesidad de IPs públicas."
      ]
    },
    {
      "cell_type": "markdown",
      "metadata": {},
      "source": [
        "## 🏗️ Tarea 1: Configurar reglas de firewall HTTP y de health check\n",
        "\n",
        "En esta tarea, crearás reglas de firewall para permitir tráfico HTTP y **health checks** en la red precreada `myinternalapp`.\n",
        "\n",
        "### Paso 1.1: Explorar la red myinternalapp\n",
        "\n",
        "1. Ve a **Navigation menu** > **VPC network** > **VPC networks**.\n",
        "2. Revisa la red `myinternalapp`, que incluye:\n",
        "   - Subredes: `subneta` y `subnetb`.\n",
        "   - Reglas de firewall predefinidas para RDP, SSH e ICMP.\n",
        "\n",
        "**Explicación**:\n",
        "- La red `myinternalapp` actúa como un entorno privado para servicios internos, como sistemas contables, con subredes segmentadas para mayor organización.\n",
        "\n",
        "💡 **Contexto empresarial**: Esta red es como un departamento contable virtual que opera de forma aislada, con reglas de acceso predefinidas para proteger datos financieros."
      ]
    },
    {
      "cell_type": "markdown",
      "metadata": {},
      "source": [
        "### Paso 1.2: Crear regla HTTP (app-allow-http)\n",
        "\n",
        "1. Ve a **VPC network** > **Firewall rules** > **+ Create Firewall Rule**.\n",
        "2. Configura:\n",
        "   - **Name**: `app-allow-http`\n",
        "   - **Network**: `my-internal-app`\n",
        "   - **Targets**: **Specified target tags** → `lb-backend`\n",
        "   - **Source IPv4 ranges**: `10.10.0.0/16`\n",
        "   - **Protocols/ports**: `TCP 80`\n",
        "3. Haz clic en **Create**.\n",
        "\n",
        "**Explicación**:\n",
        "- Esta regla permite tráfico HTTP (puerto 80) desde la red interna (`10.10.0.0/16`) hacia instancias con la etiqueta `lb-backend`.\n",
        "\n",
        "💡 **Contexto empresarial**: Esto es como permitir que solo los empleados de un departamento contable accedan a un sistema financiero interno."
      ]
    },
    {
      "cell_type": "markdown",
      "metadata": {},
      "source": [
        "### Paso 1.3: Crear regla de health check (app-allow-health-check)\n",
        "\n",
        "1. Haz clic en **+ Create Firewall Rule**.\n",
        "2. Configura:\n",
        "   - **Name**: `app-allow-health-check`\n",
        "   - **Network**: `my-internal-app`\n",
        "   - **Targets**: **Specified target tags** → `lb-backend`\n",
        "   - **Source IPv4 ranges**: `130.211.0.0/22 35.191.0.0/16` (separadas por espacio)\n",
        "   - **Protocols/ports**: `TCP` (todos los puertos)\n",
        "3. Haz clic en **Create**.\n",
        "\n",
        "**Explicación**:\n",
        "- Esta regla permite que los **health checks** de Google Cloud (desde los rangos de IP especificados) verifiquen la salud de las instancias con la etiqueta `lb-backend`.\n",
        "\n",
        "💡 **Contexto empresarial**: Los **health checks** son como auditorías automáticas que confirman que un sistema contable está operativo, asegurando continuidad del servicio."
      ]
    },
    {
      "cell_type": "markdown",
      "metadata": {},
      "source": [
        "## 🏗️ Tarea 2: Configurar instance templates y crear instance groups\n",
        "\n",
        "En esta tarea, crearás plantillas de instancias (**instance templates**) y grupos de instancias gestionados (**MIG**) para los backends del ILB.\n",
        "\n",
        "### Paso 2.1: Instance template 1 (subneta)\n",
        "\n",
        "1. Ve a **Compute Engine** > **Instance templates** > **Create instance template**.\n",
        "2. Configura:\n",
        "   - **Name**: `instance-template-1`\n",
        "   - **Location**: `Global`\n",
        "   - **Series**: `E2`\n",
        "   - **Machine type**: `e2-micro`\n",
        "   - **Network tags**: `lb-backend`\n",
        "   - **Network/Subnetwork**: `myinternalapp` / `subneta`\n",
        "   - **External IPv4**: `None`\n",
        "   - **Metadata**:\n",
        "     - **Key**: `startup-script-url`\n",
        "     - **Value**: `gs://cloud-training/gcpnet/ilb/startup.sh`\n",
        "3. Haz clic en **Create**.\n",
        "\n",
        "**Explicación**:\n",
        "- El **startup script** instala **Apache** y personaliza la página de bienvenida con la IP del cliente, nombre, región y zona de la VM.\n",
        "- La ausencia de IP externa asegura que las VMs solo sean accesibles dentro de la red privada.\n",
        "\n",
        "💡 **Contexto empresarial**: El **startup script** es como un procedimiento automatizado que configura un sistema contable con información específica al iniciarse, garantizando consistencia."
      ]
    },
    {
      "cell_type": "markdown",
      "metadata": {},
      "source": [
        "### Paso 2.2: Instance template 2 (subnetb)\n",
        "\n",
        "1. Selecciona `instance-template-1` > **+ CREATE SIMILAR**.\n",
        "2. Cambia:\n",
        "   - **Name**: `instance-template-2`\n",
        "   - **Subnetwork**: `subnetb`\n",
        "3. Mantén el tag `lb-backend` y haz clic en **Create**.\n",
        "\n",
        "**Explicación**:\n",
        "- Esto crea una plantilla idéntica para una subred diferente, asegurando que las instancias estén distribuidas entre subredes para mayor resiliencia."
      ]
    },
    {
      "cell_type": "markdown",
      "metadata": {},
      "source": [
        "### Paso 2.3: Crear Managed Instance Group 1\n",
        "\n",
        "1. Ve a **Compute Engine** > **Instance groups** > **Create instance group**.\n",
        "2. Configura:\n",
        "   - **Name**: `instance-group-1`\n",
        "   - **Template**: `instance-template-1`\n",
        "   - **Location**: **Single zone** → Región `REGION`, Zona `ZONE` (por ejemplo, `us-central1`, `us-central1-a`)\n",
        "   - **Autoscaling**: Min `1`, Max `1`, señal `CPU 80%`, período `45 s`\n",
        "3. Haz clic en **Create**."
      ]
    },
    {
      "cell_type": "markdown",
      "metadata": {},
      "source": [
        "### Paso 2.4: Crear Managed Instance Group 2\n",
        "\n",
        "Repite el proceso con:\n",
        "- **Name**: `instance-group-2`\n",
        "- **Template**: `instance-template-2`\n",
        "- **Location**: Otra zona en la misma región (por ejemplo, `us-central1-b`).\n",
        "\n",
        "**Explicación**:\n",
        "- Los **MIG** garantizan uniformidad y permiten escalado automático, aunque en este caso están configurados con una sola instancia por grupo para simplicidad.\n",
        "\n",
        "💡 **Contexto empresarial**: Un **MIG** es como un equipo contable automatizado que se mantiene consistente y puede escalar durante picos de trabajo, como cierres fiscales."
      ]
    },
    {
      "cell_type": "markdown",
      "metadata": {},
      "source": [
        "### Paso 2.5: Verificar backends\n",
        "\n",
        "1. Ve a **Compute Engine** > **VM instances**.\n",
        "2. Verifica que existan dos VMs con IPs internas:\n",
        "   - `instance-group-1`: `10.10.20.2`\n",
        "   - `instance-group-2`: `10.10.30.2`\n",
        "3. Crea una VM utilitaria:\n",
        "   - **Name**: `utility-vm`\n",
        "   - **Region/Zone**: `REGION` / `ZONE` (por ejemplo, `us-central1` / `us-central1-a`)\n",
        "   - **Type**: `e2-micro`\n",
        "   - **Subnetwork**: `subneta`\n",
        "   - **Internal IP**: `10.10.20.50`\n",
        "\n",
        "**Explicación**:\n",
        "- La VM `utility-vm` se usará para probar el ILB desde dentro de la red privada.\n",
        "\n",
        "💡 **Contexto empresarial**: La VM utilitaria es como una estación de auditoría interna que verifica el acceso a los sistemas financieros."
      ]
    },
    {
      "cell_type": "markdown",
      "metadata": {},
      "source": [
        "#### Comandos de verificación desde utility-vm\n",
        "\n",
        "1. Abre una sesión **SSH** en `utility-vm`.\n",
        "2. Ejecuta:"
      ]
    },
    {
      "cell_type": "code",
      "metadata": {},
      "source": [
        "curl 10.10.20.2"
      ],
      "execution_count": null,
      "outputs": []
    },
    {
      "cell_type": "markdown",
      "metadata": {},
      "source": [
        "**Explicación**:\n",
        "- `curl`: Realiza una solicitud HTTP al puerto 80.\n",
        "- `10.10.20.2`: IP interna de la VM en `instance-group-1`.\n",
        "- La respuesta muestra la página de bienvenida generada por **Apache**, incluyendo la IP del cliente, nombre, región y zona de la VM."
      ]
    },
    {
      "cell_type": "code",
      "metadata": {},
      "source": [
        "curl 10.10.30.2"
      ],
      "execution_count": null,
      "outputs": []
    },
    {
      "cell_type": "markdown",
      "metadata": {},
      "source": [
        "**Explicación**:\n",
        "- Consulta la VM en `instance-group-2` (`10.10.30.2`), mostrando información similar."
      ]
    },
    {
      "cell_type": "code",
      "metadata": {},
      "source": [
        "exit"
      ],
      "execution_count": null,
      "outputs": []
    },
    {
      "cell_type": "markdown",
      "metadata": {},
      "source": [
        "**Explicación**:\n",
        "- Cierra la sesión SSH.\n",
        "\n",
        "**Campos que identifican la ubicación del backend**:\n",
        "- **Server Hostname**: Nombre de la VM.\n",
        "- **Server Location**: Región y zona de la VM.\n",
        "- **Client IP**: IP de la VM que realiza la petición (`utility-vm`).\n",
        "\n",
        "💡 **Contexto empresarial**: Estos comandos son como verificar que los registros financieros de diferentes sucursales son accesibles desde una estación de auditoría interna."
      ]
    },
    {
      "cell_type": "markdown",
      "metadata": {},
      "source": [
        "## 🏗️ Tarea 3: Configurar el Internal Load Balancer\n",
        "\n",
        "En esta tarea, configurarás un **Internal Load Balancer** para distribuir tráfico entre los dos **MIG**.\n",
        "\n",
        "### Paso 3.1: Inicio de configuración\n",
        "\n",
        "1. Ve a **Navigation menu** > **View All Products** > **Network Services** > **Load balancing** > **Create load balancer**.\n",
        "2. Selecciona:\n",
        "   - **Type**: `Network Load Balancer (TCP/UDP/SSL)`\n",
        "   - **Proxy/passthrough**: `Passthrough`\n",
        "   - **Exposition**: `Internal`\n",
        "3. Haz clic en **CONFIGURE**.\n",
        "4. Configura:\n",
        "   - **Name**: `my-ilb`\n",
        "   - **Region**: `REGION` (por ejemplo, `us-central1`)\n",
        "   - **Network**: `my-internal-app`"
      ]
    },
    {
      "cell_type": "markdown",
      "metadata": {},
      "source": [
        "### Paso 3.2: Backend service\n",
        "\n",
        "1. Selecciona **Backend configuration**.\n",
        "2. Añade backends:\n",
        "   - **Instance group**: `instance-group-1`\n",
        "   - **Add a backend** → `instance-group-2`\n",
        "3. Crea un **health check**:\n",
        "   - **Name**: `my-ilb-health-check`\n",
        "   - **Protocol**: `TCP`\n",
        "   - **Port**: `80`\n",
        "   - **Check interval**: `5 s`\n",
        "   - **Healthy threshold**: `2 successes`\n",
        "   - **Unhealthy threshold**: `2 failures`\n",
        "4. Verifica que aparezca un ✔️ azul junto a **Backend configuration**."
      ]
    },
    {
      "cell_type": "markdown",
      "metadata": {},
      "source": [
        "### Paso 3.3: Frontend\n",
        "\n",
        "1. Selecciona **Frontend configuration**.\n",
        "2. Configura:\n",
        "   - **Subnetwork**: `subnetb`\n",
        "   - **Internal IP** → **Create IP address**:\n",
        "     - **Name**: `my-ilb-ip`\n",
        "     - **Static IP address**: `Let me choose`\n",
        "     - **Custom IP**: `10.10.30.5`\n",
        "     - **Port number**: `80`\n",
        "3. Haz clic en **Done**."
      ]
    },
    {
      "cell_type": "markdown",
      "metadata": {},
      "source": [
        "### Paso 3.4: Revisión y creación\n",
        "\n",
        "1. Haz clic en **Review and finalize**.\n",
        "2. Verifica las configuraciones de **Backend** y **Frontend**.\n",
        "3. Haz clic en **Create** y espera a que el ILB esté aprovisionado.\n",
        "\n",
        "**Explicación**:\n",
        "- El ILB distribuye tráfico interno a los **MIG** según el estado de los **health checks** y el algoritmo de balanceo.\n",
        "\n",
        "💡 **Contexto empresarial**: El ILB es como un sistema interno que distribuye solicitudes financieras entre diferentes servidores contables, asegurando alta disponibilidad sin exponer datos al exterior."
      ]
    },
    {
      "cell_type": "markdown",
      "metadata": {},
      "source": [
        "## 🧪 Tarea 4: Probar el Internal Load Balancer\n",
        "\n",
        "En esta tarea, probarás el ILB desde `utility-vm` para verificar que distribuye tráfico entre los **MIG**.\n",
        "\n",
        "1. Abre una sesión **SSH** en `utility-vm`.\n",
        "2. Ejecuta:"
      ]
    },
    {
      "cell_type": "code",
      "metadata": {},
      "source": [
        "curl 10.10.30.5"
      ],
      "execution_count": null,
      "outputs": []
    },
    {
      "cell_type": "markdown",
      "metadata": {},
      "source": [
        "**Explicación**:\n",
        "- `curl`: Envía una solicitud HTTP al puerto 80.\n",
        "- `10.10.30.5`: IP interna estática del frontend del ILB.\n",
        "- El ILB distribuye la solicitud a uno de los **MIG** (`instance-group-1` o `instance-group-2`), mostrando la página personalizada.\n",
        "\n",
        "3. Repite el comando varias veces. Deberías alternar entre respuestas de `instance-group-1` (zona A) y `instance-group-2` (zona B), confirmando el balanceo.\n",
        "\n",
        "💡 **Contexto empresarial**: Esto verifica que el sistema contable interno distribuye solicitudes correctamente entre diferentes servidores, asegurando continuidad y eficiencia."
      ]
    },
    {
      "cell_type": "markdown",
      "metadata": {},
      "source": [
        "## 📚 Conceptos teóricos clave\n",
        "\n",
        "| **Término**             | **Explicación para negocios**                                                                 |\n",
        "|-------------------------|---------------------------------------------------------------------------------------------|\n",
        "| **Internal Load Balancer (ILB)** | Un “distribuidor de tráfico” privado dentro de la red. Aísla servicios sensibles, mejora disponibilidad y reparte carga ➜ menos riesgo de caída y mejor uso de recursos. |\n",
        "| **Managed Instance Group (MIG)** | Conjunto automático de VMs idénticas. Simplifica escalamiento (↑/↓ instancias) controlando costos y manteniendo rendimiento. |\n",
        "| **Health Check**        | “Pulso de salud” que vigila cada VM. Si falla, el ILB deja de enviarle tráfico —garantizando continuidad del servicio. |\n",
        "| **Firewall Rules**      | Guardias de acceso. Permiten o bloquean tráfico según IP, puerto y protocolo. Mantienen la seguridad y reducen superficie de ataque. |\n",
        "| **Autoscaling por CPU** | Ajusta el número de VMs según uso real del procesador, optimizando gastos operativos. |\n",
        "\n",
        "## 🚀 Resumen\n",
        "\n",
        "💡 **Conclusión empresarial**: Configurar un **Internal Load Balancer** permite a las empresas mantener servicios internos, como sistemas contables, seguros y disponibles dentro de una red privada. Los **MIG** y **health checks** garantizan escalabilidad y continuidad, mientras que las reglas de firewall protegen contra accesos no autorizados, optimizando costos y cumpliendo con normativas de seguridad.\n",
        "\n",
        "Para más información, consulta la [Documentación de Google Cloud Load Balancing](https://cloud.google.com/load-balancing/docs) y la [Documentación de Google Cloud VPC](https://cloud.google.com/vpc/docs).\n",
        "\n",
        "**Nota sobre imágenes**: El documento menciona `image1.png` y `image2.png`, probablemente diagramas de red. Si necesitas que se analicen o incorporen, proporciona las imágenes o más detalles."
      ]
    }
  ],
  "metadata": {
    "kernelspec": {
      "display_name": "Bash",
      "language": "bash",
      "name": "bash"
    },
    "language_info": {
      "name": "bash"
    }
  },
  "nbformat": 4,
  "nbformat_minor": 5
}