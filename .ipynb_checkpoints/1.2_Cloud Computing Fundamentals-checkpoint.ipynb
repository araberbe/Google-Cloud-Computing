{
 "cells": [
  {
   "cell_type": "markdown",
   "id": "c172eadc",
   "metadata": {},
   "source": [
    "### 🚀 Introducción\n",
    "\n",
    "Bienvenido al Módulo 2 del curso Fundamentos de Computación en la Nube de Google:"
   ]
  },
  {
   "cell_type": "markdown",
   "id": "64169d88",
   "metadata": {},
   "source": [
    "Comienza con una plataforma sólida"
   ]
  },
  {
   "cell_type": "markdown",
   "id": "f3ab5ea8",
   "metadata": {},
   "source": [
    "En esta sección del curso, exploraremos las diferentes formas en que puedes interactuar con Google Cloud."
   ]
  },
  {
   "cell_type": "markdown",
   "id": "1ee6a82c",
   "metadata": {},
   "source": [
    "Esto significa que podrás:"
   ]
  },
  {
   "cell_type": "markdown",
   "id": "4bfada7a",
   "metadata": {},
   "source": [
    "### 🖥 Google Cloud Console (Consola)\n",
    "\n",
    "Explorar la consola de Google Cloud."
   ]
  },
  {
   "cell_type": "markdown",
   "id": "cc1c9117",
   "metadata": {},
   "source": [
    "Examinar cómo los proyectos son la base para habilitar y utilizar los servicios de Google Cloud."
   ]
  },
  {
   "cell_type": "markdown",
   "id": "d4bfa158",
   "metadata": {},
   "source": [
    "### 💰 Facturación en Google Cloud\n",
    "\n",
    "Identificar cómo funciona la facturación en Google Cloud."
   ]
  },
  {
   "cell_type": "markdown",
   "id": "04a55f73",
   "metadata": {},
   "source": [
    "### 🛠 Google Cloud SDK\n",
    "\n",
    "Instalar y configurar el SDK de Google Cloud."
   ]
  },
  {
   "cell_type": "markdown",
   "id": "283190e0",
   "metadata": {},
   "source": [
    "### 💻 Cloud Shell\n",
    "\n",
    "Reconocer los diferentes casos de uso de Cloud Shell y el editor de código de Cloud Shell."
   ]
  },
  {
   "cell_type": "markdown",
   "id": "b808ef66",
   "metadata": {},
   "source": [
    "### 🔗 Acceso a través de APIs\n",
    "\n",
    "Explorar cómo funcionan las API."
   ]
  },
  {
   "cell_type": "markdown",
   "id": "e082f393",
   "metadata": {},
   "source": [
    "Gestionar los servicios de Google Cloud desde un dispositivo móvil."
   ]
  },
  {
   "cell_type": "markdown",
   "id": "821e2686",
   "metadata": {},
   "source": [
    "### 🚀 Introducción\n",
    "\n",
    "Agenda del módulo"
   ]
  },
  {
   "cell_type": "markdown",
   "id": "d6ae6599",
   "metadata": {},
   "source": [
    "### 🚀 Introducción\n",
    "\n",
    "La agenda del módulo sigue los objetivos planteados. Comienza con la consola de Google Cloud y luego continúa para explorar:"
   ]
  },
  {
   "cell_type": "markdown",
   "id": "bcd367cb",
   "metadata": {},
   "source": [
    "Los proyectos."
   ]
  },
  {
   "cell_type": "markdown",
   "id": "8a007b57",
   "metadata": {},
   "source": [
    "### 💰 Facturación en Google Cloud\n",
    "\n",
    "Las opciones de facturación de Google Cloud."
   ]
  },
  {
   "cell_type": "markdown",
   "id": "62272ed9",
   "metadata": {},
   "source": [
    "### 🛠 Google Cloud SDK\n",
    "\n",
    "La instalación y configuración del SDK de Google Cloud."
   ]
  },
  {
   "cell_type": "markdown",
   "id": "8cc48c7d",
   "metadata": {},
   "source": [
    "### 💻 Cloud Shell\n",
    "\n",
    "Cloud Shell."
   ]
  },
  {
   "cell_type": "markdown",
   "id": "6e08451b",
   "metadata": {},
   "source": [
    "Dos laboratorios prácticos (hands-on labs)."
   ]
  },
  {
   "cell_type": "markdown",
   "id": "8c14dcf7",
   "metadata": {},
   "source": [
    "### 🔗 Acceso a través de APIs\n",
    "\n",
    "Las API de Google Cloud."
   ]
  },
  {
   "cell_type": "markdown",
   "id": "9a6f6a2e",
   "metadata": {},
   "source": [
    "### 📱 Aplicación móvil de Google Cloud\n",
    "\n",
    "La aplicación móvil de Google Cloud (Cloud Mobile App)."
   ]
  },
  {
   "cell_type": "markdown",
   "id": "56ed364b",
   "metadata": {},
   "source": [
    "### 🚀 Introducción\n",
    "\n",
    "Comencemos con la consola de Google Cloud"
   ]
  },
  {
   "cell_type": "markdown",
   "id": "6810a411",
   "metadata": {},
   "source": [
    "Existen en realidad cuatro formas de acceder e interactuar con Google Cloud:"
   ]
  },
  {
   "cell_type": "markdown",
   "id": "94cdb9db",
   "metadata": {},
   "source": [
    "### 🖥 Google Cloud Console (Consola)\n",
    "\n",
    "La consola de Google Cloud."
   ]
  },
  {
   "cell_type": "markdown",
   "id": "08d82630",
   "metadata": {},
   "source": [
    "### 🛠 Google Cloud SDK\n",
    "\n",
    "El SDK de Google Cloud y Cloud Shell."
   ]
  },
  {
   "cell_type": "markdown",
   "id": "307d1234",
   "metadata": {},
   "source": [
    "### 🔗 Acceso a través de APIs\n",
    "\n",
    "Las API."
   ]
  },
  {
   "cell_type": "markdown",
   "id": "c148085e",
   "metadata": {},
   "source": [
    "### 📱 Aplicación móvil de Google Cloud\n",
    "\n",
    "La aplicación móvil de Google Cloud (Cloud Mobile App)."
   ]
  },
  {
   "cell_type": "markdown",
   "id": "608062c5",
   "metadata": {},
   "source": [
    "Exploraremos las cuatro opciones en este módulo, pero nos centraremos en la consola para empezar."
   ]
  },
  {
   "cell_type": "markdown",
   "id": "d4fa0fd9",
   "metadata": {},
   "source": [
    "### 🖥 Google Cloud Console (Consola)\n",
    "\n",
    "La consola de Google Cloud, que es la Interfaz Gráfica de Usuario (GUI) de Google Cloud, te ayuda a desplegar, escalar y diagnosticar problemas de producción mediante una interfaz web sencilla."
   ]
  },
  {
   "cell_type": "markdown",
   "id": "c992012f",
   "metadata": {},
   "source": [
    "Con la consola puedes:"
   ]
  },
  {
   "cell_type": "markdown",
   "id": "31f0d4e8",
   "metadata": {},
   "source": [
    "Encontrar fácilmente tus recursos."
   ]
  },
  {
   "cell_type": "markdown",
   "id": "f4954c5e",
   "metadata": {},
   "source": [
    "Verificar el estado de tus recursos."
   ]
  },
  {
   "cell_type": "markdown",
   "id": "e881c594",
   "metadata": {},
   "source": [
    "Tener control total de gestión sobre ellos."
   ]
  },
  {
   "cell_type": "markdown",
   "id": "31266270",
   "metadata": {},
   "source": [
    "Establecer presupuestos para controlar cuánto gastas."
   ]
  },
  {
   "cell_type": "markdown",
   "id": "3c709638",
   "metadata": {},
   "source": [
    "Además, la consola ofrece una función de búsqueda para encontrar rápidamente recursos y conectar a instancias a través de SSH (Secure Shell Protocol) directamente desde el navegador."
   ]
  },
  {
   "cell_type": "markdown",
   "id": "cb9d19a4",
   "metadata": {},
   "source": [
    "### 🖥 Google Cloud Console (Consola)\n",
    "\n",
    "La consola de Google Cloud y la organización de recursos"
   ]
  },
  {
   "cell_type": "markdown",
   "id": "d793b8a8",
   "metadata": {},
   "source": [
    "La consola se utiliza para acceder y usar recursos."
   ]
  },
  {
   "cell_type": "markdown",
   "id": "688ad8ad",
   "metadata": {},
   "source": [
    "### 📂 Jerarquía de Recursos\n",
    "\n",
    "Los recursos están organizados en proyectos.  Para comprender esta organización, exploremos dónde encajan los proyectos dentro de la jerarquía de recursos de Google Cloud."
   ]
  },
  {
   "cell_type": "markdown",
   "id": "3fbf3c69",
   "metadata": {},
   "source": [
    "Esta jerarquía está compuesta por cuatro niveles, de abajo hacia arriba:"
   ]
  },
  {
   "cell_type": "markdown",
   "id": "d82792ec",
   "metadata": {},
   "source": [
    "Recursos: Representan máquinas virtuales, buckets de Cloud Storage, tablas en BigQuery, o cualquier otro servicio en Google Cloud."
   ]
  },
  {
   "cell_type": "markdown",
   "id": "802313b6",
   "metadata": {},
   "source": [
    "Proyectos: Agrupan recursos. Cada recurso pertenece exactamente a un proyecto."
   ]
  },
  {
   "cell_type": "markdown",
   "id": "5407c0fd",
   "metadata": {},
   "source": [
    "Carpetas: Pueden agrupar proyectos y subcarpetas."
   ]
  },
  {
   "cell_type": "markdown",
   "id": "bf8076dd",
   "metadata": {},
   "source": [
    "Nodo de organización: Es el nivel superior que abarca todos los proyectos, carpetas y recursos de la organización."
   ]
  },
  {
   "cell_type": "markdown",
   "id": "46e5701a",
   "metadata": {},
   "source": [
    "### 📂 Jerarquía de Recursos\n",
    "\n",
    "Nivel de Proyectos"
   ]
  },
  {
   "cell_type": "markdown",
   "id": "cd7aba3e",
   "metadata": {},
   "source": [
    "Pasemos más tiempo en el segundo nivel: los proyectos. Los proyectos son la base para:"
   ]
  },
  {
   "cell_type": "markdown",
   "id": "57157adb",
   "metadata": {},
   "source": [
    "Habilitar y usar servicios de Google Cloud."
   ]
  },
  {
   "cell_type": "markdown",
   "id": "b1633a8e",
   "metadata": {},
   "source": [
    "### 🔗 Acceso a través de APIs\n",
    "\n",
    "Gestionar APIs."
   ]
  },
  {
   "cell_type": "markdown",
   "id": "857525d8",
   "metadata": {},
   "source": [
    "### 💰 Facturación en Google Cloud\n",
    "\n",
    "Habilitar la facturación."
   ]
  },
  {
   "cell_type": "markdown",
   "id": "7b3277f8",
   "metadata": {},
   "source": [
    "Agregar o eliminar colaboradores."
   ]
  },
  {
   "cell_type": "markdown",
   "id": "0afc6618",
   "metadata": {},
   "source": [
    "Activar otros servicios de Google."
   ]
  },
  {
   "cell_type": "markdown",
   "id": "9efd8725",
   "metadata": {},
   "source": [
    "Cada proyecto:"
   ]
  },
  {
   "cell_type": "markdown",
   "id": "60c0a351",
   "metadata": {},
   "source": [
    "Es un compartimiento separado."
   ]
  },
  {
   "cell_type": "markdown",
   "id": "f6343fc8",
   "metadata": {},
   "source": [
    "Se gestiona y factura de forma independiente."
   ]
  },
  {
   "cell_type": "markdown",
   "id": "28221b39",
   "metadata": {},
   "source": [
    "Puede tener diferentes propietarios y usuarios."
   ]
  },
  {
   "cell_type": "markdown",
   "id": "5f4c6f7f",
   "metadata": {},
   "source": [
    "Cada proyecto tiene tres atributos identificadores:"
   ]
  },
  {
   "cell_type": "markdown",
   "id": "4b8eeee2",
   "metadata": {},
   "source": [
    "ID del proyecto: Identificador único global asignado por Google que no puede cambiarse (inmutable)."
   ]
  },
  {
   "cell_type": "markdown",
   "id": "c4821e2b",
   "metadata": {},
   "source": [
    "Nombre del proyecto: Definido por el usuario, no tiene que ser único y puede cambiarse en cualquier momento."
   ]
  },
  {
   "cell_type": "markdown",
   "id": "4c4933ca",
   "metadata": {},
   "source": [
    "Número del proyecto: Número único generado automáticamente por Google, utilizado internamente para seguimiento de recursos (no se profundizará en este curso)."
   ]
  },
  {
   "cell_type": "markdown",
   "id": "5c950cbe",
   "metadata": {},
   "source": [
    "¿Cómo gestionar proyectos?"
   ]
  },
  {
   "cell_type": "markdown",
   "id": "930ab944",
   "metadata": {},
   "source": [
    "Google Cloud proporciona el Resource Manager, una herramienta que permite:"
   ]
  },
  {
   "cell_type": "markdown",
   "id": "9b822238",
   "metadata": {},
   "source": [
    "Obtener una lista de proyectos asociados a una cuenta."
   ]
  },
  {
   "cell_type": "markdown",
   "id": "88b97c7e",
   "metadata": {},
   "source": [
    "Crear nuevos proyectos."
   ]
  },
  {
   "cell_type": "markdown",
   "id": "d18a2519",
   "metadata": {},
   "source": [
    "Actualizar proyectos existentes."
   ]
  },
  {
   "cell_type": "markdown",
   "id": "8e49351e",
   "metadata": {},
   "source": [
    "Eliminar proyectos."
   ]
  },
  {
   "cell_type": "markdown",
   "id": "81fdaf42",
   "metadata": {},
   "source": [
    "Recuperar proyectos eliminados."
   ]
  },
  {
   "cell_type": "markdown",
   "id": "01cefb4d",
   "metadata": {},
   "source": [
    "### 🔗 Acceso a través de APIs\n",
    "\n",
    "El Resource Manager puede ser accedido a través de la API RPC y la API REST."
   ]
  },
  {
   "cell_type": "markdown",
   "id": "1cac8811",
   "metadata": {},
   "source": [
    "Nivel de Carpetas"
   ]
  },
  {
   "cell_type": "markdown",
   "id": "916ca506",
   "metadata": {},
   "source": [
    "El tercer nivel de la jerarquía son las carpetas. Permiten:"
   ]
  },
  {
   "cell_type": "markdown",
   "id": "664679cd",
   "metadata": {},
   "source": [
    "Agrupar proyectos dentro de una organización en una jerarquía."
   ]
  },
  {
   "cell_type": "markdown",
   "id": "9d7c214e",
   "metadata": {},
   "source": [
    "Delegar derechos administrativos a distintos equipos, permitiéndoles trabajar de manera independiente."
   ]
  },
  {
   "cell_type": "markdown",
   "id": "13cb8802",
   "metadata": {},
   "source": [
    "Por ejemplo, una organización puede tener múltiples departamentos, y cada uno puede gestionar sus propios recursos a través de carpetas."
   ]
  },
  {
   "cell_type": "markdown",
   "id": "ce1b843e",
   "metadata": {},
   "source": [
    "Nota: Para usar carpetas, debes tener un nodo de organización, que es el recurso de más alto nivel en la jerarquía de Google Cloud.Todo (proyectos, carpetas, recursos) se organiza debajo de este nodo."
   ]
  },
  {
   "cell_type": "markdown",
   "id": "2b836ff4",
   "metadata": {},
   "source": [
    "### 💰 Facturación en Google Cloud\n",
    "\n",
    "Facturación de Google Cloud"
   ]
  },
  {
   "cell_type": "markdown",
   "id": "a5ac1fe5",
   "metadata": {},
   "source": [
    "### 💰 Facturación en Google Cloud\n",
    "\n",
    "La facturación se establece a nivel de proyecto. Esto significa que cuando definís un proyecto en Google Cloud, le vinculás una cuenta de facturación. Esta cuenta de facturación es donde vas a configurar toda tu información de pago, incluyendo la opción de pago que elijas."
   ]
  },
  {
   "cell_type": "markdown",
   "id": "22538bed",
   "metadata": {},
   "source": [
    "### 💰 Facturación en Google Cloud\n",
    "\n",
    "Una cuenta de facturación puede estar vinculada a cero o más proyectos. Sin embargo, los proyectos que no estén vinculados a una cuenta de facturación solo podrán utilizar los servicios gratuitos de Google Cloud."
   ]
  },
  {
   "cell_type": "markdown",
   "id": "614ebb4a",
   "metadata": {},
   "source": [
    "### 💰 Facturación en Google Cloud\n",
    "\n",
    "Las cuentas de facturación se cobran automáticamente y se facturan cada mes o cada vez que se alcanza un límite de gasto establecido."
   ]
  },
  {
   "cell_type": "markdown",
   "id": "764b6ca1",
   "metadata": {},
   "source": [
    "### 💰 Facturación en Google Cloud\n",
    "\n",
    "Se pueden usar subcuentas de facturación para separar la facturación por proyecto. Algunos clientes de Google Cloud que revenden servicios de Google Cloud utilizan subcuentas para cada uno de sus propios clientes."
   ]
  },
  {
   "cell_type": "markdown",
   "id": "07fb8dcc",
   "metadata": {},
   "source": [
    "Seguramente te preguntes: \"¿Cómo puedo asegurarme de no generar accidentalmente una factura muy alta en Google Cloud?\" Google Cloud ofrece varias herramientas para ayudarte:"
   ]
  },
  {
   "cell_type": "markdown",
   "id": "7b45920c",
   "metadata": {},
   "source": [
    "Definir presupuestos"
   ]
  },
  {
   "cell_type": "markdown",
   "id": "b0282b92",
   "metadata": {},
   "source": [
    "### 💰 Facturación en Google Cloud\n",
    "\n",
    "Se pueden establecer presupuestos tanto a nivel de cuenta de facturación como de proyecto.\n",
    "Un presupuesto puede ser un límite fijo o puede estar vinculado a otra métrica, como un porcentaje del gasto del mes anterior."
   ]
  },
  {
   "cell_type": "markdown",
   "id": "56296c69",
   "metadata": {},
   "source": [
    "Crear alertas"
   ]
  },
  {
   "cell_type": "markdown",
   "id": "93ea03b8",
   "metadata": {},
   "source": [
    "Podés configurar alertas para que te notifiquen cuando los costos se acerquen al límite de tu presupuesto. Por ejemplo, si tu presupuesto es de $20.000 y configurás una alerta al 90%, recibirás una notificación cuando tus gastos lleguen a $18.000.\n",
    "Normalmente, las alertas se establecen en los niveles de 50%, 90% y 100%, aunque también se pueden personalizar."
   ]
  },
  {
   "cell_type": "markdown",
   "id": "c6a9e290",
   "metadata": {},
   "source": [
    "### 🖥 Google Cloud Console (Consola)\n",
    "\n",
    "Informes\n",
    "Hay una herramienta visual dentro de la consola de Google Cloud que permite supervisar el gasto por proyecto o por servicio."
   ]
  },
  {
   "cell_type": "markdown",
   "id": "92ae8169",
   "metadata": {},
   "source": [
    "Cuotas\n",
    "Google Cloud también implementa cuotas para evitar el consumo excesivo de recursos, ya sea por error o por un ataque malicioso, protegiendo tanto a los usuarios como a la comunidad de Google Cloud."
   ]
  },
  {
   "cell_type": "markdown",
   "id": "2250536d",
   "metadata": {},
   "source": [
    "Existen dos tipos de cuotas:"
   ]
  },
  {
   "cell_type": "markdown",
   "id": "7f62c2d9",
   "metadata": {},
   "source": [
    "### 🔗 Acceso a través de APIs\n",
    "\n",
    "Cuotas de tasa (Rate quotas): Se restablecen después de un tiempo determinado.\n",
    "Ejemplo: por defecto, el servicio GKE limita a 1.000 llamadas a su API desde cada proyecto de Google Cloud cada 100 segundos.Pasados esos 100 segundos, el límite se restablece."
   ]
  },
  {
   "cell_type": "markdown",
   "id": "4de458c0",
   "metadata": {},
   "source": [
    "Cuotas de asignación (Allocation quotas): Limitan la cantidad de recursos que podés tener en tus proyectos. Ejemplo: por defecto, cada proyecto de Google Cloud puede tener un máximo de 5 redes de nube privada virtual (VPCs)."
   ]
  },
  {
   "cell_type": "markdown",
   "id": "0fe3b0c3",
   "metadata": {},
   "source": [
    "Aunque todos los proyectos comienzan con las mismas cuotas, podés solicitar aumentarlas contactando al soporte de Google Cloud."
   ]
  },
  {
   "cell_type": "markdown",
   "id": "0f4740fe",
   "metadata": {},
   "source": [
    "Estimador de costos:"
   ]
  },
  {
   "cell_type": "markdown",
   "id": "1c933534",
   "metadata": {},
   "source": [
    "Si te interesa estimar el costo de tus servicios en Google Cloud, podés usar la Calculadora de precios en:"
   ]
  },
  {
   "cell_type": "markdown",
   "id": "ec64393f",
   "metadata": {},
   "source": [
    "### 🛠 Google Cloud SDK\n",
    "\n",
    "Exploración del Cloud SDK de Google"
   ]
  },
  {
   "cell_type": "markdown",
   "id": "3082250d",
   "metadata": {},
   "source": [
    "### 🛠 Google Cloud SDK\n",
    "\n",
    "El Cloud Software Development Kit (SDK) permite a los usuarios ejecutar herramientas de línea de comandos de Google Cloud desde una computadora local."
   ]
  },
  {
   "cell_type": "markdown",
   "id": "f64c6be4",
   "metadata": {},
   "source": [
    "### 🛠 Google Cloud SDK\n",
    "\n",
    "El SDK es un conjunto de herramientas de línea de comandos utilizadas para gestionar recursos y aplicaciones alojadas en Google Cloud."
   ]
  },
  {
   "cell_type": "markdown",
   "id": "9f0ae118",
   "metadata": {},
   "source": [
    "Incluye:"
   ]
  },
  {
   "cell_type": "markdown",
   "id": "653683b8",
   "metadata": {},
   "source": [
    "gcloud CLI: la principal interfaz de línea de comandos para productos y servicios de Google Cloud."
   ]
  },
  {
   "cell_type": "markdown",
   "id": "6e689528",
   "metadata": {},
   "source": [
    "gcloud storage: permite acceder a Cloud Storage mediante línea de comandos."
   ]
  },
  {
   "cell_type": "markdown",
   "id": "76e3c85f",
   "metadata": {},
   "source": [
    "bq: herramienta de línea de comandos para trabajar con BigQuery."
   ]
  },
  {
   "cell_type": "markdown",
   "id": "2e447e8f",
   "metadata": {},
   "source": [
    "### 🛠 Google Cloud SDK\n",
    "\n",
    "Instalación del SDK de Google Cloud"
   ]
  },
  {
   "cell_type": "markdown",
   "id": "056b5f84",
   "metadata": {},
   "source": [
    "### 🛠 Google Cloud SDK\n",
    "\n",
    "Al instalar el SDK, todas las herramientas quedan ubicadas en el directorio bin."
   ]
  },
  {
   "cell_type": "markdown",
   "id": "f5f8c001",
   "metadata": {},
   "source": [
    "Para instalarlo:"
   ]
  },
  {
   "cell_type": "markdown",
   "id": "df92f1ca",
   "metadata": {},
   "source": [
    "Ir a ."
   ]
  },
  {
   "cell_type": "markdown",
   "id": "db55ad3a",
   "metadata": {},
   "source": [
    "### 🛠 Google Cloud SDK\n",
    "\n",
    "Seleccionar el sistema operativo correspondiente para descargar el SDK."
   ]
  },
  {
   "cell_type": "markdown",
   "id": "8a2684fb",
   "metadata": {},
   "source": [
    "Seguir las instrucciones específicas para el sistema operativo."
   ]
  },
  {
   "cell_type": "markdown",
   "id": "d1249688",
   "metadata": {},
   "source": [
    "Configuración posterior a la instalación"
   ]
  },
  {
   "cell_type": "markdown",
   "id": "f83a292b",
   "metadata": {},
   "source": [
    "Luego de instalar, es necesario configurar el entorno de Google Cloud ejecutando el comando: gcloud init."
   ]
  },
  {
   "cell_type": "markdown",
   "id": "23d88ea2",
   "metadata": {},
   "source": [
    "El sistema solicitará:"
   ]
  },
  {
   "cell_type": "markdown",
   "id": "24fc45d1",
   "metadata": {},
   "source": [
    "Credenciales de inicio de sesión."
   ]
  },
  {
   "cell_type": "markdown",
   "id": "04849bca",
   "metadata": {},
   "source": [
    "Proyecto predeterminado."
   ]
  },
  {
   "cell_type": "markdown",
   "id": "f53b3098",
   "metadata": {},
   "source": [
    "Región y zona predeterminadas."
   ]
  },
  {
   "cell_type": "markdown",
   "id": "09666830",
   "metadata": {},
   "source": [
    "### 💻 Cloud Shell\n",
    "\n",
    "Acceso e interacción con Google Cloud a través de Cloud Shell"
   ]
  },
  {
   "cell_type": "markdown",
   "id": "74aa37f6",
   "metadata": {},
   "source": [
    "### 💻 Cloud Shell\n",
    "\n",
    "¿Qué es Cloud Shell?"
   ]
  },
  {
   "cell_type": "markdown",
   "id": "25804274",
   "metadata": {},
   "source": [
    "Proporciona acceso a los recursos de Google Cloud mediante línea de comandos directamente desde el navegador."
   ]
  },
  {
   "cell_type": "markdown",
   "id": "756e26a0",
   "metadata": {},
   "source": [
    "Es una máquina virtual basada en Debian, con un directorio personal persistente de 5 GB."
   ]
  },
  {
   "cell_type": "markdown",
   "id": "3d954601",
   "metadata": {},
   "source": [
    "### 💻 Cloud Shell\n",
    "\n",
    "Características de Cloud Shell"
   ]
  },
  {
   "cell_type": "markdown",
   "id": "ef41de01",
   "metadata": {},
   "source": [
    "Permite administrar proyectos y recursos de Google Cloud fácilmente."
   ]
  },
  {
   "cell_type": "markdown",
   "id": "9a2babe1",
   "metadata": {},
   "source": [
    "### 🛠 Google Cloud SDK\n",
    "\n",
    "El SDK de Google Cloud (gcloud), y otras utilidades, siempre están instalados, actualizados y autenticados."
   ]
  },
  {
   "cell_type": "markdown",
   "id": "b538434d",
   "metadata": {},
   "source": [
    "### 💻 Cloud Shell\n",
    "\n",
    "Cómo iniciar Cloud Shell"
   ]
  },
  {
   "cell_type": "markdown",
   "id": "d6807b97",
   "metadata": {},
   "source": [
    "Navegar a ."
   ]
  },
  {
   "cell_type": "markdown",
   "id": "0627ce2c",
   "metadata": {},
   "source": [
    "### 💻 Cloud Shell\n",
    "\n",
    "Hacer clic en el icono de \"Activar Cloud Shell\" en la barra de herramientas."
   ]
  },
  {
   "cell_type": "markdown",
   "id": "b2fdcd8f",
   "metadata": {},
   "source": [
    "### 💻 Cloud Shell\n",
    "\n",
    "Esto abrirá la terminal de Cloud Shell en la parte inferior de la ventana."
   ]
  },
  {
   "cell_type": "markdown",
   "id": "2c3b23f7",
   "metadata": {},
   "source": [
    "### 💻 Cloud Shell\n",
    "\n",
    "Uso del Cloud Shell Code Editor"
   ]
  },
  {
   "cell_type": "markdown",
   "id": "4d2a79f2",
   "metadata": {},
   "source": [
    "### 💻 Cloud Shell\n",
    "\n",
    "Desde la terminal de Cloud Shell, puedes lanzar el editor de código."
   ]
  },
  {
   "cell_type": "markdown",
   "id": "461308a3",
   "metadata": {},
   "source": [
    "El editor se abre en una nueva página del navegador."
   ]
  },
  {
   "cell_type": "markdown",
   "id": "c30a39d8",
   "metadata": {},
   "source": [
    "### 💻 Cloud Shell\n",
    "\n",
    "Permite editar archivos dentro del entorno de Cloud Shell en tiempo real."
   ]
  },
  {
   "cell_type": "markdown",
   "id": "72fa8c80",
   "metadata": {},
   "source": [
    "Es ideal para aplicaciones basadas en código o cargas de trabajo basadas en contenedores, ya que facilita la edición de archivos sin necesidad de descargar o subir cambios."
   ]
  },
  {
   "cell_type": "markdown",
   "id": "901ee6b8",
   "metadata": {},
   "source": [
    "Alternativa"
   ]
  },
  {
   "cell_type": "markdown",
   "id": "32092a7e",
   "metadata": {},
   "source": [
    "### 💻 Cloud Shell\n",
    "\n",
    "También puedes utilizar editores de texto tradicionales desde el símbolo del sistema de Cloud Shell."
   ]
  },
  {
   "cell_type": "markdown",
   "id": "ec2de149",
   "metadata": {},
   "source": [
    "### 🔗 Acceso a través de APIs\n",
    "\n",
    "Acceso a Google Cloud mediante APIs"
   ]
  },
  {
   "cell_type": "markdown",
   "id": "07374561",
   "metadata": {},
   "source": [
    "### 🔗 Acceso a través de APIs\n",
    "\n",
    "¿Qué es una API?"
   ]
  },
  {
   "cell_type": "markdown",
   "id": "6af014c8",
   "metadata": {},
   "source": [
    "### 🔗 Acceso a través de APIs\n",
    "\n",
    "La tercera forma de acceder a Google Cloud es mediante interfaces de programación de aplicaciones o APIs.\n",
    "La implementación de un servicio de software puede ser compleja y modificable. Si cada servicio tuviera que codificarse para cada implementación, el resultado sería frágil y propenso a errores."
   ]
  },
  {
   "cell_type": "markdown",
   "id": "2da61d3c",
   "metadata": {},
   "source": [
    "### 🔗 Acceso a través de APIs\n",
    "\n",
    "Por esta razón, los desarrolladores estructuran el software de modo que presente una interfaz limpia y definida que oculte detalles innecesarios. Luego, documentan esa interfaz.\n",
    "Esa interfaz es lo que se conoce como una API (Application Programming Interface)."
   ]
  },
  {
   "cell_type": "markdown",
   "id": "98443367",
   "metadata": {},
   "source": [
    "### 🔗 Acceso a través de APIs\n",
    "\n",
    "Ventajas de usar APIs"
   ]
  },
  {
   "cell_type": "markdown",
   "id": "f3d8b34b",
   "metadata": {},
   "source": [
    "### 🔗 Acceso a través de APIs\n",
    "\n",
    "La implementación subyacente puede cambiar siempre que la interfaz se mantenga estable, ya que esos cambios no afectan a otras partes del software que utilizan la API.\n",
    "Esto permite una mayor flexibilidad y estabilidad en el desarrollo de aplicaciones."
   ]
  },
  {
   "cell_type": "markdown",
   "id": "3b1df9dd",
   "metadata": {},
   "source": [
    "### 🔗 Acceso a través de APIs\n",
    "\n",
    "APIs en Google Cloud"
   ]
  },
  {
   "cell_type": "markdown",
   "id": "3aa2e8c5",
   "metadata": {},
   "source": [
    "### 🖥 Google Cloud Console (Consola)\n",
    "\n",
    "Los servicios que componen Google Cloud proporcionan APIs que permiten controlar dichos servicios directamente desde tu código.\n",
    "Además, la consola de Google Cloud incluye una herramienta llamada Explorador de APIs de Google, que muestra:"
   ]
  },
  {
   "cell_type": "markdown",
   "id": "bec06a55",
   "metadata": {},
   "source": [
    "### 🔗 Acceso a través de APIs\n",
    "\n",
    "Las APIs disponibles."
   ]
  },
  {
   "cell_type": "markdown",
   "id": "b660c959",
   "metadata": {},
   "source": [
    "### 🔗 Acceso a través de APIs\n",
    "\n",
    "Las versiones de cada API."
   ]
  },
  {
   "cell_type": "markdown",
   "id": "fc3f22e2",
   "metadata": {},
   "source": [
    "¿Debes programar desde cero?"
   ]
  },
  {
   "cell_type": "markdown",
   "id": "4a29bf61",
   "metadata": {},
   "source": [
    "### 🔗 Acceso a través de APIs\n",
    "\n",
    "Supongamos que ya exploraste una API y deseas compilar una aplicación que la utilice.\n",
    "¿Debes comenzar la programación desde cero? No."
   ]
  },
  {
   "cell_type": "markdown",
   "id": "deb0ccb9",
   "metadata": {},
   "source": [
    "### 🔗 Acceso a través de APIs\n",
    "\n",
    "Google proporciona bibliotecas cliente para las APIs de Google y de Google Cloud en muchos lenguajes populares, lo que facilita la integración desde tu código."
   ]
  },
  {
   "cell_type": "markdown",
   "id": "e3613c82",
   "metadata": {},
   "source": [
    "Lenguajes compatibles"
   ]
  },
  {
   "cell_type": "markdown",
   "id": "378c050a",
   "metadata": {},
   "source": [
    "Actualmente, los lenguajes representados en estas bibliotecas son:"
   ]
  },
  {
   "cell_type": "markdown",
   "id": "c0eb23da",
   "metadata": {},
   "source": [
    "Java-Python-PHP-C#-Go-Node.js-Ruby-C++-"
   ]
  },
  {
   "cell_type": "markdown",
   "id": "4162ef78",
   "metadata": {},
   "source": [
    "### 📱 Aplicación móvil de Google Cloud\n",
    "\n",
    "Acceso a Google Cloud mediante la aplicación móvil"
   ]
  },
  {
   "cell_type": "markdown",
   "id": "4483fbaf",
   "metadata": {},
   "source": [
    "Introducción"
   ]
  },
  {
   "cell_type": "markdown",
   "id": "ea4986a3",
   "metadata": {},
   "source": [
    "La cuarta y última forma de acceder a Google Cloud es mediante la aplicación para dispositivos móviles en la nube. Esta app te permite administrar servicios que se ejecutan en Google Cloud directamente desde tu dispositivo móvil. Es un recurso conveniente y no tiene costo adicional."
   ]
  },
  {
   "cell_type": "markdown",
   "id": "ba55b686",
   "metadata": {},
   "source": [
    "Funcionalidades principales"
   ]
  },
  {
   "cell_type": "markdown",
   "id": "0578c81e",
   "metadata": {},
   "source": [
    "Gestión de instancias"
   ]
  },
  {
   "cell_type": "markdown",
   "id": "07767d04",
   "metadata": {},
   "source": [
    "Puedes iniciar y detener instancias de Compute Engine."
   ]
  },
  {
   "cell_type": "markdown",
   "id": "e792f780",
   "metadata": {},
   "source": [
    "Es posible conectarte a estas instancias mediante SSH y visualizar sus registros."
   ]
  },
  {
   "cell_type": "markdown",
   "id": "f0d5e614",
   "metadata": {},
   "source": [
    "También permite detener e iniciar instancias de Cloud SQL."
   ]
  },
  {
   "cell_type": "markdown",
   "id": "47e2da21",
   "metadata": {},
   "source": [
    "Administración de App Engine"
   ]
  },
  {
   "cell_type": "markdown",
   "id": "c8d21a19",
   "metadata": {},
   "source": [
    "Gestiona aplicaciones implementadas en App Engine."
   ]
  },
  {
   "cell_type": "markdown",
   "id": "6ef1ccf9",
   "metadata": {},
   "source": [
    "Puedes visualizar errores."
   ]
  },
  {
   "cell_type": "markdown",
   "id": "7d099930",
   "metadata": {},
   "source": [
    "Revertir implementaciones."
   ]
  },
  {
   "cell_type": "markdown",
   "id": "5d587afd",
   "metadata": {},
   "source": [
    "Modificar las divisiones de tráfico entre versiones."
   ]
  },
  {
   "cell_type": "markdown",
   "id": "a4b8c01c",
   "metadata": {},
   "source": [
    "Supervisión y métricas"
   ]
  },
  {
   "cell_type": "markdown",
   "id": "1ed4103d",
   "metadata": {},
   "source": [
    "### 💰 Facturación en Google Cloud\n",
    "\n",
    "La app proporciona datos de facturación actualizados para los proyectos."
   ]
  },
  {
   "cell_type": "markdown",
   "id": "dc5cb781",
   "metadata": {},
   "source": [
    "Recibirás alertas en caso de que alguno de los proyectos exceda su presupuesto."
   ]
  },
  {
   "cell_type": "markdown",
   "id": "9f5e04f9",
   "metadata": {},
   "source": [
    "Puedes configurar gráficos personalizables que muestren métricas clave como:"
   ]
  },
  {
   "cell_type": "markdown",
   "id": "66ab7b78",
   "metadata": {},
   "source": [
    "Uso de CPU."
   ]
  },
  {
   "cell_type": "markdown",
   "id": "8816eca3",
   "metadata": {},
   "source": [
    "Uso de red."
   ]
  },
  {
   "cell_type": "markdown",
   "id": "aea5be05",
   "metadata": {},
   "source": [
    "Solicitudes por segundo."
   ]
  },
  {
   "cell_type": "markdown",
   "id": "90adb1f3",
   "metadata": {},
   "source": [
    "Errores del servidor."
   ]
  },
  {
   "cell_type": "markdown",
   "id": "8efbc2a4",
   "metadata": {},
   "source": [
    "Incidentes y alertas"
   ]
  },
  {
   "cell_type": "markdown",
   "id": "d96ecbda",
   "metadata": {},
   "source": [
    "La aplicación también ofrece funcionalidades para la administración de incidentes y la gestión de alertas."
   ]
  }
 ],
 "metadata": {},
 "nbformat": 4,
 "nbformat_minor": 5
}
