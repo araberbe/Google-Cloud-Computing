{
 "cells": [
  {
   "cell_type": "markdown",
   "id": "b6d324da",
   "metadata": {},
   "source": [
    "# 📊 Laboratorio Dataprep: Inicio Rápido (Qwik Start)\n",
    "\n",
    "**Dataprep by Alteryx Designer Cloud (Trifacta)** es un servicio sin servidor que permite explorar, limpiar y preparar datos de forma visual y sin necesidad de escribir código. En este laboratorio, utilizarás **Dataprep** para importar conjuntos de datos, corregir inconsistencias, transformar registros y realizar un **join** entre datasets, todo ello con un enfoque intuitivo y escalable.\n",
    "\n",
    "💡 **Beneficio empresarial**: **Dataprep** automatiza la preparación de datos financieros, como registros de contribuciones de campaña, reduciendo el tiempo y los errores asociados con la limpieza manual. Esto permite a los equipos contables enfocarse en análisis estratégicos, mejorando la eficiencia y el cumplimiento normativo.\n",
    "\n",
    "Para más información, consulta la [Documentación de Google Cloud Dataprep](https://cloud.google.com/dataprep/docs).\n",
    "\n",
    "## 🎯 Objetivos\n",
    "- 📥 Importar datos desde **Cloud Storage**.\n",
    "- 🩹 Corregir datos incongruentes.\n",
    "- 🔄 Transformar datos mediante recetas.\n",
    "- 🔗 Unir (**join**) datasets para análisis combinados."
   ]
  },
  {
   "cell_type": "markdown",
   "id": "f267d524",
   "metadata": {},
   "source": [
    "## 🪣 Tarea 1: Crear un bucket de Cloud Storage\n",
    "\n",
    "En esta tarea, crearás un bucket en **Cloud Storage** para almacenar datos que usará **Dataprep**.\n",
    "\n",
    "1. Ve a **Navigation menu** ≡ > **Cloud Storage** > **Buckets**.\n",
    "2. Haz clic en **Create bucket**.\n",
    "3. Asigna un **nombre único** al bucket (consulta las [Bucket naming guidelines](https://cloud.google.com/storage/docs/naming-buckets) si es necesario).\n",
    "4. Mantén los valores por defecto.\n",
    "5. Desmarca la opción **Enforce public access prevention on this bucket**.\n",
    "6. Haz clic en **Create**.\n",
    "7. Anota el nombre del bucket, ya que lo necesitarás más adelante.\n",
    "\n",
    "**Explicación**:\n",
    "- El bucket actúa como un repositorio central para los datos que procesarás con **Dataprep**.\n",
    "\n",
    "💡 **Contexto empresarial**: Un bucket es como un archivo contable digital donde se almacenan registros financieros de forma segura y accesible para análisis.\n",
    "\n",
    "🔎 **Verificación**: Haz clic en **Check my progress** para validar la creación del bucket."
   ]
  },
  {
   "cell_type": "markdown",
   "id": "e58b17b9",
   "metadata": {},
   "source": [
    "## ⚙️ Tarea 2: Inicializar Cloud Dataprep\n",
    "\n",
    "En esta tarea, activarás **Dataprep** y configurarás los permisos necesarios.\n",
    "\n",
    "### Paso A: Crear identidad de servicio\n",
    "\n",
    "1. En **Cloud Shell**, ejecuta:"
   ]
  },
  {
   "cell_type": "code",
   "execution_count": null,
   "id": "483a192c",
   "metadata": {},
   "outputs": [],
   "source": [
    "gcloud beta services identity create --service=dataprep.googleapis.com"
   ]
  },
  {
   "cell_type": "markdown",
   "id": "92282f99",
   "metadata": {},
   "source": [
    "**Desglose del comando**:\n",
    "- `gcloud`: Interfaz de línea de comandos de Google Cloud.\n",
    "- `beta`: Indica que se usa una funcionalidad en versión beta.\n",
    "- `services identity create`: Crea una cuenta de servicio gestionada para una API.\n",
    "- `--service=dataprep.googleapis.com`: Especifica la API de **Dataprep**.\n",
    "\n",
    "**Explicación**:\n",
    "- La cuenta de servicio permite que **Dataprep** acceda de forma segura a los recursos del proyecto, como el bucket de **Cloud Storage**.\n",
    "\n",
    "💡 **Contexto empresarial**: La cuenta de servicio es como un empleado autorizado que accede a los registros financieros de forma segura para procesarlos."
   ]
  },
  {
   "cell_type": "markdown",
   "id": "de961beb",
   "metadata": {},
   "source": [
    "### Paso B: Activar Dataprep vía interfaz\n",
    "\n",
    "1. Ve a **Navigation menu** ≡ > **View All Products** > **Analytics** > **Alteryx Designer Cloud**.\n",
    "2. Marca ✔️ para aceptar los **Términos de Servicio** > **Accept**.\n",
    "3. Marca ✔️ para autorizar compartir tu información con Trifacta > **Agree and Continue**.\n",
    "4. Haz clic en **Allow** para que Trifacta acceda a los datos del proyecto.\n",
    "5. Selecciona tu usuario estudiante para iniciar sesión en **Dataprep** > **Allow**.\n",
    "6. Acepta los **Términos de Trifacta** > **Accept**.\n",
    "7. Haz clic en **Continue** en la pantalla **First time setup** para crear la ubicación de almacenamiento por defecto.\n",
    "8. **Dataprep** se abrirá.\n",
    "\n",
    "**Explicación**:\n",
    "- Estos pasos configuran los permisos y la integración de **Dataprep** con tu proyecto de Google Cloud.\n",
    "\n",
    "💡 **Contexto empresarial**: Este proceso es como otorgar permisos a un software contable para acceder a los datos financieros de la empresa.\n",
    "\n",
    "🔎 **Verificación**: Haz clic en **Check my progress** para validar la inicialización."
   ]
  },
  {
   "cell_type": "markdown",
   "id": "81da0891",
   "metadata": {},
   "source": [
    "## 🔄 Tarea 3: Crear un Flow\n",
    "\n",
    "Un **Flow** en **Dataprep** es un espacio de trabajo donde organizas datasets y defines recetas de transformación.\n",
    "\n",
    "1. Haz clic en el ícono **Flows** > **Create** > **Blank Flow**.\n",
    "2. Selecciona **Untitled Flow** > asigna:\n",
    "   - **Name**: `FEC2016`\n",
    "   - **Description**: `United States Federal Elections Commission 2016`\n",
    "3. Haz clic en **OK**.\n",
    "4. Se abrirá la página del **Flow FEC2016**.\n",
    "\n",
    "**Explicación**:\n",
    "- Un **Flow** agrupa datasets y recetas, facilitando la organización de tareas de procesamiento de datos.\n",
    "\n",
    "💡 **Contexto empresarial**: Un **Flow** es como un proyecto contable que reúne todos los registros y procesos necesarios para un análisis financiero específico."
   ]
  },
  {
   "cell_type": "markdown",
   "id": "37601239",
   "metadata": {},
   "source": [
    "## 📥 Tarea 4: Importar Datasets\n",
    "\n",
    "En esta tarea, importarás dos datasets desde **Cloud Storage** al **Flow FEC2016**.\n",
    "\n",
    "1. En la página del **Flow FEC2016**, haz clic en **Add Datasets** > **Import Datasets**.\n",
    "2. En el panel izquierdo, selecciona **Cloud Storage** > haz clic en el lápiz ✏️ para editar la ruta.\n",
    "3. Escribe `gs://spls/gsp105` en **Choose a file or folder** > **Go**.\n",
    "4. Haz clic en la carpeta `usfec/`.\n",
    "5. Selecciona `cn-2016.txt` > haz clic en **+** > renómbralo como **Candidate Master 2016** en el panel derecho.\n",
    "6. Repite para `itcont-2016-orig.txt` > renómbralo como **Campaign Contributions 2016**.\n",
    "7. Cuando ambos datasets estén listados, haz clic en **Import & Add to Flow**.\n",
    "\n",
    "**Resultado esperado**:\n",
    "- Ambos datasets (`Candidate Master 2016` y `Campaign Contributions 2016`) aparecerán en el **Flow FEC2016**.\n",
    "\n",
    "**Explicación**:\n",
    "- Los datasets contienen datos de la Comisión Federal de Elecciones de EE. UU. de 2016, como información de candidatos y contribuciones de campaña.\n",
    "\n",
    "💡 **Contexto empresarial**: Importar datasets es como cargar registros financieros de diferentes fuentes (por ejemplo, transacciones y cuentas) a un sistema contable."
   ]
  },
  {
   "cell_type": "markdown",
   "id": "65fdbf4f",
   "metadata": {},
   "source": [
    "## ✨ Tarea 5: Preparar el archivo de Candidatos\n",
    "\n",
    "En esta tarea, limpiarás y filtrarás el dataset **Candidate Master 2016** usando la interfaz de **Dataprep**.\n",
    "\n",
    "1. Asegúrate de que **Candidate Master 2016** esté seleccionado > haz clic en **Edit Recipe** en el panel derecho.\n",
    "2. Se abrirá la vista **Transformer** (similar a una hoja de cálculo) con una muestra del dataset.\n",
    "\n",
    "**Conceptos clave**:\n",
    "- **Recipe**: Lista de transformaciones que se aplican al dataset completo al ejecutar un job.\n",
    "- **Sample/Grid View**: Vista previa interactiva para diseñar la receta.\n",
    "\n",
    "💡 **Contexto empresarial**: Una **Recipe** es como un procedimiento contable que define cómo limpiar y organizar registros financieros antes de un análisis."
   ]
  },
  {
   "cell_type": "markdown",
   "id": "383614fc",
   "metadata": {},
   "source": [
    "### Pasos detallados\n",
    "\n",
    "| **Paso** | **Acción** | **Icono** |\n",
    "|----------|------------|-----------|\n",
    "| 1 | Haz clic en el ancho de `column5` > identifica el histograma > selecciona el bin más alto (año 2016). | 📊 |\n",
    "| 2 | En el panel **Suggestions** > sección **Keep rows** > haz clic en **Add** > se añade el paso: `Keep rows where (DATE(2016, 1, 1) <= column5) && (column5 < DATE(2018, 1, 1))`. | ➕ |\n",
    "| 3 | En `column6` (State), haz clic en la porción roja de **mismatch** > observa valores como `US` y `P` en `column7`. El desacuerdo se debe a que el tipo de dato es `State`. | ❗ |\n",
    "| 4 | Cancela la sugerencia > cambia el tipo de `column6` de `State` a `String` (ícono bandera). El **mismatch** se elimina (verde). | 🏳️ ➜ 📗 |\n",
    "| 5 | Filtra candidatos presidenciales: en el histograma de `column7`, selecciona el bin `P` > haz clic en **Add** en **Suggestions**. | 🎯 |\n",
    "\n",
    "**Explicación**:\n",
    "- **Paso 1-2**: Filtra los registros para incluir solo los del ciclo electoral 2016-2017.\n",
    "- **Paso 3-4**: Corrige el tipo de dato de la columna `State` para eliminar inconsistencias.\n",
    "- **Paso 5**: Filtra solo candidatos presidenciales (identificados por `P` en `column7`).\n",
    "\n",
    "💡 **Contexto empresarial**: Estos pasos son como limpiar un libro contable, corrigiendo errores en los datos (por ejemplo, códigos de estado incorrectos) y filtrando transacciones relevantes."
   ]
  },
  {
   "cell_type": "markdown",
   "id": "906e5629",
   "metadata": {},
   "source": [
    "## 🔗 Tarea 6: Limpiar Contribuciones y hacer Join con Candidatos\n",
    "\n",
    "En esta tarea, limpiarás el dataset **Campaign Contributions 2016** y lo unirás con **Candidate Master 2016**.\n",
    "\n",
    "### Parte A: Seleccionar Campaign Contributions 2016\n",
    "\n",
    "1. En la parte superior, haz clic en **FEC2016** (selector) > elige **Campaign Contributions 2016** (griseado).\n",
    "2. En el panel derecho, haz clic en **Add** > **Recipe** > **Edit Recipe**.\n",
    "\n",
    "**Explicación**:\n",
    "- Esto selecciona el dataset de contribuciones para aplicar transformaciones."
   ]
  },
  {
   "cell_type": "markdown",
   "id": "6fe52937",
   "metadata": {},
   "source": [
    "### Parte B: Eliminar delimitadores extra\n",
    "\n",
    "1. En la receta, haz clic en el ícono **Recipe** > **Add New Step**.\n",
    "2. En el campo **Search**, ingresa el siguiente comando Wrangle:"
   ]
  },
  {
   "cell_type": "code",
   "execution_count": null,
   "id": "24d3c3db",
   "metadata": {},
   "outputs": [],
   "source": [
    "replacepatterns col: * with: '' on: `{start}\"|\"{end}` global: true"
   ]
  },
  {
   "cell_type": "markdown",
   "id": "3d463fac",
   "metadata": {},
   "source": [
    "**Desglose del comando**:\n",
    "- `replacepatterns`: Transforma texto usando expresiones regulares.\n",
    "- `col: *`: Aplica la transformación a todas las columnas.\n",
    "- `with: ''`: Reemplaza por una cadena vacía (elimina).\n",
    "- `on: `{start}\"|\"{end}``: Patrón que captura comillas dobles (`\"`) al inicio o fin de una celda.\n",
    "- `global: true`: Aplica el reemplazo a todas las coincidencias.\n",
    "\n",
    "**Explicación**:\n",
    "- Este paso elimina comillas dobles residuales que actúan como delimitadores inconsistentes.\n",
    "\n",
    "💡 **Contexto empresarial**: Esto es como corregir errores de formato en un registro de transacciones financieras para asegurar consistencia.\n",
    "\n",
    "3. El **Transformation Builder** mostrará los campos **Find** y **Replace** autocompletados > haz clic en **Add**."
   ]
  },
  {
   "cell_type": "markdown",
   "id": "594acc9b",
   "metadata": {},
   "source": [
    "### Parte C: Join con Candidatos\n",
    "\n",
    "1. Haz clic en **New Step** > busca `Join` > selecciona **Join datasets**.\n",
    "2. Elige **Candidate Master 2016** > **Accept**.\n",
    "3. En **Join keys**, haz clic en el ícono lápiz ✏️ > selecciona **Suggested join keys** > elige `column2 = column11` > **Save and Continue**.\n",
    "4. Revisa las columnas > haz clic en **Next** > marca la casilla en el encabezado **Column** para incluir todas las columnas.\n",
    "5. Haz clic en **Review** > **Add to Recipe**.\n",
    "\n",
    "**Explicación**:\n",
    "- El **join** combina los datos de contribuciones (`Campaign Contributions 2016`) con los datos de candidatos (`Candidate Master 2016`) usando las columnas `column2` (ID en candidatos) y `column11` (ID en contribuciones).\n",
    "\n",
    "💡 **Contexto empresarial**: El **join** es como combinar un registro de transacciones con un catálogo de clientes para analizar las contribuciones por candidato."
   ]
  },
  {
   "cell_type": "markdown",
   "id": "c1655f3b",
   "metadata": {},
   "source": [
    "## 📊 Tarea 7: Resumen de Datos\n",
    "\n",
    "En esta tarea, crearás una tabla resumen que agrega, promedia y cuenta las contribuciones (columna 16), agrupando por ID, nombre y partido (columnas 2, 24 y 8).\n",
    "\n",
    "1. En el panel **Recipe**, haz clic en **New Step** > ingresa:"
   ]
  },
  {
   "cell_type": "code",
   "execution_count": null,
   "id": "55b71e2b",
   "metadata": {},
   "outputs": [],
   "source": [
    "pivot value:sum(column16),average(column16),countif(column16 > 0) group: column2,column24,column8"
   ]
  },
  {
   "cell_type": "markdown",
   "id": "1e7a867f",
   "metadata": {},
   "source": [
    "**Desglose del comando**:\n",
    "- `pivot`: Crea una tabla resumen.\n",
    "- `value`: Lista de funciones de agregación:\n",
    "  - `sum(column16)`: Suma total de contribuciones.\n",
    "  - `average(column16)`: Promedio de contribuciones.\n",
    "  - `countif(column16 > 0)`: Conteo de filas con importes mayores a 0.\n",
    "- `group`: Columnas por las que se agrupa:\n",
    "  - `column2`: ID del candidato.\n",
    "  - `column24`: Nombre del candidato.\n",
    "  - `column8`: Partido del candidato.\n",
    "\n",
    "**Explicación**:\n",
    "- Este paso genera un resumen estadístico de las contribuciones por candidato.\n",
    "\n",
    "💡 **Contexto empresarial**: Esto es como generar un informe financiero que resume las transacciones por cliente, mostrando totales, promedios y conteos.\n",
    "\n",
    "2. Haz clic en **Add** para aplicar la transformación."
   ]
  },
  {
   "cell_type": "markdown",
   "id": "bb869b5a",
   "metadata": {},
   "source": [
    "## 🏷️ Tarea 8: Renombrar Columnas y Redondear\n",
    "\n",
    "En esta tarea, renombrarás las columnas del resumen para mayor claridad y redondearás los valores promedio.\n",
    "\n",
    "1. Haz clic en **New Step** > ingresa:"
   ]
  },
  {
   "cell_type": "code",
   "execution_count": null,
   "id": "76800384",
   "metadata": {},
   "outputs": [],
   "source": [
    "rename type: manual mapping: [column24,'Candidate_Name'], [column2,'Candidate_ID'], [column8,'Party_Affiliation'], [sum_column16,'Total_Contribution_Sum'], [average_column16,'Average_Contribution_Sum'], [countif,'Number_of_Contributions']"
   ]
  },
  {
   "cell_type": "markdown",
   "id": "4238002a",
   "metadata": {},
   "source": [
    "**Desglose del comando**:\n",
    "- `rename`: Cambia los nombres de las columnas.\n",
    "- `type: manual`: Especifica que los nombres se asignan manualmente.\n",
    "- `mapping`: Lista de pares `[nombre_viejo, nombre_nuevo]` para renombrar las columnas.\n",
    "\n",
    "**Explicación**:\n",
    "- Este paso hace que la tabla sea más legible al asignar nombres descriptivos.\n",
    "\n",
    "💡 **Contexto empresarial**: Renombrar columnas es como estandarizar los nombres de los campos en un informe financiero para facilitar su interpretación.\n",
    "\n",
    "2. Haz clic en **Add**."
   ]
  },
  {
   "cell_type": "markdown",
   "id": "e7730107",
   "metadata": {},
   "source": [
    "3. Haz clic en **New Step** > ingresa:"
   ]
  },
  {
   "cell_type": "code",
   "execution_count": null,
   "id": "5bb862a0",
   "metadata": {},
   "outputs": [],
   "source": [
    "set col: Average_Contribution_Sum value: round(Average_Contribution_Sum)"
   ]
  },
  {
   "cell_type": "markdown",
   "id": "82d20539",
   "metadata": {},
   "source": [
    "**Desglose del comando**:\n",
    "- `set`: Sobrescribe los valores de una columna.\n",
    "- `col: Average_Contribution_Sum`: Columna objetivo.\n",
    "- `value: round(Average_Contribution_Sum)`: Aplica la función `round()` para redondear al entero más cercano.\n",
    "\n",
    "**Explicación**:\n",
    "- Redondear los valores mejora la legibilidad del resumen.\n",
    "\n",
    "💡 **Contexto empresarial**: Esto es como redondear los totales en un informe financiero para facilitar su presentación a los interesados.\n",
    "\n",
    "4. Haz clic en **Add**.\n",
    "\n",
    "**Resultado esperado**:\n",
    "- La tabla final es clara, con nombres descriptivos y valores redondeados, lista para análisis.\n",
    "\n",
    "## 🚀 Resumen\n",
    "\n",
    "| **Concepto** | **Explicación contable simplificada** |\n",
    "|--------------|--------------------------------------|\n",
    "| **Dataprep** | Software contable que limpia y organiza datos financieros automáticamente. |\n",
    "| **Flow**     | Proyecto que agrupa registros y procesos para un análisis financiero. |\n",
    "| **Recipe**   | Procedimiento que define cómo limpiar y transformar datos financieros. |\n",
    "| **Join**     | Combinación de registros de transacciones con datos de clientes para análisis. |\n",
    "| **Pivot**    | Informe que resume transacciones por categorías clave, como totales y promedios. |\n",
    "\n",
    "💡 **Conclusión empresarial**: **Dataprep** simplifica la preparación de datos financieros, permitiendo a las empresas limpiar, transformar y analizar registros de forma visual y eficiente. Esto reduce errores, acelera los procesos contables y facilita el cumplimiento normativo, optimizando costos operativos.\n",
    "\n",
    "Para más información, consulta la [Documentación de Google Cloud Dataprep](https://cloud.google.com/dataprep/docs)."
   ]
  }
 ],
 "metadata": {
  "kernelspec": {
   "display_name": "Python 3 (ipykernel)",
   "language": "python",
   "name": "python3"
  },
  "language_info": {
   "codemirror_mode": {
    "name": "ipython",
    "version": 3
   },
   "file_extension": ".py",
   "mimetype": "text/x-python",
   "name": "python",
   "nbconvert_exporter": "python",
   "pygments_lexer": "ipython3",
   "version": "3.9.21"
  }
 },
 "nbformat": 4,
 "nbformat_minor": 5
}
