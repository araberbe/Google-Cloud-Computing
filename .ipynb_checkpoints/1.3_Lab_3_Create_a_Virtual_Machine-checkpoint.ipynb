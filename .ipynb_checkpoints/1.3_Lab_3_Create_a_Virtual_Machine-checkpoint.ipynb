{
 "cells": [
  {
   "cell_type": "markdown",
   "metadata": {},
   "source": [
    "# 🎓 Laboratorio 3: Crear una Máquina Virtual\n",
    "En este laboratorio, aprenderás a crear y configurar una máquina virtual (VM) en **Google Compute Engine** utilizando la consola de Google Cloud y la herramienta de línea de comandos **gcloud**. También instalarás un servidor web **NGINX** y explorarás cómo conectarte a la VM mediante SSH. Este laboratorio es ideal para contextos empresariales, como configurar servidores para aplicaciones contables o sistemas de gestión. 🚀\n\n",
    "**Objetivo empresarial**: Configurar una VM para alojar una aplicación contable, como un sistema de facturación o un backend para reportes financieros, asegurando acceso seguro y eficiente.\n\n",
    "[📚 Documentación oficial de Compute Engine](https://cloud.google.com/compute/docs)"
   ]
  },
  {
   "cell_type": "markdown",
   "metadata": {},
   "source": [
    "## ☁️ Activar Cloud Shell\n",
    "**¿Qué es Cloud Shell?**\n",
    "Cloud Shell es una máquina virtual con herramientas para desarrolladores, que incluye un directorio principal persistente de 5 GB y se ejecuta en Google Cloud. Proporciona acceso de línea de comandos a tus recursos de Google Cloud, ideal para gestionar servidores de aplicaciones empresariales sin necesidad de configuraciones locales.\n\n",
    "**Beneficios empresariales**:\n",
    "- Permite a equipos contables gestionar servidores para aplicaciones (como ERPs o sistemas de nómina) sin hardware local.\n",
    "- Simplifica la configuración con herramientas preinstaladas como **gcloud**.\n\n",
    "**Pasos para activar Cloud Shell**:\n",
    "1. En la consola de Google Cloud, haz clic en **Activar Cloud Shell** en la parte superior.\n",
    "2. Avanza por las ventanas emergentes:\n",
    "   - Acepta la ventana de información de Cloud Shell.\n",
    "   - Autoriza a Cloud Shell para usar tus credenciales para realizar llamadas a la API de Google Cloud.\n",
    "3. Una vez conectado, el proyecto se configurará con tu **Project_ID**.\n\n",
    "**Resultado esperado**:\n",
    "```bash\n",
    "Your Cloud Platform project in this session is set to \"PROJECT_ID\"\n",
    "```\n\n",
    "**Nota sobre gcloud**:\n",
    "- **gcloud** es la herramienta de línea de comandos de Google Cloud, preinstalada en Cloud Shell, con soporte para autocompletado con tabulador.\n",
    "- Puedes verificar la cuenta activa con:\n"
   ]
  },
  {
   "cell_type": "code",
   "metadata": {},
   "source": [
    "# Verificar la cuenta activa\n",
    "gcloud auth list\n",
    "# Explicación: Este comando muestra la cuenta activa autenticada. Útil para confirmar que estás trabajando con las credenciales correctas en un entorno empresarial.\n",
    "# Resultado esperado:\n",
    "# ACTIVE: *\n",
    "# ACCOUNT: \"ACCOUNT\"\n",
    "# To set the active account, run:\n",
    "#     $ gcloud config set account `ACCOUNT`"
   ],
   "execution_count": null,
   "outputs": []
  },
  {
   "cell_type": "markdown",
   "metadata": {},
   "source": [
    "4. Autoriza cuando se solicite.\n",
    "5. Verifica el ID del proyecto (opcional):\n"
   ]
  },
  {
   "cell_type": "code",
   "metadata": {},
   "source": [
    "# Verificar el ID del proyecto\n",
    "gcloud config list project\n",
    "# Explicación: Este comando muestra el ID del proyecto configurado. En un contexto contable, esto asegura que estás trabajando en el proyecto correcto para alojar aplicaciones financieras.\n",
    "# Resultado esperado:\n",
    "# [core]\n",
    "# project = \"PROJECT_ID\""
   ],
   "execution_count": null,
   "outputs": []
  },
  {
   "cell_type": "markdown",
   "metadata": {},
   "source": [
    "**Nota**: Consulta la [documentación de gcloud](https://cloud.google.com/sdk/gcloud) para más detalles.\n\n",
    "[📚 Documentación oficial de Cloud Shell](https://cloud.google.com/shell/docs)"
   ]
  },
  {
   "cell_type": "markdown",
   "metadata": {},
   "source": [
    "## 🌍 Información sobre regiones y zonas\n",
    "Algunos recursos de **Compute Engine**, como máquinas virtuales y discos persistentes, se alojan en **regiones** o **zonas**. Una región es una ubicación geográfica específica, y cada región contiene una o más zonas. Por ejemplo, la región **us-central1** incluye las zonas **us-central1-a**, **us-central1-b**, **us-central1-c** y **us-central1-f**.\n\n",
    "**Tabla de regiones y zonas**:\n",
    "| Regiones | Zonas |\n",
    "|----------|-------|\n",
    "| Oeste de EE.UU. | us-west1-a, us-west1-b |\n",
    "| EE.UU. central | us-central1-a, us-central1-b, us-central1-d, us-central1-f |\n",
    "| Este de EE.UU. | us-east1-b, us-east1-c, us-east1-d |\n",
    "| Europa Occidental | europe-west1-b, europe-west1-c, europe-west1-d |\n",
    "| Asia oriental | asia-east1-a, asia-east1-b, asia-east1-c |\n\n",
    "**Recursos zonales**:\n",
    "- Las instancias de máquinas virtuales y los discos persistentes son recursos zonales, y deben estar en la misma zona para conectarse.\n",
    "- Las direcciones IP estáticas deben estar en la misma región que la instancia.\n\n",
    "**Beneficios empresariales**:\n",
    "- Elegir la región adecuada reduce la latencia para aplicaciones contables accesibles globalmente, como un sistema de facturación internacional.\n",
    "- Ejemplo: Una empresa con clientes en EE.UU. puede elegir **us-central1** para alojar un servidor contable con baja latencia.\n\n",
    "[📚 Documentación oficial de Regiones y Zonas](https://cloud.google.com/compute/docs/regions-zones)"
   ]
  },
  {
   "cell_type": "markdown",
   "metadata": {},
   "source": [
    "## ⚙️ Configurar la región y la zona\n",
    "Para preparar el entorno, configura la región y la zona en Cloud Shell.\n\n",
    "**Pasos**:\n",
    "1. Establece la región del proyecto:\n"
   ]
  },
  {
   "cell_type": "code",
   "metadata": {},
   "source": [
    "# Configurar la región\n",
    "gcloud config set compute/region REGION\n",
    "# Explicación: Establece la región predeterminada (sustituye REGION por una región válida, como us-central1). Esto asegura que los recursos se creen en la región deseada, optimizando costos y latencia."
   ],
   "execution_count": null,
   "outputs": []
  },
  {
   "cell_type": "markdown",
   "metadata": {},
   "source": [
    "2. Crea una variable para la región:\n"
   ]
  },
  {
   "cell_type": "code",
   "metadata": {},
   "source": [
    "# Crear variable para la región\n",
    "export REGION=REGION\n",
    "# Explicación: Define una variable de entorno para la región, facilitando su uso en comandos posteriores."
   ],
   "execution_count": null,
   "outputs": []
  },
  {
   "cell_type": "markdown",
   "metadata": {},
   "source": [
    "3. Crea una variable para la zona:\n"
   ]
  },
  {
   "cell_type": "code",
   "metadata": {},
   "source": [
    "# Crear variable para la zona\n",
    "export ZONE=Zone\n",
    "# Explicación: Define una variable de entorno para la zona (sustituye Zone por una zona válida, como us-central1-a). Esto es útil para mantener la consistencia en la configuración de recursos zonales."
   ],
   "execution_count": null,
   "outputs": []
  },
  {
   "cell_type": "markdown",
   "metadata": {},
   "source": [
    "**Nota**: En Cloud Shell, las configuraciones no persisten entre sesiones, por lo que debes configurar la región y zona en cada nueva sesión. En tu máquina local, las configuraciones de **gcloud** persisten.\n\n",
    "[📚 Documentación oficial de Regiones y Zonas](https://cloud.google.com/compute/docs/regions-zones)"
   ]
  },
  {
   "cell_type": "markdown",
   "metadata": {},
   "source": [
    "## 🛠️ Tarea 1: Crear una nueva instancia desde la consola de Cloud\n",
    "En esta tarea, crearás una máquina virtual en **Compute Engine** usando la consola de Google Cloud.\n\n",
    "**Pasos**:\n",
    "1. En el **Menú de navegación** de la consola de Cloud, selecciona **Compute Engine > Instancias de VM**.\n",
    "   - Nota: La primera inicialización puede tardar un minuto.\n",
    "2. Haz clic en **CREAR INSTANCIA**.\n",
    "3. Configura los siguientes parámetros:\n",
    "| Campo | Valor | Información adicional |\n",
    "|-------|-------|-----------------------|\n",
    "| Nombre | gcelab | Nombre de la instancia de VM. |\n",
    "| Región | <REGION> | Elige una región (ejemplo: us-central1). Consulta la [guía de regiones y zonas](https://cloud.google.com/compute/docs/zones). |\n",
    "| Zona | <ZONE> | Elige una zona (ejemplo: us-central1-a). Anota la zona seleccionada para usarla más adelante. |\n",
    "| Serie | E2 | Nombre de la serie de la máquina. |\n",
    "| Tipo de máquina | 2 CPU virtuales | Instancia e2-medium con 2 vCPUs y 4 GB de RAM. Consulta la [guía de familias de máquinas](https://cloud.google.com/compute/docs/machine-types). Nota: Los proyectos nuevos tienen una cuota limitada de CPU, que puede ampliarse para proyectos reales. |\n",
    "| Disco de arranque | Nuevo disco persistente balanceado de 10 GB con imagen de SO Debian GNU/Linux 11 (bullseye) | Hay imágenes disponibles como Debian, Ubuntu, CoreOS, Red Hat Enterprise Linux y Windows Server. |\n",
    "| Firewall | Permitir tráfico HTTP | Habilita el puerto 80 para acceder a un servidor web que instalarás más adelante. Crea automáticamente una regla de firewall. |\n",
    "4. Haz clic en **Crear**.\n\n",
    "**Resultado esperado**:\n",
    "- La VM **gcelab** se creará en aproximadamente un minuto y aparecerá en la lista de **Instancias de VM**.\n\n",
    "**Conexión SSH**:\n",
    "- Para conectarte a la VM, haz clic en **SSH** junto al nombre de la instancia (**gcelab**) en la consola. Esto abre un cliente SSH en el navegador.\n\n",
    "**Beneficios empresariales**:\n",
    "- Esta VM puede alojar un software contable, como un sistema de facturación o un ERP, accesible desde cualquier lugar.\n",
    "- Ejemplo: Una empresa puede usar esta VM para procesar transacciones financieras con alta disponibilidad.\n\n",
    "[📚 Documentación oficial de Compute Engine](https://cloud.google.com/compute/docs/instances/connecting-to-instance)"
   ]
  },
  {
   "cell_type": "markdown",
   "metadata": {},
   "source": [
    "## 💻 Tarea 2: Instalar un servidor web NGINX\n",
    "En esta tarea, instalarás **NGINX**, un servidor web popular, en la VM para conectar una aplicación.\n\n",
    "**Pasos**:\n",
    "1. Actualiza el sistema operativo:\n"
   ]
  },
  {
   "cell_type": "code",
   "metadata": {},
   "source": [
    "# Actualizar el sistema operativo\n",
    "sudo apt-get update\n",
    "# Explicación: Actualiza la lista de paquetes disponibles en Debian, asegurando que las dependencias estén al día antes de instalar NGINX."
   ],
   "execution_count": null,
   "outputs": []
  },
  {
   "cell_type": "markdown",
   "metadata": {},
   "source": [
    "2. Instala NGINX:\n"
   ]
  },
  {
   "cell_type": "code",
   "metadata": {},
   "source": [
    "# Instalar NGINX\n",
    "sudo apt-get install -y nginx\n",
    "# Explicación: Instala el servidor web NGINX. La bandera -y confirma automáticamente la instalación, útil para automatizar procesos en entornos empresariales."
   ],
   "execution_count": null,
   "outputs": []
  },
  {
   "cell_type": "markdown",
   "metadata": {},
   "source": [
    "3. Confirma que NGINX está en ejecución:\n"
   ]
  },
  {
   "cell_type": "code",
   "metadata": {},
   "source": [
    "# Verificar que NGINX está corriendo\n",
    "ps auwx | grep nginx\n",
    "# Explicación: Muestra los procesos activos relacionados con NGINX, confirmando que el servidor web está funcionando correctamente."
   ],
   "execution_count": null,
   "outputs": []
  },
  {
   "cell_type": "markdown",
   "metadata": {},
   "source": [
    "4. Accede a la página web:\n",
    "   - En la consola de Cloud, haz clic en el enlace de **IP externa** de la VM **gcelab**, o ingresa **http://EXTERNAL_IP/** en un navegador.\n",
    "   - Deberías ver la página predeterminada de NGINX: *¡Bienvenido a nginx!*.\n\n",
    "**Beneficios empresariales**:\n",
    "- NGINX puede servir una aplicación web contable, como un portal para que clientes accedan a reportes financieros.\n",
    "- Ejemplo: Una empresa puede usar NGINX para ofrecer una interfaz web donde los usuarios consulten saldos o generen facturas.\n\n",
    "[📚 Documentación oficial de Compute Engine](https://cloud.google.com/compute/docs)"
   ]
  },
  {
   "cell_type": "markdown",
   "metadata": {},
   "source": [
    "## ⚙️ Tarea 3: Crear una instancia nueva con gcloud\n",
    "En esta tarea, crearás una segunda VM (**gcelab2**) usando la herramienta **gcloud** en Cloud Shell.\n\n",
    "**Pasos**:\n",
    "1. Crea una nueva instancia de VM:\n"
   ]
  },
  {
   "cell_type": "code",
   "metadata": {},
   "source": [
    "# Crear una nueva instancia con gcloud\n",
    "gcloud compute instances create gcelab2 --machine-type e2-medium --zone=$ZONE\n",
    "# Explicación: Crea una VM llamada gcelab2 con tipo de máquina e2-medium (2 vCPUs, 4 GB de RAM) en la zona especificada. Usa la imagen más reciente de Debian por defecto."
   ],
   "execution_count": null,
   "outputs": []
  },
  {
   "cell_type": "markdown",
   "metadata": {},
   "source": [
    "**Valores predeterminados**:\n",
    "- Imagen: Última versión de Debian.\n",
    "- Tipo de máquina: e2-medium.\n",
    "- Disco raíz persistente con el mismo nombre que la instancia, conectado automáticamente.\n\n",
    "**Nota**: Para proyectos personalizados, puedes usar [tipos de máquinas personalizados](https://cloud.google.com/compute/docs/instances/creating-instance-with-custom-machine-type).\n\n",
    "2. Consulta los valores predeterminados de creación:\n"
   ]
  },
  {
   "cell_type": "code",
   "metadata": {},
   "source": [
    "# Ver valores predeterminados\n",
    "gcloud compute instances create --help\n",
    "# Explicación: Muestra la documentación de gcloud para crear instancias, útil para personalizar configuraciones en entornos empresariales."
   ],
   "execution_count": null,
   "outputs": []
  },
  {
   "cell_type": "markdown",
   "metadata": {},
   "source": [
    "**Nota**: Para salir de la ayuda, presiona **Ctrl + C**.\n\n",
    "**Configurar región/zona predeterminadas (opcional)**:\n",
    "- Establece región y zona predeterminadas para evitar especificar la bandera **--zone** en cada comando:\n"
   ]
  },
  {
   "cell_type": "code",
   "metadata": {},
   "source": [
    "# Configurar zona predeterminada\n",
    "gcloud config set compute/zone ZONE\n",
    "# Configurar región predeterminada\n",
    "gcloud config set compute/region REGION\n",
    "# Explicación: Establece valores predeterminados para zona y región, simplificando comandos en flujos de trabajo empresariales."
   ],
   "execution_count": null,
   "outputs": []
  },
  {
   "cell_type": "markdown",
   "metadata": {},
   "source": [
    "3. Verifica las instancias creadas:\n",
    "   - En la consola de Cloud, ve a **Compute Engine > Instancias de VM**. Deberías ver **gcelab** y **gcelab2**.\n",
    "4. Conéctate a la nueva instancia con SSH:\n"
   ]
  },
  {
   "cell_type": "code",
   "metadata": {},
   "source": [
    "# Conectar a la VM con SSH\n",
    "gcloud compute ssh gcelab2 --zone=$ZONE\n",
    "# Explicación: Inicia una sesión SSH con la VM gcelab2. Si no configuraste una zona predeterminada, especifica la zona con --zone."
   ],
   "execution_count": null,
   "outputs": []
  },
  {
   "cell_type": "markdown",
   "metadata": {},
   "source": [
    "5. Confirma la conexión:\n",
    "   - Escribe **Y** para continuar cuando se solicite.\n",
    "   - Presiona **Enter** para dejar la frase de contraseña vacía.\n",
    "6. Sal de la sesión SSH:\n"
   ]
  },
  {
   "cell_type": "code",
   "metadata": {},
   "source": [
    "# Salir de la sesión SSH\n",
    "exit\n",
    "# Explicación: Cierra la conexión SSH, regresando a Cloud Shell."
   ],
   "execution_count": null,
   "outputs": []
  },
  {
   "cell_type": "markdown",
   "metadata": {},
   "source": [
    "**Beneficios empresariales**:\n",
    "- Crear VMs con **gcloud** permite automatizar la configuración de servidores para aplicaciones contables, como sistemas de nómina o reportes financieros.\n",
    "- Ejemplo: Una empresa puede usar scripts con **gcloud** para crear múltiples VMs para procesar transacciones en diferentes regiones.\n\n",
    "[📚 Documentación oficial de Compute Engine](https://cloud.google.com/compute/docs)"
   ]
  },
  {
   "cell_type": "markdown",
   "metadata": {},
   "source": [
    "## 📝 Tarea 4: Pon a prueba tus conocimientos\n",
    "**Pregunta**: ¿De qué formas puedes crear una instancia de VM en Compute Engine?\n",
    "- Respuesta: \n",
    "  - La consola de Cloud.\n",
    "  - La herramienta de línea de comandos **gcloud**.\n\n",
    "**Beneficios empresariales**:\n",
    "- La consola es ideal para usuarios no técnicos, como gerentes contables que configuran servidores sin experiencia en programación.\n",
    "- **gcloud** permite automatización, útil para departamentos de TI que gestionan múltiples servidores para aplicaciones financieras.\n\n",
    "[📚 Documentación oficial de Compute Engine](https://cloud.google.com/compute/docs)"
   ]
  }
 ],
 "metadata": {
  "kernelspec": {
   "display_name": "Python 3",
   "language": "python",
   "name": "python3"
  },
  "language_info": {
   "codemirror_mode": {
    "name": "ipython",
    "version": 3
   },
   "file_extension": ".py",
   "mimetype": "text/x-python",
   "name": "python",
   "nbconvert_exporter": "python",
   "pygments_lexer": "ipython3",
   "version": "3.9.0"
  }
 },
 "nbformat": 4,
 "nbformat_minor": 4
}