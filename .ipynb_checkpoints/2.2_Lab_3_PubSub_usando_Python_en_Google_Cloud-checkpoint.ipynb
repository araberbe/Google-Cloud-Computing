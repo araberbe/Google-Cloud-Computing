{
 "cells": [
  {
   "cell_type": "markdown",
   "id": "d504a881",
   "metadata": {},
   "source": [
    "# 📌 Inicio Rápido con Pub/Sub usando Python en Google Cloud\n",
    "\n",
    "## Introducción\n",
    "\n",
    "**Google Cloud Pub/Sub** es un servicio de mensajería que permite a las aplicaciones intercambiar mensajes de forma fiable, rápida y asíncrona. En este laboratorio, aprenderás a publicar y recibir mensajes en **Pub/Sub** utilizando la biblioteca cliente de Python en **Cloud Shell**. Este enfoque es ideal para automatizar procesos empresariales, como la notificación de transacciones o la conciliación de datos contables.\n",
    "\n",
    "### ¿Cómo funciona desde una perspectiva contable?\n",
    "Imagina **Pub/Sub** como un sistema de mensajería interna en una empresa contable. Por ejemplo:\n",
    "- Un sistema de facturación emite una factura y envía un mensaje a un tópico.\n",
    "- El sistema de conciliación bancaria, suscrito a ese tópico, recibe el mensaje y registra la transacción automáticamente.\n",
    "- Esto reduce errores manuales y agiliza procesos repetitivos, como la validación de pagos.\n",
    "\n",
    "💡 **Beneficio empresarial**: **Pub/Sub** permite integrar sistemas contables con otras aplicaciones (como ERP o CRM) de forma eficiente, reduciendo costos operativos y mejorando la trazabilidad de datos financieros.\n",
    "\n",
    "Para más información sobre Pub/Sub, consulta la [Documentación de Google Cloud Pub/Sub](https://cloud.google.com/pubsub/docs)."
   ]
  },
  {
   "cell_type": "markdown",
   "id": "00abf9ea",
   "metadata": {},
   "source": [
    "## 🚀 ¿Qué aprenderás en este laboratorio?\n",
    "\n",
    "- Comprender los conceptos básicos de **Pub/Sub** (tópicos, publicadores, suscriptores).\n",
    "- Crear, eliminar y listar tópicos y suscripciones.\n",
    "- Publicar mensajes en un tópico.\n",
    "- Usar un suscriptor para recibir mensajes individuales.\n",
    "\n",
    "💡 **Contexto empresarial**: Estas habilidades son clave para automatizar flujos de datos, como el registro de transacciones o la notificación de eventos financieros, mejorando la eficiencia en la gestión contable."
   ]
  },
  {
   "cell_type": "markdown",
   "id": "a9471025",
   "metadata": {},
   "source": [
    "## 🚀 Tarea 1: Activar Cloud Shell\n",
    "\n",
    "**Cloud Shell** es una terminal en línea integrada en Google Cloud que permite ejecutar comandos sin instalar herramientas localmente. Es como una calculadora contable preconfigurada con todas las funciones listas para usar.\n",
    "\n",
    "### Pasos\n",
    "1. Haz clic en el ícono de **Cloud Shell** en la parte superior de la consola de Google Cloud.\n",
    "2. Autoriza el uso de tus credenciales temporales.\n",
    "3. Espera a que aparezca el mensaje de confirmación del proyecto activo.\n",
    "\n",
    "### Comandos útiles\n",
    "\n",
    "Verifica la cuenta activa:"
   ]
  },
  {
   "cell_type": "code",
   "execution_count": null,
   "id": "0c6e361d",
   "metadata": {},
   "outputs": [],
   "source": [
    "gcloud auth list"
   ]
  },
  {
   "cell_type": "markdown",
   "id": "e81d760a",
   "metadata": {},
   "source": [
    "**Explicación del comando**:  \n",
    "- `gcloud auth list`: Muestra las cuentas autenticadas en **Cloud Shell**, asegurando que usas las credenciales correctas.  \n",
    "💡 **Contexto empresarial**: Verificar la cuenta activa es crucial para garantizar la seguridad en el acceso a datos sensibles, como información financiera.\n",
    "\n",
    "Verifica el ID del proyecto:"
   ]
  },
  {
   "cell_type": "code",
   "execution_count": null,
   "id": "5ea78da8",
   "metadata": {},
   "outputs": [],
   "source": [
    "gcloud config list project"
   ]
  },
  {
   "cell_type": "markdown",
   "id": "66b61846",
   "metadata": {},
   "source": [
    "**Explicación del comando**:  \n",
    "- `gcloud config list project`: Muestra el ID del proyecto activo, necesario para asociar recursos como tópicos de **Pub/Sub**.  \n",
    "💡 **Contexto empresarial**: Mantener un control claro del proyecto activo ayuda a asignar costos y recursos correctamente en la contabilidad de TI.\n",
    "\n",
    "Para más información sobre Cloud Shell, consulta la [Documentación de Google Cloud Shell](https://cloud.google.com/shell/docs)."
   ]
  },
  {
   "cell_type": "markdown",
   "id": "783568ec",
   "metadata": {},
   "source": [
    "## 🚀 Tarea 2: Crear un entorno virtual en Python\n",
    "\n",
    "Un entorno virtual aísla las herramientas y bibliotecas de Python, evitando conflictos entre proyectos. Es como mantener libros contables separados para cada cliente.\n",
    "\n",
    "### Pasos\n",
    "1. Instala la herramienta para crear entornos virtuales:"
   ]
  },
  {
   "cell_type": "code",
   "execution_count": null,
   "id": "45e09779",
   "metadata": {},
   "outputs": [],
   "source": [
    "sudo apt-get install -y virtualenv"
   ]
  },
  {
   "cell_type": "markdown",
   "id": "3fbc838d",
   "metadata": {},
   "source": [
    "**Explicación del comando**:  \n",
    "- `sudo`: Ejecuta el comando con privilegios de administrador.  \n",
    "- `apt-get install`: Instala paquetes en sistemas basados en Debian/Ubuntu.  \n",
    "- `-y`: Acepta automáticamente las confirmaciones durante la instalación.  \n",
    "- `virtualenv`: Herramienta para crear entornos virtuales en Python.  \n",
    "💡 **Contexto empresarial**: Aislar entornos evita conflictos entre aplicaciones, asegurando que los sistemas contables funcionen sin interrupciones.\n",
    "\n",
    "2. Crea el entorno virtual:"
   ]
  },
  {
   "cell_type": "code",
   "execution_count": null,
   "id": "3640c01b",
   "metadata": {},
   "outputs": [],
   "source": [
    "python3 -m venv venv"
   ]
  },
  {
   "cell_type": "markdown",
   "id": "b620c5d8",
   "metadata": {},
   "source": [
    "**Explicación del comando**:  \n",
    "- `python3`: Usa la versión 3 de Python.  \n",
    "- `-m venv`: Ejecuta el módulo `venv` para crear un entorno virtual.  \n",
    "- `venv`: Nombre del directorio donde se crea el entorno.  \n",
    "💡 **Contexto empresarial**: Crear entornos separados permite gestionar proyectos de TI, como sistemas de facturación, sin afectar otras aplicaciones.\n",
    "\n",
    "3. Activa el entorno virtual:"
   ]
  },
  {
   "cell_type": "code",
   "execution_count": null,
   "id": "374c6549",
   "metadata": {},
   "outputs": [],
   "source": [
    "source venv/bin/activate"
   ]
  },
  {
   "cell_type": "markdown",
   "id": "0f3b67dc",
   "metadata": {},
   "source": [
    "**Explicación del comando**:  \n",
    "- `source`: Ejecuta el script de activación en la terminal actual.  \n",
    "- `venv/bin/activate`: Activa el entorno virtual, modificando la terminal para usar las bibliotecas instaladas en él.  \n",
    "💡 **Contexto empresarial**: Activar un entorno asegura que las herramientas usadas para procesos contables sean específicas y no interfieran con otros sistemas."
   ]
  },
  {
   "cell_type": "markdown",
   "id": "ab156667",
   "metadata": {},
   "source": [
    "## 🚀 Tarea 3: Instalar la biblioteca cliente\n",
    "\n",
    "Instala la biblioteca de **Pub/Sub** para Python y clona un repositorio con ejemplos.\n",
    "\n",
    "### Pasos\n",
    "1. Instala la biblioteca de Pub/Sub:"
   ]
  },
  {
   "cell_type": "code",
   "execution_count": null,
   "id": "8463aadc",
   "metadata": {},
   "outputs": [],
   "source": [
    "pip install --upgrade google-cloud-pubsub"
   ]
  },
  {
   "cell_type": "markdown",
   "id": "f2e77099",
   "metadata": {},
   "source": [
    "**Explicación del comando**:  \n",
    "- `pip install`: Instala paquetes de Python.  \n",
    "- `--upgrade`: Actualiza el paquete a la última versión si ya está instalado.  \n",
    "- `google-cloud-pubsub`: Biblioteca que permite interactuar con **Pub/Sub** desde Python.  \n",
    "💡 **Contexto empresarial**: Mantener bibliotecas actualizadas asegura que los sistemas contables usen las versiones más seguras y compatibles de las herramientas.\n",
    "\n",
    "2. Clona el repositorio de ejemplos:"
   ]
  },
  {
   "cell_type": "code",
   "execution_count": null,
   "id": "4e77fed7",
   "metadata": {},
   "outputs": [],
   "source": [
    "git clone https://github.com/googleapis/python-pubsub.git"
   ]
  },
  {
   "cell_type": "markdown",
   "id": "460b487d",
   "metadata": {},
   "source": [
    "**Explicación del comando**:  \n",
    "- `git clone`: Descarga un repositorio de GitHub.  \n",
    "- `https://github.com/googleapis/python-pubsub.git`: URL del repositorio con ejemplos de **Pub/Sub** en Python.  \n",
    "💡 **Contexto empresarial**: Usar ejemplos oficiales acelera el desarrollo de soluciones contables, como la integración de sistemas de facturación.\n",
    "\n",
    "3. Entra al directorio de ejemplos:"
   ]
  },
  {
   "cell_type": "code",
   "execution_count": null,
   "id": "1cb3b5bb",
   "metadata": {},
   "outputs": [],
   "source": [
    "cd python-pubsub/samples/snippets"
   ]
  },
  {
   "cell_type": "markdown",
   "id": "0caf42e4",
   "metadata": {},
   "source": [
    "**Explicación del comando**:  \n",
    "- `cd`: Cambia al directorio especificado.  \n",
    "- `python-pubsub/samples/snippets`: Ruta al directorio con scripts de ejemplo.  \n",
    "💡 **Contexto empresarial**: Organizar el código en directorios facilita la gestión de proyectos, especialmente en equipos que desarrollan soluciones contables."
   ]
  },
  {
   "cell_type": "markdown",
   "id": "32bf0c3b",
   "metadata": {},
   "source": [
    "## 🚀 Tarea 4: Fundamentos de Pub/Sub\n",
    "\n",
    "### Conceptos clave\n",
    "- **Tópico**: Canal donde se envían los mensajes.  \n",
    "- **Publicador**: Sistema que genera y envía mensajes al tópico.  \n",
    "- **Suscriptor**: Sistema que recibe mensajes al suscribirse al tópico.  \n",
    "\n",
    "#### Ejemplo contable\n",
    "Un tópico puede ser “Pagos realizados”. El sistema bancario (publicador) envía un mensaje cuando se acredita un pago, y el sistema contable (suscriptor) lo registra automáticamente en los libros.\n",
    "\n",
    "💡 **Beneficio empresarial**: **Pub/Sub** permite automatizar la comunicación entre sistemas, como la conciliación bancaria, reduciendo errores y ahorrando tiempo.\n",
    "\n",
    "Para más información, consulta la [Documentación de Google Cloud Pub/Sub](https://cloud.google.com/pubsub/docs)."
   ]
  },
  {
   "cell_type": "markdown",
   "id": "2f14a74b",
   "metadata": {},
   "source": [
    "## 🚀 Tarea 5: Crear un tópico\n",
    "\n",
    "Crea un tópico en **Pub/Sub** para enviar mensajes.\n",
    "\n",
    "### Pasos\n",
    "1. Verifica el ID del proyecto:"
   ]
  },
  {
   "cell_type": "code",
   "execution_count": null,
   "id": "83562090",
   "metadata": {},
   "outputs": [],
   "source": [
    "echo $GOOGLE_CLOUD_PROJECT"
   ]
  },
  {
   "cell_type": "markdown",
   "id": "125d0be3",
   "metadata": {},
   "source": [
    "**Explicación del comando**:  \n",
    "- `echo`: Muestra el valor de una variable en la terminal.  \n",
    "- `$GOOGLE_CLOUD_PROJECT`: Variable de entorno que contiene el ID del proyecto activo.  \n",
    "💡 **Contexto empresarial**: Conocer el ID del proyecto es esencial para asignar costos y recursos correctamente en la contabilidad de TI.\n",
    "\n",
    "2. Revisa el script `publisher.py`:"
   ]
  },
  {
   "cell_type": "code",
   "execution_count": null,
   "id": "51f6536c",
   "metadata": {},
   "outputs": [],
   "source": [
    "cat publisher.py"
   ]
  },
  {
   "cell_type": "markdown",
   "id": "24bea5ed",
   "metadata": {},
   "source": [
    "**Explicación del comando**:  \n",
    "- `cat`: Muestra el contenido de un archivo en la terminal.  \n",
    "- `publisher.py`: Script de Python para gestionar tópicos y publicar mensajes en **Pub/Sub**.  \n",
    "💡 **Contexto empresarial**: Revisar scripts asegura que las herramientas usadas para procesos contables sean correctas y estén bien configuradas.\n",
    "\n",
    "3. Consulta la ayuda del script:"
   ]
  },
  {
   "cell_type": "code",
   "execution_count": null,
   "id": "77eac7c6",
   "metadata": {},
   "outputs": [],
   "source": [
    "python publisher.py -h"
   ]
  },
  {
   "cell_type": "markdown",
   "id": "224bd70a",
   "metadata": {},
   "source": [
    "**Explicación del comando**:  \n",
    "- `python publisher.py -h`: Muestra la ayuda del script, detallando sus comandos y argumentos.  \n",
    "💡 **Contexto empresarial**: Entender las opciones de un script es clave para configurar correctamente flujos de datos, como los de facturación.\n",
    "\n",
    "4. Crea el tópico `MyTopic`:"
   ]
  },
  {
   "cell_type": "code",
   "execution_count": null,
   "id": "193c2bf2",
   "metadata": {},
   "outputs": [],
   "source": [
    "python publisher.py $GOOGLE_CLOUD_PROJECT create MyTopic"
   ]
  },
  {
   "cell_type": "markdown",
   "id": "807a4b83",
   "metadata": {},
   "source": [
    "**Explicación del comando**:  \n",
    "- `python publisher.py`: Ejecuta el script de publicación.  \n",
    "- `$GOOGLE_CLOUD_PROJECT`: Especifica el proyecto activo.  \n",
    "- `create MyTopic`: Crea un tópico llamado `MyTopic`.  \n",
    "💡 **Contexto empresarial**: Crear un tópico permite establecer un canal para enviar datos, como notificaciones de pagos recibidos.\n",
    "\n",
    "5. Verifica el tópico creado:"
   ]
  },
  {
   "cell_type": "code",
   "execution_count": null,
   "id": "eff52dc4",
   "metadata": {},
   "outputs": [],
   "source": [
    "python publisher.py $GOOGLE_CLOUD_PROJECT list"
   ]
  },
  {
   "cell_type": "markdown",
   "id": "96ca832c",
   "metadata": {},
   "source": [
    "**Explicación del comando**:  \n",
    "- `list`: Lista todos los tópicos en el proyecto.  \n",
    "💡 **Contexto empresarial**: Verificar los tópicos creados asegura que los canales de comunicación para datos financieros estén correctamente configurados.\n",
    "\n",
    "También puedes verificar el tópico en la consola de Google Cloud: **Navegación > Pub/Sub > Topics**.\n",
    "\n",
    "Para más información, consulta la [Documentación de Google Cloud Pub/Sub](https://cloud.google.com/pubsub/docs)."
   ]
  },
  {
   "cell_type": "markdown",
   "id": "0ea108a6",
   "metadata": {},
   "source": [
    "## 🚀 Tarea 6: Crear una suscripción\n",
    "\n",
    "Crea una suscripción para recibir mensajes del tópico `MyTopic`.\n",
    "\n",
    "### Pasos\n",
    "1. Crea la suscripción `MySub`:"
   ]
  },
  {
   "cell_type": "code",
   "execution_count": null,
   "id": "9b30c56f",
   "metadata": {},
   "outputs": [],
   "source": [
    "python subscriber.py $GOOGLE_CLOUD_PROJECT create MyTopic MySub"
   ]
  },
  {
   "cell_type": "markdown",
   "id": "ac986652",
   "metadata": {},
   "source": [
    "**Explicación del comando**:  \n",
    "- `python subscriber.py`: Ejecuta el script para gestionar suscripciones.  \n",
    "- `$GOOGLE_CLOUD_PROJECT`: Especifica el proyecto activo.  \n",
    "- `create MyTopic MySub`: Crea una suscripción llamada `MySub` para el tópico `MyTopic`.  \n",
    "💡 **Contexto empresarial**: Una suscripción permite a sistemas contables recibir datos automáticamente, como notificaciones de pagos.\n",
    "\n",
    "2. Lista las suscripciones:"
   ]
  },
  {
   "cell_type": "code",
   "execution_count": null,
   "id": "a27568e2",
   "metadata": {},
   "outputs": [],
   "source": [
    "python subscriber.py $GOOGLE_CLOUD_PROJECT list-in-project"
   ]
  },
  {
   "cell_type": "markdown",
   "id": "29b6027e",
   "metadata": {},
   "source": [
    "**Explicación del comando**:  \n",
    "- `list-in-project`: Lista todas las suscripciones en el proyecto.  \n",
    "💡 **Contexto empresarial**: Verificar las suscripciones asegura que los sistemas contables estén correctamente configurados para recibir datos.\n",
    "\n",
    "Puedes verificar la suscripción en la consola: **Navegación > Pub/Sub > Subscriptions**.\n",
    "\n",
    "Para más información, consulta la [Documentación de Google Cloud Pub/Sub](https://cloud.google.com/pubsub/docs)."
   ]
  },
  {
   "cell_type": "markdown",
   "id": "f85a42bf",
   "metadata": {},
   "source": [
    "## 🚀 Tarea 7: Publicar mensajes\n",
    "\n",
    "Publica mensajes en el tópico `MyTopic` para simular el envío de datos.\n",
    "\n",
    "### Pasos\n",
    "Ejecuta los siguientes comandos para enviar mensajes:"
   ]
  },
  {
   "cell_type": "code",
   "execution_count": null,
   "id": "58a80673",
   "metadata": {},
   "outputs": [],
   "source": [
    "gcloud pubsub topics publish MyTopic --message \"Hello\"\n",
    "gcloud pubsub topics publish MyTopic --message \"Publisher's name is <TU NOMBRE>\"\n",
    "gcloud pubsub topics publish MyTopic --message \"Publisher likes to eat <COMIDA>\"\n",
    "gcloud pubsub topics publish MyTopic --message \"Publisher thinks Pub/Sub is awesome\""
   ]
  },
  {
   "cell_type": "markdown",
   "id": "a0b18c46",
   "metadata": {},
   "source": [
    "**Explicación de los comandos**:  \n",
    "- `gcloud pubsub topics publish`: Publica un mensaje en un tópico de **Pub/Sub**.  \n",
    "- `MyTopic`: Nombre del tópico donde se envían los mensajes.  \n",
    "- `--message`: Contenido del mensaje a enviar.  \n",
    "💡 **Contexto empresarial**: Publicar mensajes simula el envío de datos financieros, como notificaciones de pagos o facturas, a sistemas contables.\n",
    "\n",
    "Para más información, consulta la [Documentación de Google Cloud Pub/Sub](https://cloud.google.com/pubsub/docs)."
   ]
  },
  {
   "cell_type": "markdown",
   "id": "79e987e3",
   "metadata": {},
   "source": [
    "## 🚀 Tarea 8: Ver los mensajes\n",
    "\n",
    "Recibe los mensajes publicados en el tópico a través de la suscripción `MySub`.\n",
    "\n",
    "### Pasos\n",
    "Ejecuta el siguiente comando para recibir mensajes:"
   ]
  },
  {
   "cell_type": "code",
   "execution_count": null,
   "id": "74238ba5",
   "metadata": {},
   "outputs": [],
   "source": [
    "python subscriber.py $GOOGLE_CLOUD_PROJECT receive MySub"
   ]
  },
  {
   "cell_type": "markdown",
   "id": "ce30be96",
   "metadata": {},
   "source": [
    "**Explicación del comando**:  \n",
    "- `python subscriber.py`: Ejecuta el script para gestionar suscripciones.  \n",
    "- `receive MySub`: Recibe mensajes de la suscripción `MySub`.  \n",
    "💡 **Contexto empresarial**: Recibir mensajes permite a sistemas contables procesar datos en tiempo real, como registrar transacciones recibidas.\n",
    "\n",
    "Para más información, consulta la [Documentación de Google Cloud Pub/Sub](https://cloud.google.com/pubsub/docs)."
   ]
  },
  {
   "cell_type": "markdown",
   "id": "0a92183b",
   "metadata": {},
   "source": [
    "## 🚀 Tarea 9: Revisión\n",
    "\n",
    "### Preguntas de repaso\n",
    "1. El servicio **Pub/Sub** de Google permite a las aplicaciones intercambiar mensajes de forma fiable, rápida y asíncrona.  \n",
    "   ✅ **Verdadero**  \n",
    "   **Explicación**: **Pub/Sub** está diseñado para manejar mensajes de manera eficiente y asíncrona, ideal para sistemas contables distribuidos.\n",
    "\n",
    "2. Un **tópico** es una cadena compartida que permite que las aplicaciones se conecten entre sí.  \n",
    "   ✅ **Verdadero**  \n",
    "   **Explicación**: Un tópico actúa como un canal de comunicación entre publicadores y suscriptores.\n",
    "\n",
    "### Cuadro resumen: Funciones y comandos de Pub/Sub (orientado a contabilidad)\n",
    "| Concepto | Descripción contable |\n",
    "|----------|---------------------|\n",
    "| **Tópico** | Canal temático como “pagos realizados” o “facturas emitidas”. |\n",
    "| **Publicador** | Sistema que genera datos (ej. facturador electrónico). |\n",
    "| **Suscriptor** | Sistema que recibe datos (ej. conciliación bancaria). |\n",
    "| **gcloud** | Herramienta para emitir comandos en la nube (como ejecutar macros contables). |\n",
    "| **python publisher.py** | Script para crear tópicos y publicar datos. |\n",
    "| **python subscriber.py** | Script para recibir y gestionar datos desde un tópico. |\n",
    "\n",
    "💡 **Contexto empresarial**: Este cuadro resume cómo **Pub/Sub** puede aplicarse a procesos contables, como la automatización de registros financieros."
   ]
  },
  {
   "cell_type": "markdown",
   "id": "a16d5f9b",
   "metadata": {},
   "source": [
    "## 🚀 Tarea 10: Resumen del Laboratorio\n",
    "\n",
    "| Tarea | Descripción breve |\n",
    "|-------|-------------------|\n",
    "| **Activar Cloud Shell** | Permite ejecutar comandos en la nube desde la terminal integrada. |\n",
    "| **Crear entorno virtual** | Aísla las herramientas para evitar conflictos. |\n",
    "| **Instalar biblioteca** | Instala el paquete de Python para usar **Pub/Sub**. |\n",
    "| **Crear tópico** | Define el canal de comunicación entre sistemas. |\n",
    "| **Crear suscripción** | Configura el sistema receptor de mensajes. |\n",
    "| **Publicar mensajes** | Enviar datos al canal para su recepción posterior. |\n",
    "| **Ver mensajes** | Consultar los datos enviados desde otro sistema. |\n",
    "\n",
    "💡 **Beneficio empresarial**: Este flujo permite automatizar procesos contables, como la notificación de transacciones o la conciliación bancaria, mejorando la eficiencia y reduciendo errores."
   ]
  },
  {
   "cell_type": "markdown",
   "id": "05cd500a",
   "metadata": {},
   "source": [
    "## 🚀 Tarea 11: Cuestionario final\n",
    "\n",
    "| Nº | Pregunta | Respuesta Correcta | V/F | Explicación |\n",
    "|----|----------|-------------------|-----|-------------|\n",
    "| 1 | ¿Qué sistema de gestión de API admite aplicaciones en App Engine, GKE y Compute Engine? | **Cloud Endpoints** | Verdadero ✅ | Compatible con los principales servicios de Google Cloud; permite gestionar APIs sin aprovisionamiento adicional. |\n",
    "| 2 | ¿Qué plataforma para APIs se enfoca en problemas de negocio como cuotas y analítica? | **Apigee API Management** | Verdadero ✅ | Apigee está orientado a la gestión avanzada de APIs, incluyendo límites de uso, seguridad, monetización y análisis. |\n",
    "| 3 | ¿Qué afirmación sobre Pub/Sub es verdadera? | **Pub/Sub’s APIs are open** | Verdadero ✅ | Pub/Sub utiliza APIs abiertas, permitiendo una integración estándar con múltiples sistemas. |\n",
    "| 4 | ¿Qué significa API? | **Application Programming Interface** | Verdadero ✅ | API es una interfaz que permite que dos aplicaciones se comuniquen entre sí. |\n",
    "| 5 | Pub/Sub requiere aprovisionamiento | **Falso** | Falso ❌ | Pub/Sub es un servicio serverless totalmente gestionado; no requiere aprovisionar infraestructura. |\n",
    "| 6 | Pub/Sub es regional por defecto | **Falso** | Falso ❌ | Es global por defecto, lo que permite alta disponibilidad entre regiones. |\n",
    "| 7 | Pub/Sub no está encriptado | **Falso** | Falso ❌ | Los datos se cifran en tránsito y en reposo por defecto usando claves de Google Cloud. |\n",
    "\n",
    "💡 **Contexto empresarial**: Estas preguntas refuerzan la comprensión de **Pub/Sub** y su aplicación en entornos empresariales, como la automatización de flujos contables."
   ]
  },
  {
   "cell_type": "markdown",
   "id": "47d33cf3",
   "metadata": {},
   "source": [
    "## 🚀 Conclusión\n",
    "\n",
    "Este laboratorio te ha permitido configurar y usar **Google Cloud Pub/Sub** con Python, desde la creación de un entorno virtual hasta la publicación y recepción de mensajes. Estas habilidades son esenciales para automatizar procesos empresariales, como la gestión de transacciones o la conciliación bancaria, en un entorno escalable y seguro.\n",
    "\n",
    "💡 **Beneficio empresarial**: **Pub/Sub** permite a las empresas integrar sistemas de forma asíncrona, reduciendo costos operativos y mejorando la eficiencia en procesos contables, como la notificación automática de pagos o la actualización de libros financieros.\n",
    "\n",
    "Para más información, consulta la [Documentación de Google Cloud Pub/Sub](https://cloud.google.com/pubsub/docs)."
   ]
  }
 ],
 "metadata": {
  "kernelspec": {
   "display_name": "Python 3 (ipykernel)",
   "language": "python",
   "name": "python3"
  },
  "language_info": {
   "codemirror_mode": {
    "name": "ipython",
    "version": 3
   },
   "file_extension": ".py",
   "mimetype": "text/x-python",
   "name": "python",
   "nbconvert_exporter": "python",
   "pygments_lexer": "ipython3",
   "version": "3.9.21"
  }
 },
 "nbformat": 4,
 "nbformat_minor": 5
}
