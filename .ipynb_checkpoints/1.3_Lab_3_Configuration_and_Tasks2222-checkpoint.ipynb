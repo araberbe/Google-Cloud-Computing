{
 "cells": [
  {
   "cell_type": "markdown",
   "metadata": {},
   "source": [
    "# Lab 3: Configuración y Tareas con Compute Engine 📌\n",
    "\n",
    "## Configura la Región y la Zona ⚙️\n",
    "\n",
    "### Pasos 💡\n",
    "1. Establece la región: `gcloud config set compute/region REGION`\n",
    "2. Crea variable de región: `export REGION=REGION`\n",
    "3. Crea variable de zona: `export ZONE=Zone`\n",
    "\n",
    "Nota: En *Cloud Shell*, configura esto en cada sesión. Útil para automatizar tareas empresariales.\n",
    "\n",
    "[Guía de regiones aquí](https://cloud.google.com/compute/docs/regions-zones/regions-zones).\n"
   ]
  },
  {
   "cell_type": "markdown",
   "metadata": {},
   "source": [
    "## Información sobre Regiones y Zonas ☁️\n",
    "\n",
    "### Explicación 💡\n",
    "Los recursos de *Compute Engine* se alojan en regiones (e.g., `us-central1`) y zonas (e.g., `us-central1-a`). Ejemplos:\n",
    "| **Regiones**      | **Zonas**                          |\n",
    "|--------------------|------------------------------------|\n",
    "| Oeste de EE.UU.   | us-west1-a, us-west1-b             |\n",
    "| EE.UU. Central    | us-central1-a, us-central1-b, us-central1-d, us-central1-f |\n",
    "| Este de EE.UU.    | us-east1-b, us-east1-c, us-east1-d |\n",
    "| Europa Occidental | europe-west1-b, europe-west1-c, europe-west1-d |\n",
    "| Asia Oriental     | asia-east1-a, asia-east1-b, asia-east1-c |\n",
    "\n",
    "Los recursos zonales (como VMs) deben estar en la misma zona o región, optimizando costos y conectividad empresarial.\n",
    "\n",
    "[Más sobre regiones y zonas aquí](https://cloud.google.com/compute/docs/regions-zones/).\n"
   ]
  },
  {
   "cell_type": "markdown",
   "metadata": {},
   "source": [
    "## Tarea 1: Crea una Nueva Instancia 📦\n",
    "\n",
    "### Proceso 💡\n",
    "Crea una *VM* con *Compute Engine* desde la consola:\n",
    "1. En el **Menú de navegación** ![Ícono del menú](./media/image2.png), ve a *Compute Engine* > *Instancias de VM*.\n",
    "2. Haz clic en **CREAR INSTANCIA**.\n",
    "3. Configura los parámetros:\n",
    "   | **Campo**         | **Valor**                     | **Información adicional**                                      |\n",
    "   |-------------------|--------------------------------|---------------------------------------------------------------|\n",
    "   | Nombre            | gcelab                        | Nombre de la *VM*.                                            |\n",
    "   | Región            | <REGION>                      | Consulta [regiones y zonas](https://cloud.google.com/compute/docs/zones). |\n",
    "   | Zona              | <ZONE>                        | Recuerda esta zona para usarla después.                       |\n",
    "   | Serie             | E2                            | Serie de máquina.                                             |\n",
    "   | Tipo de máquina   | 2 CPU virtuales               | e2-medium (2 CPU, 4 GB RAM).                                  |\n",
    "   | Disco de arranque | 10 GB, Debian GNU/Linux 11    | Imagen base.                                                  |\n",
    "   | Firewall          | Permitir tráfico HTTP         | Habilita puerto 80 para un servidor web.                      |\n",
    "4. Haz clic en **Crear**.\n",
    "\n",
    "La *VM* (`gcelab`) tardará un minuto en crearse. Usa **SSH** para conectarte.\n",
    "\n",
    "[Guía de instancias aquí](https://cloud.google.com/compute/docs/instances/connecting-to-instance).\n"
   ]
  },
  {
   "cell_type": "markdown",
   "metadata": {},
   "source": [
    "## Tarea 2: Instala un Servidor Web NGINX 🚀\n",
    "\n",
    "### Pasos 💡\n",
    "Instala *NGINX* en `gcelab` para un servidor web empresarial:\n",
    "1. Actualiza el sistema: `sudo apt-get update`\n",
    "2. Instala *NGINX*: `sudo apt-get install -y nginx`\n",
    "3. Verifica ejecución: `ps auwx | grep nginx`\n",
    "4. Accede a la página: Usa la **IP externa** en `http://EXTERNAL_IP/` para ver: ![Página de NGINX](./media/image3.png)\n",
    "\n",
    "Esto simula un sitio interno para reportes contables.\n"
   ]
  },
  {
   "cell_type": "code",
   "execution_count": null,
   "metadata": {},
   "outputs": [],
   "source": [
    "# Actualiza y instala NGINX\n",
    "sudo apt-get update\n",
    "sudo apt-get install -y nginx"
   ]
  },
  {
   "cell_type": "markdown",
   "metadata": {},
   "source": [
    "## Tarea 3: Crea una Instancia Nueva con gcloud 📦\n",
    "\n",
    "### Proceso 💡\n",
    "Crea otra *VM* (`gcelab2`) con *gcloud*:\n",
    "1. Ejecuta: `gcloud compute instances create gcelab2 --machine-type e2-medium --zone=$ZONE`\n",
    "2. Valores predeterminados: Última imagen Debian, tipo e2-medium, disco persistente.\n",
    "3. Verifica ayuda: `gcloud compute instances create --help`\n",
    "4. Conéctate vía SSH: `gcloud compute ssh gcelab2 --zone=$ZONE`, acepta con `Y`, deja frase vacía, y sal con `exit`.\n",
    "\n",
    "Útil para escalar servidores en picos de trabajo.\n",
    "\n",
    "[Más sobre gcloud aquí](https://cloud.google.com/sdk/gcloud/).\n"
   ]
  },
  {
   "cell_type": "code",
   "execution_count": null,
   "metadata": {},
   "outputs": [],
   "source": [
    "# Crea una nueva VM con gcloud\n",
    "gcloud compute instances create gcelab2 --machine-type e2-medium --zone=$ZONE"
   ]
  },
  {
   "cell_type": "markdown",
   "metadata": {},
   "source": [
    "## Tarea 4: Pon a Prueba tus Conocimientos 💡\n",
    "\n",
    "### Pregunta 💡\n",
    "¿De qué maneras puedes crear una instancia de *VM* en *Compute Engine*?\n",
    "- **Cloud Console**: Interfaz gráfica.\n",
    "- **gcloud command line tool**: Línea de comandos.\n",
    "\n",
    "Estas opciones facilitan la gestión según tus necesidades empresariales.\n",
    "\n",
    "[Guía general aquí](https://cloud.google.com/compute/docs/instances/creating-instance).\n"
   ]
  }
 ],
 "metadata": {
  "kernelspec": {
   "display_name": "Python 3",
   "language": "python",
   "name": "python3"
  },
  "language_info": {
   "codemirror_mode": {
    "name": "ipython",
    "version": 3
   },
   "file_extension": ".py",
   "mimetype": "text/x-python",
   "name": "python",
   "nbconvert_exporter": "python",
   "pygments_lexer": "ipython3",
   "version": "3.8"
  }
 },
 "nbformat": 4,
 "nbformat_minor": 4
}