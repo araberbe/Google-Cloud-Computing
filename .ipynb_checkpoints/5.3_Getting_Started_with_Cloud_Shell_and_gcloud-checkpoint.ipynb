{
 "cells": [
  {
   "cell_type": "markdown",
   "id": "intro",
   "metadata": {},
   "source": [
    "# 📌 Configuración del Entorno en Google Cloud con Cloud Shell y gcloud\n",
    "\n",
    "## Introducción\n",
    "\n",
    "Este laboratorio te guiará en los pasos iniciales para configurar tu entorno de desarrollo en **Google Cloud**, utilizando **Cloud Shell** y la herramienta de línea de comandos **gcloud**. Aprenderás a comprender regiones y zonas, configurar proyectos, crear máquinas virtuales (VM), gestionar reglas de firewall, y consultar registros del sistema. Todo esto se explica en términos simples, adaptados para un público no técnico, con un enfoque en los beneficios empresariales, como la automatización de procesos y la optimización de costos.\n",
    "\n",
    "💡 **Beneficio empresarial**: Configurar entornos en la nube permite a las empresas implementar recursos de manera eficiente, reducir costos de infraestructura física y escalar operaciones, como sistemas contables o de gestión, según la demanda.\n",
    "\n",
    "Para más información sobre Google Cloud, consulta la [Documentación oficial de Google Cloud](https://cloud.google.com/docs)."
   ]
  },
  {
   "cell_type": "markdown",
   "id": "objetivos",
   "metadata": {},
   "source": [
    "## 🚀 Objetivos del laboratorio\n",
    "\n",
    "- Comprender el concepto de regiones y zonas en **Google Cloud**.\n",
    "- Configurar un proyecto usando **gcloud** en **Cloud Shell**.\n",
    "- Crear y gestionar una máquina virtual (VM).\n",
    "- Aplicar reglas de firewall para controlar el acceso a recursos.\n",
    "- Consultar registros del sistema para auditoría y diagnóstico.\n",
    "\n",
    "💡 **Contexto empresarial**: Estas habilidades son esenciales para gestionar recursos en la nube, como servidores para aplicaciones contables o bases de datos, asegurando alta disponibilidad y seguridad."
   ]
  },
  {
   "cell_type": "markdown",
   "id": "regiones_zonas",
   "metadata": {},
   "source": [
    "## 🚀 Tarea 1: Comprendiendo Regiones y Zonas\n",
    "\n",
    "### ¿Qué son las regiones?\n",
    "Una **región** en **Google Cloud** es una ubicación geográfica específica donde se ejecutan los recursos, como servidores o bases de datos. Por ejemplo, `us-central1` está en el centro de Estados Unidos. Elegir la región adecuada reduce la latencia y optimiza costos al acercar los recursos a los usuarios.\n",
    "\n",
    "### ¿Qué son las zonas?\n",
    "Las **zonas** son subdivisiones físicas dentro de una región, como `us-central1-a` o `us-central1-b`. Cada región contiene varias zonas para garantizar alta disponibilidad y redundancia.\n",
    "\n",
    "#### Ejemplo de regiones y zonas\n",
    "| Región Occidental EE.UU. | Región Central EE.UU. | Región Oriental EE.UU. | Europa Occidental | Asia Oriental |\n",
    "|-------------------------|----------------------|-----------------------|------------------|--------------|\n",
    "| us-west1-a             | us-central1-a        | us-east1-b            | europe-west1-b   | asia-east1-a |\n",
    "| us-west1-b             | us-central1-b        | us-east1-c            | europe-west1-c   | asia-east1-b |\n",
    "| -                      | us-central1-c        | us-east1-d            | europe-west1-d   | asia-east1-c |\n",
    "| -                      | us-central1-f        | -                     | -                | -            |\n",
    "\n",
    "### Recursos zonales\n",
    "- Recursos como máquinas virtuales o discos persistentes son **zonales**, lo que significa que deben estar en la misma zona para funcionar juntos.\n",
    "- Las IPs estáticas deben estar en la misma región que los recursos asociados.\n",
    "\n",
    "💡 **Contexto empresarial**: Elegir la región y zona correctas optimiza el rendimiento de aplicaciones empresariales, como sistemas de contabilidad, y reduce costos al minimizar la latencia.\n",
    "\n",
    "Para más información, consulta la [Documentación de regiones y zonas](https://cloud.google.com/compute/docs/regions-zones)."
   ]
  },
  {
   "cell_type": "markdown",
   "id": "config_proyecto",
   "metadata": {},
   "source": [
    "## 🚀 Tarea 2: Configuración del Proyecto en gcloud\n",
    "\n",
    "En esta tarea, configurarás la región, zona y proyecto en **Cloud Shell** usando comandos **gcloud**.\n",
    "\n",
    "### Establecer la región\n",
    "Define la región predeterminada para los recursos:"
   ]
  },
  {
   "cell_type": "code",
   "execution_count": null,
   "id": "set_region",
   "metadata": {},
   "outputs": [],
   "source": [
    "gcloud config set compute/region us-central1"
   ]
  },
  {
   "cell_type": "markdown",
   "id": "set_region_explain",
   "metadata": {},
   "source": [
    "**Explicación del comando**:  \n",
    "- `gcloud config set compute/region`: Establece la región predeterminada.  \n",
    "- `us-central1`: Ejemplo de región; cámbialo según las instrucciones del laboratorio.  \n",
    "💡 **Contexto empresarial**: Configurar una región asegura que los recursos estén cerca de los usuarios, mejorando la velocidad de acceso a datos, como reportes financieros.\n",
    "\n",
    "Verifica la región configurada:"
   ]
  },
  {
   "cell_type": "code",
   "execution_count": null,
   "id": "get_region",
   "metadata": {},
   "outputs": [],
   "source": [
    "gcloud config get-value compute/region"
   ]
  },
  {
   "cell_type": "markdown",
   "id": "set_zone",
   "metadata": {},
   "source": [
    "### Establecer la zona\n",
    "Define la zona predeterminada para los recursos:"
   ]
  },
  {
   "cell_type": "code",
   "execution_count": null,
   "id": "set_zone_cmd",
   "metadata": {},
   "outputs": [],
   "source": [
    "gcloud config set compute/zone us-central1-a"
   ]
  },
  {
   "cell_type": "markdown",
   "id": "set_zone_explain",
   "metadata": {},
   "source": [
    "**Explicación del comando**:  \n",
    "- `gcloud config set compute/zone`: Establece la zona predeterminada.  \n",
    "- `us-central1-a`: Ejemplo de zona; cámbialo según las instrucciones.  \n",
    "💡 **Contexto empresarial**: Configurar una zona garantiza que los recursos, como servidores para aplicaciones contables, estén bien organizados y accesibles.\n",
    "\n",
    "Verifica la zona configurada:"
   ]
  },
  {
   "cell_type": "code",
   "execution_count": null,
   "id": "get_zone",
   "metadata": {},
   "outputs": [],
   "source": [
    "gcloud config get-value compute/zone"
   ]
  },
  {
   "cell_type": "markdown",
   "id": "project_info",
   "metadata": {},
   "source": [
    "### Encontrar información del proyecto\n",
    "Obtén el ID del proyecto activo:"
   ]
  },
  {
   "cell_type": "code",
   "execution_count": null,
   "id": "get_project",
   "metadata": {},
   "outputs": [],
   "source": [
    "gcloud config get-value project"
   ]
  },
  {
   "cell_type": "markdown",
   "id": "get_project_explain",
   "metadata": {},
   "source": [
    "**Explicación del comando**:  \n",
    "- `gcloud config get-value project`: Muestra el ID del proyecto activo, esencial para asociar recursos correctamente.  \n",
    "💡 **Contexto empresarial**: Conocer el ID del proyecto ayuda a gestionar costos y recursos en proyectos empresariales, como sistemas de facturación.\n",
    "\n",
    "Ver detalles completos del proyecto:"
   ]
  },
  {
   "cell_type": "code",
   "execution_count": null,
   "id": "project_info_cmd",
   "metadata": {},
   "outputs": [],
   "source": [
    "gcloud compute project-info describe --project $(gcloud config get-value project)"
   ]
  },
  {
   "cell_type": "markdown",
   "id": "project_info_explain",
   "metadata": {},
   "source": [
    "**Explicación del comando**:  \n",
    "- `gcloud compute project-info describe`: Muestra información detallada, como región y zona predeterminadas.  \n",
    "- `--project $(gcloud config get-value project)`: Usa el ID del proyecto activo.  \n",
    "🔸 **Nota**: Si las claves `google-compute-default-region` o `google-compute-default-zone` no aparecen, no están configuradas.  \n",
    "💡 **Contexto empresarial**: Esta información es útil para auditorías de TI y para asegurar que los recursos estén bien configurados.\n",
    "\n",
    "Para más información, consulta la [Documentación de gcloud](https://cloud.google.com/sdk/gcloud)."
   ]
  },
  {
   "cell_type": "markdown",
   "id": "env_vars",
   "metadata": {},
   "source": [
    "## 🚀 Tarea 3: Establecer Variables de Entorno\n",
    "\n",
    "Las variables de entorno simplifican el uso de comandos al almacenar valores reutilizables, como el ID del proyecto o la zona.\n",
    "\n",
    "### Configurar variables\n",
    "Guarda el ID del proyecto:"
   ]
  },
  {
   "cell_type": "code",
   "execution_count": null,
   "id": "set_project_id",
   "metadata": {},
   "outputs": [],
   "source": [
    "export PROJECT_ID=$(gcloud config get-value project)"
   ]
  },
  {
   "cell_type": "markdown",
   "id": "set_project_id_explain",
   "metadata": {},
   "source": [
    "Guarda la zona:"
   ]
  },
  {
   "cell_type": "code",
   "execution_count": null,
   "id": "set_zone_var",
   "metadata": {},
   "outputs": [],
   "source": [
    "export ZONE=$(gcloud config get-value compute/zone)"
   ]
  },
  {
   "cell_type": "markdown",
   "id": "verify_vars",
   "metadata": {},
   "source": [
    "Verifica las variables configuradas:"
   ]
  },
  {
   "cell_type": "code",
   "execution_count": null,
   "id": "echo_vars",
   "metadata": {},
   "outputs": [],
   "source": [
    "echo -e \"PROJECT ID: $PROJECT_ID\\nZONE: $ZONE\""
   ]
  },
  {
   "cell_type": "markdown",
   "id": "vars_explain",
   "metadata": {},
   "source": [
    "**Explicación de los comandos**:  \n",
    "- `export PROJECT_ID=...`: Almacena el ID del proyecto en una variable.  \n",
    "- `export ZONE=...`: Almacena la zona en una variable.  \n",
    "- `echo -e ...`: Muestra los valores de las variables.  \n",
    "💡 **Contexto empresarial**: Usar variables agiliza la automatización de tareas, como la configuración de servidores para sistemas contables, reduciendo errores humanos.\n",
    "\n",
    "Para más información, consulta la [Documentación de gcloud](https://cloud.google.com/sdk/gcloud)."
   ]
  },
  {
   "cell_type": "markdown",
   "id": "create_vm",
   "metadata": {},
   "source": [
    "## 🚀 Tarea 4: Crear una Máquina Virtual (VM) con gcloud\n",
    "\n",
    "Crearás una máquina virtual para alojar aplicaciones, como un servidor web.\n",
    "\n",
    "### Crear una VM"
   ]
  },
  {
   "cell_type": "code",
   "execution_count": null,
   "id": "create_vm_cmd",
   "metadata": {},
   "outputs": [],
   "source": [
    "gcloud compute instances create gcelab2 --machine-type e2-medium --zone $ZONE"
   ]
  },
  {
   "cell_type": "markdown",
   "id": "create_vm_explain",
   "metadata": {},
   "source": [
    "**Explicación del comando**:  \n",
    "- `gcloud compute instances create`: Crea una nueva VM.  \n",
    "- `gcelab2`: Nombre de la VM.  \n",
    "- `--machine-type e2-medium`: Tipo de máquina con recursos moderados.  \n",
    "- `--zone $ZONE`: Usa la zona almacenada en la variable.  \n",
    "\n",
    "**Resultado esperado**:  \n",
    "Una tabla con los detalles de la VM:  \n",
    "| NAME     | ZONE          | MACHINE_TYPE | INTERNAL_IP | EXTERNAL_IP  | STATUS  |\n",
    "|----------|---------------|--------------|-------------|--------------|---------|\n",
    "| gcelab2  | us-central1-a | e2-medium    | 10.128.0.2  | 34.67.152.90 | RUNNING |\n",
    "\n",
    "💡 **Contexto empresarial**: Las VMs permiten alojar aplicaciones empresariales, como sistemas de gestión o servidores web, con flexibilidad para escalar según las necesidades.\n",
    "\n",
    "Para más información, consulta la [Documentación de Compute Engine](https://cloud.google.com/compute/docs)."
   ]
  },
  {
   "cell_type": "markdown",
   "id": "check_progress",
   "metadata": {},
   "source": [
    "### Verificar el progreso\n",
    "Haz clic en **Check my progress** en el entorno del laboratorio para confirmar que la VM se creó correctamente."
   ]
  },
  {
   "cell_type": "markdown",
   "id": "gcloud_help",
   "metadata": {},
   "source": [
    "## 🚀 Tarea 5: Obtener Ayuda sobre Comandos gcloud\n",
    "\n",
    "Explora los comandos disponibles en **gcloud** para gestionar recursos.\n",
    "\n",
    "### Ayuda general"
   ]
  },
  {
   "cell_type": "code",
   "execution_count": null,
   "id": "gcloud_help_cmd",
   "metadata": {},
   "outputs": [],
   "source": [
    "gcloud -h"
   ]
  },
  {
   "cell_type": "markdown",
   "id": "gcloud_help_explain",
   "metadata": {},
   "source": [
    "**Explicación del comando**:  \n",
    "- `gcloud -h`: Muestra un resumen de los comandos disponibles.  \n",
    "\n",
    "### Ayuda específica sobre configuración"
   ]
  },
  {
   "cell_type": "code",
   "execution_count": null,
   "id": "gcloud_config_help",
   "metadata": {},
   "outputs": [],
   "source": [
    "gcloud config --help"
   ]
  },
  {
   "cell_type": "markdown",
   "id": "gcloud_config_help_explain",
   "metadata": {},
   "source": [
    "**Explicación del comando**:  \n",
    "- `gcloud config --help`: Muestra detalles sobre la gestión de configuraciones.  \n",
    "🔸 **Nota**: Presiona **Q** para salir de la vista de ayuda.  \n",
    "💡 **Contexto empresarial**: Conocer los comandos disponibles permite automatizar tareas, como la configuración de entornos para aplicaciones financieras."
   ]
  },
  {
   "cell_type": "markdown",
   "id": "list_configs",
   "metadata": {},
   "source": [
    "## 🚀 Tarea 6: Consultar Configuraciones y Componentes\n",
    "\n",
    "Consulta las configuraciones activas y los componentes instalados del **gcloud SDK**.\n",
    "\n",
    "### Ver configuraciones activas"
   ]
  },
  {
   "cell_type": "code",
   "execution_count": null,
   "id": "list_configs_cmd",
   "metadata": {},
   "outputs": [],
   "source": [
    "gcloud config list"
   ]
  },
  {
   "cell_type": "markdown",
   "id": "list_configs_explain",
   "metadata": {},
   "source": [
    "**Explicación del comando**:  \n",
    "- `gcloud config list`: Muestra las configuraciones activas, como región y zona.  \n",
    "\n",
    "### Ver todas las propiedades disponibles"
   ]
  },
  {
   "cell_type": "code",
   "execution_count": null,
   "id": "list_all_configs",
   "metadata": {},
   "outputs": [],
   "source": [
    "gcloud config list --all"
   ]
  },
  {
   "cell_type": "markdown",
   "id": "list_components",
   "metadata": {},
   "source": [
    "### Ver componentes del SDK"
   ]
  },
  {
   "cell_type": "code",
   "execution_count": null,
   "id": "list_components_cmd",
   "metadata": {},
   "outputs": [],
   "source": [
    "gcloud components list"
   ]
  },
  {
   "cell_type": "markdown",
   "id": "list_components_explain",
   "metadata": {},
   "source": [
    "**Explicación del comando**:  \n",
    "- `gcloud components list`: Muestra los componentes instalados del **gcloud SDK**.  \n",
    "💡 **Contexto empresarial**: Conocer las configuraciones y herramientas disponibles facilita la gestión de recursos en proyectos empresariales.\n",
    "\n",
    "Para más información, consulta la [Documentación de gcloud SDK](https://cloud.google.com/sdk/docs)."
   ]
  },
  {
   "cell_type": "markdown",
   "id": "list_instances",
   "metadata": {},
   "source": [
    "## 🚀 Tarea 7: Filtrar la Salida de Comandos en la Terminal\n",
    "\n",
    "**gcloud** es una herramienta de línea de comandos que permite gestionar recursos en **Google Cloud** de forma eficiente, ideal para automatizar tareas.\n",
    "\n",
    "### Listar instancias de cómputo"
   ]
  },
  {
   "cell_type": "code",
   "execution_count": null,
   "id": "list_instances_cmd",
   "metadata": {},
   "outputs": [],
   "source": [
    "gcloud compute instances list"
   ]
  },
  {
   "cell_type": "markdown",
   "id": "list_instances_explain",
   "metadata": {},
   "source": [
    "**Explicación del comando**:  \n",
    "- `gcloud compute instances list`: Lista todas las máquinas virtuales en el proyecto.  \n",
    "**Resultado esperado**:  \n",
    "| NAME     | ZONE          | MACHINE_TYPE | PREEMPTIBLE | INTERNAL_IP | EXTERNAL_IP  | STATUS  |\n",
    "|----------|---------------|--------------|-------------|-------------|--------------|---------|\n",
    "| gcelab2  | us-central1-a | e2-medium    |             | 10.142.0.2  | 35.237.43.111| RUNNING |\n",
    "\n",
    "💡 **Contexto empresarial**: Listar instancias permite auditar los recursos activos, útil para controlar costos en departamentos de TI.\n",
    "\n",
    "### Filtrar por nombre una VM específica"
   ]
  },
  {
   "cell_type": "code",
   "execution_count": null,
   "id": "filter_instance",
   "metadata": {},
   "outputs": [],
   "source": [
    "gcloud compute instances list --filter=\"name=('gcelab2')\""
   ]
  },
  {
   "cell_type": "markdown",
   "id": "filter_instance_explain",
   "metadata": {},
   "source": [
    "**Explicación del comando**:  \n",
    "- `--filter=\"name=('gcelab2')\"`: Muestra solo la VM con el nombre `gcelab2`.  \n",
    "💡 **Contexto empresarial**: Filtrar recursos específicos agiliza la gestión de activos en proyectos grandes.\n",
    "\n",
    "### Listar reglas de firewall"
   ]
  },
  {
   "cell_type": "code",
   "execution_count": null,
   "id": "list_firewall",
   "metadata": {},
   "outputs": [],
   "source": [
    "gcloud compute firewall-rules list"
   ]
  },
  {
   "cell_type": "markdown",
   "id": "list_firewall_explain",
   "metadata": {},
   "source": [
    "**Explicación del comando**:  \n",
    "- `gcloud compute firewall-rules list`: Muestra todas las reglas de firewall.  \n",
    "**Resultado esperado**:  \n",
    "| NAME                    | NETWORK | DIRECTION | PRIORITY | ALLOW                        | DENY | DISABLED |\n",
    "|-------------------------|---------|-----------|----------|------------------------------|------|----------|\n",
    "| default-allow-icmp      | default | INGRESS   | 65534    | icmp                         |      | False    |\n",
    "| default-allow-internal  | default | INGRESS   | 65534    | tcp:0-65535,udp:0-65535,icmp |      | False    |\n",
    "| default-allow-rdp       | default | INGRESS   | 65534    | tcp:3389                     |      | False    |\n",
    "| default-allow-ssh       | default | INGRESS   | 65534    | tcp:22                       |      | False    |\n",
    "\n",
    "### Filtrar reglas de firewall (red default)"
   ]
  },
  {
   "cell_type": "code",
   "execution_count": null,
   "id": "filter_firewall_default",
   "metadata": {},
   "outputs": [],
   "source": [
    "gcloud compute firewall-rules list --filter=\"network='default'\""
   ]
  },
  {
   "cell_type": "markdown",
   "id": "filter_firewall_default_explain",
   "metadata": {},
   "source": [
    "**Explicación del comando**:  \n",
    "- `--filter=\"network='default'\"`: Muestra solo las reglas de la red `default`.  \n",
    "\n",
    "### Filtrar reglas que permiten ICMP"
   ]
  },
  {
   "cell_type": "code",
   "execution_count": null,
   "id": "filter_firewall_icmp",
   "metadata": {},
   "outputs": [],
   "source": [
    "gcloud compute firewall-rules list --filter=\"NETWORK:'default' AND ALLOW:'icmp'\""
   ]
  },
  {
   "cell_type": "markdown",
   "id": "filter_firewall_icmp_explain",
   "metadata": {},
   "source": [
    "**Explicación del comando**:  \n",
    "- `--filter=\"NETWORK:'default' AND ALLOW:'icmp'\"`: Muestra reglas en la red `default` que permiten tráfico ICMP (usado para ping).  \n",
    "💡 **Contexto empresarial**: Las reglas de firewall aseguran que solo el tráfico autorizado acceda a los recursos, protegiendo datos sensibles como registros financieros.\n",
    "\n",
    "Para más información, consulta la [Documentación de reglas de firewall](https://cloud.google.com/vpc/docs/firewalls)."
   ]
  },
  {
   "cell_type": "markdown",
   "id": "ssh_vm",
   "metadata": {},
   "source": [
    "## 🚀 Tarea 8: Conectarse a la Máquina Virtual (VM)\n",
    "\n",
    "### ¿Qué es SSH?\n",
    "**SSH** (Secure Shell) es un protocolo seguro para conectarse remotamente a una máquina virtual, ideal para administrar servidores sin interfaces gráficas.\n",
    "\n",
    "### Conexión a la VM"
   ]
  },
  {
   "cell_type": "code",
   "execution_count": null,
   "id": "ssh_cmd",
   "metadata": {},
   "outputs": [],
   "source": [
    "gcloud compute ssh gcelab2 --zone $ZONE"
   ]
  },
  {
   "cell_type": "markdown",
   "id": "ssh_explain",
   "metadata": {},
   "source": [
    "**Explicación del comando**:  \n",
    "- `gcloud compute ssh`: Inicia una conexión SSH.  \n",
    "- `gcelab2`: Nombre de la VM.  \n",
    "- `--zone $ZONE`: Especifica la zona de la VM.  \n",
    "**Comportamiento esperado**:  \n",
    "- Si es la primera vez, se generarán claves SSH.  \n",
    "- Presiona **Y** para continuar y deja la frase de contraseña vacía (presiona Enter dos veces).  \n",
    "- El prompt cambiará a algo como `sa_107021519685252337470@gcelab2`, indicando que estás dentro de la VM.  \n",
    "\n",
    "### Instalar un servidor web (nginx)"
   ]
  },
  {
   "cell_type": "code",
   "execution_count": null,
   "id": "install_nginx",
   "metadata": {},
   "outputs": [],
   "source": [
    "sudo apt install -y nginx"
   ]
  },
  {
   "cell_type": "markdown",
   "id": "nginx_explain",
   "metadata": {},
   "source": [
    "**Explicación del comando**:  \n",
    "- `sudo`: Ejecuta el comando como administrador.  \n",
    "- `apt install -y`: Instala paquetes en sistemas basados en Debian.  \n",
    "- `nginx`: Servidor web ligero para alojar aplicaciones.  \n",
    "💡 **Contexto empresarial**: Un servidor web como **nginx** permite alojar aplicaciones empresariales, como portales de clientes o sistemas de facturación en línea.\n",
    "\n",
    "### Salir de la sesión remota"
   ]
  },
  {
   "cell_type": "code",
   "execution_count": null,
   "id": "exit_ssh",
   "metadata": {},
   "outputs": [],
   "source": [
    "exit"
   ]
  },
  {
   "cell_type": "markdown",
   "id": "exit_ssh_explain",
   "metadata": {},
   "source": [
    "**Explicación del comando**:  \n",
    "- `exit`: Cierra la conexión SSH y regresa a **Cloud Shell**.  \n",
    "💡 **Contexto empresarial**: Conexiones remotas seguras son clave para administrar servidores empresariales sin riesgos de seguridad.\n",
    "\n",
    "Para más información, consulta la [Documentación de Compute Engine SSH](https://cloud.google.com/compute/docs/ssh-in-browser)."
   ]
  },
  {
   "cell_type": "markdown",
   "id": "firewall_rules",
   "metadata": {},
   "source": [
    "## 🚀 Tarea 9: Actualización de Reglas de Firewall\n",
    "\n",
    "### ¿Por qué son importantes las reglas de firewall?\n",
    "Las reglas de firewall controlan el tráfico de red hacia y desde los recursos, como máquinas virtuales, asegurando que solo las conexiones autorizadas sean permitidas.\n",
    "\n",
    "### Visualizar reglas de firewall"
   ]
  },
  {
   "cell_type": "code",
   "execution_count": null,
   "id": "list_firewall_cmd",
   "metadata": {},
   "outputs": [],
   "source": [
    "gcloud compute firewall-rules list"
   ]
  },
  {
   "cell_type": "markdown",
   "id": "list_firewall_cmd_explain",
   "metadata": {},
   "source": [
    "**Explicación del comando**:  \n",
    "- `gcloud compute firewall-rules list`: Muestra todas las reglas de firewall activas.  \n",
    "**Resultado esperado**:  \n",
    "| NAME                    | NETWORK | DIRECTION | PRIORITY | ALLOW                        | DENY | DISABLED |\n",
    "|-------------------------|---------|-----------|----------|------------------------------|------|----------|\n",
    "| default-allow-icmp      | default | INGRESS   | 65534    | icmp                         |      | False    |\n",
    "| default-allow-internal  | default | INGRESS   | 65534    | tcp:0-65535,udp:0-65535,icmp |      | False    |\n",
    "| default-allow-rdp       | default | INGRESS   | 65534    | tcp:3389                     |      | False    |\n",
    "| default-allow-ssh       | default | INGRESS   | 65534    | tcp:22                       |      | False    |\n",
    "| dev-net-allow-ssh       | dev-network | INGRESS | 1000 | tcp:22                   |      | False    |\n",
    "\n",
    "### Problema: Acceso al servidor nginx\n",
    "El servidor **nginx** no es accesible desde fuera porque no hay una regla de firewall que permita tráfico HTTP (puerto 80).\n",
    "\n",
    "### Solución: Permitir tráfico HTTP\n",
    "#### Paso 1: Agregar etiquetas a la VM"
   ]
  },
  {
   "cell_type": "code",
   "execution_count": null,
   "id": "add_tags",
   "metadata": {},
   "outputs": [],
   "source": [
    "gcloud compute instances add-tags gcelab2 --tags http-server,https-server"
   ]
  },
  {
   "cell_type": "markdown",
   "id": "add_tags_explain",
   "metadata": {},
   "source": [
    "**Explicación del comando**:  \n",
    "- `gcloud compute instances add-tags`: Agrega etiquetas a la VM.  \n",
    "- `--tags http-server,https-server`: Añade etiquetas para identificar la VM como servidor web.  \n",
    "\n",
    "#### Paso 2: Crear regla de firewall para HTTP"
   ]
  },
  {
   "cell_type": "code",
   "execution_count": null,
   "id": "create_firewall",
   "metadata": {},
   "outputs": [],
   "source": [
    "gcloud compute firewall-rules create default-allow-http \\\n",
    "  --direction=INGRESS \\\n",
    "  --priority=1000 \\\n",
    "  --network=default \\\n",
    "  --action=ALLOW \\\n",
    "  --rules=tcp:80 \\\n",
    "  --source-ranges=0.0.0.0/0 \\\n",
    "  --target-tags=http-server"
   ]
  },
  {
   "cell_type": "markdown",
   "id": "create_firewall_explain",
   "metadata": {},
   "source": [
    "**Explicación del comando**:  \n",
    "- `firewall-rules create default-allow-http`: Crea una regla llamada `default-allow-http`.  \n",
    "- `--direction=INGRESS`: Permite tráfico entrante.  \n",
    "- `--priority=1000`: Define la prioridad de la regla.  \n",
    "- `--network=default`: Aplica la regla a la red `default`.  \n",
    "- `--action=ALLOW`: Permite el tráfico.  \n",
    "- `--rules=tcp:80`: Permite tráfico HTTP (puerto 80).  \n",
    "- `--source-ranges=0.0.0.0/0`: Permite tráfico desde cualquier IP.  \n",
    "- `--target-tags=http-server`: Aplica la regla a VMs con la etiqueta `http-server`.  \n",
    "\n",
    "#### Paso 3: Confirmar la regla"
   ]
  },
  {
   "cell_type": "code",
   "execution_count": null,
   "id": "verify_firewall",
   "metadata": {},
   "outputs": [],
   "source": [
    "gcloud compute firewall-rules list --filter=ALLOW:'80'"
   ]
  },
  {
   "cell_type": "markdown",
   "id": "verify_firewall_explain",
   "metadata": {},
   "source": [
    "**Resultado esperado**:  \n",
    "| NAME               | NETWORK | DIRECTION | PRIORITY | ALLOW   | DENY | DISABLED |\n",
    "|--------------------|---------|-----------|----------|---------|------|----------|\n",
    "| default-allow-http | default | INGRESS   | 1000     | tcp:80  |      | False    |\n",
    "\n",
    "#### Paso 4: Verificar acceso a nginx"
   ]
  },
  {
   "cell_type": "code",
   "execution_count": null,
   "id": "curl_nginx",
   "metadata": {},
   "outputs": [],
   "source": [
    "curl http://$(gcloud compute instances list --filter=name:gcelab2 --format='value(EXTERNAL_IP)')"
   ]
  },
  {
   "cell_type": "markdown",
   "id": "curl_nginx_explain",
   "metadata": {},
   "source": [
    "**Explicación del comando**:  \n",
    "- `curl`: Realiza una petición HTTP.  \n",
    "- `$(gcloud compute instances list ...)`: Obtiene la IP externa de `gcelab2`.  \n",
    "**Resultado esperado**: Muestra la página por defecto de **nginx**.  \n",
    "💡 **Contexto empresarial**: Configurar reglas de firewall permite exponer aplicaciones web, como portales de clientes, de forma segura y controlada.\n",
    "\n",
    "Para más información, consulta la [Documentación de reglas de firewall](https://cloud.google.com/vpc/docs/firewalls)."
   ]
  },
  {
   "cell_type": "markdown",
   "id": "logs",
   "metadata": {},
   "source": [
    "## 🚀 Tarea 10: Visualización de Registros del Sistema (Logs)\n",
    "\n",
    "### ¿Por qué son importantes los logs?\n",
    "Los **logs** registran eventos en los recursos de la nube, útiles para diagnosticar errores, auditar acciones y validar operaciones.\n",
    "\n",
    "### Listar todos los logs"
   ]
  },
  {
   "cell_type": "code",
   "execution_count": null,
   "id": "list_logs",
   "metadata": {},
   "outputs": [],
   "source": [
    "gcloud logging logs list"
   ]
  },
  {
   "cell_type": "markdown",
   "id": "list_logs_explain",
   "metadata": {},
   "source": [
    "**Explicación del comando**:  \n",
    "- `gcloud logging logs list`: Muestra todos los logs disponibles.  \n",
    "**Resultado esperado**:  \n",
    "- `GCEGuestAgent`: Procesos del agente en la VM.  \n",
    "- `OSConfigAgent`: Gestión de configuración del sistema.  \n",
    "- `cloudaudit.googleapis.com/activity`: Actividades de auditoría.  \n",
    "\n",
    "### Filtrar logs de recursos de cómputo"
   ]
  },
  {
   "cell_type": "code",
   "execution_count": null,
   "id": "filter_compute_logs",
   "metadata": {},
   "outputs": [],
   "source": [
    "gcloud logging logs list --filter=\"compute\""
   ]
  },
  {
   "cell_type": "markdown",
   "id": "filter_compute_logs_explain",
   "metadata": {},
   "source": [
    "**Explicación del comando**:  \n",
    "- `--filter=\"compute\"`: Muestra logs relacionados con recursos de cómputo.  \n",
    "**Resultado esperado**:  \n",
    "- `compute.googleapis.com/autoscaler`: Actividades del autoscaler.  \n",
    "- `compute.googleapis.com/shielded_vm_integrity`: Integridad de VMs protegidas.  \n",
    "\n",
    "### Leer logs de VMs"
   ]
  },
  {
   "cell_type": "code",
   "execution_count": null,
   "id": "read_vm_logs",
   "metadata": {},
   "outputs": [],
   "source": [
    "gcloud logging read \"resource.type=gce_instance\" --limit 5"
   ]
  },
  {
   "cell_type": "markdown",
   "id": "read_vm_logs_explain",
   "metadata": {},
   "source": [
    "**Explicación del comando**:  \n",
    "- `gcloud logging read`: Lee los logs.  \n",
    "- `resource.type=gce_instance`: Filtra logs de instancias de cómputo.  \n",
    "- `--limit 5`: Muestra los últimos 5 registros.  \n",
    "\n",
    "### Leer logs de una VM específica"
   ]
  },
  {
   "cell_type": "code",
   "execution_count": null,
   "id": "read_specific_vm_logs",
   "metadata": {},
   "outputs": [],
   "source": [
    "gcloud logging read \"resource.type=gce_instance AND labels.instance_name='gcelab2'\" --limit 5"
   ]
  },
  {
   "cell_type": "markdown",
   "id": "read_specific_vm_logs_explain",
   "metadata": {},
   "source": [
    "**Explicación del comando**:  \n",
    "- `labels.instance_name='gcelab2'`: Filtra logs de la VM `gcelab2`.  \n",
    "💡 **Contexto empresarial**: Los logs son esenciales para auditar acciones en sistemas financieros o diagnosticar problemas en aplicaciones empresariales.\n",
    "\n",
    "Para más información, consulta la [Documentación de Cloud Logging](https://cloud.google.com/logging/docs)."
   ]
  },
  {
   "cell_type": "markdown",
   "id": "evaluation",
   "metadata": {},
   "source": [
    "## 🚀 Tarea 11: Evaluación de tu comprensión\n",
    "\n",
    "### Pregunta de opción múltiple\n",
    "**¿Cuáles son tres formas básicas de interactuar con los servicios y recursos de Google Cloud?**  \n",
    "**Respuesta correcta**:  \n",
    "- **Cloud Console**: Interfaz gráfica para gestionar recursos.  \n",
    "- **Client libraries**: Bibliotecas para programar interacciones con servicios.  \n",
    "- **Command-line interface (CLI)**: Herramienta **gcloud** para comandos.  \n",
    "🔸 **Nota**: GLib y GStreamer no están relacionados con Google Cloud.  \n",
    "\n",
    "💡 **Contexto empresarial**: Estas opciones permiten a las empresas elegir la mejor forma de gestionar recursos, desde interfaces gráficas hasta automatización con CLI."
   ]
  },
  {
   "cell_type": "markdown",
   "id": "summary",
   "metadata": {},
   "source": [
    "## 🚀 Cuadro Resumen\n",
    "\n",
    "| **Elemento Clave**                     | **Descripción**                                                                 |\n",
    "|---------------------------------------|--------------------------------------------------------------------------------|\n",
    "| **gcloud compute instances list**      | Lista todas las máquinas virtuales en el proyecto.                              |\n",
    "| **--filter=\"name=('gcelab2')\"**       | Muestra solo la instancia con el nombre `gcelab2`.                             |\n",
    "| **gcloud compute firewall-rules list** | Muestra todas las reglas de firewall activas.                                   |\n",
    "| **--filter=\"network='default'\"**       | Filtra reglas de la red `default`.                                              |\n",
    "| **--filter=\"ALLOW:'icmp'\"**            | Filtra reglas que permiten tráfico ICMP (como ping).                            |\n",
    "| **gcloud compute ssh**                 | Conecta a una VM mediante SSH de forma segura.                                  |\n",
    "| **sudo apt install -y nginx**          | Instala el servidor web **nginx** en la VM.                                     |\n",
    "| **exit**                               | Cierra la conexión SSH.                                                         |\n",
    "| **ICMP**                               | Protocolo para verificar conectividad (ej., ping).                              |\n",
    "| **SSH**                                | Protocolo seguro para conexiones remotas.                                       |\n",
    "| **nginx**                              | Servidor web ligero para aplicaciones web.                                      |\n",
    "| **Firewall**                           | Filtra tráfico de red para proteger recursos.                                   |\n",
    "| **Etiqueta (tag)**                     | Agrupa instancias para aplicar reglas específicas.                              |\n",
    "| **Puerto 80**                          | Puerto estándar para tráfico HTTP.                                              |\n",
    "| **Comando curl**                       | Realiza peticiones HTTP desde la terminal.                                      |\n",
    "| **Logs**                               | Registros para auditoría y diagnóstico.                                         |\n",
    "| **Cloud Console**                      | Interfaz gráfica para gestionar recursos.                                       |\n",
    "| **Client Libraries**                   | Bibliotecas para interactuar con servicios de GCP.                              |\n",
    "| **gcloud logging read**                | Visualiza eventos registrados por los recursos.                                 |\n",
    "\n",
    "💡 **Contexto empresarial**: Este resumen ayuda a los equipos a entender rápidamente las herramientas y comandos clave para gestionar recursos en la nube."
   ]
  },
  {
   "cell_type": "markdown",
   "id": "conclusion",
   "metadata": {},
   "source": [
    "## 🚀 Conclusión\n",
    "\n",
    "Este laboratorio te ha permitido configurar un entorno en **Google Cloud** usando **Cloud Shell** y **gcloud**, crear y gestionar una máquina virtual, configurar reglas de firewall, y consultar registros del sistema. Estas habilidades son fundamentales para implementar y administrar recursos en la nube, esenciales para procesos empresariales como la gestión de servidores para aplicaciones contables o la auditoría de sistemas.\n",
    "\n",
    "💡 **Beneficio empresarial**: Usar **Google Cloud** con herramientas como **gcloud** permite a las empresas optimizar costos, escalar recursos según la demanda y mantener sistemas seguros y auditables, mejorando la eficiencia en procesos financieros y operativos."
   ]
  }
 ],
 "metadata": {
  "kernelspec": {
   "display_name": "Python 3 (ipykernel)",
   "language": "python",
   "name": "python3"
  },
  "language_info": {
   "codemirror_mode": {
    "name": "ipython",
    "version": 3
   },
   "file_extension": ".py",
   "mimetype": "text/x-python",
   "name": "python",
   "nbconvert_exporter": "python",
   "pygments_lexer": "ipython3",
   "version": "3.9.21"
  }
 },
 "nbformat": 4,
 "nbformat_minor": 5
}
