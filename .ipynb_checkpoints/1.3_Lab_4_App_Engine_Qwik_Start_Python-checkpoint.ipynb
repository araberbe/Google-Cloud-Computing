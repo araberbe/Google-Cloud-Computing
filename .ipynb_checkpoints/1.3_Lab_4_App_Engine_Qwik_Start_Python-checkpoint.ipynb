{
 "cells": [
  {
   "cell_type": "markdown",
   "metadata": {},
   "source": [
    "# 🎓 Laboratorio 4: App Engine Qwik Start - Python\n",
    "En este laboratorio, aprenderás a desplegar una aplicación web simple en **Google App Engine** usando Python en el entorno estándar. Clonarás un repositorio de ejemplo, probarás la aplicación localmente, realizarás un cambio en el código y la desplegarás en la nube. Este laboratorio es ideal para contextos empresariales, como desarrollar aplicaciones contables accesibles por web sin gestionar infraestructura. 🚀\n\n",
    "**Objetivo empresarial**: Crear una aplicación web contable, como un portal para generar reportes financieros o procesar facturas, con escalabilidad automática y sin preocupaciones por servidores.\n\n",
    "[📚 Documentación oficial de App Engine](https://cloud.google.com/appengine/docs)"
   ]
  },
  {
   "cell_type": "markdown",
   "metadata": {},
   "source": [
    "## ☁️ Activar Cloud Shell\n",
    "**¿Qué es Cloud Shell?**\n",
    "Cloud Shell es una máquina virtual con herramientas para desarrolladores, que incluye un directorio principal persistente de 5 GB y acceso de línea de comandos a los recursos de Google Cloud. Es ideal para configurar y probar aplicaciones sin necesidad de hardware local.\n\n",
    "**Beneficios empresariales**:\n",
    "- Permite a equipos contables desarrollar y desplegar aplicaciones web (como herramientas de facturación) sin gestionar servidores.\n",
    "- Simplifica la configuración con herramientas preinstaladas como **gcloud** y **git**.\n\n",
    "**Pasos para activar Cloud Shell**:\n",
    "1. En la consola de Google Cloud, haz clic en el ícono de **Cloud Shell** en la parte superior.\n",
    "2. Autoriza el acceso para que Cloud Shell use tus credenciales para realizar llamadas a la API de Google Cloud.\n",
    "3. Verifica la cuenta activa y el proyecto configurado:\n"
   ]
  },
  {
   "cell_type": "code",
   "metadata": {},
   "source": [
    "# Verificar la cuenta activa\n",
    "gcloud auth list\n",
    "# Explicación: Muestra la cuenta activa autenticada. Útil para confirmar que estás trabajando con las credenciales correctas en un entorno empresarial."
   ],
   "execution_count": null,
   "outputs": []
  },
  {
   "cell_type": "code",
   "metadata": {},
   "source": [
    "# Verificar el ID del proyecto\n",
    "gcloud config list project\n",
    "# Explicación: Muestra el ID del proyecto configurado. Asegura que estás trabajando en el proyecto correcto para alojar aplicaciones contables."
   ],
   "execution_count": null,
   "outputs": []
  },
  {
   "cell_type": "markdown",
   "metadata": {},
   "source": [
    "4. Establece la región por defecto:\n"
   ]
  },
  {
   "cell_type": "code",
   "metadata": {},
   "source": [
    "# Configurar la región por defecto\n",
    "gcloud config set compute/region us-east1\n",
    "# Explicación: Establece la región us-east1 como predeterminada, optimizando la latencia para aplicaciones contables accesibles en el este de EE.UU."
   ],
   "execution_count": null,
   "outputs": []
  },
  {
   "cell_type": "markdown",
   "metadata": {},
   "source": [
    "[📚 Documentación oficial de Cloud Shell](https://cloud.google.com/shell/docs)"
   ]
  },
  {
   "cell_type": "markdown",
   "metadata": {},
   "source": [
    "## 🛠️ Tarea 1: Habilitar la API de App Engine\n",
    "Para usar App Engine, debes habilitar la **App Engine Admin API**.\n\n",
    "**Pasos**:\n",
    "1. En la consola de Google Cloud, navega a **APIs & Services > Library**.\n",
    "2. Busca **App Engine Admin API**.\n",
    "3. Haz clic en **Enable** (si ya está habilitada, no es necesario hacer nada).\n\n",
    "**Beneficios empresariales**:\n",
    "- Habilitar la API permite desplegar aplicaciones contables en App Engine, como un sistema de reportes financieros accesible por web.\n",
    "- Ejemplo: Una empresa puede usar App Engine para ofrecer un portal donde los clientes consulten saldos o generen facturas.\n\n",
    "[📚 Documentación oficial de App Engine Admin API](https://cloud.google.com/appengine/docs/admin-api)"
   ]
  },
  {
   "cell_type": "markdown",
   "metadata": {},
   "source": [
    "## 📥 Tarea 2: Descargar la aplicación \"Hello World\"\n",
    "En esta tarea, clonarás un repositorio con una aplicación de ejemplo en Python y configurarás el entorno.\n\n",
    "**Pasos**:\n",
    "1. Clona el repositorio:\n"
   ]
  },
  {
   "cell_type": "code",
   "metadata": {},
   "source": [
    "# Clonar el repositorio\n",
    "git clone https://github.com/GoogleCloudPlatform/python-docs-samples.git\n",
    "# Explicación: Descarga el repositorio con ejemplos de código, incluyendo la aplicación 'Hello World' para App Engine."
   ],
   "execution_count": null,
   "outputs": []
  },
  {
   "cell_type": "markdown",
   "metadata": {},
   "source": [
    "2. Navega al directorio de la aplicación:\n"
   ]
  },
  {
   "cell_type": "code",
   "metadata": {},
   "source": [
    "# Cambiar al directorio de la aplicación\n",
    "cd python-docs-samples/appengine/standard_python3/hello_world\n",
    "# Explicación: Accede al directorio que contiene el código de la aplicación 'Hello World', listo para configurarse y probarse."
   ],
   "execution_count": null,
   "outputs": []
  },
  {
   "cell_type": "markdown",
   "metadata": {},
   "source": [
    "3. Configura el entorno de Python:\n"
   ]
  },
  {
   "cell_type": "code",
   "metadata": {},
   "source": [
    "# Actualizar el sistema\n",
    "sudo apt update\n",
    "# Instalar python3-venv\n",
    "sudo apt install -y python3-venv\n",
    "# Crear un entorno virtual\n",
    "python3 -m venv myenv\n",
    "# Activar el entorno virtual\n",
    "source myenv/bin/activate\n",
    "# Explicación: Actualiza los paquetes del sistema, instala python3-venv, crea un entorno virtual llamado 'myenv' y lo activa para aislar las dependencias de la aplicación."
   ],
   "execution_count": null,
   "outputs": []
  },
  {
   "cell_type": "markdown",
   "metadata": {},
   "source": [
    "**Beneficios empresariales**:\n",
    "- Clonar y configurar una aplicación de ejemplo es un primer paso para desarrollar aplicaciones contables personalizadas, como un sistema de facturación.\n",
    "- El entorno virtual asegura que las dependencias no interfieran con otros proyectos, ideal para entornos empresariales con múltiples aplicaciones.\n\n",
    "[📚 Documentación oficial de App Engine - Python](https://cloud.google.com/appengine/docs/standard/python3)"
   ]
  },
  {
   "cell_type": "markdown",
   "metadata": {},
   "source": [
    "## 🧪 Tarea 3: Probar la aplicación\n",
    "En esta tarea, ejecutarás la aplicación localmente usando el servidor de desarrollo de App Engine.\n\n",
    "**Pasos**:\n",
    "1. Inicia el servidor de desarrollo:\n"
   ]
  },
  {
   "cell_type": "code",
   "metadata": {},
   "source": [
    "# Iniciar el servidor de desarrollo\n",
    "dev_appserver.py app.yaml\n",
    "# Explicación: Ejecuta la aplicación localmente usando el archivo de configuración app.yaml, simulando el entorno de App Engine."
   ],
   "execution_count": null,
   "outputs": []
  },
  {
   "cell_type": "markdown",
   "metadata": {},
   "source": [
    "2. Visualiza la aplicación en el navegador:\n",
    "   - En Cloud Shell, haz clic en **Web Preview > Preview on port 8080**.\n",
    "   - Esto muestra la página web de la aplicación 'Hello World'.\n\n",
    "**Beneficios empresariales**:\n",
    "- Probar localmente permite verificar que una aplicación contable (como un portal de reportes) funcione correctamente antes de desplegarla.\n",
    "- Ejemplo: Una empresa puede probar una app de facturación para asegurar que los clientes vean los datos correctamente.\n\n",
    "[📚 Documentación oficial de App Engine - Python](https://cloud.google.com/appengine/docs/standard/python3)"
   ]
  },
  {
   "cell_type": "markdown",
   "metadata": {},
   "source": [
    "## 🔄 Tarea 4: Realizar un cambio en la aplicación\n",
    "**Servidor de desarrollo en ejecución continua**:\n",
    "El servidor de desarrollo supervisa automáticamente los cambios en los archivos fuente y recarga la aplicación si es necesario. Esto es útil para iterar rápidamente durante el desarrollo.\n\n",
    "**Pasos para modificar el código**:\n",
    "1. Mantén el servidor de desarrollo ejecutándose (desde la Tarea 3).\n",
    "2. Abre una nueva terminal:\n",
    "   - Haz clic en el botón **(+)** en Cloud Shell para abrir una nueva sesión de línea de comandos.\n",
    "3. Navega al directorio de la aplicación:\n"
   ]
  },
  {
   "cell_type": "code",
   "metadata": {},
   "source": [
    "# Cambiar al directorio de la aplicación\n",
    "cd python-docs-samples/appengine/standard_python3/hello_world\n",
    "# Explicación: Accede al directorio que contiene el código de la aplicación para editar el archivo main.py."
   ],
   "execution_count": null,
   "outputs": []
  },
  {
   "cell_type": "markdown",
   "metadata": {},
   "source": [
    "4. Edita el archivo **main.py**:\n"
   ]
  },
  {
   "cell_type": "code",
   "metadata": {},
   "source": [
    "# Abrir main.py en el editor nano\n",
    "nano main.py\n",
    "# Explicación: Abre el archivo main.py en el editor de texto nano. Cambia el texto 'Hello World!' por 'Hello, Cruel World!'."
   ],
   "execution_count": null,
   "outputs": []
  },
  {
   "cell_type": "markdown",
   "metadata": {},
   "source": [
    "5. Guarda y sal del editor:\n",
    "   - Guarda el archivo: **Ctrl + S**.\n",
    "   - Sal del editor: **Ctrl + X**.\n",
    "6. Ver el cambio en el navegador:\n",
    "   - Recarga la pestaña del navegador o haz clic en **Web Preview > Preview on port 8080**.\n",
    "   - Deberías ver el mensaje actualizado: **Hello, Cruel World!**.\n\n",
    "**Beneficios empresariales**:\n",
    "- La recarga automática permite a los desarrolladores iterar rápidamente en aplicaciones contables, como personalizar mensajes o interfaces para clientes.\n",
    "- Ejemplo: Una empresa puede modificar una app para mostrar un mensaje personalizado en un portal de facturación.\n\n",
    "[📚 Documentación oficial de App Engine - Python](https://cloud.google.com/appengine/docs/standard/python3)"
   ]
  },
  {
   "cell_type": "markdown",
   "metadata": {},
   "source": [
    "## 🚀 Tarea 5: Desplegar la aplicación\n",
    "En esta tarea, desplegarás la aplicación modificada en App Engine.\n\n",
    "**Pasos**:\n",
    "1. Desde el directorio raíz donde está **app.yaml**, ejecuta:\n"
   ]
  },
  {
   "cell_type": "code",
   "metadata": {},
   "source": [
    "# Desplegar la aplicación\n",
    "gcloud app deploy\n",
    "# Explicación: Sube la aplicación a App Engine usando el archivo de configuración app.yaml. Esto despliega la aplicación en la nube, haciéndola accesible globalmente."
   ],
   "execution_count": null,
   "outputs": []
  },
  {
   "cell_type": "markdown",
   "metadata": {},
   "source": [
    "2. Elige tu región cuando se solicite.\n",
    "3. Confirma el despliegue con **Yes**.\n\n",
    "**Beneficios empresariales**:\n",
    "- Desplegar en App Engine permite ofrecer aplicaciones contables escalables, como un sistema de reportes financieros, sin gestionar servidores.\n",
    "- Ejemplo: Una empresa puede desplegar un portal donde los clientes suban facturas y obtengan análisis automáticos.\n\n",
    "[📚 Documentación oficial de App Engine - Despliegue](https://cloud.google.com/appengine/docs/standard/python3/deploying-an-application)"
   ]
  },
  {
   "cell_type": "markdown",
   "metadata": {},
   "source": [
    "## 🌐 Tarea 6: Ver tu aplicación en línea\n",
    "Para verificar que la aplicación está desplegada y accesible:\n"
   ]
  },
  {
   "cell_type": "code",
   "metadata": {},
   "source": [
    "# Abrir la aplicación en el navegador\n",
    "gcloud app browse\n",
    "# Explicación: Abre la URL pública de la aplicación desplegada en App Engine, mostrando el mensaje 'Hello, Cruel World!'."
   ],
   "execution_count": null,
   "outputs": []
  },
  {
   "cell_type": "markdown",
   "metadata": {},
   "source": [
    "**Beneficios empresariales**:\n",
    "- La URL pública permite a los clientes acceder a aplicaciones contables desde cualquier lugar, como un portal para consultar saldos o generar reportes.\n",
    "- Ejemplo: Una empresa puede compartir la URL con clientes para que accedan a un sistema de facturación online.\n\n",
    "[📚 Documentación oficial de App Engine](https://cloud.google.com/appengine/docs)"
   ]
  },
  {
   "cell_type": "markdown",
   "metadata": {},
   "source": [
    "## 📝 Tarea 7: Evalúa tu conocimiento\n",
    "**Pregunta 1**: ¿En qué deben enfocarse los desarrolladores usando App Engine?\n",
    "- ❌ Sistemas operativos\n",
    "- ❌ Servidores web\n",
    "- ❌ Administración del sistema\n",
    "- ❌ Máquinas virtuales\n",
    "- ✅ Código de aplicación\n\n",
    "**Pregunta 2**: ¿Qué lenguajes modernos admite App Engine?\n",
    "- ✅ Java\n",
    "- ✅ Go\n",
    "- ✅ PHP\n",
    "- ✅ Ruby\n",
    "- ✅ Python\n",
    "- ✅ Node.js\n\n",
    "**Pregunta 3**: ¿Qué otras plataformas serverless ofrece Google Cloud similares a App Engine?\n",
    "- ✅ Cloud Functions\n",
    "- ✅ Cloud Run\n",
    "- ❌ BigQuery\n",
    "- ❌ Compute Engine\n",
    "- ❌ GKE/Kubernetes Engine\n\n",
    "**Beneficios empresariales**:\n",
    "- App Engine permite a los desarrolladores enfocarse en el código, ideal para crear aplicaciones contables rápidamente sin preocuparse por infraestructura.\n",
    "- La compatibilidad con múltiples lenguajes facilita el desarrollo de aplicaciones personalizadas para necesidades contables.\n",
    "- Las plataformas serverless como Cloud Functions y Cloud Run ofrecen alternativas para tareas específicas, como procesar facturas automáticamente.\n\n",
    "[📚 Documentación oficial de App Engine](https://cloud.google.com/appengine/docs)"
   ]
  },
  {
   "cell_type": "markdown",
   "metadata": {},
   "source": [
    "## 📋 Cuadro Resumen\n",
    "| Elemento | Detalle |\n",
    "|----------|---------|\n",
    "| Plataforma principal | Google App Engine |\n",
    "| Lenguajes soportados | Python, Java, PHP, Go, Node.js, Ruby |\n",
    "| Entorno usado | App Engine Standard (Python 3) |\n",
    "| Herramientas necesarias | Navegador web, Cloud Shell, Google Cloud Console |\n",
    "| Servicios integrables | Cloud SQL, Firestore, Storage, Pub/Sub, Memorystore, etc. |\n",
    "| Objetivo del laboratorio | Clonar, probar, editar y desplegar una aplicación en App Engine |\n",
    "| Plataformas similares | Cloud Functions, Cloud Run |\n",
    "| Evaluación | Preguntas sobre focos de desarrollo, lenguajes y plataformas similares |\n\n",
    "**Beneficios empresariales**:\n",
    "- App Engine permite a las empresas contables desplegar aplicaciones escalables con integración a servicios como Cloud SQL para bases de datos financieras.\n",
    "- Ejemplo: Una empresa puede integrar App Engine con Cloud Storage para almacenar facturas y Firestore para gestionar datos de clientes en tiempo real.\n\n",
    "[📚 Documentación oficial de App Engine](https://cloud.google.com/appengine/docs)"
   ]
  }
 ],
 "metadata": {
  "kernelspec": {
   "display_name": "Python 3",
   "language": "python",
   "name": "python3"
  },
  "language_info": {
   "codemirror_mode": {
    "name": "ipython",
    "version": 3
   },
   "file_extension": ".py",
   "mimetype": "text/x-python",
   "name": "python",
   "nbconvert_exporter": "python",
   "pygments_lexer": "ipython3",
   "version": "3.9.0"
  }
 },
 "nbformat": 4,
 "nbformat_minor": 4
}
