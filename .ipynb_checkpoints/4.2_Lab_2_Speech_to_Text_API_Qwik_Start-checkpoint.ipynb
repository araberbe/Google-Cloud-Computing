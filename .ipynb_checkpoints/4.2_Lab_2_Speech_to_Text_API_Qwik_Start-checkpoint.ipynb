{
  "cells": [
    {
      "cell_type": "markdown",
      "metadata": {},
      "source": [
        "# 📌 Laboratorio: Speech-to-Text API - Inicio Rápido\n",
        "\n",
        "## 🌐 Descripción General\n",
        "La **Speech-to-Text API** de Google Cloud convierte audio en texto escrito utilizando tecnología de reconocimiento de voz avanzada. Esta herramienta es útil en múltiples industrias, incluyendo la contabilidad, para transcribir reuniones, dictados o entrevistas, mejorando la eficiencia y reduciendo tareas administrativas.\n",
        "\n",
        "💡 **Contexto empresarial**: Similar a transcribir automáticamente notas de reuniones financieras o dictados de reportes contables, ahorrando tiempo y minimizando errores manuales.\n",
        "\n",
        "### Objetivos del Laboratorio\n",
        "- Crear una **API Key** para autenticar el acceso.\n",
        "- Elaborar una solicitud (**request**) en formato JSON.\n",
        "- Ejecutar una llamada a la **Speech-to-Text API** para transcribir un archivo de audio.\n",
        "\n",
        "💡 **Beneficio empresarial**: Automatiza la captura de datos de audios, como actas de reuniones o notas contables, optimizando procesos administrativos.\n",
        "\n",
        "Para más información, consulta la [Documentación de Speech-to-Text API](https://cloud.google.com/speech-to-text/docs)."
      ]
    },
    {
      "cell_type": "markdown",
      "metadata": {},
      "source": [
        "## 🔧 Requisitos y Preparación\n",
        "\n",
        "Antes de comenzar:\n",
        "- **Duración**: 30 minutos.\n",
        "- Usa un navegador moderno (recomendado: Google Chrome en modo incógnito).\n",
        "- No uses cuentas personales de Google Cloud para evitar cargos.\n",
        "- Utiliza las credenciales temporales proporcionadas.\n",
        "- No pauses el laboratorio una vez iniciado.\n",
        "\n",
        "### Iniciar Sesión en Google Cloud Console\n",
        "1. Haz clic en **Start Lab**.\n",
        "2. Copia el **Username** y **Password** proporcionados.\n",
        "3. Acepta los términos y condiciones.\n",
        "4. No configures autenticación en dos pasos ni pruebas gratuitas.\n",
        "5. Accede a los servicios desde el **Menú de Navegación** o la barra de búsqueda.\n",
        "\n",
        "💡 **Propósito**: Garantiza un entorno seguro y controlado, como preparar un sistema contable antes de procesar transacciones.\n",
        "\n",
        "Para más información, consulta la [Documentación de Google Cloud Console](https://cloud.google.com/docs/overview)."
      ]
    },
    {
      "cell_type": "markdown",
      "metadata": {},
      "source": [
        "## 🔑 Tarea 1: Crear una API Key\n",
        "\n",
        "### Pasos\n",
        "1. Ve a **Navigation menu > APIs & services > Credentials**.\n",
        "2. Haz clic en **Create credentials** y selecciona **API key**.\n",
        "3. Copia la clave generada.\n",
        "4. Ve a **Compute Engine** y conéctate a la instancia `linux-instance` mediante **SSH**.\n",
        "5. Guarda la API Key como variable de entorno:\n"
      ]
    },
    {
      "cell_type": "code",
      "metadata": {},
      "source": "export API_KEY=<TU_API_KEY>",
      "execution_count": null,
      "outputs": []
    },
    {
      "cell_type": "markdown",
      "metadata": {},
      "source": [
        "💡 **Propósito**: Configura la autenticación para la **Speech-to-Text API**, como asignar una contraseña segura a un sistema contable.\n",
        "\n",
        "💡 **Beneficio empresarial**: Garantiza acceso seguro a herramientas de transcripción, como para procesar audios de reuniones financieras.\n",
        "\n",
        "Para más información, consulta la [Documentación de Compute Engine](https://cloud.google.com/compute/docs)."
      ]
    },
    {
      "cell_type": "markdown",
      "metadata": {},
      "source": [
        "## 📝 Tarea 2: Crear una Solicitud a la API\n",
        "\n",
        "Usaremos un archivo de audio de ejemplo alojado en **Cloud Storage**:\n",
        "`gs://cloud-samples-tests/speech/brooklyn.flac`\n",
        "\n",
        "### Pasos\n",
        "1. Crea un archivo JSON llamado `request.json`:\n"
      ]
    },
    {
      "cell_type": "code",
      "metadata": {},
      "source": "touch request.json\nnano request.json",
      "execution_count": null,
      "outputs": []
    },
    {
      "cell_type": "markdown",
      "metadata": {},
      "source": [
        "2. Ingresa el siguiente contenido en `request.json`:\n"
      ]
    },
    {
      "cell_type": "code",
      "metadata": {},
      "source": "{\n  \"config\": {\n    \"encoding\": \"FLAC\",\n    \"languageCode\": \"en-US\"\n  },\n  \"audio\": {\n    \"uri\": \"gs://cloud-samples-tests/speech/brooklyn.flac\"\n  }\n}",
      "language": "json",
      "execution_count": null,
      "outputs": []
    },
    {
      "cell_type": "markdown",
      "metadata": {},
      "source": [
        "3. Guarda y cierra el archivo (Ctrl + X, Y, Enter).\n",
        "\n",
        "| Campo | Descripción |\n",
        "|-------|-------------|\n",
        "| `config.encoding` | Formato del audio (FLAC). |\n",
        "| `config.languageCode` | Idioma del audio (en-US). |\n",
        "| `audio.uri` | Ubicación del archivo en Cloud Storage. |\n",
        "\n",
        "💡 **Propósito**: Define la configuración para procesar el audio, como completar un formulario contable con los detalles de una transacción.\n",
        "\n",
        "💡 **Analogía contable**: Similar a preparar un archivo con instrucciones para procesar registros financieros.\n",
        "\n",
        "Para más información, consulta la [Documentación de Cloud Storage](https://cloud.google.com/storage/docs)."
      ]
    },
    {
      "cell_type": "markdown",
      "metadata": {},
      "source": [
        "## 🎙️ Tarea 3: Llamar a la Speech-to-Text API\n",
        "\n",
        "### Paso 1: Ejecutar la Llamada a la API\n",
        "Envía la solicitud a la **Speech-to-Text API**:\n"
      ]
    },
    {
      "cell_type": "code",
      "metadata": {},
      "source": "curl -s -X POST -H \"Content-Type: application/json\" --data-binary @request.json \\\n\"https://speech.googleapis.com/v1/speech:recognize?key=${API_KEY}\"",
      "execution_count": null,
      "outputs": []
    },
    {
      "cell_type": "markdown",
      "metadata": {},
      "source": [
        "💡 **Propósito**: Procesa el audio y genera una transcripción, como convertir notas habladas en un informe escrito.\n",
        "\n",
        "#### Ejemplo de Salida JSON\n"
      ]
    },
    {
      "cell_type": "code",
      "metadata": {},
      "source": "{\n  \"results\": [\n    {\n      \"alternatives\": [\n        {\n          \"transcript\": \"how old is the Brooklyn Bridge\",\n          \"confidence\": 0.98267895\n        }\n      ]\n    }\n  ]\n}",
      "language": "json",
      "execution_count": null,
      "outputs": []
    },
    {
      "cell_type": "markdown",
      "metadata": {},
      "source": [
        "| Campo | Descripción |\n",
        "|-------|-------------|\n",
        "| `transcript` | Texto transcrito del audio. |\n",
        "| `confidence` | Nivel de confianza en la transcripción (0 a 1). |\n",
        "\n",
        "💡 **Beneficio empresarial**: Automatiza la transcripción de reuniones o dictados, como actas financieras, con alta precisión.\n",
        "\n",
        "### Paso 2: Guardar el Resultado\n",
        "Guarda la respuesta en un archivo JSON:\n"
      ]
    },
    {
      "cell_type": "code",
      "metadata": {},
      "source": "curl -s -X POST -H \"Content-Type: application/json\" --data-binary @request.json \\\n\"https://speech.googleapis.com/v1/speech:recognize?key=${API_KEY}\" > result.json",
      "execution_count": null,
      "outputs": []
    },
    {
      "cell_type": "markdown",
      "metadata": {},
      "source": [
        "💡 **Propósito**: Almacena la transcripción para revisión, como guardar un informe contable para auditorías.\n",
        "\n",
        "💡 **Beneficio empresarial**: Facilita la documentación y el archivo de registros transcritos, como notas de reuniones financieras."
      ]
    },
    {
      "cell_type": "markdown",
      "metadata": {},
      "source": [
        "## 📋 Cuadro Resumen Final\n",
        "\n",
        "| Elemento | Descripción |\n",
        "|----------|-------------|\n",
        "| **Nombre del laboratorio** | Speech-to-Text API: Qwik Start |\n",
        "| **Duración** | 30 minutos |\n",
        "| **Objetivo principal** | Transcribir un archivo de audio a texto usando la API |\n",
        "| **Tareas realizadas** | Crear API key, generar `request.json`, llamar a la API con `curl` |\n",
        "| **Herramientas usadas** | Google Cloud Console, Compute Engine, SSH, JSON, curl |\n",
        "| **Archivo de audio** | `gs://cloud-samples-tests/speech/brooklyn.flac` |\n",
        "| **Resultado esperado** | Texto: “how old is the Brooklyn Bridge” |\n",
        "| **Nivel de confianza** | 0.98267895 |\n",
        "| **Aplicación contable** | Transcripción automática de audios para registro de reuniones o notas |\n",
        "\n",
        "💡 **Conclusión empresarial**: La **Speech-to-Text API** automatiza la transcripción de audios, como actas de reuniones financieras, reduciendo tiempo y errores en la documentación."
      ]
    },
    {
      "cell_type": "markdown",
      "metadata": {},
      "source": [
        "## 🚀 Conclusión\n",
        "\n",
        "Este laboratorio te permitió:\n",
        "1. Crear una **API Key** para autenticar la **Speech-to-Text API**.\n",
        "2. Elaborar una solicitud JSON para procesar un archivo de audio.\n",
        "3. Transcribir un audio y guardar los resultados en un archivo JSON.\n",
        "\n",
        "💡 **Beneficio empresarial**: Simplifica la captura de datos de audios, como reuniones financieras o dictados contables, optimizando procesos administrativos y auditorías.\n",
        "\n",
        "Para más información, consulta la [Documentación de Speech-to-Text API](https://cloud.google.com/speech-to-text/docs), [Documentación de Cloud Storage](https://cloud.google.com/storage/docs), y [Documentación de Compute Engine](https://cloud.google.com/compute/docs)."
      ]
    }
  ],
  "metadata": {
    "kernelspec": {
      "display_name": "Bash",
      "language": "bash",
      "name": "bash"
    },
    "language_info": {
      "name": "bash"
    }
  },
  "nbformat": 4,
  "nbformat_minor": 5
}