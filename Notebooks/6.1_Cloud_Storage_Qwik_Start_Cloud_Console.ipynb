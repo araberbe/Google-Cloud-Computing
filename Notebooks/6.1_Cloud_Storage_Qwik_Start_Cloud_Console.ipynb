{
 "cells": [
  {
   "cell_type": "markdown",
   "id": "intro",
   "metadata": {},
   "source": [
    "# 📌 Almacenamiento en la Nube con Google Cloud Storage\n",
    "\n",
    "## Introducción\n",
    "\n",
    "Este laboratorio te guiará paso a paso en el uso de **Google Cloud Storage** para almacenar archivos (llamados **objetos**) en contenedores conocidos como **buckets**. Aprenderás a crear un bucket, subir archivos, compartirlos públicamente, organizar datos en carpetas y eliminar contenido, todo desde la **Consola Web** de Google Cloud. Estas habilidades son esenciales para gestionar datos empresariales, como documentos contables, reportes financieros o archivos de clientes, de forma segura y escalable.\n",
    "\n",
    "💡 **Beneficio empresarial**: **Cloud Storage** permite a las empresas almacenar y acceder a grandes volúmenes de datos sin preocuparse por la infraestructura física, reduciendo costos y mejorando la eficiencia en la gestión de información.\n",
    "\n",
    "Para más información, consulta la [Documentación oficial de Google Cloud Storage](https://cloud.google.com/storage/docs)."
   ]
  },
  {
   "cell_type": "markdown",
   "id": "objetivos",
   "metadata": {},
   "source": [
    "## 🚀 Objetivos del laboratorio\n",
    "\n",
    "- Crear un **bucket** en **Google Cloud Storage**.\n",
    "- Subir un archivo al bucket.\n",
    "- Compartir un archivo públicamente mediante una URL.\n",
    "- Organizar datos en carpetas y subcarpetas dentro del bucket.\n",
    "- Eliminar contenido del bucket.\n",
    "\n",
    "💡 **Contexto empresarial**: Estas tareas son clave para gestionar activos digitales, como registros financieros o documentos de auditoría, asegurando accesibilidad, seguridad y organización eficiente."
   ]
  },
  {
   "cell_type": "markdown",
   "id": "task1_create_bucket",
   "metadata": {},
   "source": [
    "## 🚀 Tarea 1: Crear un Bucket\n",
    "\n",
    "### ¿Qué es un Bucket?\n",
    "Un **bucket** es un contenedor de nivel superior en **Google Cloud Storage** utilizado para almacenar archivos (objetos). Cada bucket debe tener un nombre único a nivel global, lo que garantiza que no haya conflictos con otros usuarios en la plataforma.\n",
    "\n",
    "### Pasos en la Consola Web\n",
    "1. Accede al menú de navegación: **Menú de navegación > Cloud Storage > Buckets**.  \n",
    "2. Haz clic en **+ Create** (Crear).  \n",
    "3. Completa el asistente de creación con la siguiente configuración:  \n",
    "   - **Nombre del bucket**: Usa el ID del proyecto (único a nivel global).  \n",
    "     **Reglas para nombres**:  \n",
    "     - Solo letras minúsculas, números, guiones (-), guiones bajos (_) y puntos (.).  \n",
    "     - No debe contener información sensible.  \n",
    "     - No debe parecerse a una dirección IP (ej., 192.168.0.1).  \n",
    "     - No debe comenzar con \"goog\" ni incluir \"google\".  \n",
    "     - No debe incluir secuencias como \"..\", \"-.\", \".-\".  \n",
    "     - Longitud: 3-63 caracteres (hasta 222 con puntos).  \n",
    "   - **Tipo de ubicación**: Selecciona **Region**.  \n",
    "   - **Ubicación**: Usa la región indicada en el laboratorio (ej., us-central1).  \n",
    "   - **Clase de almacenamiento**: Selecciona **Standard**.  \n",
    "   - **Control de acceso**: Selecciona **Uniform**.  \n",
    "   - **Prevención de acceso público**: Desmarca **Enforce public access prevention on this bucket**.  \n",
    "4. Haz clic en **Create** (Crear).  \n",
    "🔸 **Nota**: Si aparece una advertencia de \"Public access will be prevented\", desmarca la opción y confirma.\n",
    "\n",
    "### Comando equivalente con gsutil"
   ]
  },
  {
   "cell_type": "code",
   "execution_count": null,
   "id": "create_bucket_cmd",
   "metadata": {},
   "outputs": [],
   "source": [
    "gsutil mb -l us-central1 gs://NOMBRE_DEL_BUCKET/"
   ]
  },
  {
   "cell_type": "markdown",
   "id": "create_bucket_cmd_explain",
   "metadata": {},
   "source": [
    "**Explicación del comando**:  \n",
    "- `gsutil mb`: Crea un nuevo bucket (\"make bucket\").  \n",
    "- `-l us-central1`: Especifica la región.  \n",
    "- `gs://NOMBRE_DEL_BUCKET/`: Define el nombre único del bucket.  \n",
    "💡 **Contexto empresarial**: Los buckets son ideales para almacenar documentos empresariales, como facturas o contratos, con alta disponibilidad y organización.\n",
    "\n",
    "Para más información, consulta la [Documentación de creación de buckets](https://cloud.google.com/storage/docs/creating-buckets)."
   ]
  },
  {
   "cell_type": "markdown",
   "id": "task2_upload_object",
   "metadata": {},
   "source": [
    "## 🚀 Tarea 2: Subir un Objeto (Archivo) al Bucket\n",
    "\n",
    "### Objetivo\n",
    "Subir una imagen de ejemplo llamada `kitten.png` al bucket creado.\n",
    "\n",
    "### Pasos en la Consola Web\n",
    "1. Descarga la imagen `kitten.png` desde el navegador y guárdala localmente.  \n",
    "2. En la **Consola de Cloud Storage**, haz clic en el nombre del bucket.  \n",
    "3. Ve a la pestaña **Objects** y selecciona **Upload > Upload files**.  \n",
    "4. Selecciona el archivo `kitten.png` desde tu PC.  \n",
    "5. Si el archivo no se llama `kitten.png`, renómbralo usando el ícono de tres puntos en la consola.  \n",
    "**Resultado esperado**: El archivo aparece en el bucket con detalles como nombre, tamaño y tipo.\n",
    "\n",
    "### Comando equivalente con gsutil"
   ]
  },
  {
   "cell_type": "code",
   "execution_count": null,
   "id": "upload_file_cmd",
   "metadata": {},
   "outputs": [],
   "source": [
    "gsutil cp kitten.png gs://NOMBRE_DEL_BUCKET/"
   ]
  },
  {
   "cell_type": "markdown",
   "id": "upload_file_cmd_explain",
   "metadata": {},
   "source": [
    "**Explicación del comando**:  \n",
    "- `gsutil cp`: Copia un archivo local al bucket (\"copy\").  \n",
    "- `kitten.png`: Archivo local a subir.  \n",
    "- `gs://NOMBRE_DEL_BUCKET/`: Ruta del bucket destino.  \n",
    "💡 **Contexto empresarial**: Subir archivos a un bucket permite almacenar documentos críticos, como reportes financieros, de forma segura y accesible.\n",
    "\n",
    "Para más información, consulta la [Documentación de subida de objetos](https://cloud.google.com/storage/docs/uploading-objects)."
   ]
  },
  {
   "cell_type": "markdown",
   "id": "task3_share_publicly",
   "metadata": {},
   "source": [
    "## 🚀 Tarea 3: Compartir un Bucket de Forma Pública\n",
    "\n",
    "### Objetivo\n",
    "Hacer que el archivo `kitten.png` sea accesible públicamente mediante una URL compartible.\n",
    "\n",
    "### Pasos en la Consola Web\n",
    "1. En la vista del bucket, ve a la pestaña **Permissions** (Permisos).  \n",
    "2. Asegúrate de estar en la vista **Principals** y haz clic en **Grant Access**.  \n",
    "3. En **New principals**, escribe: `allUsers`.  \n",
    "4. En el menú de roles, selecciona **Cloud Storage > Storage Object Viewer**.  \n",
    "5. Haz clic en **Save** (Guardar).  \n",
    "6. Confirma que deseas hacer el recurso público si se solicita.  \n",
    "7. Ve a la pestaña **Objects**, verifica que la columna **Public access** diga **Public to internet**.  \n",
    "8. Usa el botón **Copy URL** y pégalo en una nueva pestaña del navegador para visualizar la imagen.  \n",
    "**Ejemplo de URL pública**: `https://storage.googleapis.com/NOMBRE_DEL_BUCKET/kitten.png`\n",
    "\n",
    "### Comando equivalente con gsutil"
   ]
  },
  {
   "cell_type": "code",
   "execution_count": null,
   "id": "make_public_cmd",
   "metadata": {},
   "outputs": [],
   "source": [
    "gsutil acl ch -u AllUsers:R gs://NOMBRE_DEL_BUCKET/kitten.png"
   ]
  },
  {
   "cell_type": "markdown",
   "id": "make_public_cmd_explain",
   "metadata": {},
   "source": [
    "**Explicación del comando**:  \n",
    "- `gsutil acl ch`: Cambia la lista de control de acceso (\"access control list change\").  \n",
    "- `-u AllUsers:R`: Otorga permiso de lectura pública a todos los usuarios.  \n",
    "- `gs://NOMBRE_DEL_BUCKET/kitten.png`: Ruta del archivo a hacer público.  \n",
    "💡 **Contexto empresarial**: Compartir archivos públicamente es útil para distribuir recursos, como informes anuales, manteniendo el control de acceso.\n",
    "\n",
    "Para más información, consulta la [Documentación de acceso público](https://cloud.google.com/storage/docs/access-control/making-data-public)."
   ]
  },
  {
   "cell_type": "markdown",
   "id": "task4_create_folders",
   "metadata": {},
   "source": [
    "## 🚀 Tarea 4: Crear Carpetas y Subcarpetas\n",
    "\n",
    "### Objetivo\n",
    "Crear una jerarquía de carpetas (`folder1/folder2`) dentro del bucket y subir un archivo a la subcarpeta.\n",
    "\n",
    "### Pasos en la Consola Web\n",
    "1. En la pestaña **Objects**, haz clic en **Create folder**.  \n",
    "2. Ingresa el nombre `folder1` y haz clic en **Create**.  \n",
    "3. Ingresa a `folder1` y crea otra carpeta llamada `folder2`.  \n",
    "4. Ingresa a `folder2` y selecciona **Upload > Upload files**.  \n",
    "5. Selecciona un archivo (ej., una imagen) desde tu PC.  \n",
    "**Resultado esperado**: El archivo queda almacenado en `folder1/folder2`.\n",
    "\n",
    "### Comando equivalente con gsutil"
   ]
  },
  {
   "cell_type": "code",
   "execution_count": null,
   "id": "create_folder_upload_cmd",
   "metadata": {},
   "outputs": [],
   "source": [
    "gsutil cp archivo_ejemplo.jpg gs://NOMBRE_DEL_BUCKET/folder1/folder2/"
   ]
  },
  {
   "cell_type": "markdown",
   "id": "create_folder_upload_cmd_explain",
   "metadata": {},
   "source": [
    "**Explicación del comando**:  \n",
    "- `gsutil cp`: Copia un archivo local al bucket.  \n",
    "- `archivo_ejemplo.jpg`: Archivo a subir.  \n",
    "- `gs://NOMBRE_DEL_BUCKET/folder1/folder2/`: Ruta de la subcarpeta destino (las carpetas se crean automáticamente si no existen).  \n",
    "💡 **Contexto empresarial**: Organizar datos en carpetas facilita la gestión de documentos, como separar facturas por año o departamento.\n",
    "\n",
    "Para más información, consulta la [Documentación de carpetas en Cloud Storage](https://cloud.google.com/storage/docs/folders)."
   ]
  },
  {
   "cell_type": "markdown",
   "id": "task5_delete_folder",
   "metadata": {},
   "source": [
    "## 🚀 Tarea 5: Eliminar una Carpeta o Bucket\n",
    "\n",
    "### Pasos en la Consola Web\n",
    "1. Vuelve al nivel superior del bucket usando la flecha junto a **Bucket details**.  \n",
    "2. Selecciona el bucket o carpeta que deseas eliminar.  \n",
    "3. Haz clic en **Delete**.  \n",
    "4. En la ventana emergente, escribe `DELETE` (en mayúsculas) para confirmar.  \n",
    "**Resultado esperado**: El bucket o carpeta se elimina correctamente.\n",
    "\n",
    "### Comando equivalente con gsutil"
   ]
  },
  {
   "cell_type": "code",
   "execution_count": null,
   "id": "delete_bucket_cmd",
   "metadata": {},
   "outputs": [],
   "source": [
    "gsutil rm -r gs://NOMBRE_DEL_BUCKET/folder1/"
   ]
  },
  {
   "cell_type": "markdown",
   "id": "delete_bucket_cmd_explain",
   "metadata": {},
   "source": [
    "**Explicación del comando**:  \n",
    "- `gsutil rm -r`: Elimina recursivamente una carpeta o bucket.  \n",
    "- `gs://NOMBRE_DEL_BUCKET/folder1/`: Ruta de la carpeta a eliminar.  \n",
    "🔸 **Nota**: Para eliminar un bucket completo, asegúrate de que esté vacío o usa `gsutil rm -r gs://NOMBRE_DEL_BUCKET/`.  \n",
    "💡 **Contexto empresarial**: Eliminar datos obsoletos ayuda a mantener los costos bajo control y asegura un almacenamiento organizado.\n",
    "\n",
    "Para más información, consulta la [Documentación de eliminación de objetos](https://cloud.google.com/storage/docs/deleting-objects)."
   ]
  },
  {
   "cell_type": "markdown",
   "id": "summary",
   "metadata": {},
   "source": [
    "## 🚀 Cuadro Resumen\n",
    "\n",
    "| **Tarea** | **Acción Realizada** | **Elementos Clave** | **Resultado Esperado** |\n",
    "|-----------|----------------------|---------------------|-----------------------|\n",
    "| **Crear un bucket** | Usar Consola Web para crear un bucket con nombre único. | Nombre único, región, clase Standard, acceso Uniform. | Bucket creado correctamente. |\n",
    "| **Subir archivo** | Subir `kitten.png` al bucket. | Subida manual, renombrar si necesario. | Archivo visible en el bucket. |\n",
    "| **Compartir públicamente** | Asignar permisos públicos al archivo. | Rol **Storage Object Viewer** a `allUsers`. | URL pública accesible. |\n",
    "| **Crear carpetas** | Crear jerarquía `folder1/folder2` y subir archivo. | Organización en subcarpetas. | Archivo almacenado en `folder2`. |\n",
    "| **Eliminar carpeta/bucket** | Eliminar con confirmación `DELETE`. | Interfaz gráfica, eliminación recursiva. | Carpeta o bucket eliminado. |\n",
    "\n",
    "💡 **Contexto empresarial**: Este resumen ayuda a los equipos a entender cómo gestionar datos en la nube de forma eficiente y segura."
   ]
  },
  {
   "cell_type": "markdown",
   "id": "conclusion",
   "metadata": {},
   "source": [
    "## 🚀 Conclusión\n",
    "\n",
    "Este laboratorio te ha permitido aprender a usar **Google Cloud Storage** para crear buckets, subir y compartir archivos, organizar datos en carpetas y eliminar contenido, todo desde la **Consola Web**. También has visto los comandos equivalentes con **gsutil** para realizar estas tareas desde la línea de comandos. Estas habilidades son fundamentales para gestionar datos empresariales, como documentos contables o archivos de clientes, de manera segura, escalable y organizada.\n",
    "\n",
    "💡 **Beneficio empresarial**: **Cloud Storage** ofrece una solución robusta para almacenar y acceder a datos críticos, reduciendo costos de infraestructura y facilitando la colaboración y auditoría en entornos empresariales."
   ]
  }
 ],
 "metadata": {
  "kernelspec": {
   "display_name": "Bash",
   "language": "bash",
   "name": "bash"
  },
  "language_info": {
   "codemirror_mode": "shell",
   "file_extension": ".sh",
   "mimetype": "text/x-sh",
   "name": "bash"
  }
 },
 "nbformat": 4,
 "nbformat_minor": 5
}