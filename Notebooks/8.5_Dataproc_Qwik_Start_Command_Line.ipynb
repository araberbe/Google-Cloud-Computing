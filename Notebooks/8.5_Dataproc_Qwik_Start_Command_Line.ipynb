{
  "cells": [
    {
      "cell_type": "markdown",
      "metadata": {},
      "source": [
        "# 🚀 Laboratorio: Inicio Rápido con Dataproc (por Línea de Comandos)\n",
        "\n",
        "**Google Cloud Dataproc** es un servicio administrado que permite crear y gestionar clústeres de **Apache Spark** y **Apache Hadoop** en la nube, facilitando el procesamiento de grandes volúmenes de datos de manera rápida y económica. Este laboratorio te guiará a través de la creación de un clúster, la ejecución de un trabajo **Spark**, y la modificación de la cantidad de nodos, todo desde la línea de comandos.\n",
        "\n",
        "💡 **Beneficio empresarial**: **Dataproc** permite a las empresas procesar grandes cantidades de datos financieros, como transacciones o auditorías, en minutos, con la capacidad de escalar recursos dinámicamente para optimizar costos y cumplir con normativas.\n",
        "\n",
        "Para más información, consulta la [Documentación de Google Cloud Dataproc](https://cloud.google.com/dataproc/docs).\n",
        "\n",
        "## 📌 Objetivos\n",
        "- ✅ Crear un clúster de **Dataproc** usando la línea de comandos.\n",
        "- ✅ Ejecutar un trabajo simple con **Apache Spark**.\n",
        "- ✅ Modificar la cantidad de nodos trabajadores en el clúster."
      ]
    },
    {
      "cell_type": "markdown",
      "metadata": {},
      "source": [
        "## 🧠 ¿Qué es Google Cloud Dataproc?\n",
        "\n",
        "- **Dataproc** es un servicio totalmente administrado para crear y gestionar clústeres de **Apache Spark** y **Apache Hadoop**.\n",
        "- Reduce el tiempo de procesamiento de datos de horas o días a minutos o segundos.\n",
        "- Escalable: permite aumentar o reducir nodos según las necesidades de procesamiento.\n",
        "\n",
        "💡 **Contexto empresarial**: **Dataproc** es como un equipo contable automatizado que puede procesar grandes volúmenes de transacciones rápidamente y ajustarse al tamaño del trabajo, pagando solo por los recursos utilizados."
      ]
    },
    {
      "cell_type": "markdown",
      "metadata": {},
      "source": [
        "## 🛠️ Comandos útiles (opcional)\n",
        "\n",
        "Antes de comenzar, puedes verificar la configuración de tu entorno:\n",
        "\n",
        "1. Lista la cuenta activa:"
      ]
    },
    {
      "cell_type": "code",
      "metadata": {},
      "source": [
        "gcloud auth list"
      ],
      "execution_count": null,
      "outputs": []
    },
    {
      "cell_type": "markdown",
      "metadata": {},
      "source": [
        "**Explicación**:\n",
        "- Muestra la cuenta activa (marcada con un asterisco `*`).\n",
        "\n",
        "2. Muestra el ID del proyecto activo:"
      ]
    },
    {
      "cell_type": "code",
      "metadata": {},
      "source": [
        "gcloud config list project"
      ],
      "execution_count": null,
      "outputs": []
    },
    {
      "cell_type": "markdown",
      "metadata": {},
      "source": [
        "**Explicación**:\n",
        "- Confirma el proyecto activo en **Cloud Shell**.\n",
        "\n",
        "💡 **Contexto empresarial**: Estos comandos son como verificar las credenciales y el proyecto contable antes de procesar datos financieros."
      ]
    },
    {
      "cell_type": "markdown",
      "metadata": {},
      "source": [
        "## ✅ Tarea 1: Crear un clúster Dataproc\n",
        "\n",
        "En esta tarea, crearás un clúster de **Dataproc** desde **Cloud Shell**.\n",
        "\n",
        "### Paso 1.1: Establecer la región\n",
        "\n",
        "1. Ejecuta:"
      ]
    },
    {
      "cell_type": "code",
      "metadata": {},
      "source": [
        "gcloud config set dataproc/region REGION"
      ],
      "execution_count": null,
      "outputs": []
    },
    {
      "cell_type": "markdown",
      "metadata": {},
      "source": [
        "**Explicación**:\n",
        "- Define la región donde se creará el clúster (reemplaza `REGION` con, por ejemplo, `us-central1`).\n",
        "- La región agrupa recursos geográficamente para mejorar la eficiencia y cumplir con normativas.\n",
        "\n",
        "💡 **Contexto empresarial**: Esto es como elegir la sucursal donde operará un equipo contable, optimizando la latencia."
      ]
    },
    {
      "cell_type": "markdown",
      "metadata": {},
      "source": [
        "### Paso 1.2: Obtener el ID y número del proyecto\n",
        "\n",
        "1. Guarda el ID del proyecto:"
      ]
    },
    {
      "cell_type": "code",
      "metadata": {},
      "source": [
        "PROJECT_ID=$(gcloud config get-value project) && \\\n",
        "gcloud config set project $PROJECT_ID"
      ],
      "execution_count": null,
      "outputs": []
    },
    {
      "cell_type": "markdown",
      "metadata": {},
      "source": [
        "**Explicación**:\n",
        "- Guarda el ID del proyecto en la variable `PROJECT_ID` y lo establece como activo.\n",
        "\n",
        "2. Guarda el número del proyecto:"
      ]
    },
    {
      "cell_type": "code",
      "metadata": {},
      "source": [
        "PROJECT_NUMBER=$(gcloud projects describe $PROJECT_ID --format='value(projectNumber)')"
      ],
      "execution_count": null,
      "outputs": []
    },
    {
      "cell_type": "markdown",
      "metadata": {},
      "source": [
        "**Explicación**:\n",
        "- Obtiene el número del proyecto (diferente del ID) para usarlo en la configuración de permisos.\n",
        "\n",
        "💡 **Contexto empresarial**: Esto es como confirmar los detalles de la empresa antes de configurar un sistema contable."
      ]
    },
    {
      "cell_type": "markdown",
      "metadata": {},
      "source": [
        "### Paso 1.3: Otorgar permisos de almacenamiento al servicio\n",
        "\n",
        "1. Ejecuta:"
      ]
    },
    {
      "cell_type": "code",
      "metadata": {},
      "source": [
        "gcloud projects add-iam-policy-binding $PROJECT_ID \\\n",
        "  --member=serviceAccount:$PROJECT_NUMBER-compute@developer.gserviceaccount.com \\\n",
        "  --role=roles/storage.admin"
      ],
      "execution_count": null,
      "outputs": []
    },
    {
      "cell_type": "markdown",
      "metadata": {},
      "source": [
        "**Explicación**:\n",
        "- Otorga el rol **Storage Admin** a la cuenta de servicio de **Compute Engine**, permitiendo al clúster leer y escribir en **Cloud Storage**.\n",
        "\n",
        "💡 **Contexto empresarial**: Esto es como dar permisos a un equipo contable para acceder a un archivo digital de registros financieros."
      ]
    },
    {
      "cell_type": "markdown",
      "metadata": {},
      "source": [
        "### Paso 1.4: Habilitar acceso privado a Google\n",
        "\n",
        "1. Ejecuta:"
      ]
    },
    {
      "cell_type": "code",
      "metadata": {},
      "source": [
        "gcloud compute networks subnets update default --region=REGION --enable-private-ip-google-access"
      ],
      "execution_count": null,
      "outputs": []
    },
    {
      "cell_type": "markdown",
      "metadata": {},
      "source": [
        "**Explicación**:\n",
        "- Habilita el acceso privado a servicios de Google (como **Cloud Storage**) sin usar IPs públicas, aumentando la seguridad.\n",
        "\n",
        "💡 **Contexto empresarial**: Esto es como configurar una red interna segura para que el equipo contable acceda a documentos sin exponerlos al exterior."
      ]
    },
    {
      "cell_type": "markdown",
      "metadata": {},
      "source": [
        "### Paso 1.5: Crear el clúster\n",
        "\n",
        "1. Ejecuta:"
      ]
    },
    {
      "cell_type": "code",
      "metadata": {},
      "source": [
        "gcloud dataproc clusters create example-cluster \\\n",
        "  --worker-boot-disk-size 500 \\\n",
        "  --worker-machine-type=e2-standard-4 \\\n",
        "  --master-machine-type=e2-standard-4"
      ],
      "execution_count": null,
      "outputs": []
    },
    {
      "cell_type": "markdown",
      "metadata": {},
      "source": [
        "**Desglose del comando**:\n",
        "| **Parte** | **Significado** |\n",
        "|-----------|-----------------|\n",
        "| `gcloud dataproc clusters create` | Crea un clúster **Dataproc**. |\n",
        "| `example-cluster` | Nombre del clúster. |\n",
        "| `--worker-boot-disk-size 500` | Tamaño del disco de cada nodo trabajador (500 GB). |\n",
        "| `--worker-machine-type=e2-standard-4` | Tipo de máquina para los nodos trabajadores (balanceada en precio/rendimiento). |\n",
        "| `--master-machine-type=e2-standard-4` | Tipo de máquina para el nodo maestro. |\n",
        "\n",
        "**Resultado esperado**:\n",
        "- El clúster se crea tras unos minutos, mostrando: `Created [... example-cluster]`.\n",
        "\n",
        "**Explicación**:\n",
        "- El clúster incluye un nodo maestro (coordinador) y nodos trabajadores que ejecutan tareas de **Spark** o **Hadoop**.\n",
        "\n",
        "💡 **Contexto empresarial**: Crear un clúster es como formar un equipo contable automatizado, con un líder (maestro) y trabajadores que procesan datos financieros en paralelo."
      ]
    },
    {
      "cell_type": "markdown",
      "metadata": {},
      "source": [
        "## ✅ Tarea 2: Ejecutar un trabajo Spark\n",
        "\n",
        "En esta tarea, enviarás un trabajo **Spark** para calcular el valor de π usando el método Monte Carlo.\n",
        "\n",
        "1. Ejecuta:"
      ]
    },
    {
      "cell_type": "code",
      "metadata": {},
      "source": [
        "gcloud dataproc jobs submit spark --cluster example-cluster \\\n",
        "  --class org.apache.spark.examples.SparkPi \\\n",
        "  --jars file:///usr/lib/spark/examples/jars/spark-examples.jar -- 1000"
      ],
      "execution_count": null,
      "outputs": []
    },
    {
      "cell_type": "markdown",
      "metadata": {},
      "source": [
        "**Desglose del comando**:\n",
        "| **Parte** | **Significado** |\n",
        "|-----------|-----------------|\n",
        "| `gcloud dataproc jobs submit spark` | Envía un trabajo de tipo **Spark**. |\n",
        "| `--cluster example-cluster` | Especifica el clúster donde se ejecuta. |\n",
        "| `--class org.apache.spark.examples.SparkPi` | Clase Java que calcula π. |\n",
        "| `--jars file:///usr/lib/spark/...` | Ruta al archivo JAR que contiene el código. |\n",
        "| `-- 1000` | Número de iteraciones (puntos aleatorios) para el cálculo. |\n",
        "\n",
        "**Resultado esperado**:\n",
        "- La salida muestra: `Pi is roughly 3.14118528`.\n",
        "\n",
        "**Explicación**:\n",
        "- El trabajo **SparkPi** usa el método Monte Carlo, generando 1000 puntos aleatorios para aproximar π. **Spark** distribuye el cálculo entre los nodos trabajadores.\n",
        "\n",
        "💡 **Contexto empresarial**: Enviar un trabajo **Spark** es como asignar un cálculo financiero (por ejemplo, un indicador de rentabilidad) a un equipo contable que lo procesa en paralelo."
      ]
    },
    {
      "cell_type": "markdown",
      "metadata": {},
      "source": [
        "## ✅ Tarea 3: Actualizar el clúster\n",
        "\n",
        "En esta tarea, escalarás el clúster para ajustar su capacidad de procesamiento.\n",
        "\n",
        "### Paso 3.1: Aumentar la cantidad de nodos trabajadores\n",
        "\n",
        "1. Ejecuta:"
      ]
    },
    {
      "cell_type": "code",
      "metadata": {},
      "source": [
        "gcloud dataproc clusters update example-cluster --num-workers 4"
      ],
      "execution_count": null,
      "outputs": []
    },
    {
      "cell_type": "markdown",
      "metadata": {},
      "source": [
        "**Explicación**:\n",
        "- Cambia el número de nodos trabajadores a 4, aumentando la capacidad de procesamiento.\n",
        "\n",
        "💡 **Contexto empresarial**: Esto es como contratar más contadores durante un cierre fiscal para acelerar el procesamiento de datos."
      ]
    },
    {
      "cell_type": "markdown",
      "metadata": {},
      "source": [
        "### Paso 3.2: Reducir la cantidad de nodos\n",
        "\n",
        "1. Ejecuta:"
      ]
    },
    {
      "cell_type": "code",
      "metadata": {},
      "source": [
        "gcloud dataproc clusters update example-cluster --num-workers 2"
      ],
      "execution_count": null,
      "outputs": []
    },
    {
      "cell_type": "markdown",
      "metadata": {},
      "source": [
        "**Explicación**:\n",
        "- Reduce los nodos trabajadores a 2, optimizando costos cuando la carga de trabajo es menor.\n",
        "\n",
        "💡 **Contexto empresarial**: Esto es como reducir el equipo contable una vez finalizado un proyecto intensivo, ahorrando recursos."
      ]
    },
    {
      "cell_type": "markdown",
      "metadata": {},
      "source": [
        "## 🧪 Tarea 4: Evaluación de comprensión\n",
        "\n",
        "| **Pregunta** | **Respuesta** |\n",
        "|--------------|---------------|\n",
        "| ¿Los clústeres pueden escalarse rápidamente usando distintos tipos de máquinas, discos y nodos? | ✅ Sí (True) |\n",
        "\n",
        "## 🚀 Resumen\n",
        "\n",
        "| **Concepto** | **Explicación contable simplificada** |\n",
        "|--------------|--------------------------------------|\n",
        "| **Dataproc** | Sistema automatizado para procesar grandes volúmenes de datos financieros, como transacciones o auditorías. |\n",
        "| **Clúster** | Equipo contable digital con un líder (nodo maestro) y trabajadores (nodos) que procesan datos en paralelo. |\n",
        "| **Spark** | Herramienta que distribuye cálculos financieros entre múltiples máquinas para mayor rapidez. |\n",
        "| **Escalabilidad** | Capacidad de ajustar el tamaño del equipo contable según la carga de trabajo, optimizando costos. |\n",
        "\n",
        "💡 **Conclusión empresarial**: **Dataproc** permite a las empresas procesar datos financieros masivos de forma rápida y escalable, con la flexibilidad de ajustar recursos dinámicamente. Esto reduce costos operativos, acelera análisis y asegura cumplimiento normativo, ideal para cierres fiscales o auditorías masivas.\n",
        "\n",
        "Para más información, consulta la [Documentación de Google Cloud Dataproc](https://cloud.google.com/dataproc/docs)."
      ]
    }
  ],
  "metadata": {
    "kernelspec": {
      "display_name": "Bash",
      "language": "bash",
      "name": "bash"
    },
    "language_info": {
      "name": "bash"
    }
  },
  "nbformat": 4,
  "nbformat_minor": 5
}