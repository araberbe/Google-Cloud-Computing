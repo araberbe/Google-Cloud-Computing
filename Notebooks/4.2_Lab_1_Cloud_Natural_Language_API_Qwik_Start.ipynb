{
  "cells": [
    {
      "cell_type": "markdown",
      "metadata": {},
      "source": [
        "# 📌 Laboratorio: Cloud Natural Language API - Inicio Rápido\n",
        "\n",
        "## 🌐 Introducción\n",
        "El procesamiento del lenguaje natural (**NLP**, por sus siglas en inglés) estudia cómo las computadoras comprenden e interpretan el lenguaje humano. La **Cloud Natural Language API** de Google Cloud ofrece capacidades avanzadas de **NLP** para analizar texto, identificar entidades, evaluar sentimientos y extraer información.\n",
        "\n",
        "💡 **Contexto empresarial**: Similar a analizar automáticamente contratos financieros, facturas o comunicaciones corporativas para extraer datos clave, como nombres, fechas o sentimientos, optimizando auditorías y procesos contables.\n",
        "\n",
        "### Funcionalidades de la Cloud Natural Language API\n",
        "- **Entity Recognition**: Identifica personas, lugares o eventos en un texto.\n",
        "- **Sentiment Analysis**: Evalúa si el texto es positivo, negativo o neutral.\n",
        "- **Information Extraction**: Extrae datos como fechas o precios.\n",
        "- **Question Answering**: Responde preguntas basadas en el texto.\n",
        "- **Integrated REST API**: Permite subir texto directamente o integrarse con **Cloud Storage**.\n",
        "\n",
        "### Objetivos del Laboratorio\n",
        "- Crear una **API Key** para autenticar el acceso.\n",
        "- Usar la **Cloud Natural Language API** para extraer entidades (personas, lugares, eventos) de un texto.\n",
        "\n",
        "💡 **Beneficio empresarial**: Automatiza el análisis de documentos financieros, reduciendo tiempo y errores en tareas como la revisión de contratos.\n",
        "\n",
        "Para más información, consulta la [Documentación de Cloud Natural Language API](https://cloud.google.com/natural-language/docs)."
      ]
    },
    {
      "cell_type": "markdown",
      "metadata": {},
      "source": [
        "## 🔧 Requisitos Previos\n",
        "\n",
        "Antes de comenzar:\n",
        "- Lee las instrucciones del laboratorio.\n",
        "- Usa un navegador moderno (preferentemente Google Chrome en modo incógnito).\n",
        "- No uses cuentas personales de Google Cloud para evitar cargos.\n",
        "- Utiliza las credenciales temporales proporcionadas.\n",
        "\n",
        "### Ingreso al Entorno de Google Cloud\n",
        "1. Haz clic en **Start Lab**.\n",
        "2. Copia el **Username** y **Password** proporcionados.\n",
        "3. Acepta los términos y condiciones.\n",
        "4. No configures autenticación en dos pasos ni opciones de recuperación.\n",
        "5. Evita acceder a pruebas gratuitas.\n",
        "\n",
        "💡 **Propósito**: Garantiza un entorno seguro y controlado, como preparar un sistema contable antes de procesar transacciones.\n",
        "\n",
        "### Activación de Cloud Shell\n",
        "**Cloud Shell** es una máquina virtual con herramientas preinstaladas, incluyendo:\n",
        "- Directorio personal de 5 GB.\n",
        "- Acceso autenticado al proyecto.\n",
        "- Comando `gcloud` con autocompletado.\n",
        "\n",
        "#### Comandos Útiles\n",
        "Verifica la cuenta y el proyecto activos:\n"
      ]
    },
    {
      "cell_type": "code",
      "metadata": {},
      "source": "gcloud auth list\ngcloud config list project",
      "execution_count": null,
      "outputs": []
    },
    {
      "cell_type": "markdown",
      "metadata": {},
      "source": [
        "💡 **Propósito**: Confirma el entorno, como verificar la configuración de un software contable antes de usarlo.\n",
        "\n",
        "Para más información, consulta la [Documentación de Cloud Shell](https://cloud.google.com/shell/docs)."
      ]
    },
    {
      "cell_type": "markdown",
      "metadata": {},
      "source": [
        "## 🔑 Tarea 1: Crear una API Key\n",
        "\n",
        "### Paso 1: Establecer el ID del Proyecto\n",
        "Guarda el ID del proyecto como variable de entorno:\n"
      ]
    },
    {
      "cell_type": "code",
      "metadata": {},
      "source": "export GOOGLE_CLOUD_PROJECT=$(gcloud config get-value core/project)",
      "execution_count": null,
      "outputs": []
    },
    {
      "cell_type": "markdown",
      "metadata": {},
      "source": [
        "💡 **Propósito**: Facilita el uso del ID del proyecto, como asignar un código de proyecto en un sistema contable.\n",
        "\n",
        "### Paso 2: Crear una Cuenta de Servicio\n",
        "Crea una cuenta de servicio para la **Cloud Natural Language API**:\n"
      ]
    },
    {
      "cell_type": "code",
      "metadata": {},
      "source": "gcloud iam service-accounts create my-natlang-sa \\\n  --display-name \"my natural language service account\"",
      "execution_count": null,
      "outputs": []
    },
    {
      "cell_type": "markdown",
      "metadata": {},
      "source": [
        "💡 **Propósito**: Habilita el acceso seguro a la API, como autorizar a un equipo contable para acceder a registros financieros.\n",
        "\n",
        "### Paso 3: Crear una Clave de Acceso\n",
        "Genera una clave en formato JSON:\n"
      ]
    },
    {
      "cell_type": "code",
      "metadata": {},
      "source": "gcloud iam service-accounts keys create ~/key.json \\\n  --iam-account my-natlang-sa@${GOOGLE_CLOUD_PROJECT}.iam.gserviceaccount.com",
      "execution_count": null,
      "outputs": []
    },
    {
      "cell_type": "markdown",
      "metadata": {},
      "source": [
        "💡 **Propósito**: Crea una credencial para autenticar la API, como generar una contraseña segura para un sistema contable.\n",
        "\n",
        "### Paso 4: Establecer la Ruta de Credenciales\n",
        "Configura la variable de entorno para la clave:\n"
      ]
    },
    {
      "cell_type": "code",
      "metadata": {},
      "source": "export GOOGLE_APPLICATION_CREDENTIALS=\"/home/USER/key.json\"",
      "execution_count": null,
      "outputs": []
    },
    {
      "cell_type": "markdown",
      "metadata": {},
      "source": [
        "💡 **Propósito**: Autoriza las llamadas a la API, como configurar permisos en un software financiero.\n",
        "\n",
        "💡 **Beneficio empresarial**: Garantiza acceso seguro y controlado a herramientas de análisis de texto, como contratos o facturas."
      ]
    },
    {
      "cell_type": "markdown",
      "metadata": {},
      "source": [
        "## 📊 Tarea 2: Realizar un Análisis de Entidades\n",
        "\n",
        "### Acceso a la Máquina Virtual\n",
        "1. Ve a **Navigation menu > Compute Engine**.\n",
        "2. Haz clic en el botón **SSH** para conectarte a la instancia.\n",
        "3. Mantén la sesión abierta durante el laboratorio.\n",
        "\n",
        "💡 **Propósito**: Establece un entorno para ejecutar comandos, como configurar una estación de trabajo para procesar datos financieros.\n",
        "\n",
        "Para más información, consulta la [Documentación de Compute Engine](https://cloud.google.com/compute/docs).\n",
        "\n",
        "### Enviar Texto a la API\n",
        "Analiza un fragmento de texto con la **Cloud Natural Language API**:\n"
      ]
    },
    {
      "cell_type": "code",
      "metadata": {},
      "source": "gcloud ml language analyze-entities \\\n  --content=\"Michelangelo Caravaggio, Italian painter, is known for 'The Calling of Saint Matthew'.\" > result.json",
      "execution_count": null,
      "outputs": []
    },
    {
      "cell_type": "markdown",
      "metadata": {},
      "source": [
        "💡 **Propósito**: Envía texto a la API para identificar entidades, como extraer nombres o fechas de un contrato financiero.\n",
        "\n",
        "💡 **Analogía contable**: Similar a identificar automáticamente proveedores o fechas en facturas escaneadas.\n",
        "\n",
        "### Ver Resultado\n",
        "Muestra el contenido del análisis:\n"
      ]
    },
    {
      "cell_type": "code",
      "metadata": {},
      "source": "cat result.json",
      "execution_count": null,
      "outputs": []
    },
    {
      "cell_type": "markdown",
      "metadata": {},
      "source": [
        "💡 **Propósito**: Revisa los resultados del análisis, como verificar un reporte financiero generado automáticamente.\n",
        "\n",
        "#### Ejemplo de Salida JSON\n",
        "```json\n{\n  \"entities\": [\n    {\n      \"name\": \"Michelangelo Caravaggio\",\n      \"type\": \"PERSON\",\n      \"metadata\": {\n        \"wikipedia_url\": \"http://en.wikipedia.org/wiki/Caravaggio\"\n      },\n      \"salience\": 0.83,\n      \"mentions\": [\n        {\"text\": {\"content\": \"Michelangelo Caravaggio\"}, \"type\": \"PROPER\"},\n        {\"text\": {\"content\": \"painter\"}, \"type\": \"COMMON\"}\n      ]\n    },\n    ...\n  ],\n  \"language\": \"en\"\n}\n```\n",
        "\n",
        "| Campo | Descripción |\n",
        "|-------|-------------|\n",
        "| `name` | Nombre de la entidad detectada. |\n",
        "| `type` | Tipo de entidad (PERSON, LOCATION, EVENT). |\n",
        "| `metadata` | Información adicional (ej. enlace a Wikipedia). |\n",
        "| `salience` | Relevancia de la entidad (0 a 1). |\n",
        "| `mentions` | Menciones del texto con tipo (PROPER o COMMON). |\n",
        "| `language` | Idioma del texto original. |\n",
        "\n",
        "💡 **Beneficio empresarial**: Automatiza la extracción de datos clave de documentos, como nombres de proveedores o fechas de vencimiento, agilizando auditorías."
      ]
    },
    {
      "cell_type": "markdown",
      "metadata": {},
      "source": [
        "## 📋 Cuadro Resumen Final\n",
        "\n",
        "| Elemento | Descripción |\n",
        "|----------|-------------|\n",
        "| **Herramienta** | Cloud Natural Language API |\n",
        "| **Objetivo** | Crear una API Key y analizar entidades desde texto |\n",
        "| **Conceptos clave** | NLP, Entity Recognition, API Key, Cloud Shell, Compute Engine |\n",
        "| **Cuenta utilizada** | Cuenta temporal de estudiante |\n",
        "| **Archivo generado** | `result.json` con el análisis de texto |\n",
        "| **Comando principal** | `gcloud ml language analyze-entities` |\n",
        "| **Resultado esperado** | Identificación de entidades con metadatos, salience y menciones |\n",
        "\n",
        "💡 **Conclusión empresarial**: La **Cloud Natural Language API** permite analizar documentos financieros automáticamente, como contratos o facturas, optimizando procesos contables y reduciendo errores."
      ]
    },
    {
      "cell_type": "markdown",
      "metadata": {},
      "source": [
        "## 🚀 Conclusión\n",
        "\n",
        "Este laboratorio te permitió:\n",
        "1. Crear una **API Key** para autenticar la **Cloud Natural Language API**.\n",
        "2. Analizar entidades en un texto y guardar los resultados en un archivo JSON.\n",
        "3. Interpretar la salida para identificar personas, lugares o eventos.\n",
        "\n",
        "💡 **Beneficio empresarial**: Automatiza la extracción de información de documentos financieros, facilitando auditorías, análisis de contratos, o detección de datos clave.\n",
        "\n",
        "Para más información, consulta la [Documentación de Cloud Natural Language API](https://cloud.google.com/natural-language/docs), [Documentación de Cloud Shell](https://cloud.google.com/shell/docs), y [Documentación de Compute Engine](https://cloud.google.com/compute/docs)."
      ]
    }
  ],
  "metadata": {
    "kernelspec": {
      "display_name": "Bash",
      "language": "bash",
      "name": "bash"
    },
    "language_info": {
      "name": "bash"
    }
  },
  "nbformat": 4,
  "nbformat_minor": 5
}