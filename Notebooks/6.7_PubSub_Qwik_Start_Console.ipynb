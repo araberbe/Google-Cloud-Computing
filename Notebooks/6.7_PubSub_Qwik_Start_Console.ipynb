{
 "cells": [
  {
   "cell_type": "markdown",
   "id": "a1b2c3d4",
   "metadata": {},
   "source": [
    "# 📌 Pub/Sub Qwik Start - Console\n",
    "\n",
    "## Introducción\n",
    "\n",
    "**Pub/Sub** (abreviatura de *Publish/Subscribe*) es un servicio de mensajería asincrónica de Google Cloud que permite a las aplicaciones y servicios intercambiar datos sin estar directamente conectados. Este sistema desacoplado es ideal para arquitecturas modernas, ya que los componentes pueden comunicarse de manera eficiente y escalable.\n",
    "\n",
    "**¿Cómo funciona?**\n",
    "- **Productor (publisher)**: Envía mensajes a un **tópico**.\n",
    "- **Tópico (topic)**: Actúa como una bandeja donde se almacenan los mensajes.\n",
    "- **Suscriptor (subscriber)**: Recibe mensajes a través de una **suscripción**.\n",
    "- **Suscripción (subscription)**: Conecta el tópico con el suscriptor.\n",
    "\n",
    "Los mensajes pueden recibirse de dos formas:\n",
    "- **Pull**: El suscriptor solicita los mensajes manualmente.\n",
    "- **Push**: Los mensajes se envían automáticamente a una URL (*webhook*).\n",
    "\n",
    "**¿Qué es el *acknowledge* (ACK)?**\n",
    "Cada suscriptor debe confirmar (*acknowledge*) que recibió el mensaje dentro de un tiempo determinado. Si no lo hace, **Pub/Sub** reenvía el mensaje hasta que se confirme, asegurando que no se pierdan datos.\n",
    "\n",
    "💡 **Beneficio empresarial**: **Pub/Sub** permite automatizar procesos, como notificaciones de transacciones o actualizaciones de inventarios, integrando sistemas sin dependencia directa, lo que mejora la escalabilidad y reduce costos operativos.\n",
    "\n",
    "Para más información sobre Pub/Sub, consulta la [Documentación oficial de Google Cloud Pub/Sub](https://cloud.google.com/pubsub/docs)."
   ]
  },
  {
   "cell_type": "markdown",
   "id": "b3c4d5e6",
   "metadata": {},
   "source": [
    "## 🚀 Objetivos del laboratorio\n",
    "\n",
    "- Crear un **tópico** para almacenar mensajes.\n",
    "- Configurar una **suscripción** para recibir mensajes.\n",
    "- Publicar mensajes en el tópico.\n",
    "- Leer mensajes utilizando la suscripción.\n",
    "- Comprender el flujo de funcionamiento de **Pub/Sub**.\n",
    "\n",
    "💡 **Contexto empresarial**: Estas habilidades permiten a las empresas integrar sistemas, como aplicaciones contables y de notificación, para procesar datos en tiempo real, mejorando la eficiencia y la toma de decisiones."
   ]
  },
  {
   "cell_type": "markdown",
   "id": "c5d6e7f8",
   "metadata": {},
   "source": [
    "## 🚀 Tarea 1: Crear un tópico\n",
    "\n",
    "Un **tópico** es el contenedor donde los productores (*publishers*) depositan los mensajes para que los suscriptores los reciban.\n",
    "\n",
    "### Pasos\n",
    "1. Desde el menú de navegación de la **Consola de Google Cloud**, haz clic en **View All Products**.\n",
    "2. En la sección **Analytics**, selecciona **Pub/Sub** > **Topics**.\n",
    "3. Haz clic en **Create topic**.\n",
    "4. En el cuadro de diálogo:\n",
    "   - En **Topic ID**, escribe: `MyTopic`.\n",
    "   - Deja los demás valores por defecto.\n",
    "5. Haz clic en **Create**.\n",
    "\n",
    "✅ **Resultado**: Has creado un tópico llamado `MyTopic`.\n",
    "\n",
    "💡 **Contexto empresarial**: Crear un tópico permite centralizar mensajes, como notificaciones de transacciones o actualizaciones de inventario, facilitando la comunicación entre sistemas empresariales.\n",
    "\n",
    "Para más información sobre la creación de tópicos, consulta la [Documentación de Google Cloud Pub/Sub](https://cloud.google.com/pubsub/docs/publisher)."
   ]
  },
  {
   "cell_type": "markdown",
   "id": "d7e8f9a0",
   "metadata": {},
   "source": [
    "## 🚀 Tarea 2: Crear una suscripción\n",
    "\n",
    "Configurarás una **suscripción** para recibir los mensajes publicados en el tópico `MyTopic`.\n",
    "\n",
    "### Pasos\n",
    "1. Desde la página de **Topics** en **Pub/Sub**, localiza el tópico `MyTopic`.\n",
    "2. Haz clic en el ícono de tres puntos (⋮) junto a `MyTopic` y selecciona **Create subscription**.\n",
    "3. En el cuadro de diálogo:\n",
    "   - En **Subscription ID**, escribe: `MySub`.\n",
    "   - En **Delivery Type**, selecciona **Pull** (para extraer mensajes manualmente).\n",
    "   - Deja las demás opciones por defecto.\n",
    "4. Haz clic en **Create**.\n",
    "\n",
    "✅ **Resultado**: Has creado una suscripción llamada `MySub` conectada al tópico `MyTopic`.\n",
    "\n",
    "💡 **Contexto empresarial**: Las suscripciones permiten a los sistemas empresariales, como aplicaciones de contabilidad, recibir datos en tiempo real, optimizando procesos como auditorías o reportes.\n",
    "\n",
    "Para más información sobre suscripciones, consulta la [Documentación de Google Cloud Pub/Sub](https://cloud.google.com/pubsub/docs/subscriber)."
   ]
  },
  {
   "cell_type": "markdown",
   "id": "e9f0a1b2",
   "metadata": {},
   "source": [
    "## 🚀 Tarea 3: Revisión conceptual\n",
    "\n",
    "Responde las siguientes preguntas para reforzar lo aprendido:\n",
    "\n",
    "1. **Una aplicación emisora crea y envía mensajes a un ____. Las aplicaciones receptoras crean una ____ para recibir los mensajes.**\n",
    "   - Respuesta correcta: **topic, subscription**\n",
    "\n",
    "2. **¿Pub/Sub es un sistema de mensajería asincrónico, confiable y escalable?**\n",
    "   - Respuesta correcta: ✔️ **Verdadero**\n",
    "\n",
    "💡 **Contexto empresarial**: Comprender los conceptos de **Pub/Sub** permite a las empresas diseñar sistemas escalables para integrar procesos, como la sincronización de datos financieros entre aplicaciones."
   ]
  },
  {
   "cell_type": "markdown",
   "id": "f1a2b3c4",
   "metadata": {},
   "source": [
    "## 🚀 Tarea 4: Publicar un mensaje\n",
    "\n",
    "Publicarás un mensaje en el tópico `MyTopic` desde la **Consola de Google Cloud**.\n",
    "\n",
    "### Pasos\n",
    "1. Desde **Pub/Sub** > **Topics**, selecciona el tópico `MyTopic`.\n",
    "2. En la página de detalles, haz clic en la pestaña **Messages**.\n",
    "3. Haz clic en **Publish Message**.\n",
    "4. En el campo de mensaje, escribe: `Hello World`.\n",
    "5. Haz clic en **Publish**.\n",
    "\n",
    "✅ **Resultado**: El mensaje `Hello World` se ha publicado en el tópico `MyTopic`.\n",
    "\n",
    "💡 **Contexto empresarial**: Publicar mensajes permite enviar datos críticos, como notificaciones de transacciones o alertas de inventario, a múltiples sistemas de forma eficiente.\n",
    "\n",
    "Para más información sobre la publicación de mensajes, consulta la [Documentación de Google Cloud Pub/Sub](https://cloud.google.com/pubsub/docs/publish-messages)."
   ]
  },
  {
   "cell_type": "markdown",
   "id": "a3b4c5d6",
   "metadata": {},
   "source": [
    "## 🚀 Tarea 5: Leer el mensaje con la suscripción\n",
    "\n",
    "Extraerás el mensaje publicado usando la suscripción `MySub` desde **Cloud Shell**.\n",
    "\n",
    "### Pasos\n",
    "1. Abre **Cloud Shell** desde la **Consola de Google Cloud**.\n",
    "2. Ejecuta el siguiente comando:"
   ]
  },
  {
   "cell_type": "code",
   "execution_count": null,
   "id": "b5c6d7e8",
   "metadata": {},
   "outputs": [],
   "source": [
    "gcloud pubsub subscriptions pull --auto-ack MySub"
   ]
  },
  {
   "cell_type": "markdown",
   "id": "c7d8e9a0",
   "metadata": {},
   "source": [
    "**Explicación del comando**:\n",
    "- `gcloud`: Herramienta de línea de comandos de Google Cloud.\n",
    "- `pubsub subscriptions pull`: Extrae mensajes de una suscripción.\n",
    "- `--auto-ack`: Marca automáticamente el mensaje como recibido (*acknowledged*), evitando reintentos.\n",
    "- `MySub`: Nombre de la suscripción creada.\n",
    "\n",
    "**Resultado esperado**:\n",
    "```json\n",
    "receivedMessages:\n",
    "- ackId: \"XYZ123\"\n",
    "  message:\n",
    "    data: \"SGVsbG8gV29ybGQ=\"\n",
    "    messageId: \"1234567890\"\n",
    "```\n",
    "\n",
    "**Nota**: El campo `data: \"SGVsbG8gV29ybGQ=\"` es el mensaje `Hello World` codificado en **base64**. Al decodificarlo, se obtiene el texto original.\n",
    "\n",
    "💡 **Contexto empresarial**: Extraer mensajes permite a los sistemas recibir datos en tiempo real, como actualizaciones de transacciones, para procesarlos en aplicaciones contables o de gestión.\n",
    "\n",
    "Para más información sobre la extracción de mensajes, consulta la [Documentación de Google Cloud Pub/Sub](https://cloud.google.com/pubsub/docs/pull)."
   ]
  },
  {
   "cell_type": "markdown",
   "id": "d9e0a1b2",
   "metadata": {},
   "source": [
    "## 🚀 Conclusión\n",
    "\n",
    "Este laboratorio te ha guiado en la creación de un **tópico** y una **suscripción** en **Pub/Sub**, la publicación de un mensaje, y la extracción de ese mensaje usando **Cloud Shell**. Estas habilidades son esenciales para implementar sistemas de mensajería asincrónica que conecten aplicaciones y servicios de manera eficiente.\n",
    "\n",
    "💡 **Beneficio empresarial**: **Pub/Sub** permite a las empresas integrar procesos, como notificaciones de transacciones o sincronización de datos entre sistemas contables, reduciendo costos y mejorando la escalabilidad.\n",
    "\n",
    "Para más información, consulta la [Documentación de Google Cloud Pub/Sub](https://cloud.google.com/pubsub/docs)."
   ]
  }
 ],
 "metadata": {
  "kernelspec": {
   "display_name": "Python 3 (ipykernel)",
   "language": "python",
   "name": "python3"
  },
  "language_info": {
   "codemirror_mode": {
    "name": "ipython",
    "version": 3
   },
   "file_extension": ".py",
   "mimetype": "text/x-python",
   "name": "python",
   "nbconvert_exporter": "python",
   "pygments_lexer": "ipython3",
   "version": "3.9.21"
  },
  "nbformat": 4,
  "nbformat_minor": 5
 },
 "nbformat": 4,
 "nbformat_minor": 5
}
