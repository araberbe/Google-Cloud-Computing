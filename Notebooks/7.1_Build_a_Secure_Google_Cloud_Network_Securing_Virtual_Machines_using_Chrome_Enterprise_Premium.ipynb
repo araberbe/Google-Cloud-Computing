{
  "cells": [
    {
      "cell_type": "markdown",
      "metadata": {},
      "source": [
        "# 🛡️ Securing Virtual Machines using Chrome Enterprise Premium\n",
        "\n",
        "En este laboratorio, aprenderás a utilizar **Chrome Enterprise Premium** junto con **Identity-Aware Proxy (IAP)** para habilitar un acceso administrativo seguro a máquinas virtuales (VMs) que no cuentan con una dirección IP externa y, por lo tanto, no permiten acceso directo desde Internet. Este enfoque es ideal para empresas que buscan proteger datos sensibles, como información contable, mientras mantienen un acceso controlado y seguro a sus recursos en la nube.\n",
        "\n",
        "💡 **Beneficio empresarial**: Usar **IAP** con **Chrome Enterprise Premium** garantiza que solo usuarios y dispositivos autorizados puedan acceder a sistemas críticos, como servidores que almacenan datos financieros, reduciendo riesgos de seguridad y cumpliendo con normativas como el RGPD o auditorías internas.\n",
        "\n",
        "Para más información sobre Identity-Aware Proxy, consulta la [Documentación oficial de Google Cloud IAP](https://cloud.google.com/iap/docs).\n",
        "\n",
        "## ¿Qué aprenderás?\n",
        "- Activar el reenvío TCP de **IAP** en tu proyecto de Google Cloud.\n",
        "- Probar la conectividad a instancias Linux y Windows sin IP externa.\n",
        "- Configurar reglas de firewall necesarias para permitir conexiones seguras.\n",
        "- Asignar permisos para usar el reenvío TCP por **IAP**.\n",
        "- Demostrar el uso de túneles seguros utilizando conexiones **SSH** y **RDP**.\n",
        "\n",
        "📊 **Analogía contable**: Configurar **IAP** es como instalar una bóveda segura para los libros contables de una empresa, donde solo los auditores autorizados pueden acceder a través de un canal cifrado, sin exponer los datos al público."
      ]
    },
    {
      "cell_type": "markdown",
      "metadata": {},
      "source": [
        "## 🚀 Tarea 1: Habilitar el Reenvío TCP de IAP\n",
        "\n",
        "En esta tarea, activarás la API de **Identity-Aware Proxy (IAP)** para habilitar el reenvío TCP, que permite conexiones seguras a máquinas virtuales sin IP pública.\n",
        "\n",
        "### Pasos en Google Cloud Console:\n",
        "1. Abre el **Menú de Navegación** > **APIs y Servicios** > **Biblioteca**.\n",
        "2. Busca **IAP**.\n",
        "3. Selecciona **Cloud Identity-Aware Proxy API**.\n",
        "4. Haz clic en **Habilitar**.\n",
        "\n",
        "**Explicación**:\n",
        "- **IAP** actúa como una capa de seguridad que autentica a los usuarios antes de permitirles acceder a recursos, como VMs, sin necesidad de exponerlos a Internet.\n",
        "\n",
        "💡 **Contexto empresarial**: En un entorno contable, **IAP** es como un guardia de seguridad que verifica la identidad de un auditor antes de permitirle acceder a registros financieros sensibles, garantizando que solo las personas autorizadas puedan interactuar con los datos.\n",
        "\n",
        "Para más detalles, consulta la [Documentación de Google Cloud IAP](https://cloud.google.com/iap/docs)."
      ]
    },
    {
      "cell_type": "markdown",
      "metadata": {},
      "source": [
        "## 🚀 Tarea 2: Crear Instancias Linux y Windows\n",
        "\n",
        "En esta tarea, crearás tres instancias de máquinas virtuales: dos sin IP externa (`linux-iap` y `windows-iap`) y una con IP externa (`windows-connectivity`) para probar conexiones seguras.\n",
        "\n",
        "### Paso 1: Crear instancia Linux (linux-iap)\n",
        "\n",
        "1. Ve a **Menú** > **Compute Engine** > **Instancias**.\n",
        "2. Haz clic en **Crear instancia**.\n",
        "3. Configura:\n",
        "   - **Nombre**: `linux-iap`\n",
        "   - **Zona**: Selecciona una zona (por ejemplo, `us-central1-a`).\n",
        "   - En **Redes**, edita **Interfaz de red**.\n",
        "   - Cambia **Dirección IP externa** a **Ninguna**.\n",
        "4. Haz clic en **Crear**.\n",
        "\n",
        "**Explicación**:\n",
        "- Al eliminar la IP externa, la VM queda aislada de Internet, lo que mejora la seguridad.\n",
        "\n",
        "💡 **Contexto empresarial**: Esta configuración es como una caja fuerte que contiene registros financieros, accesible solo desde una red interna segura, evitando accesos no autorizados desde el exterior."
      ]
    },
    {
      "cell_type": "markdown",
      "metadata": {},
      "source": [
        "### Paso 2: Crear instancia Windows (windows-iap)\n",
        "\n",
        "1. Ve a **Crear instancia**.\n",
        "2. Configura:\n",
        "   - **Nombre**: `windows-iap`\n",
        "   - **Sistema Operativo**: **Windows Server 2016 Datacenter**.\n",
        "   - En **Red**, elimina la **Dirección IP externa**.\n",
        "3. Haz clic en **Crear**.\n",
        "\n",
        "**Explicación**:\n",
        "- Similar a `linux-iap`, esta VM no tiene IP externa, lo que la protege de accesos directos desde Internet."
      ]
    },
    {
      "cell_type": "markdown",
      "metadata": {},
      "source": [
        "### Paso 3: Crear VM para conectividad (windows-connectivity)\n",
        "\n",
        "1. Ve a **Crear instancia**.\n",
        "2. Configura:\n",
        "   - **Nombre**: `windows-connectivity`\n",
        "   - **Sistema**: Usa la imagen personalizada `iap-desktop-v001` desde **Qwiklabs Resources**.\n",
        "   - En **Seguridad**, habilita **Acceso completo a todas las APIs de Cloud**.\n",
        "   - Mantén la **IP externa** activa.\n",
        "3. Haz clic en **Crear**.\n",
        "\n",
        "**Explicación**:\n",
        "- Esta VM actúa como un punto de acceso seguro desde el cual conectarás a las otras VMs sin IP externa.\n",
        "\n",
        "💡 **Contexto empresarial**: La VM `windows-connectivity` es como una oficina central desde la cual los auditores pueden acceder de forma segura a los registros financieros almacenados en otras sucursales (VMs sin IP externa).\n",
        "\n",
        "### Resumen de instancias:\n",
        "\n",
        "| **VM**                | **Propósito**                     | **SO**                     | **¿IP externa?** |\n",
        "|-----------------------|-----------------------------------|----------------------------|------------------|\n",
        "| `linux-iap`           | Pruebas sin acceso externo        | Linux                     | ❌               |\n",
        "| `windows-iap`         | Pruebas sin acceso externo        | Windows Server            | ❌               |\n",
        "| `windows-connectivity`| Prueba de conexión                | Windows (custom)          | ✅               |\n",
        "\n",
        "Para más información sobre la creación de VMs, consulta la [Documentación de Google Cloud Compute Engine](https://cloud.google.com/compute/docs)."
      ]
    },
    {
      "cell_type": "markdown",
      "metadata": {},
      "source": [
        "## 🚀 Tarea 3: Probar Conectividad\n",
        "\n",
        "En esta tarea, verificarás que las VMs `linux-iap` y `windows-iap` no son accesibles directamente debido a la falta de una IP externa.\n",
        "\n",
        "### Pasos:\n",
        "1. Para `linux-iap`:\n",
        "   - Ve a **Compute Engine** > **Instancias**.\n",
        "   - Haz clic en **SSH** junto a `linux-iap`.\n",
        "   - **Resultado esperado**: Verás un error de conexión, ya que no hay IP externa.\n",
        "2. Para `windows-iap`:\n",
        "   - Haz clic en **RDP** junto a `windows-iap`.\n",
        "   - **Resultado esperado**: Verás un error de acceso.\n",
        "\n",
        "**Explicación**:\n",
        "- Sin una IP externa, Google Cloud bloquea el acceso directo a estas VMs, lo que mejora la seguridad al evitar conexiones no autorizadas desde Internet.\n",
        "\n",
        "💡 **Contexto empresarial**: Este aislamiento es como mantener los registros financieros en una bóveda sin acceso público, asegurando que solo los canales internos autorizados puedan acceder a ellos."
      ]
    },
    {
      "cell_type": "markdown",
      "metadata": {},
      "source": [
        "## 🚀 Tarea 4: Configurar Reglas de Firewall\n",
        "\n",
        "En esta tarea, crearás una regla de firewall para permitir conexiones seguras a través de **IAP** para los protocolos **SSH** (puerto 22) y **RDP** (puerto 3389).\n",
        "\n",
        "### Pasos:\n",
        "1. Ve a **Menú** > **VPC Network** > **Firewall** > **Crear regla**.\n",
        "2. Configura la regla:\n",
        "   - **Nombre**: `allow-ingress-from-iap`\n",
        "   - **Dirección del tráfico**: **Ingreso**\n",
        "   - **Objetivo**: **Todas las instancias de la red**\n",
        "   - **Filtro de origen**: **Rango IPv4**\n",
        "   - **Rango IPv4**: `35.235.240.0/20` (rango de IP de IAP)\n",
        "   - **Protocolos y puertos**: `TCP: 22, 3389`\n",
        "3. Haz clic en **Crear**.\n",
        "\n",
        "**Explicación**:\n",
        "- Esta regla permite el tráfico desde el rango de IPs de **IAP** hacia los puertos **SSH** (para Linux) y **RDP** (para Windows), asegurando conexiones seguras.\n",
        "\n",
        "💡 **Contexto empresarial**: Esta regla es como autorizar a un grupo específico de auditores a acceder a los registros financieros a través de un canal seguro, sin exponer los datos a terceros.\n",
        "\n",
        "Para más información, consulta la [Documentación de Google Cloud Firewall](https://cloud.google.com/vpc/docs/firewalls)."
      ]
    },
    {
      "cell_type": "markdown",
      "metadata": {},
      "source": [
        "## 🚀 Tarea 5: Asignar permisos para usar IAP TCP Forwarding\n",
        "\n",
        "En esta tarea, asignarás permisos para permitir que la VM `windows-connectivity` y tu cuenta de usuario utilicen **IAP** para conectarse a las VMs.\n",
        "\n",
        "### Pasos:\n",
        "1. Ve a **Menú** > **Seguridad** > **Identity-Aware Proxy**.\n",
        "2. Cambia a la pestaña **SSH and TCP Resources**.\n",
        "3. Selecciona las instancias `linux-iap` y `windows-iap`.\n",
        "4. Haz clic en **Agregar principal**.\n",
        "5. Agrega la cuenta de servicio de la VM `windows-connectivity`:\n",
        "   - **Formato**: `project_number-compute@developer.gserviceaccount.com`\n",
        "   - **Rol**: **Cloud IAP > IAP-Secured Tunnel User**\n",
        "6. Agrega tu cuenta de estudiante:\n",
        "   - Copia el correo desde el panel del laboratorio.\n",
        "   - **Rol**: **Cloud IAP > IAP-Secured Tunnel User**\n",
        "7. Haz clic en **Guardar**.\n",
        "\n",
        "**Explicación**:\n",
        "- Estos permisos permiten que tanto la VM `windows-connectivity` como tu cuenta de usuario accedan a las VMs a través de túneles seguros de **IAP**.\n",
        "\n",
        "💡 **Contexto empresarial**: Asignar estos permisos es como otorgar acceso exclusivo a un grupo reducido de contadores para revisar los libros financieros, garantizando que solo ellos puedan acceder a través de un canal seguro.\n",
        "\n",
        "Para más detalles, consulta la [Documentación de Google Cloud IAM](https://cloud.google.com/iam/docs)."
      ]
    },
    {
      "cell_type": "markdown",
      "metadata": {},
      "source": [
        "## 🚀 Tarea 6: Usar IAP Desktop para Conectarse a Instancias Windows y Linux\n",
        "\n",
        "En esta tarea, utilizarás **IAP Desktop**, una herramienta gráfica, para conectarte a las VMs sin IP externa desde la VM `windows-connectivity`.\n",
        "\n",
        "📊 **Analogía contable**: **IAP Desktop** es como una oficina central que permite a los auditores acceder de forma segura a registros financieros almacenados en bóvedas remotas, sin necesidad de exponerlas al público.\n",
        "\n",
        "### Paso 1: Conectarse a windows-connectivity usando RDP\n",
        "\n",
        "1. Ve a **Compute Engine** > **VM Instances**.\n",
        "2. Busca la instancia `windows-connectivity`.\n",
        "3. Haz clic en la flecha hacia abajo y selecciona **Descargar archivo RDP**.\n",
        "4. Abre el archivo RDP con el programa **Conexión a Escritorio Remoto** de Windows.\n",
        "5. Ingresa las credenciales:\n",
        "   - **Usuario**: `student`\n",
        "   - **Contraseña**: `Learn123!`\n",
        "\n",
        "**Explicación**:\n",
        "- Este paso te conecta a la VM `windows-connectivity`, que actúa como un punto de acceso seguro."
      ]
    },
    {
      "cell_type": "markdown",
      "metadata": {},
      "source": [
        "### Paso 2: Abrir la aplicación IAP Desktop\n",
        "\n",
        "1. En el escritorio de `windows-connectivity`, busca el ícono de **IAP Desktop** y haz doble clic para abrirlo.\n",
        "2. Haz clic en **Iniciar sesión con Google**.\n",
        "3. Usa las credenciales temporales proporcionadas en el panel del laboratorio.\n",
        "4. Haz clic en **Continuar** y luego en **Permitir** para vincular la aplicación a tu cuenta de Google Cloud.\n",
        "\n",
        "**Explicación**:\n",
        "- **IAP Desktop** autentica tu cuenta para gestionar conexiones seguras a las VMs."
      ]
    },
    {
      "cell_type": "markdown",
      "metadata": {},
      "source": [
        "### Paso 3: Agregar el Proyecto del Laboratorio\n",
        "\n",
        "1. En **IAP Desktop**, selecciona el proyecto asociado al laboratorio.\n",
        "2. Esto permitirá que la aplicación vea las instancias VM disponibles (`linux-iap` y `windows-iap`).\n",
        "\n",
        "**Explicación**:\n",
        "- Seleccionar el proyecto asegura que **IAP Desktop** pueda identificar las VMs a las que tienes acceso."
      ]
    },
    {
      "cell_type": "markdown",
      "metadata": {},
      "source": [
        "### Paso 4: Conectarse a windows-iap\n",
        "\n",
        "1. En **IAP Desktop**, haz doble clic en la instancia `windows-iap`.\n",
        "2. Si es la primera vez, selecciona **Generar nuevas credenciales**.\n",
        "3. Acepta el mensaje emergente de **Generar credenciales de inicio de sesión**.\n",
        "4. Una vez generadas, deberías acceder al escritorio remoto de `windows-iap`.\n",
        "\n",
        "**Explicación**:\n",
        "- **IAP Desktop** utiliza un túnel seguro para conectar con la VM sin IP externa, proporcionando una experiencia gráfica similar a un escritorio remoto estándar.\n",
        "\n",
        "💡 **Contexto empresarial**: Esta conexión es como acceder a un sistema contable remoto sin exponerlo a Internet, garantizando la confidencialidad de los datos financieros."
      ]
    },
    {
      "cell_type": "markdown",
      "metadata": {},
      "source": [
        "## 🚀 Tarea 7: Demostrar Túneles Usando SSH y RDP\n",
        "\n",
        "En esta tarea, demostrarás cómo acceder a VMs sin IP externa utilizando túneles cifrados con **IAP** para conexiones **SSH** (Linux) y **RDP** (Windows).\n",
        "\n",
        "📊 **Analogía contable**: Los túneles de **IAP** son como un canal cifrado para enviar documentos financieros confidenciales dentro de la empresa, sin exponerlos al público.\n",
        "\n",
        "### Paso 1: Conectarse a windows-connectivity con RDP\n",
        "\n",
        "1. Ve a **Compute Engine** > **VM Instances**.\n",
        "2. En `windows-connectivity`, haz clic en la flecha hacia abajo y selecciona **Establecer contraseña de Windows**.\n",
        "3. Copia y guarda la contraseña generada.\n",
        "4. Descarga el archivo RDP y ábrelo con **Conexión a Escritorio Remoto**.\n",
        "5. Ingresa la contraseña copiada.\n",
        "\n",
        "**Explicación**:\n",
        "- Este paso asegura que tengas acceso a `windows-connectivity`, desde donde iniciarás los túneles."
      ]
    },
    {
      "cell_type": "markdown",
      "metadata": {},
      "source": [
        "### Paso 2: Abrir Google Cloud SDK Shell\n",
        "\n",
        "1. En el escritorio de `windows-connectivity`, abre la aplicación **Google Cloud SDK Shell** (ícono de terminal).\n",
        "\n",
        "**Explicación**:\n",
        "- **Google Cloud SDK Shell** proporciona una interfaz de línea de comandos para ejecutar comandos `gcloud`."
      ]
    },
    {
      "cell_type": "markdown",
      "metadata": {},
      "source": [
        "### Paso 3: Conectarse a linux-iap vía SSH\n",
        "\n",
        "Ejecuta el siguiente comando en **Google Cloud SDK Shell**:"
      ]
    },
    {
      "cell_type": "code",
      "metadata": {},
      "source": [
        "gcloud compute ssp linux-iap"
      ],
      "execution_count": null,
      "outputs": []
    },
    {
      "cell_type": "markdown",
      "metadata": {},
      "source": [
        "**Explicación del comando**:\n",
        "- `gcloud`: Herramienta de línea de comandos de Google Cloud.\n",
        "- `compute`: Gestiona recursos de **Compute Engine**.\n",
        "- `ssh`: Inicia una conexión **SSH** a una VM.\n",
        "- `linux-iap`: Nombre de la VM de destino.\n",
        "\n",
        "**Nota**: Como `linux-iap` no tiene IP externa, el comando usará un túnel **IAP**. Verás un mensaje como:\n",
        "```\n",
        "No external IP address found, attempting to use IAP tunneling.\n",
        "```\n",
        "1. Selecciona la zona correcta (por ejemplo, `us-central1-a`).\n",
        "2. Acepta la alerta de seguridad de **PuTTY**.\n",
        "\n",
        "💡 **Contexto empresarial**: Esta conexión es como acceder de forma segura a un servidor que almacena registros contables, sin exponerlo a riesgos externos."
      ]
    },
    {
      "cell_type": "markdown",
      "metadata": {},
      "source": [
        "### Paso 4: Ajustar configuración de túneles en PuTTY\n",
        "\n",
        "1. En la ventana de **PuTTY**:\n",
        "   - Haz clic en la esquina superior izquierda > **Change Settings**.\n",
        "   - En **Tunnel**, activa **Local ports accept connections from other hosts**.\n",
        "2. Cierra la sesión de **PuTTY** y haz clic en **Apply**.\n",
        "\n",
        "**Explicación**:\n",
        "- Este ajuste permite que el túnel **IAP** acepte conexiones desde otros hosts locales, facilitando la comunicación segura."
      ]
    },
    {
      "cell_type": "markdown",
      "metadata": {},
      "source": [
        "### Paso 5: Crear un túnel para windows-iap\n",
        "\n",
        "Ejecuta el siguiente comando en **Google Cloud SDK Shell**:"
      ]
    },
    {
      "cell_type": "code",
      "metadata": {},
      "source": [
        "gcloud compute start-iap-tunnel windows-iap 3389 --local-host-port=localhost:0 --zone=us-west1-a"
      ],
      "execution_count": null,
      "outputs": []
    },
    {
      "cell_type": "markdown",
      "metadata": {},
      "source": [
        "**Explicación del comando**:\n",
        "- `gcloud compute`: Gestiona recursos de **Compute Engine**.\n",
        "- `start-iap-tunnel`: Inicia un túnel seguro con **IAP**.\n",
        "- `windows-iap`: Nombre de la VM de destino.\n",
        "- `3389`: Puerto estándar para **RDP**.\n",
        "- `--local-host-port=localhost:0`: Asigna un puerto local aleatorio para el túnel.\n",
        "- `--zone=us-west1-a`: Especifica la zona de la VM.\n",
        "\n",
        "**Nota**: Cuando veas un mensaje como `Listening on port [XXXX]`, copia el número de puerto para usarlo en el siguiente paso."
      ]
    },
    {
      "cell_type": "markdown",
      "metadata": {},
      "source": [
        "### Paso 6: Finalizar la conexión RDP vía túnel\n",
        "\n",
        "1. Ve a **Compute Engine** > **VM Instances**.\n",
        "2. En `windows-iap`, haz clic en **Establecer contraseña** y copia la contraseña generada.\n",
        "3. Abre la aplicación **Conexión a Escritorio Remoto** de Windows.\n",
        "4. En el campo **Equipo**, escribe: `localhost:[número de puerto del túnel]`.\n",
        "5. Ingresa la contraseña copiada y conéctate.\n",
        "6. Si se te pregunta, haz clic en **Sí**.\n",
        "\n",
        "**Explicación**:\n",
        "- Este paso establece una conexión **RDP** a `windows-iap` a través del túnel **IAP**, permitiendo acceso seguro sin IP externa.\n",
        "\n",
        "💡 **Contexto empresarial**: Esta conexión es como revisar los balances financieros de una sucursal remota a través de un canal cifrado, garantizando seguridad y trazabilidad.\n",
        "\n",
        "🎉 ¡Ahora estás conectado a una VM sin IP externa gracias a **IAP**!"
      ]
    },
    {
      "cell_type": "markdown",
      "metadata": {},
      "source": [
        "## 🚀 Resumen de conceptos\n",
        "\n",
        "El siguiente cuadro resume los conceptos clave y herramientas utilizadas en este laboratorio:\n",
        "\n",
        "| **Elemento**              | **Descripción**                                                                 | **Analogía Contable**                              |\n",
        "|---------------------------|--------------------------------------------------------------------------------|----------------------------------------------------|\n",
        "| **IAP Desktop**           | Herramienta gráfica para conectarse a VMs sin IP pública                        | Oficina central para acceder a sucursales internas |\n",
        "| **SSH / RDP**             | Protocolos para conectarse a sistemas remotos (Linux / Windows)                 | Técnicas para revisar libros contables a distancia |\n",
        "| **Túnel IAP**             | Ruta cifrada que permite acceso seguro sin exponer recursos a Internet          | Entrega de documentación por canales internos      |\n",
        "| `gcloud compute ssh`      | Comando para acceder a una VM Linux vía terminal                               | Ingreso remoto a archivos contables protegidos    |\n",
        "| `gcloud start-iap-tunnel` | Crea un túnel seguro hacia un puerto específico (como RDP)                      | Puente cifrado para revisar balances remotos       |\n",
        "\n",
        "💡 **Conclusión empresarial**: **Chrome Enterprise Premium** con **IAP** proporciona una solución robusta para proteger sistemas críticos, como los que almacenan datos contables, al permitir acceso seguro sin exponer recursos a Internet. Esto mejora la seguridad, reduce riesgos y facilita el cumplimiento de normativas, mientras optimiza costos al eliminar la necesidad de IPs públicas.\n",
        "\n",
        "Para más información, consulta la [Documentación de Google Cloud IAP](https://cloud.google.com/iap/docs)."
      ]
    }
  ],
  "metadata": {
    "kernelspec": {
      "display_name": "Bash",
      "language": "bash",
      "name": "bash"
    },
    "language_info": {
      "name": "bash"
    }
  },
  "nbformat": 4,
  "nbformat_minor": 5
}