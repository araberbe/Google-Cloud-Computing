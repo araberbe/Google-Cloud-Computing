{
 "cells": [
  {
   "cell_type": "markdown",
   "id": "6fbc2a5d",
   "metadata": {},
   "source": [
    "# 📌 Autenticación de Usuario: Proxy Consciente de Identidad (Identity-Aware Proxy - IAP)\n",
    "\n",
    "## Introducción\n",
    "\n",
    "Este laboratorio te guiará en la construcción de una aplicación web mínima utilizando **Google App Engine** y en la configuración de **Identity-Aware Proxy (IAP)** para restringir el acceso y obtener información de identidad del usuario. Este enfoque es clave para proteger sistemas empresariales, como los usados en contabilidad, asegurando que solo usuarios autorizados accedan a datos financieros sensibles.\n",
    "\n",
    "💡 **Beneficio empresarial**: **IAP** actúa como un portero digital que verifica la identidad de los usuarios, similar a restringir el acceso a un sistema contable para evitar fraudes o accesos no autorizados.\n",
    "\n",
    "Para más información, consulta la [Documentación de Google Cloud IAP](https://cloud.google.com/security/products/iap?hl=es_419)."
   ]
  },
  {
   "cell_type": "markdown",
   "id": "5c974518",
   "metadata": {},
   "source": [
    "## 🚀 Objetivos de Aprendizaje\n",
    "\n",
    "- Escribir y desplegar una aplicación simple en **App Engine** usando **Python**.\n",
    "- Habilitar y deshabilitar **IAP** para restringir el acceso.\n",
    "- Obtener información de identidad del usuario desde **IAP**.\n",
    "- Verificar criptográficamente la información de **IAP** para evitar suplantación.\n",
    "\n",
    "💡 **Contexto empresarial**: Estos objetivos te permiten configurar sistemas seguros para aplicaciones financieras, asegurando que solo contadores o auditores autorizados accedan a reportes o módulos contables."
   ]
  },
  {
   "cell_type": "markdown",
   "id": "4efc3ec5",
   "metadata": {},
   "source": [
    "## 📋 Prerrequisitos\n",
    "\n",
    "- Conocimientos básicos de **Python** (recomendado, pero no obligatorio).\n",
    "- Familiaridad con **Google Cloud Console** y **Cloud Shell**.\n",
    "\n",
    "💡 **Contexto empresarial**: No necesitas ser un experto en programación, pero entender los conceptos básicos de Python es útil, como saber leer un balance financiero para configurar un sistema contable."
   ]
  },
  {
   "cell_type": "markdown",
   "id": "e1265270",
   "metadata": {},
   "source": [
    "## 🔒 Conceptos Clave\n",
    "\n",
    "### ¿Qué es Identity-Aware Proxy (IAP)?\n",
    "**IAP** es un servicio de **Google Cloud** que:\n",
    "- Intercepta solicitudes web a tu aplicación.\n",
    "- Autentica al usuario mediante **Google Identity Service**.\n",
    "- Permite el acceso solo a usuarios autorizados.\n",
    "- Modifica las cabeceras HTTP para incluir información del usuario autenticado.\n",
    "\n",
    "💡 **Contexto empresarial**: **IAP** es como un sistema de autenticación para un ERP contable, asegurando que solo usuarios con credenciales válidas accedan a módulos financieros."
   ]
  },
  {
   "cell_type": "markdown",
   "id": "37a076fe",
   "metadata": {},
   "source": [
    "## 🚀 Comandos Iniciales en Cloud Shell\n",
    "\n",
    "Configura tu entorno en **Cloud Shell** para comenzar el laboratorio.\n",
    "\n",
    "### 1. Verificar cuenta activa"
   ]
  },
  {
   "cell_type": "code",
   "execution_count": null,
   "id": "32a90fc0",
   "metadata": {},
   "outputs": [],
   "source": [
    "gcloud auth list"
   ]
  },
  {
   "cell_type": "markdown",
   "id": "ffc41173",
   "metadata": {},
   "source": [
    "**Explicación del comando**:  \n",
    "- `gcloud auth list`: Muestra las cuentas autenticadas en **Cloud Shell**, asegurando que usas las credenciales correctas.  \n",
    "💡 **Contexto empresarial**: Similar a verificar que el usuario que accede a un sistema contable tiene permisos válidos."
   ]
  },
  {
   "cell_type": "markdown",
   "id": "ebb7d7d3",
   "metadata": {},
   "source": [
    "### 2. Verificar proyecto activo"
   ]
  },
  {
   "cell_type": "code",
   "execution_count": null,
   "id": "b973d1da",
   "metadata": {},
   "outputs": [],
   "source": [
    "gcloud config list project"
   ]
  },
  {
   "cell_type": "markdown",
   "id": "b4c7bcd7",
   "metadata": {},
   "source": [
    "**Explicación del comando**:  \n",
    "- `gcloud config list project`: Muestra el ID del proyecto activo, necesario para asociar recursos como **App Engine**.  \n",
    "💡 **Contexto empresarial**: Como confirmar el centro de costo o departamento al que se asignan los recursos en un sistema contable."
   ]
  },
  {
   "cell_type": "markdown",
   "id": "4f9340d6",
   "metadata": {},
   "source": [
    "### 3. Descargar código del laboratorio"
   ]
  },
  {
   "cell_type": "code",
   "execution_count": null,
   "id": "6b3dafa5",
   "metadata": {},
   "outputs": [],
   "source": [
    "gsutil cp gs://spls/gsp499/user-authentication-with-iap.zip ."
   ]
  },
  {
   "cell_type": "markdown",
   "id": "7944f642",
   "metadata": {},
   "source": [
    "**Explicación del comando**:  \n",
    "- `gsutil cp`: Copia archivos desde **Google Cloud Storage** al entorno local de **Cloud Shell**.  \n",
    "- `gs://spls/gsp499/user-authentication-with-iap.zip`: Ruta del archivo ZIP en **Cloud Storage**.  \n",
    "- `.`: Directorio actual como destino.  \n",
    "💡 **Contexto empresarial**: Como descargar un archivo de configuración contable desde un repositorio central seguro."
   ]
  },
  {
   "cell_type": "markdown",
   "id": "f0d9a98d",
   "metadata": {},
   "source": [
    "### 4. Descomprimir el archivo"
   ]
  },
  {
   "cell_type": "code",
   "execution_count": null,
   "id": "85453162",
   "metadata": {},
   "outputs": [],
   "source": [
    "unzip user-authentication-with-iap.zip"
   ]
  },
  {
   "cell_type": "markdown",
   "id": "c0fdb80d",
   "metadata": {},
   "source": [
    "**Explicación del comando**:  \n",
    "- `unzip`: Descomprime el archivo ZIP descargado.  \n",
    "💡 **Contexto empresarial**: Como extraer un archivo de reportes financieros comprimido para trabajar con él."
   ]
  },
  {
   "cell_type": "markdown",
   "id": "c2f2baf1",
   "metadata": {},
   "source": [
    "### 5. Cambiar al directorio del proyecto"
   ]
  },
  {
   "cell_type": "code",
   "execution_count": null,
   "id": "b0466b24",
   "metadata": {},
   "outputs": [],
   "source": [
    "cd user-authentication-with-iap"
   ]
  },
  {
   "cell_type": "markdown",
   "id": "e6695823",
   "metadata": {},
   "source": [
    "**Explicación del comando**:  \n",
    "- `cd`: Cambia al directorio descomprimido que contiene los archivos del laboratorio.  \n",
    "💡 **Contexto empresarial**: Como abrir una carpeta específica de un proyecto contable para trabajar en él."
   ]
  },
  {
   "cell_type": "markdown",
   "id": "e1f73faf",
   "metadata": {},
   "source": [
    "## 🚀 Tarea 1: Desplegar la Aplicación y Protegerla con IAP\n",
    "\n",
    "### Paso 1: Revisar el Código de la Aplicación\n",
    "\n",
    "La aplicación está escrita en **Python** usando **Flask** y contiene los siguientes archivos:\n",
    "- `main.py`: Lógica principal de la aplicación.\n",
    "- `templates/index.html`: Página de bienvenida.\n",
    "- `app.yaml`: Configuración para **App Engine**.\n",
    "\n",
    "💡 **Contexto empresarial**: Estos archivos son como los módulos de un sistema contable: la lógica (main.py), la interfaz (index.html) y la configuración (app.yaml) trabajan juntos para garantizar un acceso seguro."
   ]
  },
  {
   "cell_type": "markdown",
   "id": "55ad7bbb",
   "metadata": {},
   "source": [
    "### Paso 2: Desplegar en App Engine\n",
    "\n",
    "#### 1. Actualizar la versión de Python"
   ]
  },
  {
   "cell_type": "code",
   "execution_count": null,
   "id": "09dc7758",
   "metadata": {},
   "outputs": [],
   "source": [
    "sed -i 's/python37/python39/g' app.yaml"
   ]
  },
  {
   "cell_type": "markdown",
   "id": "34cec29d",
   "metadata": {},
   "source": [
    "**Explicación del comando**:  \n",
    "- `sed -i`: Modifica el archivo `app.yaml` en el lugar.  \n",
    "- `s/python37/python39/g`: Reemplaza `python37` por `python39` para actualizar la versión de Python.  \n",
    "💡 **Contexto empresarial**: Como actualizar un sistema contable a una versión más reciente para garantizar compatibilidad."
   ]
  },
  {
   "cell_type": "markdown",
   "id": "543a9937",
   "metadata": {},
   "source": [
    "#### 2. Desplegar la aplicación"
   ]
  },
  {
   "cell_type": "code",
   "execution_count": null,
   "id": "228fdd6f",
   "metadata": {},
   "outputs": [],
   "source": [
    "gcloud app deploy"
   ]
  },
  {
   "cell_type": "markdown",
   "id": "3c21a113",
   "metadata": {},
   "source": [
    "**Explicación del comando**:  \n",
    "- `gcloud app deploy`: Despliega la aplicación en **App Engine**. Selecciona una región (ej. `us-central`) y confirma con `Y`.  \n",
    "💡 **Contexto empresarial**: Como publicar un nuevo módulo contable para que esté disponible en la nube."
   ]
  },
  {
   "cell_type": "markdown",
   "id": "56a5f503",
   "metadata": {},
   "source": [
    "#### 3. Verificar el despliegue"
   ]
  },
  {
   "cell_type": "code",
   "execution_count": null,
   "id": "fbb8216a",
   "metadata": {},
   "outputs": [],
   "source": [
    "gcloud app browse"
   ]
  },
  {
   "cell_type": "markdown",
   "id": "ce49e74a",
   "metadata": {},
   "source": [
    "**Explicación del comando**:  \n",
    "- `gcloud app browse`: Abre la aplicación desplegada en el navegador. Si no se abre, copia y pega la URL manualmente.  \n",
    "💡 **Contexto empresarial**: Como abrir un reporte financiero en un sistema ERP para verificar que esté disponible."
   ]
  },
  {
   "cell_type": "markdown",
   "id": "30e4e4d2",
   "metadata": {},
   "source": [
    "### Paso 3: Restringir Acceso con IAP\n",
    "\n",
    "#### Configurar IAP en Google Cloud Console\n",
    "1. Ve a **Menú de Navegación > Seguridad > Identity-Aware Proxy**.\n",
    "2. Haz clic en **ENABLE API**.\n",
    "3. Haz clic en **GO TO IDENTITY-AWARE PROXY**.\n",
    "4. Configura la pantalla de consentimiento:\n",
    "   - Haz clic en **CONFIGURE CONSENT SCREEN** > **GET STARTED**.\n",
    "   - **App name**: Ingresa `IAP Example`.\n",
    "   - **User support email**: Selecciona tu correo de estudiante y haz clic en **Next**.\n",
    "   - **Audience**: Selecciona **Internal** y haz clic en **Next**.\n",
    "   - **Contact information**: Pega tu nombre de usuario.\n",
    "   - Acepta la política de datos y haz clic en **Continue** > **Create**.\n",
    "5. Deshabilita la API de **App Engine Flex**:\n",
    "   - En **Cloud Shell**, ejecuta:"
   ]
  },
  {
   "cell_type": "code",
   "execution_count": null,
   "id": "13256dbd",
   "metadata": {},
   "outputs": [],
   "source": [
    "gcloud services disable appengineflex.googleapis.com"
   ]
  },
  {
   "cell_type": "markdown",
   "id": "6d85fa55",
   "metadata": {},
   "source": [
    "**Explicación del comando**:  \n",
    "- `gcloud services disable`: Deshabilita la API de **App Engine Flex** para asegurar compatibilidad con **IAP**.  \n",
    "💡 **Contexto empresarial**: Como desactivar una función innecesaria en un sistema contable para evitar conflictos."
   ]
  },
  {
   "cell_type": "markdown",
   "id": "93eb4ceb",
   "metadata": {},
   "source": [
    "6. En la página de **Identity-Aware Proxy**, actualiza y activa **IAP** para la aplicación de **App Engine**:\n",
    "   - Haz clic en el interruptor en la columna **IAP**.\n",
    "   - Confirma con **Turn On**.\n",
    "\n",
    "#### Verificar que IAP está activado\n",
    "1. Abre la URL de la aplicación en un navegador.\n",
    "   - **Resultado esperado**: Verás una pantalla de \"Iniciar sesión con Google\".\n",
    "   - Si inicias sesión con tu cuenta de Google Cloud, aparecerá un mensaje de \"Acceso denegado\" (porque aún no has otorgado permisos).\n",
    "\n",
    "2. Dar acceso a usuarios autorizados:\n",
    "   - Ve a **Google Cloud Console > Seguridad > Identity-Aware Proxy**.\n",
    "   - Selecciona la aplicación de **App Engine**.\n",
    "   - Haz clic en **Agregar principal**.\n",
    "   - Ingresa tu correo electrónico.\n",
    "   - Asigna el rol **Cloud IAP > Usuario de aplicación web protegida por IAP**.\n",
    "   - Haz clic en **Guardar**.\n",
    "\n",
    "3. Prueba el acceso nuevamente:\n",
    "   - Recarga la página de la aplicación.\n",
    "   - Si no funciona, añade `/_gcp_iap/clear_login_cookie` a la URL (ej. `https://tu-app.appspot.com/_gcp_iap/clear_login_cookie`) y vuelve a iniciar sesión.\n",
    "   - **Resultado esperado**: Ahora deberías ver la página de bienvenida.\n",
    "\n",
    "4. Verifica que usuarios no autorizados no puedan entrar:\n",
    "   - Usa un navegador en modo incógnito o una cuenta no autorizada.\n",
    "   - **Resultado esperado**: Mensaje de \"No tienes acceso\".\n",
    "\n",
    "💡 **Contexto empresarial**: **IAP** asegura que solo usuarios autorizados (como contadores) accedan a sistemas financieros, similar a restringir el acceso a un módulo de nóminas en un ERP."
   ]
  },
  {
   "cell_type": "markdown",
   "id": "37618055",
   "metadata": {},
   "source": [
    "## 🚀 Tarea 2: Acceso a Información de Identidad del Usuario con IAP\n",
    "\n",
    "### Objetivo\n",
    "Obtener y mostrar el correo electrónico y el ID único del usuario autenticado mediante **IAP**.\n",
    "\n",
    "### Pasos\n",
    "#### 1. Cambiar al directorio del proyecto"
   ]
  },
  {
   "cell_type": "code",
   "execution_count": null,
   "id": "bb5dbb63",
   "metadata": {},
   "outputs": [],
   "source": [
    "cd ~/user-authentication-with-iap/2-HelloUser"
   ]
  },
  {
   "cell_type": "markdown",
   "id": "8032c9c3",
   "metadata": {},
   "source": [
    "**Explicación del comando**:  \n",
    "- `cd`: Cambia al directorio que contiene el código para esta tarea.  \n",
    "💡 **Contexto empresarial**: Como abrir una carpeta específica de un proyecto contable para trabajar en un módulo."
   ]
  },
  {
   "cell_type": "markdown",
   "id": "144537c1",
   "metadata": {},
   "source": [
    "#### 2. Actualizar la versión de Python"
   ]
  },
  {
   "cell_type": "code",
   "execution_count": null,
   "id": "72ad5c8e",
   "metadata": {},
   "outputs": [],
   "source": [
    "sed -i 's/python37/python39/g' app.yaml"
   ]
  },
  {
   "cell_type": "markdown",
   "id": "11c43a9d",
   "metadata": {},
   "source": [
    "**Explicación del comando**:  \n",
    "- Actualiza `app.yaml` para usar Python 3.9.  \n",
    "💡 **Contexto empresarial**: Como actualizar un sistema contable para garantizar compatibilidad con nuevas normativas."
   ]
  },
  {
   "cell_type": "markdown",
   "id": "ce510aaf",
   "metadata": {},
   "source": [
    "#### 3. Desplegar la aplicación"
   ]
  },
  {
   "cell_type": "code",
   "execution_count": null,
   "id": "4b3bd365",
   "metadata": {},
   "outputs": [],
   "source": [
    "gcloud app deploy"
   ]
  },
  {
   "cell_type": "markdown",
   "id": "232cb462",
   "metadata": {},
   "source": [
    "**Explicación del comando**:  \n",
    "- Despliega la aplicación actualizada en **App Engine**. Confirma con `Y` y selecciona una región.  \n",
    "💡 **Contexto empresarial**: Como publicar un nuevo reporte financiero en un sistema ERP."
   ]
  },
  {
   "cell_type": "markdown",
   "id": "49b8af23",
   "metadata": {},
   "source": [
    "#### 4. Obtener datos del usuario\n",
    "El archivo `main.py` recupera los datos del usuario desde las cabeceras HTTP proporcionadas por **IAP**:"
   ]
  },
  {
   "cell_type": "code",
   "execution_count": null,
   "id": "04d21946",
   "metadata": {},
   "outputs": [],
   "source": [
    "user_email = request.headers.get('X-Goog-Authenticated-User-Email')\n",
    "user_id = request.headers.get('X-Goog-Authenticated-User-ID')\n",
    "page = render_template('index.html', email=user_email, id=user_id)"
   ]
  },
  {
   "cell_type": "markdown",
   "id": "ea215452",
   "metadata": {},
   "source": [
    "**Explicación del código**:  \n",
    "- `X-Goog-Authenticated-User-Email`: Cabecera con el correo del usuario autenticado (ej. `accounts.google.com:correo@empresa.com`).  \n",
    "- `X-Goog-Authenticated-User-ID`: Cabecera con el ID único del usuario.  \n",
    "- `render_template`: Renderiza la página `index.html` con los datos del usuario.  \n",
    "💡 **Contexto empresarial**: Como mostrar el nombre del contador que inició sesión en un sistema ERP."
   ]
  },
  {
   "cell_type": "markdown",
   "id": "a0e22b65",
   "metadata": {},
   "source": [
    "#### 5. Visualización en index.html\n",
    "El archivo `templates/index.html` muestra los datos:"
   ]
  },
  {
   "cell_type": "code",
   "execution_count": null,
   "id": "f304d257",
   "metadata": {},
   "outputs": [],
   "source": [
    "Hello, {{ email }}! Your persistent ID is {{ id }}"
   ]
  },
  {
   "cell_type": "markdown",
   "id": "e0e674dd",
   "metadata": {},
   "source": [
    "**Explicación del código**:  \n",
    "- Usa la sintaxis de **Flask** para mostrar el correo y el ID en la página web.  \n",
    "💡 **Contexto empresarial**: Como personalizar un reporte financiero con el nombre del usuario que lo generó."
   ]
  },
  {
   "cell_type": "markdown",
   "id": "258a7064",
   "metadata": {},
   "source": [
    "#### 6. Probar la aplicación"
   ]
  },
  {
   "cell_type": "code",
   "execution_count": null,
   "id": "d867b232",
   "metadata": {},
   "outputs": [],
   "source": [
    "gcloud app browse"
   ]
  },
  {
   "cell_type": "markdown",
   "id": "b2e8a334",
   "metadata": {},
   "source": [
    "**Explicación del comando**:  \n",
    "- Abre la aplicación en el navegador para verificar que muestra el correo y el ID del usuario.  \n",
    "💡 **Contexto empresarial**: Como verificar que un reporte financiero muestra los datos correctos."
   ]
  },
  {
   "cell_type": "markdown",
   "id": "a871ad53",
   "metadata": {},
   "source": [
    "## 🚀 Tarea 3: Uso de Verificación Criptográfica\n",
    "\n",
    "### ¿Por qué es importante la verificación criptográfica?\n",
    "La verificación criptográfica asegura que los datos de identidad provienen de **IAP** y no han sido manipulados, similar a validar la autenticidad de una factura con una firma digital.\n",
    "\n",
    "💡 **Contexto empresarial**: Como auditar un documento financiero para confirmar que no ha sido alterado.\n",
    "\n",
    "#### Pasos\n",
    "1. Cambiar al directorio del proyecto"
   ]
  },
  {
   "cell_type": "code",
   "execution_count": null,
   "id": "774df1df",
   "metadata": {},
   "outputs": [],
   "source": [
    "cd ~/user-authentication-with-iap/3-HelloVerifiedUser"
   ]
  },
  {
   "cell_type": "markdown",
   "id": "6adf449f",
   "metadata": {},
   "source": [
    "**Explicación del comando**:  \n",
    "- Cambia al directorio con el código para verificación criptográfica.  \n",
    "💡 **Contexto empresarial**: Como abrir una carpeta con documentos auditados."
   ]
  },
  {
   "cell_type": "markdown",
   "id": "7c116e0c",
   "metadata": {},
   "source": [
    "2. Actualizar la versión de Python"
   ]
  },
  {
   "cell_type": "code",
   "execution_count": null,
   "id": "8c691bc0",
   "metadata": {},
   "outputs": [],
   "source": [
    "sed -i 's/python37/python39/g' app.yaml"
   ]
  },
  {
   "cell_type": "markdown",
   "id": "9d6fcffe",
   "metadata": {},
   "source": [
    "**Explicación del comando**:  \n",
    "- Actualiza `app.yaml` para usar Python 3.9.  \n",
    "💡 **Contexto empresarial**: Como actualizar un sistema contable para cumplir con nuevas normativas."
   ]
  },
  {
   "cell_type": "markdown",
   "id": "916ef58c",
   "metadata": {},
   "source": [
    "3. Desplegar la aplicación"
   ]
  },
  {
   "cell_type": "code",
   "execution_count": null,
   "id": "936b6b4d",
   "metadata": {},
   "outputs": [],
   "source": [
    "gcloud app deploy"
   ]
  },
  {
   "cell_type": "markdown",
   "id": "b31b4229",
   "metadata": {},
   "source": [
    "**Explicación del comando**:  \n",
    "- Despliega la aplicación con verificación criptográfica. Confirma con `Y`.  \n",
    "💡 **Contexto empresarial**: Como publicar un reporte financiero auditado."
   ]
  },
  {
   "cell_type": "markdown",
   "id": "2e553620",
   "metadata": {},
   "source": [
    "#### 4. Revisión de archivos\n",
    "Los archivos actualizados incluyen:\n",
    "- `auth.py`: Contiene la función `user()` para verificar criptográficamente la identidad.\n",
    "- `main.py`: Usa `user()` para obtener datos verificados.\n",
    "- `templates/index.html`: Muestra datos verificados.\n",
    "\n",
    "#### 5. Lógica de la función `user()`"
   ]
  },
  {
   "cell_type": "code",
   "execution_count": null,
   "id": "98502f79",
   "metadata": {},
   "outputs": [],
   "source": [
    "def user():\n",
    "    assertion = request.headers.get('X-Goog-IAP-JWT-Assertion')\n",
    "    if assertion is None:\n",
    "        return None, None\n",
    "    info = jwt.decode(\n",
    "        assertion,\n",
    "        keys(),\n",
    "        algorithms=['ES256'],\n",
    "        audience=audience()\n",
    "    )\n",
    "    return info['email'], info['sub']"
   ]
  },
  {
   "cell_type": "markdown",
   "id": "69b19e17",
   "metadata": {},
   "source": [
    "**Explicación del código**:  \n",
    "- `X-Goog-IAP-JWT-Assertion`: Cabecera con un token JWT firmado por **IAP**.  \n",
    "- `jwt.decode`: Valida el token usando claves públicas de Google y el algoritmo ES256.  \n",
    "- `info['email']`, `info['sub']`: Devuelve el correo y el ID verificados.  \n",
    "💡 **Contexto empresarial**: Como verificar la firma digital de un documento financiero para confirmar su autenticidad."
   ]
  },
  {
   "cell_type": "markdown",
   "id": "8451abd2",
   "metadata": {},
   "source": [
    "#### 6. Probar la verificación criptográfica"
   ]
  },
  {
   "cell_type": "code",
   "execution_count": null,
   "id": "735bceee",
   "metadata": {},
   "outputs": [],
   "source": [
    "gcloud app browse"
   ]
  },
  {
   "cell_type": "markdown",
   "id": "506abe5c",
   "metadata": {},
   "source": [
    "**Explicación del comando**:  \n",
    "- Abre la aplicación para verificar que muestra el correo y el ID verificados.  \n",
    "💡 **Contexto empresarial**: Como revisar un reporte auditado para confirmar su validez."
   ]
  },
  {
   "cell_type": "markdown",
   "id": "129d8507",
   "metadata": {},
   "source": [
    "#### 7. Comportamiento sin IAP\n",
    "- Desactiva **IAP** en **Google Cloud Console > Seguridad > Identity-Aware Proxy**.\n",
    "- Resultado: La página muestra `ID is None`, ya que no hay datos verificados.\n",
    "\n",
    "#### 8. Reactivar IAP\n",
    "- Activa **IAP** nuevamente y recarga la página.\n",
    "- Resultado: La página muestra el correo y el ID del usuario sin el prefijo `accounts.google.com`, ya que los datos están verificados criptográficamente.\n",
    "\n",
    "💡 **Contexto empresarial**: La verificación criptográfica asegura que solo usuarios legítimos accedan a sistemas financieros, evitando fraudes."
   ]
  },
  {
   "cell_type": "markdown",
   "id": "328c935c",
   "metadata": {},
   "source": [
    "## 🔐 Documento Técnico: Funcionamiento de Identity-Aware Proxy (IAP)\n",
    "\n",
    "### 1. Introducción\n",
    "**IAP** protege aplicaciones verificando identidades y restringiendo accesos, similar a un sistema de autenticación para un ERP contable.\n",
    "\n",
    "### 2. Estructura de la Aplicación\n",
    "- **main.py**: Lógica del servidor.\n",
    "- **templates/index.html**: Interfaz de usuario.\n",
    "- **auth.py** (en Tarea 3): Verificación criptográfica.\n",
    "\n",
    "### 3. Riesgos sin IAP\n",
    "#### Simulación de un ataque"
   ]
  },
  {
   "cell_type": "code",
   "execution_count": null,
   "id": "839f8459",
   "metadata": {},
   "outputs": [],
   "source": [
    "curl -X GET <URL-de-tu-app> -H \"X-Goog-Authenticated-User-Email: totally fake email\""
   ]
  },
  {
   "cell_type": "markdown",
   "id": "34b20fee",
   "metadata": {},
   "source": [
    "**Explicación del comando**:  \n",
    "- `curl`: Envía una solicitud HTTP con un correo falso.  \n",
    "- Resultado sin **IAP**: La aplicación muestra el correo falso, lo que representa un riesgo de suplantación.  \n",
    "💡 **Contexto empresarial**: Como permitir que un usuario no autorizado falsifique su identidad en un sistema contable."
   ]
  },
  {
   "cell_type": "markdown",
   "id": "fec3c773",
   "metadata": {},
   "source": [
    "### 4. Cuadro resumen\n",
    "| Concepto | Explicación Técnica | Analogía Contable |\n",
    "|----------|--------------------|------------------|\n",
    "| **Cabeceras IAP** | `X-Goog-Authenticated-User-Email` y `...-User-ID` verifican al usuario. | Login auditado en un ERP. |\n",
    "| **Sin IAP** | Cualquier usuario accede sin restricciones. | Hoja de cálculo financiera sin contraseña. |\n",
    "| **Falsificación de identidad** | Con `curl`, se puede enviar un correo falso. | Suplantar un usuario en un software contable. |\n",
    "| **Solución recomendada** | Usar verificación criptográfica. | Autenticación de dos factores en sistemas financieros. |\n",
    "\n",
    "### 5. Cuadro resumen de verificación criptográfica\n",
    "| Elemento | Descripción |\n",
    "|----------|-------------|\n",
    "| **Objetivo** | Validar que los datos provienen de IAP. |\n",
    "| **Encabezado usado** | `X-Goog-IAP-JWT-Assertion`. |\n",
    "| **Archivo nuevo** | `auth.py` con función `user()`. |\n",
    "| **Función user()** | Extrae y verifica la firma, devuelve email e ID. |\n",
    "| **Claves públicas** | Obtenidas dinámicamente de Google. |\n",
    "| **Datos validados** | Correo electrónico (`email`) e ID único (`sub`). |\n",
    "| **Prueba sin IAP** | Página muestra `ID is None`. |\n",
    "| **Prueba con IAP** | Página muestra email e ID verificados. |\n",
    "| **Analogía contable** | Validar una factura con firma digital. |\n",
    "\n",
    "Para más información, consulta la [Documentación de Google Cloud IAP](https://cloud.google.com/security/products/iap?hl=es_419)."
   ]
  },
  {
   "cell_type": "markdown",
   "id": "a075dd2c",
   "metadata": {},
   "source": [
    "## 🚀 Conclusión\n",
    "\n",
    "Este laboratorio te ha guiado en la configuración de una aplicación en **App Engine** protegida con **IAP**, desde el despliegue hasta la verificación criptográfica de identidades. Estas habilidades son esenciales para proteger sistemas financieros, asegurando que solo usuarios autorizados accedan a datos sensibles y que las identidades sean válidas.\n",
    "\n",
    "💡 **Beneficio empresarial**: **IAP** proporciona una capa de seguridad robusta para aplicaciones contables, similar a implementar autenticación de dos factores y auditorías en un ERP, reduciendo riesgos de fraude y mejorando el cumplimiento normativo."
   ]
  }
 ],
 "metadata": {
  "kernelspec": {
   "display_name": "Python 3 (ipykernel)",
   "language": "python",
   "name": "python3"
  },
  "language_info": {
   "codemirror_mode": {
    "name": "ipython",
    "version": 3
   },
   "file_extension": ".py",
   "mimetype": "text/x-python",
   "name": "python",
   "nbconvert_exporter": "python",
   "pygments_lexer": "ipython3",
   "version": "3.9.21"
  }
 },
 "nbformat": 4,
 "nbformat_minor": 5
}
