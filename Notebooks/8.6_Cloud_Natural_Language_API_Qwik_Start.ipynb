{
 "cells": [
  {
   "cell_type": "markdown",
   "id": "3d63576b",
   "metadata": {},
   "source": [
    "# 🧠 Laboratorio: Inicio Rápido con la API de Lenguaje Natural de Google Cloud\n",
    "\n",
    "**Cloud Natural Language API** es un servicio de Google Cloud que utiliza técnicas de procesamiento de lenguaje natural (NLP) para analizar texto y extraer información útil, como entidades, sentimientos o datos específicos. Este laboratorio te guiará a través de la creación de una clave de API y el análisis de entidades en un texto.\n",
    "\n",
    "💡 **Beneficio empresarial**: La **Cloud Natural Language API** permite a las empresas analizar documentos financieros, contratos o correos electrónicos de manera automática, identificando información clave como nombres, fechas o sentimientos, lo que agiliza auditorías, mejora la toma de decisiones y reduce costos operativos.\n",
    "\n",
    "Para más información, consulta la [Documentación de Google Cloud Natural Language](https://cloud.google.com/natural-language/docs).\n",
    "\n",
    "## 📖 Introducción\n",
    "\n",
    "### 🗣 ¿Qué es el Lenguaje Natural?\n",
    "- El lenguaje natural es el que usamos los humanos para comunicarnos (por ejemplo, en conversaciones, textos, correos).\n",
    "- El **procesamiento de lenguaje natural (NLP)** es una rama de la informática que permite a las computadoras comprender, interpretar y generar lenguaje humano.\n",
    "\n",
    "### ☁️ ¿Qué es la API de Cloud Natural Language?\n",
    "- Es un servicio en la nube que aplica técnicas de NLP para analizar texto y extraer información útil.\n",
    "\n",
    "| **Función** | **Descripción** |\n",
    "|-------------|-----------------|\n",
    "| 🧠 **Reconocimiento de entidades** | Detecta personas, lugares, eventos u objetos mencionados en un texto. |\n",
    "| 🙂 **Análisis de sentimiento** | Determina si el texto tiene un tono positivo, negativo o neutral. |\n",
    "| 📋 **Extracción de información** | Identifica fechas, precios, horas y otros datos específicos. |\n",
    "| ❓ **Respuesta a preguntas** | Responde consultas basadas en el contenido textual. |\n",
    "| 🔗 **API REST** | Acceso mediante API REST, con posibilidad de subir texto directamente o desde **Cloud Storage**. |\n",
    "\n",
    "💡 **Contexto empresarial**: La **Cloud Natural Language API** es como un asistente contable que analiza automáticamente documentos financieros, identificando nombres de clientes, fechas de transacciones o el tono de comunicaciones con proveedores."
   ]
  },
  {
   "cell_type": "markdown",
   "id": "aef9af04",
   "metadata": {},
   "source": [
    "## ✅ Objetivos\n",
    "- 🔸 Crear una clave de API y una cuenta de servicio.\n",
    "- 🔸 Usar la **Cloud Natural Language API** para detectar entidades (por ejemplo, personas o lugares) en un texto."
   ]
  },
  {
   "cell_type": "markdown",
   "id": "a72084ea",
   "metadata": {},
   "source": [
    "## 🛠️ Tarea 1: Crear una clave de API\n",
    "\n",
    "En esta tarea, configurarás las credenciales necesarias para usar la **Cloud Natural Language API** desde **Cloud Shell**.\n",
    "\n",
    "### Paso 1.1: Establecer una variable de entorno con el ID del proyecto\n",
    "\n",
    "1. Ejecuta:"
   ]
  },
  {
   "cell_type": "code",
   "execution_count": null,
   "id": "963876b8",
   "metadata": {},
   "outputs": [],
   "source": [
    "export GOOGLE_CLOUD_PROJECT=$(gcloud config get-value core/project)"
   ]
  },
  {
   "cell_type": "markdown",
   "id": "9a23d0c3",
   "metadata": {},
   "source": [
    "**Desglose del comando**:\n",
    "- `export`: Crea una variable de entorno temporal.\n",
    "- `GOOGLE_CLOUD_PROJECT`: Nombre de la variable.\n",
    "- `$(gcloud config get-value core/project)`: Obtiene el ID del proyecto activo.\n",
    "\n",
    "**Explicación**:\n",
    "- Almacena el ID del proyecto para usarlo en pasos posteriores.\n",
    "\n",
    "💡 **Contexto empresarial**: Esto es como registrar el identificador de la empresa en un sistema contable antes de procesar documentos."
   ]
  },
  {
   "cell_type": "markdown",
   "id": "edbb380e",
   "metadata": {},
   "source": [
    "### Paso 1.2: Crear una cuenta de servicio\n",
    "\n",
    "1. Ejecuta:"
   ]
  },
  {
   "cell_type": "code",
   "execution_count": null,
   "id": "b0732a60",
   "metadata": {},
   "outputs": [],
   "source": [
    "gcloud iam service-accounts create my-natlang-sa \\\n",
    "  --display-name \"my natural language service account\""
   ]
  },
  {
   "cell_type": "markdown",
   "id": "97a0e00d",
   "metadata": {},
   "source": [
    "**Desglose del comando**:\n",
    "- `gcloud iam service-accounts create`: Crea una nueva cuenta de servicio.\n",
    "- `my-natlang-sa`: Nombre interno de la cuenta.\n",
    "- `--display-name`: Nombre descriptivo visible en la consola.\n",
    "\n",
    "**Explicación**:\n",
    "- Una cuenta de servicio actúa como un \"usuario técnico\" con permisos para interactuar con la API.\n",
    "\n",
    "💡 **Contexto empresarial**: Crear una cuenta de servicio es como asignar un rol específico a un empleado para que acceda a un sistema contable."
   ]
  },
  {
   "cell_type": "markdown",
   "id": "df55d1ed",
   "metadata": {},
   "source": [
    "### Paso 1.3: Crear una clave de acceso (archivo .json)\n",
    "\n",
    "1. Ejecuta:"
   ]
  },
  {
   "cell_type": "code",
   "execution_count": null,
   "id": "43af5b27",
   "metadata": {},
   "outputs": [],
   "source": [
    "gcloud iam service-accounts keys create ~/key.json \\\n",
    "  --iam-account my-natlang-sa@${GOOGLE_CLOUD_PROJECT}.iam.gserviceaccount.com"
   ]
  },
  {
   "cell_type": "markdown",
   "id": "5ff5c829",
   "metadata": {},
   "source": [
    "**Desglose del comando**:\n",
    "- `keys create ~/key.json`: Crea una clave y la guarda en el archivo `key.json` en la carpeta personal (`~`).\n",
    "- `--iam-account`: Vincula la clave con la cuenta de servicio creada.\n",
    "\n",
    "**Explicación**:\n",
    "- La clave permite autenticar solicitudes a la API.\n",
    "\n",
    "💡 **Contexto empresarial**: Esto es como generar una contraseña segura para que el sistema contable acceda a documentos financieros."
   ]
  },
  {
   "cell_type": "markdown",
   "id": "d35ea612",
   "metadata": {},
   "source": [
    "### Paso 1.4: Establecer la variable de entorno para usar la clave\n",
    "\n",
    "1. Ejecuta:"
   ]
  },
  {
   "cell_type": "code",
   "execution_count": null,
   "id": "f57e70f2",
   "metadata": {},
   "outputs": [],
   "source": [
    "export GOOGLE_APPLICATION_CREDENTIALS=\"/home/USER/key.json\""
   ]
  },
  {
   "cell_type": "markdown",
   "id": "37f2f096",
   "metadata": {},
   "source": [
    "**Explicación**:\n",
    "- Indica al sistema la ubicación del archivo de credenciales (`key.json`) para autenticar solicitudes.\n",
    "- Reemplaza `USER` con tu nombre de usuario real en la máquina virtual.\n",
    "\n",
    "💡 **Contexto empresarial**: Esto es como configurar un software contable con las credenciales necesarias para acceder a datos financieros."
   ]
  },
  {
   "cell_type": "markdown",
   "id": "63220350",
   "metadata": {},
   "source": [
    "## 🧪 Tarea 2: Hacer una solicitud de análisis de entidades\n",
    "\n",
    "En esta tarea, usarás la **Cloud Natural Language API** para detectar entidades en un texto.\n",
    "\n",
    "### Paso 2.1: Conectarse por SSH a la instancia de máquina virtual\n",
    "\n",
    "1. Ve a **Navigation menu** ☰ > **Compute Engine** > **VM Instances**.\n",
    "2. Haz clic en **SSH** junto a la instancia para abrir una terminal interactiva.\n",
    "\n",
    "**Explicación**:\n",
    "- La conexión SSH te permite ejecutar comandos en una máquina virtual en la nube.\n",
    "\n",
    "💡 **Contexto empresarial**: Esto es como acceder a un servidor contable remoto para procesar documentos."
   ]
  },
  {
   "cell_type": "markdown",
   "id": "a4b1e911",
   "metadata": {},
   "source": [
    "### Paso 2.2: Ejecutar análisis de entidades\n",
    "\n",
    "1. En la terminal SSH, ejecuta:"
   ]
  },
  {
   "cell_type": "code",
   "execution_count": null,
   "id": "eff0c3ea",
   "metadata": {},
   "outputs": [],
   "source": [
    "gcloud ml language analyze-entities \\\n",
    "  --content=\"Michelangelo Caravaggio, Italian painter, is known for 'The Calling of Saint Matthew'.\" > result.json"
   ]
  },
  {
   "cell_type": "markdown",
   "id": "a0c45366",
   "metadata": {},
   "source": [
    "**Desglose del comando**:\n",
    "- `gcloud ml language analyze-entities`: Llama a la API para detectar entidades.\n",
    "- `--content=\"Especifica el texto a analizar.\n",
    "- `> result.json`: Guarda el resultado en un archivo JSON.\n",
    "\n",
    "**Explicación**:\n",
    "- Analiza el texto para identificar entidades como personas, lugares o eventos.\n",
    "\n",
    "💡 **Contexto empresarial**: Esto es como escanear un contrato para identificar automáticamente nombres de clientes o fechas clave."
   ]
  },
  {
   "cell_type": "markdown",
   "id": "6ac4c272",
   "metadata": {},
   "source": [
    "### Paso 2.3: Ver el resultado\n",
    "\n",
    "1. Ejecuta:"
   ]
  },
  {
   "cell_type": "code",
   "execution_count": null,
   "id": "067287ea",
   "metadata": {},
   "outputs": [],
   "source": [
    "cat result.json"
   ]
  },
  {
   "cell_type": "markdown",
   "id": "063e9aad",
   "metadata": {},
   "source": [
    "**Explicación**:\n",
    "- Muestra el contenido del archivo `result.json`, que contiene las entidades detectadas.\n",
    "\n",
    "**Formato del resultado**:\n",
    "| **Campo** | **Qué muestra** |\n",
    "|-----------|-----------------|\n",
    "| `name` | Nombre de la entidad detectada (ej. Michelangelo Caravaggio). |\n",
    "| `type` | Tipo de entidad (ej. PERSON, LOCATION, EVENT). |\n",
    "| `salience` | Relevancia de la entidad en el texto (valor entre 0 y 1). |\n",
    "| `metadata` | Información adicional, como un enlace a Wikipedia. |\n",
    "| `mentions` | Otras formas en que se menciona la entidad (ej. \"painter\", \"Italian\"). |\n",
    "\n",
    "**Ejemplo de salida**:\n",
    "```json\n",
    "{\n",
    "  \"name\": \"Michelangelo Caravaggio\",\n",
    "  \"type\": \"PERSON\",\n",
    "  \"metadata\": {\n",
    "    \"wikipedia_url\": \"http://en.wikipedia.org/wiki/Caravaggio\"\n",
    "  },\n",
    "  \"salience\": 0.83,\n",
    "  \"mentions\": [...]\n",
    "}\n",
    "```\n",
    "\n",
    "💡 **Contexto empresarial**: Ver el resultado es como revisar un informe que identifica automáticamente los elementos clave de un documento financiero."
   ]
  },
  {
   "cell_type": "markdown",
   "id": "3d3b39c0",
   "metadata": {},
   "source": [
    "## 🚀 Resumen\n",
    "\n",
    "| **Concepto** | **Explicación contable simplificada** |\n",
    "|--------------|--------------------------------------|\n",
    "| **Cloud Natural Language API** | Herramienta que analiza documentos financieros o contratos, identificando nombres, fechas o sentimientos automáticamente. |\n",
    "| **Cuenta de servicio** | Credencial técnica que permite acceder a datos financieros de forma segura. |\n",
    "| **Análisis de entidades** | Proceso que extrae información clave, como nombres de clientes o fechas, de textos financieros. |\n",
    "| **API REST** | Interfaz que permite integrar el análisis de textos en sistemas contables existentes. |\n",
    "\n",
    "💡 **Conclusión empresarial**: La **Cloud Natural Language API** automatiza el análisis de documentos financieros, contratos o comunicaciones, identificando información clave con precisión. Esto reduce el tiempo de auditorías, mejora la toma de decisiones y optimiza costos operativos al minimizar el trabajo manual.\n",
    "\n",
    "Para más información, consulta la [Documentación de Google Cloud Natural Language](https://cloud.google.com/natural-language/docs)."
   ]
  }
 ],
 "metadata": {
  "kernelspec": {
   "display_name": "Python 3 (ipykernel)",
   "language": "python",
   "name": "python3"
  },
  "language_info": {
   "codemirror_mode": {
    "name": "ipython",
    "version": 3
   },
   "file_extension": ".py",
   "mimetype": "text/x-python",
   "name": "python",
   "nbconvert_exporter": "python",
   "pygments_lexer": "ipython3",
   "version": "3.9.21"
  }
 },
 "nbformat": 4,
 "nbformat_minor": 5
}
