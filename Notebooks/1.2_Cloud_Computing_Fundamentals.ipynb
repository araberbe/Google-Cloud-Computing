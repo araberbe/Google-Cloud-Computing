{
  "cells": [
    {
      "cell_type": "markdown",
      "metadata": {},
      "source": [
        "# 📌 Módulo 2: Fundamentos de Computación en la Nube de Google\n",
        "\n",
        "¡Bienvenido al Módulo 2 del curso **Fundamentos de Computación en la Nube de Google**! En esta sección, exploraremos cómo interactuar con **Google Cloud**, una plataforma que permite a las empresas gestionar recursos, automatizar procesos y escalar operaciones de manera eficiente. Este módulo es ideal para profesionales en ciencias empresariales y contabilidad que buscan aprovechar la nube para optimizar costos, mejorar la escalabilidad y automatizar tareas repetitivas, como la gestión de facturación o el análisis de datos financieros.\n",
        "\n",
        "💡 **Beneficio empresarial**: Google Cloud permite a las empresas reducir costos operativos al eliminar la necesidad de infraestructura física, automatizar procesos contables y garantizar la seguridad de los datos, todo mientras se escala según la demanda del negocio.\n",
        "\n",
        "## 🚀 Objetivos del módulo\n",
        "\n",
        "Al completar este módulo, podrás:\n",
        "- Explorar la **Consola de Google Cloud** para gestionar recursos.\n",
        "- Comprender cómo los **proyectos** organizan y habilitan servicios en Google Cloud.\n",
        "- Gestionar la **facturación** para controlar costos empresariales.\n",
        "- Instalar y configurar el **SDK de Google Cloud** para trabajar desde la línea de comandos.\n",
        "- Utilizar **Cloud Shell** y su editor de código para tareas rápidas.\n",
        "- Explorar cómo funcionan las **APIs** de Google Cloud.\n",
        "- Gestionar servicios desde la **aplicación móvil de Google Cloud**.\n",
        "\n",
        "📚 **Agenda del módulo**:\n",
        "- Consola de Google Cloud.\n",
        "- Proyectos y jerarquía de recursos.\n",
        "- Facturación en Google Cloud.\n",
        "- Instalación y configuración del SDK de Google Cloud.\n",
        "- Cloud Shell y su editor de código.\n",
        "- Laboratorios prácticos.\n",
        "- APIs de Google Cloud.\n",
        "- Aplicación móvil de Google Cloud.\n",
        "\n",
        "Para más información, consulta la [Documentación oficial de Google Cloud](https://cloud.google.com/docs)."
      ]
    },
    {
      "cell_type": "markdown",
      "metadata": {},
      "source": [
        "## 🚀 Formas de interactuar con Google Cloud\n",
        "\n",
        "Existen **cuatro formas principales** de interactuar con Google Cloud, cada una diseñada para adaptarse a diferentes necesidades empresariales:\n",
        "\n",
        "1. **Consola de Google Cloud**: Interfaz gráfica (GUI) para gestionar recursos.\n",
        "2. **SDK de Google Cloud y Cloud Shell**: Herramientas de línea de comandos para automatización.\n",
        "3. **APIs**: Interfaces para integrar servicios en aplicaciones personalizadas.\n",
        "4. **Aplicación móvil de Google Cloud**: Gestión desde dispositivos móviles.\n",
        "\n",
        "💡 **Contexto empresarial**: Estas opciones permiten a los equipos de contabilidad y gestión acceder a datos financieros en tiempo real, automatizar procesos como la facturación y supervisar costos desde cualquier lugar, mejorando la eficiencia operativa.\n",
        "\n",
        "A continuación, exploraremos cada una, comenzando por la **Consola de Google Cloud**."
      ]
    },
    {
      "cell_type": "markdown",
      "metadata": {},
      "source": [
        "## 📌 La Consola de Google Cloud\n",
        "\n",
        "La **Consola de Google Cloud** es una interfaz gráfica (GUI) basada en web que permite **desplegar, escalar y diagnosticar problemas** de manera sencilla. Es ideal para usuarios no técnicos, como gerentes o contadores, que necesitan supervisar recursos sin conocimientos profundos de programación.\n",
        "\n",
        "### ¿Qué puedes hacer con la consola?\n",
        "- **Encontrar recursos** rápidamente mediante la función de búsqueda.\n",
        "- **Verificar el estado** de tus recursos, como máquinas virtuales o bases de datos.\n",
        "- **Gestionar recursos** con control total, como iniciar o detener instancias.\n",
        "- **Establecer presupuestos** para controlar el gasto.\n",
        "- **Conectar a instancias** mediante **SSH** directamente desde el navegador.\n",
        "\n",
        "💡 **Contexto empresarial**: La consola permite a los equipos financieros monitorear el gasto en tiempo real, establecer alertas de presupuesto y gestionar recursos como bases de datos contables sin necesidad de infraestructura local, reduciendo costos operativos.\n",
        "\n",
        "Para más información, consulta la [Documentación de la Consola de Google Cloud](https://cloud.google.com/console)."
      ]
    },
    {
      "cell_type": "markdown",
      "metadata": {},
      "source": [
        "## 🚀 Organización de recursos en Google Cloud\n",
        "\n",
        "En Google Cloud, los **recursos** (como máquinas virtuales, buckets de Cloud Storage o tablas en BigQuery) se organizan en una **jerarquía de cuatro niveles**:\n",
        "\n",
        "1. **Recursos**: Elementos individuales, como una máquina virtual o una base de datos.\n",
        "2. **Proyectos**: Agrupan recursos relacionados. Cada recurso pertenece a un solo proyecto.\n",
        "3. **Carpetas**: Agrupan proyectos y subcarpetas para organizar recursos por departamento o equipo.\n",
        "4. **Nodo de organización**: Nivel superior que engloba todos los proyectos, carpetas y recursos de una empresa.\n",
        "\n",
        "💡 **Contexto empresarial**: Esta jerarquía permite a las empresas organizar recursos por departamento (por ejemplo, contabilidad, ventas) y asignar permisos específicos, mejorando la seguridad y la gestión de costos.\n",
        "\n",
        "### Nivel de Proyectos\n",
        "\n",
        "Los **proyectos** son la base para gestionar servicios en Google Cloud. Cada proyecto:\n",
        "- Es un compartimiento aislado.\n",
        "- Se factura de manera independiente.\n",
        "- Puede tener diferentes propietarios y usuarios.\n",
        "\n",
        "**Atributos de un proyecto**:\n",
        "- **ID del proyecto**: Identificador único e inmutable asignado por Google.\n",
        "- **Nombre del proyecto**: Definido por el usuario, no necesita ser único y puede cambiarse.\n",
        "- **Número del proyecto**: Generado automáticamente por Google para uso interno.\n",
        "\n",
        "#### Gestión de proyectos con Resource Manager\n",
        "\n",
        "El **Resource Manager** permite:\n",
        "- Listar proyectos asociados a una cuenta.\n",
        "- Crear, actualizar, eliminar o recuperar proyectos.\n",
        "- Gestionar proyectos mediante **API RPC** o **API REST**.\n",
        "\n",
        "💡 **Contexto empresarial**: Los proyectos permiten separar los costos de diferentes departamentos (por ejemplo, contabilidad vs. marketing), facilitando la asignación de presupuestos y la auditoría financiera.\n",
        "\n",
        "### Nivel de Carpetas\n",
        "\n",
        "Las **carpetas** agrupan proyectos y subcarpetas, permitiendo delegar derechos administrativos a equipos específicos. Requieren un **nodo de organización** para funcionar.\n",
        "\n",
        "💡 **Contexto empresarial**: Las carpetas son útiles para grandes empresas con múltiples departamentos, ya que permiten asignar permisos granulares, como dar acceso al equipo contable solo a los recursos financieros.\n",
        "\n",
        "Para más información, consulta la [Documentación de la jerarquía de recursos de Google Cloud](https://cloud.google.com/resource-manager/docs/cloud-platform-resource-hierarchy)."
      ]
    },
    {
      "cell_type": "markdown",
      "metadata": {},
      "source": [
        "## 📌 Facturación en Google Cloud\n",
        "\n",
        "La facturación en Google Cloud se configura a nivel de **proyecto**, vinculando cada proyecto a una **cuenta de facturación**. Esto permite a las empresas controlar y monitorear los costos de manera precisa.\n",
        "\n",
        "### Características de la facturación\n",
        "- **Cuenta de facturación**: Almacena la información de pago y puede vincularse a múltiples proyectos.\n",
        "- **Servicios gratuitos**: Los proyectos sin cuenta de facturación solo pueden usar servicios gratuitos.\n",
        "- **Cobro automático**: Se factura mensualmente o al alcanzar un límite de gasto.\n",
        "- **Subcuentas de facturación**: Permiten separar costos por proyecto, ideal para revendedores o empresas con múltiples clientes.\n",
        "\n",
        "💡 **Contexto empresarial**: Las subcuentas permiten a las empresas de contabilidad gestionar facturas de clientes de forma independiente, mejorando la transparencia y la trazabilidad financiera.\n",
        "\n",
        "### Herramientas para controlar costos\n",
        "\n",
        "Google Cloud ofrece varias herramientas para evitar gastos inesperados:\n",
        "\n",
        "1. **Presupuestos (Budgets)**:\n",
        "   - Define límites de gasto a nivel de proyecto o cuenta de facturación.\n",
        "   - Pueden basarse en un monto fijo o en métricas dinámicas, como el gasto del mes anterior.\n",
        "\n",
        "2. **Alertas**:\n",
        "   - Configura notificaciones al alcanzar umbrales (por ejemplo, 50%, 90%, 100% del presupuesto).\n",
        "   - Ejemplo: Para un presupuesto de $20,000, una alerta al 90% se activa en $18,000.\n",
        "\n",
        "3. **Informes (Reports)**:\n",
        "   - Visualiza el gasto por proyecto o servicio en la consola de Google Cloud.\n",
        "\n",
        "4. **Cuotas (Quotas)**:\n",
        "   - **Cuotas de tasa (Rate quotas)**: Limitan acciones por unidad de tiempo (por ejemplo, 1,000 llamadas a la API de GKE cada 100 segundos).\n",
        "   - **Cuotas de asignación (Allocation quotas)**: Limitan la cantidad de recursos (por ejemplo, máximo 5 redes VPC por proyecto).\n",
        "   - Puedes solicitar aumentos de cuotas al soporte de Google Cloud.\n",
        "\n",
        "💡 **Contexto empresarial**: Estas herramientas ayudan a los equipos financieros a evitar sobrecostos, cumplir con presupuestos y auditar el uso de recursos en tiempo real, asegurando una gestión financiera eficiente.\n",
        "\n",
        "### Estimador de costos\n",
        "\n",
        "Usa la **Calculadora de precios de Google Cloud** para estimar costos: [Google Cloud Pricing Calculator](https://cloud.google.com/products/calculator).\n",
        "\n",
        "Para más información, consulta la [Documentación de facturación de Google Cloud](https://cloud.google.com/billing/docs)."
      ]
    },
    {
      "cell_type": "markdown",
      "metadata": {},
      "source": [
        "## 🚀 SDK de Google Cloud\n",
        "\n",
        "El **SDK de Google Cloud** es un conjunto de herramientas de línea de comandos para gestionar recursos y aplicaciones en Google Cloud desde una computadora local. Es ideal para automatizar tareas repetitivas, como la creación de recursos o la ejecución de scripts.\n",
        "\n",
        "### Componentes del SDK\n",
        "- **gcloud CLI**: Interfaz principal para interactuar con servicios de Google Cloud.\n",
        "- **gcloud storage**: Administra Cloud Storage desde la línea de comandos.\n",
        "- **bq**: Herramienta para trabajar con BigQuery, útil para consultas de datos financieros.\n",
        "\n",
        "💡 **Contexto empresarial**: El SDK permite a los equipos de TI automatizar procesos, como la generación de informes financieros en BigQuery, reduciendo el tiempo y los errores en tareas manuales.\n",
        "\n",
        "### Instalación del SDK\n",
        "\n",
        "1. Visita [Google Cloud SDK](https://cloud.google.com/sdk).\n",
        "2. Selecciona tu sistema operativo y sigue las instrucciones de instalación.\n",
        "3. Las herramientas se instalan en el directorio **bin**.\n",
        "\n",
        "Ejemplo de comando para verificar la instalación:"
      ]
    },
    {
      "cell_type": "code",
      "metadata": {},
      "source": [
        "gcloud --version"
      ],
      "execution_count": null,
      "outputs": []
    },
    {
      "cell_type": "markdown",
      "metadata": {},
      "source": [
        "**Explicación del comando**:\n",
        "- `gcloud --version`: Muestra la versión instalada del SDK, confirmando que está correctamente configurado.\n",
        "\n",
        "### Configuración del SDK\n",
        "\n",
        "Después de instalar, configura el entorno ejecutando:"
      ]
    },
    {
      "cell_type": "code",
      "metadata": {},
      "source": [
        "gcloud init"
      ],
      "execution_count": null,
      "outputs": []
    },
    {
      "cell_type": "markdown",
      "metadata": {},
      "source": [
        "**Explicación del comando**:\n",
        "- `gcloud init`: Inicia el proceso de configuración, solicitando:\n",
        "  - Credenciales de inicio de sesión.\n",
        "  - Proyecto predeterminado.\n",
        "  - Región y zona predeterminadas.\n",
        "\n",
        "💡 **Contexto empresarial**: Configurar el SDK permite a los equipos de contabilidad automatizar tareas como la exportación de datos financieros desde BigQuery, optimizando procesos y reduciendo costos operativos.\n",
        "\n",
        "Para más información, consulta la [Documentación del SDK de Google Cloud](https://cloud.google.com/sdk/docs)."
      ]
    },
    {
      "cell_type": "markdown",
      "metadata": {},
      "source": [
        "## 📌 Cloud Shell\n",
        "\n",
        "**Cloud Shell** es una máquina virtual basada en Debian que proporciona acceso a Google Cloud desde el navegador, con 5 GB de almacenamiento persistente. Es ideal para tareas rápidas sin necesidad de configurar un entorno local.\n",
        "\n",
        "### Características de Cloud Shell\n",
        "- Incluye el **SDK de Google Cloud** (gcloud) y otras utilidades preinstaladas, actualizadas y autenticadas.\n",
        "- Permite gestionar proyectos y recursos directamente desde la línea de comandos.\n",
        "- Ofrece un **editor de código** para editar archivos en tiempo real.\n",
        "\n",
        "💡 **Contexto empresarial**: Cloud Shell es útil para equipos financieros que necesitan ejecutar scripts rápidos, como consultas SQL en BigQuery, sin preocuparse por instalar software localmente.\n",
        "\n",
        "### Cómo iniciar Cloud Shell\n",
        "\n",
        "1. Accede a [console.cloud.google.com](https://console.cloud.google.com).\n",
        "2. Haz clic en el ícono **Activate Cloud Shell** en la barra de herramientas.\n",
        "3. Se abrirá una terminal en la parte inferior del navegador.\n",
        "\n",
        "Ejemplo de comando para verificar la versión de gcloud en Cloud Shell:"
      ]
    },
    {
      "cell_type": "code",
      "metadata": {},
      "source": [
        "gcloud --version"
      ],
      "execution_count": null,
      "outputs": []
    },
    {
      "cell_type": "markdown",
      "metadata": {},
      "source": [
        "**Explicación del comando**:\n",
        "- `gcloud --version`: Confirma que el SDK está instalado y listo para usar en Cloud Shell.\n",
        "\n",
        "### Editor de código de Cloud Shell\n",
        "\n",
        "Desde la terminal, puedes abrir el **editor de código** para editar archivos en tiempo real:\n",
        "\n",
        "1. En la terminal de Cloud Shell, ejecuta:"
      ]
    },
    {
      "cell_type": "code",
      "metadata": {},
      "source": [
        "code ."
      ],
      "execution_count": null,
      "outputs": []
    },
    {
      "cell_type": "markdown",
      "metadata": {},
      "source": [
        "**Explicación del comando**:\n",
        "- `code .`: Abre el editor de código en una nueva pestaña, mostrando el directorio actual.\n",
        "\n",
        "💡 **Contexto empresarial**: El editor de código es ideal para desarrollar scripts que automaticen tareas, como procesar datos financieros o generar informes, sin necesidad de herramientas externas.\n",
        "\n",
        "Para más información, consulta la [Documentación de Cloud Shell](https://cloud.google.com/shell/docs)."
      ]
    },
    {
      "cell_type": "markdown",
      "metadata": {},
      "source": [
        "## 🚀 APIs de Google Cloud\n",
        "\n",
        "Las **APIs** (Interfaces de Programación de Aplicaciones) permiten integrar servicios de Google Cloud en aplicaciones personalizadas, ocultando detalles complejos de implementación.\n",
        "\n",
        "### ¿Qué es una API?\n",
        "\n",
        "Una API es una interfaz que permite a los desarrolladores interactuar con servicios de Google Cloud de manera programática. Por ejemplo, una API puede usarse para recuperar datos de BigQuery o gestionar instancias de Compute Engine.\n",
        "\n",
        "**Ventajas de las APIs**:\n",
        "- **Estabilidad**: Los cambios en la implementación subyacente no afectan a las aplicaciones que usan la API.\n",
        "- **Flexibilidad**: Permiten integrar servicios en sistemas empresariales existentes, como ERP o CRM.\n",
        "\n",
        "💡 **Contexto empresarial**: Las APIs permiten automatizar procesos contables, como la sincronización de datos financieros entre sistemas, mejorando la eficiencia y reduciendo errores manuales.\n",
        "\n",
        "### Explorador de APIs\n",
        "\n",
        "La consola de Google Cloud incluye el **Explorador de APIs**, que muestra:\n",
        "- APIs disponibles.\n",
        "- Versiones de cada API.\n",
        "\n",
        "### Bibliotecas cliente\n",
        "\n",
        "Google proporciona **bibliotecas cliente** en lenguajes como Java, Python, PHP, C#, Go, Node.js, Ruby y C++, facilitando la integración de APIs en aplicaciones.\n",
        "\n",
        "💡 **Contexto empresarial**: Los equipos de TI pueden usar estas bibliotecas para desarrollar aplicaciones que automaticen tareas, como la generación de reportes financieros en tiempo real.\n",
        "\n",
        "Para más información, consulta la [Documentación de APIs de Google Cloud](https://cloud.google.com/apis)."
      ]
    },
    {
      "cell_type": "markdown",
      "metadata": {},
      "source": [
        "## 📌 Aplicación móvil de Google Cloud\n",
        "\n",
        "La **aplicación móvil de Google Cloud** permite gestionar servicios desde dispositivos móviles sin costo adicional. Es ideal para gerentes o contadores que necesitan supervisar recursos en cualquier momento y lugar.\n",
        "\n",
        "### Funcionalidades principales\n",
        "\n",
        "#### Gestión de instancias\n",
        "- Iniciar, detener o conectarse a instancias de **Compute Engine** mediante **SSH**.\n",
        "- Gestionar instancias de **Cloud SQL** (por ejemplo, bases de datos contables).\n",
        "\n",
        "#### Administración de App Engine\n",
        "- Supervisar aplicaciones en **App Engine**.\n",
        "- Visualizar errores, revertir implementaciones o ajustar divisiones de tráfico.\n",
        "\n",
        "#### Supervisión y métricas\n",
        "- Consultar datos de **facturación** actualizados.\n",
        "- Recibir **alertas** si un proyecto excede su presupuesto.\n",
        "- Configurar gráficos para métricas como uso de CPU, red, solicitudes por segundo o errores del servidor.\n",
        "\n",
        "#### Gestión de incidentes\n",
        "- Administrar incidentes y alertas desde el dispositivo móvil.\n",
        "\n",
        "💡 **Contexto empresarial**: La aplicación móvil permite a los equipos financieros monitorear gastos y gestionar recursos en tiempo real, incluso fuera de la oficina, garantizando un control continuo sobre los costos operativos.\n",
        "\n",
        "Para más información, consulta la [Documentación de la aplicación móvil de Google Cloud](https://cloud.google.com/mobile)."
      ]
    }
  ],
  "metadata": {
    "kernelspec": {
      "display_name": "Bash",
      "language": "bash",
      "name": "bash"
    },
    "language_info": {
      "name": "bash"
    }
  },
  "nbformat": 4,
  "nbformat_minor": 5
}