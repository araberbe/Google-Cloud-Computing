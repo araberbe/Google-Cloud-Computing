{
 "cells": [
  {
   "cell_type": "markdown",
   "id": "6be386e8",
   "metadata": {},
   "source": [
    "# 📌 Laboratorio: Video Intelligence API - Qwik Start\n",
    "\n",
    "## 🌐 Introducción al Servicio de Video Intelligence\n",
    "La **Video Intelligence API** de Google Cloud permite analizar videos para extraer metadatos automáticamente, como objetos, escenas o eventos, mediante una API REST sencilla. Esta herramienta facilita la búsqueda y el descubrimiento de contenido en videos, analizándolos por completo, por fragmentos o cuadro por cuadro.\n",
    "\n",
    "💡 **Contexto empresarial**: Similar a un sistema de auditoría visual que etiqueta automáticamente activos o eventos en un video, como si cada escena fuera una transacción en un libro mayor contable.\n",
    "\n",
    "### Objetivos del Laboratorio\n",
    "- Configurar autorización para una cuenta de servicio personalizada.\n",
    "- Enviar una solicitud de anotación de video a la **Video Intelligence API**.\n",
    "\n",
    "💡 **Beneficio empresarial**: Automatiza el análisis de videos para monitorear procesos, como auditorías visuales de inventarios o registros de operaciones empresariales.\n",
    "\n",
    "Para más información, consulta la [Documentación de Video Intelligence API](https://cloud.google.com/video-intelligence/docs)."
   ]
  },
  {
   "cell_type": "markdown",
   "id": "9077cb22",
   "metadata": {},
   "source": [
    "## 🔧 Requisitos Previos\n",
    "\n",
    "Antes de comenzar:\n",
    "- Lee las instrucciones del laboratorio (está cronometrado y no se puede pausar).\n",
    "- Usa un navegador moderno (recomendado: Google Chrome en modo incógnito).\n",
    "- Utiliza las credenciales temporales proporcionadas por el laboratorio.\n",
    "- No uses cuentas personales de Google Cloud para evitar cargos.\n",
    "\n",
    "### Inicio del Laboratorio y Acceso a Google Cloud\n",
    "1. Haz clic en **Start Lab** para comenzar.\n",
    "2. Usa las credenciales temporales (usuario y contraseña) proporcionadas.\n",
    "3. Acepta los términos y condiciones.\n",
    "4. No configures verificación en dos pasos ni recuperación de cuenta.\n",
    "5. Evita usar cuentas personales o pruebas gratuitas.\n",
    "\n",
    "💡 **Propósito**: Garantiza un entorno seguro y controlado, como preparar un sistema contable antes de procesar transacciones.\n",
    "\n",
    "### Acceder al Entorno de Trabajo (Cloud Shell)\n",
    "**Cloud Shell** es una terminal virtual con herramientas preinstaladas para Google Cloud.\n",
    "1. Haz clic en **Activate Cloud Shell** en la consola.\n",
    "2. Autoriza el uso de tu cuenta.\n",
    "3. Verifica la cuenta activa y el ID del proyecto con los siguientes comandos:\n"
   ]
  },
  {
   "cell_type": "code",
   "execution_count": null,
   "id": "f2c8128a",
   "metadata": {},
   "outputs": [],
   "source": [
    "gcloud auth list\n",
    "gcloud config list project"
   ]
  },
  {
   "cell_type": "markdown",
   "id": "fc422b87",
   "metadata": {},
   "source": [
    "💡 **Propósito**: Confirma el entorno, como verificar la configuración de un software contable antes de usarlo.\n",
    "\n",
    "Para más información, consulta la [Documentación de Cloud Shell](https://cloud.google.com/shell/docs)."
   ]
  },
  {
   "cell_type": "markdown",
   "id": "a84f5669",
   "metadata": {},
   "source": [
    "## 🔑 Tarea 1: Configurar Autorización\n",
    "\n",
    "### Paso 1: Crear una Cuenta de Servicio\n",
    "Crea una cuenta de servicio llamada `quickstart`:\n"
   ]
  },
  {
   "cell_type": "code",
   "execution_count": null,
   "id": "7ac602e7",
   "metadata": {},
   "outputs": [],
   "source": [
    "gcloud iam service-accounts create quickstart"
   ]
  },
  {
   "cell_type": "markdown",
   "id": "498b38e7",
   "metadata": {},
   "source": [
    "💡 **Propósito**: Habilita el acceso seguro a la **Video Intelligence API**, como autorizar a un equipo contable para acceder a registros financieros.\n",
    "\n",
    "### Paso 2: Crear un Archivo de Clave\n",
    "Genera una clave en formato JSON para la cuenta de servicio (reemplaza `<your-project-123>` con el ID de tu proyecto):\n"
   ]
  },
  {
   "cell_type": "code",
   "execution_count": null,
   "id": "2cac2136",
   "metadata": {},
   "outputs": [],
   "source": [
    "gcloud iam service-accounts keys create key.json \\\n",
    "  --iam-account quickstart@<your-project-123>.iam.gserviceaccount.com"
   ]
  },
  {
   "cell_type": "markdown",
   "id": "cceeb909",
   "metadata": {},
   "source": [
    "💡 **Propósito**: Crea una credencial para autenticar la API, como generar una contraseña segura para un sistema contable.\n",
    "\n",
    "### Paso 3: Autenticar la Cuenta\n",
    "Activa la cuenta de servicio con la clave:\n"
   ]
  },
  {
   "cell_type": "code",
   "execution_count": null,
   "id": "c68f844a",
   "metadata": {},
   "outputs": [],
   "source": [
    "gcloud auth activate-service-account --key-file key.json"
   ]
  },
  {
   "cell_type": "markdown",
   "id": "67269fd0",
   "metadata": {},
   "source": [
    "💡 **Propósito**: Autentica la cuenta para acceder a la API, como otorgar permisos en un software financiero.\n",
    "\n",
    "### Paso 4: Obtener un Token de Autorización\n",
    "Genera un token de acceso:\n"
   ]
  },
  {
   "cell_type": "code",
   "execution_count": null,
   "id": "ea43ea9a",
   "metadata": {},
   "outputs": [],
   "source": [
    "gcloud auth print-access-token"
   ]
  },
  {
   "cell_type": "markdown",
   "id": "a9368da6",
   "metadata": {},
   "source": [
    "💡 **Propósito**: Obtiene un token para autorizar solicitudes, como validar una sesión en un sistema ERP.\n",
    "\n",
    "💡 **Beneficio empresarial**: Garantiza acceso seguro a herramientas de análisis de video, como para auditar procesos grabados."
   ]
  },
  {
   "cell_type": "markdown",
   "id": "a4613590",
   "metadata": {},
   "source": [
    "## 🎥 Tarea 2: Enviar Solicitud de Anotación de Video\n",
    "\n",
    "### Crear el Archivo JSON con la Solicitud\n",
    "Usa un video de ejemplo (`train.mp4`) almacenado en **Cloud Storage** para solicitar detección de etiquetas:\n"
   ]
  },
  {
   "cell_type": "code",
   "execution_count": null,
   "id": "55b3f7b6",
   "metadata": {},
   "outputs": [],
   "source": [
    "cat > request.json <<EOF\n",
    "{\n",
    "   \"inputUri\": \"gs://spls/gsp154/video/train.mp4\",\n",
    "   \"features\": [\n",
    "       \"LABEL_DETECTION\"\n",
    "   ]\n",
    "}\n",
    "EOF"
   ]
  },
  {
   "cell_type": "markdown",
   "id": "e3def22c",
   "metadata": {},
   "source": [
    "| Campo | Descripción |\n",
    "|-------|-------------|\n",
    "| `inputUri` | Ubicación del video en Cloud Storage. |\n",
    "| `features` | Tipo de análisis solicitado (LABEL_DETECTION). |\n",
    "\n",
    "💡 **Propósito**: Define la configuración para analizar el video, como preparar un formulario contable para clasificar transacciones.\n",
    "\n",
    "💡 **Analogía contable**: Similar a preparar una orden de auditoría para etiquetar activos o eventos en un video.\n",
    "\n",
    "Para más información, consulta la [Documentación de Cloud Storage](https://cloud.google.com/storage/docs).\n",
    "\n",
    "### Enviar la Solicitud con curl\n",
    "Envía la solicitud a la **Video Intelligence API**:\n"
   ]
  },
  {
   "cell_type": "code",
   "execution_count": null,
   "id": "b9c274e8",
   "metadata": {},
   "outputs": [],
   "source": [
    "curl -s -H 'Content-Type: application/json' \\\n",
    "    -H 'Authorization: Bearer '$(gcloud auth print-access-token)'' \\\n",
    "    'https://videointelligence.googleapis.com/v1/videos:annotate' \\\n",
    "    -d @request.json"
   ]
  },
  {
   "cell_type": "markdown",
   "id": "e50fe408",
   "metadata": {},
   "source": [
    "#### Ejemplo de Salida JSON\n"
   ]
  },
  {
   "cell_type": "code",
   "execution_count": null,
   "id": "012486fc",
   "metadata": {},
   "outputs": [],
   "source": [
    "{\n",
    "  \"name\": \"projects/474887704060/locations/asia-east1/operations/16366331060670521152\"\n",
    "}"
   ]
  },
  {
   "cell_type": "markdown",
   "id": "666d67ea",
   "metadata": {},
   "source": [
    "💡 **Propósito**: Inicia el análisis del video, como procesar una auditoría visual de activos.\n",
    "\n",
    "💡 **Beneficio empresarial**: Automatiza la identificación de elementos en videos, como equipos en un inventario grabado.\n",
    "\n",
    "### Verificar el Estado de la Operación\n",
    "Consulta el estado del análisis (reemplaza `PROJECTS`, `LOCATIONS`, y `OPERATION_NAME` con los valores de la respuesta anterior):\n"
   ]
  },
  {
   "cell_type": "code",
   "execution_count": null,
   "id": "45b305ad",
   "metadata": {},
   "outputs": [],
   "source": [
    "curl -s -H 'Content-Type: application/json' \\\n",
    "    -H 'Authorization: Bearer '$(gcloud auth print-access-token)'' \\\n",
    "    'https://videointelligence.googleapis.com/v1/projects/PROJECTS/locations/LOCATIONS/operations/OPERATION_NAME'"
   ]
  },
  {
   "cell_type": "markdown",
   "id": "118463e4",
   "metadata": {},
   "source": [
    "#### Ejemplo de Salida JSON\n"
   ]
  },
  {
   "cell_type": "code",
   "execution_count": null,
   "id": "57d7e8ec",
   "metadata": {},
   "outputs": [],
   "source": [
    "{\n",
    "  \"name\": \"projects/425437283751/locations/asia-east1/operations/17938636079131796601\",\n",
    "  \"metadata\": {\n",
    "    \"progressMetadata\": [\n",
    "      {\n",
    "        \"inputUri\": \"gs://spls/gsp154/video/train.mp4\",\n",
    "        \"startTime\": \"2016-09-22T21:41:56.766091Z\",\n",
    "        \"lastUpdateTime\": \"2016-09-22T21:42:03.889743Z\"\n",
    "      }\n",
    "    ]\n",
    "  },\n",
    "  \"done\": true,\n",
    "  \"response\": {\n",
    "    \"annotationResults\": [\n",
    "      {\n",
    "        \"inputUri\": \"/spls/gsp154/video/train.mp4\",\n",
    "        \"segmentLabelAnnotations\": [\n",
    "          {\n",
    "            \"entity\": {\n",
    "              \"entityId\": \"/m/01yrx\",\n",
    "              \"languageCode\": \"en-US\"\n",
    "            },\n",
    "            \"segments\": [\n",
    "              {\n",
    "                \"segment\": {\n",
    "                  \"startTimeOffset\": \"0s\",\n",
    "                  \"endTimeOffset\": \"14.833664s\"\n",
    "                },\n",
    "                \"confidence\": 0.98509187\n",
    "              }\n",
    "            ]\n",
    "          }\n",
    "        ]\n",
    "      }\n",
    "    ]\n",
    "  }\n",
    "}"
   ]
  },
  {
   "cell_type": "markdown",
   "id": "5a1d67a7",
   "metadata": {},
   "source": [
    "| Campo | Descripción |\n",
    "|-------|-------------|\n",
    "| `name` | Identificador de la operación. |\n",
    "| `metadata.progressMetadata` | Información sobre el procesamiento. |\n",
    "| `done` | Indica si la operación ha finalizado. |\n",
    "| `response.annotationResults` | Resultados del análisis, como etiquetas detectadas. |\n",
    "| `segmentLabelAnnotations` | Etiquetas identificadas con confianza y tiempos. |\n",
    "\n",
    "💡 **Beneficio empresarial**: Proporciona información detallada sobre elementos en videos, como identificar activos en grabaciones de auditorías."
   ]
  },
  {
   "cell_type": "markdown",
   "id": "62f780b6",
   "metadata": {},
   "source": [
    "## 📋 Cuadro Resumen Final\n",
    "\n",
    "| Elemento clave | Descripción |\n",
    "|----------------|-------------|\n",
    "| **Servicio utilizado** | Video Intelligence API |\n",
    "| **Objetivo** | Analizar un video para detectar etiquetas (objetos, escenas) |\n",
    "| **Entorno de trabajo** | Google Cloud + Cloud Shell |\n",
    "| **Cuenta de servicio** | quickstart |\n",
    "| **Video de ejemplo** | `gs://spls/gsp154/video/train.mp4` |\n",
    "| **Resultado esperado** | Respuesta JSON con etiquetas y niveles de confianza |\n",
    "| **Comandos destacados** | `gcloud auth`, `curl`, `cat`, `gcloud iam` |\n",
    "| **Aplicación contable** | Similar a auditar visualmente activos o eventos en videos |\n",
    "\n",
    "💡 **Conclusión empresarial**: La **Video Intelligence API** automatiza el análisis de videos, como monitorear procesos grabados o auditar inventarios visualmente, optimizando la eficiencia."
   ]
  },
  {
   "cell_type": "markdown",
   "id": "b76e825a",
   "metadata": {},
   "source": [
    "## 🚀 Conclusión\n",
    "\n",
    "Este laboratorio te permitió:\n",
    "1. Configurar una cuenta de servicio y autorización para la **Video Intelligence API**.\n",
    "2. Enviar una solicitud de anotación para analizar un video y obtener etiquetas.\n",
    "3. Verificar los resultados del análisis con información detallada.\n",
    "\n",
    "💡 **Beneficio empresarial**: Facilita la auditoría visual de procesos o activos grabados, como inventarios o inspecciones, reduciendo tiempo y errores.\n",
    "\n",
    "Para más información, consulta la [Documentación de Video Intelligence API](https://cloud.google.com/video-intelligence/docs), [Documentación de Cloud Storage](https://cloud.google.com/storage/docs), y [Documentación de Cloud Shell](https://cloud.google.com/shell/docs)."
   ]
  },
  {
   "cell_type": "markdown",
   "id": "ddaa5169-d62f-4d6d-bfd6-4ccc2c7519cb",
   "metadata": {},
   "source": [
    "{\n",
    "  \"cell_type\": \"markdown\",\n",
    "  \"metadata\": {},\n",
    "  \"source\": [\n",
    "    \"## 📈 Flujo de Trabajo: Video Intelligence API\\n\",\n",
    "    \"\\n\",\n",
    "    \"Este diagrama ilustra el flujo de trabajo para usar la **Video Intelligence API** en el laboratorio. Cada etapa representa un paso crítico, desde la configuración de la autorización hasta la obtención de los resultados del análisis de video.\\n\",\n",
    "    \"\\n\",\n",
    "    \"💡 **Contexto empresarial**: En contabilidad, este flujo es similar a auditar un proceso grabado (ej. inspección de inventarios), donde cada etapa asegura que los datos visuales se procesen y etiqueten correctamente para informes financieros.\\n\",\n",
    "    \"\\n\",\n",
    "    \"El siguiente gráfico muestra las etapas secuenciales del proceso, con conexiones que indican el flujo de trabajo.\\n\",\n",
    "    \"\\n\",\n",
    "    \"Para más información, consulta la [Documentación de Video Intelligence API](https://cloud.google.com/video-intelligence/docs).\"\n",
    "  ]\n",
    "},\n",
    "{\n",
    "  \"cell_type\": \"code\",\n",
    "  \"metadata\": {},\n",
    "  \"source\": [\n",
    "    \"{\\n  \\\"type\\\": \\\"line\\\",\\n  \\\"data\\\": {\\n    \\\"labels\\\": [\\n      \\\"Configurar Autorización\\\",\\n      \\\"Crear Solicitud JSON\\\",\\n      \\\"Enviar Solicitud a API\\\",\\n      \\\"Verificar Resultados\\\"\\n    ],\\n    \\\"datasets\\\": [\\n      {\\n        \\\"label\\\": \\\"Flujo de Trabajo\\\",\\n        \\\"data\\\": [\\n          { \\\"x\\\": 0, \\\"y\\\": 0 },\\n          { \\\"x\\\": 1, \\\"y\\\": 0 },\\n          { \\\"x\\\": 2, \\\"y\\\": 0 },\\n          { \\\"x\\\": 3, \\\"y\\\": 0 }\\n        ],\\n        \\\"borderColor\\\": \\\"#1E88E5\\\",\\n        \\\"backgroundColor\\\": \\\"#1E88E5\\\",\\n        \\\"pointBackgroundColor\\\": [\\n          \\\"#1E88E5\\\",\\n          \\\"#43A047\\\",\\n          \\\"#8E24AA\\\",\\n          \\\"#FB8C00\\\"\\n        ],\\n        \\\"pointBorderColor\\\": \\\"#FFFFFF\\\",\\n        \\\"pointRadius\\\": 10,\\n        \\\"pointHoverRadius\\\": 12,\\n        \\\"fill\\\": false,\\n        \\\"tension\\\": 0.4\\n      }\\n    ]\\n  },\\n  \\\"options\\\": {\\n    \\\"responsive\\\": true,\\n    \\\"plugins\\\": {\\n      \\\"legend\\\": {\\n        \\\"display\\\": true,\\n        \\\"position\\\": \\\"top\\\",\\n        \\\"labels\\\": {\\n          \\\"font\\\": { \\\"size\\\": 14 },\\n          \\\"color\\\": \\\"#333333\\\"\\n        }\\n      },\\n      \\\"tooltip\\\": {\\n        \\\"enabled\\\": true,\\n        \\\"backgroundColor\\\": \\\"#424242\\\",\\n        \\\"titleFont\\\": { \\\"size\\\": 14 },\\n        \\\"bodyFont\\\": { \\\"size\\\": 12 }\\n      },\\n      \\\"annotation\\\": {\\n        \\\"annotations\\\": [\\n          {\\n            \\\"type\\\": \\\"label\\\",\\n            \\\"xValue\\\": 0,\\n            \\\"yValue\\\": 0.5,\\n            \\\"content\\\": [\\\"1. Configurar Autorización\\\"],\\n            \\\"font\\\": { \\\"size\\\": 12 },\\n            \\\"color\\\": \\\"#1E88E5\\\"\\n          },\\n          {\\n            \\\"type\\\": \\\"label\\\",\\n            \\\"xValue\\\": 1,\\n            \\\"yValue\\\": 0.5,\\n            \\\"content\\\": [\\\"2. Crear Solicitud JSON\\\"],\\n            \\\"font\\\": { \\\"size\\\": 12 },\\n            \\\"color\\\": \\\"#43A047\\\"\\n          },\\n          {\\n            \\\"type\\\": \\\"label\\\",\\n            \\\"xValue\\\": 2,\\n            \\\"yValue\\\": 0.5,\\n            \\\"content\\\": [\\\"3. Enviar Solicitud\\\"],\\n            \\\"font\\\": { \\\"size\\\": 12 },\\n            \\\"color\\\": \\\"#8E24AA\\\"\\n          },\\n          {\\n            \\\"type\\\": \\\"label\\\",\\n            \\\"xValue\\\": 3,\\n            \\\"yValue\\\": 0.5,\\n            \\\"content\\\": [\\\"4. Verificar Resultados\\\"],\\n            \\\"font\\\": { \\\"size\\\": 12 },\\n            \\\"color\\\": \\\"#FB8C00\\\"\\n          }\\n        ]\\n      }\\n    },\\n    \\\"scales\\\": {\\n      \\\"x\\\": {\\n        \\\"display\\\": true,\\n        \\\"title\\\": {\\n          \\\"display\\\": true,\\n          \\\"text\\\": \\\"Etapas del Flujo\\\",\\n          \\\"color\\\": \\\"#333333\\\",\\n          \\\"font\\\": { \\\"size\\\": 14 }\\n        },\\n        \\\"ticks\\\": {\\n          \\\"color\\\": \\\"#333333\\\"\\n        }\\n      },\\n      \\\"y\\\": {\\n        \\\"display\\\": false\\n      }\\n    }\\n  }\\n}\"\n",
    "  ],\n",
    "  \"language\": \"chartjs\",\n",
    "  \"execution_count\": null,\n",
    "  \"outputs\": []\n",
    "}"
   ]
  },
  {
   "cell_type": "code",
   "execution_count": null,
   "id": "7f8286ac-bcf1-4d71-905a-5d6879831e03",
   "metadata": {},
   "outputs": [],
   "source": []
  }
 ],
 "metadata": {
  "kernelspec": {
   "display_name": "Python 3 (ipykernel)",
   "language": "python",
   "name": "python3"
  },
  "language_info": {
   "codemirror_mode": {
    "name": "ipython",
    "version": 3
   },
   "file_extension": ".py",
   "mimetype": "text/x-python",
   "name": "python",
   "nbconvert_exporter": "python",
   "pygments_lexer": "ipython3",
   "version": "3.9.21"
  }
 },
 "nbformat": 4,
 "nbformat_minor": 5
}
