{
 "cells": [
  {
   "cell_type": "markdown",
   "id": "6ef180d7",
   "metadata": {},
   "source": [
    "# 📌 Google Kubernetes Engine (GKE): Qwik Start\n",
    "\n",
    "**Google Kubernetes Engine (GKE)** es un servicio gestionado de Google Cloud que permite desplegar, administrar y escalar aplicaciones contenerizadas. Este laboratorio te guía en la creación de un clúster de GKE, el despliegue de una aplicación, la exposición de esta al público y la eliminación del clúster. Es ideal para empresas que buscan automatizar procesos complejos, como la gestión de aplicaciones contables en línea, sin preocuparse por la infraestructura subyacente.\n",
    "\n",
    "💡 **Beneficio empresarial**: GKE permite a las empresas implementar sistemas escalables, como aplicaciones para gestionar facturas o inventarios, con alta disponibilidad y sin necesidad de administrar servidores manualmente.\n",
    "\n",
    "Para más información, consulta la [Documentación de Google Kubernetes Engine](https://cloud.google.com/kubernetes-engine/docs)."
   ]
  },
  {
   "cell_type": "markdown",
   "id": "f5f2a631",
   "metadata": {},
   "source": [
    "## 🚀 ¿Qué es GKE y Kubernetes?\n",
    "\n",
    "**GKE** utiliza **Kubernetes**, una plataforma de código abierto para orquestar contenedores. Un contenedor es como una caja virtual que empaqueta una aplicación junto con sus dependencias, asegurando que funcione igual en cualquier entorno. Kubernetes automatiza tareas como:\n",
    "- Despliegue de aplicaciones.\n",
    "- Escalado automático según la demanda.\n",
    "- Monitoreo de la salud de los contenedores.\n",
    "- Actualizaciones sin interrupciones.\n",
    "\n",
    "**Beneficios clave de GKE**:\n",
    "- **Balanceo de carga**: Distribuye el tráfico entre servidores para evitar sobrecargas.\n",
    "- **Autoescalado**: Ajusta recursos automáticamente según la carga de trabajo.\n",
    "- **Autoreparación**: Detecta y reemplaza contenedores defectuosos.\n",
    "- **Logging y monitoreo**: Integra Cloud Monitoring para supervisar el rendimiento.\n",
    "\n",
    "💡 **Contexto empresarial**: Imagina un sistema contable que procesa miles de transacciones diarias. GKE asegura que la aplicación esté siempre disponible, incluso durante picos de uso, como cierres fiscales.\n",
    "\n",
    "Consulta más detalles en la [Documentación de Kubernetes](https://kubernetes.io/docs)."
   ]
  },
  {
   "cell_type": "markdown",
   "id": "48d96957",
   "metadata": {},
   "source": [
    "## 🚀 Tarea 1: Configurar una zona de cómputo por defecto\n",
    "\n",
    "La región y zona determinan la ubicación geográfica de los recursos, lo cual es crucial para cumplir normativas de datos o reducir latencias.\n",
    "\n",
    "Ejecuta estos comandos en **Cloud Shell**:"
   ]
  },
  {
   "cell_type": "code",
   "execution_count": null,
   "id": "f08a97c5",
   "metadata": {},
   "outputs": [],
   "source": [
    "gcloud config set compute/region REGION\n",
    "gcloud config set compute/zone ZONE"
   ]
  },
  {
   "cell_type": "markdown",
   "id": "556a92a2",
   "metadata": {},
   "source": [
    "**Explicación de los comandos**:\n",
    "- `gcloud config set compute/region`: Establece la región predeterminada (por ejemplo, `us-central1`).\n",
    "- `gcloud config set compute/zone`: Define la zona específica (por ejemplo, `us-central1-a`).\n",
    "\n",
    "💡 **Contexto empresarial**: Elegir una región cercana a los usuarios, como `southamerica-east1` para Argentina, mejora la velocidad de acceso a datos contables y cumple con regulaciones locales."
   ]
  },
  {
   "cell_type": "markdown",
   "id": "f20a5e90",
   "metadata": {},
   "source": [
    "## 🚀 Tarea 2: Crear un clúster GKE\n",
    "\n",
    "Un clúster de GKE incluye una máquina maestra y nodos (instancias de Compute Engine) que ejecutan los contenedores. Crearás un clúster llamado `lab-cluster`.\n",
    "\n",
    "Ejecuta este comando:"
   ]
  },
  {
   "cell_type": "code",
   "execution_count": null,
   "id": "5dac19cf",
   "metadata": {},
   "outputs": [],
   "source": [
    "gcloud container clusters create --machine-type=e2-medium --zone=ZONE lab-cluster"
   ]
  },
  {
   "cell_type": "markdown",
   "id": "4d9c6999",
   "metadata": {},
   "source": [
    "**Explicación del comando**:\n",
    "- `gcloud container clusters create`: Crea un nuevo clúster.\n",
    "- `--machine-type=e2-medium`: Especifica el tipo de máquina para los nodos.\n",
    "- `--zone=ZONE`: Define la zona (reemplaza `ZONE` con la zona configurada).\n",
    "- `lab-cluster`: Nombre del clúster (máximo 40 caracteres, solo letras y números).\n",
    "\n",
    "**Nota**: La creación puede tardar varios minutos. Ignora advertencias.\n",
    "\n",
    "💡 **Contexto empresarial**: Un clúster es como una oficina virtual que aloja aplicaciones contables, escalando automáticamente si aumenta la cantidad de usuarios."
   ]
  },
  {
   "cell_type": "markdown",
   "id": "e4d43300",
   "metadata": {},
   "source": [
    "## 🚀 Tarea 3: Obtener credenciales de autenticación\n",
    "\n",
    "Configura las credenciales para interactuar con el clúster."
   ]
  },
  {
   "cell_type": "code",
   "execution_count": null,
   "id": "eb549982",
   "metadata": {},
   "outputs": [],
   "source": [
    "gcloud container clusters get-credentials lab-cluster"
   ]
  },
  {
   "cell_type": "markdown",
   "id": "947029ae",
   "metadata": {},
   "source": [
    "**Explicación**: Este comando autentica tu sesión de Cloud Shell para gestionar el clúster `lab-cluster`.\n",
    "\n",
    "💡 **Contexto empresarial**: Es como obtener una clave de acceso para administrar un sistema contable en la nube."
   ]
  },
  {
   "cell_type": "markdown",
   "id": "9cd22847",
   "metadata": {},
   "source": [
    "## 🚀 Tarea 4: Desplegar una aplicación en el clúster\n",
    "\n",
    "Desplegarás una aplicación de ejemplo (`hello-app`) en el clúster usando un objeto **Deployment** y la expondrás a Internet con un **Service**.\n",
    "\n",
    "### Crear el Deployment"
   ]
  },
  {
   "cell_type": "code",
   "execution_count": null,
   "id": "ebe473af",
   "metadata": {},
   "outputs": [],
   "source": [
    "kubectl create deployment hello-server --image=gcr.io/google-samples/hello-app:1.0"
   ]
  },
  {
   "cell_type": "markdown",
   "id": "f6378865",
   "metadata": {},
   "source": [
    "**Explicación**:\n",
    "- `kubectl create deployment`: Crea un objeto de despliegue llamado `hello-server`.\n",
    "- `--image=gcr.io/google-samples/hello-app:1.0`: Usa una imagen de contenedor predefinida.\n",
    "\n",
    "💡 **Contexto empresarial**: Esto es como instalar un software contable en la nube, listo para usarse."
   ]
  },
  {
   "cell_type": "markdown",
   "id": "2df820be",
   "metadata": {},
   "source": [
    "### Crear el Servicio"
   ]
  },
  {
   "cell_type": "code",
   "execution_count": null,
   "id": "8258ff9b",
   "metadata": {},
   "outputs": [],
   "source": [
    "kubectl expose deployment hello-server --type=LoadBalancer --port 8080"
   ]
  },
  {
   "cell_type": "markdown",
   "id": "70e9ddb9",
   "metadata": {},
   "source": [
    "**Explicación**:\n",
    "- `kubectl expose deployment`: Expone la aplicación al público.\n",
    "- `--type=LoadBalancer`: Crea un balanceador de carga.\n",
    "- `--port 8080`: Define el puerto de acceso.\n",
    "\n",
    "💡 **Contexto empresarial**: Es como publicar un portal web para que los clientes accedan a sus facturas."
   ]
  },
  {
   "cell_type": "markdown",
   "id": "b1006c76",
   "metadata": {},
   "source": [
    "### Verificar el servicio"
   ]
  },
  {
   "cell_type": "code",
   "execution_count": null,
   "id": "b5cf44f9",
   "metadata": {},
   "outputs": [],
   "source": [
    "kubectl get service"
   ]
  },
  {
   "cell_type": "markdown",
   "id": "2a715e9e",
   "metadata": {},
   "source": [
    "**Explicación**: Muestra los detalles del servicio, incluyendo la IP externa (`EXTERNAL-IP`). Si aparece `pending`, espera un minuto y repite.\n",
    "\n",
    "Para acceder, abre en un navegador: `http://[EXTERNAL-IP]:8080`. Deberías ver un mensaje como `Hello, world!`.\n",
    "\n",
    "💡 **Contexto empresarial**: Esto confirma que el sistema está activo, como verificar que un portal contable está en línea."
   ]
  },
  {
   "cell_type": "markdown",
   "id": "cd19c3aa",
   "metadata": {},
   "source": [
    "## 🚀 Tarea 5: Eliminar el clúster\n",
    "\n",
    "Elimina el clúster para liberar recursos."
   ]
  },
  {
   "cell_type": "code",
   "execution_count": null,
   "id": "1bbe3792",
   "metadata": {},
   "outputs": [],
   "source": [
    "gcloud container clusters delete lab-cluster"
   ]
  },
  {
   "cell_type": "markdown",
   "id": "458f0daf",
   "metadata": {},
   "source": [
    "**Explicación**: Este comando elimina el clúster `lab-cluster`. Confirma con `Y` cuando se solicite. Puede tardar unos minutos.\n",
    "\n",
    "💡 **Contexto empresarial**: Es como cerrar una oficina temporal de pruebas para evitar costos inneisarios."
   ]
  },
  {
   "cell_type": "markdown",
   "id": "87cb0bde",
   "metadata": {},
   "source": [
    "## 💡 Ejemplo didáctico para contabilidad\n",
    "\n",
    "Imagina que necesitas probar un sistema contable en línea que calcula impuestos automáticamente:\n",
    "- **Crear un clúster**: Es como montar una oficina virtual para probar el sistema.\n",
    "- **Desplegar la app**: Instalas el software contable en la nube.\n",
    "- **Exponer la app**: Publicas el sistema para que el equipo lo pruebe desde cualquier lugar.\n",
    "- **Eliminar el clúster**: Cierras la oficina temporal para no gastar recursos.\n",
    "\n",
    "GKE automatiza estas tareas, permitiendo a las empresas enfocarse en probar y mejorar sus sistemas sin preocuparse por la infraestructura."
   ]
  }
 ],
 "metadata": {
  "kernelspec": {
   "display_name": "Python 3 (ipykernel)",
   "language": "python",
   "name": "python3"
  },
  "language_info": {
   "codemirror_mode": {
    "name": "ipython",
    "version": 3
   },
   "file_extension": ".py",
   "mimetype": "text/x-python",
   "name": "python",
   "nbconvert_exporter": "python",
   "pygments_lexer": "ipython3",
   "version": "3.9.21"
  }
 },
 "nbformat": 4,
 "nbformat_minor": 5
}
