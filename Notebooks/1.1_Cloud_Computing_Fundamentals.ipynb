{
 "cells": [
  {
   "cell_type": "markdown",
   "metadata": {},
   "source": [
    "# Introducción a la Computación en la Nube\n",
    "\n",
    "La computación en la nube es actualmente un tema de gran interés, pero muchas personas aún se preguntan: **¿qué es exactamente la nube?**\n",
    "\n",
    "El término *computación en la nube* fue acuñado por el Instituto Nacional de Estándares y Tecnología de los Estados Unidos (**NIST**, por sus siglas en inglés). Sin embargo, es importante destacar que este concepto no es exclusivo de Estados Unidos: es aplicable a nivel mundial.\n",
    "\n",
    "La computación en la nube es una forma moderna de utilizar la tecnología de la información (**TI**) basada en **cinco características igualmente importantes**:"
   ]
  },
  {
   "cell_type": "markdown",
   "metadata": {},
   "source": [
    "## 1. Recursos Bajo Demanda y de Autoservicio\n",
    "\n",
    "En primer lugar, los clientes tienen acceso a recursos informáticos que se pueden solicitar **bajo demanda** y mediante **autoservicio**. Esto significa que, a través de una simple **interfaz web**, los usuarios pueden obtener la **capacidad de procesamiento**, el **almacenamiento** y las **capacidades de red** que necesiten, **sin necesidad de intervención humana** por parte del proveedor de servicios. Esta agilidad permite a las empresas acelerar sus operaciones tecnológicas sin depender de largos procesos administrativos."
   ]
  },
  {
   "cell_type": "markdown",
   "metadata": {},
   "source": [
    "## 2. Acceso Remoto a los Recursos\n",
    "\n",
    "En segundo lugar, los clientes pueden acceder a estos recursos **desde cualquier lugar** donde tengan conexión a internet. Esto proporciona una **flexibilidad enorme**, ya que elimina la necesidad de estar físicamente en un centro de datos o en una oficina para utilizar las herramientas y servicios de TI."
   ]
  },
  {
   "cell_type": "markdown",
   "metadata": {},
   "source": [
    "## 3. Recursos Centralizados y Compartidos\n",
    "\n",
    "La tercera característica es que los **proveedores de servicios en la nube** gestionan un **gran conjunto de recursos** que se asignan dinámicamente a los usuarios según sus necesidades. Al manejar un **“pool” de recursos compartido**, el proveedor puede comprar tecnología a gran escala, lo que genera **importantes ahorros** que luego son trasladados a los clientes en forma de **precios más accesibles**. Además, los usuarios no necesitan conocer ni preocuparse por la **ubicación exacta** de los recursos físicos que están utilizando; todo está **abstraído**."
   ]
  },
  {
   "cell_type": "markdown",
   "metadata": {},
   "source": [
    "## 4. Elasticidad\n",
    "\n",
    "La cuarta característica clave es la **elasticidad**. Esto implica que los recursos de TI pueden **incrementarse o reducirse rápidamente** según los cambios en la demanda. Si una empresa necesita más capacidad de procesamiento o almacenamiento, puede obtenerla de forma **casi instantánea**. Si posteriormente esa demanda disminuye, también puede **reducir sus recursos** para evitar costos innecesarios. Esta elasticidad proporciona una enorme **flexibilidad** a organizaciones de todos los tamaños."
   ]
  },
  {
   "cell_type": "markdown",
   "metadata": {},
   "source": [
    "## 5. Pago por Uso\n",
    "\n",
    "Finalmente, los usuarios **pagan únicamente por los recursos que utilizan** o que reservan, en función de sus necesidades específicas. **No existen costos fijos innecesarios**: si los usuarios dejan de utilizar los recursos, simplemente dejan de pagar por ellos. Este modelo es **extremadamente eficiente** desde el punto de vista económico, especialmente para **startups** o proyectos que necesitan controlar de cerca sus gastos tecnológicos."
   ]
  },
  {
   "cell_type": "markdown",
   "metadata": {},
   "source": [
    "# ¿Qué es la Infraestructura de TI?\n",
    "\n",
    "El concepto de **infraestructura** se refiere al marco básico que sostiene un conjunto de instalaciones y sistemas. Para comprenderlo mejor, podemos hacer una **analogía con la infraestructura de una ciudad**.\n",
    "\n",
    "En una ciudad, la infraestructura incluye servicios esenciales como **transporte**, **comunicaciones**, **suministro de energía eléctrica**, **agua potable**, **combustible**, y otros. Del mismo modo, en el mundo de la tecnología de la información, la **infraestructura de TI** proporciona los elementos esenciales para que funcionen los **usuarios** (personas) y las **aplicaciones** (software).\n",
    "\n",
    "En esta analogía:\n",
    "- Los **usuarios** serían los **habitantes** de la ciudad.\n",
    "- Las **aplicaciones** serían los **vehículos**, **edificios** y otros componentes que utilizan esa infraestructura.\n",
    "\n",
    "Todo lo que se necesita para **crear**, **mantener** y **hacer funcionar** estos servicios forma parte de la infraestructura."
   ]
  },
  {
   "cell_type": "markdown",
   "metadata": {},
   "source": [
    "# ¿Qué aprenderás en este curso?\n",
    "\n",
    "En este curso, explorarás los **servicios de infraestructura** que ofrece **Google Cloud**.\n",
    "\n",
    "- Te familiarizarás con los **diferentes servicios**, aprenderás **qué funciones cumple cada uno** y comenzarás a comprender cómo utilizarlos de manera efectiva en distintos contextos **profesionales** o **empresariales**.\n",
    "- El **objetivo principal** es que al finalizar tengas una **comprensión sólida** de cómo aprovechar la infraestructura de Google Cloud para **optimizar proyectos tecnológicos**, ya sea en el **desarrollo de aplicaciones**, en el **análisis de datos** o en la **administración de redes seguras**."
   ]
  },
  {
   "cell_type": "markdown",
   "metadata": {},
   "source": [
    "# Transición hacia la Arquitectura en la Nube\n",
    "\n",
    "Ahora que tienes una mejor comprensión de qué es la **computación en la nube** y de la **infraestructura** que la sostiene, avanzaremos hacia el concepto de **arquitectura en la nube**.\n",
    "\n",
    "En esta sección, exploraremos cómo se compara la **arquitectura en la nube** con la **arquitectura tradicional**. Para comprender esta comparación de manera adecuada, primero es necesario repasar un poco de **historia**."
   ]
  },
  {
   "cell_type": "markdown",
   "metadata": {},
   "source": [
    "## Evolución hacia la Nube\n",
    "\n",
    "La tendencia hacia la computación en la nube comenzó con una **primera ola** conocida como **colocación (colocation)**. La colocación ofrecía a los usuarios una **eficiencia financiera significativa**, ya que les permitía **alquilar espacio físico** en centros de datos en lugar de realizar grandes inversiones en bienes raíces para construir sus propios centros de datos.\n",
    "\n",
    "Posteriormente, surgieron los **centros de datos virtualizados**, que representan la **segunda ola** de esta evolución. Estos centros de datos virtualizados comparten varias **similitudes** con los centros de datos privados y las instalaciones de colocación de décadas anteriores. Los **componentes** de estos centros virtualizados —como **servidores**, **CPUs**, **discos**, **balanceadores de carga**, entre otros— son equivalentes a los **bloques físicos tradicionales** de la computación alojada, pero ahora son **dispositivos virtuales**. Con la llegada de la **virtualización**, las empresas seguían **manteniendo y administrando** su propia infraestructura. Era, en esencia, un entorno **controlado y configurado directamente por el usuario**."
   ]
  },
  {
   "cell_type": "markdown",
   "metadata": {},
   "source": [
    "## La Revolución de Google: La Tercera Ola\n",
    "\n",
    "Hace varios años, **Google** se dio cuenta de que su modelo de negocios no podía avanzar con la suficiente rapidez dentro de los límites del modelo de **virtualización**.\n",
    "\n",
    "Por ello, Google decidió adoptar una **arquitectura basada en contenedores**, dando lugar a una **tercera ola** de la computación en la nube: una **nube totalmente automatizada y elástica**, compuesta por una combinación de **servicios automáticos** y **datos escalables**.\n",
    "\n",
    "En esta nueva arquitectura:\n",
    "- Los **servicios** aprovisionan y configuran **automáticamente** la infraestructura necesaria para ejecutar aplicaciones.\n",
    "- La **elasticidad** y la **automatización** permiten que las aplicaciones **escalen de forma dinámica y eficiente**.\n",
    "\n",
    "Actualmente, **Google Cloud** pone esta tecnología de tercera ola a disposición de sus clientes, permitiendo que las organizaciones aprovechen la misma **infraestructura avanzada** que Google utiliza internamente."
   ]
  },
  {
   "cell_type": "markdown",
   "metadata": {},
   "source": [
    "## La Visión de Google sobre el Futuro Tecnológico\n",
    "\n",
    "Google sostiene que en el **futuro**, toda empresa —sin importar su **tamaño** o **industria**— se diferenciará de sus competidores a través del uso de la **tecnología**. Cada vez más, esa tecnología tomará la forma de **software**.\n",
    "\n",
    "Un **software excelente** depende, a su vez, de **datos de alta calidad**. Esto implica que, tarde o temprano, **toda empresa será, en esencia, una empresa de datos**."
   ]
  },
  {
   "cell_type": "markdown",
   "metadata": {},
   "source": [
    "## El Impacto Ambiental de los Centros de Datos\n",
    "\n",
    "Aunque el mundo virtual parece **intangible**, está sostenido por una **infraestructura física real**: redes de cables, servidores, racks y centros de datos, que consumen **enormes cantidades de energía**.\n",
    "\n",
    "De hecho, todos los centros de datos existentes en el mundo utilizan aproximadamente el **2% de la electricidad mundial**. Consciente de este impacto, **Google** trabaja intensamente para hacer que sus centros de datos sean lo **más eficientes posible**. Al igual que sus clientes, Google busca hacer **lo correcto por el planeta**. Comprendemos que los clientes de **Google Cloud** también tienen sus propios **objetivos ambientales**, y ejecutar sus cargas de trabajo en Google Cloud puede ayudarles a alcanzar dichas metas.\n",
    "\n",
    "Por ejemplo:\n",
    "- Google fue el **primer proveedor** en lograr la **certificación ISO 14001** en sus centros de datos. Esta norma internacional proporciona un marco para mejorar la **eficiencia en el uso de recursos** y **reducir el desperdicio**.\n",
    "- Uno de los ejemplos destacados es el **centro de datos de Google en Hamina, Finlandia**, considerado uno de los **más avanzados y eficientes** de toda la flota de Google. Este centro utiliza un **sistema de refrigeración innovador** que emplea **agua del mar** proveniente del Golfo de Finlandia, reduciendo así considerablemente el **consumo de energía**. Este método fue el **primero de su tipo** en el mundo."
   ]
  },
  {
   "cell_type": "markdown",
   "metadata": {},
   "source": [
    "## Compromiso Ambiental de Google\n",
    "\n",
    "- Durante su **primera década**, Google se convirtió en la **primera gran empresa** en lograr la **neutralidad de carbono**.\n",
    "- En su **segunda década**, fue la **primera empresa** en alcanzar el **100% de uso de energías renovables**.\n",
    "- Mirando hacia el **futuro**, Google tiene como objetivo que para el año **2030** se convierta en la **primera gran compañía** en operar de manera **completamente libre de carbono**."
   ]
  },
  {
   "cell_type": "markdown",
   "metadata": {},
   "source": [
    "# Introducción a IaaS, PaaS y SaaS\n",
    "\n",
    "Ahora cambiemos nuestro enfoque hacia **IaaS**, **PaaS** y **SaaS**.\n",
    "\n",
    "La transición hacia los **centros de datos virtualizados** presentó a los clientes dos nuevos tipos de servicios:\n",
    "- **Infrastructure as a Service (IaaS)**, o Infraestructura como Servicio.\n",
    "- **Platform as a Service (PaaS)**, o Plataforma como Servicio."
   ]
  },
  {
   "cell_type": "markdown",
   "metadata": {},
   "source": [
    "## ¿Qué es IaaS?\n",
    "\n",
    "Las ofertas de **IaaS** proporcionan capacidades básicas de **cómputo**, **almacenamiento** y **red**, organizadas de manera **virtual** en recursos que son similares a los de los **centros de datos físicos tradicionales**.\n",
    "\n",
    "En este modelo:\n",
    "- Los clientes **pagan por los recursos** que asignan por adelantado.\n",
    "- Se mantiene un **control más cercano** sobre la infraestructura, pero ya no es necesario gestionarla **físicamente**."
   ]
  },
  {
   "cell_type": "markdown",
   "metadata": {},
   "source": [
    "## ¿Qué es PaaS?\n",
    "\n",
    "Las ofertas de **PaaS** vinculan el **código de las aplicaciones** a **bibliotecas** que proporcionan acceso a la infraestructura necesaria.\n",
    "\n",
    "Esto permite que:\n",
    "- Los **desarrolladores** puedan centrarse más en la **lógica de sus aplicaciones** en lugar de ocuparse de los detalles de la infraestructura.\n",
    "- El **modelo de costos** sea diferente, ya que los clientes **pagan solo por los recursos** que efectivamente utilizan."
   ]
  },
  {
   "cell_type": "markdown",
   "metadata": {},
   "source": [
    "## La Evolución hacia Infraestructura y Servicios Gestionados\n",
    "\n",
    "A medida que la computación en la nube ha **evolucionado**, el impulso se ha desplazado hacia la **infraestructura gestionada** y los **servicios gestionados**.\n",
    "\n",
    "Aprovechar **recursos y servicios gestionados** permite que las empresas:\n",
    "- Se concentren más en sus **objetivos comerciales**, dedicando **menos tiempo y dinero** a la creación y el mantenimiento de su infraestructura técnica.\n",
    "- **Entreguen productos y servicios** a sus clientes de manera **más rápida y confiable**, aumentando su **competitividad** y **agilidad** en el mercado."
   ]
  },
  {
   "cell_type": "markdown",
   "metadata": {},
   "source": [
    "## ¿Qué es Serverless?\n",
    "\n",
    "El concepto de **Serverless** (\"sin servidores\") representa otro paso en la evolución de la computación en la nube.\n",
    "\n",
    "La computación **sin servidores** permite a los desarrolladores:\n",
    "- Concentrarse **únicamente en su código**, sin necesidad de preocuparse por la **configuración** o **administración de servidores**.\n",
    "- **Eliminar la gestión de infraestructura**, ya que esta es manejada de forma **automática** por el proveedor de nube.\n",
    "\n",
    "Entre las tecnologías **serverless** ofrecidas por Google se destacan:\n",
    "- **Cloud Run**: permite a los clientes desplegar sus **aplicaciones de microservicios contenarizadas** en un entorno **totalmente gestionado**.\n",
    "- **Cloud Run Functions**: gestiona **código basado en eventos** como un servicio de **pago por uso**."
   ]
  },
  {
   "cell_type": "markdown",
   "metadata": {},
   "source": [
    "## ¿Qué es SaaS?\n",
    "\n",
    "También puede que hayas oído hablar de **Software as a Service (SaaS)**, o **Software como Servicio**, y te preguntes qué es y cómo encaja en el **ecosistema de la nube**.\n",
    "\n",
    "Las aplicaciones **SaaS**:\n",
    "- **No se instalan** en tu computadora local.\n",
    "- Se **ejecutan en la nube** como un servicio y son **consumidas directamente a través de Internet** por los usuarios finales.\n",
    "\n",
    "Algunos ejemplos muy populares de aplicaciones **SaaS** de Google incluyen:\n",
    "- **Gmail**\n",
    "- **Google Docs**\n",
    "- **Google Drive**\n",
    "\n",
    "Estos servicios, junto con otros, forman parte de lo que se conoce como **Google Workspace** y están completamente clasificados como aplicaciones **SaaS**."
   ]
  },
  {
   "cell_type": "markdown",
   "metadata": {},
   "source": [
    "## Comparación de Modelos\n",
    "\n",
    "| **Modelo**    | **¿Qué ofrece?**                                                                 | **¿Quién lo gestiona?**                                           | **Ejemplos**                         |\n",
    "|---------------|----------------------------------------------------------------------------------|--------------------------------------------------------------------|--------------------------------------|\n",
    "| **IaaS**      | Infraestructura virtual (servidores, redes, almacenamiento).                      | El cliente gestiona sistema operativo, aplicaciones y datos.        | Google Compute Engine, Amazon EC2     |\n",
    "| **PaaS**      | Plataforma para desarrollar y desplegar aplicaciones.                            | El proveedor gestiona infraestructura y middleware; el cliente solo su código. | Google App Engine, Heroku             |\n",
    "| **SaaS**      | Software funcional listo para usar.                                              | Todo es gestionado por el proveedor.                               | Gmail, Google Docs, Salesforce        |\n",
    "| **Serverless**| Código que se ejecuta automáticamente, sin preocuparse por servidores.            | El proveedor gestiona infraestructura, escalado y eventos.          | Google Cloud Run, AWS Lambda          |"
   ]
  },
  {
   "cell_type": "markdown",
   "metadata": {},
   "source": [
    "# Ofertas específicas de Google Cloud\n",
    "\n",
    "**Google Cloud** se puede entender en **tres capas principales**:"
   ]
  },
  {
   "cell_type": "markdown",
   "metadata": {},
   "source": [
    "## 1. Capa base: Redes y Seguridad\n",
    "\n",
    "Esta capa constituye los **cimientos** para toda la infraestructura y aplicaciones de Google. Aporta **conectividad segura** y de **alta velocidad**."
   ]
  },
  {
   "cell_type": "markdown",
   "metadata": {},
   "source": [
    "## 2. Capa media: Cómputo y Almacenamiento\n",
    "\n",
    "- **Cómputo** y **almacenamiento** están **desacoplados**, es decir, pueden **escalar de manera independiente** según la necesidad.\n",
    "- Esto permite **mayor flexibilidad** para ajustar los recursos utilizados en cualquier momento."
   ]
  },
  {
   "cell_type": "markdown",
   "metadata": {},
   "source": [
    "## 3. Capa superior: Big Data y Machine Learning\n",
    "\n",
    "- En esta capa se encuentran los productos que permiten **ingerir**, **almacenar**, **procesar** y **entregar insights de negocio**, así como desarrollar **modelos de machine learning**.\n",
    "- Gracias a **Google Cloud**, se puede realizar todo esto **sin necesidad de gestionar o escalar infraestructura** directamente."
   ]
  },
  {
   "cell_type": "markdown",
   "metadata": {},
   "source": [
    "## Servicios de Cómputo de Google Cloud\n",
    "\n",
    "Google ofrece un rango amplio de servicios de computación:\n",
    "- **Compute Engine**\n",
    "- **Google Kubernetes Engine**\n",
    "- **App Engine**\n",
    "- **Cloud Run**\n",
    "- **Cloud Functions**"
   ]
  },
  {
   "cell_type": "markdown",
   "metadata": {},
   "source": [
    "## Opciones de Almacenamiento de Google Cloud\n",
    "\n",
    "**Google Cloud** también proporciona varias opciones de **almacenamiento administrado**:\n",
    "- **Cloud Storage**\n",
    "- **Cloud SQL** (base de datos relacional)\n",
    "- **Spanner** (base de datos relacional escalable)\n",
    "- **Bigtable** (base de datos NoSQL)\n",
    "- **Firestore** (base de datos NoSQL)"
   ]
  },
  {
   "cell_type": "markdown",
   "metadata": {},
   "source": [
    "## Productos de Big Data y Machine Learning\n",
    "\n",
    "**Google Cloud** cuenta con una línea robusta de productos de **Big Data** y **ML**, que incluye:\n",
    "- **Cloud Storage**\n",
    "- **Dataproc**\n",
    "- **Bigtable**\n",
    "- **BigQuery**\n",
    "- **Dataflow**\n",
    "- **Firestore**\n",
    "- **Pub/Sub**\n",
    "- **Looker**\n",
    "- **Spanner**\n",
    "- **AutoML**\n",
    "- **Vertex AI** (plataforma unificada de Machine Learning)"
   ]
  },
  {
   "cell_type": "markdown",
   "metadata": {},
   "source": [
    "## Red de Google Cloud\n",
    "\n",
    "La **red de Google** es la **más grande de su tipo** en el mundo:\n",
    "- Google ha invertido **miles de millones de dólares** para construir su red.\n",
    "- El objetivo es ofrecer el **máximo ancho de banda** y **mínima latencia** para los clientes.\n",
    "- Google utiliza más de **100 nodos de caché de contenido** distribuidos globalmente, acelerando la **entrega de contenido**."
   ]
  },
  {
   "cell_type": "markdown",
   "metadata": {},
   "source": [
    "## Infraestructura Geográfica\n",
    "\n",
    "**Google Cloud** opera en **cinco ubicaciones principales**:\n",
    "- **América del Norte**\n",
    "- **América del Sur**\n",
    "- **Europa**\n",
    "- **Asia**\n",
    "- **Australia**\n",
    "\n",
    "Cada ubicación está dividida en:\n",
    "- **Regiones**: áreas geográficas independientes (ej. Londres / europe-west2).\n",
    "- **Zonas**: subáreas dentro de cada región donde se implementan los recursos."
   ]
  },
  {
   "cell_type": "markdown",
   "metadata": {},
   "source": [
    "## Recursos Zonales y Regionales\n",
    "\n",
    "- **Recursos zonales** operan en una **sola zona**.\n",
    "- Si una **zona falla**, los recursos en ella se ven **afectados**.\n",
    "- Google permite especificar el **despliegue de servicios** a nivel:\n",
    "  - **Zonal**\n",
    "  - **Regional**\n",
    "  - **Multi-regional**\n",
    "\n",
    "Esto mejora tanto el **rendimiento** (acercando apps a los usuarios) como la **resiliencia** ante desastres."
   ]
  },
  {
   "cell_type": "markdown",
   "metadata": {},
   "source": [
    "## Multi-Regionalidad\n",
    "\n",
    "Algunos servicios permiten **replicar datos** entre múltiples zonas y regiones:\n",
    "- **Ejemplo**: **Spanner** en configuración **multi-región** permite replicar datos en lugares como **Países Bajos** y **Bélgica**.\n",
    "- Esto proporciona **baja latencia** para lecturas en distintos puntos geográficos.\n",
    "\n",
    "Actualmente, **Google Cloud** cuenta con:\n",
    "- **121 zonas** en **40 regiones** (y sigue en expansión).\n",
    "\n",
    "Para ver el estado actualizado:\n",
    "\n",
    "👉 [https://cloud.google.com/about/locations](https://cloud.google.com/about/locations)"
   ]
  }
 ],
 "metadata": {
  "kernelspec": {
   "display_name": "Python 3 (ipykernel)",
   "language": "python",
   "name": "python3"
  },
  "language_info": {
   "codemirror_mode": {
    "name": "ipython",
    "version": 3
   },
   "file_extension": ".py",
   "mimetype": "text/x-python",
   "name": "python",
   "nbconvert_exporter": "python",
   "pygments_lexer": "ipython3",
   "version": "3.9.21"
  }
 },
 "nbformat": 4,
 "nbformat_minor": 4
}
