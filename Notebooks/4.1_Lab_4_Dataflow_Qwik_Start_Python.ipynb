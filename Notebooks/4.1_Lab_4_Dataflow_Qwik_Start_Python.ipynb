{
  "cells": [
    {
      "cell_type": "markdown",
      "metadata": {},
      "source": [
        "# 📌 Laboratorio: Dataflow Qwik Start - Python\n",
        "\n",
        "## 🌐 Descripción General\n",
        "**Apache Beam SDK** es un modelo de programación de código abierto para crear canalizaciones (pipelines) de datos. En **Google Cloud**, puedes definir pipelines con **Apache Beam** y ejecutarlos en **Dataflow**. Este laboratorio te guía para configurar un entorno de desarrollo en Python, instalar **Apache Beam**, y ejecutar un pipeline remotamente.\n",
        "\n",
        "💡 **Contexto empresarial**: Similar a configurar un sistema automatizado que procesa transacciones financieras, como facturas o registros de ventas, y genera reportes consolidados en tiempo récord.\n",
        "\n",
        "### Objetivos del Laboratorio\n",
        "- Crear un **bucket** en **Cloud Storage** para almacenar resultados.\n",
        "- Instalar el **Apache Beam SDK** para Python.\n",
        "- Ejecutar un pipeline de **Dataflow** remotamente.\n",
        "\n",
        "Para más información, consulta la [Documentación de Dataflow](https://cloud.google.com/dataflow/docs) y [Documentación de Apache Beam](https://beam.apache.org/documentation/)."
      ]
    },
    {
      "cell_type": "markdown",
      "metadata": {},
      "source": [
        "## 🔧 Requisitos Previos y Configuración Inicial\n",
        "\n",
        "### Antes de Comenzar\n",
        "- Usa un entorno real de **Google Cloud** con credenciales temporales.\n",
        "- No pauses el laboratorio una vez iniciado.\n",
        "- Usa la cuenta estudiantil proporcionada, no una cuenta personal.\n",
        "- Abre el navegador en modo incógnito para evitar conflictos.\n",
        "\n",
        "### Iniciar el Laboratorio\n",
        "1. Haz clic en **Start Lab** en la plataforma del laboratorio.\n",
        "2. Copia las credenciales temporales (**usuario** y **contraseña**).\n",
        "3. Haz clic en **Open Google Cloud Console**.\n",
        "4. Inicia sesión, acepta los términos y condiciones, y no configures recuperación ni autenticación en dos pasos.\n",
        "\n",
        "### Activar Cloud Shell\n",
        "**Cloud Shell** es una máquina virtual con herramientas preinstaladas para desarrolladores.\n",
        "\n",
        "#### Pasos\n",
        "1. Haz clic en **Activate Cloud Shell** en la consola.\n",
        "2. Acepta los permisos.\n",
        "\n",
        "#### Comandos Opcionales\n",
        "Verifica la cuenta y el proyecto activos, y configura la región (reemplaza `REGION` con un valor específico, ej. `us-central1`):\n"
      ]
    },
    {
      "cell_type": "code",
      "metadata": {},
      "source": "gcloud auth list\ngcloud config list project\ngcloud config set compute/region REGION",
      "execution_count": null,
      "outputs": []
    },
    {
      "cell_type": "markdown",
      "metadata": {},
      "source": [
        "💡 **Propósito**: Confirma el proyecto y la región, como verificar el libro contable y la sucursal antes de procesar transacciones.\n",
        "\n",
        "### Verificar la API de Dataflow\n",
        "1. Busca **Dataflow API** en la barra de búsqueda de la consola.\n",
        "2. Haz clic en **Manage**.\n",
        "3. Deshabilita y vuelve a habilitar la API.\n",
        "\n",
        "💡 **Propósito**: Asegura que el servicio esté activo, como validar un sistema contable antes de usarlo.\n",
        "\n",
        "💡 **Beneficio empresarial**: Garantiza que el pipeline funcione sin errores, optimizando procesos financieros.\n",
        "\n",
        "Para más información, consulta la [Documentación de Cloud Shell](https://cloud.google.com/shell/docs)."
      ]
    },
    {
      "cell_type": "markdown",
      "metadata": {},
      "source": [
        "## 📁 Tarea 1: Crear un Bucket de Cloud Storage\n",
        "\n",
        "### Pasos\n",
        "1. Ve a **Cloud Storage > Buckets** en el menú de navegación.\n",
        "2. Haz clic en **Create bucket**.\n",
        "3. Configura:\n",
        "   - **Name**: Un nombre único (ej. `nombre-bucket`).\n",
        "   - **Location type**: Multi-region.\n",
        "   - **Location**: `us`.\n",
        "4. Confirma la prevención de acceso público.\n",
        "\n",
        "### Comando Equivalente\n",
        "Crea el bucket desde **Cloud Shell** (reemplaza `nombre-bucket` con un nombre único):\n"
      ]
    },
    {
      "cell_type": "code",
      "metadata": {},
      "source": "gsutil mb gs://nombre-bucket/",
      "execution_count": null,
      "outputs": []
    },
    {
      "cell_type": "markdown",
      "metadata": {},
      "source": [
        "💡 **Propósito**: El bucket almacena resultados del pipeline, como una carpeta temporal para documentos financieros antes de procesarlos.\n",
        "\n",
        "💡 **Beneficio empresarial**: Proporciona almacenamiento escalable y seguro para datos intermedios.\n",
        "\n",
        "Para más información, consulta la [Documentación de Cloud Storage](https://cloud.google.com/storage/docs)."
      ]
    },
    {
      "cell_type": "markdown",
      "metadata": {},
      "source": [
        "## 🛠️ Tarea 2: Instalar Apache Beam SDK para Python\n",
        "\n",
        "### Paso 1: Ejecutar Python 3.9 desde Docker\n",
        "Inicia un contenedor con Python 3.9:\n"
      ]
    },
    {
      "cell_type": "code",
      "metadata": {},
      "source": "docker run -it -e DEVSHELL_PROJECT_ID=$DEVSHELL_PROJECT_ID python:3.9 /bin/bash",
      "execution_count": null,
      "outputs": []
    },
    {
      "cell_type": "markdown",
      "metadata": {},
      "source": [
        "💡 **Propósito**: Crea un entorno aislado con Python 3.9, como configurar un software contable específico para un proyecto.\n",
        "\n",
        "### Paso 2: Instalar Apache Beam\n",
        "Instala el SDK con soporte para Google Cloud:\n"
      ]
    },
    {
      "cell_type": "code",
      "metadata": {},
      "source": "pip install 'apache-beam[gcp]'==2.42.0",
      "execution_count": null,
      "outputs": []
    },
    {
      "cell_type": "markdown",
      "metadata": {},
      "source": [
        "💡 **Propósito**: Prepara el entorno para desarrollar pipelines, como instalar un módulo de análisis financiero.\n",
        "\n",
        "### Paso 3: Ejecutar Ejemplo Localmente\n",
        "Prueba el ejemplo `wordcount` (reemplaza `OUTPUT_FILE` con un nombre, ej. `output.txt`):\n"
      ]
    },
    {
      "cell_type": "code",
      "metadata": {},
      "source": "python -m apache_beam.examples.wordcount --output OUTPUT_FILE",
      "execution_count": null,
      "outputs": []
    },
    {
      "cell_type": "markdown",
      "metadata": {},
      "source": [
        "Verifica los resultados:\n"
      ]
    },
    {
      "cell_type": "code",
      "metadata": {},
      "source": "ls\ncat OUTPUT_FILE",
      "execution_count": null,
      "outputs": []
    },
    {
      "cell_type": "markdown",
      "metadata": {},
      "source": [
        "💡 **Propósito**: Ejecuta un pipeline localmente para contar palabras, como probar un sistema contable con datos de muestra.\n",
        "\n",
        "💡 **Analogía contable**: Similar a contar transacciones por categoría (ej. ingresos por producto) antes de procesarlas a gran escala.\n",
        "\n",
        "💡 **Beneficio empresarial**: Valida el entorno antes de ejecutar pipelines complejos, asegurando precisión en análisis financieros."
      ]
    },
    {
      "cell_type": "markdown",
      "metadata": {},
      "source": [
        "## 🔄 Tarea 3: Ejecutar la Canalización de Dataflow Remotamente\n",
        "\n",
        "### Paso 1: Definir Variable BUCKET\n",
        "Configura la variable del bucket (reemplaza `nombre-del-bucket` con el nombre creado):\n"
      ]
    },
    {
      "cell_type": "code",
      "metadata": {},
      "source": "BUCKET=gs://nombre-del-bucket",
      "execution_count": null,
      "outputs": []
    },
    {
      "cell_type": "markdown",
      "metadata": {},
      "source": [
        "💡 **Propósito**: Define la ubicación del bucket, como especificar la carpeta donde se guardarán los reportes financieros.\n",
        "\n",
        "### Paso 2: Ejecutar el Pipeline\n",
        "Ejecuta el pipeline `wordcount` en **Dataflow** (reemplaza `REGION` con un valor, ej. `us-central1`):\n"
      ]
    },
    {
      "cell_type": "code",
      "metadata": {},
      "source": "python -m apache_beam.examples.wordcount --project $DEVSHELL_PROJECT_ID \\\n  --runner DataflowRunner \\\n  --staging_location $BUCKET/staging \\\n  --temp_location $BUCKET/temp \\\n  --output $BUCKET/results/output \\\n  --region REGION",
      "execution_count": null,
      "outputs": []
    },
    {
      "cell_type": "markdown",
      "metadata": {},
      "source": [
        "| Parámetro | Función |\n",
        "|-----------|---------|\n",
        "| `--project` | ID del proyecto activo. |\n",
        "| `--runner DataflowRunner` | Ejecuta el pipeline en **Dataflow**. |\n",
        "| `--staging_location` | Carpeta temporal para archivos del entorno. |\n",
        "| `--temp_location` | Almacena archivos temporales del proceso. |\n",
        "| `--output` | Directorio para resultados. |\n",
        "| `--region` | Región de ejecución. |\n",
        "\n",
        "💡 **Propósito**: Ejecuta el pipeline remotamente, procesando datos a gran escala, como consolidar transacciones de múltiples sucursales.\n",
        "\n",
        "💡 **Analogía contable**: Como configurar un sistema automático para procesar y resumir miles de registros financieros en la nube.\n",
        "\n",
        "💡 **Beneficio empresarial**: Automatiza el análisis de datos, reduciendo tiempo y costos en reportes financieros.\n",
        "\n",
        "Espera el mensaje: **“JOB_MESSAGE_DETAILED: Workers have started successfully.”**"
      ]
    },
    {
      "cell_type": "markdown",
      "metadata": {},
      "source": [
        "## 🔍 Tarea 4: Verificar el Éxito del Job\n",
        "\n",
        "### Pasos\n",
        "1. Ve a **Dataflow** en el menú de navegación.\n",
        "2. Busca el job `wordcount`.\n",
        "3. Verifica que el estado sea **Succeeded**.\n",
        "4. Ve a **Cloud Storage > Buckets**.\n",
        "5. Abre el bucket y revisa las carpetas `results` y `staging`.\n",
        "6. Abre un archivo en `results` para ver el conteo de palabras.\n",
        "\n",
        "💡 **Propósito**: Confirma que el pipeline procesó los datos correctamente, como revisar un informe financiero para validar su precisión.\n",
        "\n",
        "💡 **Beneficio empresarial**: Garantiza resultados confiables para análisis financieros o auditorías."
      ]
    },
    {
      "cell_type": "markdown",
      "metadata": {},
      "source": [
        "## ✅ Tarea 5: Pregunta de Verificación\n",
        "\n",
        "**Pregunta**: La ubicación temporal de **Dataflow** (`temp_location`) debe ser una URL válida de **Cloud Storage**.\n",
        "- ✅ **Verdadero**\n",
        "\n",
        "💡 **Contexto empresarial**: Esto asegura que los datos intermedios se almacenen correctamente, como guardar documentos temporales en un archivador seguro."
      ]
    },
    {
      "cell_type": "markdown",
      "metadata": {},
      "source": [
        "## 📋 Cuadro Resumen Final\n",
        "\n",
        "| Elemento | Descripción |\n",
        "|----------|-------------|\n",
        "| **Producto principal** | Dataflow + Apache Beam |\n",
        "| **Lenguaje usado** | Python |\n",
        "| **Objetivo** | Crear y ejecutar un pipeline de procesamiento de datos |\n",
        "| **Almacenamiento** | Google Cloud Storage (bucket) |\n",
        "| **Entorno** | Cloud Shell + contenedor Docker con Python 3.9 |\n",
        "| **Herramientas** | gcloud, docker, pip, Apache Beam SDK |\n",
        "| **Ejecución** | Local (DirectRunner) y Remota (DataflowRunner) |\n",
        "| **Resultado** | Archivo con conteo de palabras |\n",
        "\n",
        "💡 **Conclusión empresarial**: Este laboratorio automatiza el procesamiento de datos, como consolidar transacciones financieras, optimizando eficiencia y costos."
      ]
    },
    {
      "cell_type": "markdown",
      "metadata": {},
      "source": [
        "## 🚀 Conclusión\n",
        "\n",
        "Este laboratorio te permitió:\n",
        "1. Crear un **bucket** en **Cloud Storage**.\n",
        "2. Instalar **Apache Beam SDK** en un entorno Docker.\n",
        "3. Ejecutar un pipeline de **Dataflow** remotamente.\n",
        "4. Verificar los resultados en **Cloud Storage**.\n",
        "\n",
        "💡 **Beneficio empresarial**: Automatiza procesos ETL para datos financieros, como procesar registros de ventas en tiempo real, reduciendo errores y acelerando reportes.\n",
        "\n",
        "Para más información, consulta la [Documentación de Dataflow](https://cloud.google.com/dataflow/docs), [Documentación de Apache Beam](https://beam.apache.org/documentation/), y [Documentación de Cloud Storage](https://cloud.google.com/storage/docs)."
      ]
    }
  ],
  "metadata": {
    "kernelspec": {
      "display_name": "Bash",
      "language": "bash",
      "name": "bash"
    },
    "language_info": {
      "name": "bash"
    }
  },
  "nbformat": 4,
  "nbformat_minor": 5
}