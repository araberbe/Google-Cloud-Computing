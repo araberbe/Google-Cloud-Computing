{
 "cells": [
  {
   "cell_type": "markdown",
   "metadata": {},
   "source": [
    "# 📌 Laboratorio 2: Introducción a Cloud Shell y gcloud\n",
    "\n",
    "Este laboratorio te guiará paso a paso para interactuar con **Google Cloud Platform (GCP)** utilizando **Cloud Shell** y la herramienta de línea de comandos **gcloud**. Desde una perspectiva empresarial, aprender a usar estas herramientas es clave para gestionar recursos en la nube de manera eficiente, lo que puede optimizar procesos como la contabilidad, la gestión de datos y la toma de decisiones estratégicas. 🚀\n",
    "\n",
    "**Objetivo principal**: Configurar un entorno en la nube, crear una máquina virtual, gestionar reglas de firewall y visualizar registros del sistema, todo ello utilizando comandos **gcloud**.\n",
    "\n",
    "**Beneficios para tu contexto empresarial**:\n",
    "- **Ahorro de tiempo**: Automatiza tareas técnicas repetitivas.\n",
    "- **Escalabilidad**: Gestiona recursos en la nube según las necesidades de tu negocio.\n",
    "- **Seguridad**: Configura permisos y firewalls para proteger datos sensibles, como información contable.\n",
    "\n",
    "## 📚 Conceptos clave\n",
    "- **Cloud Shell**: Es una terminal en la nube que te permite interactuar con los recursos de Google Cloud sin instalar software localmente.\n",
    "- **gcloud**: Herramienta de línea de comandos preinstalada en Cloud Shell, ideal para gestionar proyectos, máquinas virtuales y configuraciones.\n",
    "- **Regiones y zonas**: Los recursos en Google Cloud se alojan en ubicaciones geográficas específicas, lo que afecta su disponibilidad y latencia.\n",
    "\n",
    "Para más información, consulta la [Documentación oficial de Google Cloud](https://cloud.google.com/docs)."
   ]
  },
  {
   "cell_type": "markdown",
   "metadata": {},
   "source": [
    "## 🚀 Tarea 1: Activar y Configurar Cloud Shell\n",
    "\n",
    "**Cloud Shell** es una herramienta poderosa que proporciona un entorno de línea de comandos directamente en tu navegador. Desde un punto de vista empresarial, esto significa que puedes gestionar recursos en la nube sin necesidad de infraestructura local, lo que reduce costos y facilita el acceso desde cualquier lugar.\n",
    "\n",
    "### Pasos para activar Cloud Shell:\n",
    "1. En la consola de Google Cloud, haz clic en el ícono de **Activar Cloud Shell** ubicado en la parte superior.\n",
    "2. Avanza por las ventanas de bienvenida:\n",
    "   - Acepta la ventana de información de Cloud Shell.\n",
    "   - Autoriza el uso de tus credenciales para realizar llamadas a la API de Google Cloud.\n",
    "\n",
    "Una vez conectado, Cloud Shell autenticará tu cuenta y establecerá el **Project_ID** para la sesión. Verás un mensaje como:\n",
    "\n",
    "> Your Cloud Platform project in this session is set to \"PROJECT_ID\"\n",
    "\n",
    "### Comandos iniciales en Cloud Shell\n",
    "Para verificar la configuración básica de tu entorno, puedes ejecutar los siguientes comandos opcionales:\n",
    "\n",
    "#### Verificar la cuenta activa\n",
    "Este comando te muestra qué cuenta estás utilizando, lo cual es útil para confirmar que estás trabajando con las credenciales correctas."
   ]
  },
  {
   "cell_type": "code",
   "execution_count": null,
   "metadata": {},
   "outputs": [],
   "source": [
    "gcloud auth list"
   ]
  },
  {
   "cell_type": "markdown",
   "metadata": {},
   "source": [
    "#### Verificar el ID del proyecto\n",
    "Este comando muestra el **Project_ID** asociado a tu sesión, esencial para identificar el proyecto en el que estás trabajando."
   ]
  },
  {
   "cell_type": "code",
   "execution_count": null,
   "metadata": {},
   "outputs": [],
   "source": [
    "gcloud config list project"
   ]
  },
  {
   "cell_type": "markdown",
   "metadata": {},
   "source": [
    "**Nota**: Tu directorio `$HOME` en Cloud Shell es privado y persistente, lo que significa que puedes guardar archivos (como reportes contables o scripts) y acceder a ellos en futuras sesiones.\n",
    "\n",
    "Para más detalles, consulta la [Documentación de Cloud Shell](https://cloud.google.com/shell/docs)."
   ]
  },
  {
   "cell_type": "markdown",
   "metadata": {},
   "source": [
    "## 🛠️ Tarea 2: Configurar el Entorno\n",
    "\n",
    "En Google Cloud, los recursos como las máquinas virtuales se alojan en **regiones** (áreas geográficas amplias) y **zonas** (subdivisiones dentro de una región). Esto es importante para empresas que necesitan minimizar la latencia o cumplir con regulaciones locales de datos.\n",
    "\n",
    "### Regiones y Zonas\n",
    "Por ejemplo, la región **us-central1** (centro de EE.UU.) incluye zonas como **us-central1-a**, **us-central1-b**, etc. Los recursos **zonales** (como máquinas virtuales o discos persistentes) deben estar en la misma zona para conectarse, mientras que los recursos **regionales** (como direcciones IP estáticas) deben estar en la misma región.\n",
    "\n",
    "| Oeste de EE.UU. | EE.UU. central | Este de EE.UU. | Europa Occidental | Asia oriental |\n",
    "|-----------------|----------------|----------------|------------------|--------------|\n",
    "| us-west1-a      | us-central1-a  | us-east1-b     | europe-west1-b   | asia-east1-a |\n",
    "| us-west1-b      | us-central1-b  | us-east1-c     | europe-west1-c   | asia-east1-b |\n",
    "| -               | us-central1-c  | us-east1-d     | europe-west1-d   | asia-east1-c |\n",
    "| -               | us-central1-f  | -              | -                | -            |\n",
    "\n",
    "**Beneficio empresarial**: Elegir la región y zona correctas puede reducir costos operativos y mejorar el rendimiento de aplicaciones empresariales.\n",
    "\n",
    "### Configurar región y zona\n",
    "Establece la región y zona predeterminadas para tu proyecto con los siguientes comandos. Reemplaza `<REGION>` y `<ZONE>` con valores específicos (por ejemplo, `us-central1` y `us-central1-a`)."
   ]
  },
  {
   "cell_type": "code",
   "execution_count": null,
   "metadata": {},
   "outputs": [],
   "source": [
    "gcloud config set compute/region <REGION>\n",
    "gcloud config get-value compute/region\n",
    "gcloud config set compute/zone <ZONE>\n",
    "gcloud config get-value compute/zone"
   ]
  },
  {
   "cell_type": "markdown",
   "metadata": {},
   "source": [
    "**Explicación**:\n",
    "- `gcloud config set compute/region <REGION>`: Define la región predeterminada.\n",
    "- `gcloud config get-value compute/region`: Verifica la región configurada.\n",
    "- `gcloud config set compute/zone <ZONE>`: Define la zona predeterminada.\n",
    "- `gcloud config get-value compute/zone`: Verifica la zona configurada.\n",
    "\n",
    "Para más información, consulta la [Documentación de Regiones y Zonas](https://cloud.google.com/compute/docs/regions-zones/)."
   ]
  },
  {
   "cell_type": "markdown",
   "metadata": {},
   "source": [
    "## 🔍 Tarea 3: Encontrar la Información del Proyecto\n",
    "\n",
    "El **Project_ID** es un identificador único que distingue tu proyecto en Google Cloud. Es fundamental para rastrear recursos y costos, especialmente en contextos contables donde necesitas asignar gastos a proyectos específicos.\n",
    "\n",
    "### Pasos para encontrar el Project_ID\n",
    "1. En la consola de Google Cloud, navega a **Menú de navegación > Descripción general de Cloud > Panel** y copia el **Project_ID** desde la sección **Información del proyecto**.\n",
    "2. Alternativamente, verifica el **Project_ID** en la pestaña del laboratorio, cerca de tu nombre de usuario.\n",
    "\n",
    "### Comandos para obtener información del proyecto"
   ]
  },
  {
   "cell_type": "code",
   "execution_count": null,
   "metadata": {},
   "outputs": [],
   "source": [
    "gcloud config get-value project\n",
    "gcloud compute project-info describe --project $(gcloud config get-value project)"
   ]
  },
  {
   "cell_type": "markdown",
   "metadata": {},
   "source": [
    "**Explicación**:\n",
    "- `gcloud config get-value project`: Muestra el **Project_ID** actual.\n",
    "- `gcloud compute project-info describe`: Proporciona detalles del proyecto, incluyendo metadatos como la zona predeterminada (`google-compute-default-zone`).\n",
    "\n",
    "**Nota**: Guarda el valor de la zona obtenida, ya que lo usarás más adelante.\n",
    "\n",
    "Consulta la [Documentación de Compute Engine](https://cloud.google.com/compute/docs) para más detalles."
   ]
  },
  {
   "cell_type": "markdown",
   "metadata": {},
   "source": [
    "## ⚙️ Tarea 4: Configurar Variables de Entorno\n",
    "\n",
    "Las **variables de entorno** simplifican la ejecución de comandos repetitivos al almacenar valores clave, como el **Project_ID** o la **zona**. En un contexto empresarial, esto ahorra tiempo y reduce errores en la gestión de recursos.\n",
    "\n",
    "### Comandos para crear y verificar variables de entorno"
   ]
  },
  {
   "cell_type": "code",
   "execution_count": null,
   "metadata": {},
   "outputs": [],
   "source": [
    "export PROJECT_ID=$(gcloud config get-value project)\n",
    "export ZONE=$(gcloud config get-value compute/zone)\n",
    "echo -e \"PROJECT ID: $PROJECT_ID\\nZONE: $ZONE\""
   ]
  },
  {
   "cell_type": "markdown",
   "metadata": {},
   "source": [
    "**Explicación**:\n",
    "- `export PROJECT_ID=...`: Almacena el **Project_ID** en una variable.\n",
    "- `export ZONE=...`: Almacena la zona predeterminada en una variable.\n",
    "- `echo -e ...`: Muestra los valores de las variables para verificar que se configuraron correctamente.\n",
    "\n",
    "**Beneficio empresarial**: Estas variables agilizan la automatización de procesos, como la generación de reportes o la configuración de recursos para auditorías.\n",
    "\n",
    "Consulta la [Documentación de Google Cloud SDK](https://cloud.google.com/sdk/docs) para más información."
   ]
  },
  {
   "cell_type": "markdown",
   "metadata": {},
   "source": [
    "## 💻 Tarea 5: Crear una Máquina Virtual con gcloud\n",
    "\n",
    "Crear una **máquina virtual (VM)** te permite ejecutar aplicaciones o servicios en la nube. Desde una perspectiva empresarial, las VMs son ideales para alojar sistemas contables, bases de datos o herramientas de análisis.\n",
    "\n",
    "### Comando para crear una máquina virtual"
   ]
  },
  {
   "cell_type": "code",
   "execution_count": null,
   "metadata": {},
   "outputs": [],
   "source": [
    "gcloud compute instances create gcelab2 --machine-type e2-medium --zone $ZONE"
   ]
  },
  {
   "cell_type": "markdown",
   "metadata": {},
   "source": [
    "**Explicación del comando**:\n",
    "- `gcloud compute instances create`: Crea una nueva máquina virtual.\n",
    "- `gcelab2`: Nombre de la VM.\n",
    "- `--machine-type e2-medium`: Especifica un tipo de máquina con recursos moderados, ideal para pruebas.\n",
    "- `--zone $ZONE`: Usa la zona almacenada en la variable de entorno.\n",
    "\n",
    "**Nota**: Si no especificas ciertos parámetros (como el tipo de máquina o la imagen del sistema operativo), se aplican valores predeterminados.\n",
    "\n",
    "Para explorar más opciones del comando, ejecuta:"
   ]
  },
  {
   "cell_type": "code",
   "execution_count": null,
   "metadata": {},
   "outputs": [],
   "source": [
    "gcloud compute instances create --help"
   ]
  },
  {
   "cell_type": "markdown",
   "metadata": {},
   "source": [
    "Consulta la [Documentación de Compute Engine](https://cloud.google.com/compute/docs/instances) para más detalles."
   ]
  },
  {
   "cell_type": "markdown",
   "metadata": {},
   "source": [
    "## 🔎 Tarea 6: Explorar Comandos de gcloud\n",
    "\n",
    "La herramienta **gcloud** ofrece una amplia gama de comandos para gestionar recursos. Puedes usar las banderas `--help` o `-h` para obtener información detallada.\n",
    "\n",
    "### Comandos para explorar la ayuda y configuraciones"
   ]
  },
  {
   "cell_type": "code",
   "execution_count": null,
   "metadata": {},
   "outputs": [],
   "source": [
    "gcloud -h\n",
    "gcloud config --help\n",
    "gcloud help config\n",
    "gcloud config list\n",
    "gcloud config list --all\n",
    "gcloud components list"
   ]
  },
  {
   "cell_type": "markdown",
   "metadata": {},
   "source": [
    "**Explicación**:\n",
    "- `gcloud -h`: Muestra una ayuda breve.\n",
    "- `gcloud config --help` o `gcloud help config`: Proporcionan ayuda detallada sobre comandos de configuración.\n",
    "- `gcloud config list`: Lista los parámetros de configuración actuales.\n",
    "- `gcloud config list --all`: Muestra todas las propiedades y configuraciones.\n",
    "- `gcloud components list`: Enumera los componentes instalados del SDK.\n",
    "\n",
    "Consulta la [Documentación de gcloud](https://cloud.google.com/sdk/gcloud/reference) para más información."
   ]
  },
  {
   "cell_type": "markdown",
   "metadata": {},
   "source": [
    "## 📊 Tarea 7: Filtrar Resultados de la Línea de Comandos\n",
    "\n",
    "Filtrar los resultados de los comandos **gcloud** te permite obtener información específica, lo que es útil para auditorías o análisis de recursos en proyectos empresariales.\n",
    "\n",
    "### Comandos para listar y filtrar recursos"
   ]
  },
  {
   "cell_type": "code",
   "execution_count": null,
   "metadata": {},
   "outputs": [],
   "source": [
    "gcloud compute instances list\n",
    "gcloud compute instances list --filter=\"name=('gcelab2')\"\n",
    "gcloud compute firewall-rules list\n",
    "gcloud compute firewall-rules list --filter=\"network='default'\"\n",
    "gcloud compute firewall-rules list --filter=\"NETWORK:'default' AND ALLOW:'icmp'\""
   ]
  },
  {
   "cell_type": "markdown",
   "metadata": {},
   "source": [
    "**Explicación**:\n",
    "- `gcloud compute instances list`: Lista todas las máquinas virtuales del proyecto.\n",
    "- `--filter=\"name=('gcelab2')\"`: Muestra solo la VM llamada `gcelab2`.\n",
    "- `gcloud compute firewall-rules list`: Lista todas las reglas de firewall.\n",
    "- `--filter=\"network='default'\"`: Filtra las reglas de la red predeterminada.\n",
    "- `--filter=\"NETWORK:'default' AND ALLOW:'icmp'\"`: Filtra reglas que permiten tráfico ICMP en la red predeterminada.\n",
    "\n",
    "**Beneficio empresarial**: Los filtros te ayudan a identificar rápidamente los recursos relevantes, optimizando la gestión de proyectos.\n",
    "\n",
    "Consulta la [Documentación de Compute Engine](https://cloud.google.com/compute/docs) para más detalles."
   ]
  },
  {
   "cell_type": "markdown",
   "metadata": {},
   "source": [
    "## 🔗 Tarea 8: Conectarse a la Máquina Virtual\n",
    "\n",
    "Conectar una máquina virtual mediante **SSH** te permite administrarla directamente. Esto es útil para instalar aplicaciones o configurar servicios empresariales.\n",
    "\n",
    "### Comandos para conectar e instalar nginx"
   ]
  },
  {
   "cell_type": "code",
   "execution_count": null,
   "metadata": {},
   "outputs": [],
   "source": [
    "gcloud compute ssh gcelab2 --zone $ZONE\n",
    "sudo apt install -y nginx\n",
    "exit"
   ]
  },
  {
   "cell_type": "markdown",
   "metadata": {},
   "source": [
    "**Explicación del proceso**:\n",
    "1. `gcloud compute ssh gcelab2 --zone $ZONE`: Conecta a la VM `gcelab2` mediante SSH.\n",
    "2. Responde `Y` para continuar y presiona **Intro** dos veces para dejar la frase de contraseña vacía.\n",
    "3. `sudo apt install -y nginx`: Instala el servidor web **nginx** en la VM.\n",
    "4. `exit`: Cierra la conexión SSH.\n",
    "\n",
    "**Nota**: Al conectarte, el símbolo del sistema cambia (por ejemplo, `sa_107021519685252337470@gcelab2`), indicando la cuenta y la máquina a la que estás conectado.\n",
    "\n",
    "Consulta la [Documentación de Compute Engine](https://cloud.google.com/compute/docs/instances/connecting-to-instance) para más información."
   ]
  },
  {
   "cell_type": "markdown",
   "metadata": {},
   "source": [
    "## 🛡️ Tarea 9: Actualizar el Firewall\n",
    "\n",
    "Las **reglas de firewall** controlan el tráfico hacia tus recursos en la nube. Configurarlas correctamente es crucial para proteger datos sensibles, como información contable.\n",
    "\n",
    "### Comandos para gestionar reglas de firewall"
   ]
  },
  {
   "cell_type": "code",
   "execution_count": null,
   "metadata": {},
   "outputs": [],
   "source": [
    "gcloud compute firewall-rules list\n",
    "gcloud compute instances add-tags gcelab2 --tags http-server,https-server\n",
    "gcloud compute firewall-rules create default-allow-http --direction=INGRESS --priority=1000 --network=default --action=ALLOW --rules=tcp:80 --source-ranges=0.0.0.0/0 --target-tags=http-server\n",
    "gcloud compute firewall-rules list --filter=ALLOW:'80'\n",
    "curl http://$(gcloud compute instances list --filter=name:gcelab2 --format='value(EXTERNAL_IP)')"
   ]
  },
  {
   "cell_type": "markdown",
   "metadata": {},
   "source": [
    "**Explicación**:\n",
    "- `gcloud compute firewall-rules list`: Lista todas las reglas de firewall.\n",
    "- `gcloud compute instances add-tags`: Agrega etiquetas (`http-server`, `https-server`) a la VM para identificarla.\n",
    "- `gcloud compute firewall-rules create`: Crea una regla que permite tráfico HTTP (puerto `tcp:80`) desde cualquier IP (`0.0.0.0/0`).\n",
    "- `curl http://...`: Verifica que el servidor **nginx** es accesible a través de HTTP.\n",
    "\n",
    "**Beneficio empresarial**: Configurar reglas de firewall asegura que solo el tráfico autorizado acceda a tus recursos, protegiendo datos críticos.\n",
    "\n",
    "Consulta la [Documentación de Firewall](https://cloud.google.com/vpc/docs/firewalls) para más detalles."
   ]
  },
  {
   "cell_type": "markdown",
   "metadata": {},
   "source": [
    "## 📜 Tarea 10: Visualizar Registros del Sistema\n",
    "\n",
    "Los **registros del sistema** (logs) son esenciales para auditar y monitorear el uso de recursos, lo que es clave para cumplir con regulaciones contables y detectar anomalías.\n",
    "\n",
    "### Comandos para visualizar registros"
   ]
  },
  {
   "cell_type": "code",
   "execution_count": null,
   "metadata": {},
   "outputs": [],
   "source": [
    "gcloud logging logs list\n",
    "gcloud logging logs list --filter=\"compute\"\n",
    "gcloud logging read \"resource.type=gce_instance\" --limit 5\n",
    "gcloud logging read \"resource.type=gce_instance AND labels.instance_name='gcelab2'\" --limit 5"
   ]
  },
  {
   "cell_type": "markdown",
   "metadata": {},
   "source": [
    "**Explicación**:\n",
    "- `gcloud logging logs list`: Muestra todos los registros disponibles.\n",
    "- `--filter=\"compute\"`: Filtra registros relacionados con recursos de procesamiento.\n",
    "- `gcloud logging read \"resource.type=gce_instance\" --limit 5`: Muestra los últimos 5 registros de instancias de máquinas virtuales.\n",
    "- `labels.instance_name='gcelab2'`: Filtra registros específicos de la VM `gcelab2`.\n",
    "\n",
    "**Beneficio empresarial**: Los registros permiten rastrear actividades para auditorías y optimizar el uso de recursos.\n",
    "\n",
    "Consulta la [Documentación de Cloud Logging](https://cloud.google.com/logging/docs) para más información."
   ]
  },
  {
   "cell_type": "markdown",
   "metadata": {},
   "source": [
    "## 🧠 Tarea 11: Pon a Prueba tus Conocimientos\n",
    "\n",
    "**Pregunta**: ¿Cuáles son las tres formas básicas de interactuar con los servicios y recursos de Google Cloud?\n",
    "\n",
    "**Respuesta**:\n",
    "1. **Command-line interface (CLI)**: Usando herramientas como **gcloud** para gestionar recursos desde la terminal.\n",
    "2. **Client libraries**: Bibliotecas de programación para integrar aplicaciones con Google Cloud.\n",
    "3. **Cloud Console**: Interfaz gráfica en el navegador para administrar recursos.\n",
    "\n",
    "**Beneficio empresarial**: Estas opciones ofrecen flexibilidad para que diferentes equipos (técnicos, contables, gerenciales) interactúen con la nube según sus necesidades.\n",
    "\n",
    "Consulta la [Documentación de Google Cloud](https://cloud.google.com/docs) para más información."
   ]
  }
 ],
 "metadata": {
  "kernelspec": {
   "display_name": "Python 3 (ipykernel)",
   "language": "python",
   "name": "python3"
  },
  "language_info": {
   "codemirror_mode": {
    "name": "ipython",
    "version": 3
   },
   "file_extension": ".py",
   "mimetype": "text/x-python",
   "name": "python",
   "nbconvert_exporter": "python",
   "pygments_lexer": "ipython3",
   "version": "3.9.21"
  }
 },
 "nbformat": 4,
 "nbformat_minor": 4
}
