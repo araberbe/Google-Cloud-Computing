{
 "cells": [
  {
   "cell_type": "markdown",
   "id": "7ac617fd",
   "metadata": {},
   "source": [
    "# 🌐 Redes VPC – Control de Acceso \n",
    "\n",
    "En este laboratorio, aprenderás a configurar y controlar el acceso a servidores web en Google Cloud utilizando redes **VPC (Virtual Private Cloud)**, reglas de firewall con etiquetas y permisos **IAM (Identity and Access Management)**. Este enfoque es fundamental para proteger aplicaciones que manejan datos sensibles, como registros financieros o información de clientes, asegurando que solo los usuarios o sistemas autorizados puedan acceder a ellos.\n",
    "\n",
    "💡 **Beneficio empresarial**: Implementar redes VPC y políticas de acceso basadas en el principio de menor privilegio permite a las empresas proteger datos contables críticos, garantizar la disponibilidad de servicios y cumplir con normativas de seguridad, todo mientras optimizan costos al evitar accesos innecesarios.\n",
    "\n",
    "Para más información sobre redes VPC y IAM, consulta la [Documentación oficial de Google Cloud VPC](https://cloud.google.com/vpc/docs) y la [Documentación de Google Cloud IAM](https://cloud.google.com/iam/docs).\n",
    "\n",
    "## 🎯 Objetivos del laboratorio\n",
    "- Crear servidores web con **Nginx** en máquinas virtuales (VMs).\n",
    "- Definir reglas de firewall etiquetadas para controlar el tráfico HTTP.\n",
    "- Crear una cuenta de servicio con roles **IAM** específicos.\n",
    "- Explorar las diferencias entre los roles **Network Admin** y **Security Admin**.\n",
    "\n",
    "📊 **Concepto clave**: **Principio de menor privilegio**. Cada recurso en la nube debe tener solo los permisos necesarios para su función, similar a cómo en una empresa contable solo ciertos empleados pueden modificar registros financieros."
   ]
  },
  {
   "cell_type": "markdown",
   "id": "29240c34",
   "metadata": {},
   "source": [
    "## 🧩 Tarea 1: Crear los servidores web\n",
    "\n",
    "En esta tarea, crearás dos servidores web en máquinas virtuales (**blue** y **green**) con **Nginx** y configurarás una etiqueta de red en una de ellas para controlar el acceso.\n",
    "\n",
    "### Paso 1: Crear el servidor blue con etiqueta de red\n",
    "\n",
    "1. En **Google Cloud Console**, ve a **Compute Engine** > **VM instances**.\n",
    "2. Haz clic en **Create Instance**.\n",
    "3. Configura:\n",
    "   - **Name**: `blue`\n",
    "   - **Region**: Usa la región disponible (por ejemplo, `us-central1`).\n",
    "   - **Zone**: Selecciona una zona dentro de la región (por ejemplo, `us-central1-a`).\n",
    "4. En **Networking**, agrega la etiqueta de red:\n",
    "   - **Network tags**: `web-server`\n",
    "5. Haz clic en **Create**.\n",
    "\n",
    "**Explicación**:\n",
    "- La etiqueta `web-server` permite aplicar reglas de firewall específicas solo a esta VM, controlando qué tráfico puede llegar a ella.\n",
    "\n",
    "💡 **Contexto empresarial**: La etiqueta de red es como un sello en un libro contable que indica que solo ciertos auditores pueden revisarlo, garantizando un acceso controlado."
   ]
  },
  {
   "cell_type": "markdown",
   "id": "d5e40d7f",
   "metadata": {},
   "source": [
    "### Paso 2: Crear el servidor green sin etiqueta\n",
    "\n",
    "1. En **VM instances**, haz clic en **Create Instance**.\n",
    "2. Configura:\n",
    "   - **Name**: `green`\n",
    "   - **Region** y **Zone**: Usa la misma región y zona que para `blue`.\n",
    "   - No agregues ninguna etiqueta de red.\n",
    "3. Haz clic en **Create**.\n",
    "\n",
    "**Explicación**:\n",
    "- Al no tener una etiqueta de red, esta VM no estará sujeta a las reglas de firewall asociadas con la etiqueta `web-server`."
   ]
  },
  {
   "cell_type": "markdown",
   "id": "7b33b22a",
   "metadata": {},
   "source": [
    "### Paso 3: Instalar Nginx y personalizar la página de bienvenida\n",
    "\n",
    "#### En la VM blue\n",
    "\n",
    "1. En **VM instances**, haz clic en **SSH** junto a `blue` para abrir una terminal.\n",
    "2. Instala **Nginx**:"
   ]
  },
  {
   "cell_type": "code",
   "execution_count": null,
   "id": "fdbbc3b1",
   "metadata": {},
   "outputs": [],
   "source": [
    "sudo apt-get install nginx-light -y"
   ]
  },
  {
   "cell_type": "markdown",
   "id": "1ee1e5d6",
   "metadata": {},
   "source": [
    "**Explicación del comando**:\n",
    "- `sudo`: Ejecuta el comando con privilegios de administrador.\n",
    "- `apt-get install nginx-light`: Instala una versión ligera del servidor web **Nginx**.\n",
    "- `-y`: Acepta automáticamente la instalación."
   ]
  },
  {
   "cell_type": "markdown",
   "id": "e8feab6a",
   "metadata": {},
   "source": [
    "3. Edita la página principal de **Nginx**:"
   ]
  },
  {
   "cell_type": "code",
   "execution_count": null,
   "id": "37a9d141",
   "metadata": {},
   "outputs": [],
   "source": [
    "sudo nano /var/www/html/index.nginx-debian.html"
   ]
  },
  {
   "cell_type": "markdown",
   "id": "68cda569",
   "metadata": {},
   "source": [
    "4. Cambia la línea:\n",
    "```html\n",
    "<h1>Welcome to nginx!</h1>\n",
    "```\n",
    "por:\n",
    "```html\n",
    "<h1>Welcome to the blue server!</h1>\n",
    "```\n",
    "5. Guarda los cambios:\n",
    "   - Presiona **CTRL + O**, luego **Enter** para guardar.\n",
    "   - Presiona **CTRL + X** para salir.\n",
    "6. Verifica el contenido:"
   ]
  },
  {
   "cell_type": "code",
   "execution_count": null,
   "id": "f7fc056d",
   "metadata": {},
   "outputs": [],
   "source": [
    "cat /var/www/html/index.nginx-debian.html"
   ]
  },
  {
   "cell_type": "markdown",
   "id": "9722d149",
   "metadata": {},
   "source": [
    "7. Cierra la sesión:"
   ]
  },
  {
   "cell_type": "code",
   "execution_count": null,
   "id": "1be9af3f",
   "metadata": {},
   "outputs": [],
   "source": [
    "exit"
   ]
  },
  {
   "cell_type": "markdown",
   "id": "95624862",
   "metadata": {},
   "source": [
    "#### En la VM green\n",
    "\n",
    "Repite los pasos anteriores, pero cambia el mensaje a:\n",
    "```html\n",
    "<h1>Welcome to the green server!</h1>\n",
    "```\n",
    "\n",
    "**Explicación**:\n",
    "- Personalizar las páginas de bienvenida permite identificar qué servidor responde a las solicitudes HTTP.\n",
    "\n",
    "💡 **Contexto empresarial**: Configurar servidores web diferenciados es como etiquetar documentos financieros para identificar claramente su origen, facilitando auditorías y seguimiento."
   ]
  },
  {
   "cell_type": "markdown",
   "id": "00852517",
   "metadata": {},
   "source": [
    "## 🛡️ Tarea 2: Crear la regla de firewall\n",
    "\n",
    "En esta tarea, crearás una regla de firewall etiquetada para permitir tráfico HTTP solo a las VMs con la etiqueta `web-server`.\n",
    "\n",
    "### Paso 1: Crear la regla de firewall allow-http-web-server\n",
    "\n",
    "1. En **Google Cloud Console**, ve a **VPC network** > **Firewall**.\n",
    "2. Haz clic en **Create Firewall Rule**.\n",
    "3. Configura:\n",
    "   - **Name**: `allow-http-web-server`\n",
    "   - **Network**: `default`\n",
    "   - **Targets**: **Specified target tags**\n",
    "   - **Target tags**: `web-server`\n",
    "   - **Source filter**: **IPv4 Ranges**\n",
    "   - **Source IPv4 ranges**: `0.0.0.0/0` (permite todas las redes)\n",
    "   - **Protocols and ports**: `tcp:80, icmp`\n",
    "4. Haz clic en **Create**.\n",
    "\n",
    "**Explicación**:\n",
    "- Esta regla permite tráfico HTTP (puerto 80) e **ICMP** (ping) solo a las VMs con la etiqueta `web-server`, como `blue`.\n",
    "- La VM `green`, sin la etiqueta, no será accesible externamente por HTTP.\n",
    "\n",
    "💡 **Contexto empresarial**: Esta regla es como permitir que solo ciertos documentos financieros (etiquetados) sean accesibles desde el exterior, protegiendo otros registros sensibles."
   ]
  },
  {
   "cell_type": "markdown",
   "id": "f0896aef",
   "metadata": {},
   "source": [
    "### Paso 2: Crear una máquina de prueba test-vm\n",
    "\n",
    "Ejecuta el siguiente comando en **Cloud Shell**:"
   ]
  },
  {
   "cell_type": "code",
   "execution_count": null,
   "id": "130c2f70",
   "metadata": {},
   "outputs": [],
   "source": [
    "gcloud compute instances create test-vm --machine-type=e2-micro --subnet=default --zone=ZONE"
   ]
  },
  {
   "cell_type": "markdown",
   "id": "f2c67b68",
   "metadata": {},
   "source": [
    "**Explicación del comando**:\n",
    "- `gcloud compute instances create`: Crea una nueva VM.\n",
    "- `test-vm`: Nombre de la instancia.\n",
    "- `--machine-type=e2-micro`: Tipo de VM económica.\n",
    "- `--subnet=default`: Conecta la VM a la subred por defecto.\n",
    "- `--zone=ZONE`: Especifica la zona (por ejemplo, `us-central1-a`).\n",
    "\n",
    "💡 **Contexto empresarial**: La VM `test-vm` es como una estación de auditoría que permite verificar el acceso a los sistemas financieros."
   ]
  },
  {
   "cell_type": "markdown",
   "id": "006ae38c",
   "metadata": {},
   "source": [
    "### Paso 3: Probar conectividad HTTP desde test-vm\n",
    "\n",
    "1. En **Compute Engine** > **VM instances**, copia las **IP internas** y **externas** de `blue` y `green`.\n",
    "2. Abre una terminal en `test-vm` haciendo clic en **SSH**.\n",
    "3. Ejecuta los siguientes comandos, reemplazando `IP-interna-blue`, `IP-interna-green`, `IP-externa-blue` y `IP-externa-green` con las direcciones correspondientes:"
   ]
  },
  {
   "cell_type": "code",
   "execution_count": null,
   "id": "bcfc64cd",
   "metadata": {},
   "outputs": [],
   "source": [
    "curl IP-interna-blue\n",
    "curl IP-interna-green\n",
    "curl IP-externa-blue\n",
    "curl IP-externa-green"
   ]
  },
  {
   "cell_type": "markdown",
   "id": "3c480342",
   "metadata": {},
   "source": [
    "**Resultados esperados**:\n",
    "- ✅ `curl IP-interna-blue`: Responde con `Welcome to the blue server!`.\n",
    "- ✅ `curl IP-interna-green`: Responde con `Welcome to the green server!`.\n",
    "- ✅ `curl IP-externa-blue`: Responde con `Welcome to the blue server!`.\n",
    "- ⛔ `curl IP-externa-green`: No responde, ya que la regla de firewall bloquea el tráfico HTTP externo a `green` (sin la etiqueta `web-server`).\n",
    "\n",
    "**Explicación**:\n",
    "- La regla de firewall permite tráfico HTTP externo solo a VMs con la etiqueta `web-server`, confirmando que el acceso está correctamente controlado.\n",
    "\n",
    "💡 **Contexto empresarial**: Esto asegura que solo los sistemas financieros autorizados (etiquetados) sean accesibles desde el exterior, protegiendo datos sensibles en sistemas no autorizados."
   ]
  },
  {
   "cell_type": "markdown",
   "id": "2bfe23f2",
   "metadata": {},
   "source": [
    "## 🔐 Tarea 3: Explorar los roles IAM (Network Admin y Security Admin)\n",
    "\n",
    "En esta tarea, explorarás cómo los roles **IAM** controlan los permisos para gestionar reglas de firewall, siguiendo el principio de menor privilegio.\n",
    "\n",
    "📊 **Analogía contable**: Los roles **IAM** son como los niveles de autorización en una empresa contable, donde algunos empleados pueden ver reportes, otros modificarlos y solo unos pocos crear nuevas estructuras.\n",
    "\n",
    "### Paso 1: Verificar permisos actuales en test-vm\n",
    "\n",
    "1. En la terminal **SSH** de `test-vm`, ejecuta:"
   ]
  },
  {
   "cell_type": "code",
   "execution_count": null,
   "id": "1d1e7490",
   "metadata": {},
   "outputs": [],
   "source": [
    "gcloud compute firewall-rules list"
   ]
  },
  {
   "cell_type": "markdown",
   "id": "b4018bc7",
   "metadata": {},
   "source": [
    "**Resultado esperado**:\n",
    "```\n",
    "ERROR: (gcloud.compute.firewall-rules.list) Some requests did not succeed:\n",
    " - Insufficient Permission\n",
    "```"
   ]
  },
  {
   "cell_type": "markdown",
   "id": "c8f5c149",
   "metadata": {},
   "source": [
    "2. Intenta eliminar la regla de firewall:"
   ]
  },
  {
   "cell_type": "code",
   "execution_count": null,
   "id": "898c855a",
   "metadata": {},
   "outputs": [],
   "source": [
    "gcloud compute firewall-rules delete allow-http-web-server"
   ]
  },
  {
   "cell_type": "markdown",
   "id": "d220f853",
   "metadata": {},
   "source": [
    "**Resultado esperado**:\n",
    "```\n",
    "ERROR: (gcloud.compute.firewall-rules.delete) Could not fetch resource:\n",
    " - Insufficient Permission\n",
    "```\n",
    "\n",
    "**Explicación**:\n",
    "- La cuenta de servicio predeterminada de `test-vm` no tiene permisos para ver ni eliminar reglas de firewall, demostrando el principio de menor privilegio."
   ]
  },
  {
   "cell_type": "markdown",
   "id": "ea53fa15",
   "metadata": {},
   "source": [
    "### Paso 2: Crear cuenta de servicio Network-admin\n",
    "\n",
    "1. En **Google Cloud Console**, ve a **IAM & Admin** > **Service Accounts**.\n",
    "2. Haz clic en **Create service account**.\n",
    "3. Configura:\n",
    "   - **Name**: `Network-admin`\n",
    "4. Haz clic en **Create and Continue**.\n",
    "5. Asigna el rol:\n",
    "   - **Compute Engine > Compute Network Admin**\n",
    "6. Haz clic en **Continue**, luego en **Done**.\n",
    "7. En la cuenta creada, haz clic en los 3 puntos > **Manage keys**.\n",
    "8. Crea una nueva clave:\n",
    "   - **Add Key** > **Create new key** > **JSON**.\n",
    "   - Descarga el archivo y renómbralo localmente como `credentials.json`.\n",
    "\n",
    "**Explicación**:\n",
    "- La cuenta de servicio `Network-admin` tiene permisos limitados para gestionar configuraciones de red, pero no para modificar reglas de firewall."
   ]
  },
  {
   "cell_type": "markdown",
   "id": "06e1d99b",
   "metadata": {},
   "source": [
    "### Paso 3: Autorizar test-vm con la cuenta de servicio\n",
    "\n",
    "1. En la terminal **SSH** de `test-vm`, sube el archivo `credentials.json` usando el ícono de subir archivo.\n",
    "2. Autoriza la cuenta de servicio:"
   ]
  },
  {
   "cell_type": "code",
   "execution_count": null,
   "id": "c663f59c",
   "metadata": {},
   "outputs": [],
   "source": [
    "gcloud auth activate-service-account --key-file credentials.json"
   ]
  },
  {
   "cell_type": "markdown",
   "id": "26e65638",
   "metadata": {},
   "source": [
    "3. Verifica si ahora puedes listar reglas de firewall:"
   ]
  },
  {
   "cell_type": "code",
   "execution_count": null,
   "id": "bbf06c05",
   "metadata": {},
   "outputs": [],
   "source": [
    "gcloud compute firewall-rules list"
   ]
  },
  {
   "cell_type": "markdown",
   "id": "66631a4f",
   "metadata": {},
   "source": [
    "**Resultado esperado**:\n",
    "- ✅ La lista de reglas de firewall debe mostrarse correctamente.\n",
    "\n",
    "4. Intenta eliminar la regla:"
   ]
  },
  {
   "cell_type": "code",
   "execution_count": null,
   "id": "1d800b62",
   "metadata": {},
   "outputs": [],
   "source": [
    "gcloud compute firewall-rules delete allow-http-web-server"
   ]
  },
  {
   "cell_type": "markdown",
   "id": "87b5b11c",
   "metadata": {},
   "source": [
    "**Resultado esperado**:\n",
    "```\n",
    "ERROR: Required 'compute.firewall.delete' permission...\n",
    "```\n",
    "\n",
    "**Explicación**:\n",
    "- La cuenta `Network-admin` puede ver reglas de firewall (permiso `compute.firewall.get`), pero no eliminarlas, ya que requiere el permiso `compute.firewall.delete`.\n",
    "\n",
    "💡 **Contexto empresarial**: Esto es como permitir que un contador vea los registros financieros, pero no pueda modificarlos, asegurando un control estricto sobre las operaciones críticas."
   ]
  },
  {
   "cell_type": "markdown",
   "id": "0ad4659c",
   "metadata": {},
   "source": [
    "### Paso 4: Actualizar rol a Security Admin\n",
    "\n",
    "1. En **Google Cloud Console**, ve a **IAM & Admin** > **IAM**.\n",
    "2. Busca la cuenta `Network-admin` y haz clic en el ícono de edición (✏️).\n",
    "3. Cambia el rol a **Compute Engine > Compute Security Admin**.\n",
    "4. Guarda los cambios.\n",
    "5. En la terminal de `test-vm`, prueba nuevamente:"
   ]
  },
  {
   "cell_type": "code",
   "execution_count": null,
   "id": "4b9cf71c",
   "metadata": {},
   "outputs": [],
   "source": [
    "gcloud compute firewall-rules list"
   ]
  },
  {
   "cell_type": "code",
   "execution_count": null,
   "id": "49dafea2",
   "metadata": {},
   "outputs": [],
   "source": [
    "gcloud compute firewall-rules delete allow-http-web-server"
   ]
  },
  {
   "cell_type": "markdown",
   "id": "4bcf3fd6",
   "metadata": {},
   "source": [
    "**Resultados esperados**:\n",
    "- ✅ `gcloud compute firewall-rules list`: Muestra la lista de reglas.\n",
    "- ✅ `gcloud compute firewall-rules delete allow-http-web-server`: Elimina la regla correctamente.\n",
    "\n",
    "**Explicación**:\n",
    "- El rol **Compute Security Admin** otorga permisos adicionales, como `compute.firewall.delete`, permitiendo modificar reglas de firewall."
   ]
  },
  {
   "cell_type": "markdown",
   "id": "cf226ddf",
   "metadata": {},
   "source": [
    "### Paso 5: Verificar efecto de eliminar la regla\n",
    "\n",
    "1. En la terminal de `test-vm`, ejecuta:"
   ]
  },
  {
   "cell_type": "code",
   "execution_count": null,
   "id": "f3c3a48f",
   "metadata": {},
   "outputs": [],
   "source": [
    "curl IP-externa-blue"
   ]
  },
  {
   "cell_type": "markdown",
   "id": "9cb37913",
   "metadata": {},
   "source": [
    "**Resultado esperado**:\n",
    "- ❌ El acceso no funciona, ya que la regla `allow-http-web-server` fue eliminada, bloqueando el tráfico HTTP externo.\n",
    "\n",
    "**Explicación**:\n",
    "- Esto demuestra cómo las reglas de firewall controlan el acceso externo, incluso si el servidor web sigue activo.\n",
    "\n",
    "💡 **Contexto empresarial**: Eliminar la regla es como cerrar el acceso público a un sistema contable, asegurando que los datos financieros solo sean accesibles internamente o con nuevas autorizaciones."
   ]
  },
  {
   "cell_type": "markdown",
   "id": "71b39fe5",
   "metadata": {},
   "source": [
    "## 📎 Apéndice: Desglose detallado de comandos\n",
    "\n",
    "| **Comando** | **Descripción** | **Uso en contexto contable** |\n",
    "|-------------|-----------------|-----------------------------|\n",
    "| `sudo apt-get install nginx-light -y` | Instala el servidor web Nginx | Configura un sistema para mostrar reportes financieros en línea |\n",
    "| `sudo nano /var/www/html/index.nginx-debian.html` | Edita la página web por defecto | Personaliza un informe financiero para identificar su origen |\n",
    "| `cat /var/www/html/index.nginx-debian.html` | Muestra el contenido del archivo | Verifica un informe antes de su publicación |\n",
    "| `gcloud compute instances create` | Crea una VM | Configura una nueva estación de auditoría |\n",
    "| `curl` | Prueba la conectividad HTTP | Valida el acceso a un sistema contable en línea |\n",
    "| `gcloud compute firewall-rules list` | Lista las reglas de firewall | Revisa las políticas de acceso a datos financieros |\n",
    "| `gcloud compute firewall-rules delete` | Elimina una regla de firewall | Cierra el acceso público a un sistema financiero |\n",
    "| `gcloud auth activate-service-account` | Autoriza una cuenta de servicio | Habilita a un sistema automatizado para realizar auditorías |\n",
    "\n",
    "## 🚀 Resumen de conceptos\n",
    "\n",
    "| **Concepto** | **Explicación contable simplificada** |\n",
    "|--------------|--------------------------------------|\n",
    "| **VPC** | Departamento contable virtual con reglas específicas |\n",
    "| **Firewall tags** | Sellos que identifican qué sistemas financieros son accesibles externamente |\n",
    "| **IAM roles** | Niveles de autorización para empleados o sistemas automáticos |\n",
    "| **Principio de menor privilegio** | Solo otorgar permisos necesarios, como limitar quién puede modificar registros |\n",
    "| **Nginx** | Servidor web para mostrar reportes financieros en línea |\n",
    "\n",
    "💡 **Conclusión empresarial**: Configurar redes VPC, reglas de firewall etiquetadas y roles **IAM** permite a las empresas proteger datos financieros sensibles, controlar accesos y garantizar la disponibilidad de servicios críticos. Este enfoque basado en el principio de menor privilegio reduce riesgos de seguridad y facilita el cumplimiento normativo, optimizando costos al evitar accesos innecesarios.\n",
    "\n",
    "Para más información, consulta la [Documentación de Google Cloud VPC](https://cloud.google.com/vpc/docs) y la [Documentación de Google Cloud IAM](https://cloud.google.com/iam/docs)."
   ]
  }
 ],
 "metadata": {
  "kernelspec": {
   "display_name": "Python 3 (ipykernel)",
   "language": "python",
   "name": "python3"
  },
  "language_info": {
   "codemirror_mode": {
    "name": "ipython",
    "version": 3
   },
   "file_extension": ".py",
   "mimetype": "text/x-python",
   "name": "python",
   "nbconvert_exporter": "python",
   "pygments_lexer": "ipython3",
   "version": "3.9.21"
  }
 },
 "nbformat": 4,
 "nbformat_minor": 5
}
