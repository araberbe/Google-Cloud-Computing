{
  "cells": [
    {
      "cell_type": "markdown",
      "metadata": {},
      "source": [
        "# 📌 Servicios Gestionados de Big Data en la Nube\n",
        "\n",
        "## 🌐 Introducción a Big Data\n",
        "**Big Data** se refiere al manejo de grandes volúmenes de datos que superan las capacidades de herramientas tradicionales. En la actualidad, las empresas han pasado de usar **terabytes (TB)** a **petabytes (PB)** como unidad estándar.\n",
        "\n",
        "### ¿Qué es un Petabyte?\n",
        "- **1 PB** = 1,000 TB = 1,000,000 GB.\n",
        "- **Ejemplos ilustrativos**:\n",
        "  - Equivale a una pila de disquetes más alta que 12 edificios Empire State.\n",
        "  - Descargarlo por 4G tomaría ~27 años.\n",
        "  - Almacena todos los tweets históricos multiplicados por 50.\n",
        "- **Perspectiva**:\n",
        "  - Solo guarda 2 microgramos de ADN.\n",
        "  - Equivale a un día de contenido subido a YouTube.\n",
        "\n",
        "💡 **Contexto empresarial**: En contabilidad, un petabyte puede almacenar millones de transacciones financieras, facturas y registros históricos, permitiendo análisis profundos para auditorías o proyecciones.\n",
        "\n",
        "### Importancia del Big Data\n",
        "- **Objetivo**: No solo almacenar datos, sino extraer información útil para mejorar operaciones.\n",
        "- **Beneficio**: Identificar patrones, optimizar procesos y tomar decisiones estratégicas.\n",
        "\n",
        "💡 **Ejemplo contable**: Analizar transacciones de clientes para detectar tendencias de gasto o riesgos financieros.\n",
        "\n",
        "Para más información, consulta la [Documentación de Google Cloud Big Data](https://cloud.google.com/solutions/big-data)."
      ]
    },
    {
      "cell_type": "markdown",
      "metadata": {},
      "source": [
        "## 🚀 Servicios Gestionados de Big Data en Google Cloud\n",
        "\n",
        "**Google Cloud** ofrece herramientas gestionadas para procesar **Big Data** sin preocuparte por la infraestructura técnica. Los servicios clave son:\n",
        "\n",
        "1. **Dataproc**: Procesamiento con **Apache Hadoop** y **Apache Spark**.\n",
        "2. **Dataflow**: Procesamiento en streaming y por lotes (**batch**).\n",
        "3. **BigQuery**: Análisis de datos a escala petabyte con **SQL**.\n",
        "\n",
        "| Servicio | Uso Principal | Características | Casos Comunes |\n",
        "|---------|---------------|-----------------|---------------|\n",
        "| **Dataproc** | Procesamiento con Hadoop/Spark | Usa herramientas open source; fácil migración | Empresas con sistemas legados |\n",
        "| **Dataflow** | Streaming y batch | Maneja datos estructurados/no estructurados en tiempo real | Sensores, redes sociales, logs |\n",
        "| **BigQuery** | Análisis a gran escala | Consultas SQL rápidas; soporta petabytes | Reportes BI, dashboards, KPIs |\n",
        "\n",
        "💡 **Beneficio empresarial**: Automatizar procesos contables, como consolidar datos financieros de múltiples fuentes o generar reportes en tiempo real."
      ]
    },
    {
      "cell_type": "markdown",
      "metadata": {},
      "source": [
        "## 🛠️ Introducción a Dataproc: Procesamiento de Grandes Volúmenes\n",
        "\n",
        "### ¿Qué es Dataproc?\n",
        "**Dataproc** es un servicio gestionado que permite ejecutar **Apache Hadoop** y **Apache Spark** para procesar grandes volúmenes de datos.\n",
        "\n",
        "💡 **Analogía contable**: Como un equipo automatizado que analiza y consolida libros contables digitales rápidamente, sin necesidad de mantener servidores encendidos.\n",
        "\n",
        "### Tecnologías Base\n",
        "- **Apache Hadoop**: Conjunto de herramientas para procesar datos en múltiples computadoras.\n",
        "- **Apache Spark**: Motor rápido para análisis por lotes y en tiempo real.\n",
        "\n",
        "### Características Clave\n",
        "1. **Costo efectivo**: Desde 1 centavo por vCPU/hora + recursos usados.\n",
        "2. **Rápido y escalable**: Clusters en <90 segundos.\n",
        "3. **Open source**: Compatible con Spark, Hadoop, Pig, Hive.\n",
        "4. **Gestionado**: Sin necesidad de administrar servidores.\n",
        "5. **Versionado**: Opciones de versiones de Spark/Hadoop.\n",
        "6. **Integración**: Con **Cloud Storage**, **BigQuery**, **Bigtable**, **Cloud Logging**, **Cloud Monitoring**.\n",
        "\n",
        "### Ejemplo de Comando\n",
        "Crear un cluster en **Dataproc**:\n"
      ]
    },
    {
      "cell_type": "code",
      "metadata": {},
      "source": "gcloud dataproc clusters create my-cluster \\\n    --region=REGION \\\n    --zone=ZONE \\\n    --image-version=2.0-debian10 \\\n    --master-machine-type=e2-standard-4 \\\n    --worker-machine-type=e2-standard-4 \\\n    --num-workers=2",
      "execution_count": null,
      "outputs": []
    },
    {
      "cell_type": "markdown",
      "metadata": {},
      "source": [
        "💡 **Propósito**: Crea un cluster para procesar datos, como consolidar transacciones financieras de múltiples sucursales.\n",
        "\n",
        "### Casos de Uso\n",
        "- **Logs diarios**: Procesar 50 GB de logs en minutos.\n",
        "- **Análisis con Spark**: Escalar análisis sin intervención técnica.\n",
        "- **Machine Learning**: Clasificar datos con **Spark MLlib**.\n",
        "\n",
        "| Elemento | Descripción |\n",
        "|----------|-------------|\n",
        "| **Servicio** | Dataproc |\n",
        "| **Tecnologías** | Hadoop, Spark |\n",
        "| **Uso** | Procesamiento batch, streaming, ML |\n",
        "| **Costo** | Desde 1 centavo/vCPU/hora |\n",
        "| **Ventajas** | Rápido, escalable, gestionado |\n",
        "| **Casos** | Logs, análisis Spark, MLlib |\n",
        "| **Analogía contable** | Oficina temporal de análisis financiero |\n",
        "| **Integraciones** | Cloud Storage, BigQuery, Bigtable, Logging, Monitoring |\n",
        "\n",
        "Para más información, consulta la [Documentación de Dataproc](https://cloud.google.com/dataproc/docs)."
      ]
    },
    {
      "cell_type": "markdown",
      "metadata": {},
      "source": [
        "## 📊 Introducción a Dataflow: Procesamiento de Datos\n",
        "\n",
        "### ¿Qué es Dataflow?\n",
        "**Dataflow** es un servicio gestionado para procesos **ETL** (Extract, Transform, Load) en streaming o por lotes.\n",
        "\n",
        "💡 **Analogía contable**: Automatiza la recolección, limpieza y carga de datos financieros, como procesar facturas electrónicas en tiempo real.\n",
        "\n",
        "### Diferencia con Dataproc\n",
        "- **Dataproc**: Ideal para sistemas legados (Hadoop/Spark).\n",
        "- **Dataflow**: Optimizado para pipelines modernos, sin depender de Hadoop.\n",
        "\n",
        "### Características\n",
        "- **Pipelines**: Secuencias automatizadas para ETL.\n",
        "- **Escalabilidad**: Recursos asignados a demanda.\n",
        "- **Tolerancia a fallos**: Resultados correctos siempre.\n",
        "- **Monitoreo**: Métricas en tiempo real (rendimiento, lag).\n",
        "- **Integración**: Con **Cloud Storage**, **Pub/Sub**, **Datastore**, **Bigtable**, **BigQuery**.\n",
        "\n",
        "### Ejemplo de Pipeline\n",
        "Pipeline básico en Python con **Apache Beam** para contar palabras:\n"
      ]
    },
    {
      "cell_type": "code",
      "metadata": {},
      "source": "import apache_beam as beam\n\ndef run():\n    with beam.Pipeline() as pipeline:\n        (\n            pipeline\n            | 'Read' >> beam.io.ReadFromText('gs://my-bucket/input.txt')\n            | 'Split' >> beam.FlatMap(lambda x: x.split())\n            | 'Count' >> beam.combiners.Count.PerElement()\n            | 'Write' >> beam.io.WriteToText('gs://my-bucket/output.txt')\n        )\n\nif __name__ == '__main__':\n    run()",
      "execution_count": null,
      "outputs": []
    },
    {
      "cell_type": "markdown",
      "metadata": {},
      "source": [
        "💡 **Propósito**: Procesa datos de un archivo en **Cloud Storage**, como contar transacciones por categoría.\n",
        "\n",
        "| Concepto | Descripción |\n",
        "|----------|-------------|\n",
        "| **Dataflow** | Servicio para pipelines ETL |\n",
        "| **ETL** | Extraer, transformar, cargar |\n",
        "| **Batch/Streaming** | Procesamiento histórico o en tiempo real |\n",
        "| **Ventajas** | Escalabilidad, tolerancia a fallos, monitoreo |\n",
        "| **Integraciones** | Cloud Storage, Pub/Sub, BigQuery, Bigtable |\n",
        "| **Analogía contable** | Automatizar análisis de facturas |\n",
        "\n",
        "Para más información, consulta la [Documentación de Dataflow](https://cloud.google.com/dataflow/docs)."
      ]
    },
    {
      "cell_type": "markdown",
      "metadata": {},
      "source": [
        "## 🧠 Introducción a BigQuery: Análisis de Datos\n",
        "\n",
        "### ¿Qué es BigQuery?\n",
        "**BigQuery** es un **data warehouse** serverless para análisis de datos a escala petabyte, usando **SQL**.\n",
        "\n",
        "💡 **Analogía contable**: Como un archivo centralizado que consolida datos de ventas, compras y gastos para generar reportes financieros.\n",
        "\n",
        "### Características\n",
        "1. **Almacenamiento y análisis**: Petabytes de datos con herramientas de **ML**, geoespacial y **BI**.\n",
        "2. **Serverless**: Sin gestión de infraestructura.\n",
        "3. **Precios flexibles**: Pago por uso o tarifa fija.\n",
        "4. **Seguridad**: Encriptación automática.\n",
        "5. **BigQuery ML**: Modelos de machine learning con **SQL**.\n",
        "\n",
        "### Ejemplo de Consulta\n",
        "Consulta SQL para analizar ventas por región:\n"
      ]
    },
    {
      "cell_type": "code",
      "metadata": {},
      "source": "SELECT region, SUM(sales_amount) as total_sales\nFROM `my-project.dataset.sales`\nGROUP BY region\nORDER BY total_sales DESC;",
      "execution_count": null,
      "outputs": []
    },
    {
      "cell_type": "markdown",
      "metadata": {},
      "source": [
        "💡 **Propósito**: Resume ventas por región, útil para reportes financieros.\n",
        "\n",
        "### Arquitectura\n",
        "- **Ingesta**:\n",
        "  - **Streaming**: Via **Pub/Sub**.\n",
        "  - **Batch**: Desde **Cloud Storage**.\n",
        "  - **ETL**: Procesado con **Dataflow**.\n",
        "- **Destinos**: **Looker**, **Looker Studio**, **Google Sheets**, **Vertex AI**.\n",
        "\n",
        "| Concepto | Explicación |\n",
        "|----------|-------------|\n",
        "| **BigQuery** | Data warehouse serverless |\n",
        "| **Data Warehouse** | Archivo central de datos |\n",
        "| **Serverless** | Sin gestión de servidores |\n",
        "| **SQL** | Lenguaje para consultas |\n",
        "| **ETL** | Extraer, transformar, cargar |\n",
        "| **BigQuery ML** | ML con SQL |\n",
        "| **BI Tools** | Looker, Tableau, Google Sheets |\n",
        "| **Analogía contable** | Archivo contable consolidado |\n",
        "\n",
        "Para más información, consulta la [Documentación de BigQuery](https://cloud.google.com/bigquery/docs)."
      ]
    },
    {
      "cell_type": "markdown",
      "metadata": {},
      "source": [
        "## 🚀 Conclusión\n",
        "\n",
        "Este módulo te permitió:\n",
        "1. Comprender **Big Data** y su importancia empresarial.\n",
        "2. Explorar **Dataproc** para Hadoop/Spark.\n",
        "3. Conocer **Dataflow** para pipelines ETL.\n",
        "4. Usar **BigQuery** para análisis a gran escala.\n",
        "\n",
        "💡 **Beneficio empresarial**: Automatizar y escalar procesos contables, desde consolidar transacciones hasta generar reportes predictivos.\n",
        "\n",
        "Para más información, consulta la [Documentación de Google Cloud Big Data](https://cloud.google.com/solutions/big-data)."
      ]
    }
  ],
  "metadata": {
    "kernelspec": {
      "display_name": "Python 3",
      "language": "python",
      "name": "python3"
    },
    "language_info": {
      "codemirror_mode": {
        "name": "ipython",
        "version": 3
      },
      "file_extension": ".py",
      "mimetype": "text/x-python",
      "name": "python",
      "nbconvert_exporter": "python",
      "pygments_lexer": "ipython3",
      "version": "3.8.0"
    }
  },
  "nbformat": 4,
  "nbformat_minor": 5
}