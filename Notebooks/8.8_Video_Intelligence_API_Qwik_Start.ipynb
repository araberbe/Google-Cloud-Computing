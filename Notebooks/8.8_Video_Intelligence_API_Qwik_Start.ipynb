{
 "cells": [
  {
   "cell_type": "markdown",
   "id": "08fa1879",
   "metadata": {},
   "source": [
    "# 🎥 Laboratorio: Video Intelligence API – Inicio Rápido\n",
    "\n",
    "**Google Cloud Video Intelligence API** es un servicio que utiliza inteligencia artificial para analizar videos automáticamente, identificando objetos, lugares, acciones y generando metadatos útiles. Este laboratorio te guiará a través de la configuración de una cuenta de servicio y el análisis de un video para detectar etiquetas.\n",
    "\n",
    "💡 **Beneficio empresarial**: La **Video Intelligence API** permite a las empresas analizar contenido de video, como grabaciones de seguridad o presentaciones corporativas, para extraer información clave de manera automática, optimizando procesos como auditorías visuales, monitoreo o análisis de marketing.\n",
    "\n",
    "Para más información, consulta la [Documentación de Google Cloud Video Intelligence](https://cloud.google.com/video-intelligence/docs).\n",
    "\n",
    "## 🧠 ¿Qué es la API de Video Intelligence?\n",
    "- Permite analizar videos para identificar objetos, lugares, acciones, etc.\n",
    "- Genera metadatos como etiquetas, tiempos de aparición y niveles de confianza.\n",
    "- Funciona a través de una API REST sencilla.\n",
    "\n",
    "💡 **Contexto empresarial**: Esta API es como un asistente que revisa grabaciones de video corporativas (por ejemplo, de eventos o capacitaciones) y genera informes automáticos sobre el contenido, ahorrando tiempo y costos."
   ]
  },
  {
   "cell_type": "markdown",
   "id": "e612516e",
   "metadata": {},
   "source": [
    "## 🧾 Objetivos\n",
    "- ✅ Configurar una cuenta de servicio autorizada.\n",
    "- ✅ Enviar una solicitud a la **Video Intelligence API** para analizar un video.\n",
    "- ✅ Consultar los resultados de la anotación."
   ]
  },
  {
   "cell_type": "markdown",
   "id": "fef000e0",
   "metadata": {},
   "source": [
    "## 🛠️ Tarea 1: Configurar autorización\n",
    "\n",
    "En esta tarea, crearás una cuenta de servicio y obtendrás un token de acceso para autenticar solicitudes a la **Video Intelligence API**.\n",
    "\n",
    "### Paso 1.1: Crear la cuenta de servicio\n",
    "\n",
    "1. En **Cloud Shell**, ejecuta:"
   ]
  },
  {
   "cell_type": "code",
   "execution_count": null,
   "id": "8c5291bc",
   "metadata": {},
   "outputs": [],
   "source": [
    "gcloud iam service-accounts create quickstart"
   ]
  },
  {
   "cell_type": "markdown",
   "id": "1afdd2c2",
   "metadata": {},
   "source": [
    "**Explicación**:\n",
    "- Crea una cuenta de servicio llamada `quickstart` para autenticar solicitudes a la API.\n",
    "\n",
    "💡 **Contexto empresarial**: Esto es como asignar un rol técnico a un empleado para que acceda a un sistema de análisis de video."
   ]
  },
  {
   "cell_type": "markdown",
   "id": "29a87153",
   "metadata": {},
   "source": [
    "### Paso 1.2: Crear el archivo de clave\n",
    "\n",
    "1. Ejecuta (reemplaza `<your-project-123>` con tu ID de proyecto):"
   ]
  },
  {
   "cell_type": "code",
   "execution_count": null,
   "id": "5dbd234f",
   "metadata": {},
   "outputs": [],
   "source": [
    "gcloud iam service-accounts keys create key.json \\\n",
    "  --iam-account quickstart@<your-project-123>.iam.gserviceaccount.com"
   ]
  },
  {
   "cell_type": "markdown",
   "id": "434df157",
   "metadata": {},
   "source": [
    "**Desglose del comando**:\n",
    "- `keys create key.json`: Genera un archivo de credenciales (`key.json`).\n",
    "- `--iam-account`: Vincula la clave a la cuenta de servicio `quickstart`.\n",
    "\n",
    "**Explicación**:\n",
    "- El archivo `key.json` contiene las credenciales necesarias para autenticar solicitudes.\n",
    "\n",
    "💡 **Contexto empresarial**: Esto es como generar una contraseña segura para acceder a un sistema contable que analiza grabaciones."
   ]
  },
  {
   "cell_type": "markdown",
   "id": "92c3d456",
   "metadata": {},
   "source": [
    "### Paso 1.3: Autenticarte con la cuenta de servicio\n",
    "\n",
    "1. Ejecuta:"
   ]
  },
  {
   "cell_type": "code",
   "execution_count": null,
   "id": "1374f111",
   "metadata": {},
   "outputs": [],
   "source": [
    "gcloud auth activate-service-account --key-file key.json"
   ]
  },
  {
   "cell_type": "markdown",
   "id": "1a66e1d9",
   "metadata": {},
   "source": [
    "**Explicación**:\n",
    "- Activa la cuenta de servicio utilizando las credenciales del archivo `key.json`.\n",
    "\n",
    "💡 **Contexto empresarial**: Esto es como iniciar sesión en un sistema contable con las credenciales asignadas."
   ]
  },
  {
   "cell_type": "markdown",
   "id": "2dddac8e",
   "metadata": {},
   "source": [
    "### Paso 1.4: Obtener el token de acceso\n",
    "\n",
    "1. Ejecuta:"
   ]
  },
  {
   "cell_type": "code",
   "execution_count": null,
   "id": "3a6e75f5",
   "metadata": {},
   "outputs": [],
   "source": [
    "gcloud auth print-access-token"
   ]
  },
  {
   "cell_type": "markdown",
   "id": "31aa19c6",
   "metadata": {},
   "source": [
    "**Explicación**:\n",
    "- Genera un token de acceso que se usará para autenticar la solicitud a la API.\n",
    "- Copia el token para usarlo en el siguiente paso.\n",
    "\n",
    "💡 **Contexto empresarial**: Esto es como obtener un código temporal para acceder a un sistema de análisis de video."
   ]
  },
  {
   "cell_type": "markdown",
   "id": "c0109308",
   "metadata": {},
   "source": [
    "## 🎯 Tarea 2: Enviar una solicitud de análisis de video\n",
    "\n",
    "En esta tarea, enviarás una solicitud para analizar un video y consultarás los resultados.\n",
    "\n",
    "### Paso 2.1: Crear archivo de solicitud request.json\n",
    "\n",
    "1. Ejecuta:"
   ]
  },
  {
   "cell_type": "code",
   "execution_count": null,
   "id": "fa79a5ee",
   "metadata": {},
   "outputs": [],
   "source": [
    "cat > request.json <<EOF\n",
    "{\n",
    "   \"inputUri\": \"gs://spls/gsp154/video/train.mp4\",\n",
    "   \"features\": [\n",
    "       \"LABEL_DETECTION\"\n",
    "   ]\n",
    "}\n",
    "EOF"
   ]
  },
  {
   "cell_type": "markdown",
   "id": "8e0e878b",
   "metadata": {},
   "source": [
    "**Desglose del archivo JSON**:\n",
    "- `inputUri`: URL del video en **Cloud Storage** (`gs://spls/gsp154/video/train.mp4`).\n",
    "- `features`: Especifica el tipo de análisis (`LABEL_DETECTION` para detectar etiquetas como \"tren\", \"cielo\", \"rieles\").\n",
    "\n",
    "**Explicación**:\n",
    "- El archivo `request.json` indica qué video analizar y qué tipo de análisis realizar.\n",
    "\n",
    "💡 **Contexto empresarial**: Esto es como preparar un formulario para analizar una grabación de un evento corporativo, especificando qué información extraer."
   ]
  },
  {
   "cell_type": "markdown",
   "id": "d310449b",
   "metadata": {},
   "source": [
    "### Paso 2.2: Enviar solicitud a la API\n",
    "\n",
    "1. Ejecuta:"
   ]
  },
  {
   "cell_type": "code",
   "execution_count": null,
   "id": "43c17729",
   "metadata": {},
   "outputs": [],
   "source": [
    "curl -s -H 'Content-Type: application/json' \\\n",
    "  -H 'Authorization: Bearer '$(gcloud auth print-access-token)'' \\\n",
    "  'https://videointelligence.googleapis.com/v1/videos:annotate' \\\n",
    "  -d @request.json"
   ]
  },
  {
   "cell_type": "markdown",
   "id": "3916730a",
   "metadata": {},
   "source": [
    "**Desglose del comando**:\n",
    "| **Componente** | **Significado** |\n",
    "|---------------|-----------------|\n",
    "| `curl` | Herramienta para hacer solicitudes a URLs desde la terminal. |\n",
    "| `-s` | Ejecuta en modo silencioso (sin mostrar progreso). |\n",
    "| `-H 'Content-Type: application/json'` | Especifica que el contenido es JSON. |\n",
    "| `-H 'Authorization: Bearer ...'` | Incluye el token de acceso para autenticación. |\n",
    "| `'https://videointelligence.googleapis.com/v1/videos:annotate'` | Endpoint de la API para analizar videos. |\n",
    "| `-d @request.json` | Envía el contenido del archivo `request.json`. |\n",
    "\n",
    "**Resultado esperado**:\n",
    "```json\n",
    "{\n",
    "  \"name\": \"projects/123456789012/locations/asia-east1/operations/1234567890123456789\"\n",
    "}\n",
    "```\n",
    "\n",
    "**Explicación**:\n",
    "- Inicia una operación asincrónica. Copia el valor de `name` para consultar el estado.\n",
    "\n",
    "💡 **Contexto empresarial**: Esto es como enviar una grabación para su análisis automático, recibiendo un número de seguimiento para verificar el progreso."
   ]
  },
  {
   "cell_type": "markdown",
   "id": "f82e20b4",
   "metadata": {},
   "source": [
    "### Paso 2.3: Verificar el estado de la operación\n",
    "\n",
    "1. Ejecuta (reemplaza `PROJECTS`, `LOCATIONS`, `OPERATION_NAME` con los valores reales de la respuesta anterior):"
   ]
  },
  {
   "cell_type": "code",
   "execution_count": null,
   "id": "a17ace7a",
   "metadata": {},
   "outputs": [],
   "source": [
    "curl -s -H 'Content-Type: application/json' \\\n",
    "  -H 'Authorization: Bearer '$(gcloud auth print-access-token)'' \\\n",
    "  'https://videointelligence.googleapis.com/v1/projects/PROJECTS/locations/LOCATIONS/operations/OPERATION_NAME'"
   ]
  },
  {
   "cell_type": "markdown",
   "id": "a1647ed3",
   "metadata": {},
   "source": [
    "**Explicación**:\n",
    "- Verifica si la operación ha finalizado (`\"done\": true`).\n",
    "- Si no ha terminado, espera unos segundos y repite el comando.\n",
    "\n",
    "**Resultado esperado (una vez finalizado)**:\n",
    "```json\n",
    "{\n",
    "  \"annotationResults\": [\n",
    "    {\n",
    "      \"inputUri\": \"/spls/gsp154/video/train.mp4\",\n",
    "      \"segmentLabelAnnotations\": [\n",
    "        {\n",
    "          \"entity\": {\n",
    "            \"entityId\": \"/m/01yrx\",\n",
    "            \"languageCode\": \"en-US\"\n",
    "          },\n",
    "          \"segments\": [\n",
    "            {\n",
    "              \"segment\": {\n",
    "                \"startTimeOffset\": \"0s\",\n",
    "                \"endTimeOffset\": \"14.83s\"\n",
    "              },\n",
    "              \"confidence\": 0.98\n",
    "            }\n",
    "          ]\n",
    "        }\n",
    "      ]\n",
    "    }\n",
    "  ]\n",
    "}\n",
    "```\n",
    "\n",
    "**Interpretación**:\n",
    "| **Campo** | **Descripción** |\n",
    "|-----------|-----------------|\n",
    "| `entityId` | ID del objeto detectado (por ejemplo, `/m/01yrx` es \"Train\"). |\n",
    "| `confidence` | Confianza de la predicción (0 a 1). |\n",
    "| `startTimeOffset` | Tiempo en que aparece el objeto. |\n",
    "| `endTimeOffset` | Tiempo en que deja de aparecer. |\n",
    "\n",
    "💡 **Contexto empresarial**: Esto es como recibir un informe que detalla los elementos clave (por ejemplo, productos o personas) en una grabación de un evento corporativo."
   ]
  },
  {
   "cell_type": "markdown",
   "id": "684e37ec",
   "metadata": {},
   "source": [
    "## 🚀 Resumen\n",
    "\n",
    "| **Concepto** | **Explicación contable simplificada** |\n",
    "|--------------|--------------------------------------|\n",
    "| **Video Intelligence API** | Herramienta que analiza grabaciones, como videos de seguridad o eventos, identificando objetos o acciones automáticamente. |\n",
    "| **Cuenta de servicio** | Credencial técnica para acceder de forma segura al sistema de análisis de video. |\n",
    "| **Anotación de video** | Proceso que genera metadatos sobre el contenido de un video, como productos o lugares detectados. |\n",
    "| **Cloud Storage** | Almacén digital para videos y resultados de análisis. |\n",
    "\n",
    "💡 **Conclusión empresarial**: La **Video Intelligence API** automatiza el análisis de videos corporativos, como grabaciones de eventos o seguridad, generando informes detallados que optimizan auditorías, monitoreo o estrategias de marketing, reduciendo costos y tiempo manual.\n",
    "\n",
    "Para más información, consulta la [Documentación de Google Cloud Video Intelligence](https://cloud.google.com/video-intelligence/docs)."
   ]
  }
 ],
 "metadata": {
  "kernelspec": {
   "display_name": "Python 3 (ipykernel)",
   "language": "python",
   "name": "python3"
  },
  "language_info": {
   "codemirror_mode": {
    "name": "ipython",
    "version": 3
   },
   "file_extension": ".py",
   "mimetype": "text/x-python",
   "name": "python",
   "nbconvert_exporter": "python",
   "pygments_lexer": "ipython3",
   "version": "3.9.21"
  }
 },
 "nbformat": 4,
 "nbformat_minor": 5
}
