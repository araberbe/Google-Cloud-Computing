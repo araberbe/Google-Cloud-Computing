{
 "cells": [
  {
   "cell_type": "markdown",
   "id": "9f8ce58d",
   "metadata": {},
   "source": [
    "# 📌 Laboratorio: Dataproc – Inicio Rápido desde la Línea de Comandos\n",
    "\n",
    "## 🌐 Introducción General\n",
    "**Dataproc** es un servicio gestionado de **Google Cloud** que permite ejecutar clústeres de **Apache Spark** y **Apache Hadoop** de forma rápida, sencilla y rentable. Este laboratorio te guía en el uso de **Cloud Shell** para crear un clúster, ejecutar un **Spark job** y escalar recursos.\n",
    "\n",
    "💡 **Contexto empresarial**: Como contratar un equipo contable temporal para procesar grandes volúmenes de transacciones financieras de forma eficiente, escalable y sin costos fijos innecesarios.\n",
    "\n",
    "### Objetivos del Laboratorio\n",
    "- Crear un clúster de **Dataproc** usando comandos en **Cloud Shell**.\n",
    "- Ejecutar un **Spark job** para calcular π (pi).\n",
    "- Modificar la cantidad de **worker nodes** para escalar el clúster.\n",
    "\n",
    "Para más información, consulta la [Documentación de Dataproc](https://cloud.google.com/dataproc/docs)."
   ]
  },
  {
   "cell_type": "markdown",
   "id": "4397fdef",
   "metadata": {},
   "source": [
    "## 🔧 Configuración Inicial\n",
    "\n",
    "### Iniciar el Laboratorio\n",
    "1. Haz clic en **Start Lab** en la plataforma del laboratorio.\n",
    "2. Copia las credenciales temporales (**Username** y **Password**) proporcionadas.\n",
    "3. Inicia sesión en la **Google Cloud Console** con esas credenciales.\n",
    "4. Acepta los términos y condiciones sin configurar recuperación ni autenticación en dos pasos.\n",
    "\n",
    "💡 **Propósito**: Usar credenciales temporales asegura un entorno seguro, como preparar un sistema contable aislado para una auditoría.\n",
    "\n",
    "### Activar Cloud Shell\n",
    "**Cloud Shell** es una máquina virtual con herramientas preinstaladas para interactuar con **Google Cloud** mediante comandos.\n",
    "\n",
    "#### Pasos\n",
    "1. Haz clic en **Activate Cloud Shell** en la consola.\n",
    "2. Autoriza el uso de las credenciales temporales.\n",
    "\n",
    "#### Comandos Útiles\n",
    "Verifica la cuenta y el proyecto activos:"
   ]
  },
  {
   "cell_type": "code",
   "execution_count": null,
   "id": "f8606e5c",
   "metadata": {},
   "outputs": [],
   "source": [
    "gcloud auth list\n",
    "gcloud config list project"
   ]
  },
  {
   "cell_type": "markdown",
   "id": "68ca8e6a",
   "metadata": {},
   "source": [
    "💡 **Propósito**: Confirma que estás trabajando con el proyecto correcto, como verificar el libro contable antes de procesar transacciones.\n",
    "\n",
    "Para más información, consulta la [Documentación de Cloud Shell](https://cloud.google.com/shell/docs)."
   ]
  },
  {
   "cell_type": "markdown",
   "id": "577ad407",
   "metadata": {},
   "source": [
    "## 🚀 Tarea 1: Crear un Clúster\n",
    "\n",
    "### Paso 1: Establecer la Región\n",
    "Configura la región para los recursos del clúster (reemplaza `REGION` con el valor asignado, ej. `us-central1`):"
   ]
  },
  {
   "cell_type": "code",
   "execution_count": null,
   "id": "83d47cb6",
   "metadata": {},
   "outputs": [],
   "source": [
    "gcloud config set dataproc/region REGION"
   ]
  },
  {
   "cell_type": "markdown",
   "id": "98da797f",
   "metadata": {},
   "source": [
    "💡 **Propósito**: Define la ubicación geográfica del clúster, optimizando latencia como elegir una sucursal cercana para procesar datos financieros."
   ]
  },
  {
   "cell_type": "markdown",
   "id": "b3decb41",
   "metadata": {},
   "source": [
    "### Paso 2: Obtener PROJECT_ID y PROJECT_NUMBER\n",
    "Configura el proyecto y obtén sus identificadores:"
   ]
  },
  {
   "cell_type": "code",
   "execution_count": null,
   "id": "10b0e80d",
   "metadata": {},
   "outputs": [],
   "source": [
    "PROJECT_ID=$(gcloud config get-value project) && \\\n",
    "gcloud config set project $PROJECT_ID\n",
    "PROJECT_NUMBER=$(gcloud projects describe $PROJECT_ID --format='value(projectNumber)')"
   ]
  },
  {
   "cell_type": "markdown",
   "id": "1b066a8b",
   "metadata": {},
   "source": [
    "💡 **Propósito**: Asegura que los comandos se ejecuten en el proyecto correcto, como seleccionar el libro contable adecuado."
   ]
  },
  {
   "cell_type": "markdown",
   "id": "df130041",
   "metadata": {},
   "source": [
    "### Paso 3: Asignar Permisos de Almacenamiento\n",
    "Otorga el rol **Storage Admin** a la cuenta de servicio de **Compute Engine**:"
   ]
  },
  {
   "cell_type": "code",
   "execution_count": null,
   "id": "f9e91159",
   "metadata": {},
   "outputs": [],
   "source": [
    "gcloud projects add-iam-policy-binding $PROJECT_ID \\\n",
    "  --member=serviceAccount:$PROJECT_NUMBER-compute@developer.gserviceaccount.com \\\n",
    "  --role=roles/storage.admin"
   ]
  },
  {
   "cell_type": "markdown",
   "id": "9d48ebe6",
   "metadata": {},
   "source": [
    "💡 **Propósito**: Permite que el clúster acceda a datos almacenados, como autorizar a un equipo contable a revisar registros financieros."
   ]
  },
  {
   "cell_type": "markdown",
   "id": "25c326b3",
   "metadata": {},
   "source": [
    "### Paso 4: Habilitar Acceso Privado\n",
    "Configura la subred para acceso privado a servicios de Google:"
   ]
  },
  {
   "cell_type": "code",
   "execution_count": null,
   "id": "ce25a935",
   "metadata": {},
   "outputs": [],
   "source": [
    "gcloud compute networks subnets update default --region=REGION --enable-private-ip-google-access"
   ]
  },
  {
   "cell_type": "markdown",
   "id": "cf96d27d",
   "metadata": {},
   "source": [
    "💡 **Propósito**: Permite comunicación segura sin IPs públicas, como proteger datos financieros en una red interna."
   ]
  },
  {
   "cell_type": "markdown",
   "id": "0477b5cc",
   "metadata": {},
   "source": [
    "### Paso 5: Crear el Clúster\n",
    "Crea un clúster con 2 workers y máquinas `e2-standard-4`:"
   ]
  },
  {
   "cell_type": "code",
   "execution_count": null,
   "id": "83fa2d44",
   "metadata": {},
   "outputs": [],
   "source": [
    "gcloud dataproc clusters create example-cluster \\\n",
    "  --worker-boot-disk-size 500 \\\n",
    "  --worker-machine-type=e2-standard-4 \\\n",
    "  --master-machine-type=e2-standard-4"
   ]
  },
  {
   "cell_type": "markdown",
   "id": "413c0686",
   "metadata": {},
   "source": [
    "💡 **Propósito**: Monta una oficina contable temporal para procesar datos masivos, como consolidar transacciones de múltiples sucursales.\n",
    "\n",
    "💡 **Beneficio empresarial**: Optimiza costos al usar recursos escalables solo cuando se necesitan."
   ]
  },
  {
   "cell_type": "markdown",
   "id": "e31306a7",
   "metadata": {},
   "source": [
    "## 🛠️ Tarea 2: Enviar un Trabajo a Spark\n",
    "\n",
    "Ejecuta un **Spark job** para estimar π usando el método de Monte Carlo:"
   ]
  },
  {
   "cell_type": "code",
   "execution_count": null,
   "id": "fecd2b2c",
   "metadata": {},
   "outputs": [],
   "source": [
    "gcloud dataproc jobs submit spark --cluster example-cluster \\\n",
    "  --class org.apache.spark.examples.SparkPi \\\n",
    "  --jars file:///usr/lib/spark/examples/jars/spark-examples.jar -- 1000"
   ]
  },
  {
   "cell_type": "markdown",
   "id": "b7b15a5f",
   "metadata": {},
   "source": [
    "💡 **Propósito**: Este comando lanza un cálculo distribuido entre los **worker nodes**, como dividir un análisis financiero complejo entre varios contadores.\n",
    "\n",
    "💡 **Analogía contable**: Ejecutar este job es como realizar 1000 cálculos contables automáticos para obtener un promedio, como estimar el valor promedio de transacciones.\n",
    "\n",
    "💡 **Beneficio empresarial**: Procesa grandes volúmenes de datos (ej. registros financieros) en minutos, acelerando auditorías o reportes."
   ]
  },
  {
   "cell_type": "markdown",
   "id": "c9c17ec0",
   "metadata": {},
   "source": [
    "## ⚙️ Tarea 3: Actualizar el Clúster\n",
    "\n",
    "### Aumentar Trabajadores a 4\n",
    "Escala el clúster a 4 workers:"
   ]
  },
  {
   "cell_type": "code",
   "execution_count": null,
   "id": "97ea87b3",
   "metadata": {},
   "outputs": [],
   "source": [
    "gcloud dataproc clusters update example-cluster --num-workers 4"
   ]
  },
  {
   "cell_type": "markdown",
   "id": "22e0cc3d",
   "metadata": {},
   "source": [
    "💡 **Propósito**: Aumentar los workers es como contratar más contadores para acelerar una liquidación masiva.\n",
    "\n",
    "💡 **Beneficio empresarial**: Escala recursos según la carga de trabajo, optimizando costos y rendimiento."
   ]
  },
  {
   "cell_type": "markdown",
   "id": "b30ab1e4",
   "metadata": {},
   "source": [
    "### Reducir Trabajadores a 2\n",
    "Reduce el clúster a 2 workers:"
   ]
  },
  {
   "cell_type": "code",
   "execution_count": null,
   "id": "91c2769e",
   "metadata": {},
   "outputs": [],
   "source": [
    "gcloud dataproc clusters update example-cluster --num-workers 2"
   ]
  },
  {
   "cell_type": "markdown",
   "id": "4cb26559",
   "metadata": {},
   "source": [
    "💡 **Propósito**: Reducir workers es como disminuir el personal temporal tras completar un proyecto contable.\n",
    "\n",
    "💡 **Beneficio empresarial**: Minimiza costos al liberar recursos no necesarios."
   ]
  },
  {
   "cell_type": "markdown",
   "id": "784d09e3",
   "metadata": {},
   "source": [
    "## ✅ Tarea 4: Preguntas de Comprensión\n",
    "\n",
    "1. **Los clústeres pueden crearse y escalarse rápidamente con diferentes tipos de máquina virtual, tamaños de disco y cantidad de nodos.**\n",
    "   - ✅ **Verdadero**\n",
    "\n",
    "💡 **Contexto empresarial**: Esta pregunta refuerza la flexibilidad de **Dataproc** para adaptarse a necesidades contables cambiantes, como procesar mayores volúmenes de datos durante cierres fiscales."
   ]
  },
  {
   "cell_type": "markdown",
   "id": "ed6be925",
   "metadata": {},
   "source": [
    "## 📋 Cuadro Resumen Final\n",
    "\n",
    "| Elemento | Descripción |\n",
    "|----------|-------------|\n",
    "| **Servicio principal** | Google Cloud Dataproc |\n",
    "| **Objetivo** | Crear clúster, ejecutar Spark job, modificar trabajadores |\n",
    "| **Duración estimada** | 30 minutos |\n",
    "| **Requisitos** | Navegador web, cuenta temporal |\n",
    "| **Herramienta** | Cloud Shell + gcloud CLI |\n",
    "| **Comando clave 1** | `gcloud dataproc clusters create` |\n",
    "| **Comando clave 2** | `gcloud dataproc jobs submit spark` |\n",
    "| **Comando clave 3** | `gcloud dataproc clusters update` |\n",
    "| **Analogía contable** | Equipo contable automatizado y escalable |\n",
    "| **Resultado** | Estimación de π (Pi) |\n",
    "\n",
    "💡 **Conclusión empresarial**: **Dataproc** permite procesar datos financieros masivos de forma rápida y escalable, optimizando costos y recursos."
   ]
  },
  {
   "cell_type": "markdown",
   "id": "b429cfdd",
   "metadata": {},
   "source": [
    "## 🚀 Conclusión\n",
    "\n",
    "Este laboratorio te permitió:\n",
    "1. Crear un clúster en **Dataproc** usando **Cloud Shell**.\n",
    "2. Ejecutar un **Spark job** para calcular π.\n",
    "3. Escalar el clúster modificando el número de **worker nodes**.\n",
    "\n",
    "💡 **Beneficio empresarial**: Automatiza y acelera el procesamiento de datos financieros, como consolidar transacciones o generar reportes, con costos optimizados.\n",
    "\n",
    "Para más información, consulta la [Documentación de Dataproc](https://cloud.google.com/dataproc/docs) y [Documentación de Cloud Shell](https://cloud.google.com/shell/docs)."
   ]
  }
 ],
 "metadata": {
  "kernelspec": {
   "display_name": "Python 3 (ipykernel)",
   "language": "python",
   "name": "python3"
  },
  "language_info": {
   "codemirror_mode": {
    "name": "ipython",
    "version": 3
   },
   "file_extension": ".py",
   "mimetype": "text/x-python",
   "name": "python",
   "nbconvert_exporter": "python",
   "pygments_lexer": "ipython3",
   "version": "3.9.21"
  }
 },
 "nbformat": 4,
 "nbformat_minor": 5
}
