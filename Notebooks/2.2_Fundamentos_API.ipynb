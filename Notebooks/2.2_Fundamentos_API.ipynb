{
 "cells": [
  {
   "cell_type": "markdown",
   "id": "7466f543",
   "metadata": {},
   "source": [
    "# 📌 Módulo 5: ¡Hay una API para eso!\n",
    "\n",
    "## Introducción al Módulo\n",
    "En este módulo, aprenderás cómo construir aplicaciones utilizando servicios gestionados de **Google Cloud**, con un enfoque en las **APIs**, herramientas de gestión como **Cloud Endpoints** y **Apigee**, y el sistema de mensajería **Pub/Sub**. Estos conceptos son clave para integrar sistemas empresariales, como los de contabilidad, de manera eficiente y escalable.\n",
    "\n",
    "💡 **Beneficio empresarial**: Las APIs y los servicios gestionados permiten a las empresas conectar sistemas, automatizar procesos y analizar datos en tiempo real, lo que reduce costos operativos y mejora la toma de decisiones en áreas como la gestión financiera.\n",
    "\n",
    "Para más información sobre los servicios gestionados de Google Cloud, consulta la [Documentación oficial de Google Cloud](https://cloud.google.com/docs)."
   ]
  },
  {
   "cell_type": "markdown",
   "id": "818e47da",
   "metadata": {},
   "source": [
    "## 🚀 Objetivos del Módulo\n",
    "\n",
    "- Explorar el propósito y los beneficios de las **APIs** en entornos empresariales.\n",
    "- Comparar herramientas de gestión de APIs: **Cloud Endpoints** y **Apigee API Management**.\n",
    "- Analizar **Pub/Sub**, una herramienta de mensajería para arquitecturas distribuidas.\n",
    "\n",
    "💡 **Contexto empresarial**: Estos objetivos te permitirán entender cómo las APIs y **Pub/Sub** pueden optimizar procesos contables, como la integración de sistemas de facturación con plataformas tributarias o la automatización de flujos de datos financieros."
   ]
  },
  {
   "cell_type": "markdown",
   "id": "b065241d",
   "metadata": {},
   "source": [
    "## 📚 ¿Qué es una API y para qué sirve?\n",
    "\n",
    "Una **API** (Application Programming Interface o Interfaz de Programación de Aplicaciones) es un conjunto de reglas que permite a diferentes sistemas o aplicaciones comunicarse entre sí sin necesidad de conocer los detalles internos de cada uno. Es como un menú en un restaurante: el cliente (una aplicación) selecciona un servicio, y el sistema (la cocina) entrega el resultado sin revelar cómo se preparó.\n",
    "\n",
    "### Ejemplo contable\n",
    "Imagina que tu sistema contable necesita validar un CUIT a través del sitio de AFIP. La API de AFIP te permite enviar el CUIT y recibir una respuesta (válido o inválido) sin interactuar directamente con su base de datos. Esto simplifica la integración y asegura la seguridad.\n",
    "\n",
    "💡 **Beneficio empresarial**: Las APIs permiten a las empresas conectar sistemas dispares, como software contable y plataformas tributarias, para automatizar procesos y reducir errores manuales.\n",
    "\n",
    "### REST APIs\n",
    "El estilo de API más común es **REST** (Representational State Transfer), que utiliza métodos HTTP estándar como:\n",
    "- **GET**: Obtener datos (por ejemplo, consultar el saldo de una cuenta).\n",
    "- **POST**: Enviar datos nuevos (por ejemplo, registrar una factura).\n",
    "- **PUT**: Actualizar datos (por ejemplo, corregir un importe en una factura).\n",
    "- **DELETE**: Eliminar datos (por ejemplo, anular una factura).\n",
    "\n",
    "💡 **Contexto empresarial**: Las **REST APIs** son ideales para sistemas contables porque son escalables, compatibles con dispositivos móviles y permiten operaciones rápidas y seguras.\n",
    "\n",
    "Para más información sobre APIs, consulta la [Documentación de Google Cloud APIs](https://cloud.google.com/apis)."
   ]
  },
  {
   "cell_type": "markdown",
   "id": "24c3d674",
   "metadata": {},
   "source": [
    "## 🔧 Herramientas para la gestión de APIs\n",
    "\n",
    "Google Cloud ofrece dos herramientas principales para gestionar APIs: **Cloud Endpoints** y **Apigee API Management**. A continuación, se explican sus características y beneficios.\n",
    "\n",
    "### 📍 Cloud Endpoints\n",
    "\n",
    "**Cloud Endpoints** es un sistema distribuido para gestionar APIs en Google Cloud. Permite:\n",
    "- Publicar APIs de manera sencilla.\n",
    "- Controlar el acceso mediante autenticación.\n",
    "- Registrar el uso y monitorear errores.\n",
    "- Obtener estadísticas de rendimiento.\n",
    "\n",
    "#### Ejemplo contable\n",
    "Una empresa puede usar **Cloud Endpoints** para publicar una API que permita a sus clientes consultar el estado de sus facturas. La API registra cada consulta y asegura que solo usuarios autorizados accedan a los datos.\n",
    "\n",
    "💡 **Beneficio empresarial**: **Cloud Endpoints** simplifica la gestión de APIs, reduciendo el tiempo necesario para integrar sistemas contables con aplicaciones externas.\n",
    "\n",
    "Para más información, consulta la [Documentación de Google Cloud Endpoints](https://cloud.google.com/endpoints/docs).\n",
    "\n",
    "### 📍 Apigee API Management\n",
    "\n",
    "**Apigee** es una plataforma más avanzada para gestionar APIs, diseñada para resolver problemas empresariales complejos. Sus características incluyen:\n",
    "- Diseño, protección y monitoreo de APIs.\n",
    "- Creación de proxies de API para mayor control.\n",
    "- Gestión de múltiples versiones y políticas de seguridad.\n",
    "- Análisis detallado del uso de las APIs.\n",
    "\n",
    "#### Ejemplo contable\n",
    "Una empresa con un sistema contable antiguo puede usar **Apigee** para crear un proxy que conecte su sistema de facturación con una aplicación moderna, sin necesidad de reemplazar todo el sistema de una vez.\n",
    "\n",
    "💡 **Beneficio empresarial**: **Apigee** permite modernizar sistemas legados de forma gradual, reduciendo riesgos y costos en la transición a soluciones en la nube.\n",
    "\n",
    "Para más información, consulta la [Documentación de Apigee API Management](https://cloud.google.com/apigee/docs)."
   ]
  },
  {
   "cell_type": "markdown",
   "id": "002c3d79",
   "metadata": {},
   "source": [
    "## 🧰 Servicios Gestionados: ¿Por qué usarlos?\n",
    "\n",
    "Un **servicio gestionado** es un servicio en la nube que Google Cloud mantiene por ti, eliminando la necesidad de instalar, actualizar o gestionar infraestructura. Ejemplos incluyen **Cloud Endpoints**, **Apigee** y **Pub/Sub**.\n",
    "\n",
    "### Ejemplo contable\n",
    "Imagina un sistema contable como **QuickBooks** en la nube. No necesitas instalar software ni administrar servidores; solo accedes con un usuario y contraseña, y el proveedor se encarga de todo lo técnico.\n",
    "\n",
    "💡 **Beneficio empresarial**: Los servicios gestionados reducen costos de mantenimiento y permiten a los equipos de TI enfocarse en desarrollar soluciones, como sistemas de facturación automatizada, en lugar de gestionar infraestructura.\n",
    "\n",
    "Para más información sobre servicios gestionados, consulta la [Documentación de Google Cloud Serverless](https://cloud.google.com/serverless)."
   ]
  },
  {
   "cell_type": "markdown",
   "id": "6f54d528",
   "metadata": {},
   "source": [
    "## 📨 Introducción a Pub/Sub\n",
    "\n",
    "**Pub/Sub** (Publisher/Subscriber) es un servicio de mensajería gestionado de Google Cloud que permite a diferentes aplicaciones o componentes comunicarse de forma asíncrona a través de mensajes.\n",
    "\n",
    "### Cómo funciona\n",
    "- **Publisher (publicador)**: Envía mensajes a un **tema** (topic).\n",
    "- **Subscriber (suscriptor)**: Recibe mensajes al suscribirse al tema.\n",
    "\n",
    "### Ejemplo contable\n",
    "Un sistema de ventas publica un mensaje en un tema de **Pub/Sub** cada vez que se realiza una transacción. El sistema contable, suscrito a ese tema, recibe el mensaje y registra la transacción en los libros contables automáticamente.\n",
    "\n",
    "💡 **Beneficio empresarial**: **Pub/Sub** permite integrar sistemas de forma desacoplada, lo que mejora la escalabilidad y reduce la dependencia entre aplicaciones, ideal para procesos como la conciliación bancaria.\n",
    "\n",
    "Para más información, consulta la [Documentación de Google Cloud Pub/Sub](https://cloud.google.com/pubsub/docs)."
   ]
  },
  {
   "cell_type": "markdown",
   "id": "455ceefc",
   "metadata": {},
   "source": [
    "## 🧪 Contenido del Módulo\n",
    "\n",
    "El módulo incluye:\n",
    "- Un laboratorio práctico con **Pub/Sub** para aprender a configurar y usar el servicio.\n",
    "- Un cuestionario final para evaluar los conocimientos adquiridos.\n",
    "- Un resumen de los temas cubiertos para consolidar el aprendizaje.\n",
    "\n",
    "💡 **Contexto empresarial**: Estas actividades prácticas te ayudarán a implementar soluciones de mensajería y APIs en escenarios reales, como la automatización de flujos de datos financieros."
   ]
  },
  {
   "cell_type": "markdown",
   "id": "3111e7dc",
   "metadata": {},
   "source": [
    "## 📘 Propósito de las APIs: Comunicación Eficiente entre Sistemas\n",
    "\n",
    "### ¿Por qué son útiles las APIs?\n",
    "Las APIs simplifican la comunicación entre sistemas al ocultar los detalles técnicos internos. Esto permite:\n",
    "- Integrar servicios complejos sin errores.\n",
    "- Mantener sistemas actualizados sin afectar a los usuarios.\n",
    "- Conectar aplicaciones diversas, como sistemas contables y plataformas de pago.\n",
    "\n",
    "### Ejemplo contable\n",
    "Una API puede conectar un sistema contable con una plataforma de pagos como Mercado Pago, permitiendo registrar transacciones automáticamente sin intervención manual.\n",
    "\n",
    "### Versionado de APIs\n",
    "Las APIs pueden tener múltiples versiones (por ejemplo, v1, v2) para introducir cambios sin interrumpir sistemas existentes. Esto asegura compatibilidad y estabilidad.\n",
    "\n",
    "💡 **Beneficio empresarial**: El versionado permite actualizar sistemas contables sin afectar integraciones existentes, como la conexión con plataformas tributarias.\n",
    "\n",
    "Para más información, consulta la [Documentación de Google Cloud APIs](https://cloud.google.com/apis)."
   ]
  },
  {
   "cell_type": "markdown",
   "id": "fb2cbb12",
   "metadata": {},
   "source": [
    "## 🌐 REST: Estilo Arquitectónico Popular para APIs\n",
    "\n",
    "**REST** (Representational State Transfer) es el estilo arquitectónico más común para diseñar APIs. Se basa en el protocolo HTTP, lo que lo hace escalable y compatible con diversos dispositivos.\n",
    "\n",
    "### Operaciones REST\n",
    "Las APIs REST usan métodos HTTP estándar:\n",
    "- **GET**: Obtener datos (por ejemplo, consultar el saldo de una cuenta).\n",
    "- **POST**: Crear datos (por ejemplo, registrar una nueva factura).\n",
    "- **PUT**: Actualizar datos (por ejemplo, corregir un importe en una factura).\n",
    "- **DELETE**: Eliminar datos (por ejemplo, anular una factura).\n",
    "\n",
    "### Características de REST\n",
    "- **Stateless (sin estado)**: Cada llamada es independiente, sin almacenar información entre solicitudes.\n",
    "- **Seguridad**: Usa protocolos como OAuth y tokens para autenticar y proteger datos.\n",
    "\n",
    "#### Ejemplo contable\n",
    "Una API REST puede permitir a un sistema contable consultar el saldo de una cuenta bancaria (GET) o registrar una nueva transacción (POST) de forma segura y escalable.\n",
    "\n",
    "💡 **Beneficio empresarial**: Las APIs REST son ideales para entornos empresariales porque permiten operaciones rápidas y seguras, esenciales para sistemas financieros.\n",
    "\n",
    "Para más información, consulta la [Documentación de Google Cloud REST APIs](https://cloud.google.com/apis/docs/rest)."
   ]
  },
  {
   "cell_type": "markdown",
   "id": "dfa2e850",
   "metadata": {},
   "source": [
    "## 🛠️ Consideraciones al Crear y Gestionar tu Propia API\n",
    "\n",
    "Si decides crear una API sin herramientas como **Cloud Endpoints** o **Apigee**, debes considerar:\n",
    "1. **Formato de la interfaz**: Documenta la API (por ejemplo, usando OpenAPI) para que otros desarrolladores la usen correctamente.\n",
    "2. **Autenticación**: Implementa métodos como OAuth para controlar el acceso.\n",
    "3. **Escalabilidad**: Asegúrate de que la API soporte un aumento en el número de usuarios.\n",
    "4. **Monitoreo**: Registra el uso, detecta errores y mide el rendimiento.\n",
    "\n",
    "### Ejemplo contable\n",
    "Una API para consultar datos financieros debe estar bien documentada y protegida para evitar accesos no autorizados, garantizando la seguridad de la información.\n",
    "\n",
    "💡 **Beneficio empresarial**: Una API bien diseñada reduce riesgos de seguridad y mejora la eficiencia al integrarse con sistemas externos, como plataformas de pago o tributación.\n",
    "\n",
    "Para más información, consulta la [Documentación de Google Cloud API Design](https://cloud.google.com/apis/design)."
   ]
  },
  {
   "cell_type": "markdown",
   "id": "8a55384a",
   "metadata": {},
   "source": [
    "## 📘 Plataforma Apigee API Management en Google Cloud\n",
    "\n",
    "**Apigee API Management** es una plataforma avanzada para desarrollar, proteger y monitorear APIs, con un enfoque en resolver problemas empresariales.\n",
    "\n",
    "### Características clave\n",
    "- **Limitación de tasas (rate limiting)**: Controla cuántas veces se accede a la API.\n",
    "- **Cupos**: Establece límites por usuario o aplicación.\n",
    "- **Analíticas**: Proporciona datos sobre el uso de la API.\n",
    "- **Proxies**: Crea espejos controlados de las APIs para mayor seguridad.\n",
    "\n",
    "### Aplicación a sistemas legados\n",
    "**Apigee** permite conectar sistemas antiguos con soluciones modernas sin necesidad de una migración completa. Por ejemplo, una empresa puede extraer el módulo de facturación de un sistema contable legado y convertirlo en un microservicio.\n",
    "\n",
    "#### Ejemplo contable\n",
    "Una empresa con un sistema contable de 20 años puede usar **Apigee** para crear un proxy que conecte el módulo de facturación con una aplicación móvil, modernizando el sistema de forma gradual.\n",
    "\n",
    "💡 **Beneficio empresarial**: **Apigee** reduce los costos y riesgos de modernizar sistemas contables, permitiendo una transición controlada a soluciones en la nube.\n",
    "\n",
    "Para más información, consulta la [Documentación de Apigee API Management](https://cloud.google.com/apigee/docs)."
   ]
  },
  {
   "cell_type": "markdown",
   "id": "e0640194",
   "metadata": {},
   "source": [
    "## 📨 Google Pub/Sub: Mensajería Asíncrona para la Ingesta de Datos\n",
    "\n",
    "**Google Pub/Sub** es un servicio de mensajería asíncrona diseñado para manejar arquitecturas distribuidas. Permite la transmisión eficiente de datos entre sistemas independientes.\n",
    "\n",
    "### Rol en la ingesta de datos\n",
    "La **ingesta de datos** es el proceso de recibir y preparar datos para su análisis o almacenamiento. **Pub/Sub** es ideal para manejar datos provenientes de múltiples fuentes en tiempo real.\n",
    "\n",
    "#### Ejemplo contable\n",
    "Un sistema de ventas envía datos de transacciones a un tema de **Pub/Sub**, y el sistema contable, suscrito al tema, registra las transacciones automáticamente en los libros.\n",
    "\n",
    "### Características técnicas\n",
    "- **Entrega al menos una vez**: Garantiza que los mensajes lleguen al menos una vez.\n",
    "- **Sin aprovisionamiento**: No requiere configurar servidores manualmente.\n",
    "- **API abierta**: Compatible con múltiples sistemas.\n",
    "- **Cifrado de extremo a extremo**: Garantiza la seguridad de los datos.\n",
    "\n",
    "### Arquitectura de Pub/Sub\n",
    "1. **Origen de datos**: Dispositivos o aplicaciones envían mensajes a un tema.\n",
    "2. **Recepción y difusión**: **Pub/Sub** almacena y distribuye los mensajes a los suscriptores.\n",
    "3. **Transformación**: Herramientas como **Dataflow** procesan los datos.\n",
    "4. **Almacenamiento y análisis**: Los datos se guardan en **BigQuery** o se visualizan con **Looker** o **Vertex AI**.\n",
    "\n",
    "#### Ejemplo aplicado: Recursos Humanos\n",
    "Cuando se agrega un nuevo empleado, un mensaje se publica en un tema de **Pub/Sub**. Sistemas como el de directorio, acceso o contabilidad se suscriben y actúan automáticamente (por ejemplo, creando cuentas o registrando el sueldo).\n",
    "\n",
    "💡 **Beneficio empresarial**: **Pub/Sub** permite automatizar flujos de datos, como la conciliación de transacciones o la gestión de nómina, mejorando la eficiencia y reduciendo errores manuales.\n",
    "\n",
    "Para más información, consulta la [Documentación de Google Cloud Pub/Sub](https://cloud.google.com/pubsub/docs)."
   ]
  },
  {
   "cell_type": "markdown",
   "id": "1a1fabdb",
   "metadata": {},
   "source": [
    "## 📊 Microservicios: Flexibilidad para Empresas\n",
    "\n",
    "**Microservicios** son componentes pequeños y especializados de una aplicación que realizan tareas específicas. En lugar de un sistema monolítico, los microservicios dividen las funciones en partes independientes.\n",
    "\n",
    "### Ejemplo contable\n",
    "Un sistema contable puede dividirse en microservicios:\n",
    "- Uno para emitir facturas.\n",
    "- Otro para registrar pagos.\n",
    "- Otro para calcular impuestos.\n",
    "\n",
    "💡 **Beneficio empresarial**: Los microservicios permiten actualizar sistemas contables de forma modular, reduciendo riesgos y facilitando la integración con herramientas modernas.\n",
    "\n",
    "Para más información, consulta la [Documentación de Google Cloud Microservices](https://cloud.google.com/architecture/microservices)."
   ]
  },
  {
   "cell_type": "markdown",
   "id": "0bc55adc",
   "metadata": {},
   "source": [
    "## 🚀 Conclusión\n",
    "\n",
    "Este módulo te ha introducido al poder de las **APIs**, herramientas como **Cloud Endpoints** y **Apigee**, y el sistema de mensajería **Pub/Sub**. Estas tecnologías permiten a las empresas integrar sistemas, automatizar procesos y manejar datos en tiempo real, lo que es esencial para áreas como la contabilidad y la gestión financiera.\n",
    "\n",
    "💡 **Beneficio empresarial**: Usar APIs y servicios gestionados como **Pub/Sub** mejora la eficiencia, reduce costos y permite a las empresas adaptarse rápidamente a las necesidades del mercado, como la integración con plataformas tributarias o el análisis de datos financieros.\n",
    "\n",
    "Para más información, consulta la [Documentación de Google Cloud](https://cloud.google.com/docs)."
   ]
  }
 ],
 "metadata": {
  "kernelspec": {
   "display_name": "Python 3 (ipykernel)",
   "language": "python",
   "name": "python3"
  },
  "language_info": {
   "codemirror_mode": {
    "name": "ipython",
    "version": 3
   },
   "file_extension": ".py",
   "mimetype": "text/x-python",
   "name": "python",
   "nbconvert_exporter": "python",
   "pygments_lexer": "ipython3",
   "version": "3.9.21"
  }
 },
 "nbformat": 4,
 "nbformat_minor": 5
}
