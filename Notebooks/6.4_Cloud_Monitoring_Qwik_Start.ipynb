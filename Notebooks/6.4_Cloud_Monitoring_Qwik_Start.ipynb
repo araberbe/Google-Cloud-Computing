{
 "cells": [
  {
   "cell_type": "markdown",
   "id": "a1b2c3d4",
   "metadata": {},
   "source": [
    "# 📌 Cloud Monitoring Qwik Start\n",
    "\n",
    "## Introducción\n",
    "\n",
    "**Cloud Monitoring** es una herramienta poderosa de Google Cloud que permite supervisar el rendimiento, la disponibilidad y el estado general de las aplicaciones y servicios en la nube. Esta solución recopila datos de múltiples fuentes, como **Google Cloud Platform (GCP)**, **Amazon Web Services (AWS)**, pruebas de disponibilidad (**uptime probes**), instrumentación de aplicaciones, y servicios como **Apache**, **NGINX**, o **Elasticsearch**. Con estos datos, **Cloud Monitoring** genera paneles visuales (**dashboards**), gráficos (**charts**) y alertas (**alerts**) que facilitan la interpretación y la toma de decisiones rápidas.\n",
    "\n",
    "Además, **Cloud Monitoring** se integra con plataformas de comunicación como **Slack** o **PagerDuty**, lo que mejora la colaboración en equipo y la respuesta ante incidentes. Esta capacidad es esencial para empresas que buscan mantener la continuidad operativa y optimizar procesos críticos, como la gestión de servidores que alojan sistemas contables o de inventario.\n",
    "\n",
    "💡 **Beneficio empresarial**: **Cloud Monitoring** ayuda a las empresas a reducir tiempos de inactividad, mejorar la eficiencia operativa y minimizar riesgos al identificar problemas en tiempo real, lo que es crucial para sistemas que gestionan datos financieros o transacciones comerciales.\n",
    "\n",
    "Para más información sobre Cloud Monitoring, consulta la [Documentación oficial de Google Cloud Monitoring](https://cloud.google.com/monitoring/docs)."
   ]
  },
  {
   "cell_type": "markdown",
   "id": "b3c4d5e6",
   "metadata": {},
   "source": [
    "## 🚀 Objetivos del laboratorio\n",
    "\n",
    "- Supervisar una instancia de máquina virtual (**VM**) utilizando **Cloud Monitoring**.\n",
    "- Instalar agentes de monitoreo y registro (**logging**).\n",
    "- Crear verificaciones de disponibilidad (**uptime checks**).\n",
    "- Configurar políticas de alerta para notificar problemas.\n",
    "- Crear tableros personalizados con gráficos para visualizar métricas.\n",
    "- Visualizar registros (**logs**) en **Logs Explorer**.\n",
    "- Interpretar resultados y alertas generadas.\n",
    "\n",
    "💡 **Contexto empresarial**: Estas habilidades permiten a las empresas monitorear sistemas críticos, como servidores que alojan aplicaciones contables, garantizando alta disponibilidad y respuesta rápida ante incidentes, lo que reduce costos asociados a interrupciones."
   ]
  },
  {
   "cell_type": "markdown",
   "id": "c5d6e7f8",
   "metadata": {},
   "source": [
    "## 🚀 Tarea 1: Configurar la región y zona de trabajo\n",
    "\n",
    "Las instancias de máquinas virtuales (**VM**) en **Google Cloud** se alojan en regiones y zonas específicas. Una **región** es una ubicación geográfica (por ejemplo, `us-central1`), y cada región contiene **zonas** (por ejemplo, `us-central1-a`). Configurar correctamente la región y zona asegura que los recursos estén optimizados para latencia y disponibilidad.\n",
    "\n",
    "### Pasos\n",
    "1. Abre **Cloud Shell** desde la **Consola de Google Cloud**.\n",
    "2. Ejecuta los siguientes comandos para configurar la región y zona:"
   ]
  },
  {
   "cell_type": "code",
   "execution_count": null,
   "id": "d7e8f9a0",
   "metadata": {},
   "outputs": [],
   "source": [
    "gcloud config set compute/zone \"ZONE\"\n",
    "export ZONE=$(gcloud config get compute/zone)\n",
    "gcloud config set compute/region \"REGION\"\n",
    "export REGION=$(gcloud config get compute/region)"
   ]
  },
  {
   "cell_type": "markdown",
   "id": "e9f0a1b2",
   "metadata": {},
   "source": [
    "**Explicación de los comandos**:\n",
    "- `gcloud config set compute/zone \"ZONE\"`: Establece la zona predeterminada para las operaciones en **Compute Engine**.\n",
    "- `export ZONE=$(...)`: Guarda la zona en una variable de entorno para facilitar su uso en comandos posteriores.\n",
    "- `gcloud config set compute/region \"REGION\"`: Define la región predeterminada.\n",
    "- `export REGION=$(...)`: Almacena la región en una variable de entorno.\n",
    "\n",
    "💡 **Contexto empresarial**: Configurar regiones y zonas permite optimizar la ubicación de los servidores, reduciendo la latencia para usuarios y minimizando costos al elegir regiones con precios competitivos.\n",
    "\n",
    "Para más información sobre regiones y zonas, consulta la [Documentación de Google Cloud Compute Engine](https://cloud.google.com/compute/docs/regions-zones)."
   ]
  },
  {
   "cell_type": "markdown",
   "id": "f1a2b3c4",
   "metadata": {},
   "source": [
    "## 🚀 Tarea 2: Crear una instancia en Compute Engine\n",
    "\n",
    "En esta tarea, crearás una máquina virtual (**VM**) en **Compute Engine** para alojar una aplicación web con **Apache2** y **PHP**.\n",
    "\n",
    "### Pasos\n",
    "1. Desde el menú de navegación, selecciona **Compute Engine** > **VM Instances**.\n",
    "2. Haz clic en **Create instance**.\n",
    "3. Configura los siguientes parámetros:\n",
    "   - **Nombre**: `lamp-1-vm`\n",
    "   - **Región y Zona**: Usa las configuradas previamente.\n",
    "   - **Serie**: E2\n",
    "   - **Tipo de máquina**: `e2-medium`\n",
    "   - **Sistema operativo**: Debian GNU/Linux 12 (bookworm)\n",
    "   - **Configuración de red**: Habilita **Allow HTTP traffic**\n",
    "4. Haz clic en **Create**.\n",
    "5. Espera hasta que aparezca un check verde, indicando que la instancia está lista.\n",
    "\n",
    "💡 **Contexto empresarial**: Crear una **VM** permite alojar aplicaciones empresariales, como sistemas de gestión de inventario o contabilidad, con flexibilidad para escalar recursos según la demanda.\n",
    "\n",
    "Para más información sobre Compute Engine, consulta la [Documentación de Google Cloud Compute Engine](https://cloud.google.com/compute/docs)."
   ]
  },
  {
   "cell_type": "markdown",
   "id": "a3b4c5d6",
   "metadata": {},
   "source": [
    "## 🚀 Tarea 3: Instalar Apache2 y PHP en la VM\n",
    "\n",
    "Instalarás **Apache2** y **PHP** en la máquina virtual para habilitar una aplicación web básica.\n",
    "\n",
    "### Pasos\n",
    "1. Accede a la instancia mediante **SSH** desde la consola.\n",
    "2. Ejecuta los siguientes comandos:"
   ]
  },
  {
   "cell_type": "code",
   "execution_count": null,
   "id": "b5c6d7e8",
   "metadata": {},
   "outputs": [],
   "source": [
    "sudo apt-get update\n",
    "sudo apt-get install apache2 php7.0\n",
    "sudo service apache2 restart"
   ]
  },
  {
   "cell_type": "markdown",
   "id": "c7d8e9a0",
   "metadata": {},
   "source": [
    "**Explicación de los comandos**:\n",
    "- `sudo apt-get update`: Actualiza la lista de paquetes disponibles en el sistema.\n",
    "- `sudo apt-get install apache2 php7.0`: Instala el servidor web **Apache2** y **PHP 7.0**.\n",
    "- `sudo service apache2 restart`: Reinicia el servidor **Apache2** para aplicar los cambios.\n",
    "\n",
    "**Nota**: Si la instalación de **PHP 7.0** falla, usa `php5` como alternativa.\n",
    "\n",
    "3. Verifica el sitio accediendo a la **IP externa** de la **VM** en un navegador.\n",
    "\n",
    "💡 **Contexto empresarial**: Alojar aplicaciones web en **Apache2** permite a las empresas ofrecer interfaces para sistemas internos, como portales de empleados o dashboards contables, con alta disponibilidad.\n",
    "\n",
    "Para más información sobre Apache y PHP, consulta la [Documentación de Google Cloud Compute Engine](https://cloud.google.com/compute/docs)."
   ]
  },
  {
   "cell_type": "markdown",
   "id": "d9e0a1b2",
   "metadata": {},
   "source": [
    "## 🚀 Tarea 4: Crear un ámbito de métricas (Metrics Scope)\n",
    "\n",
    "Crearás un ámbito de métricas para habilitar **Cloud Monitoring** en el proyecto.\n",
    "\n",
    "### Pasos\n",
    "1. Desde el menú de navegación, selecciona **Observability** > **Monitoring**.\n",
    "2. Esto activa el proyecto de monitoreo y genera un entorno gratuito temporal.\n",
    "\n",
    "💡 **Contexto empresarial**: Habilitar **Cloud Monitoring** permite supervisar recursos críticos, como servidores que alojan sistemas contables, asegurando que estén disponibles y funcionando correctamente.\n",
    "\n",
    "Para más información, consulta la [Documentación de Google Cloud Monitoring](https://cloud.google.com/monitoring/docs)."
   ]
  },
  {
   "cell_type": "markdown",
   "id": "e1a2b3c4",
   "metadata": {},
   "source": [
    "## 🚀 Tarea 5: Instalar agentes de monitoreo y logging\n",
    "\n",
    "Instalarás agentes para recopilar métricas y registros (**logs**) de la **VM**.\n",
    "\n",
    "### Pasos\n",
    "#### a) Agente de Monitoreo\n",
    "1. Ejecuta los siguientes comandos en **Cloud Shell**:"
   ]
  },
  {
   "cell_type": "code",
   "execution_count": null,
   "id": "f3c4d5e6",
   "metadata": {},
   "outputs": [],
   "source": [
    "curl -sSO https://dl.google.com/cloudagents/add-google-cloud-ops-agent-repo.sh\n",
    "sudo bash add-google-cloud-ops-agent-repo.sh --also-install"
   ]
  },
  {
   "cell_type": "markdown",
   "id": "a5d6e7f8",
   "metadata": {},
   "source": [
    "**Explicación de los comandos**:\n",
    "- `curl -sSO ...`: Descarga el script para instalar el agente de **Cloud Monitoring**.\n",
    "- `sudo bash ... --also-install`: Ejecuta el script e instala el agente, que recopila métricas como **CPU**, disco, red y procesos.\n",
    "\n",
    "#### b) Agente de Logging\n",
    "1. Verifica el estado del agente:"
   ]
  },
  {
   "cell_type": "code",
   "execution_count": null,
   "id": "b7e8f9a0",
   "metadata": {},
   "outputs": [],
   "source": [
    "sudo systemctl status google-cloud-ops-agent\"*\""
   ]
  },
  {
   "cell_type": "markdown",
   "id": "c9e0a1b2",
   "metadata": {},
   "source": [
    "**Nota**: Presiona `q` para salir del visor de estado.\n",
    "\n",
    "2. Actualiza los paquetes:"
   ]
  },
  {
   "cell_type": "code",
   "execution_count": null,
   "id": "d1a2b3c4",
   "metadata": {},
   "outputs": [],
   "source": [
    "sudo apt-get update"
   ]
  },
  {
   "cell_type": "markdown",
   "id": "e3c4d5e6",
   "metadata": {},
   "source": [
    "**Explicación**:\n",
    "- El agente de **logging** registra eventos del sistema y aplicaciones, que luego pueden visualizarse en **Logs Explorer**.\n",
    "\n",
    "💡 **Contexto empresarial**: Los agentes de monitoreo y logging permiten rastrear el rendimiento y los eventos de los sistemas, lo que es clave para auditorías y para garantizar la continuidad de procesos críticos, como transacciones financieras.\n",
    "\n",
    "Para más información, consulta la [Documentación de Google Cloud Operations](https://cloud.google.com/stackdriver/docs)."
   ]
  },
  {
   "cell_type": "markdown",
   "id": "f5d6e7f8",
   "metadata": {},
   "source": [
    "## 🚀 Tarea 6: Crear una verificación de disponibilidad (Uptime Check)\n",
    "\n",
    "Configurarás una verificación de disponibilidad (**uptime check**) para monitorear la accesibilidad de la **VM**.\n",
    "\n",
    "### Pasos\n",
    "1. Desde **Monitoring** > **Uptime checks**, haz clic en **Create Uptime Check**.\n",
    "2. Configura lo siguiente:\n",
    "   - **Protocolo**: HTTP\n",
    "   - **Tipo de recurso**: Instance\n",
    "   - **Instancia**: `lamp-1-vm`\n",
    "   - **Frecuencia**: 1 minuto\n",
    "3. Haz clic en **Test** y luego en **Create**.\n",
    "\n",
    "💡 **Contexto empresarial**: Las verificaciones de disponibilidad aseguran que las aplicaciones, como sistemas de facturación o portales de clientes, estén accesibles, minimizando pérdidas por tiempos de inactividad.\n",
    "\n",
    "Para más información, consulta la [Documentación de Google Cloud Uptime Checks](https://cloud.google.com/monitoring/uptime-checks)."
   ]
  },
  {
   "cell_type": "markdown",
   "id": "a7e8f9a0",
   "metadata": {},
   "source": [
    "## 🚀 Tarea 7: Crear una política de alerta\n",
    "\n",
    "Crearás una política de alerta para notificar cuando el tráfico de red supere un umbral.\n",
    "\n",
    "### Pasos\n",
    "1. Desde **Monitoring** > **Alerting**, haz clic en **+ Create Policy**.\n",
    "2. Selecciona la métrica: **Network traffic** > **VM instance** > **Interface**.\n",
    "3. Configura:\n",
    "   - **Threshold**: Por encima de 500.\n",
    "   - **Retest window**: 1 minuto.\n",
    "4. Agrega un canal de notificación:\n",
    "   - Selecciona **Email** e ingresa tu dirección personal.\n",
    "   - Haz clic en **Save**.\n",
    "5. Asigna un nombre: `Inbound Traffic Alert`.\n",
    "6. Haz clic en **Create Policy**.\n",
    "\n",
    "💡 **Contexto empresarial**: Las políticas de alerta permiten a los equipos de TI reaccionar rápidamente ante problemas, como picos de tráfico que podrían afectar sistemas contables, asegurando la continuidad del negocio.\n",
    "\n",
    "Para más información, consulta la [Documentación de Google Cloud Alerting](https://cloud.google.com/monitoring/alerts)."
   ]
  },
  {
   "cell_type": "markdown",
   "id": "b9e0a1b2",
   "metadata": {},
   "source": [
    "## 🚀 Tarea 8: Crear un dashboard y gráficos\n",
    "\n",
    "Crearás un tablero personalizado (**dashboard**) con gráficos para visualizar métricas clave.\n",
    "\n",
    "### Pasos\n",
    "1. Desde **Monitoring** > **Dashboards**, haz clic en **+Create Custom Dashboard**.\n",
    "2. Asigna el nombre: `Cloud Monitoring LAMP Qwik Start Dashboard`.\n",
    "3. Agrega gráficos:\n",
    "   - **Gráfico 1: CPU Load**\n",
    "     - Haz clic en **+Add Widget** > **Line**.\n",
    "     - Selecciona la métrica: **CPU load (1m)**.\n",
    "   - **Gráfico 2: Received Packets**\n",
    "     - Haz clic en **+Add Widget** > **Line**.\n",
    "     - Selecciona la métrica: **Received packets**.\n",
    "\n",
    "💡 **Contexto empresarial**: Los dashboards personalizados permiten a los equipos visualizar métricas clave, como el uso de CPU, para optimizar recursos y reducir costos operativos en sistemas empresariales.\n",
    "\n",
    "Para más información, consulta la [Documentación de Google Cloud Dashboards](https://cloud.google.com/monitoring/dashboards)."
   ]
  },
  {
   "cell_type": "markdown",
   "id": "c1a2b3c4",
   "metadata": {},
   "source": [
    "## 🚀 Tarea 9: Ver logs desde Logs Explorer\n",
    "\n",
    "Visualizarás los registros (**logs**) generados por la **VM**.\n",
    "\n",
    "### Pasos\n",
    "1. Desde el menú de navegación, selecciona **Logging** > **Logs Explorer**.\n",
    "2. Aplica el filtro:\n",
    "   - **Recurso**: VM Instance > `lamp-1-vm`\n",
    "3. Observa los eventos generados al iniciar o detener la instancia desde **Compute Engine**.\n",
    "\n",
    "💡 **Contexto empresarial**: Los registros son esenciales para auditorías y para rastrear eventos críticos, como inicios de sesión en sistemas contables, garantizando transparencia y cumplimiento normativo.\n",
    "\n",
    "Para más información, consulta la [Documentación de Google Cloud Logging](https://cloud.google.com/logging/docs)."
   ]
  },
  {
   "cell_type": "markdown",
   "id": "d3c4d5e6",
   "metadata": {},
   "source": [
    "## 🚀 Tarea 10: Verificar resultados del uptime check y alertas\n",
    "\n",
    "Verificarás el estado de las verificaciones de disponibilidad y las alertas generadas.\n",
    "\n",
    "### Pasos\n",
    "1. Desde **Monitoring** > **Uptime checks**, selecciona **Lamp Uptime Check**.\n",
    "2. Verifica si las regiones están activas.\n",
    "3. Desde **Monitoring** > **Alerting** > **Incidentes**, revisa las alertas activas.\n",
    "4. Revisa tu correo electrónico para verificar las notificaciones generadas.\n",
    "5. **Nota**: Elimina el canal de notificación al finalizar para evitar correos no deseados.\n",
    "\n",
    "💡 **Contexto empresarial**: Verificar el estado de las alertas y la disponibilidad asegura que los sistemas críticos, como los de procesamiento de pagos, estén siempre operativos, reduciendo riesgos financieros.\n",
    "\n",
    "Para más información, consulta la [Documentación de Google Cloud Monitoring](https://cloud.google.com/monitoring/docs)."
   ]
  },
  {
   "cell_type": "markdown",
   "id": "e5d6e7f8",
   "metadata": {},
   "source": [
    "## 🚀 Conclusión\n",
    "\n",
    "Este laboratorio te ha permitido configurar y supervisar una máquina virtual (**VM**) utilizando **Cloud Monitoring**, desde la creación de instancias hasta la visualización de métricas y registros. Estas habilidades son fundamentales para garantizar la disponibilidad y el rendimiento de aplicaciones empresariales, como sistemas contables o de gestión de clientes, en la nube.\n",
    "\n",
    "💡 **Beneficio empresarial**: **Cloud Monitoring** permite a las empresas optimizar recursos, reducir costos operativos y responder rápidamente a incidentes, asegurando la continuidad de procesos críticos y mejorando la toma de decisiones basada en datos.\n",
    "\n",
    "Para más información, consulta la [Documentación de Google Cloud Monitoring](https://cloud.google.com/monitoring/docs)."
   ]
  }
 ],
 "metadata": {
  "kernelspec": {
   "display_name": "Bash",
   "language": "bash",
   "name": "bash"
  },
  "language_info": {
   "codemirror_mode": "shell",
   "file_extension": ".sh",
   "mimetype": "text/x-sh",
   "name": "bash"
  },
  "nbformat": 4,
  "nbformat_minor": 5
 },
 "nbformat": 4,
 "nbformat_minor": 5
}
